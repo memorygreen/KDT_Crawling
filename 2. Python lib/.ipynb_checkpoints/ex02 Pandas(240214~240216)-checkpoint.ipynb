{
 "cells": [
  {
   "cell_type": "markdown",
   "id": "be633572",
   "metadata": {},
   "source": [
    "#### 0. pandas 패키지 import"
   ]
  },
  {
   "cell_type": "code",
   "execution_count": 46,
   "id": "b07f716b",
   "metadata": {},
   "outputs": [],
   "source": [
    "import pandas as pd"
   ]
  },
  {
   "cell_type": "code",
   "execution_count": 3,
   "id": "170b6cea",
   "metadata": {},
   "outputs": [],
   "source": [
    "# pandas -> 표 형태의 데이터를 다루는데 특화된 도구\n",
    "# 데이터를 색인하는 index 개념을 행과 열에 따라 다른 명칭을 부여함\n",
    "# 행을 색인하는 인덱스 -> index\n",
    "# 열을 색인하는 인덱스 -> columns\n",
    "# 1차원 데이터를 표현하는 클래스 -> Series\n",
    "# 2차원 데이터를 표현하는 클래스 -> DataFrame\n",
    "\n"
   ]
  },
  {
   "cell_type": "markdown",
   "id": "f39a2634",
   "metadata": {},
   "source": [
    "#### 1. Series 생성"
   ]
  },
  {
   "cell_type": "code",
   "execution_count": 4,
   "id": "fa680c5b",
   "metadata": {},
   "outputs": [
    {
     "data": {
      "text/plain": [
       "0    179\n",
       "1    165\n",
       "2    140\n",
       "3    158\n",
       "4    192\n",
       "dtype: int64"
      ]
     },
     "execution_count": 4,
     "metadata": {},
     "output_type": "execute_result"
    }
   ],
   "source": [
    "# Series 생성\n",
    "h = pd.Series([179, 165, 140, 158, 192])\n",
    "h\n",
    "#출력:\n",
    "# 0    179\n",
    "# 1    165\n",
    "# 2    140\n",
    "# 3    158\n",
    "# 4    192\n",
    "# dtype: int64"
   ]
  },
  {
   "cell_type": "code",
   "execution_count": 5,
   "id": "29fdf2fc",
   "metadata": {
    "scrolled": true
   },
   "outputs": [
    {
     "data": {
      "text/plain": [
       "선영표    60\n",
       "정봉균    58\n",
       "황해도    81\n",
       "박병관    77\n",
       "정형     47\n",
       "dtype: int64"
      ]
     },
     "execution_count": 5,
     "metadata": {},
     "output_type": "execute_result"
    }
   ],
   "source": [
    "#글자 인덱스 부여해서  Series 생성\n",
    "w = pd.Series([60,58,81,77,47], index = [\"선영표\",\"정봉균\",\"황해도\",\n",
    "                                        \"박병관\", \"정형\"])\n",
    "w\n",
    "#출력:\n",
    "# 선영표    60\n",
    "# 정봉균    58\n",
    "# 황해도    81\n",
    "# 박병관    77\n",
    "# 정형     47\n",
    "# dtype: int64"
   ]
  },
  {
   "cell_type": "code",
   "execution_count": 6,
   "id": "82d2e7bd",
   "metadata": {
    "scrolled": true
   },
   "outputs": [
    {
     "data": {
      "text/plain": [
       "선영표    60\n",
       "정봉균    58\n",
       "황해도    81\n",
       "박병관    77\n",
       "정형     47\n",
       "Name: 몸무게, dtype: int64"
      ]
     },
     "execution_count": 6,
     "metadata": {},
     "output_type": "execute_result"
    }
   ],
   "source": [
    "# 이름을 부여해서 Series 생성\n",
    "w = pd.Series([60,58,81,77,47], index = [\"선영표\",\"정봉균\",\"황해도\",\n",
    "                                        \"박병관\", \"정형\"], name=\"몸무게\")\n",
    "w\n",
    "#출력:\n",
    "# 선영표    60\n",
    "# 정봉균    58\n",
    "# 황해도    81\n",
    "# 박병관    77\n",
    "# 정형     47\n",
    "# Name: 몸무게, dtype: int64"
   ]
  },
  {
   "cell_type": "code",
   "execution_count": 7,
   "id": "5013657c",
   "metadata": {
    "scrolled": false
   },
   "outputs": [
    {
     "data": {
      "text/plain": [
       "(5,)"
      ]
     },
     "metadata": {},
     "output_type": "display_data"
    },
    {
     "data": {
      "text/plain": [
       "array([60, 58, 81, 77, 47], dtype=int64)"
      ]
     },
     "metadata": {},
     "output_type": "display_data"
    },
    {
     "data": {
      "text/plain": [
       "Index(['선영표', '정봉균', '황해도', '박병관', '정형'], dtype='object')"
      ]
     },
     "metadata": {},
     "output_type": "display_data"
    },
    {
     "data": {
      "text/plain": [
       "dtype('int64')"
      ]
     },
     "metadata": {},
     "output_type": "display_data"
    }
   ],
   "source": [
    "# 속성 활용하기\n",
    "display(w.shape) # 모양 확인 #출력:(5,)\n",
    "display(w.values) #값을 꺼내고 싶은 경우  #출력:array([60, 58, 81, 77, 47], dtype=int64)\n",
    "display(w.index) #인덱스만 꺼내고 싶은 경우 #출력:Index(['선영표', '정봉균', '황해도', '박병관', '정형'], dtype='object')\n",
    "display(w.dtype) #데이터 타입을 알고 싶은 경우 #출력:dtype('int64')"
   ]
  },
  {
   "cell_type": "code",
   "execution_count": 8,
   "id": "3076be36",
   "metadata": {},
   "outputs": [
    {
     "data": {
      "text/plain": [
       "0     NaN\n",
       "1     NaN\n",
       "2     NaN\n",
       "3     NaN\n",
       "4     NaN\n",
       "박병관   NaN\n",
       "선영표   NaN\n",
       "정봉균   NaN\n",
       "정형    NaN\n",
       "황해도   NaN\n",
       "dtype: float64"
      ]
     },
     "execution_count": 8,
     "metadata": {},
     "output_type": "execute_result"
    }
   ],
   "source": [
    "#연산->같은 인덱스끼리 요소별 연산지원\n",
    "# 같은 인덱스가 없는 경우 연산할 수 없어 NaN 발생\n",
    "w / (h ** 2)\n",
    "#출력:\n",
    "# 0     NaN\n",
    "# 1     NaN\n",
    "# 2     NaN\n",
    "# 3     NaN\n",
    "# 4     NaN\n",
    "# 박병관   NaN\n",
    "# 선영표   NaN\n",
    "# 정봉균   NaN\n",
    "# 정형    NaN\n",
    "# 황해도   NaN\n",
    "# dtype: float64"
   ]
  },
  {
   "cell_type": "code",
   "execution_count": 9,
   "id": "785497ac",
   "metadata": {
    "scrolled": true
   },
   "outputs": [
    {
     "data": {
      "text/plain": [
       "선영표    179\n",
       "정봉균    165\n",
       "황해도    140\n",
       "박병관    158\n",
       "정형     192\n",
       "dtype: int64"
      ]
     },
     "execution_count": 9,
     "metadata": {},
     "output_type": "execute_result"
    }
   ],
   "source": [
    "#키 데이터(h)에 인덱스를 부여\n",
    "h.index = [\"선영표\",\"정봉균\",\"황해도\",\"박병관\", \"정형\"]\n",
    "#자 : 이미 생성된 시리즈 객체면 속성으로 접근\n",
    "\n",
    "h\n",
    "\n",
    "#출력:\n",
    "# 선영표    179\n",
    "# 정봉균    165\n",
    "# 황해도    140\n",
    "# 박병관    158\n",
    "# 정형     192\n",
    "# dtype: int64"
   ]
  },
  {
   "cell_type": "code",
   "execution_count": 10,
   "id": "7f979f7a",
   "metadata": {},
   "outputs": [
    {
     "data": {
      "text/plain": [
       "선영표    18.726007\n",
       "정봉균    21.303949\n",
       "황해도    41.326531\n",
       "박병관    30.844416\n",
       "정형     12.749566\n",
       "dtype: float64"
      ]
     },
     "execution_count": 10,
     "metadata": {},
     "output_type": "execute_result"
    }
   ],
   "source": [
    "# cm-> m 단위로 변경 후 계산\n",
    "w / ((h/100) ** 2)\n",
    "#출력:\n",
    "# 선영표    18.726007\n",
    "# 정봉균    21.303949\n",
    "# 황해도    41.326531\n",
    "# 박병관    30.844416\n",
    "# 정형     12.749566\n",
    "# dtype: float64"
   ]
  },
  {
   "cell_type": "code",
   "execution_count": 11,
   "id": "1286621d",
   "metadata": {
    "scrolled": false
   },
   "outputs": [
    {
     "data": {
      "text/plain": [
       "선영표    1.79\n",
       "정봉균    1.65\n",
       "황해도    1.40\n",
       "박병관    1.58\n",
       "정형     1.92\n",
       "dtype: float64"
      ]
     },
     "execution_count": 11,
     "metadata": {},
     "output_type": "execute_result"
    }
   ],
   "source": [
    "h/100\n",
    "#출력\n",
    "# 선영표    1.79\n",
    "# 정봉균    1.65\n",
    "# 황해도    1.40\n",
    "# 박병관    1.58\n",
    "# 정형     1.92\n",
    "# dtype: float64"
   ]
  },
  {
   "cell_type": "code",
   "execution_count": 12,
   "id": "bc65e371",
   "metadata": {
    "scrolled": true
   },
   "outputs": [
    {
     "data": {
      "text/plain": [
       "179"
      ]
     },
     "metadata": {},
     "output_type": "display_data"
    },
    {
     "data": {
      "text/plain": [
       "179"
      ]
     },
     "metadata": {},
     "output_type": "display_data"
    },
    {
     "data": {
      "text/plain": [
       "선영표    179\n",
       "정봉균    165\n",
       "dtype: int64"
      ]
     },
     "metadata": {},
     "output_type": "display_data"
    },
    {
     "data": {
      "text/plain": [
       "선영표    179\n",
       "박병관    158\n",
       "dtype: int64"
      ]
     },
     "metadata": {},
     "output_type": "display_data"
    },
    {
     "data": {
      "text/plain": [
       "선영표    60\n",
       "정봉균    58\n",
       "황해도    81\n",
       "박병관    77\n",
       "Name: 몸무게, dtype: int64"
      ]
     },
     "metadata": {},
     "output_type": "display_data"
    },
    {
     "data": {
      "text/plain": [
       "정봉균    58\n",
       "황해도    81\n",
       "박병관    77\n",
       "Name: 몸무게, dtype: int64"
      ]
     },
     "metadata": {},
     "output_type": "display_data"
    }
   ],
   "source": [
    "# 인덱싱 & 슬라이싱\n",
    "display(h[\"선영표\"]) #출력 : 179\n",
    "display(h[0]) #출력 : 179\n",
    "display(h[[\"선영표\",\"정봉균\"]])\n",
    "#출력:\n",
    "# 선영표    179\n",
    "# 정봉균    165\n",
    "# dtype: int64\n",
    "display(h[[0,3]])\n",
    "#출력:\n",
    "# 선영표    179\n",
    "# 박병관    158\n",
    "# dtype: int64\n",
    "\n",
    "\n",
    "\n",
    "#자: 글자 슬라이싱도 가능\n",
    "display(w[\"선영표\":\"박병관\"]) #글자 슬라이싱은 끝 인덱싱을 포함\n",
    "#출력:\n",
    "# 선영표    60\n",
    "# 정봉균    58\n",
    "# 황해도    81\n",
    "# 박병관    77\n",
    "# Name: 몸무게, dtype: int64\n",
    "\n",
    "#슬라이싱\n",
    "display(w[1:4])# 숫자 슬라이싱은 끝 인덱스 직전까지 잘라온다\n",
    "#출력:\n",
    "# 정봉균    58\n",
    "# 황해도    81\n",
    "# 박병관    77\n",
    "# Name: 몸무게, dtype: int64"
   ]
  },
  {
   "cell_type": "code",
   "execution_count": 13,
   "id": "ecadd626",
   "metadata": {},
   "outputs": [
    {
     "data": {
      "text/plain": [
       "박병관    79\n",
       "정봉균    57\n",
       "dtype: int64"
      ]
     },
     "execution_count": 13,
     "metadata": {},
     "output_type": "execute_result"
    }
   ],
   "source": [
    "# boolean 색인\n",
    "java = pd.Series({\"선영표\":90,\"박병관\":79,\"정봉균\":57,\"정형\":99})\n",
    "java\n",
    "#출력:\n",
    "# 선영표    90\n",
    "# 박병관    79\n",
    "# 정봉균    57\n",
    "# 정형     99\n",
    "# dtype: int64\n",
    "\n",
    "java[java <= 80]\n",
    "#출력:\n",
    "# 박병관    79\n",
    "# 정봉균    57\n",
    "# dtype: int64"
   ]
  },
  {
   "cell_type": "code",
   "execution_count": 14,
   "id": "daa2abc8",
   "metadata": {
    "scrolled": true
   },
   "outputs": [
    {
     "data": {
      "text/plain": [
       "선영표    90\n",
       "정봉균    57\n",
       "정형     99\n",
       "dtype: int64"
      ]
     },
     "execution_count": 14,
     "metadata": {},
     "output_type": "execute_result"
    }
   ],
   "source": [
    "#조건을 여러 개 넣고 싶은 경우 -> &(and), |(or) 연산자를 이용\n",
    "java[(java >= 90)|(java <= 60)]\n",
    "# 출력:\n",
    "# 선영표    90\n",
    "# 정봉균    57\n",
    "# 정형     99\n",
    "# dtype: int64    "
   ]
  },
  {
   "cell_type": "markdown",
   "id": "65dae41a",
   "metadata": {},
   "source": [
    "#### 2. DataFrame 사용하기"
   ]
  },
  {
   "cell_type": "code",
   "execution_count": 15,
   "id": "318ee6cc",
   "metadata": {
    "scrolled": true
   },
   "outputs": [
    {
     "data": {
      "text/html": [
       "<div>\n",
       "<style scoped>\n",
       "    .dataframe tbody tr th:only-of-type {\n",
       "        vertical-align: middle;\n",
       "    }\n",
       "\n",
       "    .dataframe tbody tr th {\n",
       "        vertical-align: top;\n",
       "    }\n",
       "\n",
       "    .dataframe thead th {\n",
       "        text-align: right;\n",
       "    }\n",
       "</style>\n",
       "<table border=\"1\" class=\"dataframe\">\n",
       "  <thead>\n",
       "    <tr style=\"text-align: right;\">\n",
       "      <th></th>\n",
       "      <th>0</th>\n",
       "      <th>1</th>\n",
       "      <th>2</th>\n",
       "    </tr>\n",
       "  </thead>\n",
       "  <tbody>\n",
       "    <tr>\n",
       "      <th>0</th>\n",
       "      <td>선영표</td>\n",
       "      <td>160</td>\n",
       "      <td>56</td>\n",
       "    </tr>\n",
       "    <tr>\n",
       "      <th>1</th>\n",
       "      <td>박병관</td>\n",
       "      <td>176</td>\n",
       "      <td>80</td>\n",
       "    </tr>\n",
       "    <tr>\n",
       "      <th>2</th>\n",
       "      <td>정봉균</td>\n",
       "      <td>179</td>\n",
       "      <td>76</td>\n",
       "    </tr>\n",
       "  </tbody>\n",
       "</table>\n",
       "</div>"
      ],
      "text/plain": [
       "     0    1   2\n",
       "0  선영표  160  56\n",
       "1  박병관  176  80\n",
       "2  정봉균  179  76"
      ]
     },
     "execution_count": 15,
     "metadata": {},
     "output_type": "execute_result"
    }
   ],
   "source": [
    "# 생성 \n",
    "df = pd.DataFrame([['선영표',160,56],\n",
    "                   ['박병관',176,80],\n",
    "                   ['정봉균',179, 76]])\n",
    "df"
   ]
  },
  {
   "cell_type": "code",
   "execution_count": 16,
   "id": "010e0bcf",
   "metadata": {},
   "outputs": [
    {
     "data": {
      "text/html": [
       "<div>\n",
       "<style scoped>\n",
       "    .dataframe tbody tr th:only-of-type {\n",
       "        vertical-align: middle;\n",
       "    }\n",
       "\n",
       "    .dataframe tbody tr th {\n",
       "        vertical-align: top;\n",
       "    }\n",
       "\n",
       "    .dataframe thead th {\n",
       "        text-align: right;\n",
       "    }\n",
       "</style>\n",
       "<table border=\"1\" class=\"dataframe\">\n",
       "  <thead>\n",
       "    <tr style=\"text-align: right;\">\n",
       "      <th></th>\n",
       "      <th>이름</th>\n",
       "      <th>키</th>\n",
       "      <th>몸무게</th>\n",
       "    </tr>\n",
       "  </thead>\n",
       "  <tbody>\n",
       "    <tr>\n",
       "      <th>1번</th>\n",
       "      <td>선영표</td>\n",
       "      <td>160</td>\n",
       "      <td>56</td>\n",
       "    </tr>\n",
       "    <tr>\n",
       "      <th>2번</th>\n",
       "      <td>박병관</td>\n",
       "      <td>176</td>\n",
       "      <td>80</td>\n",
       "    </tr>\n",
       "    <tr>\n",
       "      <th>3번</th>\n",
       "      <td>정봉균</td>\n",
       "      <td>179</td>\n",
       "      <td>76</td>\n",
       "    </tr>\n",
       "  </tbody>\n",
       "</table>\n",
       "</div>"
      ],
      "text/plain": [
       "     이름    키  몸무게\n",
       "1번  선영표  160   56\n",
       "2번  박병관  176   80\n",
       "3번  정봉균  179   76"
      ]
     },
     "execution_count": 16,
     "metadata": {},
     "output_type": "execute_result"
    }
   ],
   "source": [
    "#글자 인덱스를 부여해서 생성\n",
    "df = pd.DataFrame([['선영표',160,56],\n",
    "                   ['박병관',176,80],\n",
    "                   ['정봉균',179, 76]],\n",
    "                 index = ['1번','2번','3번'],\n",
    "                 columns=['이름','키','몸무게'])\n",
    "df\n"
   ]
  },
  {
   "cell_type": "code",
   "execution_count": 17,
   "id": "daa16e81",
   "metadata": {
    "scrolled": false
   },
   "outputs": [
    {
     "data": {
      "text/plain": [
       "(3, 3)"
      ]
     },
     "metadata": {},
     "output_type": "display_data"
    },
    {
     "data": {
      "text/plain": [
       "array([['선영표', 160, 56],\n",
       "       ['박병관', 176, 80],\n",
       "       ['정봉균', 179, 76]], dtype=object)"
      ]
     },
     "metadata": {},
     "output_type": "display_data"
    },
    {
     "data": {
      "text/plain": [
       "Index(['1번', '2번', '3번'], dtype='object')"
      ]
     },
     "metadata": {},
     "output_type": "display_data"
    },
    {
     "data": {
      "text/plain": [
       "Index(['이름', '키', '몸무게'], dtype='object')"
      ]
     },
     "metadata": {},
     "output_type": "display_data"
    },
    {
     "data": {
      "text/plain": [
       "이름     object\n",
       "키       int64\n",
       "몸무게     int64\n",
       "dtype: object"
      ]
     },
     "metadata": {},
     "output_type": "display_data"
    }
   ],
   "source": [
    "# 속성\n",
    "display(df.shape) # 모양 확인 #출력:(3, 3)\n",
    "display(df.values) # numpy 배열로 값만 추출\n",
    "#출력:\n",
    "# array([['선영표', 160, 56],\n",
    "#        ['박병관', 176, 80],\n",
    "#        ['정봉균', 179, 76]], dtype=object)\n",
    "display(df.index) #행인덱스 #출력:Index(['1번', '2번', '3번'], dtype='object')\n",
    "display(df.columns) #열인덱스 #출력:Index(['이름', '키', '몸무게'], dtype='object')\n",
    "display(df.dtypes) #각 열별로 데이터 타입 확인\n",
    "#출력:\n",
    "# 이름     object\n",
    "# 키       int64\n",
    "# 몸무게     int64\n",
    "# dtype: object"
   ]
  },
  {
   "cell_type": "code",
   "execution_count": 18,
   "id": "eec0e847",
   "metadata": {
    "scrolled": true
   },
   "outputs": [
    {
     "data": {
      "text/plain": [
       "1번    21.875000\n",
       "2번    25.826446\n",
       "3번    23.719609\n",
       "dtype: float64"
      ]
     },
     "execution_count": 18,
     "metadata": {},
     "output_type": "execute_result"
    }
   ],
   "source": [
    "# 연산 ->numpy 연산과 동일\n",
    "df['몸무게'] / ((df['키']/100)**2)\n",
    "#출력\n",
    "# 1번    21.875000\n",
    "# 2번    25.826446\n",
    "# 3번    23.719609\n",
    "# dtype: float64"
   ]
  },
  {
   "cell_type": "code",
   "execution_count": 19,
   "id": "a371995d",
   "metadata": {
    "scrolled": false
   },
   "outputs": [
    {
     "data": {
      "text/plain": [
       "1번    56\n",
       "2번    80\n",
       "3번    76\n",
       "Name: 몸무게, dtype: int64"
      ]
     },
     "metadata": {},
     "output_type": "display_data"
    },
    {
     "data": {
      "text/html": [
       "<div>\n",
       "<style scoped>\n",
       "    .dataframe tbody tr th:only-of-type {\n",
       "        vertical-align: middle;\n",
       "    }\n",
       "\n",
       "    .dataframe tbody tr th {\n",
       "        vertical-align: top;\n",
       "    }\n",
       "\n",
       "    .dataframe thead th {\n",
       "        text-align: right;\n",
       "    }\n",
       "</style>\n",
       "<table border=\"1\" class=\"dataframe\">\n",
       "  <thead>\n",
       "    <tr style=\"text-align: right;\">\n",
       "      <th></th>\n",
       "      <th>몸무게</th>\n",
       "      <th>키</th>\n",
       "    </tr>\n",
       "  </thead>\n",
       "  <tbody>\n",
       "    <tr>\n",
       "      <th>1번</th>\n",
       "      <td>56</td>\n",
       "      <td>160</td>\n",
       "    </tr>\n",
       "    <tr>\n",
       "      <th>2번</th>\n",
       "      <td>80</td>\n",
       "      <td>176</td>\n",
       "    </tr>\n",
       "    <tr>\n",
       "      <th>3번</th>\n",
       "      <td>76</td>\n",
       "      <td>179</td>\n",
       "    </tr>\n",
       "  </tbody>\n",
       "</table>\n",
       "</div>"
      ],
      "text/plain": [
       "    몸무게    키\n",
       "1번   56  160\n",
       "2번   80  176\n",
       "3번   76  179"
      ]
     },
     "metadata": {},
     "output_type": "display_data"
    }
   ],
   "source": [
    "#indexing &  slicing\n",
    "# 기본적으로 열 기준으로 색인하는 것을 우선시\n",
    "display(df['몸무게'])\n",
    "#출력\n",
    "# 1번    56\n",
    "# 2번    80\n",
    "# 3번    76\n",
    "# Name: 몸무게, dtype: int64\n",
    "\n",
    "\n",
    "display(df[['몸무게','키']])\n"
   ]
  },
  {
   "cell_type": "code",
   "execution_count": 22,
   "id": "5fa3c011",
   "metadata": {
    "scrolled": true
   },
   "outputs": [
    {
     "data": {
      "text/html": [
       "<div>\n",
       "<style scoped>\n",
       "    .dataframe tbody tr th:only-of-type {\n",
       "        vertical-align: middle;\n",
       "    }\n",
       "\n",
       "    .dataframe tbody tr th {\n",
       "        vertical-align: top;\n",
       "    }\n",
       "\n",
       "    .dataframe thead th {\n",
       "        text-align: right;\n",
       "    }\n",
       "</style>\n",
       "<table border=\"1\" class=\"dataframe\">\n",
       "  <thead>\n",
       "    <tr style=\"text-align: right;\">\n",
       "      <th></th>\n",
       "      <th>이름</th>\n",
       "      <th>키</th>\n",
       "      <th>몸무게</th>\n",
       "    </tr>\n",
       "  </thead>\n",
       "  <tbody>\n",
       "  </tbody>\n",
       "</table>\n",
       "</div>"
      ],
      "text/plain": [
       "Empty DataFrame\n",
       "Columns: [이름, 키, 몸무게]\n",
       "Index: []"
      ]
     },
     "metadata": {},
     "output_type": "display_data"
    },
    {
     "data": {
      "text/html": [
       "<div>\n",
       "<style scoped>\n",
       "    .dataframe tbody tr th:only-of-type {\n",
       "        vertical-align: middle;\n",
       "    }\n",
       "\n",
       "    .dataframe tbody tr th {\n",
       "        vertical-align: top;\n",
       "    }\n",
       "\n",
       "    .dataframe thead th {\n",
       "        text-align: right;\n",
       "    }\n",
       "</style>\n",
       "<table border=\"1\" class=\"dataframe\">\n",
       "  <thead>\n",
       "    <tr style=\"text-align: right;\">\n",
       "      <th></th>\n",
       "      <th>이름</th>\n",
       "      <th>키</th>\n",
       "      <th>몸무게</th>\n",
       "    </tr>\n",
       "  </thead>\n",
       "  <tbody>\n",
       "    <tr>\n",
       "      <th>1번</th>\n",
       "      <td>선영표</td>\n",
       "      <td>160</td>\n",
       "      <td>56</td>\n",
       "    </tr>\n",
       "    <tr>\n",
       "      <th>2번</th>\n",
       "      <td>박병관</td>\n",
       "      <td>176</td>\n",
       "      <td>80</td>\n",
       "    </tr>\n",
       "  </tbody>\n",
       "</table>\n",
       "</div>"
      ],
      "text/plain": [
       "     이름    키  몸무게\n",
       "1번  선영표  160   56\n",
       "2번  박병관  176   80"
      ]
     },
     "metadata": {},
     "output_type": "display_data"
    }
   ],
   "source": [
    "# 슬라이싱은 행 기준으로 동작\n",
    "display(df[\"키\":\"몸무게\"]) # 결과가 x\n",
    "display(df[\"1번\":\"2번\"]) #결과가 o"
   ]
  },
  {
   "cell_type": "markdown",
   "id": "3459aca9",
   "metadata": {},
   "source": [
    "20240214 수\n",
    "20240215 목"
   ]
  },
  {
   "cell_type": "code",
   "execution_count": 23,
   "id": "80b89077",
   "metadata": {
    "scrolled": false
   },
   "outputs": [
    {
     "ename": "NameError",
     "evalue": "name '행' is not defined",
     "output_type": "error",
     "traceback": [
      "\u001b[1;31m---------------------------------------------------------------------------\u001b[0m",
      "\u001b[1;31mNameError\u001b[0m                                 Traceback (most recent call last)",
      "Cell \u001b[1;32mIn[23], line 3\u001b[0m\n\u001b[0;32m      1\u001b[0m \u001b[38;5;66;03m#헷갈리는 걸 방지하기 위해 추천하는 인덱서\u001b[39;00m\n\u001b[0;32m      2\u001b[0m \u001b[38;5;66;03m#iloc와 loc\u001b[39;00m\n\u001b[1;32m----> 3\u001b[0m display(df\u001b[38;5;241m.\u001b[39mloc[행,열]) \u001b[38;5;66;03m# 글자와 숫자 모두 지원\u001b[39;00m\n\u001b[0;32m      4\u001b[0m display(df\u001b[38;5;241m.\u001b[39miloc[행,열])\n",
      "\u001b[1;31mNameError\u001b[0m: name '행' is not defined"
     ]
    }
   ],
   "source": [
    "#헷갈리는 걸 방지하기 위해 추천하는 인덱서\n",
    "#iloc와 loc\n",
    "display(df.loc[행,열]) # 글자와 숫자 모두 지원\n",
    "display(df.iloc[행,열]) # 숫자만 지원\n"
   ]
  },
  {
   "cell_type": "code",
   "execution_count": 34,
   "id": "d6dc8d24",
   "metadata": {
    "scrolled": true
   },
   "outputs": [
    {
     "data": {
      "text/plain": [
       "'선영표'"
      ]
     },
     "metadata": {},
     "output_type": "display_data"
    },
    {
     "data": {
      "text/plain": [
       "'박병관'"
      ]
     },
     "metadata": {},
     "output_type": "display_data"
    },
    {
     "data": {
      "text/plain": [
       "키      176\n",
       "몸무게     80\n",
       "Name: 2번, dtype: object"
      ]
     },
     "metadata": {},
     "output_type": "display_data"
    },
    {
     "data": {
      "text/plain": [
       "이름    선영표\n",
       "키     160\n",
       "Name: 1번, dtype: object"
      ]
     },
     "metadata": {},
     "output_type": "display_data"
    }
   ],
   "source": [
    "#헷갈리는 걸 방지하기 위해 추천하는 인덱서\n",
    "#iloc와 loc\n",
    "display(df.loc['1번',\"이름\"])#글자와 숫자 모두 지원\n",
    "#출력\n",
    "#'선영표'\n",
    "\n",
    "display(df.iloc[1,0])#글자와 숫자 모두 지원\n",
    "#출력\n",
    "#'박병관'\n",
    "\n",
    "display(df.loc[\"2번\",\"키\":\"몸무게\"])\n",
    "#출력\n",
    "# 키      176\n",
    "# 몸무게     80\n",
    "# Name: 2번, dtype: object\n",
    "\n",
    "display(df.iloc[0,0:2])\n",
    "#출력:\n",
    "# 이름    선영표\n",
    "# 키     160\n",
    "# Name: 1번, dtype: object"
   ]
  },
  {
   "cell_type": "code",
   "execution_count": 39,
   "id": "5008dec6",
   "metadata": {
    "scrolled": false
   },
   "outputs": [
    {
     "data": {
      "text/html": [
       "<div>\n",
       "<style scoped>\n",
       "    .dataframe tbody tr th:only-of-type {\n",
       "        vertical-align: middle;\n",
       "    }\n",
       "\n",
       "    .dataframe tbody tr th {\n",
       "        vertical-align: top;\n",
       "    }\n",
       "\n",
       "    .dataframe thead th {\n",
       "        text-align: right;\n",
       "    }\n",
       "</style>\n",
       "<table border=\"1\" class=\"dataframe\">\n",
       "  <thead>\n",
       "    <tr style=\"text-align: right;\">\n",
       "      <th></th>\n",
       "      <th>이름</th>\n",
       "      <th>키</th>\n",
       "      <th>몸무게</th>\n",
       "    </tr>\n",
       "  </thead>\n",
       "  <tbody>\n",
       "    <tr>\n",
       "      <th>1번</th>\n",
       "      <td>선영표</td>\n",
       "      <td>160</td>\n",
       "      <td>56</td>\n",
       "    </tr>\n",
       "  </tbody>\n",
       "</table>\n",
       "</div>"
      ],
      "text/plain": [
       "     이름    키  몸무게\n",
       "1번  선영표  160   56"
      ]
     },
     "execution_count": 39,
     "metadata": {},
     "output_type": "execute_result"
    }
   ],
   "source": [
    "# boolean 색인\n",
    "df[df['몸무게']<= 60]"
   ]
  },
  {
   "cell_type": "code",
   "execution_count": 45,
   "id": "20763061",
   "metadata": {},
   "outputs": [
    {
     "data": {
      "text/html": [
       "<div>\n",
       "<style scoped>\n",
       "    .dataframe tbody tr th:only-of-type {\n",
       "        vertical-align: middle;\n",
       "    }\n",
       "\n",
       "    .dataframe tbody tr th {\n",
       "        vertical-align: top;\n",
       "    }\n",
       "\n",
       "    .dataframe thead th {\n",
       "        text-align: right;\n",
       "    }\n",
       "</style>\n",
       "<table border=\"1\" class=\"dataframe\">\n",
       "  <thead>\n",
       "    <tr style=\"text-align: right;\">\n",
       "      <th></th>\n",
       "      <th>이름</th>\n",
       "      <th>키</th>\n",
       "      <th>몸무게</th>\n",
       "    </tr>\n",
       "  </thead>\n",
       "  <tbody>\n",
       "    <tr>\n",
       "      <th>1번</th>\n",
       "      <td>선영표</td>\n",
       "      <td>160</td>\n",
       "      <td>56</td>\n",
       "    </tr>\n",
       "    <tr>\n",
       "      <th>3번</th>\n",
       "      <td>정봉균</td>\n",
       "      <td>179</td>\n",
       "      <td>76</td>\n",
       "    </tr>\n",
       "  </tbody>\n",
       "</table>\n",
       "</div>"
      ],
      "text/plain": [
       "     이름    키  몸무게\n",
       "1번  선영표  160   56\n",
       "3번  정봉균  179   76"
      ]
     },
     "execution_count": 45,
     "metadata": {},
     "output_type": "execute_result"
    }
   ],
   "source": [
    "#&, |\n",
    "df[(df['키'] <= 160) | (df['키'] >= 178)]"
   ]
  },
  {
   "cell_type": "markdown",
   "id": "2bb76c73",
   "metadata": {},
   "source": [
    "#### 3. 유용한 함수"
   ]
  },
  {
   "cell_type": "markdown",
   "id": "5ac5b18b",
   "metadata": {},
   "source": [
    "#### 3.1 기술통계관련"
   ]
  },
  {
   "cell_type": "code",
   "execution_count": 88,
   "id": "43d2afd6",
   "metadata": {
    "scrolled": false
   },
   "outputs": [
    {
     "data": {
      "text/html": [
       "<div>\n",
       "<style scoped>\n",
       "    .dataframe tbody tr th:only-of-type {\n",
       "        vertical-align: middle;\n",
       "    }\n",
       "\n",
       "    .dataframe tbody tr th {\n",
       "        vertical-align: top;\n",
       "    }\n",
       "\n",
       "    .dataframe thead th {\n",
       "        text-align: right;\n",
       "    }\n",
       "</style>\n",
       "<table border=\"1\" class=\"dataframe\">\n",
       "  <thead>\n",
       "    <tr style=\"text-align: right;\">\n",
       "      <th></th>\n",
       "      <th>과목</th>\n",
       "      <th>1반</th>\n",
       "      <th>2반</th>\n",
       "      <th>3반</th>\n",
       "      <th>4반</th>\n",
       "    </tr>\n",
       "  </thead>\n",
       "  <tbody>\n",
       "    <tr>\n",
       "      <th>0</th>\n",
       "      <td>수학</td>\n",
       "      <td>45</td>\n",
       "      <td>44</td>\n",
       "      <td>73</td>\n",
       "      <td>39</td>\n",
       "    </tr>\n",
       "    <tr>\n",
       "      <th>1</th>\n",
       "      <td>영어</td>\n",
       "      <td>76</td>\n",
       "      <td>92</td>\n",
       "      <td>45</td>\n",
       "      <td>69</td>\n",
       "    </tr>\n",
       "    <tr>\n",
       "      <th>2</th>\n",
       "      <td>국어</td>\n",
       "      <td>47</td>\n",
       "      <td>92</td>\n",
       "      <td>45</td>\n",
       "      <td>69</td>\n",
       "    </tr>\n",
       "    <tr>\n",
       "      <th>3</th>\n",
       "      <td>사회</td>\n",
       "      <td>92</td>\n",
       "      <td>81</td>\n",
       "      <td>85</td>\n",
       "      <td>40</td>\n",
       "    </tr>\n",
       "    <tr>\n",
       "      <th>4</th>\n",
       "      <td>과학</td>\n",
       "      <td>11</td>\n",
       "      <td>79</td>\n",
       "      <td>47</td>\n",
       "      <td>26</td>\n",
       "    </tr>\n",
       "  </tbody>\n",
       "</table>\n",
       "</div>"
      ],
      "text/plain": [
       "   과목  1반  2반  3반  4반\n",
       "0  수학  45  44  73  39\n",
       "1  영어  76  92  45  69\n",
       "2  국어  47  92  45  69\n",
       "3  사회  92  81  85  40\n",
       "4  과학  11  79  47  26"
      ]
     },
     "execution_count": 88,
     "metadata": {},
     "output_type": "execute_result"
    }
   ],
   "source": [
    "#데이터 로딩\n",
    "score_df = pd.read_csv(\"./data/score.csv\", encoding=\"euc=kr\")\n",
    "score_df"
   ]
  },
  {
   "cell_type": "code",
   "execution_count": 70,
   "id": "5a3720a7",
   "metadata": {
    "scrolled": true
   },
   "outputs": [
    {
     "data": {
      "text/plain": [
       "0    50.25\n",
       "1    70.50\n",
       "2    63.25\n",
       "3    74.50\n",
       "4    40.75\n",
       "dtype: float64"
      ]
     },
     "execution_count": 70,
     "metadata": {},
     "output_type": "execute_result"
    }
   ],
   "source": [
    "# 과목별 평균 구하기\n",
    "\n",
    "#쌤풀이\n",
    "score_df.loc[:,'1반':'4반'].mean(axis=1)\n",
    "\n",
    "#출력 =>시리즈\n",
    "# 0    50.25\n",
    "# 1    70.50\n",
    "# 2    63.25\n",
    "# 3    74.50\n",
    "# 4    40.75\n",
    "# dtype: float64"
   ]
  },
  {
   "cell_type": "code",
   "execution_count": 89,
   "id": "0f4b3644",
   "metadata": {
    "scrolled": false
   },
   "outputs": [
    {
     "data": {
      "text/html": [
       "<div>\n",
       "<style scoped>\n",
       "    .dataframe tbody tr th:only-of-type {\n",
       "        vertical-align: middle;\n",
       "    }\n",
       "\n",
       "    .dataframe tbody tr th {\n",
       "        vertical-align: top;\n",
       "    }\n",
       "\n",
       "    .dataframe thead th {\n",
       "        text-align: right;\n",
       "    }\n",
       "</style>\n",
       "<table border=\"1\" class=\"dataframe\">\n",
       "  <thead>\n",
       "    <tr style=\"text-align: right;\">\n",
       "      <th></th>\n",
       "      <th>과목</th>\n",
       "      <th>1반</th>\n",
       "      <th>2반</th>\n",
       "      <th>3반</th>\n",
       "      <th>4반</th>\n",
       "      <th>과목별평균</th>\n",
       "    </tr>\n",
       "  </thead>\n",
       "  <tbody>\n",
       "    <tr>\n",
       "      <th>0</th>\n",
       "      <td>수학</td>\n",
       "      <td>45</td>\n",
       "      <td>44</td>\n",
       "      <td>73</td>\n",
       "      <td>39</td>\n",
       "      <td>50.25</td>\n",
       "    </tr>\n",
       "    <tr>\n",
       "      <th>1</th>\n",
       "      <td>영어</td>\n",
       "      <td>76</td>\n",
       "      <td>92</td>\n",
       "      <td>45</td>\n",
       "      <td>69</td>\n",
       "      <td>70.50</td>\n",
       "    </tr>\n",
       "    <tr>\n",
       "      <th>2</th>\n",
       "      <td>국어</td>\n",
       "      <td>47</td>\n",
       "      <td>92</td>\n",
       "      <td>45</td>\n",
       "      <td>69</td>\n",
       "      <td>63.25</td>\n",
       "    </tr>\n",
       "    <tr>\n",
       "      <th>3</th>\n",
       "      <td>사회</td>\n",
       "      <td>92</td>\n",
       "      <td>81</td>\n",
       "      <td>85</td>\n",
       "      <td>40</td>\n",
       "      <td>74.50</td>\n",
       "    </tr>\n",
       "    <tr>\n",
       "      <th>4</th>\n",
       "      <td>과학</td>\n",
       "      <td>11</td>\n",
       "      <td>79</td>\n",
       "      <td>47</td>\n",
       "      <td>26</td>\n",
       "      <td>40.75</td>\n",
       "    </tr>\n",
       "  </tbody>\n",
       "</table>\n",
       "</div>"
      ],
      "text/plain": [
       "   과목  1반  2반  3반  4반  과목별평균\n",
       "0  수학  45  44  73  39  50.25\n",
       "1  영어  76  92  45  69  70.50\n",
       "2  국어  47  92  45  69  63.25\n",
       "3  사회  92  81  85  40  74.50\n",
       "4  과학  11  79  47  26  40.75"
      ]
     },
     "execution_count": 89,
     "metadata": {},
     "output_type": "execute_result"
    }
   ],
   "source": [
    "# 원본 데이터프레임에 과목별 평균데이터 추가하기\n",
    "score_df['과목별평균'] = score_df.loc[:,\"1반\":\"4반\"].mean(axis=1)\n",
    "score_df"
   ]
  },
  {
   "cell_type": "code",
   "execution_count": 90,
   "id": "89717754",
   "metadata": {
    "scrolled": true
   },
   "outputs": [
    {
     "data": {
      "text/html": [
       "<div>\n",
       "<style scoped>\n",
       "    .dataframe tbody tr th:only-of-type {\n",
       "        vertical-align: middle;\n",
       "    }\n",
       "\n",
       "    .dataframe tbody tr th {\n",
       "        vertical-align: top;\n",
       "    }\n",
       "\n",
       "    .dataframe thead th {\n",
       "        text-align: right;\n",
       "    }\n",
       "</style>\n",
       "<table border=\"1\" class=\"dataframe\">\n",
       "  <thead>\n",
       "    <tr style=\"text-align: right;\">\n",
       "      <th></th>\n",
       "      <th>과목</th>\n",
       "      <th>1반</th>\n",
       "      <th>2반</th>\n",
       "      <th>3반</th>\n",
       "      <th>4반</th>\n",
       "      <th>과목별평균</th>\n",
       "      <th>총합</th>\n",
       "    </tr>\n",
       "  </thead>\n",
       "  <tbody>\n",
       "    <tr>\n",
       "      <th>0</th>\n",
       "      <td>수학</td>\n",
       "      <td>45</td>\n",
       "      <td>44</td>\n",
       "      <td>73</td>\n",
       "      <td>39</td>\n",
       "      <td>50.25</td>\n",
       "      <td>201</td>\n",
       "    </tr>\n",
       "    <tr>\n",
       "      <th>1</th>\n",
       "      <td>영어</td>\n",
       "      <td>76</td>\n",
       "      <td>92</td>\n",
       "      <td>45</td>\n",
       "      <td>69</td>\n",
       "      <td>70.50</td>\n",
       "      <td>282</td>\n",
       "    </tr>\n",
       "    <tr>\n",
       "      <th>2</th>\n",
       "      <td>국어</td>\n",
       "      <td>47</td>\n",
       "      <td>92</td>\n",
       "      <td>45</td>\n",
       "      <td>69</td>\n",
       "      <td>63.25</td>\n",
       "      <td>253</td>\n",
       "    </tr>\n",
       "    <tr>\n",
       "      <th>3</th>\n",
       "      <td>사회</td>\n",
       "      <td>92</td>\n",
       "      <td>81</td>\n",
       "      <td>85</td>\n",
       "      <td>40</td>\n",
       "      <td>74.50</td>\n",
       "      <td>298</td>\n",
       "    </tr>\n",
       "    <tr>\n",
       "      <th>4</th>\n",
       "      <td>과학</td>\n",
       "      <td>11</td>\n",
       "      <td>79</td>\n",
       "      <td>47</td>\n",
       "      <td>26</td>\n",
       "      <td>40.75</td>\n",
       "      <td>163</td>\n",
       "    </tr>\n",
       "  </tbody>\n",
       "</table>\n",
       "</div>"
      ],
      "text/plain": [
       "   과목  1반  2반  3반  4반  과목별평균   총합\n",
       "0  수학  45  44  73  39  50.25  201\n",
       "1  영어  76  92  45  69  70.50  282\n",
       "2  국어  47  92  45  69  63.25  253\n",
       "3  사회  92  81  85  40  74.50  298\n",
       "4  과학  11  79  47  26  40.75  163"
      ]
     },
     "execution_count": 90,
     "metadata": {},
     "output_type": "execute_result"
    }
   ],
   "source": [
    "# 원본 데이터프레임에 과목별 평균데이터 추가하기\n",
    "\n",
    "#자영풀이(자영아 loc 잘  써라)\n",
    "#쌤풀이\n",
    "score_df['총합']= score_df.loc[:,\"1반\":\"4반\"].sum(axis=1)\n",
    "score_df"
   ]
  },
  {
   "cell_type": "code",
   "execution_count": 91,
   "id": "04221d29",
   "metadata": {
    "scrolled": true
   },
   "outputs": [
    {
     "data": {
      "text/plain": [
       "1반    54.2\n",
       "2반    77.6\n",
       "3반    59.0\n",
       "4반    48.6\n",
       "dtype: float64"
      ]
     },
     "execution_count": 91,
     "metadata": {},
     "output_type": "execute_result"
    }
   ],
   "source": [
    "# 반별평균 구하기\n",
    "class_mean = score_df.iloc[0:5,1:5].mean()\n",
    "class_mean\n",
    "#출력\n",
    "# 1반    54.2\n",
    "# 2반    77.6\n",
    "# 3반    59.0\n",
    "# 4반    48.6\n",
    "# dtype: float64"
   ]
  },
  {
   "cell_type": "code",
   "execution_count": 97,
   "id": "0b359f7f",
   "metadata": {
    "scrolled": false
   },
   "outputs": [],
   "source": [
    "#5번째 행인덱스에 반별평균 대입\n",
    "score_df.loc[5] = class_mean"
   ]
  },
  {
   "cell_type": "code",
   "execution_count": 98,
   "id": "667e645a",
   "metadata": {
    "scrolled": true
   },
   "outputs": [
    {
     "data": {
      "text/html": [
       "<div>\n",
       "<style scoped>\n",
       "    .dataframe tbody tr th:only-of-type {\n",
       "        vertical-align: middle;\n",
       "    }\n",
       "\n",
       "    .dataframe tbody tr th {\n",
       "        vertical-align: top;\n",
       "    }\n",
       "\n",
       "    .dataframe thead th {\n",
       "        text-align: right;\n",
       "    }\n",
       "</style>\n",
       "<table border=\"1\" class=\"dataframe\">\n",
       "  <thead>\n",
       "    <tr style=\"text-align: right;\">\n",
       "      <th></th>\n",
       "      <th>과목</th>\n",
       "      <th>1반</th>\n",
       "      <th>2반</th>\n",
       "      <th>3반</th>\n",
       "      <th>4반</th>\n",
       "      <th>과목별평균</th>\n",
       "      <th>총합</th>\n",
       "    </tr>\n",
       "  </thead>\n",
       "  <tbody>\n",
       "    <tr>\n",
       "      <th>0</th>\n",
       "      <td>수학</td>\n",
       "      <td>45.0</td>\n",
       "      <td>44.0</td>\n",
       "      <td>73.0</td>\n",
       "      <td>39.0</td>\n",
       "      <td>50.25</td>\n",
       "      <td>201.0</td>\n",
       "    </tr>\n",
       "    <tr>\n",
       "      <th>1</th>\n",
       "      <td>영어</td>\n",
       "      <td>76.0</td>\n",
       "      <td>92.0</td>\n",
       "      <td>45.0</td>\n",
       "      <td>69.0</td>\n",
       "      <td>70.50</td>\n",
       "      <td>282.0</td>\n",
       "    </tr>\n",
       "    <tr>\n",
       "      <th>2</th>\n",
       "      <td>국어</td>\n",
       "      <td>47.0</td>\n",
       "      <td>92.0</td>\n",
       "      <td>45.0</td>\n",
       "      <td>69.0</td>\n",
       "      <td>63.25</td>\n",
       "      <td>253.0</td>\n",
       "    </tr>\n",
       "    <tr>\n",
       "      <th>3</th>\n",
       "      <td>사회</td>\n",
       "      <td>92.0</td>\n",
       "      <td>81.0</td>\n",
       "      <td>85.0</td>\n",
       "      <td>40.0</td>\n",
       "      <td>74.50</td>\n",
       "      <td>298.0</td>\n",
       "    </tr>\n",
       "    <tr>\n",
       "      <th>4</th>\n",
       "      <td>과학</td>\n",
       "      <td>11.0</td>\n",
       "      <td>79.0</td>\n",
       "      <td>47.0</td>\n",
       "      <td>26.0</td>\n",
       "      <td>40.75</td>\n",
       "      <td>163.0</td>\n",
       "    </tr>\n",
       "    <tr>\n",
       "      <th>5</th>\n",
       "      <td>NaN</td>\n",
       "      <td>54.2</td>\n",
       "      <td>77.6</td>\n",
       "      <td>59.0</td>\n",
       "      <td>48.6</td>\n",
       "      <td>NaN</td>\n",
       "      <td>NaN</td>\n",
       "    </tr>\n",
       "  </tbody>\n",
       "</table>\n",
       "</div>"
      ],
      "text/plain": [
       "    과목    1반    2반    3반    4반  과목별평균     총합\n",
       "0   수학  45.0  44.0  73.0  39.0  50.25  201.0\n",
       "1   영어  76.0  92.0  45.0  69.0  70.50  282.0\n",
       "2   국어  47.0  92.0  45.0  69.0  63.25  253.0\n",
       "3   사회  92.0  81.0  85.0  40.0  74.50  298.0\n",
       "4   과학  11.0  79.0  47.0  26.0  40.75  163.0\n",
       "5  NaN  54.2  77.6  59.0  48.6    NaN    NaN"
      ]
     },
     "execution_count": 98,
     "metadata": {},
     "output_type": "execute_result"
    }
   ],
   "source": [
    "# 존재하지 않는 인덱스는 NaN을 넣어 결측치로 표시해준다.\n",
    "score_df"
   ]
  },
  {
   "cell_type": "markdown",
   "id": "497d652a",
   "metadata": {},
   "source": [
    "#### 3.2 결측치 처리 함수\n",
    "- 누락된 데이터를 대체값으로 채우는 경우\n",
    "- 누락된 데이터를 포함한 행이나 열을 삭제"
   ]
  },
  {
   "cell_type": "code",
   "execution_count": 104,
   "id": "62ea19ed",
   "metadata": {
    "scrolled": false
   },
   "outputs": [
    {
     "data": {
      "text/html": [
       "<div>\n",
       "<style scoped>\n",
       "    .dataframe tbody tr th:only-of-type {\n",
       "        vertical-align: middle;\n",
       "    }\n",
       "\n",
       "    .dataframe tbody tr th {\n",
       "        vertical-align: top;\n",
       "    }\n",
       "\n",
       "    .dataframe thead th {\n",
       "        text-align: right;\n",
       "    }\n",
       "</style>\n",
       "<table border=\"1\" class=\"dataframe\">\n",
       "  <thead>\n",
       "    <tr style=\"text-align: right;\">\n",
       "      <th></th>\n",
       "      <th>도시</th>\n",
       "      <th>지역</th>\n",
       "      <th>2015</th>\n",
       "      <th>2010</th>\n",
       "      <th>2005</th>\n",
       "      <th>2000</th>\n",
       "    </tr>\n",
       "  </thead>\n",
       "  <tbody>\n",
       "    <tr>\n",
       "      <th>0</th>\n",
       "      <td>서울</td>\n",
       "      <td>수도권</td>\n",
       "      <td>9904312</td>\n",
       "      <td>9631482.0</td>\n",
       "      <td>9762546.0</td>\n",
       "      <td>9853972</td>\n",
       "    </tr>\n",
       "    <tr>\n",
       "      <th>1</th>\n",
       "      <td>부산</td>\n",
       "      <td>경상권</td>\n",
       "      <td>3448737</td>\n",
       "      <td>NaN</td>\n",
       "      <td>NaN</td>\n",
       "      <td>3655437</td>\n",
       "    </tr>\n",
       "    <tr>\n",
       "      <th>2</th>\n",
       "      <td>인천</td>\n",
       "      <td>수도권</td>\n",
       "      <td>2890451</td>\n",
       "      <td>2632035.0</td>\n",
       "      <td>NaN</td>\n",
       "      <td>2466338</td>\n",
       "    </tr>\n",
       "    <tr>\n",
       "      <th>3</th>\n",
       "      <td>대구</td>\n",
       "      <td>경상권</td>\n",
       "      <td>2466052</td>\n",
       "      <td>2431774.0</td>\n",
       "      <td>2456016.0</td>\n",
       "      <td>2473990</td>\n",
       "    </tr>\n",
       "  </tbody>\n",
       "</table>\n",
       "</div>"
      ],
      "text/plain": [
       "   도시   지역     2015       2010       2005     2000\n",
       "0  서울  수도권  9904312  9631482.0  9762546.0  9853972\n",
       "1  부산  경상권  3448737        NaN        NaN  3655437\n",
       "2  인천  수도권  2890451  2632035.0        NaN  2466338\n",
       "3  대구  경상권  2466052  2431774.0  2456016.0  2473990"
      ]
     },
     "execution_count": 104,
     "metadata": {},
     "output_type": "execute_result"
    }
   ],
   "source": [
    "pop_df = pd.read_csv(\"./data/population_number.csv\", encoding = 'euc-kr')\n",
    "pop_df"
   ]
  },
  {
   "cell_type": "code",
   "execution_count": 107,
   "id": "5ac9cb95",
   "metadata": {
    "scrolled": false
   },
   "outputs": [
    {
     "data": {
      "text/html": [
       "<div>\n",
       "<style scoped>\n",
       "    .dataframe tbody tr th:only-of-type {\n",
       "        vertical-align: middle;\n",
       "    }\n",
       "\n",
       "    .dataframe tbody tr th {\n",
       "        vertical-align: top;\n",
       "    }\n",
       "\n",
       "    .dataframe thead th {\n",
       "        text-align: right;\n",
       "    }\n",
       "</style>\n",
       "<table border=\"1\" class=\"dataframe\">\n",
       "  <thead>\n",
       "    <tr style=\"text-align: right;\">\n",
       "      <th></th>\n",
       "      <th>도시</th>\n",
       "      <th>지역</th>\n",
       "      <th>2015</th>\n",
       "      <th>2010</th>\n",
       "      <th>2005</th>\n",
       "      <th>2000</th>\n",
       "    </tr>\n",
       "  </thead>\n",
       "  <tbody>\n",
       "    <tr>\n",
       "      <th>0</th>\n",
       "      <td>서울</td>\n",
       "      <td>수도권</td>\n",
       "      <td>9904312</td>\n",
       "      <td>9631482.0</td>\n",
       "      <td>9762546.0</td>\n",
       "      <td>9853972</td>\n",
       "    </tr>\n",
       "    <tr>\n",
       "      <th>1</th>\n",
       "      <td>부산</td>\n",
       "      <td>경상권</td>\n",
       "      <td>3448737</td>\n",
       "      <td>0.0</td>\n",
       "      <td>0.0</td>\n",
       "      <td>3655437</td>\n",
       "    </tr>\n",
       "    <tr>\n",
       "      <th>2</th>\n",
       "      <td>인천</td>\n",
       "      <td>수도권</td>\n",
       "      <td>2890451</td>\n",
       "      <td>2632035.0</td>\n",
       "      <td>0.0</td>\n",
       "      <td>2466338</td>\n",
       "    </tr>\n",
       "    <tr>\n",
       "      <th>3</th>\n",
       "      <td>대구</td>\n",
       "      <td>경상권</td>\n",
       "      <td>2466052</td>\n",
       "      <td>2431774.0</td>\n",
       "      <td>2456016.0</td>\n",
       "      <td>2473990</td>\n",
       "    </tr>\n",
       "  </tbody>\n",
       "</table>\n",
       "</div>"
      ],
      "text/plain": [
       "   도시   지역     2015       2010       2005     2000\n",
       "0  서울  수도권  9904312  9631482.0  9762546.0  9853972\n",
       "1  부산  경상권  3448737        0.0        0.0  3655437\n",
       "2  인천  수도권  2890451  2632035.0        0.0  2466338\n",
       "3  대구  경상권  2466052  2431774.0  2456016.0  2473990"
      ]
     },
     "execution_count": 107,
     "metadata": {},
     "output_type": "execute_result"
    }
   ],
   "source": [
    "# 누락된 데이터를 대체값으로 채우는 경우\n",
    "pop_df.fillna(0)"
   ]
  },
  {
   "cell_type": "code",
   "execution_count": 109,
   "id": "1cd774f2",
   "metadata": {
    "scrolled": true
   },
   "outputs": [],
   "source": [
    "#복사본에 대해 작업을 해주는 함수들이 있기 때문에\n",
    "# 대입을 해주거나\n",
    "pop_df=pop_df.fillna(0)\n"
   ]
  },
  {
   "cell_type": "code",
   "execution_count": 111,
   "id": "88e12cce",
   "metadata": {},
   "outputs": [],
   "source": [
    "#함수 속성 inplace 라는 속성을 True로 적용\n",
    "pop_df.fillna(0, inplace=True)"
   ]
  },
  {
   "cell_type": "code",
   "execution_count": 113,
   "id": "cf52d12b",
   "metadata": {
    "scrolled": true
   },
   "outputs": [
    {
     "data": {
      "text/html": [
       "<div>\n",
       "<style scoped>\n",
       "    .dataframe tbody tr th:only-of-type {\n",
       "        vertical-align: middle;\n",
       "    }\n",
       "\n",
       "    .dataframe tbody tr th {\n",
       "        vertical-align: top;\n",
       "    }\n",
       "\n",
       "    .dataframe thead th {\n",
       "        text-align: right;\n",
       "    }\n",
       "</style>\n",
       "<table border=\"1\" class=\"dataframe\">\n",
       "  <thead>\n",
       "    <tr style=\"text-align: right;\">\n",
       "      <th></th>\n",
       "      <th>도시</th>\n",
       "      <th>지역</th>\n",
       "      <th>2015</th>\n",
       "      <th>2010</th>\n",
       "      <th>2005</th>\n",
       "      <th>2000</th>\n",
       "    </tr>\n",
       "  </thead>\n",
       "  <tbody>\n",
       "    <tr>\n",
       "      <th>0</th>\n",
       "      <td>서울</td>\n",
       "      <td>수도권</td>\n",
       "      <td>9904312</td>\n",
       "      <td>9631482.0</td>\n",
       "      <td>9762546.0</td>\n",
       "      <td>9853972</td>\n",
       "    </tr>\n",
       "    <tr>\n",
       "      <th>1</th>\n",
       "      <td>부산</td>\n",
       "      <td>경상권</td>\n",
       "      <td>3448737</td>\n",
       "      <td>0.0</td>\n",
       "      <td>0.0</td>\n",
       "      <td>3655437</td>\n",
       "    </tr>\n",
       "    <tr>\n",
       "      <th>2</th>\n",
       "      <td>인천</td>\n",
       "      <td>수도권</td>\n",
       "      <td>2890451</td>\n",
       "      <td>2632035.0</td>\n",
       "      <td>0.0</td>\n",
       "      <td>2466338</td>\n",
       "    </tr>\n",
       "    <tr>\n",
       "      <th>3</th>\n",
       "      <td>대구</td>\n",
       "      <td>경상권</td>\n",
       "      <td>2466052</td>\n",
       "      <td>2431774.0</td>\n",
       "      <td>2456016.0</td>\n",
       "      <td>2473990</td>\n",
       "    </tr>\n",
       "  </tbody>\n",
       "</table>\n",
       "</div>"
      ],
      "text/plain": [
       "   도시   지역     2015       2010       2005     2000\n",
       "0  서울  수도권  9904312  9631482.0  9762546.0  9853972\n",
       "1  부산  경상권  3448737        0.0        0.0  3655437\n",
       "2  인천  수도권  2890451  2632035.0        0.0  2466338\n",
       "3  대구  경상권  2466052  2431774.0  2456016.0  2473990"
      ]
     },
     "execution_count": 113,
     "metadata": {},
     "output_type": "execute_result"
    }
   ],
   "source": [
    "pop_df"
   ]
  },
  {
   "cell_type": "code",
   "execution_count": 118,
   "id": "f2152d61",
   "metadata": {
    "scrolled": true
   },
   "outputs": [
    {
     "data": {
      "text/plain": [
       "0    9.631482e+06\n",
       "1    4.898430e+06\n",
       "2    2.632035e+06\n",
       "3    2.431774e+06\n",
       "Name: 2010, dtype: float64"
      ]
     },
     "execution_count": 118,
     "metadata": {},
     "output_type": "execute_result"
    }
   ],
   "source": [
    "# 기술통계 관련 함수를 이용해 대체값 채우기\n",
    "pop_df = pd.read_csv(\"./data/population_number.csv\", encoding = 'euc-kr')\n",
    "\n",
    "#자:2010년 데이터의 결측치(NaN)을 2010년 데이터의 평균치로 채우자\n",
    "pop_df['2010'].fillna(pop_df['2010'].mean())\n",
    "#출력\n",
    "# 0    9.631482e+06\n",
    "# 1    4.898430e+06\n",
    "# 2    2.632035e+06\n",
    "# 3    2.431774e+06\n",
    "# Name: 2010, dtype: float64"
   ]
  },
  {
   "cell_type": "code",
   "execution_count": 122,
   "id": "1aa134f4",
   "metadata": {
    "scrolled": true
   },
   "outputs": [
    {
     "data": {
      "text/html": [
       "<div>\n",
       "<style scoped>\n",
       "    .dataframe tbody tr th:only-of-type {\n",
       "        vertical-align: middle;\n",
       "    }\n",
       "\n",
       "    .dataframe tbody tr th {\n",
       "        vertical-align: top;\n",
       "    }\n",
       "\n",
       "    .dataframe thead th {\n",
       "        text-align: right;\n",
       "    }\n",
       "</style>\n",
       "<table border=\"1\" class=\"dataframe\">\n",
       "  <thead>\n",
       "    <tr style=\"text-align: right;\">\n",
       "      <th></th>\n",
       "      <th>도시</th>\n",
       "      <th>지역</th>\n",
       "      <th>2015</th>\n",
       "      <th>2010</th>\n",
       "      <th>2005</th>\n",
       "      <th>2000</th>\n",
       "    </tr>\n",
       "  </thead>\n",
       "  <tbody>\n",
       "    <tr>\n",
       "      <th>0</th>\n",
       "      <td>서울</td>\n",
       "      <td>수도권</td>\n",
       "      <td>9904312</td>\n",
       "      <td>9.631482e+06</td>\n",
       "      <td>9762546.0</td>\n",
       "      <td>9853972</td>\n",
       "    </tr>\n",
       "    <tr>\n",
       "      <th>1</th>\n",
       "      <td>부산</td>\n",
       "      <td>경상권</td>\n",
       "      <td>3448737</td>\n",
       "      <td>4.898430e+06</td>\n",
       "      <td>NaN</td>\n",
       "      <td>3655437</td>\n",
       "    </tr>\n",
       "    <tr>\n",
       "      <th>2</th>\n",
       "      <td>인천</td>\n",
       "      <td>수도권</td>\n",
       "      <td>2890451</td>\n",
       "      <td>2.632035e+06</td>\n",
       "      <td>NaN</td>\n",
       "      <td>2466338</td>\n",
       "    </tr>\n",
       "    <tr>\n",
       "      <th>3</th>\n",
       "      <td>대구</td>\n",
       "      <td>경상권</td>\n",
       "      <td>2466052</td>\n",
       "      <td>2.431774e+06</td>\n",
       "      <td>2456016.0</td>\n",
       "      <td>2473990</td>\n",
       "    </tr>\n",
       "  </tbody>\n",
       "</table>\n",
       "</div>"
      ],
      "text/plain": [
       "   도시   지역     2015          2010       2005     2000\n",
       "0  서울  수도권  9904312  9.631482e+06  9762546.0  9853972\n",
       "1  부산  경상권  3448737  4.898430e+06        NaN  3655437\n",
       "2  인천  수도권  2890451  2.632035e+06        NaN  2466338\n",
       "3  대구  경상권  2466052  2.431774e+06  2456016.0  2473990"
      ]
     },
     "execution_count": 122,
     "metadata": {},
     "output_type": "execute_result"
    }
   ],
   "source": [
    "pop_df['2010']=pop_df['2010'].fillna(pop_df['2010'].mean())\n",
    "pop_df"
   ]
  },
  {
   "cell_type": "code",
   "execution_count": 127,
   "id": "cf76f086",
   "metadata": {
    "scrolled": true
   },
   "outputs": [
    {
     "data": {
      "text/html": [
       "<div>\n",
       "<style scoped>\n",
       "    .dataframe tbody tr th:only-of-type {\n",
       "        vertical-align: middle;\n",
       "    }\n",
       "\n",
       "    .dataframe tbody tr th {\n",
       "        vertical-align: top;\n",
       "    }\n",
       "\n",
       "    .dataframe thead th {\n",
       "        text-align: right;\n",
       "    }\n",
       "</style>\n",
       "<table border=\"1\" class=\"dataframe\">\n",
       "  <thead>\n",
       "    <tr style=\"text-align: right;\">\n",
       "      <th></th>\n",
       "      <th>도시</th>\n",
       "      <th>지역</th>\n",
       "      <th>2015</th>\n",
       "      <th>2010</th>\n",
       "      <th>2005</th>\n",
       "      <th>2000</th>\n",
       "    </tr>\n",
       "  </thead>\n",
       "  <tbody>\n",
       "    <tr>\n",
       "      <th>0</th>\n",
       "      <td>서울</td>\n",
       "      <td>수도권</td>\n",
       "      <td>9904312</td>\n",
       "      <td>9.631482e+06</td>\n",
       "      <td>9762546.0</td>\n",
       "      <td>9853972</td>\n",
       "    </tr>\n",
       "    <tr>\n",
       "      <th>1</th>\n",
       "      <td>부산</td>\n",
       "      <td>경상권</td>\n",
       "      <td>3448737</td>\n",
       "      <td>4.898430e+06</td>\n",
       "      <td>6109281.0</td>\n",
       "      <td>3655437</td>\n",
       "    </tr>\n",
       "    <tr>\n",
       "      <th>2</th>\n",
       "      <td>인천</td>\n",
       "      <td>수도권</td>\n",
       "      <td>2890451</td>\n",
       "      <td>2.632035e+06</td>\n",
       "      <td>6109281.0</td>\n",
       "      <td>2466338</td>\n",
       "    </tr>\n",
       "    <tr>\n",
       "      <th>3</th>\n",
       "      <td>대구</td>\n",
       "      <td>경상권</td>\n",
       "      <td>2466052</td>\n",
       "      <td>2.431774e+06</td>\n",
       "      <td>2456016.0</td>\n",
       "      <td>2473990</td>\n",
       "    </tr>\n",
       "  </tbody>\n",
       "</table>\n",
       "</div>"
      ],
      "text/plain": [
       "   도시   지역     2015          2010       2005     2000\n",
       "0  서울  수도권  9904312  9.631482e+06  9762546.0  9853972\n",
       "1  부산  경상권  3448737  4.898430e+06  6109281.0  3655437\n",
       "2  인천  수도권  2890451  2.632035e+06  6109281.0  2466338\n",
       "3  대구  경상권  2466052  2.431774e+06  2456016.0  2473990"
      ]
     },
     "execution_count": 127,
     "metadata": {},
     "output_type": "execute_result"
    }
   ],
   "source": [
    "pop_df['2005']=pop_df['2005'].fillna(pop_df['2005'].mean())\n",
    "pop_df"
   ]
  },
  {
   "cell_type": "code",
   "execution_count": 137,
   "id": "945df838",
   "metadata": {
    "scrolled": true
   },
   "outputs": [
    {
     "data": {
      "text/html": [
       "<div>\n",
       "<style scoped>\n",
       "    .dataframe tbody tr th:only-of-type {\n",
       "        vertical-align: middle;\n",
       "    }\n",
       "\n",
       "    .dataframe tbody tr th {\n",
       "        vertical-align: top;\n",
       "    }\n",
       "\n",
       "    .dataframe thead th {\n",
       "        text-align: right;\n",
       "    }\n",
       "</style>\n",
       "<table border=\"1\" class=\"dataframe\">\n",
       "  <thead>\n",
       "    <tr style=\"text-align: right;\">\n",
       "      <th></th>\n",
       "      <th>도시</th>\n",
       "      <th>지역</th>\n",
       "      <th>2015</th>\n",
       "      <th>2000</th>\n",
       "    </tr>\n",
       "  </thead>\n",
       "  <tbody>\n",
       "    <tr>\n",
       "      <th>0</th>\n",
       "      <td>서울</td>\n",
       "      <td>수도권</td>\n",
       "      <td>9904312</td>\n",
       "      <td>9853972</td>\n",
       "    </tr>\n",
       "    <tr>\n",
       "      <th>1</th>\n",
       "      <td>부산</td>\n",
       "      <td>경상권</td>\n",
       "      <td>3448737</td>\n",
       "      <td>3655437</td>\n",
       "    </tr>\n",
       "    <tr>\n",
       "      <th>2</th>\n",
       "      <td>인천</td>\n",
       "      <td>수도권</td>\n",
       "      <td>2890451</td>\n",
       "      <td>2466338</td>\n",
       "    </tr>\n",
       "    <tr>\n",
       "      <th>3</th>\n",
       "      <td>대구</td>\n",
       "      <td>경상권</td>\n",
       "      <td>2466052</td>\n",
       "      <td>2473990</td>\n",
       "    </tr>\n",
       "  </tbody>\n",
       "</table>\n",
       "</div>"
      ],
      "text/plain": [
       "   도시   지역     2015     2000\n",
       "0  서울  수도권  9904312  9853972\n",
       "1  부산  경상권  3448737  3655437\n",
       "2  인천  수도권  2890451  2466338\n",
       "3  대구  경상권  2466052  2473990"
      ]
     },
     "execution_count": 137,
     "metadata": {},
     "output_type": "execute_result"
    }
   ],
   "source": [
    "#누락된 데이터가 포함된 행 or 열을 삭제하기\n",
    "\n",
    "pop_df = pd.read_csv(\"./data/population_number.csv\", encoding = 'euc-kr')\n",
    "pop_df.drop([\"2010\",\"2005\"], axis=1, inplace=True) #inplace를 통해 원본에 적용\n",
    "pop_df"
   ]
  },
  {
   "cell_type": "code",
   "execution_count": 135,
   "id": "e9fff6d0",
   "metadata": {
    "scrolled": true
   },
   "outputs": [
    {
     "data": {
      "text/html": [
       "<div>\n",
       "<style scoped>\n",
       "    .dataframe tbody tr th:only-of-type {\n",
       "        vertical-align: middle;\n",
       "    }\n",
       "\n",
       "    .dataframe tbody tr th {\n",
       "        vertical-align: top;\n",
       "    }\n",
       "\n",
       "    .dataframe thead th {\n",
       "        text-align: right;\n",
       "    }\n",
       "</style>\n",
       "<table border=\"1\" class=\"dataframe\">\n",
       "  <thead>\n",
       "    <tr style=\"text-align: right;\">\n",
       "      <th></th>\n",
       "      <th>도시</th>\n",
       "      <th>지역</th>\n",
       "      <th>2015</th>\n",
       "      <th>2000</th>\n",
       "    </tr>\n",
       "  </thead>\n",
       "  <tbody>\n",
       "    <tr>\n",
       "      <th>0</th>\n",
       "      <td>서울</td>\n",
       "      <td>수도권</td>\n",
       "      <td>9904312</td>\n",
       "      <td>9853972</td>\n",
       "    </tr>\n",
       "    <tr>\n",
       "      <th>1</th>\n",
       "      <td>부산</td>\n",
       "      <td>경상권</td>\n",
       "      <td>3448737</td>\n",
       "      <td>3655437</td>\n",
       "    </tr>\n",
       "    <tr>\n",
       "      <th>2</th>\n",
       "      <td>인천</td>\n",
       "      <td>수도권</td>\n",
       "      <td>2890451</td>\n",
       "      <td>2466338</td>\n",
       "    </tr>\n",
       "    <tr>\n",
       "      <th>3</th>\n",
       "      <td>대구</td>\n",
       "      <td>경상권</td>\n",
       "      <td>2466052</td>\n",
       "      <td>2473990</td>\n",
       "    </tr>\n",
       "  </tbody>\n",
       "</table>\n",
       "</div>"
      ],
      "text/plain": [
       "   도시   지역     2015     2000\n",
       "0  서울  수도권  9904312  9853972\n",
       "1  부산  경상권  3448737  3655437\n",
       "2  인천  수도권  2890451  2466338\n",
       "3  대구  경상권  2466052  2473990"
      ]
     },
     "execution_count": 135,
     "metadata": {},
     "output_type": "execute_result"
    }
   ],
   "source": [
    "#특정 행이나 열을 지칭하지 않고 결측치가 존재하면 삭제하는 함수\n",
    "pop_df = pd.read_csv(\"./data/population_number.csv\", encoding = 'euc-kr')\n",
    "pop_df.dropna(axis=1)"
   ]
  }
 ],
 "metadata": {
  "kernelspec": {
   "display_name": "Python 3 (ipykernel)",
   "language": "python",
   "name": "python3"
  },
  "language_info": {
   "codemirror_mode": {
    "name": "ipython",
    "version": 3
   },
   "file_extension": ".py",
   "mimetype": "text/x-python",
   "name": "python",
   "nbconvert_exporter": "python",
   "pygments_lexer": "ipython3",
   "version": "3.11.5"
  }
 },
 "nbformat": 4,
 "nbformat_minor": 5
}
