{
 "cells": [
  {
   "cell_type": "markdown",
   "id": "7e7131a2",
   "metadata": {},
   "source": [
    "### 대표적인 파이썬 라이브러리 3개\n",
    "- numpy : 수학적인 계산을 빠르게 할 수 있도록 지원하는 도구\n",
    "- pandas : 행과 열을 가진 표 형태의 데이터를 쉽게 다루는 도구\n",
    "- maplotlib : 데이터 시각화를 할 수 있는 도구"
   ]
  },
  {
   "cell_type": "markdown",
   "id": "669231ca",
   "metadata": {},
   "source": [
    "### 데이터분석, 인공지능 분야에서 파이썬이 활용되는 단계\n",
    "- 1. 데이터 수집 : pandas, requests, selenium\n",
    "- 2. 데이터 전처리 : numpy, pandas\n",
    "- 3. 데이터 탐색 및 시각화 : pandas, matplotlib, seaborn\n",
    "- 4. 데이터 학습 : sklearn, tensorflow, pytorch\n",
    "- 5. 분석 및 예측 결과 리포팅 : matplotlib, seaborn\n",
    "- 6. 웹서비스 제작 : django"
   ]
  },
  {
   "cell_type": "markdown",
   "id": "417a49d1",
   "metadata": {},
   "source": [
    "# 1. numpy"
   ]
  },
  {
   "cell_type": "code",
   "execution_count": 2,
   "id": "ba376c6a",
   "metadata": {},
   "outputs": [],
   "source": [
    "import numpy as np"
   ]
  },
  {
   "cell_type": "code",
   "execution_count": 5,
   "id": "80b3f505",
   "metadata": {
    "collapsed": true
   },
   "outputs": [
    {
     "data": {
      "text/plain": [
       "array([ 1,  2,  3,  4,  5,  6,  7,  8,  9, 10])"
      ]
     },
     "execution_count": 5,
     "metadata": {},
     "output_type": "execute_result"
    }
   ],
   "source": [
    "# 넘파이 배열 생성\n",
    "arr = np.array([1,2,3,4,5,6,7,8,9,10])\n",
    "arr #출력 : array([ 1,  2,  3,  4,  5,  6,  7,  8,  9, 10])"
   ]
  },
  {
   "cell_type": "code",
   "execution_count": 8,
   "id": "0ea5c2ec",
   "metadata": {
    "collapsed": true
   },
   "outputs": [
    {
     "data": {
      "text/plain": [
       "array([[1, 2],\n",
       "       [3, 4]])"
      ]
     },
     "execution_count": 8,
     "metadata": {},
     "output_type": "execute_result"
    }
   ],
   "source": [
    "# 고차원 배열 생성\n",
    "# 2차원 배열 생성\n",
    "arr_2nd = np.array([[1 ,2],\n",
    "                   [3, 4]])\n",
    "arr_2nd\n",
    "#출력:\n",
    "#array([[1, 2],\n",
    "#      [3, 4]])"
   ]
  },
  {
   "cell_type": "code",
   "execution_count": 14,
   "id": "e81591f3",
   "metadata": {},
   "outputs": [
    {
     "data": {
      "text/plain": [
       "array([[[1, 2],\n",
       "        [3, 4]],\n",
       "\n",
       "       [[5, 6],\n",
       "        [7, 8]]])"
      ]
     },
     "metadata": {},
     "output_type": "display_data"
    },
    {
     "name": "stdout",
     "output_type": "stream",
     "text": [
      "(2, 2, 2)\n"
     ]
    }
   ],
   "source": [
    "#3차원 배열 생성\n",
    "arr_3d = np.array([[[1,2], [3,4]],\n",
    "                  [[5,6],[7,8]]])\n",
    "\n",
    "\n",
    "\n",
    "display(arr_3d)\n",
    "#출력:\n",
    "# array([[[1, 2],\n",
    "#         [3, 4]],\n",
    "\n",
    "#        [[5, 6],\n",
    "#         [7, 8]]])\n",
    "\n",
    "print(arr_3d.shape)#모양을 알려주는 기능 \n",
    "#출력:(2, 2, 2)"
   ]
  },
  {
   "cell_type": "code",
   "execution_count": 22,
   "id": "a526187b",
   "metadata": {},
   "outputs": [
    {
     "name": "stdout",
     "output_type": "stream",
     "text": [
      "총합 :  55\n",
      "평균 :  5.5\n",
      "중앙값 :  5.5\n"
     ]
    }
   ],
   "source": [
    "# numpy 연산\n",
    "arr #출력:array([ 1,  2,  3,  4,  5,  6,  7,  8,  9, 10])\n",
    "print(\"총합 : \", arr.sum()) #총합 :  55\n",
    "print(\"평균 : \", arr.mean()) #평균 :  5.5\n",
    "print(\"중앙값 : \", np.median(arr)) #중앙값 :  5.5\n"
   ]
  },
  {
   "cell_type": "code",
   "execution_count": 25,
   "id": "5d5a35ab",
   "metadata": {},
   "outputs": [
    {
     "data": {
      "text/plain": [
       "array([ 1,  2,  3,  4,  5,  6,  7,  8,  9, 10,  1,  2,  3,  4,  5,  6,  7,\n",
       "        8,  9, 10])"
      ]
     },
     "execution_count": 25,
     "metadata": {},
     "output_type": "execute_result"
    }
   ],
   "source": [
    "# 병합\n",
    "concat_arr = np.concatenate([arr, arr])\n",
    "concat_arr #출력:array([ 1,  2,  3,  4,  5,  6,  7,  8,  9, 10,  1,  2,  3,  4,  5,  6,  7, 8,  9, 10])"
   ]
  },
  {
   "cell_type": "markdown",
   "id": "04522d9e",
   "metadata": {},
   "source": [
    "# 2.pandas"
   ]
  },
  {
   "cell_type": "code",
   "execution_count": 1,
   "id": "32c6506b",
   "metadata": {},
   "outputs": [],
   "source": [
    "import pandas as pd"
   ]
  },
  {
   "cell_type": "code",
   "execution_count": 30,
   "id": "8f7746c9",
   "metadata": {},
   "outputs": [
    {
     "data": {
      "text/html": [
       "<div>\n",
       "<style scoped>\n",
       "    .dataframe tbody tr th:only-of-type {\n",
       "        vertical-align: middle;\n",
       "    }\n",
       "\n",
       "    .dataframe tbody tr th {\n",
       "        vertical-align: top;\n",
       "    }\n",
       "\n",
       "    .dataframe thead th {\n",
       "        text-align: right;\n",
       "    }\n",
       "</style>\n",
       "<table border=\"1\" class=\"dataframe\">\n",
       "  <thead>\n",
       "    <tr style=\"text-align: right;\">\n",
       "      <th></th>\n",
       "      <th>0</th>\n",
       "      <th>1</th>\n",
       "      <th>2</th>\n",
       "      <th>3</th>\n",
       "      <th>4</th>\n",
       "    </tr>\n",
       "  </thead>\n",
       "  <tbody>\n",
       "    <tr>\n",
       "      <th>0</th>\n",
       "      <td>1</td>\n",
       "      <td>2</td>\n",
       "      <td>3</td>\n",
       "      <td>4</td>\n",
       "      <td>5</td>\n",
       "    </tr>\n",
       "    <tr>\n",
       "      <th>1</th>\n",
       "      <td>5</td>\n",
       "      <td>6</td>\n",
       "      <td>7</td>\n",
       "      <td>8</td>\n",
       "      <td>9</td>\n",
       "    </tr>\n",
       "    <tr>\n",
       "      <th>2</th>\n",
       "      <td>10</td>\n",
       "      <td>11</td>\n",
       "      <td>12</td>\n",
       "      <td>13</td>\n",
       "      <td>14</td>\n",
       "    </tr>\n",
       "  </tbody>\n",
       "</table>\n",
       "</div>"
      ],
      "text/plain": [
       "    0   1   2   3   4\n",
       "0   1   2   3   4   5\n",
       "1   5   6   7   8   9\n",
       "2  10  11  12  13  14"
      ]
     },
     "execution_count": 30,
     "metadata": {},
     "output_type": "execute_result"
    }
   ],
   "source": [
    "# 표형태 데이터 생성\n",
    "data = pd.DataFrame([[1,2,3,4,5],\n",
    "                    [5,6,7,8,9],\n",
    "                    [10,11,12,13,14]])\n",
    "data"
   ]
  },
  {
   "cell_type": "code",
   "execution_count": 33,
   "id": "d53b943f",
   "metadata": {},
   "outputs": [
    {
     "name": "stdout",
     "output_type": "stream",
     "text": [
      "16\n",
      "9.333333333333334\n"
     ]
    }
   ],
   "source": [
    "# 연산\n",
    "print(data[0].sum()) #출력:16\n",
    "print(data[4].mean())#출력:9.333333333333334"
   ]
  },
  {
   "cell_type": "code",
   "execution_count": 6,
   "id": "8ec4048a",
   "metadata": {},
   "outputs": [
    {
     "data": {
      "text/html": [
       "<div>\n",
       "<style scoped>\n",
       "    .dataframe tbody tr th:only-of-type {\n",
       "        vertical-align: middle;\n",
       "    }\n",
       "\n",
       "    .dataframe tbody tr th {\n",
       "        vertical-align: top;\n",
       "    }\n",
       "\n",
       "    .dataframe thead th {\n",
       "        text-align: right;\n",
       "    }\n",
       "</style>\n",
       "<table border=\"1\" class=\"dataframe\">\n",
       "  <thead>\n",
       "    <tr style=\"text-align: right;\">\n",
       "      <th></th>\n",
       "      <th>연번</th>\n",
       "      <th>시도명</th>\n",
       "      <th>시군구명</th>\n",
       "      <th>행정동</th>\n",
       "      <th>경로당명</th>\n",
       "      <th>주소</th>\n",
       "      <th>데이터기준일</th>\n",
       "    </tr>\n",
       "  </thead>\n",
       "  <tbody>\n",
       "    <tr>\n",
       "      <th>0</th>\n",
       "      <td>1</td>\n",
       "      <td>전라남도</td>\n",
       "      <td>광양시</td>\n",
       "      <td>광양읍</td>\n",
       "      <td>e-편한세상경로당</td>\n",
       "      <td>전라남도 광양시 광양읍 서북2길 115</td>\n",
       "      <td>2023-10-17</td>\n",
       "    </tr>\n",
       "    <tr>\n",
       "      <th>1</th>\n",
       "      <td>2</td>\n",
       "      <td>전라남도</td>\n",
       "      <td>광양시</td>\n",
       "      <td>광양읍</td>\n",
       "      <td>개성경로당</td>\n",
       "      <td>전라남도 광양시 광양읍 개성3길 16-21</td>\n",
       "      <td>2023-10-17</td>\n",
       "    </tr>\n",
       "    <tr>\n",
       "      <th>2</th>\n",
       "      <td>3</td>\n",
       "      <td>전라남도</td>\n",
       "      <td>광양시</td>\n",
       "      <td>광양읍</td>\n",
       "      <td>계곡경로당</td>\n",
       "      <td>전라남도 광양시 광양읍 계곡길 200</td>\n",
       "      <td>2023-10-17</td>\n",
       "    </tr>\n",
       "    <tr>\n",
       "      <th>3</th>\n",
       "      <td>4</td>\n",
       "      <td>전라남도</td>\n",
       "      <td>광양시</td>\n",
       "      <td>광양읍</td>\n",
       "      <td>계원아파트경로당</td>\n",
       "      <td>전라남도 광양시 광양읍 예구7길 10</td>\n",
       "      <td>2023-10-17</td>\n",
       "    </tr>\n",
       "    <tr>\n",
       "      <th>4</th>\n",
       "      <td>5</td>\n",
       "      <td>전라남도</td>\n",
       "      <td>광양시</td>\n",
       "      <td>광양읍</td>\n",
       "      <td>공공실버주택경로당</td>\n",
       "      <td>전라남도 광양시 광양읍 읍성길 210, 2층(광양공공실버주택)</td>\n",
       "      <td>2023-10-17</td>\n",
       "    </tr>\n",
       "    <tr>\n",
       "      <th>...</th>\n",
       "      <td>...</td>\n",
       "      <td>...</td>\n",
       "      <td>...</td>\n",
       "      <td>...</td>\n",
       "      <td>...</td>\n",
       "      <td>...</td>\n",
       "      <td>...</td>\n",
       "    </tr>\n",
       "    <tr>\n",
       "      <th>324</th>\n",
       "      <td>325</td>\n",
       "      <td>전라남도</td>\n",
       "      <td>광양시</td>\n",
       "      <td>태인동</td>\n",
       "      <td>용지경모정</td>\n",
       "      <td>전라남도 광양시 용지2길 16(1층)</td>\n",
       "      <td>2023-10-17</td>\n",
       "    </tr>\n",
       "    <tr>\n",
       "      <th>325</th>\n",
       "      <td>326</td>\n",
       "      <td>전라남도</td>\n",
       "      <td>광양시</td>\n",
       "      <td>태인동</td>\n",
       "      <td>장내경로당</td>\n",
       "      <td>전라남도 광양시 담안1길 55(2층)</td>\n",
       "      <td>2023-10-17</td>\n",
       "    </tr>\n",
       "    <tr>\n",
       "      <th>326</th>\n",
       "      <td>327</td>\n",
       "      <td>전라남도</td>\n",
       "      <td>광양시</td>\n",
       "      <td>태인동</td>\n",
       "      <td>장내경모정</td>\n",
       "      <td>전라남도 광양시 담안1길 55(1층)</td>\n",
       "      <td>2023-10-17</td>\n",
       "    </tr>\n",
       "    <tr>\n",
       "      <th>327</th>\n",
       "      <td>328</td>\n",
       "      <td>전라남도</td>\n",
       "      <td>광양시</td>\n",
       "      <td>금호동</td>\n",
       "      <td>금당어버이집</td>\n",
       "      <td>전라남도 광양시 금호로 105-21 (금호동)</td>\n",
       "      <td>2023-10-17</td>\n",
       "    </tr>\n",
       "    <tr>\n",
       "      <th>328</th>\n",
       "      <td>329</td>\n",
       "      <td>전라남도</td>\n",
       "      <td>광양시</td>\n",
       "      <td>금호동</td>\n",
       "      <td>금호어버이집</td>\n",
       "      <td>전라남도 광양시 금섬해안길 39 (금호동)</td>\n",
       "      <td>2023-10-17</td>\n",
       "    </tr>\n",
       "  </tbody>\n",
       "</table>\n",
       "<p>329 rows × 7 columns</p>\n",
       "</div>"
      ],
      "text/plain": [
       "      연번   시도명 시군구명  행정동       경로당명                                  주소  \\\n",
       "0      1  전라남도  광양시  광양읍  e-편한세상경로당               전라남도 광양시 광양읍 서북2길 115   \n",
       "1      2  전라남도  광양시  광양읍      개성경로당             전라남도 광양시 광양읍 개성3길 16-21   \n",
       "2      3  전라남도  광양시  광양읍      계곡경로당                전라남도 광양시 광양읍 계곡길 200   \n",
       "3      4  전라남도  광양시  광양읍   계원아파트경로당                전라남도 광양시 광양읍 예구7길 10   \n",
       "4      5  전라남도  광양시  광양읍  공공실버주택경로당  전라남도 광양시 광양읍 읍성길 210, 2층(광양공공실버주택)   \n",
       "..   ...   ...  ...  ...        ...                                 ...   \n",
       "324  325  전라남도  광양시  태인동      용지경모정                전라남도 광양시 용지2길 16(1층)   \n",
       "325  326  전라남도  광양시  태인동      장내경로당                전라남도 광양시 담안1길 55(2층)   \n",
       "326  327  전라남도  광양시  태인동      장내경모정                전라남도 광양시 담안1길 55(1층)   \n",
       "327  328  전라남도  광양시  금호동     금당어버이집           전라남도 광양시 금호로 105-21 (금호동)   \n",
       "328  329  전라남도  광양시  금호동     금호어버이집             전라남도 광양시 금섬해안길 39 (금호동)   \n",
       "\n",
       "         데이터기준일  \n",
       "0    2023-10-17  \n",
       "1    2023-10-17  \n",
       "2    2023-10-17  \n",
       "3    2023-10-17  \n",
       "4    2023-10-17  \n",
       "..          ...  \n",
       "324  2023-10-17  \n",
       "325  2023-10-17  \n",
       "326  2023-10-17  \n",
       "327  2023-10-17  \n",
       "328  2023-10-17  \n",
       "\n",
       "[329 rows x 7 columns]"
      ]
     },
     "execution_count": 6,
     "metadata": {},
     "output_type": "execute_result"
    }
   ],
   "source": [
    "# 데이터 로딩\n",
    "광양시_경로당_데이터 = pd.read_csv(\"./data/전라남도_광양시_경로당 현황_20231017.csv\", encoding='euc-kr') \n",
    "#상대주소\n",
    "광양시_경로당_데이터\n"
   ]
  },
  {
   "cell_type": "code",
   "execution_count": 10,
   "id": "fa79f972",
   "metadata": {},
   "outputs": [
    {
     "data": {
      "text/plain": [
       "array(['광양읍', '봉강면', '옥룡면', '옥곡면', '진상면', '진월면', '다압면', '골약동', '중마동',\n",
       "       '광영동', '태인동', '금호동'], dtype=object)"
      ]
     },
     "execution_count": 10,
     "metadata": {},
     "output_type": "execute_result"
    }
   ],
   "source": [
    "# 행정동의 종류를 파악하고 각 동마다 경로당의 수를 알아보자\n",
    "광양시_경로당_데이터['행정동'].unique()\n",
    "#출력:\n",
    "# array(['광양읍', '봉강면', '옥룡면', '옥곡면', '진상면', '진월면', '다압면', '골약동', '중마동',\n",
    "#        '광영동', '태인동', '금호동'], dtype=object)\n"
   ]
  },
  {
   "cell_type": "code",
   "execution_count": 12,
   "id": "77ba4829",
   "metadata": {},
   "outputs": [
    {
     "data": {
      "text/plain": [
       "행정동\n",
       "광양읍    80\n",
       "옥곡면    34\n",
       "진월면    34\n",
       "중마동    32\n",
       "옥룡면    31\n",
       "진상면    26\n",
       "봉강면    23\n",
       "다압면    21\n",
       "광영동    19\n",
       "골약동    16\n",
       "태인동    11\n",
       "금호동     2\n",
       "Name: count, dtype: int64"
      ]
     },
     "execution_count": 12,
     "metadata": {},
     "output_type": "execute_result"
    }
   ],
   "source": [
    "#자:값의 개수를 세주는 기능 - value_counts()\n",
    "광양시_경로당_데이터['행정동'].value_counts()"
   ]
  },
  {
   "cell_type": "markdown",
   "id": "df2c000e",
   "metadata": {},
   "source": [
    "# 3. mapplotlib"
   ]
  },
  {
   "cell_type": "code",
   "execution_count": 32,
   "id": "d4cb217f",
   "metadata": {},
   "outputs": [],
   "source": [
    "import matplotlib.pyplot as plt\n",
    "#한글폰트 적용\n",
    "plt.rcParams['font.family'] ='Malgun Gothic'\n",
    "# 마이너스 기호 적용\n",
    "plt.rcParams['axes.unicode_minus'] =False"
   ]
  },
  {
   "cell_type": "code",
   "execution_count": 23,
   "id": "62da150e",
   "metadata": {},
   "outputs": [
    {
     "data": {
      "image/png": "[encoded data removed]",
      "text/plain": [
       "<Figure size 1000x500 with 1 Axes>"
      ]
     },
     "metadata": {},
     "output_type": "display_data"
    }
   ],
   "source": [
    "# line chart\n",
    "x = [5, 8, 13, 20, 22]\n",
    "y = [20, 25, 18, 35, 15]\n",
    "\n",
    "plt.figure(figsize=(10,5)) #그림의 크기 결정(가로, 세로) -> 인치 단위\n",
    "plt.plot(x, y) # 선 그래프\n",
    "plt.text(5,21,\"hello\") #자: (5,21) 위치에 hello 라는 글 써보기(살짝 올라가라고 1정도 높여서 씀)\n",
    "plt.show() #그림을 보여주세요(그리다)"
   ]
  },
  {
   "cell_type": "code",
   "execution_count": 30,
   "id": "8e3d1ad4",
   "metadata": {},
   "outputs": [
    {
     "data": {
      "text/plain": [
       "Index(['광양읍', '옥곡면', '진월면', '중마동', '옥룡면', '진상면', '봉강면', '다압면', '광영동', '골약동',\n",
       "       '태인동', '금호동'],\n",
       "      dtype='object', name='행정동')"
      ]
     },
     "metadata": {},
     "output_type": "display_data"
    },
    {
     "data": {
      "text/plain": [
       "array([80, 34, 34, 32, 31, 26, 23, 21, 19, 16, 11,  2], dtype=int64)"
      ]
     },
     "metadata": {},
     "output_type": "display_data"
    }
   ],
   "source": [
    "#자:bar chart\n",
    "data = 광양시_경로당_데이터['행정동'].value_counts()\n",
    "data \n",
    "\n",
    "#자:x축 : 동이름, y축 : 경로당 수\n",
    "x = data.index\n",
    "y = data.values\n",
    "\n",
    "display(x) #자 : 마지막변수만 출력되니까 display() 함수로 같이 출력!\n",
    "display(y)"
   ]
  },
  {
   "cell_type": "code",
   "execution_count": 33,
   "id": "196719c1",
   "metadata": {
    "scrolled": true
   },
   "outputs": [
    {
     "data": {
      "image/png": "[encoded data removed]",
      "text/plain": [
       "<Figure size 1000x500 with 1 Axes>"
      ]
     },
     "metadata": {},
     "output_type": "display_data"
    }
   ],
   "source": [
    "# bar chart 그리기\n",
    "plt.figure(figsize=(10,5))\n",
    "plt.bar(x, y)\n",
    "plt.show()"
   ]
  }
 ],
 "metadata": {
  "kernelspec": {
   "display_name": "Python 3 (ipykernel)",
   "language": "python",
   "name": "python3"
  },
  "language_info": {
   "codemirror_mode": {
    "name": "ipython",
    "version": 3
   },
   "file_extension": ".py",
   "mimetype": "text/x-python",
   "name": "python",
   "nbconvert_exporter": "python",
   "pygments_lexer": "ipython3",
   "version": "3.11.5"
  }
 },
 "nbformat": 4,
 "nbformat_minor": 5
}
