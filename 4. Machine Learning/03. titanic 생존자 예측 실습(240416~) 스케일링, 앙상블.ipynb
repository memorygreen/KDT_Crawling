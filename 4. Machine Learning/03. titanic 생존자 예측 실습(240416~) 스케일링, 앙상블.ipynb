{
 "cells": [
  {
   "cell_type": "markdown",
   "id": "edd26709",
   "metadata": {},
   "source": [
    "### 1. 목표\n",
    "- 타이타닉 데이터를 활용하여 생존자 예측 모델을 만들어보자!\n",
    "- kaggle 경진대회에서 높은 점수를 달성해보자~\n",
    "- 머신러닝의 전체과정을 이해해보자!"
   ]
  },
  {
   "cell_type": "markdown",
   "id": "e71751c5",
   "metadata": {},
   "source": [
    "### 2. 데이터 수집\n",
    "- kaggle 에서 제공해주는 데이터 불러오기"
   ]
  },
  {
   "cell_type": "code",
   "execution_count": 334,
   "id": "43ced074",
   "metadata": {},
   "outputs": [],
   "source": [
    "# 라이브러리 불러오기 \n",
    "import pandas as pd # 수치계산용 라이브러리 #  Numerical\n",
    "import numpy as np # 행과 열을 가지는 표와 같은 형태를 다루는 라이브러리\n",
    "import matplotlib.pyplot as plt # 시각화 라이브러리\n",
    "import seaborn as sns # 시각화 라이브러리 -> pandas 호환성dl 높은 라이브러리\n",
    "# 색감다양, 다양한 그래프를 출력해볼 수 있음"
   ]
  },
  {
   "cell_type": "code",
   "execution_count": 335,
   "id": "dd66c742",
   "metadata": {
    "scrolled": true
   },
   "outputs": [
    {
     "data": {
      "text/plain": [
       "[1, 2, 3, 4, 1, 2, 3, 4]"
      ]
     },
     "execution_count": 335,
     "metadata": {},
     "output_type": "execute_result"
    }
   ],
   "source": [
    "a = [1,2,3,4]\n",
    "a + a # [1, 2, 3, 4, 1, 2, 3, 4]"
   ]
  },
  {
   "cell_type": "code",
   "execution_count": 336,
   "id": "68fd0e8a",
   "metadata": {},
   "outputs": [
    {
     "data": {
      "text/plain": [
       "array([2, 4, 6, 8])"
      ]
     },
     "execution_count": 336,
     "metadata": {},
     "output_type": "execute_result"
    }
   ],
   "source": [
    "arr_a = np.array(a)\n",
    "arr_a + arr_a #array([2, 4, 6, 8])\n",
    "# 넘파이 배열은 요소별 연산이 가능하다 (자: 스칼라 연산 가능 전체 곱하기 10)"
   ]
  },
  {
   "cell_type": "code",
   "execution_count": 337,
   "id": "9780ce72",
   "metadata": {},
   "outputs": [
    {
     "data": {
      "text/html": [
       "<div>\n",
       "<style scoped>\n",
       "    .dataframe tbody tr th:only-of-type {\n",
       "        vertical-align: middle;\n",
       "    }\n",
       "\n",
       "    .dataframe tbody tr th {\n",
       "        vertical-align: top;\n",
       "    }\n",
       "\n",
       "    .dataframe thead th {\n",
       "        text-align: right;\n",
       "    }\n",
       "</style>\n",
       "<table border=\"1\" class=\"dataframe\">\n",
       "  <thead>\n",
       "    <tr style=\"text-align: right;\">\n",
       "      <th></th>\n",
       "      <th>Pclass</th>\n",
       "      <th>Name</th>\n",
       "      <th>Sex</th>\n",
       "      <th>Age</th>\n",
       "      <th>SibSp</th>\n",
       "      <th>Parch</th>\n",
       "      <th>Ticket</th>\n",
       "      <th>Fare</th>\n",
       "      <th>Cabin</th>\n",
       "      <th>Embarked</th>\n",
       "    </tr>\n",
       "    <tr>\n",
       "      <th>PassengerId</th>\n",
       "      <th></th>\n",
       "      <th></th>\n",
       "      <th></th>\n",
       "      <th></th>\n",
       "      <th></th>\n",
       "      <th></th>\n",
       "      <th></th>\n",
       "      <th></th>\n",
       "      <th></th>\n",
       "      <th></th>\n",
       "    </tr>\n",
       "  </thead>\n",
       "  <tbody>\n",
       "    <tr>\n",
       "      <th>892</th>\n",
       "      <td>3</td>\n",
       "      <td>Kelly, Mr. James</td>\n",
       "      <td>male</td>\n",
       "      <td>34.5</td>\n",
       "      <td>0</td>\n",
       "      <td>0</td>\n",
       "      <td>330911</td>\n",
       "      <td>7.8292</td>\n",
       "      <td>NaN</td>\n",
       "      <td>Q</td>\n",
       "    </tr>\n",
       "    <tr>\n",
       "      <th>893</th>\n",
       "      <td>3</td>\n",
       "      <td>Wilkes, Mrs. James (Ellen Needs)</td>\n",
       "      <td>female</td>\n",
       "      <td>47.0</td>\n",
       "      <td>1</td>\n",
       "      <td>0</td>\n",
       "      <td>363272</td>\n",
       "      <td>7.0000</td>\n",
       "      <td>NaN</td>\n",
       "      <td>S</td>\n",
       "    </tr>\n",
       "    <tr>\n",
       "      <th>894</th>\n",
       "      <td>2</td>\n",
       "      <td>Myles, Mr. Thomas Francis</td>\n",
       "      <td>male</td>\n",
       "      <td>62.0</td>\n",
       "      <td>0</td>\n",
       "      <td>0</td>\n",
       "      <td>240276</td>\n",
       "      <td>9.6875</td>\n",
       "      <td>NaN</td>\n",
       "      <td>Q</td>\n",
       "    </tr>\n",
       "    <tr>\n",
       "      <th>895</th>\n",
       "      <td>3</td>\n",
       "      <td>Wirz, Mr. Albert</td>\n",
       "      <td>male</td>\n",
       "      <td>27.0</td>\n",
       "      <td>0</td>\n",
       "      <td>0</td>\n",
       "      <td>315154</td>\n",
       "      <td>8.6625</td>\n",
       "      <td>NaN</td>\n",
       "      <td>S</td>\n",
       "    </tr>\n",
       "    <tr>\n",
       "      <th>896</th>\n",
       "      <td>3</td>\n",
       "      <td>Hirvonen, Mrs. Alexander (Helga E Lindqvist)</td>\n",
       "      <td>female</td>\n",
       "      <td>22.0</td>\n",
       "      <td>1</td>\n",
       "      <td>1</td>\n",
       "      <td>3101298</td>\n",
       "      <td>12.2875</td>\n",
       "      <td>NaN</td>\n",
       "      <td>S</td>\n",
       "    </tr>\n",
       "    <tr>\n",
       "      <th>...</th>\n",
       "      <td>...</td>\n",
       "      <td>...</td>\n",
       "      <td>...</td>\n",
       "      <td>...</td>\n",
       "      <td>...</td>\n",
       "      <td>...</td>\n",
       "      <td>...</td>\n",
       "      <td>...</td>\n",
       "      <td>...</td>\n",
       "      <td>...</td>\n",
       "    </tr>\n",
       "    <tr>\n",
       "      <th>1305</th>\n",
       "      <td>3</td>\n",
       "      <td>Spector, Mr. Woolf</td>\n",
       "      <td>male</td>\n",
       "      <td>NaN</td>\n",
       "      <td>0</td>\n",
       "      <td>0</td>\n",
       "      <td>A.5. 3236</td>\n",
       "      <td>8.0500</td>\n",
       "      <td>NaN</td>\n",
       "      <td>S</td>\n",
       "    </tr>\n",
       "    <tr>\n",
       "      <th>1306</th>\n",
       "      <td>1</td>\n",
       "      <td>Oliva y Ocana, Dona. Fermina</td>\n",
       "      <td>female</td>\n",
       "      <td>39.0</td>\n",
       "      <td>0</td>\n",
       "      <td>0</td>\n",
       "      <td>PC 17758</td>\n",
       "      <td>108.9000</td>\n",
       "      <td>C105</td>\n",
       "      <td>C</td>\n",
       "    </tr>\n",
       "    <tr>\n",
       "      <th>1307</th>\n",
       "      <td>3</td>\n",
       "      <td>Saether, Mr. Simon Sivertsen</td>\n",
       "      <td>male</td>\n",
       "      <td>38.5</td>\n",
       "      <td>0</td>\n",
       "      <td>0</td>\n",
       "      <td>SOTON/O.Q. 3101262</td>\n",
       "      <td>7.2500</td>\n",
       "      <td>NaN</td>\n",
       "      <td>S</td>\n",
       "    </tr>\n",
       "    <tr>\n",
       "      <th>1308</th>\n",
       "      <td>3</td>\n",
       "      <td>Ware, Mr. Frederick</td>\n",
       "      <td>male</td>\n",
       "      <td>NaN</td>\n",
       "      <td>0</td>\n",
       "      <td>0</td>\n",
       "      <td>359309</td>\n",
       "      <td>8.0500</td>\n",
       "      <td>NaN</td>\n",
       "      <td>S</td>\n",
       "    </tr>\n",
       "    <tr>\n",
       "      <th>1309</th>\n",
       "      <td>3</td>\n",
       "      <td>Peter, Master. Michael J</td>\n",
       "      <td>male</td>\n",
       "      <td>NaN</td>\n",
       "      <td>1</td>\n",
       "      <td>1</td>\n",
       "      <td>2668</td>\n",
       "      <td>22.3583</td>\n",
       "      <td>NaN</td>\n",
       "      <td>C</td>\n",
       "    </tr>\n",
       "  </tbody>\n",
       "</table>\n",
       "<p>418 rows × 10 columns</p>\n",
       "</div>"
      ],
      "text/plain": [
       "             Pclass                                          Name     Sex  \\\n",
       "PassengerId                                                                 \n",
       "892               3                              Kelly, Mr. James    male   \n",
       "893               3              Wilkes, Mrs. James (Ellen Needs)  female   \n",
       "894               2                     Myles, Mr. Thomas Francis    male   \n",
       "895               3                              Wirz, Mr. Albert    male   \n",
       "896               3  Hirvonen, Mrs. Alexander (Helga E Lindqvist)  female   \n",
       "...             ...                                           ...     ...   \n",
       "1305              3                            Spector, Mr. Woolf    male   \n",
       "1306              1                  Oliva y Ocana, Dona. Fermina  female   \n",
       "1307              3                  Saether, Mr. Simon Sivertsen    male   \n",
       "1308              3                           Ware, Mr. Frederick    male   \n",
       "1309              3                      Peter, Master. Michael J    male   \n",
       "\n",
       "              Age  SibSp  Parch              Ticket      Fare Cabin Embarked  \n",
       "PassengerId                                                                   \n",
       "892          34.5      0      0              330911    7.8292   NaN        Q  \n",
       "893          47.0      1      0              363272    7.0000   NaN        S  \n",
       "894          62.0      0      0              240276    9.6875   NaN        Q  \n",
       "895          27.0      0      0              315154    8.6625   NaN        S  \n",
       "896          22.0      1      1             3101298   12.2875   NaN        S  \n",
       "...           ...    ...    ...                 ...       ...   ...      ...  \n",
       "1305          NaN      0      0           A.5. 3236    8.0500   NaN        S  \n",
       "1306         39.0      0      0            PC 17758  108.9000  C105        C  \n",
       "1307         38.5      0      0  SOTON/O.Q. 3101262    7.2500   NaN        S  \n",
       "1308          NaN      0      0              359309    8.0500   NaN        S  \n",
       "1309          NaN      1      1                2668   22.3583   NaN        C  \n",
       "\n",
       "[418 rows x 10 columns]"
      ]
     },
     "execution_count": 337,
     "metadata": {},
     "output_type": "execute_result"
    }
   ],
   "source": [
    "# train, test\n",
    "# 조건 : Passenger ID 컬럼을 인덱스로 변경하여 불러오기!train = pd.read_csv('data/train.csv', index_col='PassengerId')\n",
    "\n",
    "train = pd.read_csv('data/train.csv', index_col='PassengerId')\n",
    "test = pd.read_csv('data/test.csv', index_col='PassengerId')\n",
    "test"
   ]
  },
  {
   "cell_type": "code",
   "execution_count": 338,
   "id": "46663b60",
   "metadata": {},
   "outputs": [
    {
     "name": "stdout",
     "output_type": "stream",
     "text": [
      "(891, 11) (418, 10)\n"
     ]
    }
   ],
   "source": [
    "# 데이터 크기 확인\n",
    "print(train.shape, test.shape)\n",
    "#(891, 11) (418, 10)\n",
    "# train: 10개 특성, 1개의 정답\n",
    "# test : 10개 특성"
   ]
  },
  {
   "cell_type": "code",
   "execution_count": 339,
   "id": "4ec2c269",
   "metadata": {},
   "outputs": [
    {
     "data": {
      "text/html": [
       "<div>\n",
       "<style scoped>\n",
       "    .dataframe tbody tr th:only-of-type {\n",
       "        vertical-align: middle;\n",
       "    }\n",
       "\n",
       "    .dataframe tbody tr th {\n",
       "        vertical-align: top;\n",
       "    }\n",
       "\n",
       "    .dataframe thead th {\n",
       "        text-align: right;\n",
       "    }\n",
       "</style>\n",
       "<table border=\"1\" class=\"dataframe\">\n",
       "  <thead>\n",
       "    <tr style=\"text-align: right;\">\n",
       "      <th></th>\n",
       "      <th>Survived</th>\n",
       "      <th>Pclass</th>\n",
       "      <th>Name</th>\n",
       "      <th>Sex</th>\n",
       "      <th>Age</th>\n",
       "      <th>SibSp</th>\n",
       "      <th>Parch</th>\n",
       "      <th>Ticket</th>\n",
       "      <th>Fare</th>\n",
       "      <th>Cabin</th>\n",
       "      <th>Embarked</th>\n",
       "    </tr>\n",
       "    <tr>\n",
       "      <th>PassengerId</th>\n",
       "      <th></th>\n",
       "      <th></th>\n",
       "      <th></th>\n",
       "      <th></th>\n",
       "      <th></th>\n",
       "      <th></th>\n",
       "      <th></th>\n",
       "      <th></th>\n",
       "      <th></th>\n",
       "      <th></th>\n",
       "      <th></th>\n",
       "    </tr>\n",
       "  </thead>\n",
       "  <tbody>\n",
       "    <tr>\n",
       "      <th>1</th>\n",
       "      <td>0</td>\n",
       "      <td>3</td>\n",
       "      <td>Braund, Mr. Owen Harris</td>\n",
       "      <td>male</td>\n",
       "      <td>22.0</td>\n",
       "      <td>1</td>\n",
       "      <td>0</td>\n",
       "      <td>A/5 21171</td>\n",
       "      <td>7.2500</td>\n",
       "      <td>NaN</td>\n",
       "      <td>S</td>\n",
       "    </tr>\n",
       "    <tr>\n",
       "      <th>2</th>\n",
       "      <td>1</td>\n",
       "      <td>1</td>\n",
       "      <td>Cumings, Mrs. John Bradley (Florence Briggs Th...</td>\n",
       "      <td>female</td>\n",
       "      <td>38.0</td>\n",
       "      <td>1</td>\n",
       "      <td>0</td>\n",
       "      <td>PC 17599</td>\n",
       "      <td>71.2833</td>\n",
       "      <td>C85</td>\n",
       "      <td>C</td>\n",
       "    </tr>\n",
       "    <tr>\n",
       "      <th>3</th>\n",
       "      <td>1</td>\n",
       "      <td>3</td>\n",
       "      <td>Heikkinen, Miss. Laina</td>\n",
       "      <td>female</td>\n",
       "      <td>26.0</td>\n",
       "      <td>0</td>\n",
       "      <td>0</td>\n",
       "      <td>STON/O2. 3101282</td>\n",
       "      <td>7.9250</td>\n",
       "      <td>NaN</td>\n",
       "      <td>S</td>\n",
       "    </tr>\n",
       "    <tr>\n",
       "      <th>4</th>\n",
       "      <td>1</td>\n",
       "      <td>1</td>\n",
       "      <td>Futrelle, Mrs. Jacques Heath (Lily May Peel)</td>\n",
       "      <td>female</td>\n",
       "      <td>35.0</td>\n",
       "      <td>1</td>\n",
       "      <td>0</td>\n",
       "      <td>113803</td>\n",
       "      <td>53.1000</td>\n",
       "      <td>C123</td>\n",
       "      <td>S</td>\n",
       "    </tr>\n",
       "    <tr>\n",
       "      <th>5</th>\n",
       "      <td>0</td>\n",
       "      <td>3</td>\n",
       "      <td>Allen, Mr. William Henry</td>\n",
       "      <td>male</td>\n",
       "      <td>35.0</td>\n",
       "      <td>0</td>\n",
       "      <td>0</td>\n",
       "      <td>373450</td>\n",
       "      <td>8.0500</td>\n",
       "      <td>NaN</td>\n",
       "      <td>S</td>\n",
       "    </tr>\n",
       "    <tr>\n",
       "      <th>...</th>\n",
       "      <td>...</td>\n",
       "      <td>...</td>\n",
       "      <td>...</td>\n",
       "      <td>...</td>\n",
       "      <td>...</td>\n",
       "      <td>...</td>\n",
       "      <td>...</td>\n",
       "      <td>...</td>\n",
       "      <td>...</td>\n",
       "      <td>...</td>\n",
       "      <td>...</td>\n",
       "    </tr>\n",
       "    <tr>\n",
       "      <th>887</th>\n",
       "      <td>0</td>\n",
       "      <td>2</td>\n",
       "      <td>Montvila, Rev. Juozas</td>\n",
       "      <td>male</td>\n",
       "      <td>27.0</td>\n",
       "      <td>0</td>\n",
       "      <td>0</td>\n",
       "      <td>211536</td>\n",
       "      <td>13.0000</td>\n",
       "      <td>NaN</td>\n",
       "      <td>S</td>\n",
       "    </tr>\n",
       "    <tr>\n",
       "      <th>888</th>\n",
       "      <td>1</td>\n",
       "      <td>1</td>\n",
       "      <td>Graham, Miss. Margaret Edith</td>\n",
       "      <td>female</td>\n",
       "      <td>19.0</td>\n",
       "      <td>0</td>\n",
       "      <td>0</td>\n",
       "      <td>112053</td>\n",
       "      <td>30.0000</td>\n",
       "      <td>B42</td>\n",
       "      <td>S</td>\n",
       "    </tr>\n",
       "    <tr>\n",
       "      <th>889</th>\n",
       "      <td>0</td>\n",
       "      <td>3</td>\n",
       "      <td>Johnston, Miss. Catherine Helen \"Carrie\"</td>\n",
       "      <td>female</td>\n",
       "      <td>NaN</td>\n",
       "      <td>1</td>\n",
       "      <td>2</td>\n",
       "      <td>W./C. 6607</td>\n",
       "      <td>23.4500</td>\n",
       "      <td>NaN</td>\n",
       "      <td>S</td>\n",
       "    </tr>\n",
       "    <tr>\n",
       "      <th>890</th>\n",
       "      <td>1</td>\n",
       "      <td>1</td>\n",
       "      <td>Behr, Mr. Karl Howell</td>\n",
       "      <td>male</td>\n",
       "      <td>26.0</td>\n",
       "      <td>0</td>\n",
       "      <td>0</td>\n",
       "      <td>111369</td>\n",
       "      <td>30.0000</td>\n",
       "      <td>C148</td>\n",
       "      <td>C</td>\n",
       "    </tr>\n",
       "    <tr>\n",
       "      <th>891</th>\n",
       "      <td>0</td>\n",
       "      <td>3</td>\n",
       "      <td>Dooley, Mr. Patrick</td>\n",
       "      <td>male</td>\n",
       "      <td>32.0</td>\n",
       "      <td>0</td>\n",
       "      <td>0</td>\n",
       "      <td>370376</td>\n",
       "      <td>7.7500</td>\n",
       "      <td>NaN</td>\n",
       "      <td>Q</td>\n",
       "    </tr>\n",
       "  </tbody>\n",
       "</table>\n",
       "<p>891 rows × 11 columns</p>\n",
       "</div>"
      ],
      "text/plain": [
       "             Survived  Pclass  \\\n",
       "PassengerId                     \n",
       "1                   0       3   \n",
       "2                   1       1   \n",
       "3                   1       3   \n",
       "4                   1       1   \n",
       "5                   0       3   \n",
       "...               ...     ...   \n",
       "887                 0       2   \n",
       "888                 1       1   \n",
       "889                 0       3   \n",
       "890                 1       1   \n",
       "891                 0       3   \n",
       "\n",
       "                                                          Name     Sex   Age  \\\n",
       "PassengerId                                                                    \n",
       "1                                      Braund, Mr. Owen Harris    male  22.0   \n",
       "2            Cumings, Mrs. John Bradley (Florence Briggs Th...  female  38.0   \n",
       "3                                       Heikkinen, Miss. Laina  female  26.0   \n",
       "4                 Futrelle, Mrs. Jacques Heath (Lily May Peel)  female  35.0   \n",
       "5                                     Allen, Mr. William Henry    male  35.0   \n",
       "...                                                        ...     ...   ...   \n",
       "887                                      Montvila, Rev. Juozas    male  27.0   \n",
       "888                               Graham, Miss. Margaret Edith  female  19.0   \n",
       "889                   Johnston, Miss. Catherine Helen \"Carrie\"  female   NaN   \n",
       "890                                      Behr, Mr. Karl Howell    male  26.0   \n",
       "891                                        Dooley, Mr. Patrick    male  32.0   \n",
       "\n",
       "             SibSp  Parch            Ticket     Fare Cabin Embarked  \n",
       "PassengerId                                                          \n",
       "1                1      0         A/5 21171   7.2500   NaN        S  \n",
       "2                1      0          PC 17599  71.2833   C85        C  \n",
       "3                0      0  STON/O2. 3101282   7.9250   NaN        S  \n",
       "4                1      0            113803  53.1000  C123        S  \n",
       "5                0      0            373450   8.0500   NaN        S  \n",
       "...            ...    ...               ...      ...   ...      ...  \n",
       "887              0      0            211536  13.0000   NaN        S  \n",
       "888              0      0            112053  30.0000   B42        S  \n",
       "889              1      2        W./C. 6607  23.4500   NaN        S  \n",
       "890              0      0            111369  30.0000  C148        C  \n",
       "891              0      0            370376   7.7500   NaN        Q  \n",
       "\n",
       "[891 rows x 11 columns]"
      ]
     },
     "execution_count": 339,
     "metadata": {},
     "output_type": "execute_result"
    }
   ],
   "source": [
    "train"
   ]
  },
  {
   "cell_type": "code",
   "execution_count": 340,
   "id": "e49a4b42",
   "metadata": {},
   "outputs": [
    {
     "data": {
      "text/html": [
       "<div>\n",
       "<style scoped>\n",
       "    .dataframe tbody tr th:only-of-type {\n",
       "        vertical-align: middle;\n",
       "    }\n",
       "\n",
       "    .dataframe tbody tr th {\n",
       "        vertical-align: top;\n",
       "    }\n",
       "\n",
       "    .dataframe thead th {\n",
       "        text-align: right;\n",
       "    }\n",
       "</style>\n",
       "<table border=\"1\" class=\"dataframe\">\n",
       "  <thead>\n",
       "    <tr style=\"text-align: right;\">\n",
       "      <th></th>\n",
       "      <th>Pclass</th>\n",
       "      <th>Name</th>\n",
       "      <th>Sex</th>\n",
       "      <th>Age</th>\n",
       "      <th>SibSp</th>\n",
       "      <th>Parch</th>\n",
       "      <th>Ticket</th>\n",
       "      <th>Fare</th>\n",
       "      <th>Cabin</th>\n",
       "      <th>Embarked</th>\n",
       "    </tr>\n",
       "    <tr>\n",
       "      <th>PassengerId</th>\n",
       "      <th></th>\n",
       "      <th></th>\n",
       "      <th></th>\n",
       "      <th></th>\n",
       "      <th></th>\n",
       "      <th></th>\n",
       "      <th></th>\n",
       "      <th></th>\n",
       "      <th></th>\n",
       "      <th></th>\n",
       "    </tr>\n",
       "  </thead>\n",
       "  <tbody>\n",
       "    <tr>\n",
       "      <th>892</th>\n",
       "      <td>3</td>\n",
       "      <td>Kelly, Mr. James</td>\n",
       "      <td>male</td>\n",
       "      <td>34.5</td>\n",
       "      <td>0</td>\n",
       "      <td>0</td>\n",
       "      <td>330911</td>\n",
       "      <td>7.8292</td>\n",
       "      <td>NaN</td>\n",
       "      <td>Q</td>\n",
       "    </tr>\n",
       "    <tr>\n",
       "      <th>893</th>\n",
       "      <td>3</td>\n",
       "      <td>Wilkes, Mrs. James (Ellen Needs)</td>\n",
       "      <td>female</td>\n",
       "      <td>47.0</td>\n",
       "      <td>1</td>\n",
       "      <td>0</td>\n",
       "      <td>363272</td>\n",
       "      <td>7.0000</td>\n",
       "      <td>NaN</td>\n",
       "      <td>S</td>\n",
       "    </tr>\n",
       "    <tr>\n",
       "      <th>894</th>\n",
       "      <td>2</td>\n",
       "      <td>Myles, Mr. Thomas Francis</td>\n",
       "      <td>male</td>\n",
       "      <td>62.0</td>\n",
       "      <td>0</td>\n",
       "      <td>0</td>\n",
       "      <td>240276</td>\n",
       "      <td>9.6875</td>\n",
       "      <td>NaN</td>\n",
       "      <td>Q</td>\n",
       "    </tr>\n",
       "    <tr>\n",
       "      <th>895</th>\n",
       "      <td>3</td>\n",
       "      <td>Wirz, Mr. Albert</td>\n",
       "      <td>male</td>\n",
       "      <td>27.0</td>\n",
       "      <td>0</td>\n",
       "      <td>0</td>\n",
       "      <td>315154</td>\n",
       "      <td>8.6625</td>\n",
       "      <td>NaN</td>\n",
       "      <td>S</td>\n",
       "    </tr>\n",
       "    <tr>\n",
       "      <th>896</th>\n",
       "      <td>3</td>\n",
       "      <td>Hirvonen, Mrs. Alexander (Helga E Lindqvist)</td>\n",
       "      <td>female</td>\n",
       "      <td>22.0</td>\n",
       "      <td>1</td>\n",
       "      <td>1</td>\n",
       "      <td>3101298</td>\n",
       "      <td>12.2875</td>\n",
       "      <td>NaN</td>\n",
       "      <td>S</td>\n",
       "    </tr>\n",
       "    <tr>\n",
       "      <th>...</th>\n",
       "      <td>...</td>\n",
       "      <td>...</td>\n",
       "      <td>...</td>\n",
       "      <td>...</td>\n",
       "      <td>...</td>\n",
       "      <td>...</td>\n",
       "      <td>...</td>\n",
       "      <td>...</td>\n",
       "      <td>...</td>\n",
       "      <td>...</td>\n",
       "    </tr>\n",
       "    <tr>\n",
       "      <th>1305</th>\n",
       "      <td>3</td>\n",
       "      <td>Spector, Mr. Woolf</td>\n",
       "      <td>male</td>\n",
       "      <td>NaN</td>\n",
       "      <td>0</td>\n",
       "      <td>0</td>\n",
       "      <td>A.5. 3236</td>\n",
       "      <td>8.0500</td>\n",
       "      <td>NaN</td>\n",
       "      <td>S</td>\n",
       "    </tr>\n",
       "    <tr>\n",
       "      <th>1306</th>\n",
       "      <td>1</td>\n",
       "      <td>Oliva y Ocana, Dona. Fermina</td>\n",
       "      <td>female</td>\n",
       "      <td>39.0</td>\n",
       "      <td>0</td>\n",
       "      <td>0</td>\n",
       "      <td>PC 17758</td>\n",
       "      <td>108.9000</td>\n",
       "      <td>C105</td>\n",
       "      <td>C</td>\n",
       "    </tr>\n",
       "    <tr>\n",
       "      <th>1307</th>\n",
       "      <td>3</td>\n",
       "      <td>Saether, Mr. Simon Sivertsen</td>\n",
       "      <td>male</td>\n",
       "      <td>38.5</td>\n",
       "      <td>0</td>\n",
       "      <td>0</td>\n",
       "      <td>SOTON/O.Q. 3101262</td>\n",
       "      <td>7.2500</td>\n",
       "      <td>NaN</td>\n",
       "      <td>S</td>\n",
       "    </tr>\n",
       "    <tr>\n",
       "      <th>1308</th>\n",
       "      <td>3</td>\n",
       "      <td>Ware, Mr. Frederick</td>\n",
       "      <td>male</td>\n",
       "      <td>NaN</td>\n",
       "      <td>0</td>\n",
       "      <td>0</td>\n",
       "      <td>359309</td>\n",
       "      <td>8.0500</td>\n",
       "      <td>NaN</td>\n",
       "      <td>S</td>\n",
       "    </tr>\n",
       "    <tr>\n",
       "      <th>1309</th>\n",
       "      <td>3</td>\n",
       "      <td>Peter, Master. Michael J</td>\n",
       "      <td>male</td>\n",
       "      <td>NaN</td>\n",
       "      <td>1</td>\n",
       "      <td>1</td>\n",
       "      <td>2668</td>\n",
       "      <td>22.3583</td>\n",
       "      <td>NaN</td>\n",
       "      <td>C</td>\n",
       "    </tr>\n",
       "  </tbody>\n",
       "</table>\n",
       "<p>418 rows × 10 columns</p>\n",
       "</div>"
      ],
      "text/plain": [
       "             Pclass                                          Name     Sex  \\\n",
       "PassengerId                                                                 \n",
       "892               3                              Kelly, Mr. James    male   \n",
       "893               3              Wilkes, Mrs. James (Ellen Needs)  female   \n",
       "894               2                     Myles, Mr. Thomas Francis    male   \n",
       "895               3                              Wirz, Mr. Albert    male   \n",
       "896               3  Hirvonen, Mrs. Alexander (Helga E Lindqvist)  female   \n",
       "...             ...                                           ...     ...   \n",
       "1305              3                            Spector, Mr. Woolf    male   \n",
       "1306              1                  Oliva y Ocana, Dona. Fermina  female   \n",
       "1307              3                  Saether, Mr. Simon Sivertsen    male   \n",
       "1308              3                           Ware, Mr. Frederick    male   \n",
       "1309              3                      Peter, Master. Michael J    male   \n",
       "\n",
       "              Age  SibSp  Parch              Ticket      Fare Cabin Embarked  \n",
       "PassengerId                                                                   \n",
       "892          34.5      0      0              330911    7.8292   NaN        Q  \n",
       "893          47.0      1      0              363272    7.0000   NaN        S  \n",
       "894          62.0      0      0              240276    9.6875   NaN        Q  \n",
       "895          27.0      0      0              315154    8.6625   NaN        S  \n",
       "896          22.0      1      1             3101298   12.2875   NaN        S  \n",
       "...           ...    ...    ...                 ...       ...   ...      ...  \n",
       "1305          NaN      0      0           A.5. 3236    8.0500   NaN        S  \n",
       "1306         39.0      0      0            PC 17758  108.9000  C105        C  \n",
       "1307         38.5      0      0  SOTON/O.Q. 3101262    7.2500   NaN        S  \n",
       "1308          NaN      0      0              359309    8.0500   NaN        S  \n",
       "1309          NaN      1      1                2668   22.3583   NaN        C  \n",
       "\n",
       "[418 rows x 10 columns]"
      ]
     },
     "execution_count": 340,
     "metadata": {},
     "output_type": "execute_result"
    }
   ],
   "source": [
    "test"
   ]
  },
  {
   "cell_type": "markdown",
   "id": "d1feabc4",
   "metadata": {},
   "source": [
    "### 3. 데이터 전처리"
   ]
  },
  {
   "cell_type": "markdown",
   "id": "c42e6718",
   "metadata": {},
   "source": [
    "##### 결측치 여부 확인\n",
    "- train\n",
    "    - Age\n",
    "    - Cabin\n",
    "    - Embarked\n",
    "- test\n",
    "    - Age\n",
    "    - Fare\n",
    "    - Cabin\n",
    "- 단순 기술통계량으로 결측치를 채우지 않고 각 컬럼간의 상관관계를 파악하여 채워보자!"
   ]
  },
  {
   "cell_type": "code",
   "execution_count": 341,
   "id": "e36f51ec",
   "metadata": {},
   "outputs": [
    {
     "name": "stdout",
     "output_type": "stream",
     "text": [
      "<class 'pandas.core.frame.DataFrame'>\n",
      "Index: 891 entries, 1 to 891\n",
      "Data columns (total 11 columns):\n",
      " #   Column    Non-Null Count  Dtype  \n",
      "---  ------    --------------  -----  \n",
      " 0   Survived  891 non-null    int64  \n",
      " 1   Pclass    891 non-null    int64  \n",
      " 2   Name      891 non-null    object \n",
      " 3   Sex       891 non-null    object \n",
      " 4   Age       714 non-null    float64\n",
      " 5   SibSp     891 non-null    int64  \n",
      " 6   Parch     891 non-null    int64  \n",
      " 7   Ticket    891 non-null    object \n",
      " 8   Fare      891 non-null    float64\n",
      " 9   Cabin     204 non-null    object \n",
      " 10  Embarked  889 non-null    object \n",
      "dtypes: float64(2), int64(4), object(5)\n",
      "memory usage: 83.5+ KB\n"
     ]
    }
   ],
   "source": [
    "# train 정보확인\n",
    "train.info()\n",
    "\n",
    "# 결측치\n",
    "# 데이터타입\n",
    "\n",
    "# <class 'pandas.core.frame.DataFrame'>\n",
    "# Index: 891 entries, 1 to 891\n",
    "# Data columns (total 11 columns):\n",
    "#  #   Column    Non-Null Count  Dtype  \n",
    "# ---  ------    --------------  -----  \n",
    "#  0   Survived  891 non-null    int64  \n",
    "#  1   Pclass    891 non-null    int64  \n",
    "#  2   Name      891 non-null    object \n",
    "#  3   Sex       891 non-null    object \n",
    "#  4   Age       714 non-null    float64\n",
    "#  5   SibSp     891 non-null    int64  \n",
    "#  6   Parch     891 non-null    int64  \n",
    "#  7   Ticket    891 non-null    object \n",
    "#  8   Fare      891 non-null    float64\n",
    "#  9   Cabin     204 non-null    object \n",
    "#  10  Embarked  889 non-null    object \n",
    "# dtypes: float64(2), int64(4), object(5)\n",
    "# memory usage: 83.5+ KB"
   ]
  },
  {
   "cell_type": "code",
   "execution_count": 342,
   "id": "5fb37cea",
   "metadata": {},
   "outputs": [
    {
     "name": "stdout",
     "output_type": "stream",
     "text": [
      "<class 'pandas.core.frame.DataFrame'>\n",
      "Index: 418 entries, 892 to 1309\n",
      "Data columns (total 10 columns):\n",
      " #   Column    Non-Null Count  Dtype  \n",
      "---  ------    --------------  -----  \n",
      " 0   Pclass    418 non-null    int64  \n",
      " 1   Name      418 non-null    object \n",
      " 2   Sex       418 non-null    object \n",
      " 3   Age       332 non-null    float64\n",
      " 4   SibSp     418 non-null    int64  \n",
      " 5   Parch     418 non-null    int64  \n",
      " 6   Ticket    418 non-null    object \n",
      " 7   Fare      417 non-null    float64\n",
      " 8   Cabin     91 non-null     object \n",
      " 9   Embarked  418 non-null    object \n",
      "dtypes: float64(2), int64(3), object(5)\n",
      "memory usage: 35.9+ KB\n"
     ]
    }
   ],
   "source": [
    "#자영\n",
    "test.info()"
   ]
  },
  {
   "attachments": {
    "image.png": {
     "image/png": "[encoded data removed]"
    }
   },
   "cell_type": "markdown",
   "id": "63ecd1bf",
   "metadata": {},
   "source": [
    "![image.png](attachment:image.png)"
   ]
  },
  {
   "cell_type": "markdown",
   "id": "ac3278c8",
   "metadata": {},
   "source": [
    "- train -> Age 결측치 채우기!\n",
    "    - 나이 데이터는 주로 평균값으로 결측치를 채움\n",
    "    - 기술통계량을 확인해봤을 때 전체적인 나이가 앞쪽으로 치우쳐져 있는 것을 확인\n",
    "    (모델의 신뢰성이 낮아질 수 있음)\n",
    "    - 다른 컬럼들과의 상관관계를 확인하여 결측치를 상세하게 채워보자!\n",
    "    "
   ]
  },
  {
   "cell_type": "code",
   "execution_count": 343,
   "id": "c0bc2279",
   "metadata": {},
   "outputs": [
    {
     "data": {
      "text/plain": [
       "29.69911764705882"
      ]
     },
     "execution_count": 343,
     "metadata": {},
     "output_type": "execute_result"
    }
   ],
   "source": [
    "#자:train의 Age컬럼의 평균\n",
    "train['Age'].mean() # 29.69911764705882\n"
   ]
  },
  {
   "cell_type": "code",
   "execution_count": 344,
   "id": "bbfa0738",
   "metadata": {},
   "outputs": [
    {
     "data": {
      "text/plain": [
       "count    714.000000\n",
       "mean      29.699118\n",
       "std       14.526497\n",
       "min        0.420000\n",
       "25%       20.125000\n",
       "50%       28.000000\n",
       "75%       38.000000\n",
       "max       80.000000\n",
       "Name: Age, dtype: float64"
      ]
     },
     "execution_count": 344,
     "metadata": {},
     "output_type": "execute_result"
    }
   ],
   "source": [
    "# 나이 데이터의 기술통계량 확인\n",
    "train['Age'].describe()\n",
    "\n",
    "# count    714.000000\n",
    "# mean      29.699118\n",
    "# std       14.526497\n",
    "# min        0.420000\n",
    "# 25%       20.125000\n",
    "# 50%       28.000000\n",
    "# 75%       38.000000\n",
    "# max       80.000000\n",
    "# Name: Age, dtype: float64"
   ]
  },
  {
   "attachments": {
    "image.png": {
     "image/png": "[encoded data removed]"
    }
   },
   "cell_type": "markdown",
   "id": "d27017ae",
   "metadata": {},
   "source": [
    "- 절댓값으로 1에 가까울수록 상관관계가 높다\n",
    "![image.png](attachment:image.png)"
   ]
  },
  {
   "cell_type": "code",
   "execution_count": 345,
   "id": "2fc99193",
   "metadata": {
    "scrolled": false
   },
   "outputs": [
    {
     "data": {
      "text/html": [
       "<div>\n",
       "<style scoped>\n",
       "    .dataframe tbody tr th:only-of-type {\n",
       "        vertical-align: middle;\n",
       "    }\n",
       "\n",
       "    .dataframe tbody tr th {\n",
       "        vertical-align: top;\n",
       "    }\n",
       "\n",
       "    .dataframe thead th {\n",
       "        text-align: right;\n",
       "    }\n",
       "</style>\n",
       "<table border=\"1\" class=\"dataframe\">\n",
       "  <thead>\n",
       "    <tr style=\"text-align: right;\">\n",
       "      <th></th>\n",
       "      <th>Survived</th>\n",
       "      <th>Pclass</th>\n",
       "      <th>Age</th>\n",
       "      <th>SibSp</th>\n",
       "      <th>Parch</th>\n",
       "      <th>Fare</th>\n",
       "    </tr>\n",
       "  </thead>\n",
       "  <tbody>\n",
       "    <tr>\n",
       "      <th>Survived</th>\n",
       "      <td>1.000000</td>\n",
       "      <td>-0.338481</td>\n",
       "      <td>-0.077221</td>\n",
       "      <td>-0.035322</td>\n",
       "      <td>0.081629</td>\n",
       "      <td>0.257307</td>\n",
       "    </tr>\n",
       "    <tr>\n",
       "      <th>Pclass</th>\n",
       "      <td>-0.338481</td>\n",
       "      <td>1.000000</td>\n",
       "      <td>-0.369226</td>\n",
       "      <td>0.083081</td>\n",
       "      <td>0.018443</td>\n",
       "      <td>-0.549500</td>\n",
       "    </tr>\n",
       "    <tr>\n",
       "      <th>Age</th>\n",
       "      <td>-0.077221</td>\n",
       "      <td>-0.369226</td>\n",
       "      <td>1.000000</td>\n",
       "      <td>-0.308247</td>\n",
       "      <td>-0.189119</td>\n",
       "      <td>0.096067</td>\n",
       "    </tr>\n",
       "    <tr>\n",
       "      <th>SibSp</th>\n",
       "      <td>-0.035322</td>\n",
       "      <td>0.083081</td>\n",
       "      <td>-0.308247</td>\n",
       "      <td>1.000000</td>\n",
       "      <td>0.414838</td>\n",
       "      <td>0.159651</td>\n",
       "    </tr>\n",
       "    <tr>\n",
       "      <th>Parch</th>\n",
       "      <td>0.081629</td>\n",
       "      <td>0.018443</td>\n",
       "      <td>-0.189119</td>\n",
       "      <td>0.414838</td>\n",
       "      <td>1.000000</td>\n",
       "      <td>0.216225</td>\n",
       "    </tr>\n",
       "    <tr>\n",
       "      <th>Fare</th>\n",
       "      <td>0.257307</td>\n",
       "      <td>-0.549500</td>\n",
       "      <td>0.096067</td>\n",
       "      <td>0.159651</td>\n",
       "      <td>0.216225</td>\n",
       "      <td>1.000000</td>\n",
       "    </tr>\n",
       "  </tbody>\n",
       "</table>\n",
       "</div>"
      ],
      "text/plain": [
       "          Survived    Pclass       Age     SibSp     Parch      Fare\n",
       "Survived  1.000000 -0.338481 -0.077221 -0.035322  0.081629  0.257307\n",
       "Pclass   -0.338481  1.000000 -0.369226  0.083081  0.018443 -0.549500\n",
       "Age      -0.077221 -0.369226  1.000000 -0.308247 -0.189119  0.096067\n",
       "SibSp    -0.035322  0.083081 -0.308247  1.000000  0.414838  0.159651\n",
       "Parch     0.081629  0.018443 -0.189119  0.414838  1.000000  0.216225\n",
       "Fare      0.257307 -0.549500  0.096067  0.159651  0.216225  1.000000"
      ]
     },
     "execution_count": 345,
     "metadata": {},
     "output_type": "execute_result"
    }
   ],
   "source": [
    "train.corr(numeric_only=True)\n",
    "# -1 ~ 1 사이의 값을 가지며 \n",
    "# 절댓값으로! 1에 가까울수록 높은 상관관계를 가진다\n",
    "# 0에 가까울수록 관계가 없음을 의미\n",
    "\n",
    "# Age 컬럼과 상관관계가 높은 Pclass 컬럼을 활용"
   ]
  },
  {
   "cell_type": "code",
   "execution_count": 346,
   "id": "1e8542c5",
   "metadata": {
    "scrolled": true
   },
   "outputs": [
    {
     "data": {
      "text/html": [
       "<div>\n",
       "<style scoped>\n",
       "    .dataframe tbody tr th:only-of-type {\n",
       "        vertical-align: middle;\n",
       "    }\n",
       "\n",
       "    .dataframe tbody tr th {\n",
       "        vertical-align: top;\n",
       "    }\n",
       "\n",
       "    .dataframe thead th {\n",
       "        text-align: right;\n",
       "    }\n",
       "</style>\n",
       "<table border=\"1\" class=\"dataframe\">\n",
       "  <thead>\n",
       "    <tr style=\"text-align: right;\">\n",
       "      <th></th>\n",
       "      <th></th>\n",
       "      <th>Age</th>\n",
       "    </tr>\n",
       "    <tr>\n",
       "      <th>Pclass</th>\n",
       "      <th>Sex</th>\n",
       "      <th></th>\n",
       "    </tr>\n",
       "  </thead>\n",
       "  <tbody>\n",
       "    <tr>\n",
       "      <th rowspan=\"2\" valign=\"top\">1</th>\n",
       "      <th>female</th>\n",
       "      <td>34.611765</td>\n",
       "    </tr>\n",
       "    <tr>\n",
       "      <th>male</th>\n",
       "      <td>41.281386</td>\n",
       "    </tr>\n",
       "    <tr>\n",
       "      <th rowspan=\"2\" valign=\"top\">2</th>\n",
       "      <th>female</th>\n",
       "      <td>28.722973</td>\n",
       "    </tr>\n",
       "    <tr>\n",
       "      <th>male</th>\n",
       "      <td>30.740707</td>\n",
       "    </tr>\n",
       "    <tr>\n",
       "      <th rowspan=\"2\" valign=\"top\">3</th>\n",
       "      <th>female</th>\n",
       "      <td>21.750000</td>\n",
       "    </tr>\n",
       "    <tr>\n",
       "      <th>male</th>\n",
       "      <td>26.507589</td>\n",
       "    </tr>\n",
       "  </tbody>\n",
       "</table>\n",
       "</div>"
      ],
      "text/plain": [
       "                     Age\n",
       "Pclass Sex              \n",
       "1      female  34.611765\n",
       "       male    41.281386\n",
       "2      female  28.722973\n",
       "       male    30.740707\n",
       "3      female  21.750000\n",
       "       male    26.507589"
      ]
     },
     "execution_count": 346,
     "metadata": {},
     "output_type": "execute_result"
    }
   ],
   "source": [
    "# 피봇테이블 -> 컬럼들 간의 요약된 정보를 출력할 수 있는 테이블 형태의 데이터\n",
    "# Age 평균값을 구할건데, Pclass, Sex에 따른 평균값\n",
    "pt1 = train.pivot_table(values='Age', # 데이터로 사용될 컬럼\n",
    "                 index = ['Pclass', 'Sex'], # 데이터 요약 사용할 컬럼\n",
    "                 aggfunc='mean') # 그룹별로 조화할 함수 (sum, mean, count)\n",
    "pt1"
   ]
  },
  {
   "cell_type": "code",
   "execution_count": 347,
   "id": "bd7c6823",
   "metadata": {},
   "outputs": [
    {
     "data": {
      "text/plain": [
       "34.61176470588235"
      ]
     },
     "execution_count": 347,
     "metadata": {},
     "output_type": "execute_result"
    }
   ],
   "source": [
    "# 다중인덱싱/멀티인덱싱 -> 두 개 이상의 인덱스가 있을 때 값 가져오는 방법\n",
    "# df.loc[(앞인덱스, 뒤인덱스), (자:가져오고싶은)컬럼명]\n",
    "\n",
    "# 1등급 여자의 나이\n",
    "pt1.loc[(1,'female'), 'Age'] #34.61176470588235"
   ]
  },
  {
   "cell_type": "code",
   "execution_count": 348,
   "id": "17b29d05",
   "metadata": {},
   "outputs": [
    {
     "data": {
      "text/plain": [
       "30.74070707070707"
      ]
     },
     "execution_count": 348,
     "metadata": {},
     "output_type": "execute_result"
    }
   ],
   "source": [
    "# 실습 (자영풀이)\n",
    "# 2등급 남자의 나이\n",
    "pt1.loc[(2, 'male'), 'Age'] # 30.74070707070707"
   ]
  },
  {
   "cell_type": "code",
   "execution_count": 349,
   "id": "5ed3c9a8",
   "metadata": {},
   "outputs": [
    {
     "data": {
      "text/plain": [
       "21.75"
      ]
     },
     "execution_count": 349,
     "metadata": {},
     "output_type": "execute_result"
    }
   ],
   "source": [
    "# 3등급 여자의 나이\n",
    "pt1.loc[(3, 'female'), 'Age'] # 21.75"
   ]
  },
  {
   "cell_type": "code",
   "execution_count": 350,
   "id": "220041ba",
   "metadata": {},
   "outputs": [],
   "source": [
    "# 나이 결측치를 출력해주는 기능 함수화\n",
    "def fill_age (data):\n",
    "    if pd.isna(data['Age']): # Age 컬럼에 결측치가 있다면?\n",
    "        return pt1.loc[(data['Pclass'], data['Sex']), 'Age'] # Pclass, Sex 맞는 나이값 출력\n",
    "    else: # 결측치가 없다면?\n",
    "        return data['Age'] # 원래 Age 컬럼에 있는 값을 출력\n",
    "        "
   ]
  },
  {
   "cell_type": "code",
   "execution_count": 351,
   "id": "36ec8aa2",
   "metadata": {},
   "outputs": [],
   "source": [
    "# apply 함수 : DataFrame에 함수를 적용하기 위해 사용함 (자: 행단위?열단위? 결정)\n",
    "# DataFrame.apply(함수명, 축설정)"
   ]
  },
  {
   "cell_type": "code",
   "execution_count": 352,
   "id": "34fea03e",
   "metadata": {},
   "outputs": [],
   "source": [
    "# train의 Age 컬럼에 위의 함수를 통해 출력된 값으로 업데이트\n",
    "train['Age'] = train.apply(fill_age, axis=1).astype('int64')"
   ]
  },
  {
   "cell_type": "code",
   "execution_count": 353,
   "id": "1e4b4051",
   "metadata": {
    "scrolled": true
   },
   "outputs": [
    {
     "name": "stdout",
     "output_type": "stream",
     "text": [
      "<class 'pandas.core.frame.DataFrame'>\n",
      "Index: 891 entries, 1 to 891\n",
      "Data columns (total 11 columns):\n",
      " #   Column    Non-Null Count  Dtype  \n",
      "---  ------    --------------  -----  \n",
      " 0   Survived  891 non-null    int64  \n",
      " 1   Pclass    891 non-null    int64  \n",
      " 2   Name      891 non-null    object \n",
      " 3   Sex       891 non-null    object \n",
      " 4   Age       891 non-null    int64  \n",
      " 5   SibSp     891 non-null    int64  \n",
      " 6   Parch     891 non-null    int64  \n",
      " 7   Ticket    891 non-null    object \n",
      " 8   Fare      891 non-null    float64\n",
      " 9   Cabin     204 non-null    object \n",
      " 10  Embarked  889 non-null    object \n",
      "dtypes: float64(1), int64(5), object(5)\n",
      "memory usage: 83.5+ KB\n"
     ]
    }
   ],
   "source": [
    "train.info()\n",
    "# <class 'pandas.core.frame.DataFrame'>\n",
    "# Index: 891 entries, 1 to 891\n",
    "# Data columns (total 11 columns):\n",
    "#  #   Column    Non-Null Count  Dtype  \n",
    "# ---  ------    --------------  -----  \n",
    "#  0   Survived  891 non-null    int64  \n",
    "#  1   Pclass    891 non-null    int64  \n",
    "#  2   Name      891 non-null    object \n",
    "#  3   Sex       891 non-null    object \n",
    "#  4   Age       891 non-null    int64  \n",
    "#  5   SibSp     891 non-null    int64  \n",
    "#  6   Parch     891 non-null    int64  \n",
    "#  7   Ticket    891 non-null    object \n",
    "#  8   Fare      891 non-null    float64\n",
    "#  9   Cabin     204 non-null    object \n",
    "#  10  Embarked  889 non-null    object \n",
    "# dtypes: float64(1), int64(5), object(5)\n",
    "# memory usage: 83.5+ KB"
   ]
  },
  {
   "cell_type": "markdown",
   "id": "81ee4f66",
   "metadata": {},
   "source": [
    "- test ->Age 컬럼 결측치 채우기"
   ]
  },
  {
   "cell_type": "code",
   "execution_count": 354,
   "id": "574ab080",
   "metadata": {},
   "outputs": [],
   "source": [
    "# # test 데이터 채우기\n",
    "# # 자영 실습\n",
    "\n",
    "# # 1. 상관관계 파악\n",
    "# test.corr(numeric_only=True)\n",
    "\n",
    "\n",
    "# # 2. 피봇테이블 만들기\n",
    "# pt21 = test.pivot_table(values='Age', # 데이터로 사용될 컬럼\n",
    "#                  index = ['Pclass', 'Sex'], # 데이터 요약 사용할 컬럼\n",
    "#                  aggfunc='mean') # 그룹별로 조화할 함수 (sum, mean, count)\n",
    "# pt21\n",
    "\n",
    "# # 3. 나이 출력 함수 만들기\n",
    "# def fill_age21 (data):\n",
    "#     if pd.isna(data['Age']): # Age 컬럼에 결측치가 있다면?\n",
    "#         return pt21.loc[(data['Pclass'], data['Sex']), 'Age'] # Pclass, Sex 맞는 나이값 출력\n",
    "#     else: # 결측치가 없다면?\n",
    "#         return data['Age'] # 원래 Age 컬럼에 있는 값을 출력\n",
    "\n",
    "# # 4. test data에 적용\n",
    "# test['Age'] = test.apply(fill_age21, axis=1).astype('int64')\n",
    "# test.info()"
   ]
  },
  {
   "cell_type": "code",
   "execution_count": 355,
   "id": "6d6b08be",
   "metadata": {},
   "outputs": [],
   "source": [
    "# test 데이터 채우기\n",
    "# 쌤풀이\n",
    "test['Age'] = test.apply(fill_age, axis = 1).astype('int64')"
   ]
  },
  {
   "cell_type": "code",
   "execution_count": 356,
   "id": "116ec41a",
   "metadata": {
    "scrolled": true
   },
   "outputs": [
    {
     "name": "stdout",
     "output_type": "stream",
     "text": [
      "<class 'pandas.core.frame.DataFrame'>\n",
      "Index: 418 entries, 892 to 1309\n",
      "Data columns (total 10 columns):\n",
      " #   Column    Non-Null Count  Dtype  \n",
      "---  ------    --------------  -----  \n",
      " 0   Pclass    418 non-null    int64  \n",
      " 1   Name      418 non-null    object \n",
      " 2   Sex       418 non-null    object \n",
      " 3   Age       418 non-null    int64  \n",
      " 4   SibSp     418 non-null    int64  \n",
      " 5   Parch     418 non-null    int64  \n",
      " 6   Ticket    418 non-null    object \n",
      " 7   Fare      417 non-null    float64\n",
      " 8   Cabin     91 non-null     object \n",
      " 9   Embarked  418 non-null    object \n",
      "dtypes: float64(1), int64(4), object(5)\n",
      "memory usage: 35.9+ KB\n"
     ]
    }
   ],
   "source": [
    "test.info()\n",
    "#<class 'pandas.core.frame.DataFrame'>\n",
    "# Index: 418 entries, 892 to 1309\n",
    "# Data columns (total 10 columns):\n",
    "#  #   Column    Non-Null Count  Dtype  \n",
    "# ---  ------    --------------  -----  \n",
    "#  0   Pclass    418 non-null    int64  \n",
    "#  1   Name      418 non-null    object \n",
    "#  2   Sex       418 non-null    object \n",
    "#  3   Age       418 non-null    int64  \n",
    "#  4   SibSp     418 non-null    int64  \n",
    "#  5   Parch     418 non-null    int64  \n",
    "#  6   Ticket    418 non-null    object \n",
    "#  7   Fare      417 non-null    float64\n",
    "#  8   Cabin     91 non-null     object \n",
    "#  9   Embarked  418 non-null    object \n",
    "# dtypes: float64(1), int64(4), object(5)\n",
    "# memory usage: 35.9+ KB"
   ]
  },
  {
   "cell_type": "markdown",
   "id": "fb1b2b33",
   "metadata": {},
   "source": [
    "- Embarked"
   ]
  },
  {
   "cell_type": "code",
   "execution_count": 357,
   "id": "5ce64a89",
   "metadata": {},
   "outputs": [
    {
     "name": "stdout",
     "output_type": "stream",
     "text": [
      "<class 'pandas.core.frame.DataFrame'>\n",
      "Index: 891 entries, 1 to 891\n",
      "Data columns (total 11 columns):\n",
      " #   Column    Non-Null Count  Dtype  \n",
      "---  ------    --------------  -----  \n",
      " 0   Survived  891 non-null    int64  \n",
      " 1   Pclass    891 non-null    int64  \n",
      " 2   Name      891 non-null    object \n",
      " 3   Sex       891 non-null    object \n",
      " 4   Age       891 non-null    int64  \n",
      " 5   SibSp     891 non-null    int64  \n",
      " 6   Parch     891 non-null    int64  \n",
      " 7   Ticket    891 non-null    object \n",
      " 8   Fare      891 non-null    float64\n",
      " 9   Cabin     204 non-null    object \n",
      " 10  Embarked  889 non-null    object \n",
      "dtypes: float64(1), int64(5), object(5)\n",
      "memory usage: 83.5+ KB\n"
     ]
    }
   ],
   "source": [
    "train.info()\n",
    "# train Embarked 컬럼의 결측치는 단 2개\n",
    "\n",
    "# <class 'pandas.core.frame.DataFrame'>\n",
    "# Index: 891 entries, 1 to 891\n",
    "# Data columns (total 11 columns):\n",
    "#  #   Column    Non-Null Count  Dtype  \n",
    "# ---  ------    --------------  -----  \n",
    "#  0   Survived  891 non-null    int64  \n",
    "#  1   Pclass    891 non-null    int64  \n",
    "#  2   Name      891 non-null    object \n",
    "#  3   Sex       891 non-null    object \n",
    "#  4   Age       891 non-null    int64  \n",
    "#  5   SibSp     891 non-null    int64  \n",
    "#  6   Parch     891 non-null    int64  \n",
    "#  7   Ticket    891 non-null    object \n",
    "#  8   Fare      891 non-null    float64\n",
    "#  9   Cabin     204 non-null    object \n",
    "#  10  Embarked  889 non-null    object \n",
    "# dtypes: float64(1), int64(5), object(5)\n",
    "# memory usage: 83.5+ KB"
   ]
  },
  {
   "cell_type": "code",
   "execution_count": 358,
   "id": "a2cceace",
   "metadata": {},
   "outputs": [
    {
     "data": {
      "text/plain": [
       "array(['S', 'C', 'Q', nan], dtype=object)"
      ]
     },
     "execution_count": 358,
     "metadata": {},
     "output_type": "execute_result"
    }
   ],
   "source": [
    "train['Embarked'].unique()\n",
    "#array(['S', 'C', 'Q', nan], dtype=object)"
   ]
  },
  {
   "cell_type": "code",
   "execution_count": 359,
   "id": "8c33c4dc",
   "metadata": {
    "scrolled": true
   },
   "outputs": [
    {
     "data": {
      "text/plain": [
       "889"
      ]
     },
     "execution_count": 359,
     "metadata": {},
     "output_type": "execute_result"
    }
   ],
   "source": [
    "train['Embarked'].count() # 889 #자:count는 값이 있는 데이터의 개수"
   ]
  },
  {
   "cell_type": "code",
   "execution_count": 360,
   "id": "773823af",
   "metadata": {
    "scrolled": true
   },
   "outputs": [
    {
     "data": {
      "text/plain": [
       "Embarked\n",
       "S    644\n",
       "C    168\n",
       "Q     77\n",
       "Name: count, dtype: int64"
      ]
     },
     "execution_count": 360,
     "metadata": {},
     "output_type": "execute_result"
    }
   ],
   "source": [
    "train['Embarked'].value_counts()\n",
    "# 결측치가 2개 뿐이고 S 데이터가 압도적으로 많기 때문에\n",
    "# 결측치 S 항구로 채워주기\n",
    "# 데이터가 많으면 많을수록 한 두개의 데이터는 큰 영향을 끼치지 않음\n",
    "\n",
    "# Embarked\n",
    "# S    644\n",
    "# C    168\n",
    "# Q     77\n",
    "# Name: count, dtype: int64"
   ]
  },
  {
   "cell_type": "code",
   "execution_count": 361,
   "id": "23948e7c",
   "metadata": {
    "scrolled": true
   },
   "outputs": [
    {
     "data": {
      "text/plain": [
       "Embarked\n",
       "S    270\n",
       "C    102\n",
       "Q     46\n",
       "Name: count, dtype: int64"
      ]
     },
     "execution_count": 361,
     "metadata": {},
     "output_type": "execute_result"
    }
   ],
   "source": [
    "# test 데이터도 확인\n",
    "test['Embarked'].value_counts()\n",
    "\n",
    "# Embarked\n",
    "# S    270\n",
    "# C    102\n",
    "# Q     46\n",
    "# Name: count, dtype: int64"
   ]
  },
  {
   "cell_type": "code",
   "execution_count": 362,
   "id": "f63c3528",
   "metadata": {},
   "outputs": [],
   "source": [
    "# 결측치를 내가 원하느 값으로 채워주는 함수\n",
    "# 채워주고 싶은 df.fillna(값)\n",
    "train['Embarked'] = train['Embarked'].fillna('S')"
   ]
  },
  {
   "cell_type": "code",
   "execution_count": 363,
   "id": "2c5e028a",
   "metadata": {},
   "outputs": [
    {
     "name": "stdout",
     "output_type": "stream",
     "text": [
      "<class 'pandas.core.frame.DataFrame'>\n",
      "Index: 891 entries, 1 to 891\n",
      "Data columns (total 11 columns):\n",
      " #   Column    Non-Null Count  Dtype  \n",
      "---  ------    --------------  -----  \n",
      " 0   Survived  891 non-null    int64  \n",
      " 1   Pclass    891 non-null    int64  \n",
      " 2   Name      891 non-null    object \n",
      " 3   Sex       891 non-null    object \n",
      " 4   Age       891 non-null    int64  \n",
      " 5   SibSp     891 non-null    int64  \n",
      " 6   Parch     891 non-null    int64  \n",
      " 7   Ticket    891 non-null    object \n",
      " 8   Fare      891 non-null    float64\n",
      " 9   Cabin     204 non-null    object \n",
      " 10  Embarked  891 non-null    object \n",
      "dtypes: float64(1), int64(5), object(5)\n",
      "memory usage: 83.5+ KB\n"
     ]
    }
   ],
   "source": [
    "train.info()\n",
    "# Embarked 컬럼 결측치 채우기 완료~\n",
    "\n",
    "# <class 'pandas.core.frame.DataFrame'>\n",
    "# Index: 891 entries, 1 to 891\n",
    "# Data columns (total 11 columns):\n",
    "#  #   Column    Non-Null Count  Dtype  \n",
    "# ---  ------    --------------  -----  \n",
    "#  0   Survived  891 non-null    int64  \n",
    "#  1   Pclass    891 non-null    int64  \n",
    "#  2   Name      891 non-null    object \n",
    "#  3   Sex       891 non-null    object \n",
    "#  4   Age       891 non-null    int64  \n",
    "#  5   SibSp     891 non-null    int64  \n",
    "#  6   Parch     891 non-null    int64  \n",
    "#  7   Ticket    891 non-null    object \n",
    "#  8   Fare      891 non-null    float64\n",
    "#  9   Cabin     204 non-null    object \n",
    "#  10  Embarked  891 non-null    object \n",
    "# dtypes: float64(1), int64(5), object(5)\n",
    "# memory usage: 83.5+ KB"
   ]
  },
  {
   "cell_type": "markdown",
   "id": "1a379f6f",
   "metadata": {},
   "source": [
    "- test->Fare 요금 결측치 채우기"
   ]
  },
  {
   "cell_type": "code",
   "execution_count": 364,
   "id": "670f57ec",
   "metadata": {},
   "outputs": [
    {
     "name": "stdout",
     "output_type": "stream",
     "text": [
      "<class 'pandas.core.frame.DataFrame'>\n",
      "Index: 418 entries, 892 to 1309\n",
      "Data columns (total 10 columns):\n",
      " #   Column    Non-Null Count  Dtype  \n",
      "---  ------    --------------  -----  \n",
      " 0   Pclass    418 non-null    int64  \n",
      " 1   Name      418 non-null    object \n",
      " 2   Sex       418 non-null    object \n",
      " 3   Age       418 non-null    int64  \n",
      " 4   SibSp     418 non-null    int64  \n",
      " 5   Parch     418 non-null    int64  \n",
      " 6   Ticket    418 non-null    object \n",
      " 7   Fare      417 non-null    float64\n",
      " 8   Cabin     91 non-null     object \n",
      " 9   Embarked  418 non-null    object \n",
      "dtypes: float64(1), int64(4), object(5)\n",
      "memory usage: 35.9+ KB\n"
     ]
    }
   ],
   "source": [
    "test.info()\n",
    "# <class 'pandas.core.frame.DataFrame'>\n",
    "# Index: 418 entries, 892 to 1309\n",
    "# Data columns (total 10 columns):\n",
    "#  #   Column    Non-Null Count  Dtype  \n",
    "# ---  ------    --------------  -----  \n",
    "#  0   Pclass    418 non-null    int64  \n",
    "#  1   Name      418 non-null    object \n",
    "#  2   Sex       418 non-null    object \n",
    "#  3   Age       418 non-null    int64  \n",
    "#  4   SibSp     418 non-null    int64  \n",
    "#  5   Parch     418 non-null    int64  \n",
    "#  6   Ticket    418 non-null    object \n",
    "#  7   Fare      417 non-null    float64\n",
    "#  8   Cabin     91 non-null     object \n",
    "#  9   Embarked  418 non-null    object \n",
    "# dtypes: float64(1), int64(4), object(5)\n",
    "# memory usage: 35.9+ KB"
   ]
  },
  {
   "cell_type": "code",
   "execution_count": 365,
   "id": "4a312853",
   "metadata": {},
   "outputs": [
    {
     "data": {
      "text/plain": [
       "count    417.000000\n",
       "mean      35.627188\n",
       "std       55.907576\n",
       "min        0.000000\n",
       "25%        7.895800\n",
       "50%       14.454200\n",
       "75%       31.500000\n",
       "max      512.329200\n",
       "Name: Fare, dtype: float64"
      ]
     },
     "execution_count": 365,
     "metadata": {},
     "output_type": "execute_result"
    }
   ],
   "source": [
    "test['Fare'].describe()\n",
    "\n",
    "# 평균 35 최댓값 512 앞쪽에 몰려있는 것을 확인\n",
    "# Fare 전체 평균으로 채우기에는 신뢰성이 떨어질 것 같음\n",
    "\n",
    "#count    417.000000\n",
    "# mean      35.627188\n",
    "# std       55.907576\n",
    "# min        0.000000\n",
    "# 25%        7.895800\n",
    "# 50%       14.454200\n",
    "# 75%       31.500000\n",
    "# max      512.329200\n",
    "# Name: Fare, dtype: float64"
   ]
  },
  {
   "cell_type": "code",
   "execution_count": 366,
   "id": "674c07ae",
   "metadata": {},
   "outputs": [
    {
     "data": {
      "text/html": [
       "<div>\n",
       "<style scoped>\n",
       "    .dataframe tbody tr th:only-of-type {\n",
       "        vertical-align: middle;\n",
       "    }\n",
       "\n",
       "    .dataframe tbody tr th {\n",
       "        vertical-align: top;\n",
       "    }\n",
       "\n",
       "    .dataframe thead th {\n",
       "        text-align: right;\n",
       "    }\n",
       "</style>\n",
       "<table border=\"1\" class=\"dataframe\">\n",
       "  <thead>\n",
       "    <tr style=\"text-align: right;\">\n",
       "      <th></th>\n",
       "      <th>Survived</th>\n",
       "      <th>Pclass</th>\n",
       "      <th>Age</th>\n",
       "      <th>SibSp</th>\n",
       "      <th>Parch</th>\n",
       "      <th>Fare</th>\n",
       "    </tr>\n",
       "  </thead>\n",
       "  <tbody>\n",
       "    <tr>\n",
       "      <th>Survived</th>\n",
       "      <td>1.000000</td>\n",
       "      <td>-0.338481</td>\n",
       "      <td>-0.066538</td>\n",
       "      <td>-0.035322</td>\n",
       "      <td>0.081629</td>\n",
       "      <td>0.257307</td>\n",
       "    </tr>\n",
       "    <tr>\n",
       "      <th>Pclass</th>\n",
       "      <td>-0.338481</td>\n",
       "      <td>1.000000</td>\n",
       "      <td>-0.410104</td>\n",
       "      <td>0.083081</td>\n",
       "      <td>0.018443</td>\n",
       "      <td>-0.549500</td>\n",
       "    </tr>\n",
       "    <tr>\n",
       "      <th>Age</th>\n",
       "      <td>-0.066538</td>\n",
       "      <td>-0.410104</td>\n",
       "      <td>1.000000</td>\n",
       "      <td>-0.251439</td>\n",
       "      <td>-0.178855</td>\n",
       "      <td>0.120173</td>\n",
       "    </tr>\n",
       "    <tr>\n",
       "      <th>SibSp</th>\n",
       "      <td>-0.035322</td>\n",
       "      <td>0.083081</td>\n",
       "      <td>-0.251439</td>\n",
       "      <td>1.000000</td>\n",
       "      <td>0.414838</td>\n",
       "      <td>0.159651</td>\n",
       "    </tr>\n",
       "    <tr>\n",
       "      <th>Parch</th>\n",
       "      <td>0.081629</td>\n",
       "      <td>0.018443</td>\n",
       "      <td>-0.178855</td>\n",
       "      <td>0.414838</td>\n",
       "      <td>1.000000</td>\n",
       "      <td>0.216225</td>\n",
       "    </tr>\n",
       "    <tr>\n",
       "      <th>Fare</th>\n",
       "      <td>0.257307</td>\n",
       "      <td>-0.549500</td>\n",
       "      <td>0.120173</td>\n",
       "      <td>0.159651</td>\n",
       "      <td>0.216225</td>\n",
       "      <td>1.000000</td>\n",
       "    </tr>\n",
       "  </tbody>\n",
       "</table>\n",
       "</div>"
      ],
      "text/plain": [
       "          Survived    Pclass       Age     SibSp     Parch      Fare\n",
       "Survived  1.000000 -0.338481 -0.066538 -0.035322  0.081629  0.257307\n",
       "Pclass   -0.338481  1.000000 -0.410104  0.083081  0.018443 -0.549500\n",
       "Age      -0.066538 -0.410104  1.000000 -0.251439 -0.178855  0.120173\n",
       "SibSp    -0.035322  0.083081 -0.251439  1.000000  0.414838  0.159651\n",
       "Parch     0.081629  0.018443 -0.178855  0.414838  1.000000  0.216225\n",
       "Fare      0.257307 -0.549500  0.120173  0.159651  0.216225  1.000000"
      ]
     },
     "execution_count": 366,
     "metadata": {},
     "output_type": "execute_result"
    }
   ],
   "source": [
    "# Fare 컬럼 상관관계 확인\n",
    "train.corr(numeric_only=True)"
   ]
  },
  {
   "cell_type": "code",
   "execution_count": 367,
   "id": "3821c1fa",
   "metadata": {},
   "outputs": [
    {
     "data": {
      "text/html": [
       "<div>\n",
       "<style scoped>\n",
       "    .dataframe tbody tr th:only-of-type {\n",
       "        vertical-align: middle;\n",
       "    }\n",
       "\n",
       "    .dataframe tbody tr th {\n",
       "        vertical-align: top;\n",
       "    }\n",
       "\n",
       "    .dataframe thead th {\n",
       "        text-align: right;\n",
       "    }\n",
       "</style>\n",
       "<table border=\"1\" class=\"dataframe\">\n",
       "  <thead>\n",
       "    <tr style=\"text-align: right;\">\n",
       "      <th></th>\n",
       "      <th></th>\n",
       "      <th>Fare</th>\n",
       "    </tr>\n",
       "    <tr>\n",
       "      <th>Pclass</th>\n",
       "      <th>Sex</th>\n",
       "      <th></th>\n",
       "    </tr>\n",
       "  </thead>\n",
       "  <tbody>\n",
       "    <tr>\n",
       "      <th rowspan=\"2\" valign=\"top\">1</th>\n",
       "      <th>female</th>\n",
       "      <td>115.591168</td>\n",
       "    </tr>\n",
       "    <tr>\n",
       "      <th>male</th>\n",
       "      <td>75.586551</td>\n",
       "    </tr>\n",
       "    <tr>\n",
       "      <th rowspan=\"2\" valign=\"top\">2</th>\n",
       "      <th>female</th>\n",
       "      <td>26.438750</td>\n",
       "    </tr>\n",
       "    <tr>\n",
       "      <th>male</th>\n",
       "      <td>20.184654</td>\n",
       "    </tr>\n",
       "    <tr>\n",
       "      <th rowspan=\"2\" valign=\"top\">3</th>\n",
       "      <th>female</th>\n",
       "      <td>13.735129</td>\n",
       "    </tr>\n",
       "    <tr>\n",
       "      <th>male</th>\n",
       "      <td>11.826350</td>\n",
       "    </tr>\n",
       "  </tbody>\n",
       "</table>\n",
       "</div>"
      ],
      "text/plain": [
       "                     Fare\n",
       "Pclass Sex               \n",
       "1      female  115.591168\n",
       "       male     75.586551\n",
       "2      female   26.438750\n",
       "       male     20.184654\n",
       "3      female   13.735129\n",
       "       male     11.826350"
      ]
     },
     "execution_count": 367,
     "metadata": {},
     "output_type": "execute_result"
    }
   ],
   "source": [
    "# Fare 컬럼과 관련 높은 Pcalss, sex 가져와서 결측치 채우기!\n",
    "# 피봇테이블\n",
    "# Fare 평균값 (Pclass, Sex에 따른) -> pt2\n",
    "\n",
    "pt2 = test.pivot_table(values='Fare',\n",
    "               index=['Pclass','Sex'],\n",
    "                aggfunc = 'mean')\n",
    "pt2"
   ]
  },
  {
   "cell_type": "code",
   "execution_count": 368,
   "id": "72a0e82e",
   "metadata": {},
   "outputs": [
    {
     "data": {
      "text/html": [
       "<div>\n",
       "<style scoped>\n",
       "    .dataframe tbody tr th:only-of-type {\n",
       "        vertical-align: middle;\n",
       "    }\n",
       "\n",
       "    .dataframe tbody tr th {\n",
       "        vertical-align: top;\n",
       "    }\n",
       "\n",
       "    .dataframe thead th {\n",
       "        text-align: right;\n",
       "    }\n",
       "</style>\n",
       "<table border=\"1\" class=\"dataframe\">\n",
       "  <thead>\n",
       "    <tr style=\"text-align: right;\">\n",
       "      <th></th>\n",
       "      <th>Pclass</th>\n",
       "      <th>Name</th>\n",
       "      <th>Sex</th>\n",
       "      <th>Age</th>\n",
       "      <th>SibSp</th>\n",
       "      <th>Parch</th>\n",
       "      <th>Ticket</th>\n",
       "      <th>Fare</th>\n",
       "      <th>Cabin</th>\n",
       "      <th>Embarked</th>\n",
       "    </tr>\n",
       "    <tr>\n",
       "      <th>PassengerId</th>\n",
       "      <th></th>\n",
       "      <th></th>\n",
       "      <th></th>\n",
       "      <th></th>\n",
       "      <th></th>\n",
       "      <th></th>\n",
       "      <th></th>\n",
       "      <th></th>\n",
       "      <th></th>\n",
       "      <th></th>\n",
       "    </tr>\n",
       "  </thead>\n",
       "  <tbody>\n",
       "    <tr>\n",
       "      <th>1044</th>\n",
       "      <td>3</td>\n",
       "      <td>Storey, Mr. Thomas</td>\n",
       "      <td>male</td>\n",
       "      <td>60</td>\n",
       "      <td>0</td>\n",
       "      <td>0</td>\n",
       "      <td>3701</td>\n",
       "      <td>NaN</td>\n",
       "      <td>NaN</td>\n",
       "      <td>S</td>\n",
       "    </tr>\n",
       "  </tbody>\n",
       "</table>\n",
       "</div>"
      ],
      "text/plain": [
       "             Pclass                Name   Sex  Age  SibSp  Parch Ticket  Fare  \\\n",
       "PassengerId                                                                     \n",
       "1044              3  Storey, Mr. Thomas  male   60      0      0   3701   NaN   \n",
       "\n",
       "            Cabin Embarked  \n",
       "PassengerId                 \n",
       "1044          NaN        S  "
      ]
     },
     "execution_count": 368,
     "metadata": {},
     "output_type": "execute_result"
    }
   ],
   "source": [
    "# 비어있는 값이 1개이기 때문에 함수 생성x \n",
    "# test 에서 결측치 있는 행을 찾아서 직접 넣어주자!\n",
    "# test 에서 Fare 컬럼이 비어있는 행 찾아오기!\n",
    "# 불리언 인덱싱 : 조건에 맞는 데이터만 추출\n",
    "# 데이터[조건] -> 조건이 True 값만 추출\n",
    "\n",
    "# 비어있는 값 확인 : isna()\n",
    "\n",
    "# 자: 실습1\n",
    "#자영풀이\n",
    "# test['Fare'][test['Fare'].isna()]\n",
    "# PassengerId\n",
    "# 1044   NaN\n",
    "# Name: Fare, dtype: float64\n",
    "\n",
    "#쌤풀이 \n",
    "test[test['Fare'].isna()]"
   ]
  },
  {
   "cell_type": "code",
   "execution_count": 369,
   "id": "3a330068",
   "metadata": {},
   "outputs": [],
   "source": [
    "# 3등급 이면서 남자의 요금 평균 : 11.826350\n",
    "# Fare에 결측치에 채워주기\n",
    "\n",
    "test['Fare'] = test['Fare'].fillna(11.826350)"
   ]
  },
  {
   "cell_type": "code",
   "execution_count": 370,
   "id": "b48b6fe6",
   "metadata": {},
   "outputs": [
    {
     "name": "stdout",
     "output_type": "stream",
     "text": [
      "<class 'pandas.core.frame.DataFrame'>\n",
      "Index: 418 entries, 892 to 1309\n",
      "Data columns (total 10 columns):\n",
      " #   Column    Non-Null Count  Dtype  \n",
      "---  ------    --------------  -----  \n",
      " 0   Pclass    418 non-null    int64  \n",
      " 1   Name      418 non-null    object \n",
      " 2   Sex       418 non-null    object \n",
      " 3   Age       418 non-null    int64  \n",
      " 4   SibSp     418 non-null    int64  \n",
      " 5   Parch     418 non-null    int64  \n",
      " 6   Ticket    418 non-null    object \n",
      " 7   Fare      418 non-null    float64\n",
      " 8   Cabin     91 non-null     object \n",
      " 9   Embarked  418 non-null    object \n",
      "dtypes: float64(1), int64(4), object(5)\n",
      "memory usage: 35.9+ KB\n"
     ]
    }
   ],
   "source": [
    "test.info()\n",
    "\n",
    "# <class 'pandas.core.frame.DataFrame'>\n",
    "# Index: 418 entries, 892 to 1309\n",
    "# Data columns (total 10 columns):\n",
    "#  #   Column    Non-Null Count  Dtype  \n",
    "# ---  ------    --------------  -----  \n",
    "#  0   Pclass    418 non-null    int64  \n",
    "#  1   Name      418 non-null    object \n",
    "#  2   Sex       418 non-null    object \n",
    "#  3   Age       418 non-null    int64  \n",
    "#  4   SibSp     418 non-null    int64  \n",
    "#  5   Parch     418 non-null    int64  \n",
    "#  6   Ticket    418 non-null    object \n",
    "#  7   Fare      418 non-null    float64\n",
    "#  8   Cabin     91 non-null     object \n",
    "#  9   Embarked  418 non-null    object \n",
    "# dtypes: float64(1), int64(4), object(5)\n",
    "# memory usage: 35.9+ KB"
   ]
  },
  {
   "cell_type": "markdown",
   "id": "8257e61f",
   "metadata": {},
   "source": [
    "### 불리언 인덱싱 복습"
   ]
  },
  {
   "cell_type": "code",
   "execution_count": 371,
   "id": "28f459c7",
   "metadata": {
    "scrolled": true
   },
   "outputs": [
    {
     "data": {
      "text/html": [
       "<div>\n",
       "<style scoped>\n",
       "    .dataframe tbody tr th:only-of-type {\n",
       "        vertical-align: middle;\n",
       "    }\n",
       "\n",
       "    .dataframe tbody tr th {\n",
       "        vertical-align: top;\n",
       "    }\n",
       "\n",
       "    .dataframe thead th {\n",
       "        text-align: right;\n",
       "    }\n",
       "</style>\n",
       "<table border=\"1\" class=\"dataframe\">\n",
       "  <thead>\n",
       "    <tr style=\"text-align: right;\">\n",
       "      <th></th>\n",
       "      <th>Pclass</th>\n",
       "      <th>Name</th>\n",
       "      <th>Sex</th>\n",
       "      <th>Age</th>\n",
       "      <th>SibSp</th>\n",
       "      <th>Parch</th>\n",
       "      <th>Ticket</th>\n",
       "      <th>Fare</th>\n",
       "      <th>Cabin</th>\n",
       "      <th>Embarked</th>\n",
       "    </tr>\n",
       "    <tr>\n",
       "      <th>PassengerId</th>\n",
       "      <th></th>\n",
       "      <th></th>\n",
       "      <th></th>\n",
       "      <th></th>\n",
       "      <th></th>\n",
       "      <th></th>\n",
       "      <th></th>\n",
       "      <th></th>\n",
       "      <th></th>\n",
       "      <th></th>\n",
       "    </tr>\n",
       "  </thead>\n",
       "  <tbody>\n",
       "    <tr>\n",
       "      <th>894</th>\n",
       "      <td>2</td>\n",
       "      <td>Myles, Mr. Thomas Francis</td>\n",
       "      <td>male</td>\n",
       "      <td>62</td>\n",
       "      <td>0</td>\n",
       "      <td>0</td>\n",
       "      <td>240276</td>\n",
       "      <td>9.68750</td>\n",
       "      <td>NaN</td>\n",
       "      <td>Q</td>\n",
       "    </tr>\n",
       "    <tr>\n",
       "      <th>905</th>\n",
       "      <td>2</td>\n",
       "      <td>Howard, Mr. Benjamin</td>\n",
       "      <td>male</td>\n",
       "      <td>63</td>\n",
       "      <td>1</td>\n",
       "      <td>0</td>\n",
       "      <td>24065</td>\n",
       "      <td>26.00000</td>\n",
       "      <td>NaN</td>\n",
       "      <td>S</td>\n",
       "    </tr>\n",
       "    <tr>\n",
       "      <th>912</th>\n",
       "      <td>1</td>\n",
       "      <td>Rothschild, Mr. Martin</td>\n",
       "      <td>male</td>\n",
       "      <td>55</td>\n",
       "      <td>1</td>\n",
       "      <td>0</td>\n",
       "      <td>PC 17603</td>\n",
       "      <td>59.40000</td>\n",
       "      <td>NaN</td>\n",
       "      <td>C</td>\n",
       "    </tr>\n",
       "    <tr>\n",
       "      <th>917</th>\n",
       "      <td>3</td>\n",
       "      <td>Robins, Mr. Alexander A</td>\n",
       "      <td>male</td>\n",
       "      <td>50</td>\n",
       "      <td>1</td>\n",
       "      <td>0</td>\n",
       "      <td>A/5. 3337</td>\n",
       "      <td>14.50000</td>\n",
       "      <td>NaN</td>\n",
       "      <td>S</td>\n",
       "    </tr>\n",
       "    <tr>\n",
       "      <th>922</th>\n",
       "      <td>2</td>\n",
       "      <td>Louch, Mr. Charles Alexander</td>\n",
       "      <td>male</td>\n",
       "      <td>50</td>\n",
       "      <td>1</td>\n",
       "      <td>0</td>\n",
       "      <td>SC/AH 3085</td>\n",
       "      <td>26.00000</td>\n",
       "      <td>NaN</td>\n",
       "      <td>S</td>\n",
       "    </tr>\n",
       "    <tr>\n",
       "      <th>940</th>\n",
       "      <td>1</td>\n",
       "      <td>Bucknell, Mrs. William Robert (Emma Eliza Ward)</td>\n",
       "      <td>female</td>\n",
       "      <td>60</td>\n",
       "      <td>0</td>\n",
       "      <td>0</td>\n",
       "      <td>11813</td>\n",
       "      <td>76.29170</td>\n",
       "      <td>D15</td>\n",
       "      <td>C</td>\n",
       "    </tr>\n",
       "    <tr>\n",
       "      <th>961</th>\n",
       "      <td>1</td>\n",
       "      <td>Fortune, Mrs. Mark (Mary McDougald)</td>\n",
       "      <td>female</td>\n",
       "      <td>60</td>\n",
       "      <td>1</td>\n",
       "      <td>4</td>\n",
       "      <td>19950</td>\n",
       "      <td>263.00000</td>\n",
       "      <td>C23 C25 C27</td>\n",
       "      <td>S</td>\n",
       "    </tr>\n",
       "    <tr>\n",
       "      <th>969</th>\n",
       "      <td>1</td>\n",
       "      <td>Cornell, Mrs. Robert Clifford (Malvina Helen L...</td>\n",
       "      <td>female</td>\n",
       "      <td>55</td>\n",
       "      <td>2</td>\n",
       "      <td>0</td>\n",
       "      <td>11770</td>\n",
       "      <td>25.70000</td>\n",
       "      <td>C101</td>\n",
       "      <td>S</td>\n",
       "    </tr>\n",
       "    <tr>\n",
       "      <th>973</th>\n",
       "      <td>1</td>\n",
       "      <td>Straus, Mr. Isidor</td>\n",
       "      <td>male</td>\n",
       "      <td>67</td>\n",
       "      <td>1</td>\n",
       "      <td>0</td>\n",
       "      <td>PC 17483</td>\n",
       "      <td>221.77920</td>\n",
       "      <td>C55 C57</td>\n",
       "      <td>S</td>\n",
       "    </tr>\n",
       "    <tr>\n",
       "      <th>988</th>\n",
       "      <td>1</td>\n",
       "      <td>Cavendish, Mrs. Tyrell William (Julia Florence...</td>\n",
       "      <td>female</td>\n",
       "      <td>76</td>\n",
       "      <td>1</td>\n",
       "      <td>0</td>\n",
       "      <td>19877</td>\n",
       "      <td>78.85000</td>\n",
       "      <td>C46</td>\n",
       "      <td>S</td>\n",
       "    </tr>\n",
       "    <tr>\n",
       "      <th>1006</th>\n",
       "      <td>1</td>\n",
       "      <td>Straus, Mrs. Isidor (Rosalie Ida Blun)</td>\n",
       "      <td>female</td>\n",
       "      <td>63</td>\n",
       "      <td>1</td>\n",
       "      <td>0</td>\n",
       "      <td>PC 17483</td>\n",
       "      <td>221.77920</td>\n",
       "      <td>C55 C57</td>\n",
       "      <td>S</td>\n",
       "    </tr>\n",
       "    <tr>\n",
       "      <th>1023</th>\n",
       "      <td>1</td>\n",
       "      <td>Gracie, Col. Archibald IV</td>\n",
       "      <td>male</td>\n",
       "      <td>53</td>\n",
       "      <td>0</td>\n",
       "      <td>0</td>\n",
       "      <td>113780</td>\n",
       "      <td>28.50000</td>\n",
       "      <td>C51</td>\n",
       "      <td>C</td>\n",
       "    </tr>\n",
       "    <tr>\n",
       "      <th>1034</th>\n",
       "      <td>1</td>\n",
       "      <td>Ryerson, Mr. Arthur Larned</td>\n",
       "      <td>male</td>\n",
       "      <td>61</td>\n",
       "      <td>1</td>\n",
       "      <td>3</td>\n",
       "      <td>PC 17608</td>\n",
       "      <td>262.37500</td>\n",
       "      <td>B57 B59 B63 B66</td>\n",
       "      <td>C</td>\n",
       "    </tr>\n",
       "    <tr>\n",
       "      <th>1044</th>\n",
       "      <td>3</td>\n",
       "      <td>Storey, Mr. Thomas</td>\n",
       "      <td>male</td>\n",
       "      <td>60</td>\n",
       "      <td>0</td>\n",
       "      <td>0</td>\n",
       "      <td>3701</td>\n",
       "      <td>11.82635</td>\n",
       "      <td>NaN</td>\n",
       "      <td>S</td>\n",
       "    </tr>\n",
       "    <tr>\n",
       "      <th>1069</th>\n",
       "      <td>1</td>\n",
       "      <td>Stengel, Mr. Charles Emil Henry</td>\n",
       "      <td>male</td>\n",
       "      <td>54</td>\n",
       "      <td>1</td>\n",
       "      <td>0</td>\n",
       "      <td>11778</td>\n",
       "      <td>55.44170</td>\n",
       "      <td>C116</td>\n",
       "      <td>C</td>\n",
       "    </tr>\n",
       "    <tr>\n",
       "      <th>1071</th>\n",
       "      <td>1</td>\n",
       "      <td>Compton, Mrs. Alexander Taylor (Mary Eliza Ing...</td>\n",
       "      <td>female</td>\n",
       "      <td>64</td>\n",
       "      <td>0</td>\n",
       "      <td>2</td>\n",
       "      <td>PC 17756</td>\n",
       "      <td>83.15830</td>\n",
       "      <td>E45</td>\n",
       "      <td>C</td>\n",
       "    </tr>\n",
       "    <tr>\n",
       "      <th>1085</th>\n",
       "      <td>2</td>\n",
       "      <td>Lingane, Mr. John</td>\n",
       "      <td>male</td>\n",
       "      <td>61</td>\n",
       "      <td>0</td>\n",
       "      <td>0</td>\n",
       "      <td>235509</td>\n",
       "      <td>12.35000</td>\n",
       "      <td>NaN</td>\n",
       "      <td>Q</td>\n",
       "    </tr>\n",
       "    <tr>\n",
       "      <th>1105</th>\n",
       "      <td>2</td>\n",
       "      <td>Howard, Mrs. Benjamin (Ellen Truelove Arman)</td>\n",
       "      <td>female</td>\n",
       "      <td>60</td>\n",
       "      <td>1</td>\n",
       "      <td>0</td>\n",
       "      <td>24065</td>\n",
       "      <td>26.00000</td>\n",
       "      <td>NaN</td>\n",
       "      <td>S</td>\n",
       "    </tr>\n",
       "    <tr>\n",
       "      <th>1109</th>\n",
       "      <td>1</td>\n",
       "      <td>Wick, Mr. George Dennick</td>\n",
       "      <td>male</td>\n",
       "      <td>57</td>\n",
       "      <td>1</td>\n",
       "      <td>1</td>\n",
       "      <td>36928</td>\n",
       "      <td>164.86670</td>\n",
       "      <td>NaN</td>\n",
       "      <td>S</td>\n",
       "    </tr>\n",
       "    <tr>\n",
       "      <th>1110</th>\n",
       "      <td>1</td>\n",
       "      <td>Widener, Mrs. George Dunton (Eleanor Elkins)</td>\n",
       "      <td>female</td>\n",
       "      <td>50</td>\n",
       "      <td>1</td>\n",
       "      <td>1</td>\n",
       "      <td>113503</td>\n",
       "      <td>211.50000</td>\n",
       "      <td>C80</td>\n",
       "      <td>C</td>\n",
       "    </tr>\n",
       "    <tr>\n",
       "      <th>1116</th>\n",
       "      <td>1</td>\n",
       "      <td>Candee, Mrs. Edward (Helen Churchill Hungerford)</td>\n",
       "      <td>female</td>\n",
       "      <td>53</td>\n",
       "      <td>0</td>\n",
       "      <td>0</td>\n",
       "      <td>PC 17606</td>\n",
       "      <td>27.44580</td>\n",
       "      <td>NaN</td>\n",
       "      <td>C</td>\n",
       "    </tr>\n",
       "    <tr>\n",
       "      <th>1128</th>\n",
       "      <td>1</td>\n",
       "      <td>Warren, Mr. Frank Manley</td>\n",
       "      <td>male</td>\n",
       "      <td>64</td>\n",
       "      <td>1</td>\n",
       "      <td>0</td>\n",
       "      <td>110813</td>\n",
       "      <td>75.25000</td>\n",
       "      <td>D37</td>\n",
       "      <td>C</td>\n",
       "    </tr>\n",
       "    <tr>\n",
       "      <th>1132</th>\n",
       "      <td>1</td>\n",
       "      <td>Lindstrom, Mrs. Carl Johan (Sigrid Posse)</td>\n",
       "      <td>female</td>\n",
       "      <td>55</td>\n",
       "      <td>0</td>\n",
       "      <td>0</td>\n",
       "      <td>112377</td>\n",
       "      <td>27.72080</td>\n",
       "      <td>NaN</td>\n",
       "      <td>C</td>\n",
       "    </tr>\n",
       "    <tr>\n",
       "      <th>1185</th>\n",
       "      <td>1</td>\n",
       "      <td>Dodge, Dr. Washington</td>\n",
       "      <td>male</td>\n",
       "      <td>53</td>\n",
       "      <td>1</td>\n",
       "      <td>1</td>\n",
       "      <td>33638</td>\n",
       "      <td>81.85830</td>\n",
       "      <td>A34</td>\n",
       "      <td>S</td>\n",
       "    </tr>\n",
       "    <tr>\n",
       "      <th>1197</th>\n",
       "      <td>1</td>\n",
       "      <td>Crosby, Mrs. Edward Gifford (Catherine Elizabe...</td>\n",
       "      <td>female</td>\n",
       "      <td>64</td>\n",
       "      <td>1</td>\n",
       "      <td>1</td>\n",
       "      <td>112901</td>\n",
       "      <td>26.55000</td>\n",
       "      <td>B26</td>\n",
       "      <td>S</td>\n",
       "    </tr>\n",
       "    <tr>\n",
       "      <th>1200</th>\n",
       "      <td>1</td>\n",
       "      <td>Hays, Mr. Charles Melville</td>\n",
       "      <td>male</td>\n",
       "      <td>55</td>\n",
       "      <td>1</td>\n",
       "      <td>1</td>\n",
       "      <td>12749</td>\n",
       "      <td>93.50000</td>\n",
       "      <td>B69</td>\n",
       "      <td>S</td>\n",
       "    </tr>\n",
       "    <tr>\n",
       "      <th>1206</th>\n",
       "      <td>1</td>\n",
       "      <td>White, Mrs. John Stuart (Ella Holmes)</td>\n",
       "      <td>female</td>\n",
       "      <td>55</td>\n",
       "      <td>0</td>\n",
       "      <td>0</td>\n",
       "      <td>PC 17760</td>\n",
       "      <td>135.63330</td>\n",
       "      <td>C32</td>\n",
       "      <td>C</td>\n",
       "    </tr>\n",
       "    <tr>\n",
       "      <th>1208</th>\n",
       "      <td>1</td>\n",
       "      <td>Spencer, Mr. William Augustus</td>\n",
       "      <td>male</td>\n",
       "      <td>57</td>\n",
       "      <td>1</td>\n",
       "      <td>0</td>\n",
       "      <td>PC 17569</td>\n",
       "      <td>146.52080</td>\n",
       "      <td>B78</td>\n",
       "      <td>C</td>\n",
       "    </tr>\n",
       "    <tr>\n",
       "      <th>1235</th>\n",
       "      <td>1</td>\n",
       "      <td>Cardeza, Mrs. James Warburton Martinez (Charlo...</td>\n",
       "      <td>female</td>\n",
       "      <td>58</td>\n",
       "      <td>0</td>\n",
       "      <td>1</td>\n",
       "      <td>PC 17755</td>\n",
       "      <td>512.32920</td>\n",
       "      <td>B51 B53 B55</td>\n",
       "      <td>C</td>\n",
       "    </tr>\n",
       "    <tr>\n",
       "      <th>1247</th>\n",
       "      <td>1</td>\n",
       "      <td>Julian, Mr. Henry Forbes</td>\n",
       "      <td>male</td>\n",
       "      <td>50</td>\n",
       "      <td>0</td>\n",
       "      <td>0</td>\n",
       "      <td>113044</td>\n",
       "      <td>26.00000</td>\n",
       "      <td>E60</td>\n",
       "      <td>S</td>\n",
       "    </tr>\n",
       "    <tr>\n",
       "      <th>1248</th>\n",
       "      <td>1</td>\n",
       "      <td>Brown, Mrs. John Murray (Caroline Lane Lamson)</td>\n",
       "      <td>female</td>\n",
       "      <td>59</td>\n",
       "      <td>2</td>\n",
       "      <td>0</td>\n",
       "      <td>11769</td>\n",
       "      <td>51.47920</td>\n",
       "      <td>C101</td>\n",
       "      <td>S</td>\n",
       "    </tr>\n",
       "    <tr>\n",
       "      <th>1266</th>\n",
       "      <td>1</td>\n",
       "      <td>Dodge, Mrs. Washington (Ruth Vidaver)</td>\n",
       "      <td>female</td>\n",
       "      <td>54</td>\n",
       "      <td>1</td>\n",
       "      <td>1</td>\n",
       "      <td>33638</td>\n",
       "      <td>81.85830</td>\n",
       "      <td>A34</td>\n",
       "      <td>S</td>\n",
       "    </tr>\n",
       "    <tr>\n",
       "      <th>1270</th>\n",
       "      <td>1</td>\n",
       "      <td>Hipkins, Mr. William Edward</td>\n",
       "      <td>male</td>\n",
       "      <td>55</td>\n",
       "      <td>0</td>\n",
       "      <td>0</td>\n",
       "      <td>680</td>\n",
       "      <td>50.00000</td>\n",
       "      <td>C39</td>\n",
       "      <td>S</td>\n",
       "    </tr>\n",
       "    <tr>\n",
       "      <th>1279</th>\n",
       "      <td>2</td>\n",
       "      <td>Ashby, Mr. John</td>\n",
       "      <td>male</td>\n",
       "      <td>57</td>\n",
       "      <td>0</td>\n",
       "      <td>0</td>\n",
       "      <td>244346</td>\n",
       "      <td>13.00000</td>\n",
       "      <td>NaN</td>\n",
       "      <td>S</td>\n",
       "    </tr>\n",
       "    <tr>\n",
       "      <th>1283</th>\n",
       "      <td>1</td>\n",
       "      <td>Lines, Mrs. Ernest H (Elizabeth Lindsey James)</td>\n",
       "      <td>female</td>\n",
       "      <td>51</td>\n",
       "      <td>0</td>\n",
       "      <td>1</td>\n",
       "      <td>PC 17592</td>\n",
       "      <td>39.40000</td>\n",
       "      <td>D28</td>\n",
       "      <td>S</td>\n",
       "    </tr>\n",
       "    <tr>\n",
       "      <th>1299</th>\n",
       "      <td>1</td>\n",
       "      <td>Widener, Mr. George Dunton</td>\n",
       "      <td>male</td>\n",
       "      <td>50</td>\n",
       "      <td>1</td>\n",
       "      <td>1</td>\n",
       "      <td>113503</td>\n",
       "      <td>211.50000</td>\n",
       "      <td>C80</td>\n",
       "      <td>C</td>\n",
       "    </tr>\n",
       "  </tbody>\n",
       "</table>\n",
       "</div>"
      ],
      "text/plain": [
       "             Pclass                                               Name  \\\n",
       "PassengerId                                                              \n",
       "894               2                          Myles, Mr. Thomas Francis   \n",
       "905               2                               Howard, Mr. Benjamin   \n",
       "912               1                             Rothschild, Mr. Martin   \n",
       "917               3                            Robins, Mr. Alexander A   \n",
       "922               2                       Louch, Mr. Charles Alexander   \n",
       "940               1    Bucknell, Mrs. William Robert (Emma Eliza Ward)   \n",
       "961               1                Fortune, Mrs. Mark (Mary McDougald)   \n",
       "969               1  Cornell, Mrs. Robert Clifford (Malvina Helen L...   \n",
       "973               1                                 Straus, Mr. Isidor   \n",
       "988               1  Cavendish, Mrs. Tyrell William (Julia Florence...   \n",
       "1006              1             Straus, Mrs. Isidor (Rosalie Ida Blun)   \n",
       "1023              1                          Gracie, Col. Archibald IV   \n",
       "1034              1                         Ryerson, Mr. Arthur Larned   \n",
       "1044              3                                 Storey, Mr. Thomas   \n",
       "1069              1                    Stengel, Mr. Charles Emil Henry   \n",
       "1071              1  Compton, Mrs. Alexander Taylor (Mary Eliza Ing...   \n",
       "1085              2                                  Lingane, Mr. John   \n",
       "1105              2       Howard, Mrs. Benjamin (Ellen Truelove Arman)   \n",
       "1109              1                           Wick, Mr. George Dennick   \n",
       "1110              1       Widener, Mrs. George Dunton (Eleanor Elkins)   \n",
       "1116              1   Candee, Mrs. Edward (Helen Churchill Hungerford)   \n",
       "1128              1                           Warren, Mr. Frank Manley   \n",
       "1132              1          Lindstrom, Mrs. Carl Johan (Sigrid Posse)   \n",
       "1185              1                              Dodge, Dr. Washington   \n",
       "1197              1  Crosby, Mrs. Edward Gifford (Catherine Elizabe...   \n",
       "1200              1                         Hays, Mr. Charles Melville   \n",
       "1206              1              White, Mrs. John Stuart (Ella Holmes)   \n",
       "1208              1                      Spencer, Mr. William Augustus   \n",
       "1235              1  Cardeza, Mrs. James Warburton Martinez (Charlo...   \n",
       "1247              1                           Julian, Mr. Henry Forbes   \n",
       "1248              1     Brown, Mrs. John Murray (Caroline Lane Lamson)   \n",
       "1266              1              Dodge, Mrs. Washington (Ruth Vidaver)   \n",
       "1270              1                        Hipkins, Mr. William Edward   \n",
       "1279              2                                    Ashby, Mr. John   \n",
       "1283              1     Lines, Mrs. Ernest H (Elizabeth Lindsey James)   \n",
       "1299              1                         Widener, Mr. George Dunton   \n",
       "\n",
       "                Sex  Age  SibSp  Parch      Ticket       Fare  \\\n",
       "PassengerId                                                     \n",
       "894            male   62      0      0      240276    9.68750   \n",
       "905            male   63      1      0       24065   26.00000   \n",
       "912            male   55      1      0    PC 17603   59.40000   \n",
       "917            male   50      1      0   A/5. 3337   14.50000   \n",
       "922            male   50      1      0  SC/AH 3085   26.00000   \n",
       "940          female   60      0      0       11813   76.29170   \n",
       "961          female   60      1      4       19950  263.00000   \n",
       "969          female   55      2      0       11770   25.70000   \n",
       "973            male   67      1      0    PC 17483  221.77920   \n",
       "988          female   76      1      0       19877   78.85000   \n",
       "1006         female   63      1      0    PC 17483  221.77920   \n",
       "1023           male   53      0      0      113780   28.50000   \n",
       "1034           male   61      1      3    PC 17608  262.37500   \n",
       "1044           male   60      0      0        3701   11.82635   \n",
       "1069           male   54      1      0       11778   55.44170   \n",
       "1071         female   64      0      2    PC 17756   83.15830   \n",
       "1085           male   61      0      0      235509   12.35000   \n",
       "1105         female   60      1      0       24065   26.00000   \n",
       "1109           male   57      1      1       36928  164.86670   \n",
       "1110         female   50      1      1      113503  211.50000   \n",
       "1116         female   53      0      0    PC 17606   27.44580   \n",
       "1128           male   64      1      0      110813   75.25000   \n",
       "1132         female   55      0      0      112377   27.72080   \n",
       "1185           male   53      1      1       33638   81.85830   \n",
       "1197         female   64      1      1      112901   26.55000   \n",
       "1200           male   55      1      1       12749   93.50000   \n",
       "1206         female   55      0      0    PC 17760  135.63330   \n",
       "1208           male   57      1      0    PC 17569  146.52080   \n",
       "1235         female   58      0      1    PC 17755  512.32920   \n",
       "1247           male   50      0      0      113044   26.00000   \n",
       "1248         female   59      2      0       11769   51.47920   \n",
       "1266         female   54      1      1       33638   81.85830   \n",
       "1270           male   55      0      0         680   50.00000   \n",
       "1279           male   57      0      0      244346   13.00000   \n",
       "1283         female   51      0      1    PC 17592   39.40000   \n",
       "1299           male   50      1      1      113503  211.50000   \n",
       "\n",
       "                       Cabin Embarked  \n",
       "PassengerId                            \n",
       "894                      NaN        Q  \n",
       "905                      NaN        S  \n",
       "912                      NaN        C  \n",
       "917                      NaN        S  \n",
       "922                      NaN        S  \n",
       "940                      D15        C  \n",
       "961              C23 C25 C27        S  \n",
       "969                     C101        S  \n",
       "973                  C55 C57        S  \n",
       "988                      C46        S  \n",
       "1006                 C55 C57        S  \n",
       "1023                     C51        C  \n",
       "1034         B57 B59 B63 B66        C  \n",
       "1044                     NaN        S  \n",
       "1069                    C116        C  \n",
       "1071                     E45        C  \n",
       "1085                     NaN        Q  \n",
       "1105                     NaN        S  \n",
       "1109                     NaN        S  \n",
       "1110                     C80        C  \n",
       "1116                     NaN        C  \n",
       "1128                     D37        C  \n",
       "1132                     NaN        C  \n",
       "1185                     A34        S  \n",
       "1197                     B26        S  \n",
       "1200                     B69        S  \n",
       "1206                     C32        C  \n",
       "1208                     B78        C  \n",
       "1235             B51 B53 B55        C  \n",
       "1247                     E60        S  \n",
       "1248                    C101        S  \n",
       "1266                     A34        S  \n",
       "1270                     C39        S  \n",
       "1279                     NaN        S  \n",
       "1283                     D28        S  \n",
       "1299                     C80        C  "
      ]
     },
     "execution_count": 371,
     "metadata": {},
     "output_type": "execute_result"
    }
   ],
   "source": [
    "# 자: 실습2\n",
    "# 나이가 50세 이상인 데이터 출력\n",
    "# 자영풀이\n",
    "test[test['Age']>=50]\n",
    "\n",
    "# 쌤풀이\n",
    "test[test['Age'] >=50]"
   ]
  },
  {
   "cell_type": "code",
   "execution_count": 372,
   "id": "4012aeab",
   "metadata": {},
   "outputs": [
    {
     "data": {
      "text/html": [
       "<div>\n",
       "<style scoped>\n",
       "    .dataframe tbody tr th:only-of-type {\n",
       "        vertical-align: middle;\n",
       "    }\n",
       "\n",
       "    .dataframe tbody tr th {\n",
       "        vertical-align: top;\n",
       "    }\n",
       "\n",
       "    .dataframe thead th {\n",
       "        text-align: right;\n",
       "    }\n",
       "</style>\n",
       "<table border=\"1\" class=\"dataframe\">\n",
       "  <thead>\n",
       "    <tr style=\"text-align: right;\">\n",
       "      <th></th>\n",
       "      <th>Pclass</th>\n",
       "      <th>Name</th>\n",
       "      <th>Sex</th>\n",
       "      <th>Age</th>\n",
       "      <th>SibSp</th>\n",
       "      <th>Parch</th>\n",
       "      <th>Ticket</th>\n",
       "      <th>Fare</th>\n",
       "      <th>Cabin</th>\n",
       "      <th>Embarked</th>\n",
       "    </tr>\n",
       "    <tr>\n",
       "      <th>PassengerId</th>\n",
       "      <th></th>\n",
       "      <th></th>\n",
       "      <th></th>\n",
       "      <th></th>\n",
       "      <th></th>\n",
       "      <th></th>\n",
       "      <th></th>\n",
       "      <th></th>\n",
       "      <th></th>\n",
       "      <th></th>\n",
       "    </tr>\n",
       "  </thead>\n",
       "  <tbody>\n",
       "    <tr>\n",
       "      <th>893</th>\n",
       "      <td>3</td>\n",
       "      <td>Wilkes, Mrs. James (Ellen Needs)</td>\n",
       "      <td>female</td>\n",
       "      <td>47</td>\n",
       "      <td>1</td>\n",
       "      <td>0</td>\n",
       "      <td>363272</td>\n",
       "      <td>7.0000</td>\n",
       "      <td>NaN</td>\n",
       "      <td>S</td>\n",
       "    </tr>\n",
       "    <tr>\n",
       "      <th>896</th>\n",
       "      <td>3</td>\n",
       "      <td>Hirvonen, Mrs. Alexander (Helga E Lindqvist)</td>\n",
       "      <td>female</td>\n",
       "      <td>22</td>\n",
       "      <td>1</td>\n",
       "      <td>1</td>\n",
       "      <td>3101298</td>\n",
       "      <td>12.2875</td>\n",
       "      <td>NaN</td>\n",
       "      <td>S</td>\n",
       "    </tr>\n",
       "    <tr>\n",
       "      <th>898</th>\n",
       "      <td>3</td>\n",
       "      <td>Connolly, Miss. Kate</td>\n",
       "      <td>female</td>\n",
       "      <td>30</td>\n",
       "      <td>0</td>\n",
       "      <td>0</td>\n",
       "      <td>330972</td>\n",
       "      <td>7.6292</td>\n",
       "      <td>NaN</td>\n",
       "      <td>Q</td>\n",
       "    </tr>\n",
       "    <tr>\n",
       "      <th>900</th>\n",
       "      <td>3</td>\n",
       "      <td>Abrahim, Mrs. Joseph (Sophie Halaut Easu)</td>\n",
       "      <td>female</td>\n",
       "      <td>18</td>\n",
       "      <td>0</td>\n",
       "      <td>0</td>\n",
       "      <td>2657</td>\n",
       "      <td>7.2292</td>\n",
       "      <td>NaN</td>\n",
       "      <td>C</td>\n",
       "    </tr>\n",
       "    <tr>\n",
       "      <th>904</th>\n",
       "      <td>1</td>\n",
       "      <td>Snyder, Mrs. John Pillsbury (Nelle Stevenson)</td>\n",
       "      <td>female</td>\n",
       "      <td>23</td>\n",
       "      <td>1</td>\n",
       "      <td>0</td>\n",
       "      <td>21228</td>\n",
       "      <td>82.2667</td>\n",
       "      <td>B45</td>\n",
       "      <td>S</td>\n",
       "    </tr>\n",
       "    <tr>\n",
       "      <th>...</th>\n",
       "      <td>...</td>\n",
       "      <td>...</td>\n",
       "      <td>...</td>\n",
       "      <td>...</td>\n",
       "      <td>...</td>\n",
       "      <td>...</td>\n",
       "      <td>...</td>\n",
       "      <td>...</td>\n",
       "      <td>...</td>\n",
       "      <td>...</td>\n",
       "    </tr>\n",
       "    <tr>\n",
       "      <th>1301</th>\n",
       "      <td>3</td>\n",
       "      <td>Peacock, Miss. Treasteall</td>\n",
       "      <td>female</td>\n",
       "      <td>3</td>\n",
       "      <td>1</td>\n",
       "      <td>1</td>\n",
       "      <td>SOTON/O.Q. 3101315</td>\n",
       "      <td>13.7750</td>\n",
       "      <td>NaN</td>\n",
       "      <td>S</td>\n",
       "    </tr>\n",
       "    <tr>\n",
       "      <th>1302</th>\n",
       "      <td>3</td>\n",
       "      <td>Naughton, Miss. Hannah</td>\n",
       "      <td>female</td>\n",
       "      <td>21</td>\n",
       "      <td>0</td>\n",
       "      <td>0</td>\n",
       "      <td>365237</td>\n",
       "      <td>7.7500</td>\n",
       "      <td>NaN</td>\n",
       "      <td>Q</td>\n",
       "    </tr>\n",
       "    <tr>\n",
       "      <th>1303</th>\n",
       "      <td>1</td>\n",
       "      <td>Minahan, Mrs. William Edward (Lillian E Thorpe)</td>\n",
       "      <td>female</td>\n",
       "      <td>37</td>\n",
       "      <td>1</td>\n",
       "      <td>0</td>\n",
       "      <td>19928</td>\n",
       "      <td>90.0000</td>\n",
       "      <td>C78</td>\n",
       "      <td>Q</td>\n",
       "    </tr>\n",
       "    <tr>\n",
       "      <th>1304</th>\n",
       "      <td>3</td>\n",
       "      <td>Henriksson, Miss. Jenny Lovisa</td>\n",
       "      <td>female</td>\n",
       "      <td>28</td>\n",
       "      <td>0</td>\n",
       "      <td>0</td>\n",
       "      <td>347086</td>\n",
       "      <td>7.7750</td>\n",
       "      <td>NaN</td>\n",
       "      <td>S</td>\n",
       "    </tr>\n",
       "    <tr>\n",
       "      <th>1306</th>\n",
       "      <td>1</td>\n",
       "      <td>Oliva y Ocana, Dona. Fermina</td>\n",
       "      <td>female</td>\n",
       "      <td>39</td>\n",
       "      <td>0</td>\n",
       "      <td>0</td>\n",
       "      <td>PC 17758</td>\n",
       "      <td>108.9000</td>\n",
       "      <td>C105</td>\n",
       "      <td>C</td>\n",
       "    </tr>\n",
       "  </tbody>\n",
       "</table>\n",
       "<p>152 rows × 10 columns</p>\n",
       "</div>"
      ],
      "text/plain": [
       "             Pclass                                             Name     Sex  \\\n",
       "PassengerId                                                                    \n",
       "893               3                 Wilkes, Mrs. James (Ellen Needs)  female   \n",
       "896               3     Hirvonen, Mrs. Alexander (Helga E Lindqvist)  female   \n",
       "898               3                             Connolly, Miss. Kate  female   \n",
       "900               3        Abrahim, Mrs. Joseph (Sophie Halaut Easu)  female   \n",
       "904               1    Snyder, Mrs. John Pillsbury (Nelle Stevenson)  female   \n",
       "...             ...                                              ...     ...   \n",
       "1301              3                        Peacock, Miss. Treasteall  female   \n",
       "1302              3                           Naughton, Miss. Hannah  female   \n",
       "1303              1  Minahan, Mrs. William Edward (Lillian E Thorpe)  female   \n",
       "1304              3                   Henriksson, Miss. Jenny Lovisa  female   \n",
       "1306              1                     Oliva y Ocana, Dona. Fermina  female   \n",
       "\n",
       "             Age  SibSp  Parch              Ticket      Fare Cabin Embarked  \n",
       "PassengerId                                                                  \n",
       "893           47      1      0              363272    7.0000   NaN        S  \n",
       "896           22      1      1             3101298   12.2875   NaN        S  \n",
       "898           30      0      0              330972    7.6292   NaN        Q  \n",
       "900           18      0      0                2657    7.2292   NaN        C  \n",
       "904           23      1      0               21228   82.2667   B45        S  \n",
       "...          ...    ...    ...                 ...       ...   ...      ...  \n",
       "1301           3      1      1  SOTON/O.Q. 3101315   13.7750   NaN        S  \n",
       "1302          21      0      0              365237    7.7500   NaN        Q  \n",
       "1303          37      1      0               19928   90.0000   C78        Q  \n",
       "1304          28      0      0              347086    7.7750   NaN        S  \n",
       "1306          39      0      0            PC 17758  108.9000  C105        C  \n",
       "\n",
       "[152 rows x 10 columns]"
      ]
     },
     "execution_count": 372,
     "metadata": {},
     "output_type": "execute_result"
    }
   ],
   "source": [
    "# 자:실습3\n",
    "# 성별이 여자인 사람만 출력\n",
    "# 자영풀이\n",
    "test[test['Sex']=='female']\n",
    "\n",
    "# 쌤풀이\n",
    "test[test['Sex']=='female']"
   ]
  },
  {
   "cell_type": "code",
   "execution_count": 373,
   "id": "bdb82c51",
   "metadata": {},
   "outputs": [
    {
     "data": {
      "text/plain": [
       "array([70, 56, 21, 80, 90, 95])"
      ]
     },
     "execution_count": 373,
     "metadata": {},
     "output_type": "execute_result"
    }
   ],
   "source": [
    "score = [70,56,21,80,90,95] #자: 그냥 list\n",
    "score[3] #80\n",
    "\n",
    "np_score = np.array(score) #자: 불리언 인덱싱은 numpy에서만 가능\n",
    "np_score\n",
    "#array([70, 56, 21, 80, 90, 95])"
   ]
  },
  {
   "cell_type": "code",
   "execution_count": 374,
   "id": "cc660dea",
   "metadata": {},
   "outputs": [
    {
     "data": {
      "text/plain": [
       "array([80, 90, 95])"
      ]
     },
     "execution_count": 374,
     "metadata": {},
     "output_type": "execute_result"
    }
   ],
   "source": [
    "# 점수가 80점 이상인 데이터만 출력\n",
    "np_score[np_score >= 80] # 불리언 인덱싱은 numpy에서만 가능\n",
    "# array([80, 90, 95])"
   ]
  },
  {
   "cell_type": "markdown",
   "id": "ea6d21c4",
   "metadata": {},
   "source": [
    "- Cabin 결측치 처리 (train, test 둘 다 결측치가 있다)"
   ]
  },
  {
   "cell_type": "code",
   "execution_count": 375,
   "id": "1d4f743a",
   "metadata": {},
   "outputs": [
    {
     "data": {
      "text/plain": [
       "204"
      ]
     },
     "execution_count": 375,
     "metadata": {},
     "output_type": "execute_result"
    }
   ],
   "source": [
    "train['Cabin'].count() # 204\n",
    "# 전체데이터 891개\n",
    "# 있는 데이터 204개\n",
    "# 결측치 687개\n",
    "# 실제 데이터보다 결측치가 더 많음 -> 컬럼을 삭제하는 것도 하나의 방법"
   ]
  },
  {
   "cell_type": "code",
   "execution_count": 376,
   "id": "c08f2b02",
   "metadata": {},
   "outputs": [
    {
     "data": {
      "text/plain": [
       "array([nan, 'C85', 'C123', 'E46', 'G6', 'C103', 'D56', 'A6',\n",
       "       'C23 C25 C27', 'B78', 'D33', 'B30', 'C52', 'B28', 'C83', 'F33',\n",
       "       'F G73', 'E31', 'A5', 'D10 D12', 'D26', 'C110', 'B58 B60', 'E101',\n",
       "       'F E69', 'D47', 'B86', 'F2', 'C2', 'E33', 'B19', 'A7', 'C49', 'F4',\n",
       "       'A32', 'B4', 'B80', 'A31', 'D36', 'D15', 'C93', 'C78', 'D35',\n",
       "       'C87', 'B77', 'E67', 'B94', 'C125', 'C99', 'C118', 'D7', 'A19',\n",
       "       'B49', 'D', 'C22 C26', 'C106', 'C65', 'E36', 'C54',\n",
       "       'B57 B59 B63 B66', 'C7', 'E34', 'C32', 'B18', 'C124', 'C91', 'E40',\n",
       "       'T', 'C128', 'D37', 'B35', 'E50', 'C82', 'B96 B98', 'E10', 'E44',\n",
       "       'A34', 'C104', 'C111', 'C92', 'E38', 'D21', 'E12', 'E63', 'A14',\n",
       "       'B37', 'C30', 'D20', 'B79', 'E25', 'D46', 'B73', 'C95', 'B38',\n",
       "       'B39', 'B22', 'C86', 'C70', 'A16', 'C101', 'C68', 'A10', 'E68',\n",
       "       'B41', 'A20', 'D19', 'D50', 'D9', 'A23', 'B50', 'A26', 'D48',\n",
       "       'E58', 'C126', 'B71', 'B51 B53 B55', 'D49', 'B5', 'B20', 'F G63',\n",
       "       'C62 C64', 'E24', 'C90', 'C45', 'E8', 'B101', 'D45', 'C46', 'D30',\n",
       "       'E121', 'D11', 'E77', 'F38', 'B3', 'D6', 'B82 B84', 'D17', 'A36',\n",
       "       'B102', 'B69', 'E49', 'C47', 'D28', 'E17', 'A24', 'C50', 'B42',\n",
       "       'C148'], dtype=object)"
      ]
     },
     "execution_count": 376,
     "metadata": {},
     "output_type": "execute_result"
    }
   ],
   "source": [
    "train['Cabin'].unique()\n",
    "# 유일한 값들을 확인해봤을 때 규칙을 찾기!\n",
    "# 알파벳을 활용해보자! -> 층수\n",
    "\n",
    "#array([nan, 'C85', 'C123', 'E46', 'G6', 'C103', 'D56', 'A6',\n",
    "#        'C23 C25 C27', 'B78', 'D33', 'B30', 'C52', 'B28', 'C83', 'F33',\n",
    "#        'F G73', 'E31', 'A5', 'D10 D12', 'D26', 'C110', 'B58 B60', 'E101',\n",
    "#        'F E69', 'D47', 'B86', 'F2', 'C2', 'E33', 'B19', 'A7', 'C49', 'F4',\n",
    "#        'A32', 'B4', 'B80', 'A31', 'D36', 'D15', 'C93', 'C78', 'D35',\n",
    "#        'C87', 'B77', 'E67', 'B94', 'C125', 'C99', 'C118', 'D7', 'A19',\n",
    "#        'B49', 'D', 'C22 C26', 'C106', 'C65', 'E36', 'C54',\n",
    "#        'B57 B59 B63 B66', 'C7', 'E34', 'C32', 'B18', 'C124', 'C91', 'E40',\n",
    "#        'T', 'C128', 'D37', 'B35', 'E50', 'C82', 'B96 B98', 'E10', 'E44',\n",
    "#        'A34', 'C104', 'C111', 'C92', 'E38', 'D21', 'E12', 'E63', 'A14',\n",
    "#        'B37', 'C30', 'D20', 'B79', 'E25', 'D46', 'B73', 'C95', 'B38',\n",
    "#        'B39', 'B22', 'C86', 'C70', 'A16', 'C101', 'C68', 'A10', 'E68',\n",
    "#        'B41', 'A20', 'D19', 'D50', 'D9', 'A23', 'B50', 'A26', 'D48',\n",
    "#        'E58', 'C126', 'B71', 'B51 B53 B55', 'D49', 'B5', 'B20', 'F G63',\n",
    "#        'C62 C64', 'E24', 'C90', 'C45', 'E8', 'B101', 'D45', 'C46', 'D30',\n",
    "#        'E121', 'D11', 'E77', 'F38', 'B3', 'D6', 'B82 B84', 'D17', 'A36',\n",
    "#        'B102', 'B69', 'E49', 'C47', 'D28', 'E17', 'A24', 'C50', 'B42',\n",
    "#        'C148'], dtype=object)\n"
   ]
  },
  {
   "cell_type": "code",
   "execution_count": 377,
   "id": "e8d9210d",
   "metadata": {},
   "outputs": [],
   "source": [
    "# train, test 알파벳으로 데이터를 변경\n",
    "# 결측치가 있는 데이터들에는 'M'이라는 임의의 알파벳으로 채워주고 가자\n",
    "train['Deck'] = train['Cabin'].fillna('M')\n",
    "test['Deck'] = test['Cabin'].fillna('M')\n",
    "# 임의의 문자로 채워주는 이유는 결측치가 너무 많기 때문에 \n",
    "# 결측치를 가지고 있는 사람들의 패턴을 파탁하기 위해\n",
    "# 시각화를 통해서 결측치즐의 규칙 확인 "
   ]
  },
  {
   "cell_type": "code",
   "execution_count": 378,
   "id": "5a6e6982",
   "metadata": {},
   "outputs": [],
   "source": [
    "# 'Deck' 컬럼에는 알파벳만을 담아주기~ (첫번째 문자열만 추출)\n",
    "train['Deck'] = train['Deck'].str[0]\n",
    "\n",
    "\n",
    "# PassengerId\n",
    "# 1      M\n",
    "# 2      C\n",
    "# 3      M\n",
    "# 4      C\n",
    "# 5      M\n",
    "#       ..\n",
    "# 887    M\n",
    "# 888    B\n",
    "# 889    M\n",
    "# 890    C\n",
    "# 891    M\n",
    "# Name: Deck, Length: 891, dtype: object\n",
    "\n",
    "\n",
    "test['Deck'] = test['Deck'].str[0]\n",
    "# PassengerId\n",
    "# 892     M\n",
    "# 893     M\n",
    "# 894     M\n",
    "# 895     M\n",
    "# 896     M\n",
    "#        ..\n",
    "# 1305    M\n",
    "# 1306    C\n",
    "# 1307    M\n",
    "# 1308    M\n",
    "# 1309    M\n",
    "# Name: Deck, Length: 418, dtype: object"
   ]
  },
  {
   "cell_type": "code",
   "execution_count": 379,
   "id": "21d2510d",
   "metadata": {},
   "outputs": [
    {
     "name": "stdout",
     "output_type": "stream",
     "text": [
      "<class 'pandas.core.frame.DataFrame'>\n",
      "Index: 891 entries, 1 to 891\n",
      "Data columns (total 12 columns):\n",
      " #   Column    Non-Null Count  Dtype  \n",
      "---  ------    --------------  -----  \n",
      " 0   Survived  891 non-null    int64  \n",
      " 1   Pclass    891 non-null    int64  \n",
      " 2   Name      891 non-null    object \n",
      " 3   Sex       891 non-null    object \n",
      " 4   Age       891 non-null    int64  \n",
      " 5   SibSp     891 non-null    int64  \n",
      " 6   Parch     891 non-null    int64  \n",
      " 7   Ticket    891 non-null    object \n",
      " 8   Fare      891 non-null    float64\n",
      " 9   Cabin     204 non-null    object \n",
      " 10  Embarked  891 non-null    object \n",
      " 11  Deck      891 non-null    object \n",
      "dtypes: float64(1), int64(5), object(6)\n",
      "memory usage: 90.5+ KB\n"
     ]
    }
   ],
   "source": [
    "train.info()\n",
    "# <class 'pandas.core.frame.DataFrame'>\n",
    "# Index: 891 entries, 1 to 891\n",
    "# Data columns (total 12 columns):\n",
    "#  #   Column    Non-Null Count  Dtype  \n",
    "# ---  ------    --------------  -----  \n",
    "#  0   Survived  891 non-null    int64  \n",
    "#  1   Pclass    891 non-null    int64  \n",
    "#  2   Name      891 non-null    object \n",
    "#  3   Sex       891 non-null    object \n",
    "#  4   Age       891 non-null    int64  \n",
    "#  5   SibSp     891 non-null    int64  \n",
    "#  6   Parch     891 non-null    int64  \n",
    "#  7   Ticket    891 non-null    object \n",
    "#  8   Fare      891 non-null    float64\n",
    "#  9   Cabin     204 non-null    object \n",
    "#  10  Embarked  891 non-null    object \n",
    "#  11  Deck      891 non-null    object \n",
    "# dtypes: float64(1), int64(5), object(6)\n",
    "# memory usage: 122.8+ KB"
   ]
  },
  {
   "cell_type": "code",
   "execution_count": 380,
   "id": "83f2f97c",
   "metadata": {},
   "outputs": [
    {
     "name": "stdout",
     "output_type": "stream",
     "text": [
      "<class 'pandas.core.frame.DataFrame'>\n",
      "Index: 418 entries, 892 to 1309\n",
      "Data columns (total 11 columns):\n",
      " #   Column    Non-Null Count  Dtype  \n",
      "---  ------    --------------  -----  \n",
      " 0   Pclass    418 non-null    int64  \n",
      " 1   Name      418 non-null    object \n",
      " 2   Sex       418 non-null    object \n",
      " 3   Age       418 non-null    int64  \n",
      " 4   SibSp     418 non-null    int64  \n",
      " 5   Parch     418 non-null    int64  \n",
      " 6   Ticket    418 non-null    object \n",
      " 7   Fare      418 non-null    float64\n",
      " 8   Cabin     91 non-null     object \n",
      " 9   Embarked  418 non-null    object \n",
      " 10  Deck      418 non-null    object \n",
      "dtypes: float64(1), int64(4), object(6)\n",
      "memory usage: 39.2+ KB\n"
     ]
    }
   ],
   "source": [
    "test.info()\n",
    "# <class 'pandas.core.frame.DataFrame'>\n",
    "# Index: 418 entries, 892 to 1309\n",
    "# Data columns (total 11 columns):\n",
    "#  #   Column    Non-Null Count  Dtype  \n",
    "# ---  ------    --------------  -----  \n",
    "#  0   Pclass    418 non-null    int64  \n",
    "#  1   Name      418 non-null    object \n",
    "#  2   Sex       418 non-null    object \n",
    "#  3   Age       418 non-null    int64  \n",
    "#  4   SibSp     418 non-null    int64  \n",
    "#  5   Parch     418 non-null    int64  \n",
    "#  6   Ticket    418 non-null    object \n",
    "#  7   Fare      418 non-null    float64\n",
    "#  8   Cabin     91 non-null     object \n",
    "#  9   Embarked  418 non-null    object \n",
    "#  10  Deck      418 non-null    object \n",
    "# dtypes: float64(1), int64(4), object(6)\n",
    "# memory usage: 39.2+ KB"
   ]
  },
  {
   "cell_type": "code",
   "execution_count": 381,
   "id": "dfe84da0",
   "metadata": {},
   "outputs": [],
   "source": [
    "# Cabin 컬럼 삭제\n",
    "train.drop('Cabin', axis=1, inplace=True)"
   ]
  },
  {
   "cell_type": "code",
   "execution_count": 382,
   "id": "697f6643",
   "metadata": {},
   "outputs": [],
   "source": [
    "test.drop('Cabin', axis=1, inplace=True)"
   ]
  },
  {
   "cell_type": "code",
   "execution_count": 383,
   "id": "1bef58e5",
   "metadata": {},
   "outputs": [
    {
     "name": "stdout",
     "output_type": "stream",
     "text": [
      "<class 'pandas.core.frame.DataFrame'>\n",
      "Index: 891 entries, 1 to 891\n",
      "Data columns (total 11 columns):\n",
      " #   Column    Non-Null Count  Dtype  \n",
      "---  ------    --------------  -----  \n",
      " 0   Survived  891 non-null    int64  \n",
      " 1   Pclass    891 non-null    int64  \n",
      " 2   Name      891 non-null    object \n",
      " 3   Sex       891 non-null    object \n",
      " 4   Age       891 non-null    int64  \n",
      " 5   SibSp     891 non-null    int64  \n",
      " 6   Parch     891 non-null    int64  \n",
      " 7   Ticket    891 non-null    object \n",
      " 8   Fare      891 non-null    float64\n",
      " 9   Embarked  891 non-null    object \n",
      " 10  Deck      891 non-null    object \n",
      "dtypes: float64(1), int64(5), object(5)\n",
      "memory usage: 83.5+ KB\n"
     ]
    }
   ],
   "source": [
    "train.info()\n",
    "# <class 'pandas.core.frame.DataFrame'>\n",
    "# Index: 891 entries, 1 to 891\n",
    "# Data columns (total 11 columns):\n",
    "#  #   Column    Non-Null Count  Dtype  \n",
    "# ---  ------    --------------  -----  \n",
    "#  0   Survived  891 non-null    int64  \n",
    "#  1   Pclass    891 non-null    int64  \n",
    "#  2   Name      891 non-null    object \n",
    "#  3   Sex       891 non-null    object \n",
    "#  4   Age       891 non-null    int64  \n",
    "#  5   SibSp     891 non-null    int64  \n",
    "#  6   Parch     891 non-null    int64  \n",
    "#  7   Ticket    891 non-null    object \n",
    "#  8   Fare      891 non-null    float64\n",
    "#  9   Embarked  891 non-null    object \n",
    "#  10  Deck      891 non-null    object \n",
    "# dtypes: float64(1), int64(5), object(5)\n",
    "# memory usage: 115.8+ KB"
   ]
  },
  {
   "cell_type": "code",
   "execution_count": 384,
   "id": "57fff5e6",
   "metadata": {},
   "outputs": [
    {
     "name": "stdout",
     "output_type": "stream",
     "text": [
      "<class 'pandas.core.frame.DataFrame'>\n",
      "Index: 418 entries, 892 to 1309\n",
      "Data columns (total 10 columns):\n",
      " #   Column    Non-Null Count  Dtype  \n",
      "---  ------    --------------  -----  \n",
      " 0   Pclass    418 non-null    int64  \n",
      " 1   Name      418 non-null    object \n",
      " 2   Sex       418 non-null    object \n",
      " 3   Age       418 non-null    int64  \n",
      " 4   SibSp     418 non-null    int64  \n",
      " 5   Parch     418 non-null    int64  \n",
      " 6   Ticket    418 non-null    object \n",
      " 7   Fare      418 non-null    float64\n",
      " 8   Embarked  418 non-null    object \n",
      " 9   Deck      418 non-null    object \n",
      "dtypes: float64(1), int64(4), object(5)\n",
      "memory usage: 35.9+ KB\n"
     ]
    }
   ],
   "source": [
    "test.info()\n",
    "\n",
    "# <class 'pandas.core.frame.DataFrame'>\n",
    "# Index: 418 entries, 892 to 1309\n",
    "# Data columns (total 10 columns):\n",
    "#  #   Column    Non-Null Count  Dtype  \n",
    "# ---  ------    --------------  -----  \n",
    "#  0   Pclass    418 non-null    int64  \n",
    "#  1   Name      418 non-null    object \n",
    "#  2   Sex       418 non-null    object \n",
    "#  3   Age       418 non-null    int64  \n",
    "#  4   SibSp     418 non-null    int64  \n",
    "#  5   Parch     418 non-null    int64  \n",
    "#  6   Ticket    418 non-null    object \n",
    "#  7   Fare      418 non-null    float64\n",
    "#  8   Embarked  418 non-null    object \n",
    "#  9   Deck      418 non-null    object \n",
    "# dtypes: float64(1), int64(4), object(5)\n",
    "# memory usage: 35.9+ KB"
   ]
  },
  {
   "cell_type": "markdown",
   "id": "f785fb6b",
   "metadata": {},
   "source": [
    "- Deck 컬럼의 M 데이터의 패턴 확인"
   ]
  },
  {
   "cell_type": "code",
   "execution_count": 385,
   "id": "4b6b7125",
   "metadata": {},
   "outputs": [
    {
     "data": {
      "text/html": [
       "<div>\n",
       "<style scoped>\n",
       "    .dataframe tbody tr th:only-of-type {\n",
       "        vertical-align: middle;\n",
       "    }\n",
       "\n",
       "    .dataframe tbody tr th {\n",
       "        vertical-align: top;\n",
       "    }\n",
       "\n",
       "    .dataframe thead th {\n",
       "        text-align: right;\n",
       "    }\n",
       "</style>\n",
       "<table border=\"1\" class=\"dataframe\">\n",
       "  <thead>\n",
       "    <tr style=\"text-align: right;\">\n",
       "      <th></th>\n",
       "      <th></th>\n",
       "      <th>Name</th>\n",
       "    </tr>\n",
       "    <tr>\n",
       "      <th>Deck</th>\n",
       "      <th>Survived</th>\n",
       "      <th></th>\n",
       "    </tr>\n",
       "  </thead>\n",
       "  <tbody>\n",
       "    <tr>\n",
       "      <th rowspan=\"2\" valign=\"top\">A</th>\n",
       "      <th>0</th>\n",
       "      <td>8</td>\n",
       "    </tr>\n",
       "    <tr>\n",
       "      <th>1</th>\n",
       "      <td>7</td>\n",
       "    </tr>\n",
       "    <tr>\n",
       "      <th rowspan=\"2\" valign=\"top\">B</th>\n",
       "      <th>0</th>\n",
       "      <td>12</td>\n",
       "    </tr>\n",
       "    <tr>\n",
       "      <th>1</th>\n",
       "      <td>35</td>\n",
       "    </tr>\n",
       "    <tr>\n",
       "      <th rowspan=\"2\" valign=\"top\">C</th>\n",
       "      <th>0</th>\n",
       "      <td>24</td>\n",
       "    </tr>\n",
       "    <tr>\n",
       "      <th>1</th>\n",
       "      <td>35</td>\n",
       "    </tr>\n",
       "    <tr>\n",
       "      <th rowspan=\"2\" valign=\"top\">D</th>\n",
       "      <th>0</th>\n",
       "      <td>8</td>\n",
       "    </tr>\n",
       "    <tr>\n",
       "      <th>1</th>\n",
       "      <td>25</td>\n",
       "    </tr>\n",
       "    <tr>\n",
       "      <th rowspan=\"2\" valign=\"top\">E</th>\n",
       "      <th>0</th>\n",
       "      <td>8</td>\n",
       "    </tr>\n",
       "    <tr>\n",
       "      <th>1</th>\n",
       "      <td>24</td>\n",
       "    </tr>\n",
       "    <tr>\n",
       "      <th rowspan=\"2\" valign=\"top\">F</th>\n",
       "      <th>0</th>\n",
       "      <td>5</td>\n",
       "    </tr>\n",
       "    <tr>\n",
       "      <th>1</th>\n",
       "      <td>8</td>\n",
       "    </tr>\n",
       "    <tr>\n",
       "      <th rowspan=\"2\" valign=\"top\">G</th>\n",
       "      <th>0</th>\n",
       "      <td>2</td>\n",
       "    </tr>\n",
       "    <tr>\n",
       "      <th>1</th>\n",
       "      <td>2</td>\n",
       "    </tr>\n",
       "    <tr>\n",
       "      <th rowspan=\"2\" valign=\"top\">M</th>\n",
       "      <th>0</th>\n",
       "      <td>481</td>\n",
       "    </tr>\n",
       "    <tr>\n",
       "      <th>1</th>\n",
       "      <td>206</td>\n",
       "    </tr>\n",
       "    <tr>\n",
       "      <th>T</th>\n",
       "      <th>0</th>\n",
       "      <td>1</td>\n",
       "    </tr>\n",
       "  </tbody>\n",
       "</table>\n",
       "</div>"
      ],
      "text/plain": [
       "               Name\n",
       "Deck Survived      \n",
       "A    0            8\n",
       "     1            7\n",
       "B    0           12\n",
       "     1           35\n",
       "C    0           24\n",
       "     1           35\n",
       "D    0            8\n",
       "     1           25\n",
       "E    0            8\n",
       "     1           24\n",
       "F    0            5\n",
       "     1            8\n",
       "G    0            2\n",
       "     1            2\n",
       "M    0          481\n",
       "     1          206\n",
       "T    0            1"
      ]
     },
     "execution_count": 385,
     "metadata": {},
     "output_type": "execute_result"
    }
   ],
   "source": [
    "# 피봇테이블 \n",
    "# Deck 별로 산 사람, 죽은 사람의 수를 count \n",
    "\n",
    "train.pivot_table(values='Name',\n",
    "                 index = ['Deck', 'Survived'],\n",
    "                 aggfunc='count')\n",
    "\n",
    "# M데이터를 가진 사람들 중 산 사람보다 죽은 비율이 높다(2배)"
   ]
  },
  {
   "cell_type": "code",
   "execution_count": 386,
   "id": "9c777036",
   "metadata": {},
   "outputs": [
    {
     "data": {
      "text/plain": [
       "<Axes: xlabel='Deck', ylabel='count'>"
      ]
     },
     "execution_count": 386,
     "metadata": {},
     "output_type": "execute_result"
    },
    {
     "data": {
      "image/png": "[encoded data removed]",
      "text/plain": [
       "<Figure size 640x480 with 1 Axes>"
      ]
     },
     "metadata": {},
     "output_type": "display_data"
    }
   ],
   "source": [
    "# 시각화로 확인하기\n",
    "sns.countplot(data = train,\n",
    "              x = 'Deck',\n",
    "              hue = 'Survived')\n",
    "\n",
    "# M에 죽은 사람이 많음\n",
    "# 생존여부를 파악하는 데 활용해도 괜찮겠군!"
   ]
  },
  {
   "cell_type": "code",
   "execution_count": 387,
   "id": "d80aba40",
   "metadata": {},
   "outputs": [],
   "source": [
    "# 240417"
   ]
  },
  {
   "cell_type": "code",
   "execution_count": 388,
   "id": "a78f3cb6",
   "metadata": {},
   "outputs": [
    {
     "data": {
      "text/plain": [
       "<Axes: xlabel='Pclass', ylabel='count'>"
      ]
     },
     "execution_count": 388,
     "metadata": {},
     "output_type": "execute_result"
    },
    {
     "data": {
      "image/png": "[encoded data removed]",
      "text/plain": [
       "<Figure size 640x480 with 1 Axes>"
      ]
     },
     "metadata": {},
     "output_type": "display_data"
    }
   ],
   "source": [
    "#Pclass에 따른 생존비율 시각화\n",
    "\n",
    "## 자영풀이\n",
    "sns.countplot(data = train,\n",
    "              x = 'Pclass',\n",
    "              hue = 'Survived')\n",
    "\n",
    "# 1등급은 생존율이 높음\n",
    "# 2등급은 생존율이 비슷함\n",
    "# 3등급은 사망율이 훨씬 높음\n"
   ]
  },
  {
   "cell_type": "code",
   "execution_count": 389,
   "id": "f4b847cf",
   "metadata": {},
   "outputs": [
    {
     "data": {
      "text/plain": [
       "<Axes: xlabel='Pclass', ylabel='count'>"
      ]
     },
     "execution_count": 389,
     "metadata": {},
     "output_type": "execute_result"
    },
    {
     "data": {
      "image/png": "[encoded data removed]",
      "text/plain": [
       "<Figure size 300x300 with 1 Axes>"
      ]
     },
     "metadata": {},
     "output_type": "display_data"
    }
   ],
   "source": [
    "#Pclass에 따른 생존비율 시각화\n",
    "# 쌤풀이\n",
    "plt.figure(figsize=(3,3)) #자:그래프 크기 조정\n",
    "\n",
    "sns.countplot(data = train,\n",
    "             x = 'Pclass',\n",
    "             hue = 'Survived')\n",
    "\n",
    "# 1등급 - 생존율이 높음\n",
    "# 2등급 - 비교적 사망률이 높음\n",
    "# 3등급 - 월등히 사망률이 높음"
   ]
  },
  {
   "cell_type": "code",
   "execution_count": 390,
   "id": "4b2dafef",
   "metadata": {
    "scrolled": true
   },
   "outputs": [
    {
     "data": {
      "text/plain": [
       "<Axes: xlabel='Deck', ylabel='count'>"
      ]
     },
     "execution_count": 390,
     "metadata": {},
     "output_type": "execute_result"
    },
    {
     "data": {
      "image/png": "[encoded data removed]",
      "text/plain": [
       "<Figure size 640x480 with 1 Axes>"
      ]
     },
     "metadata": {},
     "output_type": "display_data"
    }
   ],
   "source": [
    "# x : Deck, hue : Pclass\n",
    "sns.countplot(data = train,\n",
    "             x = 'Deck',\n",
    "             hue='Pclass')\n",
    "# 결측치(M)인 사람이 3등급인 확률이 높구나"
   ]
  },
  {
   "cell_type": "code",
   "execution_count": 391,
   "id": "d3f210a3",
   "metadata": {},
   "outputs": [
    {
     "data": {
      "text/plain": [
       "<Axes: xlabel='Embarked', ylabel='count'>"
      ]
     },
     "execution_count": 391,
     "metadata": {},
     "output_type": "execute_result"
    },
    {
     "data": {
      "image/png": "[encoded data removed]",
      "text/plain": [
       "<Figure size 640x480 with 1 Axes>"
      ]
     },
     "metadata": {},
     "output_type": "display_data"
    }
   ],
   "source": [
    "# 탑승 항구에 따른 생존 여부\n",
    "sns.countplot(data = train,\n",
    "             x = 'Embarked',\n",
    "             hue = 'Survived')\n",
    "# 쌤풀이\n",
    "# S 항구에서 탑승한 승객이 사망률이 높음\n",
    "# C 항구 탑승객이 생존률이 높음\n",
    "# Q 항구 탑승객은 사망률이 비교적 높음\n",
    "\n",
    "\n",
    "# 자영풀이\n",
    "# S에서 승선한 사람들은 사망률이 월등히 높음\n",
    "# C에서 승성한 사람들은 비교적 생존률이 높음\n",
    "# Q에서 승선한 사람들은 비교적 사망률이 높음\n"
   ]
  },
  {
   "cell_type": "code",
   "execution_count": 392,
   "id": "03fe604b",
   "metadata": {
    "scrolled": true
   },
   "outputs": [
    {
     "data": {
      "text/plain": [
       "<Axes: xlabel='Sex', ylabel='count'>"
      ]
     },
     "execution_count": 392,
     "metadata": {},
     "output_type": "execute_result"
    },
    {
     "data": {
      "image/png": "[encoded data removed]",
      "text/plain": [
       "<Figure size 640x480 with 1 Axes>"
      ]
     },
     "metadata": {},
     "output_type": "display_data"
    }
   ],
   "source": [
    "# 성별에 따른 생존 여부\n",
    "# 해석\n",
    "sns.countplot(data = train,\n",
    "             x = 'Sex',\n",
    "             hue = 'Survived')\n",
    "# 쌤풀이\n",
    "# 남자가 많이 사망했구나 ㅠㅠ\n",
    "\n",
    "# 자영풀이\n",
    "# 남성의 사망률이 압도적으로 높음\n",
    "# 여성의 생존률이 압도적으로 높음"
   ]
  },
  {
   "cell_type": "code",
   "execution_count": 393,
   "id": "c7e5ae43",
   "metadata": {
    "scrolled": false
   },
   "outputs": [
    {
     "data": {
      "text/plain": [
       "<Axes: xlabel='Age', ylabel='count'>"
      ]
     },
     "execution_count": 393,
     "metadata": {},
     "output_type": "execute_result"
    },
    {
     "data": {
      "image/png": "[encoded data removed]",
      "text/plain": [
       "<Figure size 1500x500 with 1 Axes>"
      ]
     },
     "metadata": {},
     "output_type": "display_data"
    }
   ],
   "source": [
    "# 나이에 따른 생존여부\n",
    "# 해석\n",
    "plt.figure(figsize=(15,5)) #자:그래프 크기 조정\n",
    "\n",
    "sns.countplot(data = train,\n",
    "             x = 'Age',\n",
    "             hue = 'Survived')\n",
    "\n",
    "# 쌤풀이\n",
    "# 연속적인 수치형 데이터를 확인할 때 막대 그래프로 그리면 큰 의미가 없게 된다\n",
    "# 수치형의 데이터는 분포, 밀도를 확인할 수 있는 그래프로 표현\n",
    "\n"
   ]
  },
  {
   "cell_type": "code",
   "execution_count": 394,
   "id": "b47f5924",
   "metadata": {
    "scrolled": true
   },
   "outputs": [
    {
     "data": {
      "image/png": "[encoded data removed]",
      "text/plain": [
       "<Figure size 640x480 with 1 Axes>"
      ]
     },
     "metadata": {},
     "output_type": "display_data"
    }
   ],
   "source": [
    "# 바이올린 플롯 : 바이올린 형태로 데이터의 분포와  밀도를 보기 쉽게 곡선으로 표현\n",
    "# 데이터가 많을수록 두껍게 표현, 적을수록 얇게 표현\n",
    "sns.violinplot(data = train, \n",
    "              x = 'Sex',\n",
    "              y = 'Age',\n",
    "              hue = 'Survived',\n",
    "              split = True)\n",
    "\n",
    "plt.yticks(range(0,100,10)) #자 : y축 \n",
    "plt.grid() # 자 : 배경에 격자무늬 추가\n",
    "\n",
    "# 20대부터 40대 까지의 분포 넓음 -> 탑승자가 많음\n",
    "# 20대부터 40대 사망자가 많음\n",
    "# 어린아이들 중에서는 남자아이가 여자 아이보다 생존률이 높음\n"
   ]
  },
  {
   "cell_type": "code",
   "execution_count": 395,
   "id": "e0ad3e14",
   "metadata": {
    "scrolled": false
   },
   "outputs": [
    {
     "name": "stdout",
     "output_type": "stream",
     "text": [
      "<class 'pandas.core.frame.DataFrame'>\n",
      "Index: 891 entries, 1 to 891\n",
      "Data columns (total 11 columns):\n",
      " #   Column    Non-Null Count  Dtype  \n",
      "---  ------    --------------  -----  \n",
      " 0   Survived  891 non-null    int64  \n",
      " 1   Pclass    891 non-null    int64  \n",
      " 2   Name      891 non-null    object \n",
      " 3   Sex       891 non-null    object \n",
      " 4   Age       891 non-null    int64  \n",
      " 5   SibSp     891 non-null    int64  \n",
      " 6   Parch     891 non-null    int64  \n",
      " 7   Ticket    891 non-null    object \n",
      " 8   Fare      891 non-null    float64\n",
      " 9   Embarked  891 non-null    object \n",
      " 10  Deck      891 non-null    object \n",
      "dtypes: float64(1), int64(5), object(5)\n",
      "memory usage: 83.5+ KB\n"
     ]
    }
   ],
   "source": [
    "train.info()\n",
    "# <class 'pandas.core.frame.DataFrame'>\n",
    "# Index: 891 entries, 1 to 891\n",
    "# Data columns (total 11 columns):\n",
    "#  #   Column    Non-Null Count  Dtype  \n",
    "# ---  ------    --------------  -----  \n",
    "#  0   Survived  891 non-null    int64  \n",
    "#  1   Pclass    891 non-null    int64  \n",
    "#  2   Name      891 non-null    object \n",
    "#  3   Sex       891 non-null    object \n",
    "#  4   Age       891 non-null    int64  \n",
    "#  5   SibSp     891 non-null    int64  \n",
    "#  6   Parch     891 non-null    int64  \n",
    "#  7   Ticket    891 non-null    object \n",
    "#  8   Fare      891 non-null    float64\n",
    "#  9   Embarked  891 non-null    object \n",
    "#  10  Deck      891 non-null    object \n",
    "# dtypes: float64(1), int64(5), object(5)\n",
    "# memory usage: 83.5+ KB"
   ]
  },
  {
   "cell_type": "markdown",
   "id": "67b56877",
   "metadata": {},
   "source": [
    "##### 특성공학 : 새로운 컬럼을 생성, 추출\n",
    "- Parch : 함께 탑승한 부모, 자식의 수\n",
    "- SibSp : 함께 탑승한 형제, 자매, 배우자의 수\n",
    "    - 위 두개의 데이터를 보면 동승자 개념 ->비슷한 데이터\n",
    "    - 부모, 자식, 형제, 자매, 배우자를 합쳐서 \"가족의 수\" 컬럼 생성\n",
    "    - train, test 둘 다 생성"
   ]
  },
  {
   "cell_type": "code",
   "execution_count": 396,
   "id": "bbd20cb0",
   "metadata": {
    "scrolled": true
   },
   "outputs": [
    {
     "data": {
      "text/plain": [
       "PassengerId\n",
       "1      0\n",
       "2      0\n",
       "3      0\n",
       "4      0\n",
       "5      0\n",
       "      ..\n",
       "887    0\n",
       "888    0\n",
       "889    2\n",
       "890    0\n",
       "891    0\n",
       "Name: Parch, Length: 891, dtype: int64"
      ]
     },
     "execution_count": 396,
     "metadata": {},
     "output_type": "execute_result"
    }
   ],
   "source": [
    "train['Parch']\n",
    "# PassengerId\n",
    "# 1      0\n",
    "# 2      0\n",
    "# 3      0\n",
    "# 4      0\n",
    "# 5      0\n",
    "#       ..\n",
    "# 887    0\n",
    "# 888    0\n",
    "# 889    2\n",
    "# 890    0\n",
    "# 891    0\n",
    "# Name: Parch, Length: 891, dtype: int64"
   ]
  },
  {
   "cell_type": "code",
   "execution_count": 397,
   "id": "4d10cbd2",
   "metadata": {},
   "outputs": [
    {
     "data": {
      "text/plain": [
       "PassengerId\n",
       "1      1\n",
       "2      1\n",
       "3      0\n",
       "4      1\n",
       "5      0\n",
       "      ..\n",
       "887    0\n",
       "888    0\n",
       "889    1\n",
       "890    0\n",
       "891    0\n",
       "Name: SibSp, Length: 891, dtype: int64"
      ]
     },
     "execution_count": 397,
     "metadata": {},
     "output_type": "execute_result"
    }
   ],
   "source": [
    "train['SibSp']\n",
    "# PassengerId\n",
    "# 1      1\n",
    "# 2      1\n",
    "# 3      0\n",
    "# 4      1\n",
    "# 5      0\n",
    "#       ..\n",
    "# 887    0\n",
    "# 888    0\n",
    "# 889    1\n",
    "# 890    0\n",
    "# 891    0\n",
    "# Name: SibSp, Length: 891, dtype: int64"
   ]
  },
  {
   "cell_type": "code",
   "execution_count": 398,
   "id": "e66f8c3f",
   "metadata": {},
   "outputs": [],
   "source": [
    "# 두 개의 컬럼을 합해서 가족의 숫자라는 새로운 컬럼을 생성\n",
    "train['Family_size'] = train['SibSp'] + train['Parch'] + 1 #자기자신의 수 더해줌\n",
    "test['Family_size'] = test['SibSp'] + test['Parch'] + 1 #자기자신의 수 더해줌\n"
   ]
  },
  {
   "cell_type": "code",
   "execution_count": 399,
   "id": "719604d3",
   "metadata": {
    "scrolled": false
   },
   "outputs": [
    {
     "data": {
      "text/plain": [
       "<Axes: xlabel='Family_size', ylabel='count'>"
      ]
     },
     "execution_count": 399,
     "metadata": {},
     "output_type": "execute_result"
    },
    {
     "data": {
      "image/png": "[encoded data removed]",
      "text/plain": [
       "<Figure size 640x480 with 1 Axes>"
      ]
     },
     "metadata": {},
     "output_type": "display_data"
    }
   ],
   "source": [
    "# 시각화\n",
    "sns.countplot(data = train,\n",
    "             x = 'Family_size',\n",
    "             hue = 'Survived')\n",
    "# 연속적인 데이터의 경우 패턴이 비슷한 데이터들끼리 묶어주어 \n",
    "# 사소한 관찰의 오류를 줄여주자! -> 학습의 효율성 높여줌\n"
   ]
  },
  {
   "cell_type": "code",
   "execution_count": 400,
   "id": "8cce0746",
   "metadata": {},
   "outputs": [],
   "source": [
    "# 연속형 -> 범주화 (binning)\n",
    "# 데이터, 범위, 각 범위의 라벨\n",
    "\n",
    "# 범위(나누는 구간설정) 1 ,  2~4, 5~11 총 3개의 구간\n",
    "bins = [0,1,4,11] # 자: 리스트형태로 데이터 나눔! #첫번째 숫자는 0 #0부터 1까지(1 only) #2부터 4까지 #5부터 11까지\n",
    "\n",
    "# 라벨\n",
    "labels = ['Alone', 'Small', 'Large']\n",
    "\n",
    "train['Family_size']=pd.cut(train['Family_size'], bins = bins, labels = labels)\n",
    "\n",
    "test['Family_size']=pd.cut(test['Family_size'], bins = bins, labels = labels)\n",
    "\n"
   ]
  },
  {
   "cell_type": "code",
   "execution_count": 401,
   "id": "2ee10a92",
   "metadata": {
    "scrolled": true
   },
   "outputs": [
    {
     "data": {
      "text/plain": [
       "<Axes: xlabel='Family_size', ylabel='count'>"
      ]
     },
     "execution_count": 401,
     "metadata": {},
     "output_type": "execute_result"
    },
    {
     "data": {
      "image/png": "[encoded data removed]",
      "text/plain": [
       "<Figure size 640x480 with 1 Axes>"
      ]
     },
     "metadata": {},
     "output_type": "display_data"
    }
   ],
   "source": [
    "#그룹화된 Family_size 시각화\n",
    "\n",
    "sns.countplot(data = train,\n",
    "             x = 'Family_size',\n",
    "             hue = 'Survived')\n",
    "# 같은 패턴의 데이터들을 그룹화하여 진행 시 사소한 관찰의 오류를 줄일 수 있다\n",
    "\n",
    "#자영풀이\n",
    "# 혼자온 사람은 사망률이 월등히 높다\n",
    "# 핵가족은 생존율이 더 높다\n",
    "# 대가족은 사망률이 압도적으로 높다"
   ]
  },
  {
   "cell_type": "code",
   "execution_count": 402,
   "id": "c4760d6c",
   "metadata": {},
   "outputs": [
    {
     "name": "stdout",
     "output_type": "stream",
     "text": [
      "<class 'pandas.core.frame.DataFrame'>\n",
      "Index: 891 entries, 1 to 891\n",
      "Data columns (total 12 columns):\n",
      " #   Column       Non-Null Count  Dtype   \n",
      "---  ------       --------------  -----   \n",
      " 0   Survived     891 non-null    int64   \n",
      " 1   Pclass       891 non-null    int64   \n",
      " 2   Name         891 non-null    object  \n",
      " 3   Sex          891 non-null    object  \n",
      " 4   Age          891 non-null    int64   \n",
      " 5   SibSp        891 non-null    int64   \n",
      " 6   Parch        891 non-null    int64   \n",
      " 7   Ticket       891 non-null    object  \n",
      " 8   Fare         891 non-null    float64 \n",
      " 9   Embarked     891 non-null    object  \n",
      " 10  Deck         891 non-null    object  \n",
      " 11  Family_size  891 non-null    category\n",
      "dtypes: category(1), float64(1), int64(5), object(5)\n",
      "memory usage: 84.5+ KB\n"
     ]
    }
   ],
   "source": [
    "train.info()\n",
    "# <class 'pandas.core.frame.DataFrame'>\n",
    "# Index: 891 entries, 1 to 891\n",
    "# Data columns (total 12 columns):\n",
    "#  #   Column       Non-Null Count  Dtype   \n",
    "# ---  ------       --------------  -----   \n",
    "#  0   Survived     891 non-null    int64   \n",
    "#  1   Pclass       891 non-null    int64   \n",
    "#  2   Name         891 non-null    object  \n",
    "#  3   Sex          891 non-null    object  \n",
    "#  4   Age          891 non-null    int64   \n",
    "#  5   SibSp        891 non-null    int64   \n",
    "#  6   Parch        891 non-null    int64   \n",
    "#  7   Ticket       891 non-null    object  \n",
    "#  8   Fare         891 non-null    float64 \n",
    "#  9   Embarked     891 non-null    object  \n",
    "#  10  Deck         891 non-null    object  \n",
    "#  11  Family_size  891 non-null    category\n",
    "# dtypes: category(1), float64(1), int64(5), object(5)\n",
    "# memory usage: 84.5+ KB"
   ]
  },
  {
   "cell_type": "markdown",
   "id": "105a47be",
   "metadata": {},
   "source": [
    "- Name 데이터 확인"
   ]
  },
  {
   "cell_type": "code",
   "execution_count": 403,
   "id": "6ab0c3e8",
   "metadata": {
    "scrolled": true
   },
   "outputs": [
    {
     "data": {
      "text/plain": [
       "PassengerId\n",
       "1                                Braund, Mr. Owen Harris\n",
       "2      Cumings, Mrs. John Bradley (Florence Briggs Th...\n",
       "3                                 Heikkinen, Miss. Laina\n",
       "4           Futrelle, Mrs. Jacques Heath (Lily May Peel)\n",
       "5                               Allen, Mr. William Henry\n",
       "                             ...                        \n",
       "887                                Montvila, Rev. Juozas\n",
       "888                         Graham, Miss. Margaret Edith\n",
       "889             Johnston, Miss. Catherine Helen \"Carrie\"\n",
       "890                                Behr, Mr. Karl Howell\n",
       "891                                  Dooley, Mr. Patrick\n",
       "Name: Name, Length: 891, dtype: object"
      ]
     },
     "execution_count": 403,
     "metadata": {},
     "output_type": "execute_result"
    }
   ],
   "source": [
    "train['Name']\n",
    "# text 데이터 내에서 규착찾기 -> 호칭 추출\n",
    "\n",
    "\n",
    "# PassengerId\n",
    "# 1                                Braund, Mr. Owen Harris\n",
    "# 2      Cumings, Mrs. John Bradley (Florence Briggs Th...\n",
    "# 3                                 Heikkinen, Miss. Laina\n",
    "# 4           Futrelle, Mrs. Jacques Heath (Lily May Peel)\n",
    "# 5                               Allen, Mr. William Henry\n",
    "#                              ...                        \n",
    "# 887                                Montvila, Rev. Juozas\n",
    "# 888                         Graham, Miss. Margaret Edith\n",
    "# 889             Johnston, Miss. Catherine Helen \"Carrie\"\n",
    "# 890                                Behr, Mr. Karl Howell\n",
    "# 891                                  Dooley, Mr. Patrick\n",
    "# Name: Name, Length: 891, dtype: object"
   ]
  },
  {
   "cell_type": "code",
   "execution_count": 404,
   "id": "714d5073",
   "metadata": {},
   "outputs": [
    {
     "data": {
      "text/plain": [
       "'Braund, Mr. Owen Harris'"
      ]
     },
     "execution_count": 404,
     "metadata": {},
     "output_type": "execute_result"
    }
   ],
   "source": [
    "# 첫번째 승객의 이름만 추출해서 확인\n",
    "train['Name'][1] # 'Braund, Mr. Owen Harris'\n",
    "# 이름, 호칭.성 -> 호칭추출"
   ]
  },
  {
   "cell_type": "code",
   "execution_count": 405,
   "id": "af4470f6",
   "metadata": {
    "scrolled": true
   },
   "outputs": [
    {
     "data": {
      "text/plain": [
       "['Braund', ' Mr. Owen Harris']"
      ]
     },
     "execution_count": 405,
     "metadata": {},
     "output_type": "execute_result"
    }
   ],
   "source": [
    "# split(기준이 되는 값) -> 잘라서 리스트로 출력\n",
    "train['Name'][1].split(\",\") #['Braund', ' Mr. Owen Harris']\n"
   ]
  },
  {
   "cell_type": "code",
   "execution_count": 406,
   "id": "f5835255",
   "metadata": {},
   "outputs": [
    {
     "data": {
      "text/plain": [
       "' Mr. Owen Harris'"
      ]
     },
     "execution_count": 406,
     "metadata": {},
     "output_type": "execute_result"
    }
   ],
   "source": [
    "# 1번 인덱스의 데이터만 추출\n",
    "train['Name'][1].split(\",\")[1] #' Mr. Owen Harris'"
   ]
  },
  {
   "cell_type": "code",
   "execution_count": 407,
   "id": "fc1b12ff",
   "metadata": {},
   "outputs": [
    {
     "data": {
      "text/plain": [
       "[' Mr', ' Owen Harris']"
      ]
     },
     "execution_count": 407,
     "metadata": {},
     "output_type": "execute_result"
    }
   ],
   "source": [
    "# . 을 기준으로 분할\n",
    "train['Name'][1].split(\",\")[1].split(\".\") # [' Mr', ' Owen Harris']"
   ]
  },
  {
   "cell_type": "code",
   "execution_count": 408,
   "id": "91af7e19",
   "metadata": {
    "scrolled": false
   },
   "outputs": [
    {
     "data": {
      "text/plain": [
       "' Mr'"
      ]
     },
     "execution_count": 408,
     "metadata": {},
     "output_type": "execute_result"
    }
   ],
   "source": [
    "# 호칭만을 추출하기 위해 0번 인덱스만 추출\n",
    "train['Name'][1].split(\",\")[1].split(\".\")[0] # ' Mr'"
   ]
  },
  {
   "cell_type": "code",
   "execution_count": 409,
   "id": "eace18a4",
   "metadata": {},
   "outputs": [
    {
     "data": {
      "text/plain": [
       "'Mr'"
      ]
     },
     "execution_count": 409,
     "metadata": {},
     "output_type": "execute_result"
    }
   ],
   "source": [
    "# 문자열에서 공백 제거 : strip()\n",
    "train['Name'][1].split(\",\")[1].split(\".\")[0].strip() # 'Mr'"
   ]
  },
  {
   "cell_type": "code",
   "execution_count": 410,
   "id": "e7ad651e",
   "metadata": {},
   "outputs": [],
   "source": [
    "# 위 작업을 함수화\n",
    "def split_name (data):\n",
    "    return data.split(\",\")[1].split(\".\")[0].strip() \n",
    "    "
   ]
  },
  {
   "cell_type": "code",
   "execution_count": 411,
   "id": "f061d506",
   "metadata": {},
   "outputs": [],
   "source": [
    "# Title 새로운 컬럼을 생성 (호칭만을 추출하여 대입)\n",
    "\n",
    "#자영풀이\n",
    "\n",
    "# title = []\n",
    "# for i in range(1,892):\n",
    "#     title.append(split_name(train['Name'][i]))\n",
    "\n",
    "# train['Title2'] = title\n",
    "# train['Title2']"
   ]
  },
  {
   "cell_type": "code",
   "execution_count": 412,
   "id": "3a0ebfee",
   "metadata": {},
   "outputs": [],
   "source": [
    "# Title 새로운 컬럼을 생성 (호칭만을 추출하여 대입)\n",
    "# 쌤풀이\n",
    "train['Title']=train['Name'].apply(split_name)\n",
    "test['Title']=test['Name'].apply(split_name)\n",
    "# 자: 시리즈는  1차원이라서 축설정 필요없음"
   ]
  },
  {
   "cell_type": "code",
   "execution_count": 413,
   "id": "cfeb738b",
   "metadata": {
    "scrolled": true
   },
   "outputs": [
    {
     "data": {
      "text/plain": [
       "array(['Mr', 'Mrs', 'Miss', 'Master', 'Don', 'Rev', 'Dr', 'Mme', 'Ms',\n",
       "       'Major', 'Lady', 'Sir', 'Mlle', 'Col', 'Capt', 'the Countess',\n",
       "       'Jonkheer'], dtype=object)"
      ]
     },
     "execution_count": 413,
     "metadata": {},
     "output_type": "execute_result"
    }
   ],
   "source": [
    "train['Title'].unique()\n",
    "\n",
    "# array(['Mr', 'Mrs', 'Miss', 'Master', 'Don', 'Rev', 'Dr', 'Mme', 'Ms',\n",
    "#        'Major', 'Lady', 'Sir', 'Mlle', 'Col', 'Capt', 'the Countess',\n",
    "#        'Jonkheer'], dtype=object)"
   ]
  },
  {
   "cell_type": "code",
   "execution_count": 414,
   "id": "238facb6",
   "metadata": {},
   "outputs": [
    {
     "data": {
      "text/plain": [
       "17"
      ]
     },
     "execution_count": 414,
     "metadata": {},
     "output_type": "execute_result"
    }
   ],
   "source": [
    "len(train['Title'].unique()) # 17"
   ]
  },
  {
   "cell_type": "code",
   "execution_count": 415,
   "id": "645876fd",
   "metadata": {
    "scrolled": true
   },
   "outputs": [
    {
     "data": {
      "text/plain": [
       "array(['Mr', 'Mrs', 'Miss', 'Master', 'Ms', 'Col', 'Rev', 'Dr', 'Dona'],\n",
       "      dtype=object)"
      ]
     },
     "execution_count": 415,
     "metadata": {},
     "output_type": "execute_result"
    }
   ],
   "source": [
    "test['Title'].unique()\n",
    "\n",
    "# array(['Mr', 'Mrs', 'Miss', 'Master', 'Ms', 'Col', 'Rev', 'Dr', 'Dona'],\n",
    "#       dtype=object)"
   ]
  },
  {
   "cell_type": "code",
   "execution_count": 416,
   "id": "46b9d6c4",
   "metadata": {
    "scrolled": true
   },
   "outputs": [
    {
     "data": {
      "text/plain": [
       "(0.0, 10.0)"
      ]
     },
     "execution_count": 416,
     "metadata": {},
     "output_type": "execute_result"
    },
    {
     "data": {
      "image/png": "[encoded data removed]",
      "text/plain": [
       "<Figure size 640x480 with 1 Axes>"
      ]
     },
     "metadata": {},
     "output_type": "display_data"
    }
   ],
   "source": [
    "# Title 시각화\n",
    "\n",
    "sns.countplot(data = train,\n",
    "             x= 'Title',\n",
    "             hue= 'Survived')\n",
    "\n",
    "plt.ylim(0,10) # 차트 출력의 범위 제한\n",
    "\n",
    "# 개수가 적은 특징들을 others 라는 그룹으로 묶어주기\n",
    "# Rev(목사님)->특정패턴을 모임 전원 사망\n",
    "    ## 자: 목사님은 제외하고 others 로 묶자!"
   ]
  },
  {
   "cell_type": "code",
   "execution_count": 417,
   "id": "eff003fe",
   "metadata": {
    "scrolled": true
   },
   "outputs": [
    {
     "data": {
      "text/plain": [
       "['Mr',\n",
       " 'Mrs',\n",
       " 'Miss',\n",
       " 'Master',\n",
       " 'Rev',\n",
       " 'Others',\n",
       " 'Others',\n",
       " 'Others',\n",
       " 'Others',\n",
       " 'Others',\n",
       " 'Others',\n",
       " 'Others',\n",
       " 'Others',\n",
       " 'Others',\n",
       " 'Others',\n",
       " 'Others',\n",
       " 'Others']"
      ]
     },
     "execution_count": 417,
     "metadata": {},
     "output_type": "execute_result"
    }
   ],
   "source": [
    "# map 함수 사용을 위해서 각 호칭에 대응하는 딕셔너리를 생성\n",
    "title = ['Mr', 'Mrs', 'Miss', 'Master', 'Rev', 'Don', 'Dr', 'Mme', 'Ms',\n",
    "       'Major', 'Lady', 'Sir', 'Mlle', 'Col', 'Capt', 'the Countess',\n",
    "       'Jonkheer']\n",
    "convert_title = ['Mr', 'Mrs', 'Miss', 'Master', 'Rev'] + ['Others'] * 12\n",
    "\n",
    "convert_title\n",
    "\n",
    "#['Mr',\n",
    "#  'Mrs',\n",
    "#  'Miss',\n",
    "#  'Master',\n",
    "#  'Rev',\n",
    "#  'Others',\n",
    "#  'Others',\n",
    "#  'Others',\n",
    "#  'Others',\n",
    "#  'Others',\n",
    "#  'Others',\n",
    "#  'Others',\n",
    "#  'Others',\n",
    "#  'Others',\n",
    "#  'Others',\n",
    "#  'Others',\n",
    "#  'Others']"
   ]
  },
  {
   "cell_type": "code",
   "execution_count": 418,
   "id": "bee74d83",
   "metadata": {},
   "outputs": [],
   "source": [
    "# zip() 함수를 사용해서 2개의 리스트형태 데이터를 연결하여 딕셔너리로 생성\n",
    "# zip(): 지퍼처럼 두 개의 그룹 데이터를 서로 엮어주는 함수\n",
    "title_dic = dict(zip(title, convert_title))\n",
    "# {'Mr': 'Mr',\n",
    "#  'Mrs': 'Mrs',\n",
    "#  'Miss': 'Miss',\n",
    "#  'Master': 'Master',\n",
    "#  'Rev': 'Rev',\n",
    "#  'Don': 'Others',\n",
    "#  'Dr': 'Others',\n",
    "#  'Mme': 'Others',\n",
    "#  'Ms': 'Others',\n",
    "#  'Major': 'Others',\n",
    "#  'Lady': 'Others',\n",
    "#  'Sir': 'Others',\n",
    "#  'Mlle': 'Others',\n",
    "#  'Col': 'Others',\n",
    "#  'Capt': 'Others',\n",
    "#  'the Countess': 'Others',\n",
    "#  'Jonkheer': 'Others'}"
   ]
  },
  {
   "cell_type": "code",
   "execution_count": 419,
   "id": "1070df3a",
   "metadata": {},
   "outputs": [],
   "source": [
    "# map() 함수를 사용하여 key 값에 대응하는 vlaue 값으로 변경\n",
    "train['Title']=train['Title'].map(title_dic)\n",
    "# PassengerId\n",
    "# 1        Mr\n",
    "# 2       Mrs\n",
    "# 3      Miss\n",
    "# 4       Mrs\n",
    "# 5        Mr\n",
    "#        ... \n",
    "# 887     Rev\n",
    "# 888    Miss\n",
    "# 889    Miss\n",
    "# 890      Mr\n",
    "# 891      Mr\n",
    "# Name: Title, Length: 891, dtype: object\n"
   ]
  },
  {
   "cell_type": "code",
   "execution_count": 420,
   "id": "e63cbc1c",
   "metadata": {
    "scrolled": true
   },
   "outputs": [
    {
     "data": {
      "text/plain": [
       "array(['Mr', 'Mrs', 'Miss', 'Master', 'Others', 'Rev'], dtype=object)"
      ]
     },
     "execution_count": 420,
     "metadata": {},
     "output_type": "execute_result"
    }
   ],
   "source": [
    "# 잘바뀌었는지 확인\n",
    "train['Title'].unique()\n",
    "#array(['Mr', 'Mrs', 'Miss', 'Master', nan, 'Rev'], dtype=object)"
   ]
  },
  {
   "cell_type": "code",
   "execution_count": 421,
   "id": "0ccbb89b",
   "metadata": {
    "scrolled": true
   },
   "outputs": [],
   "source": [
    "# test 변경\n",
    "# 자영 풀이 (왜 Nan이 나올까?)\n",
    "# len(test['Title'].unique()) #9\n",
    "title2 = ['Mr', 'Mrs', 'Miss', 'Master', 'Ms', 'Rev', 'Col',  'Dr', 'Dona']\n",
    "convert_title2 = ['Mr', 'Mrs', 'Miss', 'Master', 'Rev'] + ['Others'] * 4\n",
    "# len(convert_title2)\n",
    "\n",
    "title_dic2 = dict(zip(title2, convert_title2))\n",
    "\n",
    "# test['Title'] = test['Title'].map(title_dic2)\n",
    "# test['Title']\n",
    "\n",
    "\n",
    "# PassengerId\n",
    "# 892         Mr\n",
    "# 893        Mrs\n",
    "# 894         Mr\n",
    "# 895         Mr\n",
    "# 896        Mrs\n",
    "#          ...  \n",
    "# 1305        Mr\n",
    "# 1306       NaN\n",
    "# 1307        Mr\n",
    "# 1308        Mr\n",
    "# 1309    Master\n",
    "# Name: Title, Length: 418, dtype: object"
   ]
  },
  {
   "cell_type": "code",
   "execution_count": 422,
   "id": "a45d0682",
   "metadata": {},
   "outputs": [],
   "source": [
    "# 쌤풀이\n",
    "test['Title'] = test['Title'].map(title_dic)"
   ]
  },
  {
   "cell_type": "code",
   "execution_count": 423,
   "id": "eaacddfa",
   "metadata": {},
   "outputs": [
    {
     "data": {
      "text/plain": [
       "array(['Mr', 'Mrs', 'Miss', 'Master', 'Others', 'Rev', nan], dtype=object)"
      ]
     },
     "execution_count": 423,
     "metadata": {},
     "output_type": "execute_result"
    }
   ],
   "source": [
    "#확인\n",
    "test['Title'].unique()\n",
    "# train에는 없지만 test에는 존재하는 호칭이 있구나!\n",
    "# 어떤 호칭일까?\n",
    "\n",
    "# array(['Mr', 'Mrs', 'Miss', 'Master', nan], dtype=object)\n"
   ]
  },
  {
   "cell_type": "code",
   "execution_count": 424,
   "id": "c394a877",
   "metadata": {},
   "outputs": [
    {
     "data": {
      "text/plain": [
       "['Mr',\n",
       " 'Mrs',\n",
       " 'Miss',\n",
       " 'Master',\n",
       " 'Rev',\n",
       " 'Don',\n",
       " 'Dr',\n",
       " 'Mme',\n",
       " 'Ms',\n",
       " 'Major',\n",
       " 'Lady',\n",
       " 'Sir',\n",
       " 'Mlle',\n",
       " 'Col',\n",
       " 'Capt',\n",
       " 'the Countess',\n",
       " 'Jonkheer']"
      ]
     },
     "execution_count": 424,
     "metadata": {},
     "output_type": "execute_result"
    }
   ],
   "source": [
    "title_train = title\n",
    "title_test = ['Mr', 'Mrs', 'Miss', 'Master', 'Ms', 'Col', 'Rev', 'Dr', 'Dona']\n",
    "title_train\n",
    "\n",
    "#['Mr',\n",
    "#  'Mrs',\n",
    "#  'Miss',\n",
    "#  'Master',\n",
    "#  'Rev',\n",
    "#  'Don',\n",
    "#  'Dr',\n",
    "#  'Mme',\n",
    "#  'Ms',\n",
    "#  'Major',\n",
    "#  'Lady',\n",
    "#  'Sir',\n",
    "#  'Mlle',\n",
    "#  'Col',\n",
    "#  'Capt',\n",
    "#  'the Countess',\n",
    "#  'Jonkheer']"
   ]
  },
  {
   "cell_type": "code",
   "execution_count": 425,
   "id": "72435b18",
   "metadata": {},
   "outputs": [
    {
     "data": {
      "text/plain": [
       "{'Dona'}"
      ]
     },
     "execution_count": 425,
     "metadata": {},
     "output_type": "execute_result"
    }
   ],
   "source": [
    "# test에는 있지만 train에는 없는 호칭을 찾기\n",
    "\n",
    "#set(title_test)\n",
    "#{'Col', 'Dona', 'Dr', 'Master', 'Miss', 'Mr', 'Mrs', 'Ms', 'Rev'}\n",
    "\n",
    "set(title_test) - set(title_train) #{'Dona'}\n",
    "# Dona\n"
   ]
  },
  {
   "cell_type": "code",
   "execution_count": 426,
   "id": "b3eafeb4",
   "metadata": {},
   "outputs": [
    {
     "data": {
      "text/plain": [
       "{'Capt',\n",
       " 'Don',\n",
       " 'Jonkheer',\n",
       " 'Lady',\n",
       " 'Major',\n",
       " 'Mlle',\n",
       " 'Mme',\n",
       " 'Sir',\n",
       " 'the Countess'}"
      ]
     },
     "execution_count": 426,
     "metadata": {},
     "output_type": "execute_result"
    }
   ],
   "source": [
    "# train에는 있지만 test 에는 없는 호칭\n",
    "set(title_train) - set(title_test)\n",
    "\n",
    "# {'Capt',\n",
    "#  'Don',\n",
    "#  'Jonkheer',\n",
    "#  'Lady',\n",
    "#  'Major',\n",
    "#  'Mlle',\n",
    "#  'Mme',\n",
    "#  'Sir',\n",
    "#  'the Countess'}"
   ]
  },
  {
   "cell_type": "code",
   "execution_count": 427,
   "id": "f1e63491",
   "metadata": {},
   "outputs": [
    {
     "data": {
      "text/plain": [
       "{'Mr': 'Mr',\n",
       " 'Mrs': 'Mrs',\n",
       " 'Miss': 'Miss',\n",
       " 'Master': 'Master',\n",
       " 'Rev': 'Rev',\n",
       " 'Don': 'Others',\n",
       " 'Dr': 'Others',\n",
       " 'Mme': 'Others',\n",
       " 'Ms': 'Others',\n",
       " 'Major': 'Others',\n",
       " 'Lady': 'Others',\n",
       " 'Sir': 'Others',\n",
       " 'Mlle': 'Others',\n",
       " 'Col': 'Others',\n",
       " 'Capt': 'Others',\n",
       " 'the Countess': 'Others',\n",
       " 'Jonkheer': 'Others',\n",
       " 'Dona': 'Others'}"
      ]
     },
     "execution_count": 427,
     "metadata": {},
     "output_type": "execute_result"
    }
   ],
   "source": [
    "# 딕셔너리에 Dona 라는 값 Ohter 연결\n",
    "title_dic['Dona'] = 'Others'\n",
    "title_dic\n",
    "\n",
    "# {'Mr': 'Mr',\n",
    "#  'Mrs': 'Mrs',\n",
    "#  'Miss': 'Miss',\n",
    "#  'Master': 'Master',\n",
    "#  'Rev': 'Rev',\n",
    "#  'Don': 'Others',\n",
    "#  'Dr': 'Others',\n",
    "#  'Mme': 'Others',\n",
    "#  'Ms': 'Others',\n",
    "#  'Major': 'Others',\n",
    "#  'Lady': 'Others',\n",
    "#  'Sir': 'Others',\n",
    "#  'Mlle': 'Others',\n",
    "#  'Col': 'Others',\n",
    "#  'Capt': 'Others',\n",
    "#  'the Countess': 'Others',\n",
    "#  'Jonkheer': 'Others',\n",
    "#  'Dona': 'Others'}"
   ]
  },
  {
   "cell_type": "code",
   "execution_count": 428,
   "id": "041d56af",
   "metadata": {},
   "outputs": [
    {
     "data": {
      "text/plain": [
       "PassengerId\n",
       "892         Mr\n",
       "893        Mrs\n",
       "894         Mr\n",
       "895         Mr\n",
       "896        Mrs\n",
       "         ...  \n",
       "1305        Mr\n",
       "1306       NaN\n",
       "1307        Mr\n",
       "1308        Mr\n",
       "1309    Master\n",
       "Name: Title, Length: 418, dtype: object"
      ]
     },
     "execution_count": 428,
     "metadata": {},
     "output_type": "execute_result"
    }
   ],
   "source": [
    "test['Title'].map(title_dic)\n",
    "\n",
    "# PassengerId\n",
    "# 892         Mr\n",
    "# 893        Mrs\n",
    "# 894         Mr\n",
    "# 895         Mr\n",
    "# 896        Mrs\n",
    "#          ...  \n",
    "# 1305        Mr\n",
    "# 1306       NaN\n",
    "# 1307        Mr\n",
    "# 1308        Mr\n",
    "# 1309    Master\n",
    "# Name: Title, Length: 418, dtype: object"
   ]
  },
  {
   "cell_type": "code",
   "execution_count": 429,
   "id": "beba1054",
   "metadata": {},
   "outputs": [],
   "source": [
    "test['Title'] = test['Title'].fillna(\"Others\")"
   ]
  },
  {
   "cell_type": "code",
   "execution_count": 430,
   "id": "8449de33",
   "metadata": {},
   "outputs": [
    {
     "data": {
      "text/plain": [
       "array(['Mr', 'Mrs', 'Miss', 'Master', 'Others', 'Rev'], dtype=object)"
      ]
     },
     "execution_count": 430,
     "metadata": {},
     "output_type": "execute_result"
    }
   ],
   "source": [
    "test['Title'].unique()\n",
    "#array(['Mr', 'Mrs', 'Miss', 'Master', 'Others'], dtype=object)\n"
   ]
  },
  {
   "cell_type": "code",
   "execution_count": 431,
   "id": "54f7c0a9",
   "metadata": {
    "scrolled": true
   },
   "outputs": [
    {
     "data": {
      "text/plain": [
       "<Axes: xlabel='Title', ylabel='count'>"
      ]
     },
     "execution_count": 431,
     "metadata": {},
     "output_type": "execute_result"
    },
    {
     "data": {
      "image/png": "[encoded data removed]",
      "text/plain": [
       "<Figure size 640x480 with 1 Axes>"
      ]
     },
     "metadata": {},
     "output_type": "display_data"
    }
   ],
   "source": [
    "sns.countplot(data = train,\n",
    "             x= 'Title',\n",
    "             hue = 'Survived')"
   ]
  },
  {
   "cell_type": "code",
   "execution_count": 432,
   "id": "1a51a6bf",
   "metadata": {},
   "outputs": [
    {
     "data": {
      "text/plain": [
       "array(['A/5 21171', 'PC 17599', 'STON/O2. 3101282', '113803', '373450',\n",
       "       '330877', '17463', '349909', '347742', '237736', 'PP 9549',\n",
       "       '113783', 'A/5. 2151', '347082', '350406', '248706', '382652',\n",
       "       '244373', '345763', '2649', '239865', '248698', '330923', '113788',\n",
       "       '347077', '2631', '19950', '330959', '349216', 'PC 17601',\n",
       "       'PC 17569', '335677', 'C.A. 24579', 'PC 17604', '113789', '2677',\n",
       "       'A./5. 2152', '345764', '2651', '7546', '11668', '349253',\n",
       "       'SC/Paris 2123', '330958', 'S.C./A.4. 23567', '370371', '14311',\n",
       "       '2662', '349237', '3101295', 'A/4. 39886', 'PC 17572', '2926',\n",
       "       '113509', '19947', 'C.A. 31026', '2697', 'C.A. 34651', 'CA 2144',\n",
       "       '2669', '113572', '36973', '347088', 'PC 17605', '2661',\n",
       "       'C.A. 29395', 'S.P. 3464', '3101281', '315151', 'C.A. 33111',\n",
       "       'S.O.C. 14879', '2680', '1601', '348123', '349208', '374746',\n",
       "       '248738', '364516', '345767', '345779', '330932', '113059',\n",
       "       'SO/C 14885', '3101278', 'W./C. 6608', 'SOTON/OQ 392086', '343275',\n",
       "       '343276', '347466', 'W.E.P. 5734', 'C.A. 2315', '364500', '374910',\n",
       "       'PC 17754', 'PC 17759', '231919', '244367', '349245', '349215',\n",
       "       '35281', '7540', '3101276', '349207', '343120', '312991', '349249',\n",
       "       '371110', '110465', '2665', '324669', '4136', '2627',\n",
       "       'STON/O 2. 3101294', '370369', 'PC 17558', 'A4. 54510', '27267',\n",
       "       '370372', 'C 17369', '2668', '347061', '349241',\n",
       "       'SOTON/O.Q. 3101307', 'A/5. 3337', '228414', 'C.A. 29178',\n",
       "       'SC/PARIS 2133', '11752', '7534', 'PC 17593', '2678', '347081',\n",
       "       'STON/O2. 3101279', '365222', '231945', 'C.A. 33112', '350043',\n",
       "       '230080', '244310', 'S.O.P. 1166', '113776', 'A.5. 11206',\n",
       "       'A/5. 851', 'Fa 265302', 'PC 17597', '35851', 'SOTON/OQ 392090',\n",
       "       '315037', 'CA. 2343', '371362', 'C.A. 33595', '347068', '315093',\n",
       "       '363291', '113505', 'PC 17318', '111240', 'STON/O 2. 3101280',\n",
       "       '17764', '350404', '4133', 'PC 17595', '250653', 'LINE',\n",
       "       'SC/PARIS 2131', '230136', '315153', '113767', '370365', '111428',\n",
       "       '364849', '349247', '234604', '28424', '350046', 'PC 17610',\n",
       "       '368703', '4579', '370370', '248747', '345770', '3101264', '2628',\n",
       "       'A/5 3540', '347054', '2699', '367231', '112277',\n",
       "       'SOTON/O.Q. 3101311', 'F.C.C. 13528', 'A/5 21174', '250646',\n",
       "       '367229', '35273', 'STON/O2. 3101283', '243847', '11813',\n",
       "       'W/C 14208', 'SOTON/OQ 392089', '220367', '21440', '349234',\n",
       "       '19943', 'PP 4348', 'SW/PP 751', 'A/5 21173', '236171', '347067',\n",
       "       '237442', 'C.A. 29566', 'W./C. 6609', '26707', 'C.A. 31921',\n",
       "       '28665', 'SCO/W 1585', '367230', 'W./C. 14263',\n",
       "       'STON/O 2. 3101275', '2694', '19928', '347071', '250649', '11751',\n",
       "       '244252', '362316', '113514', 'A/5. 3336', '370129', '2650',\n",
       "       'PC 17585', '110152', 'PC 17755', '230433', '384461', '110413',\n",
       "       '112059', '382649', 'C.A. 17248', '347083', 'PC 17582', 'PC 17760',\n",
       "       '113798', '250644', 'PC 17596', '370375', '13502', '347073',\n",
       "       '239853', 'C.A. 2673', '336439', '347464', '345778', 'A/5. 10482',\n",
       "       '113056', '349239', '345774', '349206', '237798', '370373',\n",
       "       '19877', '11967', 'SC/Paris 2163', '349236', '349233', 'PC 17612',\n",
       "       '2693', '113781', '19988', '9234', '367226', '226593', 'A/5 2466',\n",
       "       '17421', 'PC 17758', 'P/PP 3381', 'PC 17485', '11767', 'PC 17608',\n",
       "       '250651', '349243', 'F.C.C. 13529', '347470', '29011', '36928',\n",
       "       '16966', 'A/5 21172', '349219', '234818', '345364', '28551',\n",
       "       '111361', '113043', 'PC 17611', '349225', '7598', '113784',\n",
       "       '248740', '244361', '229236', '248733', '31418', '386525',\n",
       "       'C.A. 37671', '315088', '7267', '113510', '2695', '2647', '345783',\n",
       "       '237671', '330931', '330980', 'SC/PARIS 2167', '2691',\n",
       "       'SOTON/O.Q. 3101310', 'C 7076', '110813', '2626', '14313',\n",
       "       'PC 17477', '11765', '3101267', '323951', 'C 7077', '113503',\n",
       "       '2648', '347069', 'PC 17757', '2653', 'STON/O 2. 3101293',\n",
       "       '349227', '27849', '367655', 'SC 1748', '113760', '350034',\n",
       "       '3101277', '350052', '350407', '28403', '244278', '240929',\n",
       "       'STON/O 2. 3101289', '341826', '4137', '315096', '28664', '347064',\n",
       "       '29106', '312992', '349222', '394140', 'STON/O 2. 3101269',\n",
       "       '343095', '28220', '250652', '28228', '345773', '349254',\n",
       "       'A/5. 13032', '315082', '347080', 'A/4. 34244', '2003', '250655',\n",
       "       '364851', 'SOTON/O.Q. 392078', '110564', '376564', 'SC/AH 3085',\n",
       "       'STON/O 2. 3101274', '13507', 'C.A. 18723', '345769', '347076',\n",
       "       '230434', '65306', '33638', '113794', '2666', '113786', '65303',\n",
       "       '113051', '17453', 'A/5 2817', '349240', '13509', '17464',\n",
       "       'F.C.C. 13531', '371060', '19952', '364506', '111320', '234360',\n",
       "       'A/S 2816', 'SOTON/O.Q. 3101306', '113792', '36209', '323592',\n",
       "       '315089', 'SC/AH Basle 541', '7553', '31027', '3460', '350060',\n",
       "       '3101298', '239854', 'A/5 3594', '4134', '11771', 'A.5. 18509',\n",
       "       '65304', 'SOTON/OQ 3101317', '113787', 'PC 17609', 'A/4 45380',\n",
       "       '36947', 'C.A. 6212', '350035', '315086', '364846', '330909',\n",
       "       '4135', '26360', '111427', 'C 4001', '382651', 'SOTON/OQ 3101316',\n",
       "       'PC 17473', 'PC 17603', '349209', '36967', 'C.A. 34260', '226875',\n",
       "       '349242', '12749', '349252', '2624', '2700', '367232',\n",
       "       'W./C. 14258', 'PC 17483', '3101296', '29104', '2641', '2690',\n",
       "       '315084', '113050', 'PC 17761', '364498', '13568', 'WE/P 5735',\n",
       "       '2908', '693', 'SC/PARIS 2146', '244358', '330979', '2620',\n",
       "       '347085', '113807', '11755', '345572', '372622', '349251',\n",
       "       '218629', 'SOTON/OQ 392082', 'SOTON/O.Q. 392087', 'A/4 48871',\n",
       "       '349205', '2686', '350417', 'S.W./PP 752', '11769', 'PC 17474',\n",
       "       '14312', 'A/4. 20589', '358585', '243880', '2689',\n",
       "       'STON/O 2. 3101286', '237789', '13049', '3411', '237565', '13567',\n",
       "       '14973', 'A./5. 3235', 'STON/O 2. 3101273', 'A/5 3902', '364848',\n",
       "       'SC/AH 29037', '248727', '2664', '349214', '113796', '364511',\n",
       "       '111426', '349910', '349246', '113804', 'SOTON/O.Q. 3101305',\n",
       "       '370377', '364512', '220845', '31028', '2659', '11753', '350029',\n",
       "       '54636', '36963', '219533', '349224', '334912', '27042', '347743',\n",
       "       '13214', '112052', '237668', 'STON/O 2. 3101292', '350050',\n",
       "       '349231', '13213', 'S.O./P.P. 751', 'CA. 2314', '349221', '8475',\n",
       "       '330919', '365226', '349223', '29751', '2623', '5727', '349210',\n",
       "       'STON/O 2. 3101285', '234686', '312993', 'A/5 3536', '19996',\n",
       "       '29750', 'F.C. 12750', 'C.A. 24580', '244270', '239856', '349912',\n",
       "       '342826', '4138', '330935', '6563', '349228', '350036', '24160',\n",
       "       '17474', '349256', '2672', '113800', '248731', '363592', '35852',\n",
       "       '348121', 'PC 17475', '36864', '350025', '223596', 'PC 17476',\n",
       "       'PC 17482', '113028', '7545', '250647', '348124', '34218', '36568',\n",
       "       '347062', '350048', '12233', '250643', '113806', '315094', '36866',\n",
       "       '236853', 'STON/O2. 3101271', '239855', '28425', '233639',\n",
       "       '349201', '349218', '16988', '376566', 'STON/O 2. 3101288',\n",
       "       '250648', '113773', '335097', '29103', '392096', '345780',\n",
       "       '349204', '350042', '29108', '363294', 'SOTON/O2 3101272', '2663',\n",
       "       '347074', '112379', '364850', '8471', '345781', '350047',\n",
       "       'S.O./P.P. 3', '2674', '29105', '347078', '383121', '36865',\n",
       "       '2687', '113501', 'W./C. 6607', 'SOTON/O.Q. 3101312', '374887',\n",
       "       '3101265', '12460', 'PC 17600', '349203', '28213', '17465',\n",
       "       '349244', '2685', '2625', '347089', '347063', '112050', '347087',\n",
       "       '248723', '3474', '28206', '364499', '112058', 'STON/O2. 3101290',\n",
       "       'S.C./PARIS 2079', 'C 7075', '315098', '19972', '368323', '367228',\n",
       "       '2671', '347468', '2223', 'PC 17756', '315097', '392092', '11774',\n",
       "       'SOTON/O2 3101287', '2683', '315090', 'C.A. 5547', '349213',\n",
       "       '347060', 'PC 17592', '392091', '113055', '2629', '350026',\n",
       "       '28134', '17466', '233866', '236852', 'SC/PARIS 2149', 'PC 17590',\n",
       "       '345777', '349248', '695', '345765', '2667', '349212', '349217',\n",
       "       '349257', '7552', 'C.A./SOTON 34068', 'SOTON/OQ 392076', '211536',\n",
       "       '112053', '111369', '370376'], dtype=object)"
      ]
     },
     "execution_count": 432,
     "metadata": {},
     "output_type": "execute_result"
    }
   ],
   "source": [
    "# Ticket 컬럼 확인\n",
    "train['Ticket'].unique()\n",
    "# 티켓번호 -> 규칙찾기 실패 -> 컬럼 제거"
   ]
  },
  {
   "cell_type": "markdown",
   "id": "8a2d1c79",
   "metadata": {},
   "source": [
    "##### 필요없는 컬럼 삭제\n",
    "- Name, SibSp, Parch, Ticket"
   ]
  },
  {
   "cell_type": "code",
   "execution_count": 433,
   "id": "e0c103de",
   "metadata": {
    "scrolled": true
   },
   "outputs": [],
   "source": [
    "train.drop(['Name', 'SibSp', 'Parch', 'Ticket'], axis = 1, inplace=True)\n",
    "test.drop(['Name', 'SibSp', 'Parch', 'Ticket'], axis = 1, inplace=True)"
   ]
  },
  {
   "cell_type": "code",
   "execution_count": 434,
   "id": "e5ddaf74",
   "metadata": {},
   "outputs": [
    {
     "name": "stdout",
     "output_type": "stream",
     "text": [
      "(891, 9)\n",
      "(418, 8)\n"
     ]
    }
   ],
   "source": [
    "# 데이터 크기\n",
    "print(train.shape) #(891, 9)\n",
    "print(test.shape) #(418, 8)"
   ]
  },
  {
   "cell_type": "markdown",
   "id": "b9a7dca3",
   "metadata": {},
   "source": [
    "### 모델링\n",
    "- 데이터 분리\n",
    "- 모델 선택\n",
    "- 모델 학습\n",
    "- 모델 예측\n",
    "- 모델 평가"
   ]
  },
  {
   "cell_type": "markdown",
   "id": "f7b81f19",
   "metadata": {},
   "source": [
    "- 데이터 분리\n",
    "    - train -> 문제, 정답\n",
    "        - 문제(X_train): 특성 8개\n",
    "        - 정답(y_train) :Survived 컬럼\n",
    "    - test -> 문제\n",
    "        - X_test"
   ]
  },
  {
   "cell_type": "code",
   "execution_count": 435,
   "id": "40553eaa",
   "metadata": {},
   "outputs": [],
   "source": [
    "# 분리\n",
    "X_train = train.drop('Survived', axis=1)\n",
    "y_train = train['Survived']\n",
    "X_test = test"
   ]
  },
  {
   "cell_type": "code",
   "execution_count": 436,
   "id": "3e529de0",
   "metadata": {},
   "outputs": [
    {
     "name": "stdout",
     "output_type": "stream",
     "text": [
      "(891, 8) (891,)\n",
      "(418, 8)\n"
     ]
    }
   ],
   "source": [
    "# 크기 확인\n",
    "print(X_train.shape, y_train.shape) # (891, 8) (891,)\n",
    "print(X_test.shape) #(418, 8)"
   ]
  },
  {
   "cell_type": "code",
   "execution_count": 437,
   "id": "e44b6060",
   "metadata": {},
   "outputs": [],
   "source": [
    "# 원핫인코딩! #자: 문자열->수치화 #문자열 개수만큼 컬럼 수 늘려줌\n",
    "# (train, test)\n",
    "onehot_X_train = pd.get_dummies(X_train)\n",
    "onehot_X_test = pd.get_dummies(X_test)"
   ]
  },
  {
   "cell_type": "code",
   "execution_count": 438,
   "id": "57ad0ebe",
   "metadata": {},
   "outputs": [
    {
     "name": "stdout",
     "output_type": "stream",
     "text": [
      "(891, 26)\n",
      "(418, 25)\n"
     ]
    }
   ],
   "source": [
    "# 크기확인\n",
    "print(onehot_X_train.shape) # (891, 26)\n",
    "print(onehot_X_test.shape) #(418, 25)"
   ]
  },
  {
   "cell_type": "code",
   "execution_count": 439,
   "id": "6d97cd1b",
   "metadata": {},
   "outputs": [
    {
     "data": {
      "text/plain": [
       "{'Age',\n",
       " 'Deck_A',\n",
       " 'Deck_B',\n",
       " 'Deck_C',\n",
       " 'Deck_D',\n",
       " 'Deck_E',\n",
       " 'Deck_F',\n",
       " 'Deck_G',\n",
       " 'Deck_M',\n",
       " 'Embarked_C',\n",
       " 'Embarked_Q',\n",
       " 'Embarked_S',\n",
       " 'Family_size_Alone',\n",
       " 'Family_size_Large',\n",
       " 'Family_size_Small',\n",
       " 'Fare',\n",
       " 'Pclass',\n",
       " 'Sex_female',\n",
       " 'Sex_male',\n",
       " 'Title_Master',\n",
       " 'Title_Miss',\n",
       " 'Title_Mr',\n",
       " 'Title_Mrs',\n",
       " 'Title_Others',\n",
       " 'Title_Rev'}"
      ]
     },
     "execution_count": 439,
     "metadata": {},
     "output_type": "execute_result"
    }
   ],
   "source": [
    "#자영\n",
    "set(onehot_X_train)\n",
    "set(onehot_X_test)"
   ]
  },
  {
   "cell_type": "code",
   "execution_count": 440,
   "id": "327fe5bb",
   "metadata": {},
   "outputs": [
    {
     "data": {
      "text/plain": [
       "{'Deck_T'}"
      ]
     },
     "execution_count": 440,
     "metadata": {},
     "output_type": "execute_result"
    }
   ],
   "source": [
    "# set() 함수를 활용하여 다른 컬럼을 확인\n",
    "set(onehot_X_train.columns) - set(onehot_X_test.columns) #{'Deck_T'}\n",
    "# Deck_T 컬럼이 train 에만 존재하는 것을 확인\n",
    "# train['Deck'] 컬럼에만 T 라는 알파벳이 있었기 때문"
   ]
  },
  {
   "cell_type": "code",
   "execution_count": 441,
   "id": "0b4a63a0",
   "metadata": {},
   "outputs": [
    {
     "name": "stdout",
     "output_type": "stream",
     "text": [
      "<class 'pandas.core.frame.DataFrame'>\n",
      "Index: 891 entries, 1 to 891\n",
      "Data columns (total 9 columns):\n",
      " #   Column       Non-Null Count  Dtype   \n",
      "---  ------       --------------  -----   \n",
      " 0   Survived     891 non-null    int64   \n",
      " 1   Pclass       891 non-null    int64   \n",
      " 2   Sex          891 non-null    object  \n",
      " 3   Age          891 non-null    int64   \n",
      " 4   Fare         891 non-null    float64 \n",
      " 5   Embarked     891 non-null    object  \n",
      " 6   Deck         891 non-null    object  \n",
      " 7   Family_size  891 non-null    category\n",
      " 8   Title        891 non-null    object  \n",
      "dtypes: category(1), float64(1), int64(3), object(4)\n",
      "memory usage: 95.9+ KB\n"
     ]
    }
   ],
   "source": [
    "train.info()"
   ]
  },
  {
   "cell_type": "code",
   "execution_count": 442,
   "id": "863e1608",
   "metadata": {},
   "outputs": [],
   "source": [
    "# 240418 목"
   ]
  },
  {
   "cell_type": "code",
   "execution_count": 444,
   "id": "3fe94011",
   "metadata": {},
   "outputs": [
    {
     "data": {
      "text/plain": [
       "Index(['Pclass', 'Age', 'Fare', 'Sex_female', 'Sex_male', 'Embarked_C',\n",
       "       'Embarked_Q', 'Embarked_S', 'Deck_A', 'Deck_B', 'Deck_C', 'Deck_D',\n",
       "       'Deck_E', 'Deck_F', 'Deck_G', 'Deck_M', 'Deck_T', 'Family_size_Alone',\n",
       "       'Family_size_Small', 'Family_size_Large', 'Title_Master', 'Title_Miss',\n",
       "       'Title_Mr', 'Title_Mrs', 'Title_Others', 'Title_Rev'],\n",
       "      dtype='object')"
      ]
     },
     "execution_count": 444,
     "metadata": {},
     "output_type": "execute_result"
    }
   ],
   "source": [
    "# 기계학습을 위해서 X_train과 X_test의 컬럼수와 순서를 맞춰주어야 한다!\n",
    "onehot_X_train.columns\n",
    "# Index(['Pclass', 'Age', 'Fare', 'Sex_female', 'Sex_male', 'Embarked_C',\n",
    "#        'Embarked_Q', 'Embarked_S', 'Deck_A', 'Deck_B', 'Deck_C', 'Deck_D',\n",
    "#        'Deck_E', 'Deck_F', 'Deck_G', 'Deck_M', 'Deck_T', 'Family_size_Alone',\n",
    "#        'Family_size_Small', 'Family_size_Large', 'Title_Master', 'Title_Miss',\n",
    "#        'Title_Mr', 'Title_Mrs', 'Title_Others', 'Title_Rev'],\n",
    "#       dtype='object')"
   ]
  },
  {
   "cell_type": "code",
   "execution_count": 445,
   "id": "15646d5a",
   "metadata": {},
   "outputs": [
    {
     "data": {
      "text/plain": [
       "Index(['Pclass', 'Age', 'Fare', 'Sex_female', 'Sex_male', 'Embarked_C',\n",
       "       'Embarked_Q', 'Embarked_S', 'Deck_A', 'Deck_B', 'Deck_C', 'Deck_D',\n",
       "       'Deck_E', 'Deck_F', 'Deck_G', 'Deck_M', 'Family_size_Alone',\n",
       "       'Family_size_Small', 'Family_size_Large', 'Title_Master', 'Title_Miss',\n",
       "       'Title_Mr', 'Title_Mrs', 'Title_Others', 'Title_Rev'],\n",
       "      dtype='object')"
      ]
     },
     "execution_count": 445,
     "metadata": {},
     "output_type": "execute_result"
    }
   ],
   "source": [
    "onehot_X_test.columns\n",
    "# Index(['Pclass', 'Age', 'Fare', 'Sex_female', 'Sex_male', 'Embarked_C',\n",
    "#        'Embarked_Q', 'Embarked_S', 'Deck_A', 'Deck_B', 'Deck_C', 'Deck_D',\n",
    "#        'Deck_E', 'Deck_F', 'Deck_G', 'Deck_M', 'Family_size_Alone',\n",
    "#        'Family_size_Small', 'Family_size_Large', 'Title_Master', 'Title_Miss',\n",
    "#        'Title_Mr', 'Title_Mrs', 'Title_Others', 'Title_Rev'],\n",
    "#       dtype='object')"
   ]
  },
  {
   "cell_type": "code",
   "execution_count": 446,
   "id": "16597fe0",
   "metadata": {},
   "outputs": [],
   "source": [
    "# Deck_T 컬럼은 생기지만 실제로 데이터는 없는 경우(원핫인코딩)\n",
    "onehot_X_test['Deck_T'] = 0"
   ]
  },
  {
   "cell_type": "code",
   "execution_count": 447,
   "id": "a9ac2374",
   "metadata": {},
   "outputs": [
    {
     "data": {
      "text/plain": [
       "Index(['Pclass', 'Age', 'Fare', 'Sex_female', 'Sex_male', 'Embarked_C',\n",
       "       'Embarked_Q', 'Embarked_S', 'Deck_A', 'Deck_B', 'Deck_C', 'Deck_D',\n",
       "       'Deck_E', 'Deck_F', 'Deck_G', 'Deck_M', 'Family_size_Alone',\n",
       "       'Family_size_Small', 'Family_size_Large', 'Title_Master', 'Title_Miss',\n",
       "       'Title_Mr', 'Title_Mrs', 'Title_Others', 'Title_Rev', 'Deck_T'],\n",
       "      dtype='object')"
      ]
     },
     "execution_count": 447,
     "metadata": {},
     "output_type": "execute_result"
    }
   ],
   "source": [
    "onehot_X_test.columns\n",
    "# Index(['Pclass', 'Age', 'Fare', 'Sex_female', 'Sex_male', 'Embarked_C',\n",
    "#        'Embarked_Q', 'Embarked_S', 'Deck_A', 'Deck_B', 'Deck_C', 'Deck_D',\n",
    "#        'Deck_E', 'Deck_F', 'Deck_G', 'Deck_M', 'Family_size_Alone',\n",
    "#        'Family_size_Small', 'Family_size_Large', 'Title_Master', 'Title_Miss',\n",
    "#        'Title_Mr', 'Title_Mrs', 'Title_Others', 'Title_Rev', 'Deck_T'],\n",
    "#       dtype='object')"
   ]
  },
  {
   "cell_type": "code",
   "execution_count": 448,
   "id": "2beb1ed7",
   "metadata": {},
   "outputs": [],
   "source": [
    "# onehot_X_train 에 있는 Deck_T 컬럼을 제일 뒤로 보내주기!"
   ]
  },
  {
   "cell_type": "code",
   "execution_count": 449,
   "id": "e81f0d1a",
   "metadata": {},
   "outputs": [],
   "source": [
    "# 1. Deck_T 임시변수에 저장하기~\n",
    "tmp = onehot_X_train['Deck_T']\n",
    "# PassengerId\n",
    "# 1      False\n",
    "# 2      False\n",
    "# 3      False\n",
    "# 4      False\n",
    "# 5      False\n",
    "#        ...  \n",
    "# 887    False\n",
    "# 888    False\n",
    "# 889    False\n",
    "# 890    False\n",
    "# 891    False\n",
    "# Name: Deck_T, Length: 891, dtype: bool"
   ]
  },
  {
   "cell_type": "code",
   "execution_count": 450,
   "id": "b15738ea",
   "metadata": {},
   "outputs": [],
   "source": [
    "# 2. onehot_X_train 에서 Deck_T 삭제\n",
    "# 쌤풀이\n",
    "onehot_X_train.drop('Deck_T', inplace = True, axis = 1)"
   ]
  },
  {
   "cell_type": "code",
   "execution_count": 451,
   "id": "79bbc6b8",
   "metadata": {},
   "outputs": [
    {
     "data": {
      "text/plain": [
       "Index(['Pclass', 'Age', 'Fare', 'Sex_female', 'Sex_male', 'Embarked_C',\n",
       "       'Embarked_Q', 'Embarked_S', 'Deck_A', 'Deck_B', 'Deck_C', 'Deck_D',\n",
       "       'Deck_E', 'Deck_F', 'Deck_G', 'Deck_M', 'Family_size_Alone',\n",
       "       'Family_size_Small', 'Family_size_Large', 'Title_Master', 'Title_Miss',\n",
       "       'Title_Mr', 'Title_Mrs', 'Title_Others', 'Title_Rev', 'Deck_T'],\n",
       "      dtype='object')"
      ]
     },
     "execution_count": 451,
     "metadata": {},
     "output_type": "execute_result"
    }
   ],
   "source": [
    "# 3. onehot_X_train에 제일 뒤로 tmp 데이터를 병합 (concat -> 축설정)\n",
    "\n",
    "# 쌤풀이\n",
    "onehot_X_train = pd.concat([onehot_X_train, tmp], axis=1)\n",
    "onehot_X_train.columns\n",
    "\n",
    "# Index(['Pclass', 'Age', 'Fare', 'Sex_female', 'Sex_male', 'Embarked_C',\n",
    "#        'Embarked_Q', 'Embarked_S', 'Deck_A', 'Deck_B', 'Deck_C', 'Deck_D',\n",
    "#        'Deck_E', 'Deck_F', 'Deck_G', 'Deck_M', 'Family_size_Alone',\n",
    "#        'Family_size_Small', 'Family_size_Large', 'Title_Master', 'Title_Miss',\n",
    "#        'Title_Mr', 'Title_Mrs', 'Title_Others', 'Title_Rev', 'Deck_T'],\n",
    "#       dtype='object')\n",
    "\n",
    "\n",
    "#자영풀이\n",
    "# newDf = pd.concat([onehot_X_train, tmp], axis=1)\n",
    "# newDf.columns"
   ]
  },
  {
   "cell_type": "markdown",
   "id": "185fe2de",
   "metadata": {},
   "source": [
    "### 모델링\n",
    "- knn 모델\n",
    "- tree 모델"
   ]
  },
  {
   "cell_type": "markdown",
   "id": "21269a47",
   "metadata": {},
   "source": [
    "- knn_model1 (하이퍼파라미터를 조절하지 않은 모델)"
   ]
  },
  {
   "cell_type": "code",
   "execution_count": 452,
   "id": "20896574",
   "metadata": {},
   "outputs": [],
   "source": [
    "# 라이브러리 불러오기\n",
    "from sklearn.neighbors import KNeighborsClassifier # KNN 분류 라이브러리\n",
    "from sklearn.tree import DecisionTreeClassifier # 의사결정나무 분류모델\n",
    "\n",
    "from sklearn.model_selection import cross_val_score # 교차검증 도구"
   ]
  },
  {
   "cell_type": "code",
   "execution_count": 453,
   "id": "4a9bf6e3",
   "metadata": {},
   "outputs": [],
   "source": [
    "# 1. 모델 객체 생성 (knn_model1)\n",
    "knn_model1 = KNeighborsClassifier()"
   ]
  },
  {
   "cell_type": "code",
   "execution_count": 454,
   "id": "58347c74",
   "metadata": {
    "scrolled": true
   },
   "outputs": [
    {
     "data": {
      "text/html": [
       "<style>#sk-container-id-4 {color: black;}#sk-container-id-4 pre{padding: 0;}#sk-container-id-4 div.sk-toggleable {background-color: white;}#sk-container-id-4 label.sk-toggleable__label {cursor: pointer;display: block;width: 100%;margin-bottom: 0;padding: 0.3em;box-sizing: border-box;text-align: center;}#sk-container-id-4 label.sk-toggleable__label-arrow:before {content: \"▸\";float: left;margin-right: 0.25em;color: #696969;}#sk-container-id-4 label.sk-toggleable__label-arrow:hover:before {color: black;}#sk-container-id-4 div.sk-estimator:hover label.sk-toggleable__label-arrow:before {color: black;}#sk-container-id-4 div.sk-toggleable__content {max-height: 0;max-width: 0;overflow: hidden;text-align: left;background-color: #f0f8ff;}#sk-container-id-4 div.sk-toggleable__content pre {margin: 0.2em;color: black;border-radius: 0.25em;background-color: #f0f8ff;}#sk-container-id-4 input.sk-toggleable__control:checked~div.sk-toggleable__content {max-height: 200px;max-width: 100%;overflow: auto;}#sk-container-id-4 input.sk-toggleable__control:checked~label.sk-toggleable__label-arrow:before {content: \"▾\";}#sk-container-id-4 div.sk-estimator input.sk-toggleable__control:checked~label.sk-toggleable__label {background-color: #d4ebff;}#sk-container-id-4 div.sk-label input.sk-toggleable__control:checked~label.sk-toggleable__label {background-color: #d4ebff;}#sk-container-id-4 input.sk-hidden--visually {border: 0;clip: rect(1px 1px 1px 1px);clip: rect(1px, 1px, 1px, 1px);height: 1px;margin: -1px;overflow: hidden;padding: 0;position: absolute;width: 1px;}#sk-container-id-4 div.sk-estimator {font-family: monospace;background-color: #f0f8ff;border: 1px dotted black;border-radius: 0.25em;box-sizing: border-box;margin-bottom: 0.5em;}#sk-container-id-4 div.sk-estimator:hover {background-color: #d4ebff;}#sk-container-id-4 div.sk-parallel-item::after {content: \"\";width: 100%;border-bottom: 1px solid gray;flex-grow: 1;}#sk-container-id-4 div.sk-label:hover label.sk-toggleable__label {background-color: #d4ebff;}#sk-container-id-4 div.sk-serial::before {content: \"\";position: absolute;border-left: 1px solid gray;box-sizing: border-box;top: 0;bottom: 0;left: 50%;z-index: 0;}#sk-container-id-4 div.sk-serial {display: flex;flex-direction: column;align-items: center;background-color: white;padding-right: 0.2em;padding-left: 0.2em;position: relative;}#sk-container-id-4 div.sk-item {position: relative;z-index: 1;}#sk-container-id-4 div.sk-parallel {display: flex;align-items: stretch;justify-content: center;background-color: white;position: relative;}#sk-container-id-4 div.sk-item::before, #sk-container-id-4 div.sk-parallel-item::before {content: \"\";position: absolute;border-left: 1px solid gray;box-sizing: border-box;top: 0;bottom: 0;left: 50%;z-index: -1;}#sk-container-id-4 div.sk-parallel-item {display: flex;flex-direction: column;z-index: 1;position: relative;background-color: white;}#sk-container-id-4 div.sk-parallel-item:first-child::after {align-self: flex-end;width: 50%;}#sk-container-id-4 div.sk-parallel-item:last-child::after {align-self: flex-start;width: 50%;}#sk-container-id-4 div.sk-parallel-item:only-child::after {width: 0;}#sk-container-id-4 div.sk-dashed-wrapped {border: 1px dashed gray;margin: 0 0.4em 0.5em 0.4em;box-sizing: border-box;padding-bottom: 0.4em;background-color: white;}#sk-container-id-4 div.sk-label label {font-family: monospace;font-weight: bold;display: inline-block;line-height: 1.2em;}#sk-container-id-4 div.sk-label-container {text-align: center;}#sk-container-id-4 div.sk-container {/* jupyter's `normalize.less` sets `[hidden] { display: none; }` but bootstrap.min.css set `[hidden] { display: none !important; }` so we also need the `!important` here to be able to override the default hidden behavior on the sphinx rendered scikit-learn.org. See: https://github.com/scikit-learn/scikit-learn/issues/21755 */display: inline-block !important;position: relative;}#sk-container-id-4 div.sk-text-repr-fallback {display: none;}</style><div id=\"sk-container-id-4\" class=\"sk-top-container\"><div class=\"sk-text-repr-fallback\"><pre>KNeighborsClassifier()</pre><b>In a Jupyter environment, please rerun this cell to show the HTML representation or trust the notebook. <br />On GitHub, the HTML representation is unable to render, please try loading this page with nbviewer.org.</b></div><div class=\"sk-container\" hidden><div class=\"sk-item\"><div class=\"sk-estimator sk-toggleable\"><input class=\"sk-toggleable__control sk-hidden--visually\" id=\"sk-estimator-id-4\" type=\"checkbox\" checked><label for=\"sk-estimator-id-4\" class=\"sk-toggleable__label sk-toggleable__label-arrow\">KNeighborsClassifier</label><div class=\"sk-toggleable__content\"><pre>KNeighborsClassifier()</pre></div></div></div></div></div>"
      ],
      "text/plain": [
       "KNeighborsClassifier()"
      ]
     },
     "execution_count": 454,
     "metadata": {},
     "output_type": "execute_result"
    }
   ],
   "source": [
    "# 2. 모델학습\n",
    "# mode.fit(훈려용 문제, 훈련용 정답)\n",
    "knn_model1.fit(onehot_X_train, y_train)"
   ]
  },
  {
   "cell_type": "code",
   "execution_count": 455,
   "id": "7ed564a5",
   "metadata": {},
   "outputs": [
    {
     "data": {
      "text/plain": [
       "0.7104764296026616"
      ]
     },
     "execution_count": 455,
     "metadata": {},
     "output_type": "execute_result"
    }
   ],
   "source": [
    "# 2-1. 교차검증 # cross_val_score (모델이름, 문제, 정답, 교차검증횟수)\n",
    "cross_val_score(knn_model1, onehot_X_train.values, y_train, cv= 5).mean()\n",
    "# 평균 0.71 의 성능을 내는 모델"
   ]
  },
  {
   "cell_type": "code",
   "execution_count": 456,
   "id": "463a2ec8",
   "metadata": {},
   "outputs": [
    {
     "data": {
      "text/plain": [
       "(418, 26)"
      ]
     },
     "execution_count": 456,
     "metadata": {},
     "output_type": "execute_result"
    }
   ],
   "source": [
    "onehot_X_test.shape"
   ]
  },
  {
   "cell_type": "code",
   "execution_count": 457,
   "id": "7fee6667",
   "metadata": {
    "collapsed": true
   },
   "outputs": [
    {
     "data": {
      "text/plain": [
       "Index(['Pclass', 'Age', 'Fare', 'Sex_female', 'Sex_male', 'Embarked_C',\n",
       "       'Embarked_Q', 'Embarked_S', 'Deck_A', 'Deck_B', 'Deck_C', 'Deck_D',\n",
       "       'Deck_E', 'Deck_F', 'Deck_G', 'Deck_M', 'Family_size_Alone',\n",
       "       'Family_size_Small', 'Family_size_Large', 'Title_Master', 'Title_Miss',\n",
       "       'Title_Mr', 'Title_Mrs', 'Title_Others', 'Title_Rev', 'Deck_T'],\n",
       "      dtype='object')"
      ]
     },
     "execution_count": 457,
     "metadata": {},
     "output_type": "execute_result"
    }
   ],
   "source": [
    "onehot_X_train.columns"
   ]
  },
  {
   "cell_type": "code",
   "execution_count": 458,
   "id": "1633f7e0",
   "metadata": {
    "scrolled": true
   },
   "outputs": [
    {
     "name": "stderr",
     "output_type": "stream",
     "text": [
      "C:\\Users\\smhrd\\anaconda3\\Lib\\site-packages\\sklearn\\base.py:464: UserWarning: X does not have valid feature names, but KNeighborsClassifier was fitted with feature names\n",
      "  warnings.warn(\n"
     ]
    }
   ],
   "source": [
    "# 3. 모델 예측\n",
    "# model.predict(테스트용 문제)\n",
    "pre1 = knn_model1.predict(onehot_X_test.values)"
   ]
  },
  {
   "cell_type": "code",
   "execution_count": 459,
   "id": "f40282e2",
   "metadata": {},
   "outputs": [
    {
     "data": {
      "text/html": [
       "<div>\n",
       "<style scoped>\n",
       "    .dataframe tbody tr th:only-of-type {\n",
       "        vertical-align: middle;\n",
       "    }\n",
       "\n",
       "    .dataframe tbody tr th {\n",
       "        vertical-align: top;\n",
       "    }\n",
       "\n",
       "    .dataframe thead th {\n",
       "        text-align: right;\n",
       "    }\n",
       "</style>\n",
       "<table border=\"1\" class=\"dataframe\">\n",
       "  <thead>\n",
       "    <tr style=\"text-align: right;\">\n",
       "      <th></th>\n",
       "      <th>PassengerId</th>\n",
       "      <th>Survived</th>\n",
       "    </tr>\n",
       "  </thead>\n",
       "  <tbody>\n",
       "    <tr>\n",
       "      <th>0</th>\n",
       "      <td>892</td>\n",
       "      <td>0</td>\n",
       "    </tr>\n",
       "    <tr>\n",
       "      <th>1</th>\n",
       "      <td>893</td>\n",
       "      <td>1</td>\n",
       "    </tr>\n",
       "    <tr>\n",
       "      <th>2</th>\n",
       "      <td>894</td>\n",
       "      <td>0</td>\n",
       "    </tr>\n",
       "    <tr>\n",
       "      <th>3</th>\n",
       "      <td>895</td>\n",
       "      <td>0</td>\n",
       "    </tr>\n",
       "    <tr>\n",
       "      <th>4</th>\n",
       "      <td>896</td>\n",
       "      <td>1</td>\n",
       "    </tr>\n",
       "    <tr>\n",
       "      <th>...</th>\n",
       "      <td>...</td>\n",
       "      <td>...</td>\n",
       "    </tr>\n",
       "    <tr>\n",
       "      <th>413</th>\n",
       "      <td>1305</td>\n",
       "      <td>0</td>\n",
       "    </tr>\n",
       "    <tr>\n",
       "      <th>414</th>\n",
       "      <td>1306</td>\n",
       "      <td>1</td>\n",
       "    </tr>\n",
       "    <tr>\n",
       "      <th>415</th>\n",
       "      <td>1307</td>\n",
       "      <td>0</td>\n",
       "    </tr>\n",
       "    <tr>\n",
       "      <th>416</th>\n",
       "      <td>1308</td>\n",
       "      <td>0</td>\n",
       "    </tr>\n",
       "    <tr>\n",
       "      <th>417</th>\n",
       "      <td>1309</td>\n",
       "      <td>0</td>\n",
       "    </tr>\n",
       "  </tbody>\n",
       "</table>\n",
       "<p>418 rows × 2 columns</p>\n",
       "</div>"
      ],
      "text/plain": [
       "     PassengerId  Survived\n",
       "0            892         0\n",
       "1            893         1\n",
       "2            894         0\n",
       "3            895         0\n",
       "4            896         1\n",
       "..           ...       ...\n",
       "413         1305         0\n",
       "414         1306         1\n",
       "415         1307         0\n",
       "416         1308         0\n",
       "417         1309         0\n",
       "\n",
       "[418 rows x 2 columns]"
      ]
     },
     "execution_count": 459,
     "metadata": {},
     "output_type": "execute_result"
    }
   ],
   "source": [
    "# 4. kaggle 제출을 위하여 정답 작성\n",
    "# gender_submission 파일 불러오기\n",
    "result_submission = pd.read_csv('data/gender_submission.csv')\n",
    "result_submission"
   ]
  },
  {
   "cell_type": "code",
   "execution_count": 460,
   "id": "90003746",
   "metadata": {},
   "outputs": [
    {
     "data": {
      "text/html": [
       "<div>\n",
       "<style scoped>\n",
       "    .dataframe tbody tr th:only-of-type {\n",
       "        vertical-align: middle;\n",
       "    }\n",
       "\n",
       "    .dataframe tbody tr th {\n",
       "        vertical-align: top;\n",
       "    }\n",
       "\n",
       "    .dataframe thead th {\n",
       "        text-align: right;\n",
       "    }\n",
       "</style>\n",
       "<table border=\"1\" class=\"dataframe\">\n",
       "  <thead>\n",
       "    <tr style=\"text-align: right;\">\n",
       "      <th></th>\n",
       "      <th>PassengerId</th>\n",
       "      <th>Survived</th>\n",
       "    </tr>\n",
       "  </thead>\n",
       "  <tbody>\n",
       "    <tr>\n",
       "      <th>0</th>\n",
       "      <td>892</td>\n",
       "      <td>0</td>\n",
       "    </tr>\n",
       "    <tr>\n",
       "      <th>1</th>\n",
       "      <td>893</td>\n",
       "      <td>0</td>\n",
       "    </tr>\n",
       "    <tr>\n",
       "      <th>2</th>\n",
       "      <td>894</td>\n",
       "      <td>0</td>\n",
       "    </tr>\n",
       "    <tr>\n",
       "      <th>3</th>\n",
       "      <td>895</td>\n",
       "      <td>1</td>\n",
       "    </tr>\n",
       "    <tr>\n",
       "      <th>4</th>\n",
       "      <td>896</td>\n",
       "      <td>0</td>\n",
       "    </tr>\n",
       "    <tr>\n",
       "      <th>...</th>\n",
       "      <td>...</td>\n",
       "      <td>...</td>\n",
       "    </tr>\n",
       "    <tr>\n",
       "      <th>413</th>\n",
       "      <td>1305</td>\n",
       "      <td>0</td>\n",
       "    </tr>\n",
       "    <tr>\n",
       "      <th>414</th>\n",
       "      <td>1306</td>\n",
       "      <td>1</td>\n",
       "    </tr>\n",
       "    <tr>\n",
       "      <th>415</th>\n",
       "      <td>1307</td>\n",
       "      <td>0</td>\n",
       "    </tr>\n",
       "    <tr>\n",
       "      <th>416</th>\n",
       "      <td>1308</td>\n",
       "      <td>0</td>\n",
       "    </tr>\n",
       "    <tr>\n",
       "      <th>417</th>\n",
       "      <td>1309</td>\n",
       "      <td>0</td>\n",
       "    </tr>\n",
       "  </tbody>\n",
       "</table>\n",
       "<p>418 rows × 2 columns</p>\n",
       "</div>"
      ],
      "text/plain": [
       "     PassengerId  Survived\n",
       "0            892         0\n",
       "1            893         0\n",
       "2            894         0\n",
       "3            895         1\n",
       "4            896         0\n",
       "..           ...       ...\n",
       "413         1305         0\n",
       "414         1306         1\n",
       "415         1307         0\n",
       "416         1308         0\n",
       "417         1309         0\n",
       "\n",
       "[418 rows x 2 columns]"
      ]
     },
     "execution_count": 460,
     "metadata": {},
     "output_type": "execute_result"
    }
   ],
   "source": [
    "# 5.우리가 예측한 정답 덮어 씌워주기!\n",
    "result_submission['Survived'] = pre1\n",
    "result_submission"
   ]
  },
  {
   "cell_type": "code",
   "execution_count": 462,
   "id": "7abc1e71",
   "metadata": {},
   "outputs": [],
   "source": [
    "# 6. 제출을 위하여 csv 파일 형태로 내보내기!\n",
    "result_submission.to_csv('data/kaggle_sub_01.csv', index = False) # 자: 인덱스 제거해서 보내야함\n"
   ]
  },
  {
   "cell_type": "markdown",
   "id": "4d0c3df6",
   "metadata": {},
   "source": [
    "tree_model1 (하이퍼파라미터를 조절하지 않은 모델)"
   ]
  },
  {
   "cell_type": "code",
   "execution_count": 463,
   "id": "a17b24fd",
   "metadata": {},
   "outputs": [],
   "source": [
    "# 1. 모델 객체 생성 (tree_model1)\n",
    "tree_model1 = DecisionTreeClassifier()"
   ]
  },
  {
   "cell_type": "code",
   "execution_count": 1104,
   "id": "f7130ace",
   "metadata": {},
   "outputs": [
    {
     "data": {
      "text/html": [
       "<style>#sk-container-id-7 {color: black;}#sk-container-id-7 pre{padding: 0;}#sk-container-id-7 div.sk-toggleable {background-color: white;}#sk-container-id-7 label.sk-toggleable__label {cursor: pointer;display: block;width: 100%;margin-bottom: 0;padding: 0.3em;box-sizing: border-box;text-align: center;}#sk-container-id-7 label.sk-toggleable__label-arrow:before {content: \"▸\";float: left;margin-right: 0.25em;color: #696969;}#sk-container-id-7 label.sk-toggleable__label-arrow:hover:before {color: black;}#sk-container-id-7 div.sk-estimator:hover label.sk-toggleable__label-arrow:before {color: black;}#sk-container-id-7 div.sk-toggleable__content {max-height: 0;max-width: 0;overflow: hidden;text-align: left;background-color: #f0f8ff;}#sk-container-id-7 div.sk-toggleable__content pre {margin: 0.2em;color: black;border-radius: 0.25em;background-color: #f0f8ff;}#sk-container-id-7 input.sk-toggleable__control:checked~div.sk-toggleable__content {max-height: 200px;max-width: 100%;overflow: auto;}#sk-container-id-7 input.sk-toggleable__control:checked~label.sk-toggleable__label-arrow:before {content: \"▾\";}#sk-container-id-7 div.sk-estimator input.sk-toggleable__control:checked~label.sk-toggleable__label {background-color: #d4ebff;}#sk-container-id-7 div.sk-label input.sk-toggleable__control:checked~label.sk-toggleable__label {background-color: #d4ebff;}#sk-container-id-7 input.sk-hidden--visually {border: 0;clip: rect(1px 1px 1px 1px);clip: rect(1px, 1px, 1px, 1px);height: 1px;margin: -1px;overflow: hidden;padding: 0;position: absolute;width: 1px;}#sk-container-id-7 div.sk-estimator {font-family: monospace;background-color: #f0f8ff;border: 1px dotted black;border-radius: 0.25em;box-sizing: border-box;margin-bottom: 0.5em;}#sk-container-id-7 div.sk-estimator:hover {background-color: #d4ebff;}#sk-container-id-7 div.sk-parallel-item::after {content: \"\";width: 100%;border-bottom: 1px solid gray;flex-grow: 1;}#sk-container-id-7 div.sk-label:hover label.sk-toggleable__label {background-color: #d4ebff;}#sk-container-id-7 div.sk-serial::before {content: \"\";position: absolute;border-left: 1px solid gray;box-sizing: border-box;top: 0;bottom: 0;left: 50%;z-index: 0;}#sk-container-id-7 div.sk-serial {display: flex;flex-direction: column;align-items: center;background-color: white;padding-right: 0.2em;padding-left: 0.2em;position: relative;}#sk-container-id-7 div.sk-item {position: relative;z-index: 1;}#sk-container-id-7 div.sk-parallel {display: flex;align-items: stretch;justify-content: center;background-color: white;position: relative;}#sk-container-id-7 div.sk-item::before, #sk-container-id-7 div.sk-parallel-item::before {content: \"\";position: absolute;border-left: 1px solid gray;box-sizing: border-box;top: 0;bottom: 0;left: 50%;z-index: -1;}#sk-container-id-7 div.sk-parallel-item {display: flex;flex-direction: column;z-index: 1;position: relative;background-color: white;}#sk-container-id-7 div.sk-parallel-item:first-child::after {align-self: flex-end;width: 50%;}#sk-container-id-7 div.sk-parallel-item:last-child::after {align-self: flex-start;width: 50%;}#sk-container-id-7 div.sk-parallel-item:only-child::after {width: 0;}#sk-container-id-7 div.sk-dashed-wrapped {border: 1px dashed gray;margin: 0 0.4em 0.5em 0.4em;box-sizing: border-box;padding-bottom: 0.4em;background-color: white;}#sk-container-id-7 div.sk-label label {font-family: monospace;font-weight: bold;display: inline-block;line-height: 1.2em;}#sk-container-id-7 div.sk-label-container {text-align: center;}#sk-container-id-7 div.sk-container {/* jupyter's `normalize.less` sets `[hidden] { display: none; }` but bootstrap.min.css set `[hidden] { display: none !important; }` so we also need the `!important` here to be able to override the default hidden behavior on the sphinx rendered scikit-learn.org. See: https://github.com/scikit-learn/scikit-learn/issues/21755 */display: inline-block !important;position: relative;}#sk-container-id-7 div.sk-text-repr-fallback {display: none;}</style><div id=\"sk-container-id-7\" class=\"sk-top-container\"><div class=\"sk-text-repr-fallback\"><pre>DecisionTreeClassifier()</pre><b>In a Jupyter environment, please rerun this cell to show the HTML representation or trust the notebook. <br />On GitHub, the HTML representation is unable to render, please try loading this page with nbviewer.org.</b></div><div class=\"sk-container\" hidden><div class=\"sk-item\"><div class=\"sk-estimator sk-toggleable\"><input class=\"sk-toggleable__control sk-hidden--visually\" id=\"sk-estimator-id-7\" type=\"checkbox\" checked><label for=\"sk-estimator-id-7\" class=\"sk-toggleable__label sk-toggleable__label-arrow\">DecisionTreeClassifier</label><div class=\"sk-toggleable__content\"><pre>DecisionTreeClassifier()</pre></div></div></div></div></div>"
      ],
      "text/plain": [
       "DecisionTreeClassifier()"
      ]
     },
     "execution_count": 1104,
     "metadata": {},
     "output_type": "execute_result"
    }
   ],
   "source": [
    "# 2. 모델학습\n",
    "tree_model1.fit(onehot_X_train, y_train)"
   ]
  },
  {
   "cell_type": "code",
   "execution_count": 1114,
   "id": "fee60551",
   "metadata": {},
   "outputs": [
    {
     "data": {
      "text/plain": [
       "0.7935795134983127"
      ]
     },
     "execution_count": 1114,
     "metadata": {},
     "output_type": "execute_result"
    }
   ],
   "source": [
    "# 2-1. 교차검증\n",
    "cross_val_score(tree_model1, onehot_X_train, y_train, cv = 7).mean()\n",
    "# knn 모델보다는 성능이 조금 더 좋은 것을 확인\n",
    "# 약 79% 정확도를 보이는 것을 확인"
   ]
  },
  {
   "cell_type": "code",
   "execution_count": 515,
   "id": "30154949",
   "metadata": {
    "scrolled": true
   },
   "outputs": [
    {
     "name": "stderr",
     "output_type": "stream",
     "text": [
      "C:\\Users\\smhrd\\anaconda3\\Lib\\site-packages\\sklearn\\base.py:464: UserWarning: X does not have valid feature names, but DecisionTreeClassifier was fitted with feature names\n",
      "  warnings.warn(\n"
     ]
    },
    {
     "data": {
      "text/plain": [
       "array([0, 0, 1, 1, 1, 0, 0, 0, 1, 0, 0, 0, 1, 0, 1, 1, 0, 1, 1, 0, 0, 1,\n",
       "       1, 0, 1, 0, 1, 1, 1, 0, 0, 0, 1, 0, 0, 0, 0, 0, 0, 1, 0, 1, 0, 1,\n",
       "       1, 0, 0, 0, 1, 1, 1, 0, 1, 1, 0, 0, 0, 0, 0, 1, 0, 1, 0, 1, 1, 1,\n",
       "       1, 0, 1, 1, 1, 0, 0, 1, 1, 0, 0, 1, 0, 1, 1, 0, 0, 0, 0, 0, 1, 1,\n",
       "       1, 1, 1, 0, 1, 0, 1, 0, 1, 1, 1, 0, 1, 0, 0, 0, 1, 0, 0, 0, 0, 0,\n",
       "       0, 1, 1, 1, 1, 0, 0, 1, 0, 1, 0, 0, 1, 0, 0, 1, 0, 1, 1, 0, 0, 0,\n",
       "       0, 0, 0, 0, 0, 0, 0, 0, 0, 1, 0, 0, 1, 0, 0, 0, 1, 0, 1, 0, 1, 0,\n",
       "       0, 0, 1, 1, 1, 0, 1, 1, 1, 0, 0, 1, 0, 0, 1, 0, 0, 0, 0, 0, 0, 1,\n",
       "       1, 0, 1, 1, 0, 0, 1, 0, 1, 0, 1, 1, 0, 0, 0, 0, 1, 1, 1, 0, 1, 0,\n",
       "       0, 0, 1, 1, 1, 1, 0, 0, 0, 0, 1, 0, 1, 0, 0, 1, 1, 0, 1, 0, 1, 0,\n",
       "       1, 0, 1, 1, 1, 0, 0, 1, 0, 0, 0, 1, 0, 0, 0, 0, 1, 1, 1, 1, 1, 1,\n",
       "       0, 0, 0, 1, 1, 0, 1, 0, 1, 0, 1, 0, 1, 0, 0, 0, 0, 0, 0, 0, 1, 1,\n",
       "       1, 0, 0, 0, 0, 0, 0, 0, 1, 1, 0, 1, 0, 0, 0, 0, 0, 1, 1, 0, 1, 0,\n",
       "       0, 0, 0, 0, 0, 0, 0, 1, 0, 0, 1, 0, 0, 1, 0, 1, 0, 0, 1, 1, 0, 1,\n",
       "       0, 0, 0, 1, 0, 0, 1, 1, 0, 0, 0, 0, 0, 0, 0, 1, 1, 0, 1, 0, 0, 0,\n",
       "       1, 1, 0, 0, 0, 0, 1, 0, 0, 1, 0, 0, 0, 1, 1, 1, 0, 0, 0, 1, 1, 0,\n",
       "       0, 0, 1, 0, 1, 0, 0, 0, 0, 1, 1, 1, 1, 0, 0, 0, 1, 1, 0, 1, 0, 1,\n",
       "       1, 1, 0, 0, 0, 1, 0, 0, 1, 1, 0, 1, 0, 0, 0, 0, 0, 1, 1, 0, 0, 1,\n",
       "       0, 1, 0, 0, 1, 0, 1, 0, 1, 1, 0, 0, 1, 1, 1, 1, 0, 0, 1, 0, 0, 1],\n",
       "      dtype=int64)"
      ]
     },
     "execution_count": 515,
     "metadata": {},
     "output_type": "execute_result"
    }
   ],
   "source": [
    "# 3. 모델 예측\n",
    "tree_model1.predict(onehot_X_test.values)"
   ]
  },
  {
   "cell_type": "markdown",
   "id": "906d5cbc",
   "metadata": {},
   "source": [
    "- tree_model(하이퍼파라미터를 조절한 모델) ->제출"
   ]
  },
  {
   "cell_type": "code",
   "execution_count": 1120,
   "id": "5276158a",
   "metadata": {},
   "outputs": [
    {
     "data": {
      "text/plain": [
       "0.8159249262444291"
      ]
     },
     "execution_count": 1120,
     "metadata": {},
     "output_type": "execute_result"
    }
   ],
   "source": [
    "#객체 생성, 학습, 교차검증\n",
    "tree_model2 = DecisionTreeClassifier(max_depth=3)\n",
    "tree_model2.fit(onehot_X_train, y_train)\n",
    "cross_val_score(tree_model2, onehot_X_train, y_train, cv = 5).mean()\n",
    "# 하이퍼파라미터 조절 후 정확도가 향상된 것을 확인"
   ]
  },
  {
   "cell_type": "code",
   "execution_count": 1121,
   "id": "4324d925",
   "metadata": {},
   "outputs": [
    {
     "name": "stderr",
     "output_type": "stream",
     "text": [
      "C:\\Users\\smhrd\\anaconda3\\Lib\\site-packages\\sklearn\\base.py:464: UserWarning: X does not have valid feature names, but DecisionTreeClassifier was fitted with feature names\n",
      "  warnings.warn(\n"
     ]
    }
   ],
   "source": [
    "# 예측 후 제출\n",
    "\n",
    "# 3. 모델 예측\n",
    "# 쌤풀이\n",
    "pre2 = tree_model2.predict(onehot_X_test.values)\n",
    "\n",
    "# 4.\n",
    "result_submission2 = pd.read_csv('data/gender_submission.csv')\n",
    "result_submission2['Suvived']=pre2\n",
    "result_submission2.to_csv('data/kaggle_02.csv', index=False)"
   ]
  },
  {
   "cell_type": "markdown",
   "id": "cf43493d",
   "metadata": {},
   "source": [
    "- 자영풀이\n"
   ]
  },
  {
   "cell_type": "code",
   "execution_count": 861,
   "id": "ba0dd1ec",
   "metadata": {},
   "outputs": [
    {
     "data": {
      "text/plain": [
       "0.8237712635741635"
      ]
     },
     "execution_count": 861,
     "metadata": {},
     "output_type": "execute_result"
    }
   ],
   "source": [
    "tree_model21 = DecisionTreeClassifier(max_depth=4,\n",
    "                                     max_leaf_nodes=11,\n",
    "                                     min_samples_split=8,\n",
    "                                     min_samples_leaf=4\n",
    "                                    )\n",
    "cross_val_score(tree_model21, onehot_X_train, y_train, cv = 5).mean()"
   ]
  },
  {
   "cell_type": "code",
   "execution_count": 1125,
   "id": "469618ee",
   "metadata": {},
   "outputs": [
    {
     "name": "stdout",
     "output_type": "stream",
     "text": [
      "0.8237712635741635\n"
     ]
    },
    {
     "name": "stderr",
     "output_type": "stream",
     "text": [
      "C:\\Users\\smhrd\\anaconda3\\Lib\\site-packages\\sklearn\\base.py:464: UserWarning: X does not have valid feature names, but DecisionTreeClassifier was fitted with feature names\n",
      "  warnings.warn(\n"
     ]
    }
   ],
   "source": [
    "#제출\n",
    "tree_model31 = DecisionTreeClassifier(max_depth=4,\n",
    "                                      max_leaf_nodes=10,\n",
    "                                     min_samples_split=15,\n",
    "                                     min_samples_leaf=4\n",
    "                                     \n",
    "                                    )\n",
    "\n",
    "tree_model31.fit(onehot_X_train, y_train)\n",
    "print(cross_val_score(tree_model31, onehot_X_train, y_train, cv = 5).mean())\n",
    "\n",
    "\n",
    "# 5.우리가 예측한 정답 덮어 씌워주기!\n",
    "pre_tree_31 = tree_model31.predict(onehot_X_test.values)\n",
    "\n",
    "result_submission['Survived'] = pre_tree_31\n",
    "result_submission\n",
    "\n",
    "result_submission.to_csv('data/kaggle_sub_31.csv', index = False) # 자: 인덱스 제거해서 보내야함\n"
   ]
  },
  {
   "cell_type": "markdown",
   "id": "81e8b72b",
   "metadata": {},
   "source": [
    "### 모델 성능개선\n",
    "- 데이터의 양 늘리기\n",
    "- 전처리 방법 수정\n",
    "- 더 좋은 성능을 가지는 모델 사용\n",
    "- 하이퍼파라미터 조절 (약 5% 정도의 변화)\n",
    "- 정규화, 숫자값의 범위 조정(scale 조정) \n",
    "    - 거리 계산에 민감한 knn 모델의 성능을 높이기 위해서 스케일 조정을 해줌\n",
    "    - sklearn 스케일링 도구 제공 -> 사용법 확인"
   ]
  },
  {
   "cell_type": "code",
   "execution_count": 1127,
   "id": "705156eb",
   "metadata": {},
   "outputs": [],
   "source": [
    "# sklearn 에서 제공하는 scale 도구 불러오기!\n",
    "from sklearn.preprocessing import StandardScaler"
   ]
  },
  {
   "cell_type": "code",
   "execution_count": 1128,
   "id": "7cca97c3",
   "metadata": {},
   "outputs": [],
   "source": [
    "# 스케일러 객체 생성\n",
    "scaler = StandardScaler()"
   ]
  },
  {
   "cell_type": "code",
   "execution_count": 1130,
   "id": "0d075c34",
   "metadata": {},
   "outputs": [
    {
     "data": {
      "text/html": [
       "<style>#sk-container-id-9 {color: black;}#sk-container-id-9 pre{padding: 0;}#sk-container-id-9 div.sk-toggleable {background-color: white;}#sk-container-id-9 label.sk-toggleable__label {cursor: pointer;display: block;width: 100%;margin-bottom: 0;padding: 0.3em;box-sizing: border-box;text-align: center;}#sk-container-id-9 label.sk-toggleable__label-arrow:before {content: \"▸\";float: left;margin-right: 0.25em;color: #696969;}#sk-container-id-9 label.sk-toggleable__label-arrow:hover:before {color: black;}#sk-container-id-9 div.sk-estimator:hover label.sk-toggleable__label-arrow:before {color: black;}#sk-container-id-9 div.sk-toggleable__content {max-height: 0;max-width: 0;overflow: hidden;text-align: left;background-color: #f0f8ff;}#sk-container-id-9 div.sk-toggleable__content pre {margin: 0.2em;color: black;border-radius: 0.25em;background-color: #f0f8ff;}#sk-container-id-9 input.sk-toggleable__control:checked~div.sk-toggleable__content {max-height: 200px;max-width: 100%;overflow: auto;}#sk-container-id-9 input.sk-toggleable__control:checked~label.sk-toggleable__label-arrow:before {content: \"▾\";}#sk-container-id-9 div.sk-estimator input.sk-toggleable__control:checked~label.sk-toggleable__label {background-color: #d4ebff;}#sk-container-id-9 div.sk-label input.sk-toggleable__control:checked~label.sk-toggleable__label {background-color: #d4ebff;}#sk-container-id-9 input.sk-hidden--visually {border: 0;clip: rect(1px 1px 1px 1px);clip: rect(1px, 1px, 1px, 1px);height: 1px;margin: -1px;overflow: hidden;padding: 0;position: absolute;width: 1px;}#sk-container-id-9 div.sk-estimator {font-family: monospace;background-color: #f0f8ff;border: 1px dotted black;border-radius: 0.25em;box-sizing: border-box;margin-bottom: 0.5em;}#sk-container-id-9 div.sk-estimator:hover {background-color: #d4ebff;}#sk-container-id-9 div.sk-parallel-item::after {content: \"\";width: 100%;border-bottom: 1px solid gray;flex-grow: 1;}#sk-container-id-9 div.sk-label:hover label.sk-toggleable__label {background-color: #d4ebff;}#sk-container-id-9 div.sk-serial::before {content: \"\";position: absolute;border-left: 1px solid gray;box-sizing: border-box;top: 0;bottom: 0;left: 50%;z-index: 0;}#sk-container-id-9 div.sk-serial {display: flex;flex-direction: column;align-items: center;background-color: white;padding-right: 0.2em;padding-left: 0.2em;position: relative;}#sk-container-id-9 div.sk-item {position: relative;z-index: 1;}#sk-container-id-9 div.sk-parallel {display: flex;align-items: stretch;justify-content: center;background-color: white;position: relative;}#sk-container-id-9 div.sk-item::before, #sk-container-id-9 div.sk-parallel-item::before {content: \"\";position: absolute;border-left: 1px solid gray;box-sizing: border-box;top: 0;bottom: 0;left: 50%;z-index: -1;}#sk-container-id-9 div.sk-parallel-item {display: flex;flex-direction: column;z-index: 1;position: relative;background-color: white;}#sk-container-id-9 div.sk-parallel-item:first-child::after {align-self: flex-end;width: 50%;}#sk-container-id-9 div.sk-parallel-item:last-child::after {align-self: flex-start;width: 50%;}#sk-container-id-9 div.sk-parallel-item:only-child::after {width: 0;}#sk-container-id-9 div.sk-dashed-wrapped {border: 1px dashed gray;margin: 0 0.4em 0.5em 0.4em;box-sizing: border-box;padding-bottom: 0.4em;background-color: white;}#sk-container-id-9 div.sk-label label {font-family: monospace;font-weight: bold;display: inline-block;line-height: 1.2em;}#sk-container-id-9 div.sk-label-container {text-align: center;}#sk-container-id-9 div.sk-container {/* jupyter's `normalize.less` sets `[hidden] { display: none; }` but bootstrap.min.css set `[hidden] { display: none !important; }` so we also need the `!important` here to be able to override the default hidden behavior on the sphinx rendered scikit-learn.org. See: https://github.com/scikit-learn/scikit-learn/issues/21755 */display: inline-block !important;position: relative;}#sk-container-id-9 div.sk-text-repr-fallback {display: none;}</style><div id=\"sk-container-id-9\" class=\"sk-top-container\"><div class=\"sk-text-repr-fallback\"><pre>StandardScaler()</pre><b>In a Jupyter environment, please rerun this cell to show the HTML representation or trust the notebook. <br />On GitHub, the HTML representation is unable to render, please try loading this page with nbviewer.org.</b></div><div class=\"sk-container\" hidden><div class=\"sk-item\"><div class=\"sk-estimator sk-toggleable\"><input class=\"sk-toggleable__control sk-hidden--visually\" id=\"sk-estimator-id-9\" type=\"checkbox\" checked><label for=\"sk-estimator-id-9\" class=\"sk-toggleable__label sk-toggleable__label-arrow\">StandardScaler</label><div class=\"sk-toggleable__content\"><pre>StandardScaler()</pre></div></div></div></div></div>"
      ],
      "text/plain": [
       "StandardScaler()"
      ]
     },
     "execution_count": 1130,
     "metadata": {},
     "output_type": "execute_result"
    }
   ],
   "source": [
    "# 스케일러 학습(문제 데이터)\n",
    "scaler.fit(onehot_X_train)"
   ]
  },
  {
   "cell_type": "code",
   "execution_count": 1132,
   "id": "7d1bba43",
   "metadata": {},
   "outputs": [],
   "source": [
    "# 학습한 스케일러가 데이터의 범위를 변환\n",
    "t_X_train = scaler.transform(onehot_X_train)\n",
    "# 스케일링한 우리의 문제 데이터"
   ]
  },
  {
   "cell_type": "code",
   "execution_count": 1134,
   "id": "b398ca2a",
   "metadata": {},
   "outputs": [],
   "source": [
    "# test 데이터도 변환\n",
    "t_X_test = scaler.transform(onehot_X_test)"
   ]
  },
  {
   "cell_type": "code",
   "execution_count": 1140,
   "id": "7bc691a4",
   "metadata": {},
   "outputs": [
    {
     "data": {
      "text/plain": [
       "0.809189630280585"
      ]
     },
     "execution_count": 1140,
     "metadata": {},
     "output_type": "execute_result"
    }
   ],
   "source": [
    "# 스케일링해준 데이터로 교차 검증\n",
    "cross_val_score(knn_model1, t_X_train, y_train, cv = 5).mean()\n",
    "# 약 80.9% 정도의 정확도 출력\n",
    "# 스케일링 전보다 약 10% 정도의 정확도가 상승됨"
   ]
  },
  {
   "cell_type": "markdown",
   "id": "2997847f",
   "metadata": {},
   "source": [
    "### 앙상블 모델링\n",
    "- 여러 개의 모델을 결합하여 더욱 강력한 모델을 만드는 기법\n",
    "\n",
    "\n",
    "- Voting (보팅)\n",
    "    - 여러 개의 서로 '다른' 모델이 예측한 결과를 투표하는 방식\n",
    "        - hard Voting : 클래스를 예측 → 다수결\n",
    "        - soft Voting : 클래스별 확률 출력 → 확률의 평균\n",
    "- Bagging (배깅)\n",
    "    - 여러 개의 서로 '같은' 모델이 예측한 결과를 투표하는 방식\n",
    "    - ex.RandomForest(랜덤포레스트) : 의사결정 나무 기반\n",
    "- Boosting (부스팅)\n",
    "    - 여러 개의 서로 '같은' 모델이 '연속적, 순차적' 학습을 진행-> 이전 학습 내용을 반영하여 이후 학습에 오류를 개선해나가는 방식"
   ]
  },
  {
   "cell_type": "code",
   "execution_count": 1154,
   "id": "6c05e907",
   "metadata": {},
   "outputs": [],
   "source": [
    "# 모델 불러오기\n",
    "from sklearn.ensemble import VotingClassifier\n",
    "from sklearn.ensemble import RandomForestClassifier\n",
    "from sklearn.ensemble import AdaBoostClassifier\n"
   ]
  },
  {
   "cell_type": "markdown",
   "id": "cf84a705",
   "metadata": {},
   "source": [
    "1. voting"
   ]
  },
  {
   "cell_type": "code",
   "execution_count": 1146,
   "id": "b4835355",
   "metadata": {},
   "outputs": [],
   "source": [
    "# voting 모델 객체 생성\n",
    "voting_model = VotingClassifier(estimators=[('knn1', knn_model1),\n",
    "                            ('tree1', tree_model1),\n",
    "                            ('tree2', tree_model2)],\n",
    "                            voting='soft')"
   ]
  },
  {
   "cell_type": "code",
   "execution_count": 1155,
   "id": "eebd035d",
   "metadata": {},
   "outputs": [
    {
     "data": {
      "text/plain": [
       "0.8181846713953927"
      ]
     },
     "execution_count": 1155,
     "metadata": {},
     "output_type": "execute_result"
    }
   ],
   "source": [
    "# 교차검증\n",
    "cross_val_score(voting_model, onehot_X_train.values, y_train, cv=5).mean()\n",
    "#0.812560416797439"
   ]
  },
  {
   "cell_type": "markdown",
   "id": "e5906eb3",
   "metadata": {},
   "source": [
    "2. bagging"
   ]
  },
  {
   "cell_type": "code",
   "execution_count": 1170,
   "id": "06f2b60c",
   "metadata": {},
   "outputs": [
    {
     "data": {
      "text/plain": [
       "0.809189630280585"
      ]
     },
     "execution_count": 1170,
     "metadata": {},
     "output_type": "execute_result"
    }
   ],
   "source": [
    "# bagging 모델 객체 생성\n",
    "forest_model = RandomForestClassifier()\n",
    "cross_val_score(forest_model, onehot_X_train, y_train, cv=5).mean()\n",
    "#0.8013307388111229"
   ]
  },
  {
   "cell_type": "code",
   "execution_count": 1175,
   "id": "01a75ab5",
   "metadata": {},
   "outputs": [
    {
     "data": {
      "text/plain": [
       "0.8170359676103196"
      ]
     },
     "execution_count": 1175,
     "metadata": {},
     "output_type": "execute_result"
    }
   ],
   "source": [
    "# RandomForest 모델 하이퍼파라미터 조절\n",
    "forest_model2 = RandomForestClassifier(n_estimators=100, # n_estimators : 숲을 구성하는 나무의 개수\n",
    "                                       max_depth=3) \n",
    "cross_val_score(forest_model2, onehot_X_train, y_train, cv=5).mean()\n"
   ]
  },
  {
   "cell_type": "code",
   "execution_count": 1387,
   "id": "c1af0444",
   "metadata": {},
   "outputs": [
    {
     "data": {
      "text/plain": [
       "0.8114179900822297"
      ]
     },
     "execution_count": 1387,
     "metadata": {},
     "output_type": "execute_result"
    }
   ],
   "source": [
    "# 자영\n",
    "forest_model3 = RandomForestClassifier(n_estimators=100,\n",
    "                                       max_depth=6,\n",
    "                                       max_leaf_nodes=5\n",
    "                                       ) \n",
    "cross_val_score(forest_model2, onehot_X_train, y_train, cv=5).mean()\n"
   ]
  },
  {
   "cell_type": "code",
   "execution_count": 1385,
   "id": "be882b21",
   "metadata": {},
   "outputs": [],
   "source": [
    "# 자영학습 예측\n",
    "forest_model3.fit(onehot_X_train, y_train)\n",
    "pre_forest3 = forest_model3.predict(onehot_X_test)\n",
    "\n",
    "# 자영 정답제출\n",
    "\n",
    "result_submission['Survived'] = pre_forest3\n",
    "result_submission\n",
    "\n",
    "result_submission.to_csv('data/kaggle_pre_forest3.csv', index = False) # 자: 인덱스 제거해서 보내야함\n"
   ]
  },
  {
   "cell_type": "markdown",
   "id": "bba22202",
   "metadata": {},
   "source": [
    "3. Adaboost"
   ]
  },
  {
   "cell_type": "code",
   "execution_count": 1389,
   "id": "625dc326",
   "metadata": {},
   "outputs": [
    {
     "data": {
      "text/plain": [
       "0.8170673529596384"
      ]
     },
     "execution_count": 1389,
     "metadata": {},
     "output_type": "execute_result"
    }
   ],
   "source": [
    "# Adaboost 모델 객체 생성\n",
    "ada_model = AdaBoostClassifier()\n",
    "cross_val_score(ada_model, onehot_X_train, y_train, cv=5).mean()\n",
    "#0.8170673529596384"
   ]
  },
  {
   "cell_type": "markdown",
   "id": "89604cb8",
   "metadata": {},
   "source": [
    "### GridSerchCV를 적용하여 모델의 성능 향상시키기\n",
    "- 최적의 하이퍼파라미터를 찾아주는 도구"
   ]
  },
  {
   "attachments": {
    "image.png": {
     "image/png": "[encoded data removed]"
    }
   },
   "cell_type": "markdown",
   "id": "7ea25cd3",
   "metadata": {},
   "source": [
    "![image.png](attachment:image.png)"
   ]
  },
  {
   "cell_type": "code",
   "execution_count": 1390,
   "id": "369a93cb",
   "metadata": {},
   "outputs": [],
   "source": [
    "# 그리드서치 도구 불러오기~\n",
    "from sklearn.model_selection import GridSearchCV # 자: CV = cross validation\n",
    "# 교차검증을 하면서 그리드 서치를 진행 -> 최적화된 하이퍼파라미터를 찾는다"
   ]
  },
  {
   "cell_type": "code",
   "execution_count": 1399,
   "id": "73bf0a7c",
   "metadata": {},
   "outputs": [
    {
     "data": {
      "text/html": [
       "<style>#sk-container-id-17 {color: black;}#sk-container-id-17 pre{padding: 0;}#sk-container-id-17 div.sk-toggleable {background-color: white;}#sk-container-id-17 label.sk-toggleable__label {cursor: pointer;display: block;width: 100%;margin-bottom: 0;padding: 0.3em;box-sizing: border-box;text-align: center;}#sk-container-id-17 label.sk-toggleable__label-arrow:before {content: \"▸\";float: left;margin-right: 0.25em;color: #696969;}#sk-container-id-17 label.sk-toggleable__label-arrow:hover:before {color: black;}#sk-container-id-17 div.sk-estimator:hover label.sk-toggleable__label-arrow:before {color: black;}#sk-container-id-17 div.sk-toggleable__content {max-height: 0;max-width: 0;overflow: hidden;text-align: left;background-color: #f0f8ff;}#sk-container-id-17 div.sk-toggleable__content pre {margin: 0.2em;color: black;border-radius: 0.25em;background-color: #f0f8ff;}#sk-container-id-17 input.sk-toggleable__control:checked~div.sk-toggleable__content {max-height: 200px;max-width: 100%;overflow: auto;}#sk-container-id-17 input.sk-toggleable__control:checked~label.sk-toggleable__label-arrow:before {content: \"▾\";}#sk-container-id-17 div.sk-estimator input.sk-toggleable__control:checked~label.sk-toggleable__label {background-color: #d4ebff;}#sk-container-id-17 div.sk-label input.sk-toggleable__control:checked~label.sk-toggleable__label {background-color: #d4ebff;}#sk-container-id-17 input.sk-hidden--visually {border: 0;clip: rect(1px 1px 1px 1px);clip: rect(1px, 1px, 1px, 1px);height: 1px;margin: -1px;overflow: hidden;padding: 0;position: absolute;width: 1px;}#sk-container-id-17 div.sk-estimator {font-family: monospace;background-color: #f0f8ff;border: 1px dotted black;border-radius: 0.25em;box-sizing: border-box;margin-bottom: 0.5em;}#sk-container-id-17 div.sk-estimator:hover {background-color: #d4ebff;}#sk-container-id-17 div.sk-parallel-item::after {content: \"\";width: 100%;border-bottom: 1px solid gray;flex-grow: 1;}#sk-container-id-17 div.sk-label:hover label.sk-toggleable__label {background-color: #d4ebff;}#sk-container-id-17 div.sk-serial::before {content: \"\";position: absolute;border-left: 1px solid gray;box-sizing: border-box;top: 0;bottom: 0;left: 50%;z-index: 0;}#sk-container-id-17 div.sk-serial {display: flex;flex-direction: column;align-items: center;background-color: white;padding-right: 0.2em;padding-left: 0.2em;position: relative;}#sk-container-id-17 div.sk-item {position: relative;z-index: 1;}#sk-container-id-17 div.sk-parallel {display: flex;align-items: stretch;justify-content: center;background-color: white;position: relative;}#sk-container-id-17 div.sk-item::before, #sk-container-id-17 div.sk-parallel-item::before {content: \"\";position: absolute;border-left: 1px solid gray;box-sizing: border-box;top: 0;bottom: 0;left: 50%;z-index: -1;}#sk-container-id-17 div.sk-parallel-item {display: flex;flex-direction: column;z-index: 1;position: relative;background-color: white;}#sk-container-id-17 div.sk-parallel-item:first-child::after {align-self: flex-end;width: 50%;}#sk-container-id-17 div.sk-parallel-item:last-child::after {align-self: flex-start;width: 50%;}#sk-container-id-17 div.sk-parallel-item:only-child::after {width: 0;}#sk-container-id-17 div.sk-dashed-wrapped {border: 1px dashed gray;margin: 0 0.4em 0.5em 0.4em;box-sizing: border-box;padding-bottom: 0.4em;background-color: white;}#sk-container-id-17 div.sk-label label {font-family: monospace;font-weight: bold;display: inline-block;line-height: 1.2em;}#sk-container-id-17 div.sk-label-container {text-align: center;}#sk-container-id-17 div.sk-container {/* jupyter's `normalize.less` sets `[hidden] { display: none; }` but bootstrap.min.css set `[hidden] { display: none !important; }` so we also need the `!important` here to be able to override the default hidden behavior on the sphinx rendered scikit-learn.org. See: https://github.com/scikit-learn/scikit-learn/issues/21755 */display: inline-block !important;position: relative;}#sk-container-id-17 div.sk-text-repr-fallback {display: none;}</style><div id=\"sk-container-id-17\" class=\"sk-top-container\"><div class=\"sk-text-repr-fallback\"><pre>GridSearchCV(cv=5, estimator=RandomForestClassifier(random_state=18),\n",
       "             param_grid={&#x27;max_depth&#x27;: [3, 5, 7], &#x27;max_leaf_nodes&#x27;: [2, 4, 6],\n",
       "                         &#x27;min_samples_split&#x27;: [3, 5, 7],\n",
       "                         &#x27;n_estimators&#x27;: [50, 100, 200]},\n",
       "             scoring=&#x27;accuracy&#x27;)</pre><b>In a Jupyter environment, please rerun this cell to show the HTML representation or trust the notebook. <br />On GitHub, the HTML representation is unable to render, please try loading this page with nbviewer.org.</b></div><div class=\"sk-container\" hidden><div class=\"sk-item sk-dashed-wrapped\"><div class=\"sk-label-container\"><div class=\"sk-label sk-toggleable\"><input class=\"sk-toggleable__control sk-hidden--visually\" id=\"sk-estimator-id-29\" type=\"checkbox\" ><label for=\"sk-estimator-id-29\" class=\"sk-toggleable__label sk-toggleable__label-arrow\">GridSearchCV</label><div class=\"sk-toggleable__content\"><pre>GridSearchCV(cv=5, estimator=RandomForestClassifier(random_state=18),\n",
       "             param_grid={&#x27;max_depth&#x27;: [3, 5, 7], &#x27;max_leaf_nodes&#x27;: [2, 4, 6],\n",
       "                         &#x27;min_samples_split&#x27;: [3, 5, 7],\n",
       "                         &#x27;n_estimators&#x27;: [50, 100, 200]},\n",
       "             scoring=&#x27;accuracy&#x27;)</pre></div></div></div><div class=\"sk-parallel\"><div class=\"sk-parallel-item\"><div class=\"sk-item\"><div class=\"sk-label-container\"><div class=\"sk-label sk-toggleable\"><input class=\"sk-toggleable__control sk-hidden--visually\" id=\"sk-estimator-id-30\" type=\"checkbox\" ><label for=\"sk-estimator-id-30\" class=\"sk-toggleable__label sk-toggleable__label-arrow\">estimator: RandomForestClassifier</label><div class=\"sk-toggleable__content\"><pre>RandomForestClassifier(random_state=18)</pre></div></div></div><div class=\"sk-serial\"><div class=\"sk-item\"><div class=\"sk-estimator sk-toggleable\"><input class=\"sk-toggleable__control sk-hidden--visually\" id=\"sk-estimator-id-31\" type=\"checkbox\" ><label for=\"sk-estimator-id-31\" class=\"sk-toggleable__label sk-toggleable__label-arrow\">RandomForestClassifier</label><div class=\"sk-toggleable__content\"><pre>RandomForestClassifier(random_state=18)</pre></div></div></div></div></div></div></div></div></div></div>"
      ],
      "text/plain": [
       "GridSearchCV(cv=5, estimator=RandomForestClassifier(random_state=18),\n",
       "             param_grid={'max_depth': [3, 5, 7], 'max_leaf_nodes': [2, 4, 6],\n",
       "                         'min_samples_split': [3, 5, 7],\n",
       "                         'n_estimators': [50, 100, 200]},\n",
       "             scoring='accuracy')"
      ]
     },
     "execution_count": 1399,
     "metadata": {},
     "output_type": "execute_result"
    }
   ],
   "source": [
    "#1. 하이퍼 파라미터들의 경우의 수를 지정\n",
    "params = {'n_estimators':[50,100,200],\n",
    "          'max_depth' : [3,5,7],\n",
    "          'max_leaf_nodes' : [2,4,6],\n",
    "          'min_samples_split' : [3,5,7]}\n",
    "\n",
    "# 2. 대상 모델 선정\n",
    "model = RandomForestClassifier(random_state=18)\n",
    "\n",
    "#3. 대상 모델에게 그리드서치 적용하기\n",
    "grid = GridSearchCV(model, params, cv=5, scoring='accuracy')\n",
    "\n",
    "\n",
    "# 4. 적용 (자: 문제, 정답으로 학습)\n",
    "grid.fit(onehot_X_train,y_train)\n",
    "# 경우의 수가 많을수록 시간 오래걸림"
   ]
  },
  {
   "cell_type": "code",
   "execution_count": 1402,
   "id": "e99c3885",
   "metadata": {},
   "outputs": [
    {
     "name": "stdout",
     "output_type": "stream",
     "text": [
      "최적의 하이퍼 파라미터 {'max_depth': 5, 'max_leaf_nodes': 6, 'min_samples_split': 3, 'n_estimators': 200}\n",
      "최적의 정확도 :  0.8192831586215554\n"
     ]
    }
   ],
   "source": [
    "# 베스트 파라미터 확인\n",
    "print('최적의 하이퍼 파라미터', grid.best_params_) # 최적의 하이퍼 파라미터 {'max_depth': 5, 'max_leaf_nodes': 6, 'min_samples_split': 3, 'n_estimators': 200}\n",
    "\n",
    "print(\"최적의 정확도 : \", grid.best_score_) # 최적의 정확도 :  0.8192831586215554\n"
   ]
  },
  {
   "cell_type": "code",
   "execution_count": 1404,
   "id": "cc621b6f",
   "metadata": {},
   "outputs": [],
   "source": [
    "# 최적의 하이퍼파라미터 조합으로 다시 모델링\n",
    "# 모델 객체생성 -> 하이퍼파라미터 조절\n",
    "# 모델 학습\n",
    "# 모델 예측\n",
    "# 제출"
   ]
  },
  {
   "cell_type": "code",
   "execution_count": 1408,
   "id": "277676e7",
   "metadata": {},
   "outputs": [
    {
     "name": "stdout",
     "output_type": "stream",
     "text": [
      "0.8170359676103194\n"
     ]
    }
   ],
   "source": [
    "# 자영\n",
    "# 최적의 하이퍼파라미터 조합으로 다시 모델링\n",
    "\n",
    "# 모델 객체생성 -> 하이퍼파라미터 조절\n",
    "forest_model_best = RandomForestClassifier(n_estimators=200,\n",
    "                                       max_depth=5,\n",
    "                                       max_leaf_nodes=6,\n",
    "                                       min_samples_split = 3) \n",
    "print(cross_val_score(forest_model_best, onehot_X_train, y_train, cv=5).mean())\n",
    "# 모델 학습\n",
    "forest_model_best.fit(onehot_X_train, y_train)\n",
    "\n",
    "# 모델 예측\n",
    "pre_forest_best = forest_model_best.predict(onehot_X_test)\n"
   ]
  },
  {
   "cell_type": "code",
   "execution_count": 1410,
   "id": "4c717b65",
   "metadata": {},
   "outputs": [],
   "source": [
    "# #자영\n",
    "# # 제출\n",
    "# result_submission2 = pd.read_csv('data/gender_submission.csv') # 정답지 가져오기\n",
    "# result_submission['Survived'] = pre_forest_best\n",
    "# result_submission\n",
    "\n",
    "# result_submission.to_csv('data/kaggle_pre_forest_best.csv', index = False) # 자: 인덱스 제거해서 보내야함\n"
   ]
  },
  {
   "cell_type": "code",
   "execution_count": 1411,
   "id": "827c2930",
   "metadata": {},
   "outputs": [
    {
     "data": {
      "text/plain": [
       "array([0, 1, 0, 0, 1, 0, 1, 0, 1, 0, 0, 0, 1, 0, 1, 1, 0, 0, 1, 1, 0, 0,\n",
       "       1, 0, 1, 0, 1, 0, 0, 0, 0, 0, 1, 1, 0, 0, 1, 1, 0, 0, 0, 0, 0, 1,\n",
       "       1, 0, 0, 0, 1, 1, 0, 0, 1, 1, 0, 0, 0, 0, 0, 1, 0, 0, 0, 1, 1, 1,\n",
       "       1, 0, 0, 1, 1, 0, 1, 0, 1, 0, 0, 1, 0, 1, 1, 0, 0, 0, 0, 0, 1, 1,\n",
       "       1, 1, 1, 0, 1, 0, 0, 0, 1, 0, 1, 0, 1, 0, 0, 0, 1, 0, 0, 0, 0, 0,\n",
       "       0, 1, 1, 1, 1, 0, 0, 1, 0, 1, 1, 0, 1, 0, 0, 1, 0, 1, 0, 0, 0, 0,\n",
       "       0, 0, 0, 0, 0, 0, 1, 0, 0, 1, 0, 0, 0, 0, 0, 0, 0, 0, 1, 0, 0, 1,\n",
       "       0, 0, 1, 1, 0, 1, 1, 0, 1, 0, 0, 1, 0, 0, 1, 1, 0, 0, 0, 0, 0, 1,\n",
       "       1, 0, 1, 1, 0, 0, 1, 0, 1, 0, 1, 0, 0, 0, 0, 0, 0, 0, 0, 0, 1, 1,\n",
       "       0, 1, 1, 1, 1, 1, 0, 0, 1, 0, 1, 0, 0, 0, 0, 1, 0, 0, 1, 0, 1, 0,\n",
       "       1, 0, 1, 0, 1, 1, 0, 1, 0, 0, 0, 1, 0, 0, 0, 0, 0, 0, 1, 1, 1, 1,\n",
       "       0, 0, 0, 0, 1, 0, 1, 1, 1, 0, 0, 0, 0, 0, 0, 0, 1, 0, 0, 0, 1, 1,\n",
       "       0, 0, 0, 0, 1, 0, 0, 0, 1, 1, 0, 1, 0, 0, 0, 0, 1, 1, 1, 1, 1, 0,\n",
       "       0, 0, 0, 0, 0, 1, 0, 1, 0, 0, 1, 0, 0, 0, 0, 0, 0, 0, 1, 1, 0, 1,\n",
       "       0, 1, 0, 0, 0, 1, 1, 1, 0, 0, 0, 0, 0, 0, 0, 0, 1, 0, 1, 0, 0, 0,\n",
       "       1, 0, 0, 1, 0, 0, 0, 0, 0, 0, 0, 0, 0, 1, 0, 1, 0, 1, 0, 1, 1, 0,\n",
       "       0, 0, 1, 0, 1, 0, 0, 1, 0, 1, 1, 0, 1, 1, 0, 1, 1, 0, 0, 1, 0, 0,\n",
       "       1, 1, 1, 0, 0, 0, 0, 0, 1, 1, 0, 1, 0, 0, 0, 0, 0, 1, 0, 0, 0, 1,\n",
       "       0, 1, 0, 0, 1, 0, 1, 0, 0, 0, 0, 0, 1, 1, 1, 1, 1, 0, 1, 0, 0, 0],\n",
       "      dtype=int64)"
      ]
     },
     "execution_count": 1411,
     "metadata": {},
     "output_type": "execute_result"
    }
   ],
   "source": [
    "# 쌤풀이\n",
    "# 최적의 하이퍼파라미터 조합으로 다시 모델링\n",
    "# 모델객체생성 -> 하이퍼파라미터조절\n",
    "rf_model = RandomForestClassifier(n_estimators=200,\n",
    "                                  max_depth=5,\n",
    "                                  max_leaf_nodes=6,\n",
    "                                  min_samples_split=3)\n",
    "# 모델학습\n",
    "rf_model.fit(onehot_X_train,y_train)\n",
    "# 모델예측\n",
    "rf_model.predict(onehot_X_test)"
   ]
  },
  {
   "cell_type": "code",
   "execution_count": 1426,
   "id": "2de0b5f0",
   "metadata": {},
   "outputs": [
    {
     "name": "stdout",
     "output_type": "stream",
     "text": [
      "1 번째 오차 제곱 0.25\n",
      "2 번째 오차 제곱 1.0\n",
      "3 번째 오차 제곱 2.25\n",
      "error sum:  3.5\n",
      "mse :  1.1666666666666667\n"
     ]
    }
   ],
   "source": [
    "sum = 0\n",
    "for i in range(1,4):\n",
    "    e = ((0.5 * i) - (1*i))**2 \n",
    "    print(i, '번째 오차 제곱', e)\n",
    "    sum = sum + e\n",
    "print('error sum: ', sum)    \n",
    "print('mse : ',sum / 3) #0.75"
   ]
  }
 ],
 "metadata": {
  "kernelspec": {
   "display_name": "Python 3 (ipykernel)",
   "language": "python",
   "name": "python3"
  },
  "language_info": {
   "codemirror_mode": {
    "name": "ipython",
    "version": 3
   },
   "file_extension": ".py",
   "mimetype": "text/x-python",
   "name": "python",
   "nbconvert_exporter": "python",
   "pygments_lexer": "ipython3",
   "version": "3.11.5"
  }
 },
 "nbformat": 4,
 "nbformat_minor": 5
}
