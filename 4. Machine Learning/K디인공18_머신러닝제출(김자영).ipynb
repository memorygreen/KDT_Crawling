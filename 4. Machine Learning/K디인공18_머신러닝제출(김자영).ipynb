{
 "cells": [
  {
   "cell_type": "markdown",
   "id": "79cfe96a",
   "metadata": {},
   "source": [
    "### Q1"
   ]
  },
  {
   "cell_type": "code",
   "execution_count": 1,
   "id": "0d15c78e",
   "metadata": {},
   "outputs": [
    {
     "data": {
      "text/plain": [
       "5"
      ]
     },
     "execution_count": 1,
     "metadata": {},
     "output_type": "execute_result"
    }
   ],
   "source": [
    "#1-1\n",
    "\n",
    "# 지도학습\n",
    "1,2, 6\n",
    "\n",
    "#비지도 학습\n",
    "3, 4, 5"
   ]
  },
  {
   "cell_type": "code",
   "execution_count": null,
   "id": "96d3ce2e",
   "metadata": {},
   "outputs": [],
   "source": [
    "# 1-2\n",
    "ㅁ-ㄱ-ㄷ-ㄴ-ㄹ"
   ]
  },
  {
   "cell_type": "markdown",
   "id": "979a50f6",
   "metadata": {},
   "source": [
    "### Q2"
   ]
  },
  {
   "cell_type": "code",
   "execution_count": null,
   "id": "147bf852",
   "metadata": {},
   "outputs": [],
   "source": [
    "#2-1\n",
    "ㄱ. a\n",
    "ㄴ. b\n",
    "ㄷ. a\n",
    "ㄹ. b"
   ]
  },
  {
   "cell_type": "markdown",
   "id": "f58bc57e",
   "metadata": {},
   "source": [
    "### Q3"
   ]
  },
  {
   "cell_type": "code",
   "execution_count": null,
   "id": "b2ca9df0",
   "metadata": {},
   "outputs": [],
   "source": [
    "#3-1\n",
    "=>지도학습"
   ]
  },
  {
   "cell_type": "code",
   "execution_count": null,
   "id": "4cf28a95",
   "metadata": {},
   "outputs": [],
   "source": [
    "#3-2\n",
    "=> 비지도학습"
   ]
  },
  {
   "cell_type": "markdown",
   "id": "7d54df8e",
   "metadata": {},
   "source": [
    "### Q4"
   ]
  },
  {
   "cell_type": "code",
   "execution_count": null,
   "id": "e1180cc9",
   "metadata": {},
   "outputs": [],
   "source": [
    "# 4-1\n",
    "=>3,4"
   ]
  },
  {
   "cell_type": "code",
   "execution_count": null,
   "id": "85e1f2f5",
   "metadata": {},
   "outputs": [],
   "source": [
    "# 4-2\n",
    "과대적합"
   ]
  },
  {
   "cell_type": "code",
   "execution_count": null,
   "id": "ce24a0e6",
   "metadata": {},
   "outputs": [],
   "source": [
    "# 4-3\n",
    "=>7:3"
   ]
  },
  {
   "cell_type": "markdown",
   "id": "d1cd79df",
   "metadata": {},
   "source": [
    "### Q5"
   ]
  },
  {
   "cell_type": "code",
   "execution_count": null,
   "id": "11e74fbb",
   "metadata": {},
   "outputs": [],
   "source": [
    "#5-1\n",
    "=>2"
   ]
  },
  {
   "cell_type": "markdown",
   "id": "60b359eb",
   "metadata": {},
   "source": [
    "### Q6"
   ]
  },
  {
   "cell_type": "code",
   "execution_count": null,
   "id": "94f4aacf",
   "metadata": {},
   "outputs": [],
   "source": [
    "#6-1\n",
    "=>1,4"
   ]
  },
  {
   "cell_type": "code",
   "execution_count": 6,
   "id": "af4ca4b7",
   "metadata": {},
   "outputs": [],
   "source": [
    "# 6-2\n",
    "\n",
    "\n",
    "# 라이브러리 불러오기\n",
    "import numpy as np\n",
    "import pandas as pd\n",
    "import matplotlib.pyplot as plt\n",
    "\n",
    "from sklearn.datasets import load_iris # iris 데이터셋 불러오기\n",
    "from sklearn.model_selection import train_test_split \n",
    "from sklearn.neighbors import KNeighborsClassifier # KNN\n",
    "from sklearn.model_selection import cross_val_score # 교차검증\n",
    "\n",
    "from sklearn.metrics import accuracy_score # 정확도\n",
    "\n",
    "\n"
   ]
  },
  {
   "cell_type": "code",
   "execution_count": 8,
   "id": "a93dd865",
   "metadata": {
    "collapsed": true
   },
   "outputs": [
    {
     "data": {
      "text/html": [
       "<div>\n",
       "<style scoped>\n",
       "    .dataframe tbody tr th:only-of-type {\n",
       "        vertical-align: middle;\n",
       "    }\n",
       "\n",
       "    .dataframe tbody tr th {\n",
       "        vertical-align: top;\n",
       "    }\n",
       "\n",
       "    .dataframe thead th {\n",
       "        text-align: right;\n",
       "    }\n",
       "</style>\n",
       "<table border=\"1\" class=\"dataframe\">\n",
       "  <thead>\n",
       "    <tr style=\"text-align: right;\">\n",
       "      <th></th>\n",
       "      <th>sepal length (cm)</th>\n",
       "      <th>sepal width (cm)</th>\n",
       "      <th>petal length (cm)</th>\n",
       "      <th>petal width (cm)</th>\n",
       "    </tr>\n",
       "  </thead>\n",
       "  <tbody>\n",
       "    <tr>\n",
       "      <th>0</th>\n",
       "      <td>5.1</td>\n",
       "      <td>3.5</td>\n",
       "      <td>1.4</td>\n",
       "      <td>0.2</td>\n",
       "    </tr>\n",
       "    <tr>\n",
       "      <th>1</th>\n",
       "      <td>4.9</td>\n",
       "      <td>3.0</td>\n",
       "      <td>1.4</td>\n",
       "      <td>0.2</td>\n",
       "    </tr>\n",
       "    <tr>\n",
       "      <th>2</th>\n",
       "      <td>4.7</td>\n",
       "      <td>3.2</td>\n",
       "      <td>1.3</td>\n",
       "      <td>0.2</td>\n",
       "    </tr>\n",
       "    <tr>\n",
       "      <th>3</th>\n",
       "      <td>4.6</td>\n",
       "      <td>3.1</td>\n",
       "      <td>1.5</td>\n",
       "      <td>0.2</td>\n",
       "    </tr>\n",
       "    <tr>\n",
       "      <th>4</th>\n",
       "      <td>5.0</td>\n",
       "      <td>3.6</td>\n",
       "      <td>1.4</td>\n",
       "      <td>0.2</td>\n",
       "    </tr>\n",
       "    <tr>\n",
       "      <th>...</th>\n",
       "      <td>...</td>\n",
       "      <td>...</td>\n",
       "      <td>...</td>\n",
       "      <td>...</td>\n",
       "    </tr>\n",
       "    <tr>\n",
       "      <th>145</th>\n",
       "      <td>6.7</td>\n",
       "      <td>3.0</td>\n",
       "      <td>5.2</td>\n",
       "      <td>2.3</td>\n",
       "    </tr>\n",
       "    <tr>\n",
       "      <th>146</th>\n",
       "      <td>6.3</td>\n",
       "      <td>2.5</td>\n",
       "      <td>5.0</td>\n",
       "      <td>1.9</td>\n",
       "    </tr>\n",
       "    <tr>\n",
       "      <th>147</th>\n",
       "      <td>6.5</td>\n",
       "      <td>3.0</td>\n",
       "      <td>5.2</td>\n",
       "      <td>2.0</td>\n",
       "    </tr>\n",
       "    <tr>\n",
       "      <th>148</th>\n",
       "      <td>6.2</td>\n",
       "      <td>3.4</td>\n",
       "      <td>5.4</td>\n",
       "      <td>2.3</td>\n",
       "    </tr>\n",
       "    <tr>\n",
       "      <th>149</th>\n",
       "      <td>5.9</td>\n",
       "      <td>3.0</td>\n",
       "      <td>5.1</td>\n",
       "      <td>1.8</td>\n",
       "    </tr>\n",
       "  </tbody>\n",
       "</table>\n",
       "<p>150 rows × 4 columns</p>\n",
       "</div>"
      ],
      "text/plain": [
       "     sepal length (cm)  sepal width (cm)  petal length (cm)  petal width (cm)\n",
       "0                  5.1               3.5                1.4               0.2\n",
       "1                  4.9               3.0                1.4               0.2\n",
       "2                  4.7               3.2                1.3               0.2\n",
       "3                  4.6               3.1                1.5               0.2\n",
       "4                  5.0               3.6                1.4               0.2\n",
       "..                 ...               ...                ...               ...\n",
       "145                6.7               3.0                5.2               2.3\n",
       "146                6.3               2.5                5.0               1.9\n",
       "147                6.5               3.0                5.2               2.0\n",
       "148                6.2               3.4                5.4               2.3\n",
       "149                5.9               3.0                5.1               1.8\n",
       "\n",
       "[150 rows x 4 columns]"
      ]
     },
     "execution_count": 8,
     "metadata": {},
     "output_type": "execute_result"
    }
   ],
   "source": [
    "#6-2(1) iris data 불러오기\n",
    "iris_data = load_iris()\n",
    "iris_data\n",
    "\n",
    "iris_df = pd.DataFrame(iris_data['data'], columns=iris_data['feature_names'])\n",
    "iris_df"
   ]
  },
  {
   "cell_type": "code",
   "execution_count": 11,
   "id": "e251cd0d",
   "metadata": {},
   "outputs": [],
   "source": [
    "# 6-2(2) iris data를 문제와 답으로 분리\n",
    "X = iris_df\n",
    "y = iris_data['target']"
   ]
  },
  {
   "cell_type": "code",
   "execution_count": 42,
   "id": "90186638",
   "metadata": {},
   "outputs": [],
   "source": [
    "# 6-2(3) 분리된 문제와 답을 train data와 test data로 분리\n",
    "X_train, X_test, y_train, y_test = train_test_split(X, y,\n",
    "                                    test_size = 0.3,\n",
    "                                    random_state=30,\n",
    "                                    stratify=y)"
   ]
  },
  {
   "cell_type": "code",
   "execution_count": 44,
   "id": "9fd6249b",
   "metadata": {},
   "outputs": [
    {
     "data": {
      "text/html": [
       "<style>#sk-container-id-4 {color: black;}#sk-container-id-4 pre{padding: 0;}#sk-container-id-4 div.sk-toggleable {background-color: white;}#sk-container-id-4 label.sk-toggleable__label {cursor: pointer;display: block;width: 100%;margin-bottom: 0;padding: 0.3em;box-sizing: border-box;text-align: center;}#sk-container-id-4 label.sk-toggleable__label-arrow:before {content: \"▸\";float: left;margin-right: 0.25em;color: #696969;}#sk-container-id-4 label.sk-toggleable__label-arrow:hover:before {color: black;}#sk-container-id-4 div.sk-estimator:hover label.sk-toggleable__label-arrow:before {color: black;}#sk-container-id-4 div.sk-toggleable__content {max-height: 0;max-width: 0;overflow: hidden;text-align: left;background-color: #f0f8ff;}#sk-container-id-4 div.sk-toggleable__content pre {margin: 0.2em;color: black;border-radius: 0.25em;background-color: #f0f8ff;}#sk-container-id-4 input.sk-toggleable__control:checked~div.sk-toggleable__content {max-height: 200px;max-width: 100%;overflow: auto;}#sk-container-id-4 input.sk-toggleable__control:checked~label.sk-toggleable__label-arrow:before {content: \"▾\";}#sk-container-id-4 div.sk-estimator input.sk-toggleable__control:checked~label.sk-toggleable__label {background-color: #d4ebff;}#sk-container-id-4 div.sk-label input.sk-toggleable__control:checked~label.sk-toggleable__label {background-color: #d4ebff;}#sk-container-id-4 input.sk-hidden--visually {border: 0;clip: rect(1px 1px 1px 1px);clip: rect(1px, 1px, 1px, 1px);height: 1px;margin: -1px;overflow: hidden;padding: 0;position: absolute;width: 1px;}#sk-container-id-4 div.sk-estimator {font-family: monospace;background-color: #f0f8ff;border: 1px dotted black;border-radius: 0.25em;box-sizing: border-box;margin-bottom: 0.5em;}#sk-container-id-4 div.sk-estimator:hover {background-color: #d4ebff;}#sk-container-id-4 div.sk-parallel-item::after {content: \"\";width: 100%;border-bottom: 1px solid gray;flex-grow: 1;}#sk-container-id-4 div.sk-label:hover label.sk-toggleable__label {background-color: #d4ebff;}#sk-container-id-4 div.sk-serial::before {content: \"\";position: absolute;border-left: 1px solid gray;box-sizing: border-box;top: 0;bottom: 0;left: 50%;z-index: 0;}#sk-container-id-4 div.sk-serial {display: flex;flex-direction: column;align-items: center;background-color: white;padding-right: 0.2em;padding-left: 0.2em;position: relative;}#sk-container-id-4 div.sk-item {position: relative;z-index: 1;}#sk-container-id-4 div.sk-parallel {display: flex;align-items: stretch;justify-content: center;background-color: white;position: relative;}#sk-container-id-4 div.sk-item::before, #sk-container-id-4 div.sk-parallel-item::before {content: \"\";position: absolute;border-left: 1px solid gray;box-sizing: border-box;top: 0;bottom: 0;left: 50%;z-index: -1;}#sk-container-id-4 div.sk-parallel-item {display: flex;flex-direction: column;z-index: 1;position: relative;background-color: white;}#sk-container-id-4 div.sk-parallel-item:first-child::after {align-self: flex-end;width: 50%;}#sk-container-id-4 div.sk-parallel-item:last-child::after {align-self: flex-start;width: 50%;}#sk-container-id-4 div.sk-parallel-item:only-child::after {width: 0;}#sk-container-id-4 div.sk-dashed-wrapped {border: 1px dashed gray;margin: 0 0.4em 0.5em 0.4em;box-sizing: border-box;padding-bottom: 0.4em;background-color: white;}#sk-container-id-4 div.sk-label label {font-family: monospace;font-weight: bold;display: inline-block;line-height: 1.2em;}#sk-container-id-4 div.sk-label-container {text-align: center;}#sk-container-id-4 div.sk-container {/* jupyter's `normalize.less` sets `[hidden] { display: none; }` but bootstrap.min.css set `[hidden] { display: none !important; }` so we also need the `!important` here to be able to override the default hidden behavior on the sphinx rendered scikit-learn.org. See: https://github.com/scikit-learn/scikit-learn/issues/21755 */display: inline-block !important;position: relative;}#sk-container-id-4 div.sk-text-repr-fallback {display: none;}</style><div id=\"sk-container-id-4\" class=\"sk-top-container\"><div class=\"sk-text-repr-fallback\"><pre>KNeighborsClassifier(n_neighbors=3)</pre><b>In a Jupyter environment, please rerun this cell to show the HTML representation or trust the notebook. <br />On GitHub, the HTML representation is unable to render, please try loading this page with nbviewer.org.</b></div><div class=\"sk-container\" hidden><div class=\"sk-item\"><div class=\"sk-estimator sk-toggleable\"><input class=\"sk-toggleable__control sk-hidden--visually\" id=\"sk-estimator-id-4\" type=\"checkbox\" checked><label for=\"sk-estimator-id-4\" class=\"sk-toggleable__label sk-toggleable__label-arrow\">KNeighborsClassifier</label><div class=\"sk-toggleable__content\"><pre>KNeighborsClassifier(n_neighbors=3)</pre></div></div></div></div></div>"
      ],
      "text/plain": [
       "KNeighborsClassifier(n_neighbors=3)"
      ]
     },
     "execution_count": 44,
     "metadata": {},
     "output_type": "execute_result"
    }
   ],
   "source": [
    "# 6-2(4) KNN분류기 모델 생성 (이웃 수는 3)\n",
    "knn = KNeighborsClassifier(n_neighbors=3)\n",
    "knn.fit(X_train, y_train)"
   ]
  },
  {
   "cell_type": "code",
   "execution_count": 47,
   "id": "25ff1bbc",
   "metadata": {
    "scrolled": false
   },
   "outputs": [],
   "source": [
    "# 6-2(5) 교차검증 실행 (5 조각으로 나눠 진행)\n",
    "result = cross_val_score(knn, X_train, y_train, cv=5)\n"
   ]
  },
  {
   "cell_type": "code",
   "execution_count": 46,
   "id": "2870a4b4",
   "metadata": {},
   "outputs": [
    {
     "name": "stdout",
     "output_type": "stream",
     "text": [
      "[0.95238095 1.         1.         0.95238095 1.        ]\n",
      "평균점수 0.980952380952381\n"
     ]
    }
   ],
   "source": [
    "# 6-2(6) 결과 확인\n",
    "print(result)\n",
    "print('평균점수', result.mean())\n"
   ]
  },
  {
   "cell_type": "markdown",
   "id": "cd379baf",
   "metadata": {},
   "source": [
    "### Q7"
   ]
  },
  {
   "cell_type": "code",
   "execution_count": 49,
   "id": "486bca45",
   "metadata": {
    "collapsed": true
   },
   "outputs": [
    {
     "ename": "SyntaxError",
     "evalue": "invalid syntax (2994305519.py, line 2)",
     "output_type": "error",
     "traceback": [
      "\u001b[1;36m  Cell \u001b[1;32mIn[49], line 2\u001b[1;36m\u001b[0m\n\u001b[1;33m    => 1\u001b[0m\n\u001b[1;37m    ^\u001b[0m\n\u001b[1;31mSyntaxError\u001b[0m\u001b[1;31m:\u001b[0m invalid syntax\n"
     ]
    }
   ],
   "source": [
    "#7-1\n",
    "=> 1"
   ]
  },
  {
   "cell_type": "markdown",
   "id": "c186be89",
   "metadata": {},
   "source": [
    "### Q8"
   ]
  },
  {
   "cell_type": "code",
   "execution_count": null,
   "id": "5508d0b6",
   "metadata": {},
   "outputs": [],
   "source": [
    "# 8-1\n",
    "=> One-hot encoding"
   ]
  },
  {
   "cell_type": "code",
   "execution_count": null,
   "id": "f9c96df4",
   "metadata": {},
   "outputs": [],
   "source": [
    "# 8-2\n",
    "=>1, 3"
   ]
  },
  {
   "cell_type": "markdown",
   "id": "7ca694e0",
   "metadata": {},
   "source": [
    "### Q9"
   ]
  },
  {
   "cell_type": "code",
   "execution_count": null,
   "id": "8ff2d32e",
   "metadata": {},
   "outputs": [],
   "source": [
    "# 9-1\n",
    "=>2, 3,6 ,8"
   ]
  },
  {
   "cell_type": "code",
   "execution_count": null,
   "id": "68b032b4",
   "metadata": {},
   "outputs": [],
   "source": [
    "# 9-2\n",
    "=>2,3, 5, 7"
   ]
  },
  {
   "cell_type": "code",
   "execution_count": null,
   "id": "0f8fa0cf",
   "metadata": {},
   "outputs": [],
   "source": [
    "# 9-3(1) 트리의 최대 깊이\n",
    "=>max_depth\n",
    "\n",
    "# 9-3(2) 리프 노드의 최대 개수\n",
    "=>max_leaf_nodes\n",
    "\n",
    "# 9-3(3) 리프 노드로 분리가능한 최소 샘플의 개수\n",
    "=> min_samples_split\n",
    "\n",
    "# 9-3(4) 리프노드를 구성하는 최소 샘플의 개수\n",
    "=>min_samples_leaf"
   ]
  },
  {
   "cell_type": "markdown",
   "id": "ecb21f87",
   "metadata": {},
   "source": [
    "### Q10"
   ]
  },
  {
   "cell_type": "code",
   "execution_count": null,
   "id": "4b55356f",
   "metadata": {},
   "outputs": [],
   "source": [
    "# 10-1\n",
    "=>3, 4, 6"
   ]
  },
  {
   "cell_type": "markdown",
   "id": "fc503441",
   "metadata": {},
   "source": [
    "### Q11"
   ]
  },
  {
   "cell_type": "code",
   "execution_count": null,
   "id": "85a92c7b",
   "metadata": {},
   "outputs": [],
   "source": [
    "# 11-1\n",
    "=>1,3,5"
   ]
  },
  {
   "cell_type": "markdown",
   "id": "7bb68a41",
   "metadata": {},
   "source": [
    "### Q12"
   ]
  },
  {
   "cell_type": "code",
   "execution_count": null,
   "id": "9a9c5a6b",
   "metadata": {},
   "outputs": [],
   "source": [
    "# 12-1 \n",
    "\n",
    "#- 정밀도가 중요한 사례\n",
    "=> 2, 3\n",
    "#- 재현율이 중요한 사례\n",
    "=> 1, 4"
   ]
  },
  {
   "cell_type": "code",
   "execution_count": null,
   "id": "5ca82bb1",
   "metadata": {},
   "outputs": [],
   "source": [
    "# 12-2(1) 정확도\n",
    "=>95\n",
    "\n",
    "# 12-2(2) 재현율\n",
    "=>0\n",
    "\n",
    "# 12-2(3) 정밀도\n",
    "=> 연산 불가(0 나누기 0은 연산 불가)\n"
   ]
  },
  {
   "cell_type": "code",
   "execution_count": null,
   "id": "00dd18d1",
   "metadata": {},
   "outputs": [],
   "source": [
    "# 12-3\n",
    "=> 3,4,5,7"
   ]
  }
 ],
 "metadata": {
  "kernelspec": {
   "display_name": "Python 3 (ipykernel)",
   "language": "python",
   "name": "python3"
  },
  "language_info": {
   "codemirror_mode": {
    "name": "ipython",
    "version": 3
   },
   "file_extension": ".py",
   "mimetype": "text/x-python",
   "name": "python",
   "nbconvert_exporter": "python",
   "pygments_lexer": "ipython3",
   "version": "3.11.5"
  }
 },
 "nbformat": 4,
 "nbformat_minor": 5
}
