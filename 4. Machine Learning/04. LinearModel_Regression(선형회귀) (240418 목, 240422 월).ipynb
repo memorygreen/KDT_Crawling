{
 "cells": [
  {
   "cell_type": "markdown",
   "id": "c2b5d48f",
   "metadata": {},
   "source": [
    "### 목표\n",
    "- 선형 회귀 이론에 대해서 알아보자\n",
    "- 선형 회귀 모델의 원리를 직접 구현\n",
    "- 공부 시간에 따른 성적데이터를 예측 "
   ]
  },
  {
   "cell_type": "code",
   "execution_count": 179,
   "id": "ffc0e14d",
   "metadata": {},
   "outputs": [],
   "source": [
    "# 기본 라이브러리 \n",
    "import numpy as np\n",
    "import pandas as pd\n",
    "import matplotlib.pyplot as plt"
   ]
  },
  {
   "cell_type": "code",
   "execution_count": 180,
   "id": "5648a175",
   "metadata": {},
   "outputs": [
    {
     "data": {
      "text/html": [
       "<div>\n",
       "<style scoped>\n",
       "    .dataframe tbody tr th:only-of-type {\n",
       "        vertical-align: middle;\n",
       "    }\n",
       "\n",
       "    .dataframe tbody tr th {\n",
       "        vertical-align: top;\n",
       "    }\n",
       "\n",
       "    .dataframe thead th {\n",
       "        text-align: right;\n",
       "    }\n",
       "</style>\n",
       "<table border=\"1\" class=\"dataframe\">\n",
       "  <thead>\n",
       "    <tr style=\"text-align: right;\">\n",
       "      <th></th>\n",
       "      <th>시간</th>\n",
       "      <th>성적</th>\n",
       "    </tr>\n",
       "  </thead>\n",
       "  <tbody>\n",
       "    <tr>\n",
       "      <th>김가가</th>\n",
       "      <td>2</td>\n",
       "      <td>20</td>\n",
       "    </tr>\n",
       "    <tr>\n",
       "      <th>박나나</th>\n",
       "      <td>4</td>\n",
       "      <td>40</td>\n",
       "    </tr>\n",
       "    <tr>\n",
       "      <th>이다다</th>\n",
       "      <td>8</td>\n",
       "      <td>80</td>\n",
       "    </tr>\n",
       "    <tr>\n",
       "      <th>최라라</th>\n",
       "      <td>9</td>\n",
       "      <td>90</td>\n",
       "    </tr>\n",
       "  </tbody>\n",
       "</table>\n",
       "</div>"
      ],
      "text/plain": [
       "     시간  성적\n",
       "김가가   2  20\n",
       "박나나   4  40\n",
       "이다다   8  80\n",
       "최라라   9  90"
      ]
     },
     "execution_count": 180,
     "metadata": {},
     "output_type": "execute_result"
    }
   ],
   "source": [
    "# 공부 시간에 따른 성적 데이터 DataFrame 만들기\n",
    "data = pd.DataFrame({'시간' : [2,4,8,9], '성적' : [20,40,80,90]},\n",
    "            index = ['김가가', '박나나', '이다다', '최라라'])\n",
    "data "
   ]
  },
  {
   "cell_type": "markdown",
   "id": "558b186d",
   "metadata": {},
   "source": [
    "### 선형회귀모델 실습\n",
    "01. LinearRegression\n",
    "    - 단순 수학공식을 활용하여 직선을 찾아나가는 방법으로써 \n",
    "    - 단순선형회귀\n",
    "   "
   ]
  },
  {
   "cell_type": "code",
   "execution_count": 181,
   "id": "749212c8",
   "metadata": {},
   "outputs": [],
   "source": [
    "# 모델 불러오기\n",
    "from sklearn.linear_model import LinearRegression"
   ]
  },
  {
   "cell_type": "code",
   "execution_count": 182,
   "id": "1446d2d1",
   "metadata": {
    "scrolled": true
   },
   "outputs": [],
   "source": [
    "# 모델 객체 생성\n",
    "linear_model = LinearRegression()"
   ]
  },
  {
   "cell_type": "code",
   "execution_count": 183,
   "id": "d19aa80e",
   "metadata": {},
   "outputs": [
    {
     "data": {
      "text/html": [
       "<style>#sk-container-id-15 {color: black;}#sk-container-id-15 pre{padding: 0;}#sk-container-id-15 div.sk-toggleable {background-color: white;}#sk-container-id-15 label.sk-toggleable__label {cursor: pointer;display: block;width: 100%;margin-bottom: 0;padding: 0.3em;box-sizing: border-box;text-align: center;}#sk-container-id-15 label.sk-toggleable__label-arrow:before {content: \"▸\";float: left;margin-right: 0.25em;color: #696969;}#sk-container-id-15 label.sk-toggleable__label-arrow:hover:before {color: black;}#sk-container-id-15 div.sk-estimator:hover label.sk-toggleable__label-arrow:before {color: black;}#sk-container-id-15 div.sk-toggleable__content {max-height: 0;max-width: 0;overflow: hidden;text-align: left;background-color: #f0f8ff;}#sk-container-id-15 div.sk-toggleable__content pre {margin: 0.2em;color: black;border-radius: 0.25em;background-color: #f0f8ff;}#sk-container-id-15 input.sk-toggleable__control:checked~div.sk-toggleable__content {max-height: 200px;max-width: 100%;overflow: auto;}#sk-container-id-15 input.sk-toggleable__control:checked~label.sk-toggleable__label-arrow:before {content: \"▾\";}#sk-container-id-15 div.sk-estimator input.sk-toggleable__control:checked~label.sk-toggleable__label {background-color: #d4ebff;}#sk-container-id-15 div.sk-label input.sk-toggleable__control:checked~label.sk-toggleable__label {background-color: #d4ebff;}#sk-container-id-15 input.sk-hidden--visually {border: 0;clip: rect(1px 1px 1px 1px);clip: rect(1px, 1px, 1px, 1px);height: 1px;margin: -1px;overflow: hidden;padding: 0;position: absolute;width: 1px;}#sk-container-id-15 div.sk-estimator {font-family: monospace;background-color: #f0f8ff;border: 1px dotted black;border-radius: 0.25em;box-sizing: border-box;margin-bottom: 0.5em;}#sk-container-id-15 div.sk-estimator:hover {background-color: #d4ebff;}#sk-container-id-15 div.sk-parallel-item::after {content: \"\";width: 100%;border-bottom: 1px solid gray;flex-grow: 1;}#sk-container-id-15 div.sk-label:hover label.sk-toggleable__label {background-color: #d4ebff;}#sk-container-id-15 div.sk-serial::before {content: \"\";position: absolute;border-left: 1px solid gray;box-sizing: border-box;top: 0;bottom: 0;left: 50%;z-index: 0;}#sk-container-id-15 div.sk-serial {display: flex;flex-direction: column;align-items: center;background-color: white;padding-right: 0.2em;padding-left: 0.2em;position: relative;}#sk-container-id-15 div.sk-item {position: relative;z-index: 1;}#sk-container-id-15 div.sk-parallel {display: flex;align-items: stretch;justify-content: center;background-color: white;position: relative;}#sk-container-id-15 div.sk-item::before, #sk-container-id-15 div.sk-parallel-item::before {content: \"\";position: absolute;border-left: 1px solid gray;box-sizing: border-box;top: 0;bottom: 0;left: 50%;z-index: -1;}#sk-container-id-15 div.sk-parallel-item {display: flex;flex-direction: column;z-index: 1;position: relative;background-color: white;}#sk-container-id-15 div.sk-parallel-item:first-child::after {align-self: flex-end;width: 50%;}#sk-container-id-15 div.sk-parallel-item:last-child::after {align-self: flex-start;width: 50%;}#sk-container-id-15 div.sk-parallel-item:only-child::after {width: 0;}#sk-container-id-15 div.sk-dashed-wrapped {border: 1px dashed gray;margin: 0 0.4em 0.5em 0.4em;box-sizing: border-box;padding-bottom: 0.4em;background-color: white;}#sk-container-id-15 div.sk-label label {font-family: monospace;font-weight: bold;display: inline-block;line-height: 1.2em;}#sk-container-id-15 div.sk-label-container {text-align: center;}#sk-container-id-15 div.sk-container {/* jupyter's `normalize.less` sets `[hidden] { display: none; }` but bootstrap.min.css set `[hidden] { display: none !important; }` so we also need the `!important` here to be able to override the default hidden behavior on the sphinx rendered scikit-learn.org. See: https://github.com/scikit-learn/scikit-learn/issues/21755 */display: inline-block !important;position: relative;}#sk-container-id-15 div.sk-text-repr-fallback {display: none;}</style><div id=\"sk-container-id-15\" class=\"sk-top-container\"><div class=\"sk-text-repr-fallback\"><pre>LinearRegression()</pre><b>In a Jupyter environment, please rerun this cell to show the HTML representation or trust the notebook. <br />On GitHub, the HTML representation is unable to render, please try loading this page with nbviewer.org.</b></div><div class=\"sk-container\" hidden><div class=\"sk-item\"><div class=\"sk-estimator sk-toggleable\"><input class=\"sk-toggleable__control sk-hidden--visually\" id=\"sk-estimator-id-15\" type=\"checkbox\" checked><label for=\"sk-estimator-id-15\" class=\"sk-toggleable__label sk-toggleable__label-arrow\">LinearRegression</label><div class=\"sk-toggleable__content\"><pre>LinearRegression()</pre></div></div></div></div></div>"
      ],
      "text/plain": [
       "LinearRegression()"
      ]
     },
     "execution_count": 183,
     "metadata": {},
     "output_type": "execute_result"
    }
   ],
   "source": [
    "# 모델 학습\n",
    "# 모델명.fit(시간, 성적)  💥 시간(문제) 데이터는 반드시 2차원!!!\n",
    "# (자:특성이 1개더라도!!) #자: 정답은 1차원\n",
    "\n",
    "# 자영풀이\n",
    "X = data[['시간']] # (4, 1)  # 자:2차원 형태 \n",
    "y = data['성적']\n",
    "\n",
    "linear_model.fit(X, y)\n",
    "\n",
    "#쌤풀이\n",
    "linear_model.fit(data[['시간']],data['성적'])\n"
   ]
  },
  {
   "cell_type": "code",
   "execution_count": 184,
   "id": "0aa750cf",
   "metadata": {},
   "outputs": [
    {
     "data": {
      "text/plain": [
       "(4,)"
      ]
     },
     "execution_count": 184,
     "metadata": {},
     "output_type": "execute_result"
    }
   ],
   "source": [
    "# 1차원\n",
    "data['시간'].shape # (4,) "
   ]
  },
  {
   "cell_type": "code",
   "execution_count": 185,
   "id": "bb25c8d4",
   "metadata": {},
   "outputs": [
    {
     "data": {
      "text/plain": [
       "(4, 1)"
      ]
     },
     "execution_count": 185,
     "metadata": {},
     "output_type": "execute_result"
    }
   ],
   "source": [
    "# 2차원\n",
    "data[['시간']].shape # (4, 1) "
   ]
  },
  {
   "cell_type": "code",
   "execution_count": 186,
   "id": "46033aa1",
   "metadata": {},
   "outputs": [
    {
     "name": "stderr",
     "output_type": "stream",
     "text": [
      "C:\\Users\\smhrd\\anaconda3\\Lib\\site-packages\\sklearn\\base.py:464: UserWarning: X does not have valid feature names, but LinearRegression was fitted with feature names\n",
      "  warnings.warn(\n"
     ]
    },
    {
     "data": {
      "text/plain": [
       "array([70.])"
      ]
     },
     "execution_count": 186,
     "metadata": {},
     "output_type": "execute_result"
    }
   ],
   "source": [
    "# 모델 예측\n",
    "# 모델명.predict(문제) -> 문제니까 2차원으로 넣어줘야함\n",
    "# 7시간 공부했을 때 성적은?\n",
    "linear_model.predict([[7]]) # array([70.])\n",
    "# 70점으로 예측"
   ]
  },
  {
   "cell_type": "code",
   "execution_count": 187,
   "id": "aa1dee88",
   "metadata": {},
   "outputs": [
    {
     "name": "stdout",
     "output_type": "stream",
     "text": [
      "가중치(w):  [10.]\n",
      "절편(b):  7.105427357601002e-15\n"
     ]
    }
   ],
   "source": [
    "# 모델이 예측한 가중치(w), 절편(b) 확인\n",
    "# y = wx+b -> 우리가 예상한 그래프 y = 10x + 0\n",
    "print(\"가중치(w): \", linear_model.coef_) # 가중치(w):  [10.]\n",
    "print(\"절편(b): \", linear_model.intercept_) # 절편(b):  7.105427357601002e-15\n",
    "# 절편값이 부동 소수점 (뒤에 있는 숫자만큼 소수점을 앞으로 이동 해석)\n",
    "# 0.0000000000000007... -> 거의 0이라고 생각\n",
    "\n",
    "# 모델의 예측 직선 : y = 10x + 0"
   ]
  },
  {
   "cell_type": "markdown",
   "id": "bd1e7b87",
   "metadata": {},
   "source": [
    "240422 월"
   ]
  },
  {
   "cell_type": "markdown",
   "id": "c0fdbd0c",
   "metadata": {},
   "source": [
    "### 경사하강법\n",
    "- 선형모델 MSE가 최소가 되는 w(가중치), b(절편)을 찾는 방법\n",
    "- 찾고자 하는 값의 변화에 따른 비용함수(cost)값의 변화 그래프를 출력\n",
    "    - 비용함수 : 원래의 값이 가장 오차가 작은 가설 함수를 도출하기 위해 사용하는 함수"
   ]
  },
  {
   "cell_type": "markdown",
   "id": "284b2329",
   "metadata": {},
   "source": [
    "- 가중치 변화에 따른 MSE 변화 그래프 확인"
   ]
  },
  {
   "cell_type": "code",
   "execution_count": 189,
   "id": "98fbb326",
   "metadata": {},
   "outputs": [],
   "source": [
    "# 가설함수 설정 (예측값) #자 : ŷ  (y hat ==y_pre)\n",
    "def h(w,x):\n",
    "    return w * x + 0"
   ]
  },
  {
   "cell_type": "code",
   "execution_count": 190,
   "id": "09eef14f",
   "metadata": {},
   "outputs": [],
   "source": [
    "# 비용함수 (MSE)\n",
    "# ((예측값 - 실제값) ** 2 ).mean()\n",
    "\n",
    "# 자:def cost (실제값, 예측값, 가중치)\n",
    "# 자:def cost (x, y, w)\n",
    "def cost (data, target, weight):\n",
    "    y_pre = h(weight, data) # 이 수식에 의해서 예측값이 나오게 된다\n",
    "    mse = ((y_pre - target) ** 2).mean() \n",
    "    return mse\n",
    "    \n",
    "    "
   ]
  },
  {
   "cell_type": "code",
   "execution_count": 191,
   "id": "63327368",
   "metadata": {},
   "outputs": [
    {
     "data": {
      "text/plain": [
       "0.0"
      ]
     },
     "execution_count": 191,
     "metadata": {},
     "output_type": "execute_result"
    }
   ],
   "source": [
    "# 예측한 가중치 w가 10일때 MSE 값은? > 0\n",
    "# y = 10*x + 0 \n",
    "cost(data['시간'], data['성적'], 10) # 0.0"
   ]
  },
  {
   "cell_type": "code",
   "execution_count": 192,
   "id": "58edbcd2",
   "metadata": {},
   "outputs": [
    {
     "data": {
      "text/plain": [
       "1031.25"
      ]
     },
     "execution_count": 192,
     "metadata": {},
     "output_type": "execute_result"
    }
   ],
   "source": [
    "# 예측한 가중치 w가 5일 경우 \n",
    "cost(data['시간'], data['성적'], 5) # 1031.25"
   ]
  },
  {
   "cell_type": "code",
   "execution_count": 193,
   "id": "a2facd93",
   "metadata": {},
   "outputs": [
    {
     "data": {
      "text/plain": [
       "1031.25"
      ]
     },
     "execution_count": 193,
     "metadata": {},
     "output_type": "execute_result"
    }
   ],
   "source": [
    "# 예측한 가중치 w가 15일 경우 \n",
    "cost(data['시간'], data['성적'], 15) # 1031.25"
   ]
  },
  {
   "cell_type": "code",
   "execution_count": 194,
   "id": "46c58d01",
   "metadata": {},
   "outputs": [
    {
     "data": {
      "text/plain": [
       "2021.25"
      ]
     },
     "execution_count": 194,
     "metadata": {},
     "output_type": "execute_result"
    }
   ],
   "source": [
    "# 예측한 가중치 w가 3일 경우 \n",
    "cost(data['시간'], data['성적'], 3) # 2021.25"
   ]
  },
  {
   "cell_type": "code",
   "execution_count": 195,
   "id": "3ab4a28a",
   "metadata": {},
   "outputs": [
    {
     "data": {
      "text/plain": [
       "[16500.0,\n",
       " 14891.25,\n",
       " 13365.0,\n",
       " 11921.25,\n",
       " 10560.0,\n",
       " 9281.25,\n",
       " 8085.0,\n",
       " 6971.25,\n",
       " 5940.0,\n",
       " 4991.25,\n",
       " 4125.0,\n",
       " 3341.25,\n",
       " 2640.0,\n",
       " 2021.25,\n",
       " 1485.0,\n",
       " 1031.25,\n",
       " 660.0,\n",
       " 371.25,\n",
       " 165.0,\n",
       " 41.25,\n",
       " 0.0,\n",
       " 41.25,\n",
       " 165.0,\n",
       " 371.25,\n",
       " 660.0,\n",
       " 1031.25,\n",
       " 1485.0,\n",
       " 2021.25,\n",
       " 2640.0,\n",
       " 3341.25,\n",
       " 4125.0,\n",
       " 4991.25,\n",
       " 5940.0,\n",
       " 6971.25,\n",
       " 8085.0,\n",
       " 9281.25,\n",
       " 10560.0,\n",
       " 11921.25,\n",
       " 13365.0,\n",
       " 14891.25,\n",
       " 16500.0]"
      ]
     },
     "execution_count": 195,
     "metadata": {},
     "output_type": "execute_result"
    }
   ],
   "source": [
    "# w값에 따른 mse변화율 그래프 그려보기!\n",
    "w_arr = range(-10, 31) #자 : -10~30\n",
    "# 가중치 변화에 따른 mse 값을 리스트에 저장\n",
    "cost_list = []\n",
    "for w in w_arr:\n",
    "    c = cost(data['시간'], data['성적'], w)\n",
    "    cost_list.append(c)\n",
    "cost_list"
   ]
  },
  {
   "cell_type": "code",
   "execution_count": 196,
   "id": "458fba08",
   "metadata": {},
   "outputs": [
    {
     "ename": "TypeError",
     "evalue": "'str' object is not callable",
     "output_type": "error",
     "traceback": [
      "\u001b[1;31m-----------------------------------------------------------\u001b[0m",
      "\u001b[1;31mTypeError\u001b[0m                 Traceback (most recent call last)",
      "Cell \u001b[1;32mIn[196], line 3\u001b[0m\n\u001b[0;32m      1\u001b[0m \u001b[38;5;66;03m# 그래프 출력\u001b[39;00m\n\u001b[0;32m      2\u001b[0m plt\u001b[38;5;241m.\u001b[39mplot(w_arr, cost_list)\n\u001b[1;32m----> 3\u001b[0m plt\u001b[38;5;241m.\u001b[39mxlabel(\u001b[38;5;124m'\u001b[39m\u001b[38;5;124mw\u001b[39m\u001b[38;5;124m'\u001b[39m)\n\u001b[0;32m      4\u001b[0m plt\u001b[38;5;241m.\u001b[39mylabel(\u001b[38;5;124m'\u001b[39m\u001b[38;5;124mmse\u001b[39m\u001b[38;5;124m'\u001b[39m)\n",
      "\u001b[1;31mTypeError\u001b[0m: 'str' object is not callable"
     ]
    },
    {
     "data": {
      "image/png": "[encoded data removed]",
      "text/plain": [
       "<Figure size 640x480 with 1 Axes>"
      ]
     },
     "metadata": {},
     "output_type": "display_data"
    }
   ],
   "source": [
    "# 그래프 출력\n",
    "plt.plot(w_arr, cost_list)\n",
    "plt.xlabel('w')\n",
    "plt.ylabel('mse')"
   ]
  },
  {
   "cell_type": "markdown",
   "id": "20908420",
   "metadata": {},
   "source": [
    "### SGDRegressor\n",
    "- Stochastic Gradient Desecent, 확률적 경사 하강법\n",
    "- 사이킷런에서 구성해놓은 경사하강법을 활용한 선형회귀 \n",
    "- 경사하강법을 이용하는 모델"
   ]
  },
  {
   "cell_type": "code",
   "execution_count": 197,
   "id": "633d548f",
   "metadata": {},
   "outputs": [],
   "source": [
    "# 모델 불러오기~\n",
    "from sklearn.linear_model import SGDRegressor"
   ]
  },
  {
   "cell_type": "code",
   "execution_count": 198,
   "id": "17018b3d",
   "metadata": {},
   "outputs": [],
   "source": [
    "# 모델 객체생성\n",
    "sgd_model = SGDRegressor(eta0=0.001, # learning_rate : 학습률\n",
    "                        max_iter=500, # 반복횟수, 업데이트 횟수\n",
    "                        verbose=1) # 진행상황 출력"
   ]
  },
  {
   "cell_type": "code",
   "execution_count": 199,
   "id": "f41ed410",
   "metadata": {},
   "outputs": [
    {
     "name": "stdout",
     "output_type": "stream",
     "text": [
      "-- Epoch 1\n",
      "Norm: 1.19, NNZs: 1, Bias: 0.172587, T: 4, Avg. loss: 1902.064818\n",
      "Total training time: 0.00 seconds.\n",
      "-- Epoch 2\n",
      "Norm: 2.04, NNZs: 1, Bias: 0.293865, T: 8, Avg. loss: 1496.003802\n",
      "Total training time: 0.00 seconds.\n",
      "-- Epoch 3\n",
      "Norm: 2.73, NNZs: 1, Bias: 0.391502, T: 12, Avg. loss: 1222.558443\n",
      "Total training time: 0.00 seconds.\n",
      "-- Epoch 4\n",
      "Norm: 3.32, NNZs: 1, Bias: 0.473857, T: 16, Avg. loss: 1018.584795\n",
      "Total training time: 0.00 seconds.\n",
      "-- Epoch 5\n",
      "Norm: 3.83, NNZs: 1, Bias: 0.545088, T: 20, Avg. loss: 859.401225\n",
      "Total training time: 0.00 seconds.\n",
      "-- Epoch 6\n",
      "Norm: 4.28, NNZs: 1, Bias: 0.607697, T: 24, Avg. loss: 731.789642\n",
      "Total training time: 0.00 seconds.\n",
      "-- Epoch 7\n",
      "Norm: 4.67, NNZs: 1, Bias: 0.663352, T: 28, Avg. loss: 627.600367\n",
      "Total training time: 0.00 seconds.\n",
      "-- Epoch 8\n",
      "Norm: 5.03, NNZs: 1, Bias: 0.713248, T: 32, Avg. loss: 541.380743\n",
      "Total training time: 0.00 seconds.\n",
      "-- Epoch 9\n",
      "Norm: 5.35, NNZs: 1, Bias: 0.758277, T: 36, Avg. loss: 469.281461\n",
      "Total training time: 0.00 seconds.\n",
      "-- Epoch 10\n",
      "Norm: 5.65, NNZs: 1, Bias: 0.799132, T: 40, Avg. loss: 408.479777\n",
      "Total training time: 0.00 seconds.\n",
      "-- Epoch 11\n",
      "Norm: 5.91, NNZs: 1, Bias: 0.836366, T: 44, Avg. loss: 356.846108\n",
      "Total training time: 0.00 seconds.\n",
      "-- Epoch 12\n",
      "Norm: 6.16, NNZs: 1, Bias: 0.870426, T: 48, Avg. loss: 312.738003\n",
      "Total training time: 0.00 seconds.\n",
      "-- Epoch 13\n",
      "Norm: 6.38, NNZs: 1, Bias: 0.901684, T: 52, Avg. loss: 274.866173\n",
      "Total training time: 0.00 seconds.\n",
      "-- Epoch 14\n",
      "Norm: 6.59, NNZs: 1, Bias: 0.930449, T: 56, Avg. loss: 242.203822\n",
      "Total training time: 0.00 seconds.\n",
      "-- Epoch 15\n",
      "Norm: 6.78, NNZs: 1, Bias: 0.956987, T: 60, Avg. loss: 213.923275\n",
      "Total training time: 0.00 seconds.\n",
      "-- Epoch 16\n",
      "Norm: 6.96, NNZs: 1, Bias: 0.981523, T: 64, Avg. loss: 189.350493\n",
      "Total training time: 0.00 seconds.\n",
      "-- Epoch 17\n",
      "Norm: 7.12, NNZs: 1, Bias: 1.004253, T: 68, Avg. loss: 167.931690\n",
      "Total training time: 0.00 seconds.\n",
      "-- Epoch 18\n",
      "Norm: 7.28, NNZs: 1, Bias: 1.025346, T: 72, Avg. loss: 149.208377\n",
      "Total training time: 0.00 seconds.\n",
      "-- Epoch 19\n",
      "Norm: 7.42, NNZs: 1, Bias: 1.044952, T: 76, Avg. loss: 132.798384\n",
      "Total training time: 0.00 seconds.\n",
      "-- Epoch 20\n",
      "Norm: 7.55, NNZs: 1, Bias: 1.063202, T: 80, Avg. loss: 118.381249\n",
      "Total training time: 0.00 seconds.\n",
      "-- Epoch 21\n",
      "Norm: 7.68, NNZs: 1, Bias: 1.080213, T: 84, Avg. loss: 105.686807\n",
      "Total training time: 0.00 seconds.\n",
      "-- Epoch 22\n",
      "Norm: 7.79, NNZs: 1, Bias: 1.096087, T: 88, Avg. loss: 94.486193\n",
      "Total training time: 0.00 seconds.\n",
      "-- Epoch 23\n",
      "Norm: 7.90, NNZs: 1, Bias: 1.110918, T: 92, Avg. loss: 84.584682\n",
      "Total training time: 0.00 seconds.\n",
      "-- Epoch 24\n",
      "Norm: 8.00, NNZs: 1, Bias: 1.124789, T: 96, Avg. loss: 75.815935\n",
      "Total training time: 0.00 seconds.\n",
      "-- Epoch 25\n",
      "Norm: 8.09, NNZs: 1, Bias: 1.137774, T: 100, Avg. loss: 68.037341\n",
      "Total training time: 0.00 seconds.\n",
      "-- Epoch 26\n",
      "Norm: 8.18, NNZs: 1, Bias: 1.149941, T: 104, Avg. loss: 61.126225\n",
      "Total training time: 0.00 seconds.\n",
      "-- Epoch 27\n",
      "Norm: 8.27, NNZs: 1, Bias: 1.161351, T: 108, Avg. loss: 54.976729\n",
      "Total training time: 0.00 seconds.\n",
      "-- Epoch 28\n",
      "Norm: 8.35, NNZs: 1, Bias: 1.172059, T: 112, Avg. loss: 49.497250\n",
      "Total training time: 0.00 seconds.\n",
      "-- Epoch 29\n",
      "Norm: 8.42, NNZs: 1, Bias: 1.182117, T: 116, Avg. loss: 44.608305\n",
      "Total training time: 0.00 seconds.\n",
      "-- Epoch 30\n",
      "Norm: 8.49, NNZs: 1, Bias: 1.191569, T: 120, Avg. loss: 40.240756\n",
      "Total training time: 0.00 seconds.\n",
      "-- Epoch 31\n",
      "Norm: 8.56, NNZs: 1, Bias: 1.200459, T: 124, Avg. loss: 36.334326\n",
      "Total training time: 0.00 seconds.\n",
      "-- Epoch 32\n",
      "Norm: 8.62, NNZs: 1, Bias: 1.208824, T: 128, Avg. loss: 32.836347\n",
      "Total training time: 0.00 seconds.\n",
      "-- Epoch 33\n",
      "Norm: 8.68, NNZs: 1, Bias: 1.216701, T: 132, Avg. loss: 29.700702\n",
      "Total training time: 0.00 seconds.\n",
      "-- Epoch 34\n",
      "Norm: 8.73, NNZs: 1, Bias: 1.224121, T: 136, Avg. loss: 26.886938\n",
      "Total training time: 0.00 seconds.\n",
      "-- Epoch 35\n",
      "Norm: 8.78, NNZs: 1, Bias: 1.231115, T: 140, Avg. loss: 24.359500\n",
      "Total training time: 0.00 seconds.\n",
      "-- Epoch 36\n",
      "Norm: 8.83, NNZs: 1, Bias: 1.237710, T: 144, Avg. loss: 22.087088\n",
      "Total training time: 0.00 seconds.\n",
      "-- Epoch 37\n",
      "Norm: 8.88, NNZs: 1, Bias: 1.243932, T: 148, Avg. loss: 20.042098\n",
      "Total training time: 0.00 seconds.\n",
      "-- Epoch 38\n",
      "Norm: 8.92, NNZs: 1, Bias: 1.249804, T: 152, Avg. loss: 18.200153\n",
      "Total training time: 0.00 seconds.\n",
      "-- Epoch 39\n",
      "Norm: 8.96, NNZs: 1, Bias: 1.255348, T: 156, Avg. loss: 16.539689\n",
      "Total training time: 0.00 seconds.\n",
      "-- Epoch 40\n",
      "Norm: 9.00, NNZs: 1, Bias: 1.260584, T: 160, Avg. loss: 15.041606\n",
      "Total training time: 0.00 seconds.\n",
      "-- Epoch 41\n",
      "Norm: 9.04, NNZs: 1, Bias: 1.265532, T: 164, Avg. loss: 13.688964\n",
      "Total training time: 0.00 seconds.\n",
      "-- Epoch 42\n",
      "Norm: 9.08, NNZs: 1, Bias: 1.270208, T: 168, Avg. loss: 12.466717\n",
      "Total training time: 0.00 seconds.\n",
      "-- Epoch 43\n",
      "Norm: 9.11, NNZs: 1, Bias: 1.274628, T: 172, Avg. loss: 11.361487\n",
      "Total training time: 0.00 seconds.\n",
      "-- Epoch 44\n",
      "Norm: 9.14, NNZs: 1, Bias: 1.278809, T: 176, Avg. loss: 10.361363\n",
      "Total training time: 0.00 seconds.\n",
      "-- Epoch 45\n",
      "Norm: 9.17, NNZs: 1, Bias: 1.282763, T: 180, Avg. loss: 9.455732\n",
      "Total training time: 0.00 seconds.\n",
      "-- Epoch 46\n",
      "Norm: 9.20, NNZs: 1, Bias: 1.286505, T: 184, Avg. loss: 8.635121\n",
      "Total training time: 0.00 seconds.\n",
      "-- Epoch 47\n",
      "Norm: 9.23, NNZs: 1, Bias: 1.290046, T: 188, Avg. loss: 7.891071\n",
      "Total training time: 0.00 seconds.\n",
      "-- Epoch 48\n",
      "Norm: 9.25, NNZs: 1, Bias: 1.293397, T: 192, Avg. loss: 7.216020\n",
      "Total training time: 0.00 seconds.\n",
      "-- Epoch 49\n",
      "Norm: 9.28, NNZs: 1, Bias: 1.296570, T: 196, Avg. loss: 6.603198\n",
      "Total training time: 0.00 seconds.\n",
      "-- Epoch 50\n",
      "Norm: 9.30, NNZs: 1, Bias: 1.299574, T: 200, Avg. loss: 6.046542\n",
      "Total training time: 0.00 seconds.\n",
      "-- Epoch 51\n",
      "Norm: 9.32, NNZs: 1, Bias: 1.302419, T: 204, Avg. loss: 5.540616\n",
      "Total training time: 0.00 seconds.\n",
      "-- Epoch 52\n",
      "Norm: 9.35, NNZs: 1, Bias: 1.305114, T: 208, Avg. loss: 5.080542\n",
      "Total training time: 0.00 seconds.\n",
      "-- Epoch 53\n",
      "Norm: 9.37, NNZs: 1, Bias: 1.307666, T: 212, Avg. loss: 4.661938\n",
      "Total training time: 0.00 seconds.\n",
      "-- Epoch 54\n",
      "Norm: 9.39, NNZs: 1, Bias: 1.310084, T: 216, Avg. loss: 4.280866\n",
      "Total training time: 0.00 seconds.\n",
      "-- Epoch 55\n",
      "Norm: 9.40, NNZs: 1, Bias: 1.312374, T: 220, Avg. loss: 3.933784\n",
      "Total training time: 0.00 seconds.\n",
      "-- Epoch 56\n",
      "Norm: 9.42, NNZs: 1, Bias: 1.314544, T: 224, Avg. loss: 3.617501\n",
      "Total training time: 0.00 seconds.\n",
      "-- Epoch 57\n",
      "Norm: 9.44, NNZs: 1, Bias: 1.316600, T: 228, Avg. loss: 3.329145\n",
      "Total training time: 0.00 seconds.\n",
      "-- Epoch 58\n",
      "Norm: 9.45, NNZs: 1, Bias: 1.318548, T: 232, Avg. loss: 3.066126\n",
      "Total training time: 0.00 seconds.\n",
      "-- Epoch 59\n",
      "Norm: 9.47, NNZs: 1, Bias: 1.320393, T: 236, Avg. loss: 2.826105\n",
      "Total training time: 0.00 seconds.\n",
      "-- Epoch 60\n",
      "Norm: 9.48, NNZs: 1, Bias: 1.322141, T: 240, Avg. loss: 2.606972\n",
      "Total training time: 0.00 seconds.\n",
      "-- Epoch 61\n",
      "Norm: 9.50, NNZs: 1, Bias: 1.323798, T: 244, Avg. loss: 2.406822\n",
      "Total training time: 0.00 seconds.\n",
      "-- Epoch 62\n",
      "Norm: 9.51, NNZs: 1, Bias: 1.325367, T: 248, Avg. loss: 2.223931\n",
      "Total training time: 0.00 seconds.\n",
      "-- Epoch 63\n",
      "Norm: 9.52, NNZs: 1, Bias: 1.326853, T: 252, Avg. loss: 2.056739\n",
      "Total training time: 0.00 seconds.\n",
      "-- Epoch 64\n",
      "Norm: 9.53, NNZs: 1, Bias: 1.328260, T: 256, Avg. loss: 1.903837\n",
      "Total training time: 0.00 seconds.\n",
      "-- Epoch 65\n",
      "Norm: 9.55, NNZs: 1, Bias: 1.329593, T: 260, Avg. loss: 1.763946\n",
      "Total training time: 0.00 seconds.\n",
      "-- Epoch 66\n",
      "Norm: 9.56, NNZs: 1, Bias: 1.330855, T: 264, Avg. loss: 1.635909\n",
      "Total training time: 0.00 seconds.\n",
      "-- Epoch 67\n",
      "Norm: 9.57, NNZs: 1, Bias: 1.332050, T: 268, Avg. loss: 1.518675\n",
      "Total training time: 0.00 seconds.\n",
      "-- Epoch 68\n",
      "Norm: 9.58, NNZs: 1, Bias: 1.333180, T: 272, Avg. loss: 1.411292\n",
      "Total training time: 0.00 seconds.\n",
      "-- Epoch 69\n",
      "Norm: 9.59, NNZs: 1, Bias: 1.334250, T: 276, Avg. loss: 1.312896\n",
      "Total training time: 0.00 seconds.\n",
      "-- Epoch 70\n",
      "Norm: 9.60, NNZs: 1, Bias: 1.335262, T: 280, Avg. loss: 1.222701\n",
      "Total training time: 0.00 seconds.\n",
      "-- Epoch 71\n",
      "Norm: 9.60, NNZs: 1, Bias: 1.336218, T: 284, Avg. loss: 1.139994\n",
      "Total training time: 0.00 seconds.\n",
      "-- Epoch 72\n",
      "Norm: 9.61, NNZs: 1, Bias: 1.337123, T: 288, Avg. loss: 1.064128\n",
      "Total training time: 0.00 seconds.\n",
      "-- Epoch 73\n",
      "Norm: 9.62, NNZs: 1, Bias: 1.337977, T: 292, Avg. loss: 0.994511\n",
      "Total training time: 0.00 seconds.\n",
      "-- Epoch 74\n",
      "Norm: 9.63, NNZs: 1, Bias: 1.338784, T: 296, Avg. loss: 0.930608\n",
      "Total training time: 0.00 seconds.\n",
      "-- Epoch 75\n",
      "Norm: 9.64, NNZs: 1, Bias: 1.339546, T: 300, Avg. loss: 0.871930\n",
      "Total training time: 0.00 seconds.\n",
      "-- Epoch 76\n",
      "Norm: 9.64, NNZs: 1, Bias: 1.340265, T: 304, Avg. loss: 0.818032\n",
      "Total training time: 0.00 seconds.\n",
      "-- Epoch 77\n",
      "Norm: 9.65, NNZs: 1, Bias: 1.340943, T: 308, Avg. loss: 0.768508\n",
      "Total training time: 0.00 seconds.\n",
      "-- Epoch 78\n",
      "Norm: 9.66, NNZs: 1, Bias: 1.341582, T: 312, Avg. loss: 0.722990\n",
      "Total training time: 0.00 seconds.\n",
      "-- Epoch 79\n",
      "Norm: 9.66, NNZs: 1, Bias: 1.342184, T: 316, Avg. loss: 0.681139\n",
      "Total training time: 0.00 seconds.\n",
      "-- Epoch 80\n",
      "Norm: 9.67, NNZs: 1, Bias: 1.342751, T: 320, Avg. loss: 0.642650\n",
      "Total training time: 0.00 seconds.\n",
      "-- Epoch 81\n",
      "Norm: 9.67, NNZs: 1, Bias: 1.343283, T: 324, Avg. loss: 0.607240\n",
      "Total training time: 0.00 seconds.\n",
      "-- Epoch 82\n",
      "Norm: 9.68, NNZs: 1, Bias: 1.343784, T: 328, Avg. loss: 0.574654\n",
      "Total training time: 0.00 seconds.\n",
      "-- Epoch 83\n",
      "Norm: 9.68, NNZs: 1, Bias: 1.344253, T: 332, Avg. loss: 0.544658\n",
      "Total training time: 0.00 seconds.\n",
      "-- Epoch 84\n",
      "Norm: 9.69, NNZs: 1, Bias: 1.344694, T: 336, Avg. loss: 0.517038\n",
      "Total training time: 0.00 seconds.\n",
      "-- Epoch 85\n",
      "Norm: 9.69, NNZs: 1, Bias: 1.345106, T: 340, Avg. loss: 0.491598\n",
      "Total training time: 0.00 seconds.\n",
      "-- Epoch 86\n",
      "Norm: 9.70, NNZs: 1, Bias: 1.345492, T: 344, Avg. loss: 0.468159\n",
      "Total training time: 0.00 seconds.\n",
      "-- Epoch 87\n",
      "Norm: 9.70, NNZs: 1, Bias: 1.345853, T: 348, Avg. loss: 0.446559\n",
      "Total training time: 0.00 seconds.\n",
      "-- Epoch 88\n",
      "Norm: 9.71, NNZs: 1, Bias: 1.346189, T: 352, Avg. loss: 0.426647\n",
      "Total training time: 0.00 seconds.\n",
      "-- Epoch 89\n",
      "Norm: 9.71, NNZs: 1, Bias: 1.346502, T: 356, Avg. loss: 0.408286\n",
      "Total training time: 0.00 seconds.\n",
      "-- Epoch 90\n",
      "Norm: 9.71, NNZs: 1, Bias: 1.346793, T: 360, Avg. loss: 0.391351\n",
      "Total training time: 0.00 seconds.\n",
      "-- Epoch 91\n",
      "Norm: 9.72, NNZs: 1, Bias: 1.347063, T: 364, Avg. loss: 0.375727\n",
      "Total training time: 0.00 seconds.\n",
      "-- Epoch 92\n",
      "Norm: 9.72, NNZs: 1, Bias: 1.347312, T: 368, Avg. loss: 0.361308\n",
      "Total training time: 0.00 seconds.\n",
      "-- Epoch 93\n",
      "Norm: 9.72, NNZs: 1, Bias: 1.347543, T: 372, Avg. loss: 0.347999\n",
      "Total training time: 0.00 seconds.\n",
      "-- Epoch 94\n",
      "Norm: 9.73, NNZs: 1, Bias: 1.347755, T: 376, Avg. loss: 0.335710\n",
      "Total training time: 0.00 seconds.\n",
      "-- Epoch 95\n",
      "Norm: 9.73, NNZs: 1, Bias: 1.347949, T: 380, Avg. loss: 0.324360\n",
      "Total training time: 0.00 seconds.\n",
      "-- Epoch 96\n",
      "Norm: 9.73, NNZs: 1, Bias: 1.348126, T: 384, Avg. loss: 0.313874\n",
      "Total training time: 0.00 seconds.\n",
      "-- Epoch 97\n",
      "Norm: 9.74, NNZs: 1, Bias: 1.348288, T: 388, Avg. loss: 0.304185\n",
      "Total training time: 0.00 seconds.\n",
      "-- Epoch 98\n",
      "Norm: 9.74, NNZs: 1, Bias: 1.348434, T: 392, Avg. loss: 0.295230\n",
      "Total training time: 0.00 seconds.\n",
      "-- Epoch 99\n",
      "Norm: 9.74, NNZs: 1, Bias: 1.348566, T: 396, Avg. loss: 0.286950\n",
      "Total training time: 0.00 seconds.\n",
      "-- Epoch 100\n",
      "Norm: 9.75, NNZs: 1, Bias: 1.348683, T: 400, Avg. loss: 0.279293\n",
      "Total training time: 0.00 seconds.\n",
      "-- Epoch 101\n",
      "Norm: 9.75, NNZs: 1, Bias: 1.348787, T: 404, Avg. loss: 0.272210\n",
      "Total training time: 0.00 seconds.\n",
      "-- Epoch 102\n",
      "Norm: 9.75, NNZs: 1, Bias: 1.348878, T: 408, Avg. loss: 0.265657\n",
      "Total training time: 0.00 seconds.\n",
      "-- Epoch 103\n",
      "Norm: 9.75, NNZs: 1, Bias: 1.348957, T: 412, Avg. loss: 0.259592\n",
      "Total training time: 0.00 seconds.\n",
      "-- Epoch 104\n",
      "Norm: 9.75, NNZs: 1, Bias: 1.349025, T: 416, Avg. loss: 0.253977\n",
      "Total training time: 0.00 seconds.\n",
      "-- Epoch 105\n",
      "Norm: 9.76, NNZs: 1, Bias: 1.349081, T: 420, Avg. loss: 0.248778\n",
      "Total training time: 0.00 seconds.\n",
      "-- Epoch 106\n",
      "Norm: 9.76, NNZs: 1, Bias: 1.349126, T: 424, Avg. loss: 0.243963\n",
      "Total training time: 0.00 seconds.\n",
      "-- Epoch 107\n",
      "Norm: 9.76, NNZs: 1, Bias: 1.349161, T: 428, Avg. loss: 0.239501\n",
      "Total training time: 0.00 seconds.\n",
      "-- Epoch 108\n",
      "Norm: 9.76, NNZs: 1, Bias: 1.349186, T: 432, Avg. loss: 0.235367\n",
      "Total training time: 0.00 seconds.\n",
      "-- Epoch 109\n",
      "Norm: 9.76, NNZs: 1, Bias: 1.349202, T: 436, Avg. loss: 0.231534\n",
      "Total training time: 0.00 seconds.\n",
      "-- Epoch 110\n",
      "Norm: 9.77, NNZs: 1, Bias: 1.349209, T: 440, Avg. loss: 0.227981\n",
      "Total training time: 0.00 seconds.\n",
      "-- Epoch 111\n",
      "Norm: 9.77, NNZs: 1, Bias: 1.349207, T: 444, Avg. loss: 0.224685\n",
      "Total training time: 0.00 seconds.\n",
      "-- Epoch 112\n",
      "Norm: 9.77, NNZs: 1, Bias: 1.349197, T: 448, Avg. loss: 0.221627\n",
      "Total training time: 0.00 seconds.\n",
      "-- Epoch 113\n",
      "Norm: 9.77, NNZs: 1, Bias: 1.349179, T: 452, Avg. loss: 0.218790\n",
      "Total training time: 0.00 seconds.\n",
      "-- Epoch 114\n",
      "Norm: 9.77, NNZs: 1, Bias: 1.349154, T: 456, Avg. loss: 0.216156\n",
      "Total training time: 0.00 seconds.\n",
      "-- Epoch 115\n",
      "Norm: 9.77, NNZs: 1, Bias: 1.349121, T: 460, Avg. loss: 0.213710\n",
      "Total training time: 0.00 seconds.\n",
      "-- Epoch 116\n",
      "Norm: 9.77, NNZs: 1, Bias: 1.349082, T: 464, Avg. loss: 0.211438\n",
      "Total training time: 0.00 seconds.\n",
      "-- Epoch 117\n",
      "Norm: 9.78, NNZs: 1, Bias: 1.349035, T: 468, Avg. loss: 0.209328\n",
      "Total training time: 0.00 seconds.\n",
      "-- Epoch 118\n",
      "Norm: 9.78, NNZs: 1, Bias: 1.348983, T: 472, Avg. loss: 0.207366\n",
      "Total training time: 0.00 seconds.\n",
      "-- Epoch 119\n",
      "Norm: 9.78, NNZs: 1, Bias: 1.348924, T: 476, Avg. loss: 0.205542\n",
      "Total training time: 0.00 seconds.\n",
      "-- Epoch 120\n",
      "Norm: 9.78, NNZs: 1, Bias: 1.348860, T: 480, Avg. loss: 0.203846\n",
      "Total training time: 0.00 seconds.\n",
      "-- Epoch 121\n",
      "Norm: 9.78, NNZs: 1, Bias: 1.348790, T: 484, Avg. loss: 0.202268\n",
      "Total training time: 0.00 seconds.\n",
      "-- Epoch 122\n",
      "Norm: 9.78, NNZs: 1, Bias: 1.348715, T: 488, Avg. loss: 0.200800\n",
      "Total training time: 0.00 seconds.\n",
      "-- Epoch 123\n",
      "Norm: 9.78, NNZs: 1, Bias: 1.348634, T: 492, Avg. loss: 0.199433\n",
      "Total training time: 0.00 seconds.\n",
      "-- Epoch 124\n",
      "Norm: 9.78, NNZs: 1, Bias: 1.348549, T: 496, Avg. loss: 0.198159\n",
      "Total training time: 0.00 seconds.\n",
      "-- Epoch 125\n",
      "Norm: 9.79, NNZs: 1, Bias: 1.348459, T: 500, Avg. loss: 0.196973\n",
      "Total training time: 0.00 seconds.\n",
      "-- Epoch 126\n",
      "Norm: 9.79, NNZs: 1, Bias: 1.348365, T: 504, Avg. loss: 0.195868\n",
      "Total training time: 0.00 seconds.\n",
      "-- Epoch 127\n",
      "Norm: 9.79, NNZs: 1, Bias: 1.348266, T: 508, Avg. loss: 0.194837\n",
      "Total training time: 0.00 seconds.\n",
      "-- Epoch 128\n",
      "Norm: 9.79, NNZs: 1, Bias: 1.348164, T: 512, Avg. loss: 0.193875\n",
      "Total training time: 0.00 seconds.\n",
      "-- Epoch 129\n",
      "Norm: 9.79, NNZs: 1, Bias: 1.348057, T: 516, Avg. loss: 0.192978\n",
      "Total training time: 0.00 seconds.\n",
      "-- Epoch 130\n",
      "Norm: 9.79, NNZs: 1, Bias: 1.347947, T: 520, Avg. loss: 0.192140\n",
      "Total training time: 0.00 seconds.\n",
      "-- Epoch 131\n",
      "Norm: 9.79, NNZs: 1, Bias: 1.347833, T: 524, Avg. loss: 0.191357\n",
      "Total training time: 0.00 seconds.\n",
      "-- Epoch 132\n",
      "Norm: 9.79, NNZs: 1, Bias: 1.347715, T: 528, Avg. loss: 0.190626\n",
      "Total training time: 0.00 seconds.\n",
      "Convergence after 132 epochs took 0.00 seconds\n"
     ]
    },
    {
     "data": {
      "text/html": [
       "<style>#sk-container-id-16 {color: black;}#sk-container-id-16 pre{padding: 0;}#sk-container-id-16 div.sk-toggleable {background-color: white;}#sk-container-id-16 label.sk-toggleable__label {cursor: pointer;display: block;width: 100%;margin-bottom: 0;padding: 0.3em;box-sizing: border-box;text-align: center;}#sk-container-id-16 label.sk-toggleable__label-arrow:before {content: \"▸\";float: left;margin-right: 0.25em;color: #696969;}#sk-container-id-16 label.sk-toggleable__label-arrow:hover:before {color: black;}#sk-container-id-16 div.sk-estimator:hover label.sk-toggleable__label-arrow:before {color: black;}#sk-container-id-16 div.sk-toggleable__content {max-height: 0;max-width: 0;overflow: hidden;text-align: left;background-color: #f0f8ff;}#sk-container-id-16 div.sk-toggleable__content pre {margin: 0.2em;color: black;border-radius: 0.25em;background-color: #f0f8ff;}#sk-container-id-16 input.sk-toggleable__control:checked~div.sk-toggleable__content {max-height: 200px;max-width: 100%;overflow: auto;}#sk-container-id-16 input.sk-toggleable__control:checked~label.sk-toggleable__label-arrow:before {content: \"▾\";}#sk-container-id-16 div.sk-estimator input.sk-toggleable__control:checked~label.sk-toggleable__label {background-color: #d4ebff;}#sk-container-id-16 div.sk-label input.sk-toggleable__control:checked~label.sk-toggleable__label {background-color: #d4ebff;}#sk-container-id-16 input.sk-hidden--visually {border: 0;clip: rect(1px 1px 1px 1px);clip: rect(1px, 1px, 1px, 1px);height: 1px;margin: -1px;overflow: hidden;padding: 0;position: absolute;width: 1px;}#sk-container-id-16 div.sk-estimator {font-family: monospace;background-color: #f0f8ff;border: 1px dotted black;border-radius: 0.25em;box-sizing: border-box;margin-bottom: 0.5em;}#sk-container-id-16 div.sk-estimator:hover {background-color: #d4ebff;}#sk-container-id-16 div.sk-parallel-item::after {content: \"\";width: 100%;border-bottom: 1px solid gray;flex-grow: 1;}#sk-container-id-16 div.sk-label:hover label.sk-toggleable__label {background-color: #d4ebff;}#sk-container-id-16 div.sk-serial::before {content: \"\";position: absolute;border-left: 1px solid gray;box-sizing: border-box;top: 0;bottom: 0;left: 50%;z-index: 0;}#sk-container-id-16 div.sk-serial {display: flex;flex-direction: column;align-items: center;background-color: white;padding-right: 0.2em;padding-left: 0.2em;position: relative;}#sk-container-id-16 div.sk-item {position: relative;z-index: 1;}#sk-container-id-16 div.sk-parallel {display: flex;align-items: stretch;justify-content: center;background-color: white;position: relative;}#sk-container-id-16 div.sk-item::before, #sk-container-id-16 div.sk-parallel-item::before {content: \"\";position: absolute;border-left: 1px solid gray;box-sizing: border-box;top: 0;bottom: 0;left: 50%;z-index: -1;}#sk-container-id-16 div.sk-parallel-item {display: flex;flex-direction: column;z-index: 1;position: relative;background-color: white;}#sk-container-id-16 div.sk-parallel-item:first-child::after {align-self: flex-end;width: 50%;}#sk-container-id-16 div.sk-parallel-item:last-child::after {align-self: flex-start;width: 50%;}#sk-container-id-16 div.sk-parallel-item:only-child::after {width: 0;}#sk-container-id-16 div.sk-dashed-wrapped {border: 1px dashed gray;margin: 0 0.4em 0.5em 0.4em;box-sizing: border-box;padding-bottom: 0.4em;background-color: white;}#sk-container-id-16 div.sk-label label {font-family: monospace;font-weight: bold;display: inline-block;line-height: 1.2em;}#sk-container-id-16 div.sk-label-container {text-align: center;}#sk-container-id-16 div.sk-container {/* jupyter's `normalize.less` sets `[hidden] { display: none; }` but bootstrap.min.css set `[hidden] { display: none !important; }` so we also need the `!important` here to be able to override the default hidden behavior on the sphinx rendered scikit-learn.org. See: https://github.com/scikit-learn/scikit-learn/issues/21755 */display: inline-block !important;position: relative;}#sk-container-id-16 div.sk-text-repr-fallback {display: none;}</style><div id=\"sk-container-id-16\" class=\"sk-top-container\"><div class=\"sk-text-repr-fallback\"><pre>SGDRegressor(eta0=0.001, max_iter=500, verbose=1)</pre><b>In a Jupyter environment, please rerun this cell to show the HTML representation or trust the notebook. <br />On GitHub, the HTML representation is unable to render, please try loading this page with nbviewer.org.</b></div><div class=\"sk-container\" hidden><div class=\"sk-item\"><div class=\"sk-estimator sk-toggleable\"><input class=\"sk-toggleable__control sk-hidden--visually\" id=\"sk-estimator-id-16\" type=\"checkbox\" checked><label for=\"sk-estimator-id-16\" class=\"sk-toggleable__label sk-toggleable__label-arrow\">SGDRegressor</label><div class=\"sk-toggleable__content\"><pre>SGDRegressor(eta0=0.001, max_iter=500, verbose=1)</pre></div></div></div></div></div>"
      ],
      "text/plain": [
       "SGDRegressor(eta0=0.001, max_iter=500, verbose=1)"
      ]
     },
     "execution_count": 199,
     "metadata": {},
     "output_type": "execute_result"
    }
   ],
   "source": [
    "# 모델 학습\n",
    "sgd_model.fit(data[['시간']], data['성적'])"
   ]
  },
  {
   "cell_type": "code",
   "execution_count": 200,
   "id": "fa2fac92",
   "metadata": {
    "scrolled": true
   },
   "outputs": [
    {
     "name": "stderr",
     "output_type": "stream",
     "text": [
      "C:\\Users\\smhrd\\anaconda3\\Lib\\site-packages\\sklearn\\base.py:464: UserWarning: X does not have valid feature names, but SGDRegressor was fitted with feature names\n",
      "  warnings.warn(\n"
     ]
    },
    {
     "data": {
      "text/plain": [
       "array([69.88641712])"
      ]
     },
     "execution_count": 200,
     "metadata": {},
     "output_type": "execute_result"
    }
   ],
   "source": [
    "# 모델 예측\n",
    "sgd_model.predict([[7]]) # 학습률 0.0001 =>array([70.03157567])\n",
    "# 학습률 0.001=>array([69.88271009])"
   ]
  },
  {
   "cell_type": "code",
   "execution_count": 201,
   "id": "a2d55c21",
   "metadata": {},
   "outputs": [
    {
     "name": "stdout",
     "output_type": "stream",
     "text": [
      "w(가중치): [9.79124314]\n",
      "b(절편): [1.34771511]\n"
     ]
    }
   ],
   "source": [
    "# 가중치 절편 확인 \n",
    "print(\"w(가중치):\", sgd_model.coef_) # w(가중치): [9.85662451]\n",
    "print(\"b(절편):\", sgd_model.intercept_) # b(절편): [1.03520409]\n",
    "#예측직선 y = 9x +1 "
   ]
  },
  {
   "cell_type": "markdown",
   "id": "3c9de882",
   "metadata": {},
   "source": [
    "### 호주 집가격 예측\n",
    "- 회귀모델"
   ]
  },
  {
   "cell_type": "code",
   "execution_count": 202,
   "id": "09ef8144",
   "metadata": {},
   "outputs": [
    {
     "data": {
      "text/html": [
       "<div>\n",
       "<style scoped>\n",
       "    .dataframe tbody tr th:only-of-type {\n",
       "        vertical-align: middle;\n",
       "    }\n",
       "\n",
       "    .dataframe tbody tr th {\n",
       "        vertical-align: top;\n",
       "    }\n",
       "\n",
       "    .dataframe thead th {\n",
       "        text-align: right;\n",
       "    }\n",
       "</style>\n",
       "<table border=\"1\" class=\"dataframe\">\n",
       "  <thead>\n",
       "    <tr style=\"text-align: right;\">\n",
       "      <th></th>\n",
       "      <th>Suburb</th>\n",
       "      <th>Address</th>\n",
       "      <th>Rooms</th>\n",
       "      <th>Type</th>\n",
       "      <th>Price</th>\n",
       "      <th>Method</th>\n",
       "      <th>SellerG</th>\n",
       "      <th>Date</th>\n",
       "      <th>Distance</th>\n",
       "      <th>Postcode</th>\n",
       "      <th>...</th>\n",
       "      <th>Bathroom</th>\n",
       "      <th>Car</th>\n",
       "      <th>Landsize</th>\n",
       "      <th>BuildingArea</th>\n",
       "      <th>YearBuilt</th>\n",
       "      <th>CouncilArea</th>\n",
       "      <th>Lattitude</th>\n",
       "      <th>Longtitude</th>\n",
       "      <th>Regionname</th>\n",
       "      <th>Propertycount</th>\n",
       "    </tr>\n",
       "  </thead>\n",
       "  <tbody>\n",
       "    <tr>\n",
       "      <th>0</th>\n",
       "      <td>Abbotsford</td>\n",
       "      <td>85 Turner St</td>\n",
       "      <td>2</td>\n",
       "      <td>h</td>\n",
       "      <td>1480000.0</td>\n",
       "      <td>S</td>\n",
       "      <td>Biggin</td>\n",
       "      <td>3/12/2016</td>\n",
       "      <td>2.5</td>\n",
       "      <td>3067.0</td>\n",
       "      <td>...</td>\n",
       "      <td>1.0</td>\n",
       "      <td>1.0</td>\n",
       "      <td>202.0</td>\n",
       "      <td>NaN</td>\n",
       "      <td>NaN</td>\n",
       "      <td>Yarra</td>\n",
       "      <td>-37.79960</td>\n",
       "      <td>144.99840</td>\n",
       "      <td>Northern Metropolitan</td>\n",
       "      <td>4019.0</td>\n",
       "    </tr>\n",
       "    <tr>\n",
       "      <th>1</th>\n",
       "      <td>Abbotsford</td>\n",
       "      <td>25 Bloomburg St</td>\n",
       "      <td>2</td>\n",
       "      <td>h</td>\n",
       "      <td>1035000.0</td>\n",
       "      <td>S</td>\n",
       "      <td>Biggin</td>\n",
       "      <td>4/02/2016</td>\n",
       "      <td>2.5</td>\n",
       "      <td>3067.0</td>\n",
       "      <td>...</td>\n",
       "      <td>1.0</td>\n",
       "      <td>0.0</td>\n",
       "      <td>156.0</td>\n",
       "      <td>79.0</td>\n",
       "      <td>1900.0</td>\n",
       "      <td>Yarra</td>\n",
       "      <td>-37.80790</td>\n",
       "      <td>144.99340</td>\n",
       "      <td>Northern Metropolitan</td>\n",
       "      <td>4019.0</td>\n",
       "    </tr>\n",
       "    <tr>\n",
       "      <th>2</th>\n",
       "      <td>Abbotsford</td>\n",
       "      <td>5 Charles St</td>\n",
       "      <td>3</td>\n",
       "      <td>h</td>\n",
       "      <td>1465000.0</td>\n",
       "      <td>SP</td>\n",
       "      <td>Biggin</td>\n",
       "      <td>4/03/2017</td>\n",
       "      <td>2.5</td>\n",
       "      <td>3067.0</td>\n",
       "      <td>...</td>\n",
       "      <td>2.0</td>\n",
       "      <td>0.0</td>\n",
       "      <td>134.0</td>\n",
       "      <td>150.0</td>\n",
       "      <td>1900.0</td>\n",
       "      <td>Yarra</td>\n",
       "      <td>-37.80930</td>\n",
       "      <td>144.99440</td>\n",
       "      <td>Northern Metropolitan</td>\n",
       "      <td>4019.0</td>\n",
       "    </tr>\n",
       "    <tr>\n",
       "      <th>3</th>\n",
       "      <td>Abbotsford</td>\n",
       "      <td>40 Federation La</td>\n",
       "      <td>3</td>\n",
       "      <td>h</td>\n",
       "      <td>850000.0</td>\n",
       "      <td>PI</td>\n",
       "      <td>Biggin</td>\n",
       "      <td>4/03/2017</td>\n",
       "      <td>2.5</td>\n",
       "      <td>3067.0</td>\n",
       "      <td>...</td>\n",
       "      <td>2.0</td>\n",
       "      <td>1.0</td>\n",
       "      <td>94.0</td>\n",
       "      <td>NaN</td>\n",
       "      <td>NaN</td>\n",
       "      <td>Yarra</td>\n",
       "      <td>-37.79690</td>\n",
       "      <td>144.99690</td>\n",
       "      <td>Northern Metropolitan</td>\n",
       "      <td>4019.0</td>\n",
       "    </tr>\n",
       "    <tr>\n",
       "      <th>4</th>\n",
       "      <td>Abbotsford</td>\n",
       "      <td>55a Park St</td>\n",
       "      <td>4</td>\n",
       "      <td>h</td>\n",
       "      <td>1600000.0</td>\n",
       "      <td>VB</td>\n",
       "      <td>Nelson</td>\n",
       "      <td>4/06/2016</td>\n",
       "      <td>2.5</td>\n",
       "      <td>3067.0</td>\n",
       "      <td>...</td>\n",
       "      <td>1.0</td>\n",
       "      <td>2.0</td>\n",
       "      <td>120.0</td>\n",
       "      <td>142.0</td>\n",
       "      <td>2014.0</td>\n",
       "      <td>Yarra</td>\n",
       "      <td>-37.80720</td>\n",
       "      <td>144.99410</td>\n",
       "      <td>Northern Metropolitan</td>\n",
       "      <td>4019.0</td>\n",
       "    </tr>\n",
       "    <tr>\n",
       "      <th>...</th>\n",
       "      <td>...</td>\n",
       "      <td>...</td>\n",
       "      <td>...</td>\n",
       "      <td>...</td>\n",
       "      <td>...</td>\n",
       "      <td>...</td>\n",
       "      <td>...</td>\n",
       "      <td>...</td>\n",
       "      <td>...</td>\n",
       "      <td>...</td>\n",
       "      <td>...</td>\n",
       "      <td>...</td>\n",
       "      <td>...</td>\n",
       "      <td>...</td>\n",
       "      <td>...</td>\n",
       "      <td>...</td>\n",
       "      <td>...</td>\n",
       "      <td>...</td>\n",
       "      <td>...</td>\n",
       "      <td>...</td>\n",
       "      <td>...</td>\n",
       "    </tr>\n",
       "    <tr>\n",
       "      <th>13575</th>\n",
       "      <td>Wheelers Hill</td>\n",
       "      <td>12 Strada Cr</td>\n",
       "      <td>4</td>\n",
       "      <td>h</td>\n",
       "      <td>1245000.0</td>\n",
       "      <td>S</td>\n",
       "      <td>Barry</td>\n",
       "      <td>26/08/2017</td>\n",
       "      <td>16.7</td>\n",
       "      <td>3150.0</td>\n",
       "      <td>...</td>\n",
       "      <td>2.0</td>\n",
       "      <td>2.0</td>\n",
       "      <td>652.0</td>\n",
       "      <td>NaN</td>\n",
       "      <td>1981.0</td>\n",
       "      <td>NaN</td>\n",
       "      <td>-37.90562</td>\n",
       "      <td>145.16761</td>\n",
       "      <td>South-Eastern Metropolitan</td>\n",
       "      <td>7392.0</td>\n",
       "    </tr>\n",
       "    <tr>\n",
       "      <th>13576</th>\n",
       "      <td>Williamstown</td>\n",
       "      <td>77 Merrett Dr</td>\n",
       "      <td>3</td>\n",
       "      <td>h</td>\n",
       "      <td>1031000.0</td>\n",
       "      <td>SP</td>\n",
       "      <td>Williams</td>\n",
       "      <td>26/08/2017</td>\n",
       "      <td>6.8</td>\n",
       "      <td>3016.0</td>\n",
       "      <td>...</td>\n",
       "      <td>2.0</td>\n",
       "      <td>2.0</td>\n",
       "      <td>333.0</td>\n",
       "      <td>133.0</td>\n",
       "      <td>1995.0</td>\n",
       "      <td>NaN</td>\n",
       "      <td>-37.85927</td>\n",
       "      <td>144.87904</td>\n",
       "      <td>Western Metropolitan</td>\n",
       "      <td>6380.0</td>\n",
       "    </tr>\n",
       "    <tr>\n",
       "      <th>13577</th>\n",
       "      <td>Williamstown</td>\n",
       "      <td>83 Power St</td>\n",
       "      <td>3</td>\n",
       "      <td>h</td>\n",
       "      <td>1170000.0</td>\n",
       "      <td>S</td>\n",
       "      <td>Raine</td>\n",
       "      <td>26/08/2017</td>\n",
       "      <td>6.8</td>\n",
       "      <td>3016.0</td>\n",
       "      <td>...</td>\n",
       "      <td>2.0</td>\n",
       "      <td>4.0</td>\n",
       "      <td>436.0</td>\n",
       "      <td>NaN</td>\n",
       "      <td>1997.0</td>\n",
       "      <td>NaN</td>\n",
       "      <td>-37.85274</td>\n",
       "      <td>144.88738</td>\n",
       "      <td>Western Metropolitan</td>\n",
       "      <td>6380.0</td>\n",
       "    </tr>\n",
       "    <tr>\n",
       "      <th>13578</th>\n",
       "      <td>Williamstown</td>\n",
       "      <td>96 Verdon St</td>\n",
       "      <td>4</td>\n",
       "      <td>h</td>\n",
       "      <td>2500000.0</td>\n",
       "      <td>PI</td>\n",
       "      <td>Sweeney</td>\n",
       "      <td>26/08/2017</td>\n",
       "      <td>6.8</td>\n",
       "      <td>3016.0</td>\n",
       "      <td>...</td>\n",
       "      <td>1.0</td>\n",
       "      <td>5.0</td>\n",
       "      <td>866.0</td>\n",
       "      <td>157.0</td>\n",
       "      <td>1920.0</td>\n",
       "      <td>NaN</td>\n",
       "      <td>-37.85908</td>\n",
       "      <td>144.89299</td>\n",
       "      <td>Western Metropolitan</td>\n",
       "      <td>6380.0</td>\n",
       "    </tr>\n",
       "    <tr>\n",
       "      <th>13579</th>\n",
       "      <td>Yarraville</td>\n",
       "      <td>6 Agnes St</td>\n",
       "      <td>4</td>\n",
       "      <td>h</td>\n",
       "      <td>1285000.0</td>\n",
       "      <td>SP</td>\n",
       "      <td>Village</td>\n",
       "      <td>26/08/2017</td>\n",
       "      <td>6.3</td>\n",
       "      <td>3013.0</td>\n",
       "      <td>...</td>\n",
       "      <td>1.0</td>\n",
       "      <td>1.0</td>\n",
       "      <td>362.0</td>\n",
       "      <td>112.0</td>\n",
       "      <td>1920.0</td>\n",
       "      <td>NaN</td>\n",
       "      <td>-37.81188</td>\n",
       "      <td>144.88449</td>\n",
       "      <td>Western Metropolitan</td>\n",
       "      <td>6543.0</td>\n",
       "    </tr>\n",
       "  </tbody>\n",
       "</table>\n",
       "<p>13580 rows × 21 columns</p>\n",
       "</div>"
      ],
      "text/plain": [
       "              Suburb           Address  Rooms Type      Price Method  \\\n",
       "0         Abbotsford      85 Turner St      2    h  1480000.0      S   \n",
       "1         Abbotsford   25 Bloomburg St      2    h  1035000.0      S   \n",
       "2         Abbotsford      5 Charles St      3    h  1465000.0     SP   \n",
       "3         Abbotsford  40 Federation La      3    h   850000.0     PI   \n",
       "4         Abbotsford       55a Park St      4    h  1600000.0     VB   \n",
       "...              ...               ...    ...  ...        ...    ...   \n",
       "13575  Wheelers Hill      12 Strada Cr      4    h  1245000.0      S   \n",
       "13576   Williamstown     77 Merrett Dr      3    h  1031000.0     SP   \n",
       "13577   Williamstown       83 Power St      3    h  1170000.0      S   \n",
       "13578   Williamstown      96 Verdon St      4    h  2500000.0     PI   \n",
       "13579     Yarraville        6 Agnes St      4    h  1285000.0     SP   \n",
       "\n",
       "        SellerG        Date  Distance  Postcode  ...  Bathroom  Car  Landsize  \\\n",
       "0        Biggin   3/12/2016       2.5    3067.0  ...       1.0  1.0     202.0   \n",
       "1        Biggin   4/02/2016       2.5    3067.0  ...       1.0  0.0     156.0   \n",
       "2        Biggin   4/03/2017       2.5    3067.0  ...       2.0  0.0     134.0   \n",
       "3        Biggin   4/03/2017       2.5    3067.0  ...       2.0  1.0      94.0   \n",
       "4        Nelson   4/06/2016       2.5    3067.0  ...       1.0  2.0     120.0   \n",
       "...         ...         ...       ...       ...  ...       ...  ...       ...   \n",
       "13575     Barry  26/08/2017      16.7    3150.0  ...       2.0  2.0     652.0   \n",
       "13576  Williams  26/08/2017       6.8    3016.0  ...       2.0  2.0     333.0   \n",
       "13577     Raine  26/08/2017       6.8    3016.0  ...       2.0  4.0     436.0   \n",
       "13578   Sweeney  26/08/2017       6.8    3016.0  ...       1.0  5.0     866.0   \n",
       "13579   Village  26/08/2017       6.3    3013.0  ...       1.0  1.0     362.0   \n",
       "\n",
       "       BuildingArea  YearBuilt  CouncilArea Lattitude  Longtitude  \\\n",
       "0               NaN        NaN        Yarra -37.79960   144.99840   \n",
       "1              79.0     1900.0        Yarra -37.80790   144.99340   \n",
       "2             150.0     1900.0        Yarra -37.80930   144.99440   \n",
       "3               NaN        NaN        Yarra -37.79690   144.99690   \n",
       "4             142.0     2014.0        Yarra -37.80720   144.99410   \n",
       "...             ...        ...          ...       ...         ...   \n",
       "13575           NaN     1981.0          NaN -37.90562   145.16761   \n",
       "13576         133.0     1995.0          NaN -37.85927   144.87904   \n",
       "13577           NaN     1997.0          NaN -37.85274   144.88738   \n",
       "13578         157.0     1920.0          NaN -37.85908   144.89299   \n",
       "13579         112.0     1920.0          NaN -37.81188   144.88449   \n",
       "\n",
       "                       Regionname Propertycount  \n",
       "0           Northern Metropolitan        4019.0  \n",
       "1           Northern Metropolitan        4019.0  \n",
       "2           Northern Metropolitan        4019.0  \n",
       "3           Northern Metropolitan        4019.0  \n",
       "4           Northern Metropolitan        4019.0  \n",
       "...                           ...           ...  \n",
       "13575  South-Eastern Metropolitan        7392.0  \n",
       "13576        Western Metropolitan        6380.0  \n",
       "13577        Western Metropolitan        6380.0  \n",
       "13578        Western Metropolitan        6380.0  \n",
       "13579        Western Metropolitan        6543.0  \n",
       "\n",
       "[13580 rows x 21 columns]"
      ]
     },
     "execution_count": 202,
     "metadata": {},
     "output_type": "execute_result"
    }
   ],
   "source": [
    "# 데이터 로드 읽어오기~\n",
    "house_data = pd.read_csv('data/melb_data.csv')\n",
    "house_data"
   ]
  },
  {
   "cell_type": "code",
   "execution_count": 203,
   "id": "880bd0b1",
   "metadata": {},
   "outputs": [
    {
     "name": "stdout",
     "output_type": "stream",
     "text": [
      "<class 'pandas.core.frame.DataFrame'>\n",
      "RangeIndex: 13580 entries, 0 to 13579\n",
      "Data columns (total 21 columns):\n",
      " #   Column         Non-Null Count  Dtype  \n",
      "---  ------         --------------  -----  \n",
      " 0   Suburb         13580 non-null  object \n",
      " 1   Address        13580 non-null  object \n",
      " 2   Rooms          13580 non-null  int64  \n",
      " 3   Type           13580 non-null  object \n",
      " 4   Price          13580 non-null  float64\n",
      " 5   Method         13580 non-null  object \n",
      " 6   SellerG        13580 non-null  object \n",
      " 7   Date           13580 non-null  object \n",
      " 8   Distance       13580 non-null  float64\n",
      " 9   Postcode       13580 non-null  float64\n",
      " 10  Bedroom2       13580 non-null  float64\n",
      " 11  Bathroom       13580 non-null  float64\n",
      " 12  Car            13518 non-null  float64\n",
      " 13  Landsize       13580 non-null  float64\n",
      " 14  BuildingArea   7130 non-null   float64\n",
      " 15  YearBuilt      8205 non-null   float64\n",
      " 16  CouncilArea    12211 non-null  object \n",
      " 17  Lattitude      13580 non-null  float64\n",
      " 18  Longtitude     13580 non-null  float64\n",
      " 19  Regionname     13580 non-null  object \n",
      " 20  Propertycount  13580 non-null  float64\n",
      "dtypes: float64(12), int64(1), object(8)\n",
      "memory usage: 2.2+ MB\n"
     ]
    }
   ],
   "source": [
    "# 요약정보 확인\n",
    "house_data.info()\n",
    "# 20개의 특성, 1개의 정답(Price)\n",
    "# 결측치 유무 확인 -> 있음\n",
    "# Dtype -> 숫자형태의 데이터만 학습 가능!"
   ]
  },
  {
   "cell_type": "code",
   "execution_count": 204,
   "id": "d5e09378",
   "metadata": {},
   "outputs": [
    {
     "data": {
      "text/html": [
       "<div>\n",
       "<style scoped>\n",
       "    .dataframe tbody tr th:only-of-type {\n",
       "        vertical-align: middle;\n",
       "    }\n",
       "\n",
       "    .dataframe tbody tr th {\n",
       "        vertical-align: top;\n",
       "    }\n",
       "\n",
       "    .dataframe thead th {\n",
       "        text-align: right;\n",
       "    }\n",
       "</style>\n",
       "<table border=\"1\" class=\"dataframe\">\n",
       "  <thead>\n",
       "    <tr style=\"text-align: right;\">\n",
       "      <th></th>\n",
       "      <th>Rooms</th>\n",
       "      <th>Price</th>\n",
       "      <th>Distance</th>\n",
       "      <th>Postcode</th>\n",
       "      <th>Bedroom2</th>\n",
       "      <th>Bathroom</th>\n",
       "      <th>Car</th>\n",
       "      <th>Landsize</th>\n",
       "      <th>BuildingArea</th>\n",
       "      <th>YearBuilt</th>\n",
       "      <th>Lattitude</th>\n",
       "      <th>Longtitude</th>\n",
       "      <th>Propertycount</th>\n",
       "    </tr>\n",
       "  </thead>\n",
       "  <tbody>\n",
       "    <tr>\n",
       "      <th>Rooms</th>\n",
       "      <td>1.000000</td>\n",
       "      <td>0.496634</td>\n",
       "      <td>0.294203</td>\n",
       "      <td>0.055303</td>\n",
       "      <td>0.944190</td>\n",
       "      <td>0.592934</td>\n",
       "      <td>0.408483</td>\n",
       "      <td>0.025678</td>\n",
       "      <td>0.124127</td>\n",
       "      <td>-0.065413</td>\n",
       "      <td>0.015948</td>\n",
       "      <td>0.100771</td>\n",
       "      <td>-0.081530</td>\n",
       "    </tr>\n",
       "    <tr>\n",
       "      <th>Price</th>\n",
       "      <td>0.496634</td>\n",
       "      <td>1.000000</td>\n",
       "      <td>-0.162522</td>\n",
       "      <td>0.107867</td>\n",
       "      <td>0.475951</td>\n",
       "      <td>0.467038</td>\n",
       "      <td>0.238979</td>\n",
       "      <td>0.037507</td>\n",
       "      <td>0.090981</td>\n",
       "      <td>-0.323617</td>\n",
       "      <td>-0.212934</td>\n",
       "      <td>0.203656</td>\n",
       "      <td>-0.042153</td>\n",
       "    </tr>\n",
       "    <tr>\n",
       "      <th>Distance</th>\n",
       "      <td>0.294203</td>\n",
       "      <td>-0.162522</td>\n",
       "      <td>1.000000</td>\n",
       "      <td>0.431514</td>\n",
       "      <td>0.295927</td>\n",
       "      <td>0.127155</td>\n",
       "      <td>0.262994</td>\n",
       "      <td>0.025004</td>\n",
       "      <td>0.099481</td>\n",
       "      <td>0.246379</td>\n",
       "      <td>-0.130723</td>\n",
       "      <td>0.239425</td>\n",
       "      <td>-0.054910</td>\n",
       "    </tr>\n",
       "    <tr>\n",
       "      <th>Postcode</th>\n",
       "      <td>0.055303</td>\n",
       "      <td>0.107867</td>\n",
       "      <td>0.431514</td>\n",
       "      <td>1.000000</td>\n",
       "      <td>0.060584</td>\n",
       "      <td>0.113664</td>\n",
       "      <td>0.050289</td>\n",
       "      <td>0.024558</td>\n",
       "      <td>0.055475</td>\n",
       "      <td>0.032863</td>\n",
       "      <td>-0.406104</td>\n",
       "      <td>0.445357</td>\n",
       "      <td>0.062304</td>\n",
       "    </tr>\n",
       "    <tr>\n",
       "      <th>Bedroom2</th>\n",
       "      <td>0.944190</td>\n",
       "      <td>0.475951</td>\n",
       "      <td>0.295927</td>\n",
       "      <td>0.060584</td>\n",
       "      <td>1.000000</td>\n",
       "      <td>0.584685</td>\n",
       "      <td>0.405325</td>\n",
       "      <td>0.025646</td>\n",
       "      <td>0.122319</td>\n",
       "      <td>-0.053319</td>\n",
       "      <td>0.015925</td>\n",
       "      <td>0.102238</td>\n",
       "      <td>-0.081350</td>\n",
       "    </tr>\n",
       "    <tr>\n",
       "      <th>Bathroom</th>\n",
       "      <td>0.592934</td>\n",
       "      <td>0.467038</td>\n",
       "      <td>0.127155</td>\n",
       "      <td>0.113664</td>\n",
       "      <td>0.584685</td>\n",
       "      <td>1.000000</td>\n",
       "      <td>0.322246</td>\n",
       "      <td>0.037130</td>\n",
       "      <td>0.111933</td>\n",
       "      <td>0.152702</td>\n",
       "      <td>-0.070594</td>\n",
       "      <td>0.118971</td>\n",
       "      <td>-0.052201</td>\n",
       "    </tr>\n",
       "    <tr>\n",
       "      <th>Car</th>\n",
       "      <td>0.408483</td>\n",
       "      <td>0.238979</td>\n",
       "      <td>0.262994</td>\n",
       "      <td>0.050289</td>\n",
       "      <td>0.405325</td>\n",
       "      <td>0.322246</td>\n",
       "      <td>1.000000</td>\n",
       "      <td>0.026770</td>\n",
       "      <td>0.096101</td>\n",
       "      <td>0.104515</td>\n",
       "      <td>-0.001963</td>\n",
       "      <td>0.063395</td>\n",
       "      <td>-0.024295</td>\n",
       "    </tr>\n",
       "    <tr>\n",
       "      <th>Landsize</th>\n",
       "      <td>0.025678</td>\n",
       "      <td>0.037507</td>\n",
       "      <td>0.025004</td>\n",
       "      <td>0.024558</td>\n",
       "      <td>0.025646</td>\n",
       "      <td>0.037130</td>\n",
       "      <td>0.026770</td>\n",
       "      <td>1.000000</td>\n",
       "      <td>0.500485</td>\n",
       "      <td>0.036451</td>\n",
       "      <td>0.009695</td>\n",
       "      <td>0.010833</td>\n",
       "      <td>-0.006854</td>\n",
       "    </tr>\n",
       "    <tr>\n",
       "      <th>BuildingArea</th>\n",
       "      <td>0.124127</td>\n",
       "      <td>0.090981</td>\n",
       "      <td>0.099481</td>\n",
       "      <td>0.055475</td>\n",
       "      <td>0.122319</td>\n",
       "      <td>0.111933</td>\n",
       "      <td>0.096101</td>\n",
       "      <td>0.500485</td>\n",
       "      <td>1.000000</td>\n",
       "      <td>0.019665</td>\n",
       "      <td>0.043420</td>\n",
       "      <td>-0.023810</td>\n",
       "      <td>-0.028840</td>\n",
       "    </tr>\n",
       "    <tr>\n",
       "      <th>YearBuilt</th>\n",
       "      <td>-0.065413</td>\n",
       "      <td>-0.323617</td>\n",
       "      <td>0.246379</td>\n",
       "      <td>0.032863</td>\n",
       "      <td>-0.053319</td>\n",
       "      <td>0.152702</td>\n",
       "      <td>0.104515</td>\n",
       "      <td>0.036451</td>\n",
       "      <td>0.019665</td>\n",
       "      <td>1.000000</td>\n",
       "      <td>0.060445</td>\n",
       "      <td>-0.003470</td>\n",
       "      <td>0.006361</td>\n",
       "    </tr>\n",
       "    <tr>\n",
       "      <th>Lattitude</th>\n",
       "      <td>0.015948</td>\n",
       "      <td>-0.212934</td>\n",
       "      <td>-0.130723</td>\n",
       "      <td>-0.406104</td>\n",
       "      <td>0.015925</td>\n",
       "      <td>-0.070594</td>\n",
       "      <td>-0.001963</td>\n",
       "      <td>0.009695</td>\n",
       "      <td>0.043420</td>\n",
       "      <td>0.060445</td>\n",
       "      <td>1.000000</td>\n",
       "      <td>-0.357634</td>\n",
       "      <td>0.047086</td>\n",
       "    </tr>\n",
       "    <tr>\n",
       "      <th>Longtitude</th>\n",
       "      <td>0.100771</td>\n",
       "      <td>0.203656</td>\n",
       "      <td>0.239425</td>\n",
       "      <td>0.445357</td>\n",
       "      <td>0.102238</td>\n",
       "      <td>0.118971</td>\n",
       "      <td>0.063395</td>\n",
       "      <td>0.010833</td>\n",
       "      <td>-0.023810</td>\n",
       "      <td>-0.003470</td>\n",
       "      <td>-0.357634</td>\n",
       "      <td>1.000000</td>\n",
       "      <td>0.065988</td>\n",
       "    </tr>\n",
       "    <tr>\n",
       "      <th>Propertycount</th>\n",
       "      <td>-0.081530</td>\n",
       "      <td>-0.042153</td>\n",
       "      <td>-0.054910</td>\n",
       "      <td>0.062304</td>\n",
       "      <td>-0.081350</td>\n",
       "      <td>-0.052201</td>\n",
       "      <td>-0.024295</td>\n",
       "      <td>-0.006854</td>\n",
       "      <td>-0.028840</td>\n",
       "      <td>0.006361</td>\n",
       "      <td>0.047086</td>\n",
       "      <td>0.065988</td>\n",
       "      <td>1.000000</td>\n",
       "    </tr>\n",
       "  </tbody>\n",
       "</table>\n",
       "</div>"
      ],
      "text/plain": [
       "                  Rooms     Price  Distance  Postcode  Bedroom2  Bathroom  \\\n",
       "Rooms          1.000000  0.496634  0.294203  0.055303  0.944190  0.592934   \n",
       "Price          0.496634  1.000000 -0.162522  0.107867  0.475951  0.467038   \n",
       "Distance       0.294203 -0.162522  1.000000  0.431514  0.295927  0.127155   \n",
       "Postcode       0.055303  0.107867  0.431514  1.000000  0.060584  0.113664   \n",
       "Bedroom2       0.944190  0.475951  0.295927  0.060584  1.000000  0.584685   \n",
       "Bathroom       0.592934  0.467038  0.127155  0.113664  0.584685  1.000000   \n",
       "Car            0.408483  0.238979  0.262994  0.050289  0.405325  0.322246   \n",
       "Landsize       0.025678  0.037507  0.025004  0.024558  0.025646  0.037130   \n",
       "BuildingArea   0.124127  0.090981  0.099481  0.055475  0.122319  0.111933   \n",
       "YearBuilt     -0.065413 -0.323617  0.246379  0.032863 -0.053319  0.152702   \n",
       "Lattitude      0.015948 -0.212934 -0.130723 -0.406104  0.015925 -0.070594   \n",
       "Longtitude     0.100771  0.203656  0.239425  0.445357  0.102238  0.118971   \n",
       "Propertycount -0.081530 -0.042153 -0.054910  0.062304 -0.081350 -0.052201   \n",
       "\n",
       "                    Car  Landsize  BuildingArea  YearBuilt  Lattitude  \\\n",
       "Rooms          0.408483  0.025678      0.124127  -0.065413   0.015948   \n",
       "Price          0.238979  0.037507      0.090981  -0.323617  -0.212934   \n",
       "Distance       0.262994  0.025004      0.099481   0.246379  -0.130723   \n",
       "Postcode       0.050289  0.024558      0.055475   0.032863  -0.406104   \n",
       "Bedroom2       0.405325  0.025646      0.122319  -0.053319   0.015925   \n",
       "Bathroom       0.322246  0.037130      0.111933   0.152702  -0.070594   \n",
       "Car            1.000000  0.026770      0.096101   0.104515  -0.001963   \n",
       "Landsize       0.026770  1.000000      0.500485   0.036451   0.009695   \n",
       "BuildingArea   0.096101  0.500485      1.000000   0.019665   0.043420   \n",
       "YearBuilt      0.104515  0.036451      0.019665   1.000000   0.060445   \n",
       "Lattitude     -0.001963  0.009695      0.043420   0.060445   1.000000   \n",
       "Longtitude     0.063395  0.010833     -0.023810  -0.003470  -0.357634   \n",
       "Propertycount -0.024295 -0.006854     -0.028840   0.006361   0.047086   \n",
       "\n",
       "               Longtitude  Propertycount  \n",
       "Rooms            0.100771      -0.081530  \n",
       "Price            0.203656      -0.042153  \n",
       "Distance         0.239425      -0.054910  \n",
       "Postcode         0.445357       0.062304  \n",
       "Bedroom2         0.102238      -0.081350  \n",
       "Bathroom         0.118971      -0.052201  \n",
       "Car              0.063395      -0.024295  \n",
       "Landsize         0.010833      -0.006854  \n",
       "BuildingArea    -0.023810      -0.028840  \n",
       "YearBuilt       -0.003470       0.006361  \n",
       "Lattitude       -0.357634       0.047086  \n",
       "Longtitude       1.000000       0.065988  \n",
       "Propertycount    0.065988       1.000000  "
      ]
     },
     "execution_count": 204,
     "metadata": {},
     "output_type": "execute_result"
    }
   ],
   "source": [
    "# 모델링을 위한 특성 선택 -> Price 정답데이터와 상관관계가 높은 컬럼 5개 선택\n",
    "house_data.corr(numeric_only=True) # 자:상관관계 # 숫자데이터에 대해서만 상관관계 조회"
   ]
  },
  {
   "cell_type": "code",
   "execution_count": 205,
   "id": "bac6ebde",
   "metadata": {},
   "outputs": [
    {
     "ename": "KeyError",
     "evalue": "'Rooms'",
     "output_type": "error",
     "traceback": [
      "\u001b[1;31m-----------------------------------------------------------\u001b[0m",
      "\u001b[1;31mKeyError\u001b[0m                  Traceback (most recent call last)",
      "Cell \u001b[1;32mIn[205], line 3\u001b[0m\n\u001b[0;32m      1\u001b[0m \u001b[38;5;66;03m# 특성선택 5개\u001b[39;00m\n\u001b[0;32m      2\u001b[0m \u001b[38;5;66;03m# 자영풀이\u001b[39;00m\n\u001b[1;32m----> 3\u001b[0m feautre_name_jy \u001b[38;5;241m=\u001b[39m [house_data\u001b[38;5;241m.\u001b[39mloc[\u001b[38;5;124m'\u001b[39m\u001b[38;5;124mRooms\u001b[39m\u001b[38;5;124m'\u001b[39m], house_data\u001b[38;5;241m.\u001b[39mloc[\u001b[38;5;124m'\u001b[39m\u001b[38;5;124mBedroom2\u001b[39m\u001b[38;5;124m'\u001b[39m],house_data\u001b[38;5;241m.\u001b[39mloc[\u001b[38;5;124m'\u001b[39m\u001b[38;5;124mBathroom\u001b[39m\u001b[38;5;124m'\u001b[39m],house_data\u001b[38;5;241m.\u001b[39mloc[\u001b[38;5;124m'\u001b[39m\u001b[38;5;124mLattitude\u001b[39m\u001b[38;5;124m'\u001b[39m],house_data\u001b[38;5;241m.\u001b[39mloc[\u001b[38;5;124m'\u001b[39m\u001b[38;5;124mLongtitude\u001b[39m\u001b[38;5;124m'\u001b[39m]]\n\u001b[0;32m      5\u001b[0m feautre_name_jy\n",
      "File \u001b[1;32m~\\anaconda3\\Lib\\site-packages\\pandas\\core\\indexing.py:1103\u001b[0m, in \u001b[0;36m_LocationIndexer.__getitem__\u001b[1;34m(self, key)\u001b[0m\n\u001b[0;32m   1100\u001b[0m axis \u001b[38;5;241m=\u001b[39m \u001b[38;5;28mself\u001b[39m\u001b[38;5;241m.\u001b[39maxis \u001b[38;5;129;01mor\u001b[39;00m \u001b[38;5;241m0\u001b[39m\n\u001b[0;32m   1102\u001b[0m maybe_callable \u001b[38;5;241m=\u001b[39m com\u001b[38;5;241m.\u001b[39mapply_if_callable(key, \u001b[38;5;28mself\u001b[39m\u001b[38;5;241m.\u001b[39mobj)\n\u001b[1;32m-> 1103\u001b[0m \u001b[38;5;28;01mreturn\u001b[39;00m \u001b[38;5;28mself\u001b[39m\u001b[38;5;241m.\u001b[39m_getitem_axis(maybe_callable, axis\u001b[38;5;241m=\u001b[39maxis)\n",
      "File \u001b[1;32m~\\anaconda3\\Lib\\site-packages\\pandas\\core\\indexing.py:1343\u001b[0m, in \u001b[0;36m_LocIndexer._getitem_axis\u001b[1;34m(self, key, axis)\u001b[0m\n\u001b[0;32m   1341\u001b[0m \u001b[38;5;66;03m# fall thru to straight lookup\u001b[39;00m\n\u001b[0;32m   1342\u001b[0m \u001b[38;5;28mself\u001b[39m\u001b[38;5;241m.\u001b[39m_validate_key(key, axis)\n\u001b[1;32m-> 1343\u001b[0m \u001b[38;5;28;01mreturn\u001b[39;00m \u001b[38;5;28mself\u001b[39m\u001b[38;5;241m.\u001b[39m_get_label(key, axis\u001b[38;5;241m=\u001b[39maxis)\n",
      "File \u001b[1;32m~\\anaconda3\\Lib\\site-packages\\pandas\\core\\indexing.py:1293\u001b[0m, in \u001b[0;36m_LocIndexer._get_label\u001b[1;34m(self, label, axis)\u001b[0m\n\u001b[0;32m   1291\u001b[0m \u001b[38;5;28;01mdef\u001b[39;00m \u001b[38;5;21m_get_label\u001b[39m(\u001b[38;5;28mself\u001b[39m, label, axis: AxisInt):\n\u001b[0;32m   1292\u001b[0m     \u001b[38;5;66;03m# GH#5567 this will fail if the label is not present in the axis.\u001b[39;00m\n\u001b[1;32m-> 1293\u001b[0m     \u001b[38;5;28;01mreturn\u001b[39;00m \u001b[38;5;28mself\u001b[39m\u001b[38;5;241m.\u001b[39mobj\u001b[38;5;241m.\u001b[39mxs(label, axis\u001b[38;5;241m=\u001b[39maxis)\n",
      "File \u001b[1;32m~\\anaconda3\\Lib\\site-packages\\pandas\\core\\generic.py:4095\u001b[0m, in \u001b[0;36mNDFrame.xs\u001b[1;34m(self, key, axis, level, drop_level)\u001b[0m\n\u001b[0;32m   4093\u001b[0m             new_index \u001b[38;5;241m=\u001b[39m index[loc]\n\u001b[0;32m   4094\u001b[0m \u001b[38;5;28;01melse\u001b[39;00m:\n\u001b[1;32m-> 4095\u001b[0m     loc \u001b[38;5;241m=\u001b[39m index\u001b[38;5;241m.\u001b[39mget_loc(key)\n\u001b[0;32m   4097\u001b[0m     \u001b[38;5;28;01mif\u001b[39;00m \u001b[38;5;28misinstance\u001b[39m(loc, np\u001b[38;5;241m.\u001b[39mndarray):\n\u001b[0;32m   4098\u001b[0m         \u001b[38;5;28;01mif\u001b[39;00m loc\u001b[38;5;241m.\u001b[39mdtype \u001b[38;5;241m==\u001b[39m np\u001b[38;5;241m.\u001b[39mbool_:\n",
      "File \u001b[1;32m~\\anaconda3\\Lib\\site-packages\\pandas\\core\\indexes\\range.py:349\u001b[0m, in \u001b[0;36mRangeIndex.get_loc\u001b[1;34m(self, key)\u001b[0m\n\u001b[0;32m    347\u001b[0m         \u001b[38;5;28;01mraise\u001b[39;00m \u001b[38;5;167;01mKeyError\u001b[39;00m(key) \u001b[38;5;28;01mfrom\u001b[39;00m \u001b[38;5;21;01merr\u001b[39;00m\n\u001b[0;32m    348\u001b[0m \u001b[38;5;28;01mif\u001b[39;00m \u001b[38;5;28misinstance\u001b[39m(key, Hashable):\n\u001b[1;32m--> 349\u001b[0m     \u001b[38;5;28;01mraise\u001b[39;00m \u001b[38;5;167;01mKeyError\u001b[39;00m(key)\n\u001b[0;32m    350\u001b[0m \u001b[38;5;28mself\u001b[39m\u001b[38;5;241m.\u001b[39m_check_indexing_error(key)\n\u001b[0;32m    351\u001b[0m \u001b[38;5;28;01mraise\u001b[39;00m \u001b[38;5;167;01mKeyError\u001b[39;00m(key)\n",
      "\u001b[1;31mKeyError\u001b[0m: 'Rooms'"
     ]
    }
   ],
   "source": [
    "# 특성선택 5개\n",
    "# 자영풀이\n",
    "feautre_name_jy = [house_data.loc['Rooms'], house_data.loc['Bedroom2'],house_data.loc['Bathroom'],house_data.loc['Lattitude'],house_data.loc['Longtitude']]\n",
    "\n",
    "feautre_name_jy\n",
    "# Rooms 0.496634\n",
    "# Bedroom2 0.475951\n",
    "# Bathroom 0.467038\n",
    "# Lattitude -0.212934\n",
    "# Longtitude 0.203656\n",
    "\n",
    "# 결측치 존재 # YearBuilt\n"
   ]
  },
  {
   "cell_type": "code",
   "execution_count": 206,
   "id": "bfa1a80e",
   "metadata": {},
   "outputs": [
    {
     "data": {
      "text/plain": [
       "['Rooms', 'Bedroom2', 'Bathroom', 'Lattitude', 'Distance']"
      ]
     },
     "execution_count": 206,
     "metadata": {},
     "output_type": "execute_result"
    }
   ],
   "source": [
    "# 특성선택 5개\n",
    "# 쌤풀이\n",
    "feautre_name = ['Rooms', 'Bedroom2', 'Bathroom', 'Lattitude', 'Distance']\n",
    "feautre_name # ['Rooms', 'Bedroom2', 'Bathroom', 'Lattitude', 'Distance']\n",
    "\n",
    "# Distance\t: 시내로부터 떨어진 거리\n",
    "# Lattitude : 위도\n"
   ]
  },
  {
   "cell_type": "code",
   "execution_count": 207,
   "id": "ed054d76",
   "metadata": {},
   "outputs": [],
   "source": [
    "# 문제\n",
    "X = house_data[feautre_name]\n",
    "# 정답\n",
    "y = house_data['Price']"
   ]
  },
  {
   "cell_type": "code",
   "execution_count": 208,
   "id": "d13ce03a",
   "metadata": {},
   "outputs": [],
   "source": [
    "# 훈련용, 평가용 데이터로 분리\n",
    "from sklearn.model_selection import train_test_split\n",
    "X_train, X_test, y_train, y_test= train_test_split(X, y, test_size=0.3,\n",
    "                                                    random_state=22)"
   ]
  },
  {
   "cell_type": "code",
   "execution_count": 209,
   "id": "ca7e191b",
   "metadata": {
    "scrolled": true
   },
   "outputs": [
    {
     "name": "stdout",
     "output_type": "stream",
     "text": [
      "(9506, 5) (9506,)\n",
      "(4074, 5) (4074,)\n"
     ]
    }
   ],
   "source": [
    "# 크기확인\n",
    "print(X_train.shape, y_train.shape) # (9506, 5) (9506,)\n",
    "print(X_test.shape, y_test.shape) # (4074, 5) (4074,)"
   ]
  },
  {
   "cell_type": "code",
   "execution_count": 240,
   "id": "e6a4ffe4",
   "metadata": {},
   "outputs": [],
   "source": [
    "# 모델 생성\n",
    "\n",
    "# 쌤풀이\n",
    "# 단순 mse 활용 선형회귀모델 ->house_linear_model\n",
    "house_linear_model = LinearRegression()\n",
    "\n",
    "# 경사하강법을 활용한 선형회귀모델 (하이퍼파라미터조절X) -> house_sgd_model\n",
    "house_sgd_model = SGDRegressor()\n",
    "\n"
   ]
  },
  {
   "cell_type": "code",
   "execution_count": 241,
   "id": "ed7e44a4",
   "metadata": {},
   "outputs": [
    {
     "data": {
      "text/html": [
       "<style>#sk-container-id-20 {color: black;}#sk-container-id-20 pre{padding: 0;}#sk-container-id-20 div.sk-toggleable {background-color: white;}#sk-container-id-20 label.sk-toggleable__label {cursor: pointer;display: block;width: 100%;margin-bottom: 0;padding: 0.3em;box-sizing: border-box;text-align: center;}#sk-container-id-20 label.sk-toggleable__label-arrow:before {content: \"▸\";float: left;margin-right: 0.25em;color: #696969;}#sk-container-id-20 label.sk-toggleable__label-arrow:hover:before {color: black;}#sk-container-id-20 div.sk-estimator:hover label.sk-toggleable__label-arrow:before {color: black;}#sk-container-id-20 div.sk-toggleable__content {max-height: 0;max-width: 0;overflow: hidden;text-align: left;background-color: #f0f8ff;}#sk-container-id-20 div.sk-toggleable__content pre {margin: 0.2em;color: black;border-radius: 0.25em;background-color: #f0f8ff;}#sk-container-id-20 input.sk-toggleable__control:checked~div.sk-toggleable__content {max-height: 200px;max-width: 100%;overflow: auto;}#sk-container-id-20 input.sk-toggleable__control:checked~label.sk-toggleable__label-arrow:before {content: \"▾\";}#sk-container-id-20 div.sk-estimator input.sk-toggleable__control:checked~label.sk-toggleable__label {background-color: #d4ebff;}#sk-container-id-20 div.sk-label input.sk-toggleable__control:checked~label.sk-toggleable__label {background-color: #d4ebff;}#sk-container-id-20 input.sk-hidden--visually {border: 0;clip: rect(1px 1px 1px 1px);clip: rect(1px, 1px, 1px, 1px);height: 1px;margin: -1px;overflow: hidden;padding: 0;position: absolute;width: 1px;}#sk-container-id-20 div.sk-estimator {font-family: monospace;background-color: #f0f8ff;border: 1px dotted black;border-radius: 0.25em;box-sizing: border-box;margin-bottom: 0.5em;}#sk-container-id-20 div.sk-estimator:hover {background-color: #d4ebff;}#sk-container-id-20 div.sk-parallel-item::after {content: \"\";width: 100%;border-bottom: 1px solid gray;flex-grow: 1;}#sk-container-id-20 div.sk-label:hover label.sk-toggleable__label {background-color: #d4ebff;}#sk-container-id-20 div.sk-serial::before {content: \"\";position: absolute;border-left: 1px solid gray;box-sizing: border-box;top: 0;bottom: 0;left: 50%;z-index: 0;}#sk-container-id-20 div.sk-serial {display: flex;flex-direction: column;align-items: center;background-color: white;padding-right: 0.2em;padding-left: 0.2em;position: relative;}#sk-container-id-20 div.sk-item {position: relative;z-index: 1;}#sk-container-id-20 div.sk-parallel {display: flex;align-items: stretch;justify-content: center;background-color: white;position: relative;}#sk-container-id-20 div.sk-item::before, #sk-container-id-20 div.sk-parallel-item::before {content: \"\";position: absolute;border-left: 1px solid gray;box-sizing: border-box;top: 0;bottom: 0;left: 50%;z-index: -1;}#sk-container-id-20 div.sk-parallel-item {display: flex;flex-direction: column;z-index: 1;position: relative;background-color: white;}#sk-container-id-20 div.sk-parallel-item:first-child::after {align-self: flex-end;width: 50%;}#sk-container-id-20 div.sk-parallel-item:last-child::after {align-self: flex-start;width: 50%;}#sk-container-id-20 div.sk-parallel-item:only-child::after {width: 0;}#sk-container-id-20 div.sk-dashed-wrapped {border: 1px dashed gray;margin: 0 0.4em 0.5em 0.4em;box-sizing: border-box;padding-bottom: 0.4em;background-color: white;}#sk-container-id-20 div.sk-label label {font-family: monospace;font-weight: bold;display: inline-block;line-height: 1.2em;}#sk-container-id-20 div.sk-label-container {text-align: center;}#sk-container-id-20 div.sk-container {/* jupyter's `normalize.less` sets `[hidden] { display: none; }` but bootstrap.min.css set `[hidden] { display: none !important; }` so we also need the `!important` here to be able to override the default hidden behavior on the sphinx rendered scikit-learn.org. See: https://github.com/scikit-learn/scikit-learn/issues/21755 */display: inline-block !important;position: relative;}#sk-container-id-20 div.sk-text-repr-fallback {display: none;}</style><div id=\"sk-container-id-20\" class=\"sk-top-container\"><div class=\"sk-text-repr-fallback\"><pre>SGDRegressor()</pre><b>In a Jupyter environment, please rerun this cell to show the HTML representation or trust the notebook. <br />On GitHub, the HTML representation is unable to render, please try loading this page with nbviewer.org.</b></div><div class=\"sk-container\" hidden><div class=\"sk-item\"><div class=\"sk-estimator sk-toggleable\"><input class=\"sk-toggleable__control sk-hidden--visually\" id=\"sk-estimator-id-20\" type=\"checkbox\" checked><label for=\"sk-estimator-id-20\" class=\"sk-toggleable__label sk-toggleable__label-arrow\">SGDRegressor</label><div class=\"sk-toggleable__content\"><pre>SGDRegressor()</pre></div></div></div></div></div>"
      ],
      "text/plain": [
       "SGDRegressor()"
      ]
     },
     "execution_count": 241,
     "metadata": {},
     "output_type": "execute_result"
    }
   ],
   "source": [
    "# 학습\n",
    "house_linear_model.fit(X_train, y_train)\n",
    "house_sgd_model.fit(X_train, y_train)"
   ]
  },
  {
   "cell_type": "code",
   "execution_count": 242,
   "id": "8a52f7c5",
   "metadata": {},
   "outputs": [],
   "source": [
    "# 평가지표(mse)\n",
    "from sklearn.metrics import mean_squared_error # 평균제곱오차\n",
    "# metrics : 평가지표 모음\n"
   ]
  },
  {
   "cell_type": "code",
   "execution_count": 243,
   "id": "5dc17c71",
   "metadata": {},
   "outputs": [],
   "source": [
    "# 예측\n",
    "linear_pre = house_linear_model.predict(X_test)"
   ]
  },
  {
   "cell_type": "code",
   "execution_count": 244,
   "id": "5a3f5554",
   "metadata": {},
   "outputs": [
    {
     "name": "stdout",
     "output_type": "stream",
     "text": [
      "linear_mse :  230460176519.23233\n"
     ]
    }
   ],
   "source": [
    "# 평가\n",
    "# mean_squared_error(실제답, 예측답)\n",
    "print('linear_mse : ', mean_squared_error(y_test, linear_pre)) # linear_mse :  230460176519.23233"
   ]
  },
  {
   "cell_type": "code",
   "execution_count": 245,
   "id": "0a5df1e5",
   "metadata": {},
   "outputs": [
    {
     "name": "stdout",
     "output_type": "stream",
     "text": [
      "sge_mse:  339713288305.0459\n"
     ]
    }
   ],
   "source": [
    "# sgd_model의 평가 및 mes 확인\n",
    "sgd_pre = house_sgd_model.predict(X_test)\n",
    "print('sge_mse: ', mean_squared_error(y_test,sgd_pre))\n",
    "# 단순 linear 모델보다 오차가 큰 것을 확인\n",
    "# sgd 모델은 경사하강법을 활용 -> 초기 값을 랜덤으로 설정\n",
    "# 평가 결과가 달라질 수 있음!"
   ]
  },
  {
   "cell_type": "code",
   "execution_count": 247,
   "id": "f80537c2",
   "metadata": {},
   "outputs": [
    {
     "name": "stdout",
     "output_type": "stream",
     "text": [
      "linear_mse :  480062.67978174717\n",
      "sge_mse:  582849.2843823744\n"
     ]
    }
   ],
   "source": [
    "# 오차를 제곱하다보니 셜과도 제곱 -> 단위 문제\n",
    "# 해결하기 위해서 오차에 루트\n",
    "# RMSE\n",
    "print('linear_mse : ', mean_squared_error(y_test, linear_pre) **0.5) \n",
    "print('sge_mse: ', mean_squared_error(y_test,sgd_pre) ** 0.5)\n",
    "# 약 48만달러의 오차가 있음을 확인"
   ]
  },
  {
   "cell_type": "code",
   "execution_count": 249,
   "id": "8e187f7c",
   "metadata": {},
   "outputs": [],
   "source": [
    "# r2 score\n",
    "# 오차로만 성능을 파악하기에는 비교대상이 XX\n",
    "# 실제 데이터에서 오차와 예측 데이터에서 오차를 비교하여 \n",
    "# 차이를 확인 -> 1에 가까울수록 잘 예측했다라고 판단"
   ]
  },
  {
   "attachments": {
    "image.png": {
     "image/png": "[encoded data removed]"
    }
   },
   "cell_type": "markdown",
   "id": "cc47ad4d",
   "metadata": {},
   "source": [
    "![image.png](attachment:image.png)"
   ]
  },
  {
   "attachments": {
    "image.png": {
     "image/png": "[encoded data removed]"
    }
   },
   "cell_type": "markdown",
   "id": "836d0717",
   "metadata": {},
   "source": [
    "![image.png](attachment:image.png)"
   ]
  },
  {
   "cell_type": "markdown",
   "id": "d72f2a5b",
   "metadata": {},
   "source": [
    "### 회귀모델의 평가지표\n",
    "- MSE(MeanSquaredError, 평균제곱오차)\n",
    "    - 실제 데이터와 예측 데이터의 차이를 제곱 -> 평균\n",
    "- RMSE(RootMeanSquaredError)\n",
    "    - MSE에 루트를 씌워줌으로써 단위 문제를 해결\n",
    "- MAE(MeanAbsoluteError, 평균절댓값오차)\n",
    "    - 실제 데이터와 예측 데이터의 차이 절댓값 ->평균(부호)\n",
    "- r2 score \n",
    "    - 위 3개의 지표들은 오차로 판단하기 때문에 공통적인 평가방법이 아니더라, 정규하된 방법으로 회귀모델을 평가하기 위하여 나온 평가지표\n",
    "    - 실제값과 예측값의 분산 비교\n",
    "    - 실제 데이터에서 오차와 예측 데이터에서의 오차 비교\n",
    "    - 1에 가까울수록 잘 예측했다고 판별"
   ]
  },
  {
   "cell_type": "code",
   "execution_count": 253,
   "id": "5b9fb19d",
   "metadata": {},
   "outputs": [
    {
     "name": "stdout",
     "output_type": "stream",
     "text": [
      "Linear score:  0.4520962940869184\n",
      "SGD score:  0.19235430423823863\n"
     ]
    }
   ],
   "source": [
    "# r2 score 구해보기\n",
    "print(\"Linear score: \", house_linear_model.score(X_test, y_test))\n",
    "print('SGD score: ', house_sgd_model.score(X_test, y_test))"
   ]
  },
  {
   "cell_type": "markdown",
   "id": "47c97a6e",
   "metadata": {},
   "source": [
    "### 스케일링 적용\n",
    "- 선형모델 각 특성에 스케일에 영향을 받는 모델(오차계산 -> 거리셰간)\n",
    "- 경사하강법 적용 시 학습의 안정성을 위해서 스케일링 진행\n"
   ]
  },
  {
   "cell_type": "code",
   "execution_count": 256,
   "id": "a50603b5",
   "metadata": {},
   "outputs": [],
   "source": [
    "# 도구 불러오기\n",
    "from sklearn.preprocessing import StandardScaler"
   ]
  },
  {
   "cell_type": "code",
   "execution_count": 258,
   "id": "1af50768",
   "metadata": {},
   "outputs": [],
   "source": [
    "# 스케일러 생성\n",
    "std_scaler = StandardScaler()"
   ]
  },
  {
   "cell_type": "code",
   "execution_count": 265,
   "id": "9508e43a",
   "metadata": {},
   "outputs": [],
   "source": [
    "# 스케일러 -> X_train에 대해서 학습 -> 변환\n",
    "X_train_scale = std_scaler.fit_transform(X_train)\n",
    "X_test_scale = std_scaler.fit_transform(X_test)"
   ]
  },
  {
   "cell_type": "code",
   "execution_count": 330,
   "id": "fbc67362",
   "metadata": {},
   "outputs": [
    {
     "name": "stdout",
     "output_type": "stream",
     "text": [
      "스케일링 진행한 linear score :  -56.67479609028194\n",
      "스케일링 진행한 sgd score :  -56.630024537266635\n"
     ]
    },
    {
     "name": "stderr",
     "output_type": "stream",
     "text": [
      "C:\\Users\\smhrd\\anaconda3\\Lib\\site-packages\\sklearn\\base.py:457: UserWarning: X has feature names, but LinearRegression was fitted without feature names\n",
      "  warnings.warn(\n",
      "C:\\Users\\smhrd\\anaconda3\\Lib\\site-packages\\sklearn\\base.py:457: UserWarning: X has feature names, but SGDRegressor was fitted without feature names\n",
      "  warnings.warn(\n"
     ]
    }
   ],
   "source": [
    "# 쌤풀이\n",
    "\n",
    "# 다시 모델 학습 및 평가\n",
    "# linear_model2\n",
    "linear_model2= LinearRegression()\n",
    "linear_model2.fit(X_train_scale, y_train)\n",
    "# sgd_model2\n",
    "sgd_model2= SGDRegressor(eta0=0.001)\n",
    "sgd_model2.fit(X_train_scale, y_train)\n",
    "\n",
    "# 평가(r2 score로 평가)\n",
    "print(\"스케일링 진행한 linear score : \", linear_model2.score(X_test, y_test))\n",
    "print(\"스케일링 진행한 sgd score : \", sgd_model2.score(X_test, y_test))"
   ]
  },
  {
   "cell_type": "code",
   "execution_count": 271,
   "id": "ecd4364c",
   "metadata": {},
   "outputs": [
    {
     "data": {
      "text/html": [
       "<style>#sk-container-id-23 {color: black;}#sk-container-id-23 pre{padding: 0;}#sk-container-id-23 div.sk-toggleable {background-color: white;}#sk-container-id-23 label.sk-toggleable__label {cursor: pointer;display: block;width: 100%;margin-bottom: 0;padding: 0.3em;box-sizing: border-box;text-align: center;}#sk-container-id-23 label.sk-toggleable__label-arrow:before {content: \"▸\";float: left;margin-right: 0.25em;color: #696969;}#sk-container-id-23 label.sk-toggleable__label-arrow:hover:before {color: black;}#sk-container-id-23 div.sk-estimator:hover label.sk-toggleable__label-arrow:before {color: black;}#sk-container-id-23 div.sk-toggleable__content {max-height: 0;max-width: 0;overflow: hidden;text-align: left;background-color: #f0f8ff;}#sk-container-id-23 div.sk-toggleable__content pre {margin: 0.2em;color: black;border-radius: 0.25em;background-color: #f0f8ff;}#sk-container-id-23 input.sk-toggleable__control:checked~div.sk-toggleable__content {max-height: 200px;max-width: 100%;overflow: auto;}#sk-container-id-23 input.sk-toggleable__control:checked~label.sk-toggleable__label-arrow:before {content: \"▾\";}#sk-container-id-23 div.sk-estimator input.sk-toggleable__control:checked~label.sk-toggleable__label {background-color: #d4ebff;}#sk-container-id-23 div.sk-label input.sk-toggleable__control:checked~label.sk-toggleable__label {background-color: #d4ebff;}#sk-container-id-23 input.sk-hidden--visually {border: 0;clip: rect(1px 1px 1px 1px);clip: rect(1px, 1px, 1px, 1px);height: 1px;margin: -1px;overflow: hidden;padding: 0;position: absolute;width: 1px;}#sk-container-id-23 div.sk-estimator {font-family: monospace;background-color: #f0f8ff;border: 1px dotted black;border-radius: 0.25em;box-sizing: border-box;margin-bottom: 0.5em;}#sk-container-id-23 div.sk-estimator:hover {background-color: #d4ebff;}#sk-container-id-23 div.sk-parallel-item::after {content: \"\";width: 100%;border-bottom: 1px solid gray;flex-grow: 1;}#sk-container-id-23 div.sk-label:hover label.sk-toggleable__label {background-color: #d4ebff;}#sk-container-id-23 div.sk-serial::before {content: \"\";position: absolute;border-left: 1px solid gray;box-sizing: border-box;top: 0;bottom: 0;left: 50%;z-index: 0;}#sk-container-id-23 div.sk-serial {display: flex;flex-direction: column;align-items: center;background-color: white;padding-right: 0.2em;padding-left: 0.2em;position: relative;}#sk-container-id-23 div.sk-item {position: relative;z-index: 1;}#sk-container-id-23 div.sk-parallel {display: flex;align-items: stretch;justify-content: center;background-color: white;position: relative;}#sk-container-id-23 div.sk-item::before, #sk-container-id-23 div.sk-parallel-item::before {content: \"\";position: absolute;border-left: 1px solid gray;box-sizing: border-box;top: 0;bottom: 0;left: 50%;z-index: -1;}#sk-container-id-23 div.sk-parallel-item {display: flex;flex-direction: column;z-index: 1;position: relative;background-color: white;}#sk-container-id-23 div.sk-parallel-item:first-child::after {align-self: flex-end;width: 50%;}#sk-container-id-23 div.sk-parallel-item:last-child::after {align-self: flex-start;width: 50%;}#sk-container-id-23 div.sk-parallel-item:only-child::after {width: 0;}#sk-container-id-23 div.sk-dashed-wrapped {border: 1px dashed gray;margin: 0 0.4em 0.5em 0.4em;box-sizing: border-box;padding-bottom: 0.4em;background-color: white;}#sk-container-id-23 div.sk-label label {font-family: monospace;font-weight: bold;display: inline-block;line-height: 1.2em;}#sk-container-id-23 div.sk-label-container {text-align: center;}#sk-container-id-23 div.sk-container {/* jupyter's `normalize.less` sets `[hidden] { display: none; }` but bootstrap.min.css set `[hidden] { display: none !important; }` so we also need the `!important` here to be able to override the default hidden behavior on the sphinx rendered scikit-learn.org. See: https://github.com/scikit-learn/scikit-learn/issues/21755 */display: inline-block !important;position: relative;}#sk-container-id-23 div.sk-text-repr-fallback {display: none;}</style><div id=\"sk-container-id-23\" class=\"sk-top-container\"><div class=\"sk-text-repr-fallback\"><pre>SGDRegressor()</pre><b>In a Jupyter environment, please rerun this cell to show the HTML representation or trust the notebook. <br />On GitHub, the HTML representation is unable to render, please try loading this page with nbviewer.org.</b></div><div class=\"sk-container\" hidden><div class=\"sk-item\"><div class=\"sk-estimator sk-toggleable\"><input class=\"sk-toggleable__control sk-hidden--visually\" id=\"sk-estimator-id-23\" type=\"checkbox\" checked><label for=\"sk-estimator-id-23\" class=\"sk-toggleable__label sk-toggleable__label-arrow\">SGDRegressor</label><div class=\"sk-toggleable__content\"><pre>SGDRegressor()</pre></div></div></div></div></div>"
      ],
      "text/plain": [
       "SGDRegressor()"
      ]
     },
     "execution_count": 271,
     "metadata": {},
     "output_type": "execute_result"
    }
   ],
   "source": [
    "# 자영풀이\n",
    "linear_model21= LinearRegression()\n",
    "sgd_model21= SGDRegressor()\n",
    "\n",
    "linear_model21.fit(X_train_scale, y_train)\n",
    "sgd_model21.fit(X_train_scale, y_train)\n"
   ]
  },
  {
   "cell_type": "code",
   "execution_count": 274,
   "id": "c82135bb",
   "metadata": {},
   "outputs": [
    {
     "name": "stderr",
     "output_type": "stream",
     "text": [
      "C:\\Users\\smhrd\\anaconda3\\Lib\\site-packages\\sklearn\\base.py:457: UserWarning: X has feature names, but LinearRegression was fitted without feature names\n",
      "  warnings.warn(\n",
      "C:\\Users\\smhrd\\anaconda3\\Lib\\site-packages\\sklearn\\base.py:457: UserWarning: X has feature names, but SGDRegressor was fitted without feature names\n",
      "  warnings.warn(\n"
     ]
    },
    {
     "data": {
      "text/plain": [
       "-62.103130329151554"
      ]
     },
     "execution_count": 274,
     "metadata": {},
     "output_type": "execute_result"
    }
   ],
   "source": [
    "linear_model21.score(X_test, y_test)\n",
    "sgd_model21.score(X_test, y_test)"
   ]
  }
 ],
 "metadata": {
  "kernelspec": {
   "display_name": "Python 3 (ipykernel)",
   "language": "python",
   "name": "python3"
  },
  "language_info": {
   "codemirror_mode": {
    "name": "ipython",
    "version": 3
   },
   "file_extension": ".py",
   "mimetype": "text/x-python",
   "name": "python",
   "nbconvert_exporter": "python",
   "pygments_lexer": "ipython3",
   "version": "3.11.5"
  }
 },
 "nbformat": 4,
 "nbformat_minor": 5
}
