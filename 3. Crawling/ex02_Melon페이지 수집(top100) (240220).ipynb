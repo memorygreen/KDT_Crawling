{
 "cells": [
  {
   "cell_type": "markdown",
   "id": "d0e41e1d",
   "metadata": {},
   "source": [
    "### 학습목표\n",
    "- 멜론페이지의 정보를 받아와 top100 데이터 수집\n",
    "- 노래제목, 가수명\n",
    "- 추출한 데이터를 활용"
   ]
  },
  {
   "cell_type": "code",
   "execution_count": 1,
   "id": "4290b146",
   "metadata": {},
   "outputs": [],
   "source": [
    "# 라이브러리 불러오기\n",
    "import requests as req\n",
    "from bs4 import BeautifulSoup as bs"
   ]
  },
  {
   "cell_type": "code",
   "execution_count": 2,
   "id": "1d281623",
   "metadata": {},
   "outputs": [
    {
     "data": {
      "text/plain": [
       "<Response [406]>"
      ]
     },
     "execution_count": 2,
     "metadata": {},
     "output_type": "execute_result"
    }
   ],
   "source": [
    "#페이지 정보 받아오기 (res)\n",
    "url = \"https://www.melon.com/chart/\"\n",
    "req.get(url)\n",
    "# Response [406] 결과 출력 > 클라이언트 요청에 문제 발생!"
   ]
  },
  {
   "cell_type": "code",
   "execution_count": 3,
   "id": "bcb8e75a",
   "metadata": {
    "scrolled": true
   },
   "outputs": [
    {
     "data": {
      "text/plain": [
       "<Response [200]>"
      ]
     },
     "execution_count": 3,
     "metadata": {},
     "output_type": "execute_result"
    }
   ],
   "source": [
    "# 멜론서버에서 브라우저를 통해 접근하지 않은 것을 인지! > 요청 거절\n",
    "# 브라우저인 척 속여서 요청\n",
    "# 요청 시 브라우저 정보를 포함하여 요청\n",
    "h = {'User-Agent':'Mozilla/5.0 (Windows NT 10.0; Win64; x64) AppleWebKit/537.36 (KHTML, like Gecko) Chrome/121.0.0.0 Safari/537.36'}\n",
    "url = 'https://www.melon.com/chart/'\n",
    "res = req.get(url, headers = h)\n",
    "res\n",
    "#출력:\n",
    "# <Response [200]>"
   ]
  },
  {
   "cell_type": "code",
   "execution_count": 23,
   "id": "b8e34dfd",
   "metadata": {
    "scrolled": true
   },
   "outputs": [],
   "source": [
    "# bs 객체화\n",
    "soup = bs(res.text, 'lxml')"
   ]
  },
  {
   "cell_type": "markdown",
   "id": "3ace919f",
   "metadata": {},
   "source": [
    "- 노래제목 추출"
   ]
  },
  {
   "cell_type": "code",
   "execution_count": 26,
   "id": "d02bb62b",
   "metadata": {},
   "outputs": [
    {
     "data": {
      "text/plain": [
       "[]"
      ]
     },
     "execution_count": 26,
     "metadata": {},
     "output_type": "execute_result"
    }
   ],
   "source": [
    "soup.select('div.ellipsis rank01>span>a')\n",
    "#출력\n",
    "#[]\n",
    "\n",
    "# 그 선택 결과 > 빈리스트\n",
    "# 왜? 클래스명 사이에 공백 때문\n",
    "# div 태그가 2개의 클래스명을 가지게 되어서 띄어쓰기로 구분\n",
    "# 선택자에서 자손선택자 기호가 공백(rank01을 자손이라고 생각)\n",
    "# 공백 > . 변경"
   ]
  },
  {
   "cell_type": "code",
   "execution_count": 32,
   "id": "4e189c26",
   "metadata": {
    "scrolled": false
   },
   "outputs": [],
   "source": [
    "# 공백을 .으로 변경하여 다시 추출\n",
    "song = soup.select('div.ellipsis.rank01>span>a')\n"
   ]
  },
  {
   "cell_type": "code",
   "execution_count": 35,
   "id": "6d1c0e92",
   "metadata": {},
   "outputs": [
    {
     "data": {
      "text/plain": [
       "'Love wins all'"
      ]
     },
     "execution_count": 35,
     "metadata": {},
     "output_type": "execute_result"
    }
   ],
   "source": [
    "#확인\n",
    "song[0].text"
   ]
  },
  {
   "cell_type": "code",
   "execution_count": 39,
   "id": "7ffaddba",
   "metadata": {
    "collapsed": true
   },
   "outputs": [
    {
     "name": "stdout",
     "output_type": "stream",
     "text": [
      "Love wins all\n",
      "밤양갱\n",
      "첫 만남은 계획대로 되지 않아\n",
      "To. X\n",
      "비의 랩소디\n",
      "Love 119\n",
      "에피소드\n",
      "Perfect Night\n",
      "그대만 있다면 (여름날 우리 X 너드커넥션 (Nerd Connection))\n",
      "Drama\n",
      "EASY\n",
      "Super Lady\n",
      "헤어지자 말해요\n",
      "Wife\n",
      "사랑은 늘 도망가\n",
      "인사\n",
      "꿈\n",
      "Seven (feat. Latto) - Clean Ver.\n",
      "모래 알갱이\n",
      "MANIAC\n",
      "I AM\n",
      "우리들의 블루스\n",
      "Get A Guitar\n",
      "Do or Die\n",
      "다시 만날 수 있을까\n",
      "너의 모든 순간\n",
      "Baddie\n",
      "Love Lee\n",
      "이제 나만 믿어요\n",
      "무지개\n",
      "You & Me\n",
      "사막에서 꽃을 피우듯\n",
      "예뻤어\n",
      "London Boy\n",
      "Polaroid\n",
      "아버지\n",
      "잘 지내자, 우리 (여름날 우리 X 로이킴)\n",
      "Super Shy\n",
      "Hype Boy\n",
      "퀸카 (Queencard)\n",
      "인생찬가\n",
      "사랑인가 봐\n",
      "한 페이지가 될 수 있게\n",
      "Ditto\n",
      "후라이의 꿈\n",
      "A bientot\n",
      "Standing Next to You\n",
      "ETA\n",
      "어떻게 이별까지 사랑하겠어, 널 사랑하는 거지\n",
      "사랑할 수밖에\n",
      "사건의 지평선\n",
      "기억해줘요 내 모든 날과 그때를\n",
      "사랑하지 않아서 그랬어\n",
      "Spicy\n",
      "취중고백\n",
      "심(心)\n",
      "첫 눈\n",
      "연애편지\n",
      "그대가 내 안에 박혔다(그내박)\n",
      "모든 날, 모든 순간 (Every day, Every Moment)\n",
      "별 떨어진다 (I Do)\n",
      "이브, 프시케 그리고 푸른 수염의 아내\n",
      "봄날\n",
      "나는 아픈 건 딱 질색이니까\n",
      "Yes or No (Feat. 허윤진 of LE SSERAFIM, Crush)\n",
      "Dynamite\n",
      "LOVE DIVE\n",
      "I Don't Think That I Like Her\n",
      "주저하는 연인들을 위해\n",
      "Kitsch\n",
      "Steal The Show (From “엘리멘탈”)\n",
      "해요 (2022)\n",
      "그대가 있는 곳, 언제 어디든\n",
      "사랑..그게 뭔데\n",
      "손오공\n",
      "Discord\n",
      "음악의 신\n",
      "물론\n",
      "After LIKE\n",
      "다정히 내 이름을 부르면\n",
      "파이팅 해야지 (Feat. 이영지)\n",
      "OMG\n",
      "Dangerously\n",
      "Fast Forward\n",
      "I Love You\n",
      "Smoke (Prod. Dynamicduo, Padi)\n",
      "Off The Record\n",
      "Butter\n",
      "그중에 그대를 만나\n",
      "건물 사이에 피어난 장미 (Rose Blossom)\n",
      "Bubble\n",
      "UNFORGIVEN (feat. Nile Rodgers)\n",
      "Attention\n",
      "나에게 그대만이\n",
      "Either Way\n",
      "Merry PLLIstmas\n",
      "여섯 번째 여름\n",
      "눈이 오잖아(Feat.헤이즈)\n",
      "잠시라도 우리\n",
      "Talk Saxy\n"
     ]
    }
   ],
   "source": [
    "#자영풀이1\n",
    "# 100개 데이터 콘텐츠만 추출\n",
    "for i in range(len(song)):\n",
    "    print(song[i].text)"
   ]
  },
  {
   "cell_type": "code",
   "execution_count": 43,
   "id": "da7599b4",
   "metadata": {
    "collapsed": true
   },
   "outputs": [
    {
     "name": "stdout",
     "output_type": "stream",
     "text": [
      "Love wins all\n",
      "밤양갱\n",
      "첫 만남은 계획대로 되지 않아\n",
      "To. X\n",
      "비의 랩소디\n",
      "Love 119\n",
      "에피소드\n",
      "Perfect Night\n",
      "그대만 있다면 (여름날 우리 X 너드커넥션 (Nerd Connection))\n",
      "Drama\n",
      "EASY\n",
      "Super Lady\n",
      "헤어지자 말해요\n",
      "Wife\n",
      "사랑은 늘 도망가\n",
      "인사\n",
      "꿈\n",
      "Seven (feat. Latto) - Clean Ver.\n",
      "모래 알갱이\n",
      "MANIAC\n",
      "I AM\n",
      "우리들의 블루스\n",
      "Get A Guitar\n",
      "Do or Die\n",
      "다시 만날 수 있을까\n",
      "너의 모든 순간\n",
      "Baddie\n",
      "Love Lee\n",
      "이제 나만 믿어요\n",
      "무지개\n",
      "You & Me\n",
      "사막에서 꽃을 피우듯\n",
      "예뻤어\n",
      "London Boy\n",
      "Polaroid\n",
      "아버지\n",
      "잘 지내자, 우리 (여름날 우리 X 로이킴)\n",
      "Super Shy\n",
      "Hype Boy\n",
      "퀸카 (Queencard)\n",
      "인생찬가\n",
      "사랑인가 봐\n",
      "한 페이지가 될 수 있게\n",
      "Ditto\n",
      "후라이의 꿈\n",
      "A bientot\n",
      "Standing Next to You\n",
      "ETA\n",
      "어떻게 이별까지 사랑하겠어, 널 사랑하는 거지\n",
      "사랑할 수밖에\n",
      "사건의 지평선\n",
      "기억해줘요 내 모든 날과 그때를\n",
      "사랑하지 않아서 그랬어\n",
      "Spicy\n",
      "취중고백\n",
      "심(心)\n",
      "첫 눈\n",
      "연애편지\n",
      "그대가 내 안에 박혔다(그내박)\n",
      "모든 날, 모든 순간 (Every day, Every Moment)\n",
      "별 떨어진다 (I Do)\n",
      "이브, 프시케 그리고 푸른 수염의 아내\n",
      "봄날\n",
      "나는 아픈 건 딱 질색이니까\n",
      "Yes or No (Feat. 허윤진 of LE SSERAFIM, Crush)\n",
      "Dynamite\n",
      "LOVE DIVE\n",
      "I Don't Think That I Like Her\n",
      "주저하는 연인들을 위해\n",
      "Kitsch\n",
      "Steal The Show (From “엘리멘탈”)\n",
      "해요 (2022)\n",
      "그대가 있는 곳, 언제 어디든\n",
      "사랑..그게 뭔데\n",
      "손오공\n",
      "Discord\n",
      "음악의 신\n",
      "물론\n",
      "After LIKE\n",
      "다정히 내 이름을 부르면\n",
      "파이팅 해야지 (Feat. 이영지)\n",
      "OMG\n",
      "Dangerously\n",
      "Fast Forward\n",
      "I Love You\n",
      "Smoke (Prod. Dynamicduo, Padi)\n",
      "Off The Record\n",
      "Butter\n",
      "그중에 그대를 만나\n",
      "건물 사이에 피어난 장미 (Rose Blossom)\n",
      "Bubble\n",
      "UNFORGIVEN (feat. Nile Rodgers)\n",
      "Attention\n",
      "나에게 그대만이\n",
      "Either Way\n",
      "Merry PLLIstmas\n",
      "여섯 번째 여름\n",
      "눈이 오잖아(Feat.헤이즈)\n",
      "잠시라도 우리\n",
      "Talk Saxy\n"
     ]
    }
   ],
   "source": [
    "#자영풀이2\n",
    "for j in song:\n",
    "    print(j.text)"
   ]
  },
  {
   "cell_type": "code",
   "execution_count": 46,
   "id": "a2a5dbb8",
   "metadata": {},
   "outputs": [
    {
     "name": "stdout",
     "output_type": "stream",
     "text": [
      "Love wins all\n",
      "밤양갱\n",
      "첫 만남은 계획대로 되지 않아\n",
      "To. X\n",
      "비의 랩소디\n",
      "Love 119\n",
      "에피소드\n",
      "Perfect Night\n",
      "그대만 있다면 (여름날 우리 X 너드커넥션 (Nerd Connection))\n",
      "Drama\n",
      "EASY\n",
      "Super Lady\n",
      "헤어지자 말해요\n",
      "Wife\n",
      "사랑은 늘 도망가\n",
      "인사\n",
      "꿈\n",
      "Seven (feat. Latto) - Clean Ver.\n",
      "모래 알갱이\n",
      "MANIAC\n",
      "I AM\n",
      "우리들의 블루스\n",
      "Get A Guitar\n",
      "Do or Die\n",
      "다시 만날 수 있을까\n",
      "너의 모든 순간\n",
      "Baddie\n",
      "Love Lee\n",
      "이제 나만 믿어요\n",
      "무지개\n",
      "You & Me\n",
      "사막에서 꽃을 피우듯\n",
      "예뻤어\n",
      "London Boy\n",
      "Polaroid\n",
      "아버지\n",
      "잘 지내자, 우리 (여름날 우리 X 로이킴)\n",
      "Super Shy\n",
      "Hype Boy\n",
      "퀸카 (Queencard)\n",
      "인생찬가\n",
      "사랑인가 봐\n",
      "한 페이지가 될 수 있게\n",
      "Ditto\n",
      "후라이의 꿈\n",
      "A bientot\n",
      "Standing Next to You\n",
      "ETA\n",
      "어떻게 이별까지 사랑하겠어, 널 사랑하는 거지\n",
      "사랑할 수밖에\n",
      "사건의 지평선\n",
      "기억해줘요 내 모든 날과 그때를\n",
      "사랑하지 않아서 그랬어\n",
      "Spicy\n",
      "취중고백\n",
      "심(心)\n",
      "첫 눈\n",
      "연애편지\n",
      "그대가 내 안에 박혔다(그내박)\n",
      "모든 날, 모든 순간 (Every day, Every Moment)\n",
      "별 떨어진다 (I Do)\n",
      "이브, 프시케 그리고 푸른 수염의 아내\n",
      "봄날\n",
      "나는 아픈 건 딱 질색이니까\n",
      "Yes or No (Feat. 허윤진 of LE SSERAFIM, Crush)\n",
      "Dynamite\n",
      "LOVE DIVE\n",
      "I Don't Think That I Like Her\n",
      "주저하는 연인들을 위해\n",
      "Kitsch\n",
      "Steal The Show (From “엘리멘탈”)\n",
      "해요 (2022)\n",
      "그대가 있는 곳, 언제 어디든\n",
      "사랑..그게 뭔데\n",
      "손오공\n",
      "Discord\n",
      "음악의 신\n",
      "물론\n",
      "After LIKE\n",
      "다정히 내 이름을 부르면\n",
      "파이팅 해야지 (Feat. 이영지)\n",
      "OMG\n",
      "Dangerously\n",
      "Fast Forward\n",
      "I Love You\n",
      "Smoke (Prod. Dynamicduo, Padi)\n",
      "Off The Record\n",
      "Butter\n",
      "그중에 그대를 만나\n",
      "건물 사이에 피어난 장미 (Rose Blossom)\n",
      "Bubble\n",
      "UNFORGIVEN (feat. Nile Rodgers)\n",
      "Attention\n",
      "나에게 그대만이\n",
      "Either Way\n",
      "Merry PLLIstmas\n",
      "여섯 번째 여름\n",
      "눈이 오잖아(Feat.헤이즈)\n",
      "잠시라도 우리\n",
      "Talk Saxy\n"
     ]
    }
   ],
   "source": [
    "# 쌤풀이\n",
    "# 100개 데이터 콘텐츠만 추출\n",
    "for i in range(len(song)): #자: range안에는 숫자 들어가야함 len(song) 자체가 100이 됨\n",
    "    print(song[i].text)"
   ]
  },
  {
   "cell_type": "code",
   "execution_count": 54,
   "id": "91365b25",
   "metadata": {},
   "outputs": [
    {
     "data": {
      "text/plain": [
       "'아이유'"
      ]
     },
     "execution_count": 54,
     "metadata": {},
     "output_type": "execute_result"
    }
   ],
   "source": [
    "# 가수 이름 출력\n",
    "singer = soup.select('div.ellipsis.rank02>a')\n",
    "singer[0].text"
   ]
  },
  {
   "cell_type": "code",
   "execution_count": 61,
   "id": "437a6768",
   "metadata": {
    "collapsed": true
   },
   "outputs": [
    {
     "name": "stdout",
     "output_type": "stream",
     "text": [
      "아이유\n",
      "비비 (BIBI)\n",
      "TWS (투어스)\n",
      "태연 (TAEYEON)\n",
      "임재현\n",
      "RIIZE\n",
      "이무진\n",
      "LE SSERAFIM (르세라핌)\n",
      "너드커넥션 (Nerd Connection)\n",
      "aespa\n",
      "LE SSERAFIM (르세라핌)\n",
      "(여자)아이들\n",
      "박재정\n",
      "(여자)아이들\n",
      "임영웅\n",
      "범진\n",
      "태연 (TAEYEON)\n",
      "정국\n",
      "임영웅\n",
      "VIVIZ (비비지)\n",
      "IVE (아이브)\n",
      "임영웅\n",
      "RIIZE\n",
      "임영웅\n",
      "임영웅\n",
      "성시경\n",
      "IVE (아이브)\n",
      "AKMU (악뮤)\n",
      "임영웅\n",
      "임영웅\n",
      "제니 (JENNIE)\n",
      "우디 (Woody)\n",
      "DAY6 (데이식스)\n",
      "임영웅\n",
      "임영웅\n",
      "임영웅\n",
      "로이킴\n",
      "NewJeans\n",
      "NewJeans\n",
      "(여자)아이들\n",
      "임영웅\n",
      "멜로망스\n",
      "DAY6 (데이식스)\n",
      "NewJeans\n",
      "AKMU (악뮤)\n",
      "임영웅\n",
      "정국\n",
      "NewJeans\n",
      "AKMU (악뮤)\n",
      "볼빨간사춘기\n",
      "윤하 (YOUNHA)\n",
      "화곡동 청개구리\n",
      "임한별\n",
      "aespa\n",
      "김민석\n",
      "DK(디셈버)\n",
      "EXO\n",
      "임영웅\n",
      "순순희(기태)\n",
      "폴킴\n",
      "디오 (D.O.)\n",
      "LE SSERAFIM (르세라핌)\n",
      "방탄소년단\n",
      "(여자)아이들\n",
      "그루비룸 (GroovyRoom)\n",
      "방탄소년단\n",
      "IVE (아이브)\n",
      "Charlie Puth\n",
      "잔나비\n",
      "IVE (아이브)\n",
      "Lauv\n",
      "#안녕\n",
      "로이킴\n",
      "지아\n",
      "세븐틴 (SEVENTEEN)\n",
      "QWER\n",
      "세븐틴 (SEVENTEEN)\n",
      "허각\n",
      "IVE (아이브)\n",
      "경서예지\n",
      "전건호\n",
      "부석순 (SEVENTEEN)\n",
      "NewJeans\n",
      "Charlie Puth\n",
      "전소미\n",
      "안세하\n",
      "다이나믹 듀오\n",
      "이영지\n",
      "IVE (아이브)\n",
      "방탄소년단\n",
      "김호중\n",
      "H1-KEY (하이키)\n",
      "STAYC(스테이씨)\n",
      "LE SSERAFIM (르세라핌)\n",
      "NewJeans\n",
      "탑현\n",
      "IVE (아이브)\n",
      "PLAVE\n",
      "PLAVE\n",
      "이무진\n",
      "성시경\n",
      "나얼\n",
      "RIIZE\n"
     ]
    }
   ],
   "source": [
    "#자영풀이\n",
    "for i in range(len(singer)):\n",
    "    print(singer[i].text)"
   ]
  },
  {
   "cell_type": "code",
   "execution_count": 72,
   "id": "f05c7a6a",
   "metadata": {},
   "outputs": [
    {
     "name": "stdout",
     "output_type": "stream",
     "text": [
      "아이유\n",
      "비비 (BIBI)\n",
      "TWS (투어스)\n",
      "태연 (TAEYEON)\n",
      "임재현\n",
      "RIIZE\n",
      "이무진\n",
      "LE SSERAFIM (르세라핌)\n",
      "너드커넥션 (Nerd Connection)\n",
      "aespa\n",
      "LE SSERAFIM (르세라핌)\n",
      "(여자)아이들\n",
      "박재정\n",
      "(여자)아이들\n",
      "임영웅\n",
      "범진\n",
      "태연 (TAEYEON)\n",
      "정국\n",
      "임영웅\n",
      "VIVIZ (비비지)\n",
      "IVE (아이브)\n",
      "임영웅\n",
      "RIIZE\n",
      "임영웅\n",
      "임영웅\n",
      "성시경\n",
      "IVE (아이브)\n",
      "AKMU (악뮤)\n",
      "임영웅\n",
      "임영웅\n",
      "제니 (JENNIE)\n",
      "우디 (Woody)\n",
      "DAY6 (데이식스)\n",
      "임영웅\n",
      "임영웅\n",
      "임영웅\n",
      "로이킴\n",
      "NewJeans\n",
      "NewJeans\n",
      "(여자)아이들\n",
      "임영웅\n",
      "멜로망스\n",
      "DAY6 (데이식스)\n",
      "NewJeans\n",
      "AKMU (악뮤)\n",
      "임영웅\n",
      "정국\n",
      "NewJeans\n",
      "AKMU (악뮤)\n",
      "볼빨간사춘기\n",
      "윤하 (YOUNHA)\n",
      "화곡동 청개구리\n",
      "임한별\n",
      "aespa\n",
      "김민석\n",
      "DK(디셈버)\n",
      "EXO\n",
      "임영웅\n",
      "순순희(기태)\n",
      "폴킴\n",
      "디오 (D.O.)\n",
      "LE SSERAFIM (르세라핌)\n",
      "방탄소년단\n",
      "(여자)아이들\n",
      "그루비룸 (GroovyRoom)\n",
      "방탄소년단\n",
      "IVE (아이브)\n",
      "Charlie Puth\n",
      "잔나비\n",
      "IVE (아이브)\n",
      "Lauv\n",
      "#안녕\n",
      "로이킴\n",
      "지아\n",
      "세븐틴 (SEVENTEEN)\n",
      "QWER\n",
      "세븐틴 (SEVENTEEN)\n",
      "허각\n",
      "IVE (아이브)\n",
      "경서예지\n",
      "전건호\n",
      "부석순 (SEVENTEEN)\n",
      "NewJeans\n",
      "Charlie Puth\n",
      "전소미\n",
      "안세하\n",
      "다이나믹 듀오\n",
      "이영지\n",
      "IVE (아이브)\n",
      "방탄소년단\n",
      "김호중\n",
      "H1-KEY (하이키)\n",
      "STAYC(스테이씨)\n",
      "LE SSERAFIM (르세라핌)\n",
      "NewJeans\n",
      "탑현\n",
      "IVE (아이브)\n",
      "PLAVE\n",
      "PLAVE\n",
      "이무진\n",
      "성시경\n",
      "나얼\n",
      "RIIZE\n"
     ]
    }
   ],
   "source": [
    "#자영풀이2\n",
    "for j in singer:\n",
    "    print(j.text)"
   ]
  },
  {
   "cell_type": "code",
   "execution_count": 73,
   "id": "ce544d1a",
   "metadata": {},
   "outputs": [
    {
     "data": {
      "text/plain": [
       "100"
      ]
     },
     "execution_count": 73,
     "metadata": {},
     "output_type": "execute_result"
    }
   ],
   "source": [
    "len(song)\n",
    "#출력:\n",
    "#100"
   ]
  },
  {
   "cell_type": "code",
   "execution_count": 71,
   "id": "af6059e5",
   "metadata": {},
   "outputs": [
    {
     "data": {
      "text/plain": [
       "103"
      ]
     },
     "execution_count": 71,
     "metadata": {},
     "output_type": "execute_result"
    }
   ],
   "source": [
    "#쌤풀이\n",
    "# ('태그명 기호 구분자이름')\n",
    "temp = soup.select('div.ellipsis.rank02>a')\n",
    "temp\n",
    "#개수확인\n",
    "len(temp)\n",
    "#출력:\n",
    "#103\n",
    "\n",
    "# top100이라고해서 당연히 100개일 줄 알고 넘어감\n",
    "# 원하는 정보를 정확하게 가져왔는지 확인해주는 작업이 반드시 필요!!!"
   ]
  },
  {
   "cell_type": "code",
   "execution_count": 77,
   "id": "f5ab8470",
   "metadata": {},
   "outputs": [
    {
     "data": {
      "text/plain": [
       "'\\n아이유아이유\\n'"
      ]
     },
     "execution_count": 77,
     "metadata": {},
     "output_type": "execute_result"
    }
   ],
   "source": [
    "#콘텐츠 확인\n",
    "\n",
    "#자: 문제발생\n",
    "soup.select('div.ellipsis.rank02')[0].text\n",
    "#원하는 데이터가 아님을 확인\n",
    "# div 태그 아래 또 다른 span 태그 존재\n"
   ]
  },
  {
   "cell_type": "code",
   "execution_count": 82,
   "id": "30da1a70",
   "metadata": {},
   "outputs": [
    {
     "data": {
      "text/plain": [
       "100"
      ]
     },
     "execution_count": 82,
     "metadata": {},
     "output_type": "execute_result"
    }
   ],
   "source": [
    "#자:해결\n",
    "singer = soup.select('div.ellipsis.rank02>span')\n",
    "#자: 개수 확인\n",
    "len(singer)\n",
    "#출력:\n",
    "# 100"
   ]
  },
  {
   "cell_type": "code",
   "execution_count": 84,
   "id": "a56eb4d5",
   "metadata": {},
   "outputs": [
    {
     "data": {
      "text/plain": [
       "'아이유'"
      ]
     },
     "execution_count": 84,
     "metadata": {},
     "output_type": "execute_result"
    }
   ],
   "source": [
    "singer[0].text\n",
    "#출력:\n",
    "# '아이유'"
   ]
  },
  {
   "cell_type": "code",
   "execution_count": 87,
   "id": "0cd33009",
   "metadata": {
    "scrolled": false
   },
   "outputs": [
    {
     "name": "stdout",
     "output_type": "stream",
     "text": [
      "아이유\n",
      "비비 (BIBI)\n",
      "TWS (투어스)\n",
      "태연 (TAEYEON)\n",
      "임재현\n",
      "RIIZE\n",
      "이무진\n",
      "LE SSERAFIM (르세라핌)\n",
      "너드커넥션 (Nerd Connection)\n",
      "aespa\n",
      "LE SSERAFIM (르세라핌)\n",
      "(여자)아이들\n",
      "박재정\n",
      "(여자)아이들\n",
      "임영웅\n",
      "범진\n",
      "태연 (TAEYEON)\n",
      "정국\n",
      "임영웅\n",
      "VIVIZ (비비지)\n",
      "IVE (아이브)\n",
      "임영웅\n",
      "RIIZE\n",
      "임영웅\n",
      "임영웅\n",
      "성시경\n",
      "IVE (아이브)\n",
      "AKMU (악뮤)\n",
      "임영웅\n",
      "임영웅\n",
      "제니 (JENNIE)\n",
      "우디 (Woody)\n",
      "DAY6 (데이식스)\n",
      "임영웅\n",
      "임영웅\n",
      "임영웅\n",
      "로이킴\n",
      "NewJeans\n",
      "NewJeans\n",
      "(여자)아이들\n",
      "임영웅\n",
      "멜로망스\n",
      "DAY6 (데이식스)\n",
      "NewJeans\n",
      "AKMU (악뮤)\n",
      "임영웅\n",
      "정국\n",
      "NewJeans\n",
      "AKMU (악뮤)\n",
      "볼빨간사춘기\n",
      "윤하 (YOUNHA)\n",
      "화곡동 청개구리\n",
      "임한별\n",
      "aespa\n",
      "김민석\n",
      "DK(디셈버)\n",
      "EXO\n",
      "임영웅\n",
      "순순희(기태)\n",
      "폴킴\n",
      "디오 (D.O.)\n",
      "LE SSERAFIM (르세라핌)\n",
      "방탄소년단\n",
      "(여자)아이들\n",
      "그루비룸 (GroovyRoom)\n",
      "방탄소년단\n",
      "IVE (아이브)\n",
      "Charlie Puth\n",
      "잔나비\n",
      "IVE (아이브)\n",
      "Lauv\n",
      "#안녕\n",
      "로이킴\n",
      "지아\n",
      "세븐틴 (SEVENTEEN)\n",
      "QWER\n",
      "세븐틴 (SEVENTEEN)\n",
      "허각\n",
      "IVE (아이브)\n",
      "경서예지, 전건호\n",
      "부석순 (SEVENTEEN)\n",
      "NewJeans\n",
      "Charlie Puth\n",
      "전소미\n",
      "안세하\n",
      "다이나믹 듀오, 이영지\n",
      "IVE (아이브)\n",
      "방탄소년단\n",
      "김호중\n",
      "H1-KEY (하이키)\n",
      "STAYC(스테이씨)\n",
      "LE SSERAFIM (르세라핌)\n",
      "NewJeans\n",
      "탑현\n",
      "IVE (아이브)\n",
      "PLAVE\n",
      "PLAVE\n",
      "이무진\n",
      "성시경, 나얼\n",
      "RIIZE\n"
     ]
    }
   ],
   "source": [
    "for i in range(len(singer)):\n",
    "    print(singer[i].text)"
   ]
  },
  {
   "cell_type": "markdown",
   "id": "ed632a46",
   "metadata": {},
   "source": [
    "- 데이터 내보내기\n",
    "    1. 데이터 리스트에 담아주기\n",
    "    2. 표와 같은 형태로 만들어 주기 (DataFrame화)\n",
    "    3. csv 파일로 내보내기"
   ]
  },
  {
   "cell_type": "code",
   "execution_count": 108,
   "id": "091aa551",
   "metadata": {},
   "outputs": [
    {
     "name": "stdout",
     "output_type": "stream",
     "text": [
      "['Love wins all', '밤양갱', '첫 만남은 계획대로 되지 않아', 'To. X', '비의 랩소디', 'Love 119', '에피소드', 'Perfect Night', '그대만 있다면 (여름날 우리 X 너드커넥션 (Nerd Connection))', 'Drama', 'EASY', 'Super Lady', '헤어지자 말해요', 'Wife', '사랑은 늘 도망가', '인사', '꿈', 'Seven (feat. Latto) - Clean Ver.', '모래 알갱이', 'MANIAC', 'I AM', '우리들의 블루스', 'Get A Guitar', 'Do or Die', '다시 만날 수 있을까', '너의 모든 순간', 'Baddie', 'Love Lee', '이제 나만 믿어요', '무지개', 'You & Me', '사막에서 꽃을 피우듯', '예뻤어', 'London Boy', 'Polaroid', '아버지', '잘 지내자, 우리 (여름날 우리 X 로이킴)', 'Super Shy', 'Hype Boy', '퀸카 (Queencard)', '인생찬가', '사랑인가 봐', '한 페이지가 될 수 있게', 'Ditto', '후라이의 꿈', 'A bientot', 'Standing Next to You', 'ETA', '어떻게 이별까지 사랑하겠어, 널 사랑하는 거지', '사랑할 수밖에', '사건의 지평선', '기억해줘요 내 모든 날과 그때를', '사랑하지 않아서 그랬어', 'Spicy', '취중고백', '심(心)', '첫 눈', '연애편지', '그대가 내 안에 박혔다(그내박)', '모든 날, 모든 순간 (Every day, Every Moment)', '별 떨어진다 (I Do)', '이브, 프시케 그리고 푸른 수염의 아내', '봄날', '나는 아픈 건 딱 질색이니까', 'Yes or No (Feat. 허윤진 of LE SSERAFIM, Crush)', 'Dynamite', 'LOVE DIVE', \"I Don't Think That I Like Her\", '주저하는 연인들을 위해', 'Kitsch', 'Steal The Show (From “엘리멘탈”)', '해요 (2022)', '그대가 있는 곳, 언제 어디든', '사랑..그게 뭔데', '손오공', 'Discord', '음악의 신', '물론', 'After LIKE', '다정히 내 이름을 부르면', '파이팅 해야지 (Feat. 이영지)', 'OMG', 'Dangerously', 'Fast Forward', 'I Love You', 'Smoke (Prod. Dynamicduo, Padi)', 'Off The Record', 'Butter', '그중에 그대를 만나', '건물 사이에 피어난 장미 (Rose Blossom)', 'Bubble', 'UNFORGIVEN (feat. Nile Rodgers)', 'Attention', '나에게 그대만이', 'Either Way', 'Merry PLLIstmas', '여섯 번째 여름', '눈이 오잖아(Feat.헤이즈)', '잠시라도 우리', 'Talk Saxy']\n",
      "['아이유', '비비 (BIBI)', 'TWS (투어스)', '태연 (TAEYEON)', '임재현', 'RIIZE', '이무진', 'LE SSERAFIM (르세라핌)', '너드커넥션 (Nerd Connection)', 'aespa', 'LE SSERAFIM (르세라핌)', '(여자)아이들', '박재정', '(여자)아이들', '임영웅', '범진', '태연 (TAEYEON)', '정국', '임영웅', 'VIVIZ (비비지)', 'IVE (아이브)', '임영웅', 'RIIZE', '임영웅', '임영웅', '성시경', 'IVE (아이브)', 'AKMU (악뮤)', '임영웅', '임영웅', '제니 (JENNIE)', '우디 (Woody)', 'DAY6 (데이식스)', '임영웅', '임영웅', '임영웅', '로이킴', 'NewJeans', 'NewJeans', '(여자)아이들', '임영웅', '멜로망스', 'DAY6 (데이식스)', 'NewJeans', 'AKMU (악뮤)', '임영웅', '정국', 'NewJeans', 'AKMU (악뮤)', '볼빨간사춘기', '윤하 (YOUNHA)', '화곡동 청개구리', '임한별', 'aespa', '김민석', 'DK(디셈버)', 'EXO', '임영웅', '순순희(기태)', '폴킴', '디오 (D.O.)', 'LE SSERAFIM (르세라핌)', '방탄소년단', '(여자)아이들', '그루비룸 (GroovyRoom)', '방탄소년단', 'IVE (아이브)', 'Charlie Puth', '잔나비', 'IVE (아이브)', 'Lauv', '#안녕', '로이킴', '지아', '세븐틴 (SEVENTEEN)', 'QWER', '세븐틴 (SEVENTEEN)', '허각', 'IVE (아이브)', '경서예지, 전건호', '부석순 (SEVENTEEN)', 'NewJeans', 'Charlie Puth', '전소미', '안세하', '다이나믹 듀오, 이영지', 'IVE (아이브)', '방탄소년단', '김호중', 'H1-KEY (하이키)', 'STAYC(스테이씨)', 'LE SSERAFIM (르세라핌)', 'NewJeans', '탑현', 'IVE (아이브)', 'PLAVE', 'PLAVE', '이무진', '성시경, 나얼', 'RIIZE']\n",
      "[1, 2, 3, 4, 5, 6, 7, 8, 9, 10, 11, 12, 13, 14, 15, 16, 17, 18, 19, 20, 21, 22, 23, 24, 25, 26, 27, 28, 29, 30, 31, 32, 33, 34, 35, 36, 37, 38, 39, 40, 41, 42, 43, 44, 45, 46, 47, 48, 49, 50, 51, 52, 53, 54, 55, 56, 57, 58, 59, 60, 61, 62, 63, 64, 65, 66, 67, 68, 69, 70, 71, 72, 73, 74, 75, 76, 77, 78, 79, 80, 81, 82, 83, 84, 85, 86, 87, 88, 89, 90, 91, 92, 93, 94, 95, 96, 97, 98, 99, 100]\n"
     ]
    }
   ],
   "source": [
    "# 데이터 리스트에 담기\n",
    "# 빈 리스트 생성\n",
    "song_list = []\n",
    "singer_list = []\n",
    "rank_list = []\n",
    "# 반복문을 통해 데이터 누적\n",
    "for i in range(len(song)):\n",
    "    song_list.append(song[i].text)\n",
    "    singer_list.append(singer[i].text)\n",
    "    rank_list.append(i+1)\n",
    "print(song_list)\n",
    "print(singer_list)\n",
    "print(rank_list)"
   ]
  },
  {
   "cell_type": "code",
   "execution_count": 114,
   "id": "c92ff5f1",
   "metadata": {},
   "outputs": [],
   "source": [
    "import pandas as pd"
   ]
  },
  {
   "cell_type": "code",
   "execution_count": 112,
   "id": "6932b80d",
   "metadata": {},
   "outputs": [
    {
     "data": {
      "text/html": [
       "<div>\n",
       "<style scoped>\n",
       "    .dataframe tbody tr th:only-of-type {\n",
       "        vertical-align: middle;\n",
       "    }\n",
       "\n",
       "    .dataframe tbody tr th {\n",
       "        vertical-align: top;\n",
       "    }\n",
       "\n",
       "    .dataframe thead th {\n",
       "        text-align: right;\n",
       "    }\n",
       "</style>\n",
       "<table border=\"1\" class=\"dataframe\">\n",
       "  <thead>\n",
       "    <tr style=\"text-align: right;\">\n",
       "      <th></th>\n",
       "      <th>노래제목</th>\n",
       "      <th>가수</th>\n",
       "    </tr>\n",
       "    <tr>\n",
       "      <th>순위</th>\n",
       "      <th></th>\n",
       "      <th></th>\n",
       "    </tr>\n",
       "  </thead>\n",
       "  <tbody>\n",
       "    <tr>\n",
       "      <th>1</th>\n",
       "      <td>Love wins all</td>\n",
       "      <td>아이유</td>\n",
       "    </tr>\n",
       "    <tr>\n",
       "      <th>2</th>\n",
       "      <td>밤양갱</td>\n",
       "      <td>비비 (BIBI)</td>\n",
       "    </tr>\n",
       "    <tr>\n",
       "      <th>3</th>\n",
       "      <td>첫 만남은 계획대로 되지 않아</td>\n",
       "      <td>TWS (투어스)</td>\n",
       "    </tr>\n",
       "    <tr>\n",
       "      <th>4</th>\n",
       "      <td>To. X</td>\n",
       "      <td>태연 (TAEYEON)</td>\n",
       "    </tr>\n",
       "    <tr>\n",
       "      <th>5</th>\n",
       "      <td>비의 랩소디</td>\n",
       "      <td>임재현</td>\n",
       "    </tr>\n",
       "    <tr>\n",
       "      <th>...</th>\n",
       "      <td>...</td>\n",
       "      <td>...</td>\n",
       "    </tr>\n",
       "    <tr>\n",
       "      <th>96</th>\n",
       "      <td>Merry PLLIstmas</td>\n",
       "      <td>PLAVE</td>\n",
       "    </tr>\n",
       "    <tr>\n",
       "      <th>97</th>\n",
       "      <td>여섯 번째 여름</td>\n",
       "      <td>PLAVE</td>\n",
       "    </tr>\n",
       "    <tr>\n",
       "      <th>98</th>\n",
       "      <td>눈이 오잖아(Feat.헤이즈)</td>\n",
       "      <td>이무진</td>\n",
       "    </tr>\n",
       "    <tr>\n",
       "      <th>99</th>\n",
       "      <td>잠시라도 우리</td>\n",
       "      <td>성시경, 나얼</td>\n",
       "    </tr>\n",
       "    <tr>\n",
       "      <th>100</th>\n",
       "      <td>Talk Saxy</td>\n",
       "      <td>RIIZE</td>\n",
       "    </tr>\n",
       "  </tbody>\n",
       "</table>\n",
       "<p>100 rows × 2 columns</p>\n",
       "</div>"
      ],
      "text/plain": [
       "                 노래제목            가수\n",
       "순위                                 \n",
       "1       Love wins all           아이유\n",
       "2                 밤양갱     비비 (BIBI)\n",
       "3    첫 만남은 계획대로 되지 않아     TWS (투어스)\n",
       "4               To. X  태연 (TAEYEON)\n",
       "5              비의 랩소디           임재현\n",
       "..                ...           ...\n",
       "96    Merry PLLIstmas         PLAVE\n",
       "97           여섯 번째 여름         PLAVE\n",
       "98   눈이 오잖아(Feat.헤이즈)           이무진\n",
       "99            잠시라도 우리       성시경, 나얼\n",
       "100         Talk Saxy         RIIZE\n",
       "\n",
       "[100 rows x 2 columns]"
      ]
     },
     "execution_count": 112,
     "metadata": {},
     "output_type": "execute_result"
    }
   ],
   "source": [
    "# DataFrame화 (dictionary 활용)\n",
    "# 키값->컬럼명\n",
    "dic = {'노래제목' : song_list,'가수' : singer_list ,'순위':rank_list}\n",
    "melon = pd.DataFrame(dic)\n",
    "melon.set_index('순위', inplace=True)\n",
    "melon"
   ]
  },
  {
   "cell_type": "code",
   "execution_count": 115,
   "id": "da298a00",
   "metadata": {},
   "outputs": [
    {
     "ename": "KeyError",
     "evalue": "'None of [1, 2, 3, 4, 5, 6, 7, 8, 9, 10, 11, 12, 13, 14, 15, 16, 17, 18, 19, 20, 21, 22, 23, 24, 25, 26, 27, 28, 29, 30, 31, 32, 33, 34, 35, 36, 37, 38, 39, 40, 41, 42, 43, 44, 45, 46, 47, 48, 49, 50, 51, 52, 53, 54, 55, 56, 57, 58, 59, 60, 61, 62, 63, 64, 65, 66, 67, 68, 69, 70, 71, 72, 73, 74, 75, 76, 77, 78, 79, 80, 81, 82, 83, 84, 85, 86, 87, 88, 89, 90, 91, 92, 93, 94, 95, 96, 97, 98, 99, 100] are in the columns'",
     "output_type": "error",
     "traceback": [
      "\u001b[1;31m---------------------------------------------------------------------------\u001b[0m",
      "\u001b[1;31mKeyError\u001b[0m                                  Traceback (most recent call last)",
      "Cell \u001b[1;32mIn[115], line 4\u001b[0m\n\u001b[0;32m      2\u001b[0m dic \u001b[38;5;241m=\u001b[39m {\u001b[38;5;124m'\u001b[39m\u001b[38;5;124m노래제목\u001b[39m\u001b[38;5;124m'\u001b[39m : song_list,\u001b[38;5;124m'\u001b[39m\u001b[38;5;124m가수\u001b[39m\u001b[38;5;124m'\u001b[39m : singer_list}\n\u001b[0;32m      3\u001b[0m melon \u001b[38;5;241m=\u001b[39m pd\u001b[38;5;241m.\u001b[39mDataFrame(dic)\n\u001b[1;32m----> 4\u001b[0m melon\u001b[38;5;241m.\u001b[39mset_index(rank_list, inplace\u001b[38;5;241m=\u001b[39m\u001b[38;5;28;01mTrue\u001b[39;00m)\n\u001b[0;32m      5\u001b[0m melon\n",
      "File \u001b[1;32m~\\anaconda3\\Lib\\site-packages\\pandas\\core\\frame.py:5859\u001b[0m, in \u001b[0;36mDataFrame.set_index\u001b[1;34m(self, keys, drop, append, inplace, verify_integrity)\u001b[0m\n\u001b[0;32m   5856\u001b[0m                 missing\u001b[38;5;241m.\u001b[39mappend(col)\n\u001b[0;32m   5858\u001b[0m \u001b[38;5;28;01mif\u001b[39;00m missing:\n\u001b[1;32m-> 5859\u001b[0m     \u001b[38;5;28;01mraise\u001b[39;00m \u001b[38;5;167;01mKeyError\u001b[39;00m(\u001b[38;5;124mf\u001b[39m\u001b[38;5;124m\"\u001b[39m\u001b[38;5;124mNone of \u001b[39m\u001b[38;5;132;01m{\u001b[39;00mmissing\u001b[38;5;132;01m}\u001b[39;00m\u001b[38;5;124m are in the columns\u001b[39m\u001b[38;5;124m\"\u001b[39m)\n\u001b[0;32m   5861\u001b[0m \u001b[38;5;28;01mif\u001b[39;00m inplace:\n\u001b[0;32m   5862\u001b[0m     frame \u001b[38;5;241m=\u001b[39m \u001b[38;5;28mself\u001b[39m\n",
      "\u001b[1;31mKeyError\u001b[0m: 'None of [1, 2, 3, 4, 5, 6, 7, 8, 9, 10, 11, 12, 13, 14, 15, 16, 17, 18, 19, 20, 21, 22, 23, 24, 25, 26, 27, 28, 29, 30, 31, 32, 33, 34, 35, 36, 37, 38, 39, 40, 41, 42, 43, 44, 45, 46, 47, 48, 49, 50, 51, 52, 53, 54, 55, 56, 57, 58, 59, 60, 61, 62, 63, 64, 65, 66, 67, 68, 69, 70, 71, 72, 73, 74, 75, 76, 77, 78, 79, 80, 81, 82, 83, 84, 85, 86, 87, 88, 89, 90, 91, 92, 93, 94, 95, 96, 97, 98, 99, 100] are in the columns'"
     ]
    }
   ],
   "source": [
    "#test\n",
    "dic = {'노래제목' : song_list,'가수' : singer_list}\n",
    "melon = pd.DataFrame(dic)\n",
    "melon.set_index(rank_list, inplace=True)\n",
    "melon"
   ]
  },
  {
   "cell_type": "code",
   "execution_count": 118,
   "id": "ca8508f5",
   "metadata": {},
   "outputs": [],
   "source": [
    "# csv 파일로 내보내기!\n",
    "# df명.to_csv('경로/파일명.csv')\n",
    "melon.to_csv('멜론차트.csv', encoding=\"euc-kr\")\n",
    "# 인코딩도 진행해주는 것이 좋음\n",
    "# 자 : 인코딩해서 저장하면 열 때도 인코딩 해서 열어야 한다!\n"
   ]
  },
  {
   "cell_type": "code",
   "execution_count": null,
   "id": "5a97b3d2",
   "metadata": {},
   "outputs": [],
   "source": []
  }
 ],
 "metadata": {
  "kernelspec": {
   "display_name": "Python 3 (ipykernel)",
   "language": "python",
   "name": "python3"
  },
  "language_info": {
   "codemirror_mode": {
    "name": "ipython",
    "version": 3
   },
   "file_extension": ".py",
   "mimetype": "text/x-python",
   "name": "python",
   "nbconvert_exporter": "python",
   "pygments_lexer": "ipython3",
   "version": "3.11.5"
  }
 },
 "nbformat": 4,
 "nbformat_minor": 5
}
