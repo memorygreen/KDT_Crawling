{
 "cells": [
  {
   "cell_type": "markdown",
   "id": "9947a80b",
   "metadata": {},
   "source": [
    "- 네이버메인 페이지에서 수집하고 싶은 이미지를 검색 후 이미지 탭에 있는 이미지 수집"
   ]
  },
  {
   "cell_type": "markdown",
   "id": "5f0bd292",
   "metadata": {},
   "source": [
    "#### 자영풀이(240223)"
   ]
  },
  {
   "cell_type": "code",
   "execution_count": 8,
   "id": "5336893d",
   "metadata": {},
   "outputs": [],
   "source": [
    "# 라이브러리 불러오기\n",
    "from selenium import webdriver as wb\n",
    "from selenium.webdriver.common.keys import Keys\n",
    "from selenium.webdriver.common.by import By\n",
    "import pandas as pd\n",
    "import time\n",
    "from tqdm import tqdm\n",
    "from urllib.request import urlretrieve\n",
    "import os"
   ]
  },
  {
   "cell_type": "code",
   "execution_count": 58,
   "id": "fbecf054",
   "metadata": {},
   "outputs": [
    {
     "name": "stdout",
     "output_type": "stream",
     "text": [
      "키워드를 입력하세요>>고심이\n",
      "폴더를 생성합니다.\n"
     ]
    }
   ],
   "source": [
    "##자영풀이\n",
    "#자: 원하는 키워드 입력\n",
    "keyword = input(\"키워드를 입력하세요>>\")\n",
    "\n",
    "# 폴더생성(키워드로 폴더명 생성)\n",
    "\n",
    "if not os.path.isdir(f'C:\\\\Users\\\\smhrd\\\\Desktop\\\\{keyword}'): #자 : 부정 연산은 not\n",
    "    print(\"폴더를 생성합니다.\")\n",
    "    os.mkdir(f'C:\\\\Users\\\\smhrd\\\\Desktop\\\\{keyword}')\n",
    "else:\n",
    "    print(\"이미 존재하는 폴더입니다.\")\n",
    "\n",
    "##자영풀이 (이어서)\n",
    "# 네이버 메인 페이지 열기\n",
    "driver = wb.Chrome()\n",
    "driver.get('https://www.naver.com/')\n",
    "# 키워드 검색\n",
    "search = driver.find_element(By.CLASS_NAME,'search_input')\n",
    "search.send_keys(keyword)\n",
    "search.send_keys(Keys.ENTER)\n",
    "\n",
    "# 이미지 탭으로 이동\n",
    "driver.find_element(By.LINK_TEXT, '이미지').click()\n",
    "\n",
    "\n",
    "# 자동 스크롤\n",
    "for i in range(10):\n",
    "#   driver.(Keys.END)# 자영 틀림 drive가 아니라 바디를 찾아서 바디로 END 보내야함\n",
    "    driver.find_element(By.CSS_SELECTOR, 'body').send_keys(Keys.END)\n",
    "    time.sleep(1)\n",
    "\n",
    "# 이미지 태그 수집\n",
    "driver.find_elements(By.CLASS_NAME,'_fe_image_tab_content_thumbnail_image')[0].get_attribute('src')\n",
    "img = driver.find_elements(By.CLASS_NAME,'_fe_image_tab_content_thumbnail_image')\n",
    "\n",
    "# 순수한 src 데이터만 추출하여 이미지 파일로 저장\n",
    "for i in range(len(img)):\n",
    "    urlretrieve(img[i].get_attribute('src'), # 자 : urlretrieve 생각이 안남 이미지 파일 저장하는거\n",
    "               f'C:\\\\Users\\\\smhrd\\\\Desktop\\\\{keyword}\\\\{keyword}.{i+1}.jpg')\n",
    "\n",
    "\n"
   ]
  },
  {
   "cell_type": "markdown",
   "id": "6b72a058",
   "metadata": {},
   "source": [
    "#### 쌤풀이"
   ]
  },
  {
   "cell_type": "code",
   "execution_count": 46,
   "id": "11697405",
   "metadata": {},
   "outputs": [
    {
     "name": "stdout",
     "output_type": "stream",
     "text": [
      "키워드를 입력하세요~푸바오\n",
      "이미 존재하는 폴더입니다~\n"
     ]
    }
   ],
   "source": [
    "## 쌤풀이\n",
    "\n",
    "# 폴더생성(키워드로 폴더명 생성)\n",
    "keyword = input(\"키워드를 입력하세요~\") #자: 키워드 리스트 정의돼있으면 리스트를 넣고 반복문으로 감싸서 리스트 이름들을 꺼내서도 가능\n",
    "# 만약에 폴더명이 없다면 생성해주고\n",
    "if not os.path.isdir(f\"C:\\\\Users\\\\smhrd\\\\Desktop\\\\{keyword}\"): #자:os의 현 위치에 폴더가 존재하니?\n",
    "    print(\"폴더생성\")\n",
    "    # 폴더를 생성하는 코드를 작성\n",
    "    os.mkdir(f\"C:\\\\Users\\\\smhrd\\\\Desktop\\\\{keyword}\") \n",
    "# 그렇지 않으면(폴더명이 있음) 이미 존재하는 폴더입니다 라고 출력    \n",
    "else:\n",
    "    print(\"이미 존재하는 폴더입니다~\")\n"
   ]
  },
  {
   "cell_type": "code",
   "execution_count": 49,
   "id": "7fd6b939",
   "metadata": {},
   "outputs": [],
   "source": [
    "# 네이버 메인 페이지 열기\n",
    "# 키워드 검색\n",
    "driver = wb.Chrome()\n",
    "driver.get('https://www.naver.com/')\n",
    "\n",
    "# 브라우저 최대화 #자: 최대화 안 한 상태로 가져오면 문제 생길 수 있음\n",
    "driver.maximize_window()\n",
    "time.sleep(1)\n",
    "\n",
    "#키워드 검색\n",
    "search = driver.find_element(By.ID, 'query')\n",
    "search.send_keys(keyword)\n",
    "search.send_keys(Keys.ENTER)"
   ]
  },
  {
   "cell_type": "code",
   "execution_count": 50,
   "id": "2cddb4a3",
   "metadata": {},
   "outputs": [],
   "source": [
    "# 이미지 탭으로 이동\n",
    "driver.find_element(By.LINK_TEXT,'이미지').click()"
   ]
  },
  {
   "cell_type": "code",
   "execution_count": 52,
   "id": "1c6bf14f",
   "metadata": {},
   "outputs": [],
   "source": [
    "# 자동 스크롤\n",
    "for i in range(10):\n",
    "    body = driver.find_element(By.CSS_SELECTOR, 'body')\n",
    "    body.send_keys(Keys.END)\n",
    "    time.sleep(1)"
   ]
  },
  {
   "cell_type": "code",
   "execution_count": 59,
   "id": "31fb64ad",
   "metadata": {
    "collapsed": true
   },
   "outputs": [
    {
     "ename": "NoSuchWindowException",
     "evalue": "Message: no such window: target window already closed\nfrom unknown error: web view not found\n  (Session info: chrome=121.0.6167.187)\nStacktrace:\n\tGetHandleVerifier [0x00007FF6DE327012+3522402]\n\t(No symbol) [0x00007FF6DDF48352]\n\t(No symbol) [0x00007FF6DDDF5ABB]\n\t(No symbol) [0x00007FF6DDDD287C]\n\t(No symbol) [0x00007FF6DDE65D97]\n\t(No symbol) [0x00007FF6DDE7B3CF]\n\t(No symbol) [0x00007FF6DDE5EE03]\n\t(No symbol) [0x00007FF6DDE2F4D4]\n\t(No symbol) [0x00007FF6DDE305F1]\n\tGetHandleVerifier [0x00007FF6DE359B9D+3730157]\n\tGetHandleVerifier [0x00007FF6DE3AF02D+4079485]\n\tGetHandleVerifier [0x00007FF6DE3A75D3+4048163]\n\tGetHandleVerifier [0x00007FF6DE07A649+718233]\n\t(No symbol) [0x00007FF6DDF54A3F]\n\t(No symbol) [0x00007FF6DDF4FA94]\n\t(No symbol) [0x00007FF6DDF4FBC2]\n\t(No symbol) [0x00007FF6DDF3F2E4]\n\tBaseThreadInitThunk [0x00007FFB646A7344+20]\n\tRtlUserThreadStart [0x00007FFB659226B1+33]\n",
     "output_type": "error",
     "traceback": [
      "\u001b[1;31m---------------------------------------------------------------------------\u001b[0m",
      "\u001b[1;31mNoSuchWindowException\u001b[0m                     Traceback (most recent call last)",
      "Cell \u001b[1;32mIn[59], line 2\u001b[0m\n\u001b[0;32m      1\u001b[0m \u001b[38;5;66;03m# 이미지 데이터 수집\u001b[39;00m\n\u001b[1;32m----> 2\u001b[0m img \u001b[38;5;241m=\u001b[39m driver\u001b[38;5;241m.\u001b[39mfind_elements(By\u001b[38;5;241m.\u001b[39mCLASS_NAME, \u001b[38;5;124m'\u001b[39m\u001b[38;5;124m_fe_image_tab_content_thumbnail_image\u001b[39m\u001b[38;5;124m'\u001b[39m)\n\u001b[0;32m      3\u001b[0m \u001b[38;5;66;03m# 순수한 scr 데이터만 추출하여 이미지파일로 저장\u001b[39;00m\n\u001b[0;32m      4\u001b[0m \u001b[38;5;28;01mfor\u001b[39;00m i \u001b[38;5;129;01min\u001b[39;00m \u001b[38;5;28mrange\u001b[39m(\u001b[38;5;28mlen\u001b[39m(img)): \u001b[38;5;66;03m# 자:파일명에 숫자 들어갈거라서 range함수 추천\u001b[39;00m\n",
      "File \u001b[1;32m~\\anaconda3\\Lib\\site-packages\\selenium\\webdriver\\remote\\webdriver.py:771\u001b[0m, in \u001b[0;36mWebDriver.find_elements\u001b[1;34m(self, by, value)\u001b[0m\n\u001b[0;32m    767\u001b[0m     value \u001b[38;5;241m=\u001b[39m \u001b[38;5;124mf\u001b[39m\u001b[38;5;124m'\u001b[39m\u001b[38;5;124m[name=\u001b[39m\u001b[38;5;124m\"\u001b[39m\u001b[38;5;132;01m{\u001b[39;00mvalue\u001b[38;5;132;01m}\u001b[39;00m\u001b[38;5;124m\"\u001b[39m\u001b[38;5;124m]\u001b[39m\u001b[38;5;124m'\u001b[39m\n\u001b[0;32m    769\u001b[0m \u001b[38;5;66;03m# Return empty list if driver returns null\u001b[39;00m\n\u001b[0;32m    770\u001b[0m \u001b[38;5;66;03m# See https://github.com/SeleniumHQ/selenium/issues/4555\u001b[39;00m\n\u001b[1;32m--> 771\u001b[0m \u001b[38;5;28;01mreturn\u001b[39;00m \u001b[38;5;28mself\u001b[39m\u001b[38;5;241m.\u001b[39mexecute(Command\u001b[38;5;241m.\u001b[39mFIND_ELEMENTS, {\u001b[38;5;124m\"\u001b[39m\u001b[38;5;124musing\u001b[39m\u001b[38;5;124m\"\u001b[39m: by, \u001b[38;5;124m\"\u001b[39m\u001b[38;5;124mvalue\u001b[39m\u001b[38;5;124m\"\u001b[39m: value})[\u001b[38;5;124m\"\u001b[39m\u001b[38;5;124mvalue\u001b[39m\u001b[38;5;124m\"\u001b[39m] \u001b[38;5;129;01mor\u001b[39;00m []\n",
      "File \u001b[1;32m~\\anaconda3\\Lib\\site-packages\\selenium\\webdriver\\remote\\webdriver.py:347\u001b[0m, in \u001b[0;36mWebDriver.execute\u001b[1;34m(self, driver_command, params)\u001b[0m\n\u001b[0;32m    345\u001b[0m response \u001b[38;5;241m=\u001b[39m \u001b[38;5;28mself\u001b[39m\u001b[38;5;241m.\u001b[39mcommand_executor\u001b[38;5;241m.\u001b[39mexecute(driver_command, params)\n\u001b[0;32m    346\u001b[0m \u001b[38;5;28;01mif\u001b[39;00m response:\n\u001b[1;32m--> 347\u001b[0m     \u001b[38;5;28mself\u001b[39m\u001b[38;5;241m.\u001b[39merror_handler\u001b[38;5;241m.\u001b[39mcheck_response(response)\n\u001b[0;32m    348\u001b[0m     response[\u001b[38;5;124m\"\u001b[39m\u001b[38;5;124mvalue\u001b[39m\u001b[38;5;124m\"\u001b[39m] \u001b[38;5;241m=\u001b[39m \u001b[38;5;28mself\u001b[39m\u001b[38;5;241m.\u001b[39m_unwrap_value(response\u001b[38;5;241m.\u001b[39mget(\u001b[38;5;124m\"\u001b[39m\u001b[38;5;124mvalue\u001b[39m\u001b[38;5;124m\"\u001b[39m, \u001b[38;5;28;01mNone\u001b[39;00m))\n\u001b[0;32m    349\u001b[0m     \u001b[38;5;28;01mreturn\u001b[39;00m response\n",
      "File \u001b[1;32m~\\anaconda3\\Lib\\site-packages\\selenium\\webdriver\\remote\\errorhandler.py:229\u001b[0m, in \u001b[0;36mErrorHandler.check_response\u001b[1;34m(self, response)\u001b[0m\n\u001b[0;32m    227\u001b[0m         alert_text \u001b[38;5;241m=\u001b[39m value[\u001b[38;5;124m\"\u001b[39m\u001b[38;5;124malert\u001b[39m\u001b[38;5;124m\"\u001b[39m]\u001b[38;5;241m.\u001b[39mget(\u001b[38;5;124m\"\u001b[39m\u001b[38;5;124mtext\u001b[39m\u001b[38;5;124m\"\u001b[39m)\n\u001b[0;32m    228\u001b[0m     \u001b[38;5;28;01mraise\u001b[39;00m exception_class(message, screen, stacktrace, alert_text)  \u001b[38;5;66;03m# type: ignore[call-arg]  # mypy is not smart enough here\u001b[39;00m\n\u001b[1;32m--> 229\u001b[0m \u001b[38;5;28;01mraise\u001b[39;00m exception_class(message, screen, stacktrace)\n",
      "\u001b[1;31mNoSuchWindowException\u001b[0m: Message: no such window: target window already closed\nfrom unknown error: web view not found\n  (Session info: chrome=121.0.6167.187)\nStacktrace:\n\tGetHandleVerifier [0x00007FF6DE327012+3522402]\n\t(No symbol) [0x00007FF6DDF48352]\n\t(No symbol) [0x00007FF6DDDF5ABB]\n\t(No symbol) [0x00007FF6DDDD287C]\n\t(No symbol) [0x00007FF6DDE65D97]\n\t(No symbol) [0x00007FF6DDE7B3CF]\n\t(No symbol) [0x00007FF6DDE5EE03]\n\t(No symbol) [0x00007FF6DDE2F4D4]\n\t(No symbol) [0x00007FF6DDE305F1]\n\tGetHandleVerifier [0x00007FF6DE359B9D+3730157]\n\tGetHandleVerifier [0x00007FF6DE3AF02D+4079485]\n\tGetHandleVerifier [0x00007FF6DE3A75D3+4048163]\n\tGetHandleVerifier [0x00007FF6DE07A649+718233]\n\t(No symbol) [0x00007FF6DDF54A3F]\n\t(No symbol) [0x00007FF6DDF4FA94]\n\t(No symbol) [0x00007FF6DDF4FBC2]\n\t(No symbol) [0x00007FF6DDF3F2E4]\n\tBaseThreadInitThunk [0x00007FFB646A7344+20]\n\tRtlUserThreadStart [0x00007FFB659226B1+33]\n"
     ]
    }
   ],
   "source": [
    "# 이미지 데이터 수집\n",
    "img = driver.find_elements(By.CLASS_NAME, '_fe_image_tab_content_thumbnail_image')\n",
    "# 순수한 scr 데이터만 추출하여 이미지파일로 저장\n",
    "for i in range(len(img)): # 자:파일명에 숫자 들어갈거라서 range함수 추천\n",
    "    urlretrieve(img[i].get_attribute('src'),f\"C:\\\\Users\\\\smhrd\\\\Desktop\\\\{keyword}\\\\{keyword}{i+1}.jpg\")\n",
    "    # 자영 자꾸 src 오타낸다~~"
   ]
  },
  {
   "cell_type": "code",
   "execution_count": 63,
   "id": "485bf69f",
   "metadata": {},
   "outputs": [
    {
     "name": "stdout",
     "output_type": "stream",
     "text": [
      "키워드를 입력하세요~고심ㅇ\n",
      "폴더생성\n"
     ]
    }
   ],
   "source": [
    "## 자영 한 셀로 합치기\n",
    "# 라이브러리 불러오기\n",
    "from selenium import webdriver as wb\n",
    "from selenium.webdriver.common.keys import Keys\n",
    "from selenium.webdriver.common.by import By\n",
    "import pandas as pd\n",
    "import time\n",
    "from tqdm import tqdm\n",
    "from urllib.request import urlretrieve\n",
    "import os\n",
    "\n",
    "# 폴더생성(키워드로 폴더명 생성)\n",
    "keyword = input(\"키워드를 입력하세요~\") #자: 키워드 리스트 정의돼있으면 리스트를 넣고 반복문으로 감싸서 리스트 이름들을 꺼내서도 가능\n",
    "# 만약에 폴더명이 없다면 생성해주고\n",
    "if not os.path.isdir(f\"C:\\\\Users\\\\smhrd\\\\Desktop\\\\{keyword}\"): #자:os의 현 위치에 폴더가 존재하니?\n",
    "    print(\"폴더생성\")\n",
    "    # 폴더를 생성하는 코드를 작성\n",
    "    os.mkdir(f\"C:\\\\Users\\\\smhrd\\\\Desktop\\\\{keyword}\") \n",
    "# 그렇지 않으면(폴더명이 있음) 이미 존재하는 폴더입니다 라고 출력    \n",
    "else:\n",
    "    print(\"이미 존재하는 폴더입니다~\")\n",
    "    \n",
    "# 네이버 메인 페이지 열기\n",
    "# 키워드 검색\n",
    "driver = wb.Chrome()\n",
    "driver.get('https://www.naver.com/')\n",
    "\n",
    "# 브라우저 최대화 #자: 최대화 안 한 상태로 가져오면 문제 생길 수 있음\n",
    "driver.maximize_window()\n",
    "time.sleep(1)\n",
    "\n",
    "#키워드 검색\n",
    "search = driver.find_element(By.ID, 'query')\n",
    "search.send_keys(keyword)\n",
    "search.send_keys(Keys.ENTER)\n",
    "\n",
    "    \n",
    "# 이미지 탭으로 이동\n",
    "driver.find_element(By.LINK_TEXT,'이미지').click()\n",
    "\n",
    "# 자동 스크롤\n",
    "for i in range(10):\n",
    "    body = driver.find_element(By.CSS_SELECTOR, 'body')\n",
    "    body.send_keys(Keys.END)\n",
    "    time.sleep(1)\n",
    "\n",
    "\n",
    "# 이미지 데이터 수집\n",
    "img = driver.find_elements(By.CLASS_NAME, '_fe_image_tab_content_thumbnail_image')\n",
    "# 순수한 scr 데이터만 추출하여 이미지파일로 저장\n",
    "for i in range(len(img)): # 자:파일명에 숫자 들어갈거라서 range함수 추천\n",
    "    urlretrieve(img[i].get_attribute('src'),f\"C:\\\\Users\\\\smhrd\\\\Desktop\\\\{keyword}\\\\{keyword}{i+1}.jpg\")\n",
    "    # 자영 자꾸 src 오타낸다~~"
   ]
  },
  {
   "cell_type": "code",
   "execution_count": null,
   "id": "024223ab",
   "metadata": {},
   "outputs": [],
   "source": []
  }
 ],
 "metadata": {
  "kernelspec": {
   "display_name": "Python 3 (ipykernel)",
   "language": "python",
   "name": "python3"
  },
  "language_info": {
   "codemirror_mode": {
    "name": "ipython",
    "version": 3
   },
   "file_extension": ".py",
   "mimetype": "text/x-python",
   "name": "python",
   "nbconvert_exporter": "python",
   "pygments_lexer": "ipython3",
   "version": "3.11.5"
  }
 },
 "nbformat": 4,
 "nbformat_minor": 5
}
