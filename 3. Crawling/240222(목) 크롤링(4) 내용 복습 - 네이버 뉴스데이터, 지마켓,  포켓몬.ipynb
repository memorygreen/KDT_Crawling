{
 "cells": [
  {
   "cell_type": "markdown",
   "id": "c0bb8d91",
   "metadata": {},
   "source": [
    "### 실습1. 네이버 뉴스 제목수집"
   ]
  },
  {
   "cell_type": "code",
   "execution_count": 4,
   "id": "58e7c781",
   "metadata": {},
   "outputs": [],
   "source": [
    "from selenium import webdriver as wb\n",
    "from selenium.webdriver.common.keys import Keys\n",
    "from selenium.webdriver.common.by import By\n",
    "import pandas as pd\n"
   ]
  },
  {
   "cell_type": "code",
   "execution_count": 16,
   "id": "84c54404",
   "metadata": {},
   "outputs": [
    {
     "name": "stdout",
     "output_type": "stream",
     "text": [
      "검색어를 입력하세요>>손흥민\n"
     ]
    },
    {
     "data": {
      "text/plain": [
       "'박지원 “이강인도 손흥민에게 빌었는데…이재명, 내홍 수습을”'"
      ]
     },
     "execution_count": 16,
     "metadata": {},
     "output_type": "execute_result"
    }
   ],
   "source": [
    "# 브라우저 열기\n",
    "driver = wb.Chrome()\n",
    "driver.get('https://www.naver.com/')\n",
    "\n",
    "#검색창찾기\n",
    "search = driver.find_element(By.ID,'query')\n",
    "\n",
    "#검색어 입력\n",
    "keyword = input(\"검색어를 입력하세요>>\")\n",
    "search.send_keys(keyword)\n",
    "search.send_keys(Keys.ENTER)\n",
    "\n",
    "#뉴스탭 선택\n",
    "## 1) 태그:nth-child()\n",
    "# driver.find_element(By.CSS_SELECTOR, 'div.api_flicking_wrap._conveyer_root>div:nth-child(2)').click()\n",
    "## 2) LINK_TEXT\n",
    "driver.find_element(By.LINK_TEXT, '뉴스').click()\n",
    "\n",
    "# 뉴스제목 선택 (첫번째 요소)\n",
    "driver.find_elements(By.CLASS_NAME, 'news_tit')[0].text\n",
    "\n",
    "# 뉴스제목 \n"
   ]
  },
  {
   "cell_type": "code",
   "execution_count": null,
   "id": "4d34ad27",
   "metadata": {},
   "outputs": [],
   "source": []
  }
 ],
 "metadata": {
  "kernelspec": {
   "display_name": "Python 3 (ipykernel)",
   "language": "python",
   "name": "python3"
  },
  "language_info": {
   "codemirror_mode": {
    "name": "ipython",
    "version": 3
   },
   "file_extension": ".py",
   "mimetype": "text/x-python",
   "name": "python",
   "nbconvert_exporter": "python",
   "pygments_lexer": "ipython3",
   "version": "3.11.5"
  }
 },
 "nbformat": 4,
 "nbformat_minor": 5
}
