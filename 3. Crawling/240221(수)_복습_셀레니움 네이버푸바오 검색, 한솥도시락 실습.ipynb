{
 "cells": [
  {
   "cell_type": "markdown",
   "id": "3917c560",
   "metadata": {},
   "source": [
    "### 실습1. 네이버 검색 '푸바오'"
   ]
  },
  {
   "cell_type": "markdown",
   "id": "a252afc0",
   "metadata": {},
   "source": [
    "#### 1.1. 셀레니움 라이브러리 설치(최초 1회)"
   ]
  },
  {
   "cell_type": "code",
   "execution_count": 18,
   "id": "a3ba0a58",
   "metadata": {},
   "outputs": [
    {
     "name": "stdout",
     "output_type": "stream",
     "text": [
      "Requirement already satisfied: selenium in c:\\users\\smhrd\\anaconda3\\lib\\site-packages (4.18.1)\n",
      "Requirement already satisfied: urllib3[socks]<3,>=1.26 in c:\\users\\smhrd\\anaconda3\\lib\\site-packages (from selenium) (1.26.16)\n",
      "Requirement already satisfied: trio~=0.17 in c:\\users\\smhrd\\anaconda3\\lib\\site-packages (from selenium) (0.24.0)\n",
      "Requirement already satisfied: trio-websocket~=0.9 in c:\\users\\smhrd\\anaconda3\\lib\\site-packages (from selenium) (0.11.1)\n",
      "Requirement already satisfied: certifi>=2021.10.8 in c:\\users\\smhrd\\anaconda3\\lib\\site-packages (from selenium) (2023.7.22)\n",
      "Requirement already satisfied: typing_extensions>=4.9.0 in c:\\users\\smhrd\\anaconda3\\lib\\site-packages (from selenium) (4.9.0)\n",
      "Requirement already satisfied: attrs>=20.1.0 in c:\\users\\smhrd\\anaconda3\\lib\\site-packages (from trio~=0.17->selenium) (22.1.0)\n",
      "Requirement already satisfied: sortedcontainers in c:\\users\\smhrd\\anaconda3\\lib\\site-packages (from trio~=0.17->selenium) (2.4.0)\n",
      "Requirement already satisfied: idna in c:\\users\\smhrd\\anaconda3\\lib\\site-packages (from trio~=0.17->selenium) (3.4)\n",
      "Requirement already satisfied: outcome in c:\\users\\smhrd\\anaconda3\\lib\\site-packages (from trio~=0.17->selenium) (1.3.0.post0)\n",
      "Requirement already satisfied: sniffio>=1.3.0 in c:\\users\\smhrd\\anaconda3\\lib\\site-packages (from trio~=0.17->selenium) (1.3.0)\n",
      "Requirement already satisfied: cffi>=1.14 in c:\\users\\smhrd\\anaconda3\\lib\\site-packages (from trio~=0.17->selenium) (1.15.1)\n",
      "Requirement already satisfied: wsproto>=0.14 in c:\\users\\smhrd\\anaconda3\\lib\\site-packages (from trio-websocket~=0.9->selenium) (1.2.0)\n",
      "Requirement already satisfied: PySocks!=1.5.7,<2.0,>=1.5.6 in c:\\users\\smhrd\\anaconda3\\lib\\site-packages (from urllib3[socks]<3,>=1.26->selenium) (1.7.1)\n",
      "Requirement already satisfied: pycparser in c:\\users\\smhrd\\anaconda3\\lib\\site-packages (from cffi>=1.14->trio~=0.17->selenium) (2.21)\n",
      "Requirement already satisfied: h11<1,>=0.9.0 in c:\\users\\smhrd\\anaconda3\\lib\\site-packages (from wsproto>=0.14->trio-websocket~=0.9->selenium) (0.14.0)\n"
     ]
    }
   ],
   "source": [
    "# 기본으로 내장된 라이브러리가 아닌 경우 라이브러리를 설치!\n",
    "!pip install selenium"
   ]
  },
  {
   "cell_type": "markdown",
   "id": "2910fa4f",
   "metadata": {},
   "source": [
    "#### 1.2. 라이브러리 불러오기"
   ]
  },
  {
   "cell_type": "code",
   "execution_count": 27,
   "id": "5044f17c",
   "metadata": {},
   "outputs": [],
   "source": [
    "# webdriver : 웹브라우저를 '통제' 하기 위한 라이브러리\n",
    "from selenium import webdriver as wb\n",
    "# Keys : 웹을 통해 값을 \"입력\"하기 위한 라이브러리 >> 컴퓨터용 키보드\n",
    "from selenium.webdriver.common.keys import Keys\n",
    "# by : 선택자의 구분자 역할을 해주는 라이브러리\n",
    "from selenium.webdriver.common.by import By\n",
    "#기본 라이브러리\n",
    "import pandas as pd"
   ]
  },
  {
   "cell_type": "markdown",
   "id": "2b4b7d12",
   "metadata": {},
   "source": [
    "### 1.3. webdriver 브라우저 제어\n"
   ]
  },
  {
   "cell_type": "markdown",
   "id": "abb3074f",
   "metadata": {},
   "source": [
    "##### 1.3.1. 브라우저 시작(Chrome)"
   ]
  },
  {
   "cell_type": "code",
   "execution_count": 28,
   "id": "f3028c17",
   "metadata": {},
   "outputs": [],
   "source": [
    "driver = wb.Chrome()\n",
    "# 자동화 제어된 크롬창을 driver 라고 불러주겠다\n",
    "# url 정보를 주지 않으면 비어있는 창이 뜬다"
   ]
  },
  {
   "cell_type": "markdown",
   "id": "278bfac4",
   "metadata": {},
   "source": [
    "##### 1.3.2. 네이버 페이지 요청"
   ]
  },
  {
   "cell_type": "code",
   "execution_count": 52,
   "id": "d8d62a1e",
   "metadata": {},
   "outputs": [],
   "source": [
    "driver.get('https://www.naver.com/')"
   ]
  },
  {
   "cell_type": "markdown",
   "id": "0830044d",
   "metadata": {},
   "source": [
    "##### 1.3.3. 검색창 위치 찾아오기"
   ]
  },
  {
   "cell_type": "code",
   "execution_count": 54,
   "id": "1b3a2898",
   "metadata": {},
   "outputs": [
    {
     "data": {
      "text/plain": [
       "<selenium.webdriver.remote.webelement.WebElement (session=\"0c3682faa5e44eec49ac882ab44ab121\", element=\"B5B206E201C6D4FA009EBD8221B34E32_element_19132\")>"
      ]
     },
     "execution_count": 54,
     "metadata": {},
     "output_type": "execute_result"
    }
   ],
   "source": [
    "search = driver.find_element(By.ID,'query')\n",
    "search"
   ]
  },
  {
   "cell_type": "markdown",
   "id": "09d7a124",
   "metadata": {},
   "source": [
    "#### 1.3.4. 검색창에 키워드 입력 - ex. '푸바오'"
   ]
  },
  {
   "cell_type": "code",
   "execution_count": 55,
   "id": "b345d410",
   "metadata": {},
   "outputs": [],
   "source": [
    "search.send_keys('푸바오')"
   ]
  },
  {
   "cell_type": "markdown",
   "id": "1c3f28d3",
   "metadata": {},
   "source": [
    "#### 1.3.5. 전송방법1) enter 키 전송"
   ]
  },
  {
   "cell_type": "code",
   "execution_count": 56,
   "id": "17f97b5f",
   "metadata": {},
   "outputs": [],
   "source": [
    "search.send_keys(Keys.ENTER)"
   ]
  },
  {
   "cell_type": "markdown",
   "id": "d3577a6b",
   "metadata": {},
   "source": [
    "##### 1.3.5.1-2) 뒤로가기 > 브라우저 창 기능 > driver"
   ]
  },
  {
   "cell_type": "code",
   "execution_count": 59,
   "id": "497e136f",
   "metadata": {},
   "outputs": [],
   "source": [
    "driver.back()"
   ]
  },
  {
   "cell_type": "markdown",
   "id": "748a3932",
   "metadata": {},
   "source": [
    "#### 1.3.5.1-3) 재검색 '루이바오'"
   ]
  },
  {
   "cell_type": "code",
   "execution_count": 63,
   "id": "abf60c99",
   "metadata": {},
   "outputs": [],
   "source": [
    "search = driver.find_element(By.ID,'query')\n",
    "search.send_keys('루이바오')"
   ]
  },
  {
   "cell_type": "markdown",
   "id": "556a7814",
   "metadata": {},
   "source": [
    "##### 1.3.5.2 전송방법2)"
   ]
  },
  {
   "cell_type": "code",
   "execution_count": 66,
   "id": "11ef036b",
   "metadata": {},
   "outputs": [
    {
     "ename": "NoSuchElementException",
     "evalue": "Message: no such element: Unable to locate element: {\"method\":\"css selector\",\"selector\":\"[id=\"search-btn\"]\"}\n  (Session info: chrome=121.0.6167.185); For documentation on this error, please visit: https://www.selenium.dev/documentation/webdriver/troubleshooting/errors#no-such-element-exception\nStacktrace:\n\tGetHandleVerifier [0x00007FF600F87012+3522402]\n\t(No symbol) [0x00007FF600BA8352]\n\t(No symbol) [0x00007FF600A55ABB]\n\t(No symbol) [0x00007FF600A9BF0E]\n\t(No symbol) [0x00007FF600A9C08C]\n\t(No symbol) [0x00007FF600ADE437]\n\t(No symbol) [0x00007FF600ABF09F]\n\t(No symbol) [0x00007FF600ADBDA3]\n\t(No symbol) [0x00007FF600ABEE03]\n\t(No symbol) [0x00007FF600A8F4D4]\n\t(No symbol) [0x00007FF600A905F1]\n\tGetHandleVerifier [0x00007FF600FB9B9D+3730157]\n\tGetHandleVerifier [0x00007FF60100F02D+4079485]\n\tGetHandleVerifier [0x00007FF6010075D3+4048163]\n\tGetHandleVerifier [0x00007FF600CDA649+718233]\n\t(No symbol) [0x00007FF600BB4A3F]\n\t(No symbol) [0x00007FF600BAFA94]\n\t(No symbol) [0x00007FF600BAFBC2]\n\t(No symbol) [0x00007FF600B9F2E4]\n\tBaseThreadInitThunk [0x00007FFDEB1D7344+20]\n\tRtlUserThreadStart [0x00007FFDEBD626B1+33]\n",
     "output_type": "error",
     "traceback": [
      "\u001b[1;31m---------------------------------------------------------------------------\u001b[0m",
      "\u001b[1;31mNoSuchElementException\u001b[0m                    Traceback (most recent call last)",
      "Cell \u001b[1;32mIn[66], line 1\u001b[0m\n\u001b[1;32m----> 1\u001b[0m btn \u001b[38;5;241m=\u001b[39m driver\u001b[38;5;241m.\u001b[39mfind_element(By\u001b[38;5;241m.\u001b[39mID, \u001b[38;5;124m'\u001b[39m\u001b[38;5;124msearch-btn\u001b[39m\u001b[38;5;124m'\u001b[39m)\n\u001b[0;32m      2\u001b[0m btn\u001b[38;5;241m.\u001b[39mclick()\n",
      "File \u001b[1;32m~\\anaconda3\\Lib\\site-packages\\selenium\\webdriver\\remote\\webdriver.py:741\u001b[0m, in \u001b[0;36mWebDriver.find_element\u001b[1;34m(self, by, value)\u001b[0m\n\u001b[0;32m    738\u001b[0m     by \u001b[38;5;241m=\u001b[39m By\u001b[38;5;241m.\u001b[39mCSS_SELECTOR\n\u001b[0;32m    739\u001b[0m     value \u001b[38;5;241m=\u001b[39m \u001b[38;5;124mf\u001b[39m\u001b[38;5;124m'\u001b[39m\u001b[38;5;124m[name=\u001b[39m\u001b[38;5;124m\"\u001b[39m\u001b[38;5;132;01m{\u001b[39;00mvalue\u001b[38;5;132;01m}\u001b[39;00m\u001b[38;5;124m\"\u001b[39m\u001b[38;5;124m]\u001b[39m\u001b[38;5;124m'\u001b[39m\n\u001b[1;32m--> 741\u001b[0m \u001b[38;5;28;01mreturn\u001b[39;00m \u001b[38;5;28mself\u001b[39m\u001b[38;5;241m.\u001b[39mexecute(Command\u001b[38;5;241m.\u001b[39mFIND_ELEMENT, {\u001b[38;5;124m\"\u001b[39m\u001b[38;5;124musing\u001b[39m\u001b[38;5;124m\"\u001b[39m: by, \u001b[38;5;124m\"\u001b[39m\u001b[38;5;124mvalue\u001b[39m\u001b[38;5;124m\"\u001b[39m: value})[\u001b[38;5;124m\"\u001b[39m\u001b[38;5;124mvalue\u001b[39m\u001b[38;5;124m\"\u001b[39m]\n",
      "File \u001b[1;32m~\\anaconda3\\Lib\\site-packages\\selenium\\webdriver\\remote\\webdriver.py:347\u001b[0m, in \u001b[0;36mWebDriver.execute\u001b[1;34m(self, driver_command, params)\u001b[0m\n\u001b[0;32m    345\u001b[0m response \u001b[38;5;241m=\u001b[39m \u001b[38;5;28mself\u001b[39m\u001b[38;5;241m.\u001b[39mcommand_executor\u001b[38;5;241m.\u001b[39mexecute(driver_command, params)\n\u001b[0;32m    346\u001b[0m \u001b[38;5;28;01mif\u001b[39;00m response:\n\u001b[1;32m--> 347\u001b[0m     \u001b[38;5;28mself\u001b[39m\u001b[38;5;241m.\u001b[39merror_handler\u001b[38;5;241m.\u001b[39mcheck_response(response)\n\u001b[0;32m    348\u001b[0m     response[\u001b[38;5;124m\"\u001b[39m\u001b[38;5;124mvalue\u001b[39m\u001b[38;5;124m\"\u001b[39m] \u001b[38;5;241m=\u001b[39m \u001b[38;5;28mself\u001b[39m\u001b[38;5;241m.\u001b[39m_unwrap_value(response\u001b[38;5;241m.\u001b[39mget(\u001b[38;5;124m\"\u001b[39m\u001b[38;5;124mvalue\u001b[39m\u001b[38;5;124m\"\u001b[39m, \u001b[38;5;28;01mNone\u001b[39;00m))\n\u001b[0;32m    349\u001b[0m     \u001b[38;5;28;01mreturn\u001b[39;00m response\n",
      "File \u001b[1;32m~\\anaconda3\\Lib\\site-packages\\selenium\\webdriver\\remote\\errorhandler.py:229\u001b[0m, in \u001b[0;36mErrorHandler.check_response\u001b[1;34m(self, response)\u001b[0m\n\u001b[0;32m    227\u001b[0m         alert_text \u001b[38;5;241m=\u001b[39m value[\u001b[38;5;124m\"\u001b[39m\u001b[38;5;124malert\u001b[39m\u001b[38;5;124m\"\u001b[39m]\u001b[38;5;241m.\u001b[39mget(\u001b[38;5;124m\"\u001b[39m\u001b[38;5;124mtext\u001b[39m\u001b[38;5;124m\"\u001b[39m)\n\u001b[0;32m    228\u001b[0m     \u001b[38;5;28;01mraise\u001b[39;00m exception_class(message, screen, stacktrace, alert_text)  \u001b[38;5;66;03m# type: ignore[call-arg]  # mypy is not smart enough here\u001b[39;00m\n\u001b[1;32m--> 229\u001b[0m \u001b[38;5;28;01mraise\u001b[39;00m exception_class(message, screen, stacktrace)\n",
      "\u001b[1;31mNoSuchElementException\u001b[0m: Message: no such element: Unable to locate element: {\"method\":\"css selector\",\"selector\":\"[id=\"search-btn\"]\"}\n  (Session info: chrome=121.0.6167.185); For documentation on this error, please visit: https://www.selenium.dev/documentation/webdriver/troubleshooting/errors#no-such-element-exception\nStacktrace:\n\tGetHandleVerifier [0x00007FF600F87012+3522402]\n\t(No symbol) [0x00007FF600BA8352]\n\t(No symbol) [0x00007FF600A55ABB]\n\t(No symbol) [0x00007FF600A9BF0E]\n\t(No symbol) [0x00007FF600A9C08C]\n\t(No symbol) [0x00007FF600ADE437]\n\t(No symbol) [0x00007FF600ABF09F]\n\t(No symbol) [0x00007FF600ADBDA3]\n\t(No symbol) [0x00007FF600ABEE03]\n\t(No symbol) [0x00007FF600A8F4D4]\n\t(No symbol) [0x00007FF600A905F1]\n\tGetHandleVerifier [0x00007FF600FB9B9D+3730157]\n\tGetHandleVerifier [0x00007FF60100F02D+4079485]\n\tGetHandleVerifier [0x00007FF6010075D3+4048163]\n\tGetHandleVerifier [0x00007FF600CDA649+718233]\n\t(No symbol) [0x00007FF600BB4A3F]\n\t(No symbol) [0x00007FF600BAFA94]\n\t(No symbol) [0x00007FF600BAFBC2]\n\t(No symbol) [0x00007FF600B9F2E4]\n\tBaseThreadInitThunk [0x00007FFDEB1D7344+20]\n\tRtlUserThreadStart [0x00007FFDEBD626B1+33]\n"
     ]
    }
   ],
   "source": [
    "btn = driver.find_element(By.ID, 'search-btn')\n",
    "btn.click()"
   ]
  },
  {
   "cell_type": "markdown",
   "id": "eb617256",
   "metadata": {},
   "source": [
    "##### 1.3.6. 창닫기"
   ]
  },
  {
   "cell_type": "code",
   "execution_count": 69,
   "id": "ba2a3b82",
   "metadata": {},
   "outputs": [],
   "source": [
    "driver.quit()"
   ]
  },
  {
   "cell_type": "markdown",
   "id": "4174a6af",
   "metadata": {},
   "source": [
    "# 실습2) 한솥도시락"
   ]
  },
  {
   "cell_type": "markdown",
   "id": "cbd5cb2e",
   "metadata": {},
   "source": [
    "#### 2.1. 라이브러리 불러오기, 크롬 브라우저 실행,  페이지 이동"
   ]
  },
  {
   "cell_type": "code",
   "execution_count": 108,
   "id": "b648524b",
   "metadata": {},
   "outputs": [],
   "source": [
    "#1) 라이브러리 불러오기\n",
    "from selenium import webdriver as wb\n",
    "from selenium.webdriver.common.keys import Keys\n",
    "from selenium.webdriver.common.by import By\n",
    "import pandas as pd\n",
    "\n",
    "#2) 크롬 브라우저 실행\n",
    "driver = wb.Chrome()\n",
    "\n",
    "#3) 페이지 이동(한솥도시락 페이지)\n",
    "driver.get('https://www.hsd.co.kr/menu/menu_list')"
   ]
  },
  {
   "cell_type": "markdown",
   "id": "6525c587",
   "metadata": {},
   "source": [
    "#### 2.2. 한솥도시락 페이지의 메뉴 수집하기"
   ]
  },
  {
   "cell_type": "code",
   "execution_count": 109,
   "id": "61f96dc2",
   "metadata": {},
   "outputs": [],
   "source": [
    "#2.2.1. 요소 선택\n",
    "menu = driver.find_elements(By.CLASS_NAME, 'h.fz_03')\n"
   ]
  },
  {
   "cell_type": "code",
   "execution_count": 110,
   "id": "50c46339",
   "metadata": {},
   "outputs": [
    {
     "data": {
      "text/plain": [
       "'사골 조랭이떡 만둣국'"
      ]
     },
     "execution_count": 110,
     "metadata": {},
     "output_type": "execute_result"
    }
   ],
   "source": [
    "#2.2.2. 첫번째 메뉴 순수한 콘텐츠만 추출\n",
    "menu[0].text"
   ]
  },
  {
   "cell_type": "code",
   "execution_count": 111,
   "id": "613c7802",
   "metadata": {},
   "outputs": [
    {
     "name": "stdout",
     "output_type": "stream",
     "text": [
      "사골 조랭이떡 만둣국\n",
      "한우 함박스테이크 & 반달 돈까스\n",
      "한우함박스테이크&토네이도소세지\n",
      "해바라기\n",
      "매화\n",
      "진달래\n",
      "개나리\n",
      "돈까스도련님 고기고기\n",
      "탕수육도련님 고기고기\n",
      "새치 고기고기\n",
      "돈치 고기고기\n",
      "카츠카츠\n",
      "숯불직화구이\n",
      "소불고기\n",
      "메가치킨제육\n",
      "칠리 찹쌀탕수육도련님\n",
      "동백\n",
      "치킨제육\n",
      "돈까스도련님\n",
      "제육볶음\n",
      "돈치스팸\n",
      "송정식 떡갈비\n",
      "제육 김치찌개 정식\n",
      "제육 김치 부대찌개 정식\n",
      "돈치스팸 김치 부대찌개 정식\n",
      "빅치킨마요 김치 부대찌개 정식\n",
      "치킨마요 김치 부대찌개 정식\n",
      "빅치킨마요 김치찌개 정식\n",
      "치킨마요 김치찌개 정식\n",
      "빅새치마요\n",
      "새치마요\n",
      "메가스팸마요\n",
      "스팸마요\n",
      "메가치킨마요\n",
      "왕치킨마요\n",
      "빅치킨마요\n",
      "치킨마요\n",
      "참치마요\n",
      "돈치마요\n",
      "돈까스 카레\n",
      "잡채볶음밥(중화풍 매운맛)\n",
      "잡채볶음밥(오리지널)\n",
      "스팸 김치볶음밥\n",
      "김치볶음밥\n",
      "스팸 철판볶음밥\n",
      "소불고기 철판볶음밥\n",
      "나시고랭\n",
      "묵은지 김치찌개\n",
      "김치 부대찌개\n",
      "핫 치즈 닭갈비덮밥\n",
      "오리지널 치즈 닭갈비덮밥\n",
      "숯불직화구이 덮밥\n",
      "마파두부 덮밥\n",
      "왕카레돈까스덮밥\n",
      "새우돈까스 덮밥\n",
      "돈까스 덮밥\n",
      "아보카도 소불고기 명란 비빔밥\n",
      "소불고기 감초고추장 비빔밥\n",
      "시골제육 두부강된장 비빔밥\n",
      "참치야채 감초고추장 비빔밥\n",
      "튼튼도시락\n"
     ]
    }
   ],
   "source": [
    "# 2.2.3. 전체 메뉴명 확인\n",
    "for i in range(len(menu)):\n",
    "    print(menu[i].text)"
   ]
  },
  {
   "cell_type": "markdown",
   "id": "bf1df91e",
   "metadata": {},
   "source": [
    "### 2.3. 가격 데이터 수집"
   ]
  },
  {
   "cell_type": "code",
   "execution_count": 130,
   "id": "0a649ecc",
   "metadata": {},
   "outputs": [
    {
     "data": {
      "text/plain": [
       "61"
      ]
     },
     "execution_count": 130,
     "metadata": {},
     "output_type": "execute_result"
    }
   ],
   "source": [
    "# 가격 데이터 수집\n",
    "\n",
    "price = driver.find_elements(By.CLASS_NAME,'item-price')\n",
    "\n",
    "#첫번째 요소 확인\n",
    "price[0].text\n",
    "\n",
    "#개수 확인\n",
    "len(menu) #61"
   ]
  },
  {
   "cell_type": "code",
   "execution_count": 131,
   "id": "c1b70dc1",
   "metadata": {
    "collapsed": true
   },
   "outputs": [
    {
     "name": "stdout",
     "output_type": "stream",
     "text": [
      "5,900원\n",
      "8,900원\n",
      "8,900원\n",
      "10,000원\n",
      "10,500원\n",
      "8,000원\n",
      "8,700원\n",
      "6,600원\n",
      "6,100원\n",
      "7,100원\n",
      "6,100원\n",
      "4,900원\n",
      "6,800원\n",
      "5,700원\n",
      "7,800원\n",
      "4,500원\n",
      "6,200원\n",
      "5,000원\n",
      "4,900원\n",
      "4,700원\n",
      "5,000원\n",
      "6,900원\n",
      "8,800원\n",
      "9,200원\n",
      "9,200원\n",
      "8,200원\n",
      "7,600원\n",
      "7,700원\n",
      "7,100원\n",
      "4,700원\n",
      "4,100원\n",
      "5,900원\n",
      "4,000원\n",
      "6,200원\n",
      "5,100원\n",
      "4,400원\n",
      "3,800원\n",
      "3,600원\n",
      "4,100원\n",
      "4,800원\n",
      "5,500원\n",
      "5,300원\n",
      "4,900원\n",
      "4,100원\n",
      "4,900원\n",
      "5,100원\n",
      "6,300원\n",
      "5,000원\n",
      "6,100원\n",
      "6,000원\n",
      "6,000원\n",
      "6,000원\n",
      "5,000원\n",
      "6,100원\n",
      "4,400원\n",
      "4,300원\n",
      "6,700원\n",
      "5,600원\n",
      "5,400원\n",
      "3,700원\n",
      "5,200원\n"
     ]
    }
   ],
   "source": [
    "##(임시로)\n",
    "# 반복문 이용하여 가격 콘텐츠 추출\n",
    "for i in range(len(price)):\n",
    "    print(price[i].text)"
   ]
  },
  {
   "cell_type": "code",
   "execution_count": 120,
   "id": "48d41224",
   "metadata": {},
   "outputs": [
    {
     "ename": "ElementNotInteractableException",
     "evalue": "Message: element not interactable\n  (Session info: chrome=121.0.6167.185)\nStacktrace:\n\tGetHandleVerifier [0x00007FF600F87012+3522402]\n\t(No symbol) [0x00007FF600BA8352]\n\t(No symbol) [0x00007FF600A5596D]\n\t(No symbol) [0x00007FF600A9D3C6]\n\t(No symbol) [0x00007FF600A91910]\n\t(No symbol) [0x00007FF600ABF05A]\n\t(No symbol) [0x00007FF600A9120A]\n\t(No symbol) [0x00007FF600ABF270]\n\t(No symbol) [0x00007FF600ADBDA3]\n\t(No symbol) [0x00007FF600ABEE03]\n\t(No symbol) [0x00007FF600A8F4D4]\n\t(No symbol) [0x00007FF600A905F1]\n\tGetHandleVerifier [0x00007FF600FB9B9D+3730157]\n\tGetHandleVerifier [0x00007FF60100F02D+4079485]\n\tGetHandleVerifier [0x00007FF6010075D3+4048163]\n\tGetHandleVerifier [0x00007FF600CDA649+718233]\n\t(No symbol) [0x00007FF600BB4A3F]\n\t(No symbol) [0x00007FF600BAFA94]\n\t(No symbol) [0x00007FF600BAFBC2]\n\t(No symbol) [0x00007FF600B9F2E4]\n\tBaseThreadInitThunk [0x00007FFDEB1D7344+20]\n\tRtlUserThreadStart [0x00007FFDEBD626B1+33]\n",
     "output_type": "error",
     "traceback": [
      "\u001b[1;31m---------------------------------------------------------------------------\u001b[0m",
      "\u001b[1;31mElementNotInteractableException\u001b[0m           Traceback (most recent call last)",
      "Cell \u001b[1;32mIn[120], line 3\u001b[0m\n\u001b[0;32m      1\u001b[0m \u001b[38;5;66;03m# 더보기 클릭\u001b[39;00m\n\u001b[0;32m      2\u001b[0m btn_more \u001b[38;5;241m=\u001b[39m driver\u001b[38;5;241m.\u001b[39mfind_element(By\u001b[38;5;241m.\u001b[39mCLASS_NAME,\u001b[38;5;124m'\u001b[39m\u001b[38;5;124mc_05\u001b[39m\u001b[38;5;124m'\u001b[39m)\n\u001b[1;32m----> 3\u001b[0m btn_more\u001b[38;5;241m.\u001b[39mclick()\n",
      "File \u001b[1;32m~\\anaconda3\\Lib\\site-packages\\selenium\\webdriver\\remote\\webelement.py:94\u001b[0m, in \u001b[0;36mWebElement.click\u001b[1;34m(self)\u001b[0m\n\u001b[0;32m     92\u001b[0m \u001b[38;5;28;01mdef\u001b[39;00m \u001b[38;5;21mclick\u001b[39m(\u001b[38;5;28mself\u001b[39m) \u001b[38;5;241m-\u001b[39m\u001b[38;5;241m>\u001b[39m \u001b[38;5;28;01mNone\u001b[39;00m:\n\u001b[0;32m     93\u001b[0m \u001b[38;5;250m    \u001b[39m\u001b[38;5;124;03m\"\"\"Clicks the element.\"\"\"\u001b[39;00m\n\u001b[1;32m---> 94\u001b[0m     \u001b[38;5;28mself\u001b[39m\u001b[38;5;241m.\u001b[39m_execute(Command\u001b[38;5;241m.\u001b[39mCLICK_ELEMENT)\n",
      "File \u001b[1;32m~\\anaconda3\\Lib\\site-packages\\selenium\\webdriver\\remote\\webelement.py:395\u001b[0m, in \u001b[0;36mWebElement._execute\u001b[1;34m(self, command, params)\u001b[0m\n\u001b[0;32m    393\u001b[0m     params \u001b[38;5;241m=\u001b[39m {}\n\u001b[0;32m    394\u001b[0m params[\u001b[38;5;124m\"\u001b[39m\u001b[38;5;124mid\u001b[39m\u001b[38;5;124m\"\u001b[39m] \u001b[38;5;241m=\u001b[39m \u001b[38;5;28mself\u001b[39m\u001b[38;5;241m.\u001b[39m_id\n\u001b[1;32m--> 395\u001b[0m \u001b[38;5;28;01mreturn\u001b[39;00m \u001b[38;5;28mself\u001b[39m\u001b[38;5;241m.\u001b[39m_parent\u001b[38;5;241m.\u001b[39mexecute(command, params)\n",
      "File \u001b[1;32m~\\anaconda3\\Lib\\site-packages\\selenium\\webdriver\\remote\\webdriver.py:347\u001b[0m, in \u001b[0;36mWebDriver.execute\u001b[1;34m(self, driver_command, params)\u001b[0m\n\u001b[0;32m    345\u001b[0m response \u001b[38;5;241m=\u001b[39m \u001b[38;5;28mself\u001b[39m\u001b[38;5;241m.\u001b[39mcommand_executor\u001b[38;5;241m.\u001b[39mexecute(driver_command, params)\n\u001b[0;32m    346\u001b[0m \u001b[38;5;28;01mif\u001b[39;00m response:\n\u001b[1;32m--> 347\u001b[0m     \u001b[38;5;28mself\u001b[39m\u001b[38;5;241m.\u001b[39merror_handler\u001b[38;5;241m.\u001b[39mcheck_response(response)\n\u001b[0;32m    348\u001b[0m     response[\u001b[38;5;124m\"\u001b[39m\u001b[38;5;124mvalue\u001b[39m\u001b[38;5;124m\"\u001b[39m] \u001b[38;5;241m=\u001b[39m \u001b[38;5;28mself\u001b[39m\u001b[38;5;241m.\u001b[39m_unwrap_value(response\u001b[38;5;241m.\u001b[39mget(\u001b[38;5;124m\"\u001b[39m\u001b[38;5;124mvalue\u001b[39m\u001b[38;5;124m\"\u001b[39m, \u001b[38;5;28;01mNone\u001b[39;00m))\n\u001b[0;32m    349\u001b[0m     \u001b[38;5;28;01mreturn\u001b[39;00m response\n",
      "File \u001b[1;32m~\\anaconda3\\Lib\\site-packages\\selenium\\webdriver\\remote\\errorhandler.py:229\u001b[0m, in \u001b[0;36mErrorHandler.check_response\u001b[1;34m(self, response)\u001b[0m\n\u001b[0;32m    227\u001b[0m         alert_text \u001b[38;5;241m=\u001b[39m value[\u001b[38;5;124m\"\u001b[39m\u001b[38;5;124malert\u001b[39m\u001b[38;5;124m\"\u001b[39m]\u001b[38;5;241m.\u001b[39mget(\u001b[38;5;124m\"\u001b[39m\u001b[38;5;124mtext\u001b[39m\u001b[38;5;124m\"\u001b[39m)\n\u001b[0;32m    228\u001b[0m     \u001b[38;5;28;01mraise\u001b[39;00m exception_class(message, screen, stacktrace, alert_text)  \u001b[38;5;66;03m# type: ignore[call-arg]  # mypy is not smart enough here\u001b[39;00m\n\u001b[1;32m--> 229\u001b[0m \u001b[38;5;28;01mraise\u001b[39;00m exception_class(message, screen, stacktrace)\n",
      "\u001b[1;31mElementNotInteractableException\u001b[0m: Message: element not interactable\n  (Session info: chrome=121.0.6167.185)\nStacktrace:\n\tGetHandleVerifier [0x00007FF600F87012+3522402]\n\t(No symbol) [0x00007FF600BA8352]\n\t(No symbol) [0x00007FF600A5596D]\n\t(No symbol) [0x00007FF600A9D3C6]\n\t(No symbol) [0x00007FF600A91910]\n\t(No symbol) [0x00007FF600ABF05A]\n\t(No symbol) [0x00007FF600A9120A]\n\t(No symbol) [0x00007FF600ABF270]\n\t(No symbol) [0x00007FF600ADBDA3]\n\t(No symbol) [0x00007FF600ABEE03]\n\t(No symbol) [0x00007FF600A8F4D4]\n\t(No symbol) [0x00007FF600A905F1]\n\tGetHandleVerifier [0x00007FF600FB9B9D+3730157]\n\tGetHandleVerifier [0x00007FF60100F02D+4079485]\n\tGetHandleVerifier [0x00007FF6010075D3+4048163]\n\tGetHandleVerifier [0x00007FF600CDA649+718233]\n\t(No symbol) [0x00007FF600BB4A3F]\n\t(No symbol) [0x00007FF600BAFA94]\n\t(No symbol) [0x00007FF600BAFBC2]\n\t(No symbol) [0x00007FF600B9F2E4]\n\tBaseThreadInitThunk [0x00007FFDEB1D7344+20]\n\tRtlUserThreadStart [0x00007FFDEBD626B1+33]\n"
     ]
    }
   ],
   "source": [
    "# 더보기 클릭\n",
    "btn_more = driver.find_element(By.CLASS_NAME,'c_05')\n",
    "btn_more.click()"
   ]
  },
  {
   "cell_type": "code",
   "execution_count": 121,
   "id": "4fccb70d",
   "metadata": {},
   "outputs": [
    {
     "ename": "AttributeError",
     "evalue": "'list' object has no attribute 'click'",
     "output_type": "error",
     "traceback": [
      "\u001b[1;31m---------------------------------------------------------------------------\u001b[0m",
      "\u001b[1;31mAttributeError\u001b[0m                            Traceback (most recent call last)",
      "Cell \u001b[1;32mIn[121], line 4\u001b[0m\n\u001b[0;32m      2\u001b[0m \u001b[38;5;28;01mfor\u001b[39;00m i \u001b[38;5;129;01min\u001b[39;00m \u001b[38;5;28mrange\u001b[39m(\u001b[38;5;241m30\u001b[39m): \u001b[38;5;66;03m#임의로 30번 클릭하기\u001b[39;00m\n\u001b[0;32m      3\u001b[0m     btn_more \u001b[38;5;241m=\u001b[39m driver\u001b[38;5;241m.\u001b[39mfind_elements(By\u001b[38;5;241m.\u001b[39mCLASS_NAME,\u001b[38;5;124m'\u001b[39m\u001b[38;5;124mc_05\u001b[39m\u001b[38;5;124m'\u001b[39m)\n\u001b[1;32m----> 4\u001b[0m     btn_more\u001b[38;5;241m.\u001b[39mclick()\n",
      "\u001b[1;31mAttributeError\u001b[0m: 'list' object has no attribute 'click'"
     ]
    }
   ],
   "source": [
    "## 임의로 횟수 지정하여 더보기 버튼 지정 횟수만큼 반복하여 클릭하기\n",
    "for i in range(30): #임의로 30번 클릭하기\n",
    "    btn_more = driver.find_elements(By.CLASS_NAME,'c_05')\n",
    "    btn_more.click()"
   ]
  },
  {
   "cell_type": "markdown",
   "id": "f1e4f7a7",
   "metadata": {},
   "source": [
    "### 2.5. 예외처리"
   ]
  },
  {
   "cell_type": "code",
   "execution_count": 124,
   "id": "a0b7d11a",
   "metadata": {},
   "outputs": [
    {
     "name": "stdout",
     "output_type": "stream",
     "text": [
      "클릭을 완료했습니다~!~!~!\n"
     ]
    }
   ],
   "source": [
    "try:\n",
    "    for i in range(30): #임의로 30번 클릭하기\n",
    "        btn_more = driver.find_elements(By.CLASS_NAME,'c_05')\n",
    "        btn_more.click()\n",
    "except:\n",
    "    print(\"클릭을 완료했습니다~!~!~!\")"
   ]
  },
  {
   "cell_type": "markdown",
   "id": "1f8affeb",
   "metadata": {},
   "source": [
    "### 2.6. 코드 중간중간 쉬는시간 주는 라이브러리 time"
   ]
  },
  {
   "cell_type": "code",
   "execution_count": 126,
   "id": "77221f6b",
   "metadata": {},
   "outputs": [],
   "source": [
    "import time\n",
    "# 주로 페이지가 새로고침 된 다음에 사용한다\n",
    "# 페이지가 로딩되는 시간을 부여"
   ]
  },
  {
   "cell_type": "code",
   "execution_count": 128,
   "id": "41887c7b",
   "metadata": {},
   "outputs": [
    {
     "name": "stdout",
     "output_type": "stream",
     "text": [
      "클릭을 완료했습니다~!~!~!\n"
     ]
    }
   ],
   "source": [
    "try:\n",
    "    for i in range(30): #임의로 30번 클릭하기\n",
    "        btn_more = driver.find_elements(By.CLASS_NAME,'c_05')\n",
    "        btn_more.click()\n",
    "        time.sleep(1) # 1초\n",
    "except:\n",
    "    print(\"클릭을 완료했습니다~!~!~!\")"
   ]
  },
  {
   "cell_type": "markdown",
   "id": "490c901a",
   "metadata": {},
   "source": [
    "### 2.7. 코드 하나의 셀에 합쳐주기"
   ]
  },
  {
   "cell_type": "code",
   "execution_count": 133,
   "id": "4ca6bef3",
   "metadata": {},
   "outputs": [
    {
     "name": "stdout",
     "output_type": "stream",
     "text": [
      "클릭을 완료하였습니다!\n"
     ]
    }
   ],
   "source": [
    "# 라이브러리 불러오기\n",
    "from selenium import webdriver as wb #통제, 제어\n",
    "from selenium.webdriver.common.keys import Keys # 입력, 컴퓨터용 키보드\n",
    "from selenium.webdriver.common.by import By #구분\n",
    "import pandas as pd\n",
    "\n",
    "#크롬브라우저 실행\n",
    "driver = wb.Chrome()\n",
    "\n",
    "# 페이지 이동(한솥도시락 페이지)\n",
    "driver.get('https://www.hsd.co.kr/menu/menu_list')\n",
    "\n",
    "#더보기 버튼 누르기\n",
    "try:\n",
    "    for i in range(30):\n",
    "        btn_more = driver.find_element(By.CLASS_NAME,'c_05')\n",
    "        btn_more.click()\n",
    "        time.sleep(1) #1초\n",
    "except:\n",
    "    print('클릭을 완료하였습니다!')\n",
    "\n",
    "# 한솥도시락 페이지의 메뉴 수집하기\n",
    "menu = driver.find_elements(By.CLASS_NAME, 'h.fz_03')\n",
    "\n",
    "#가격 데이터 수집\n",
    "price = driver.find_elements(By.CLASS_NAME,'item-price')"
   ]
  },
  {
   "cell_type": "markdown",
   "id": "cc163ed1",
   "metadata": {},
   "source": [
    "# 3. 추가실습 "
   ]
  },
  {
   "cell_type": "code",
   "execution_count": 135,
   "id": "809e2107",
   "metadata": {},
   "outputs": [],
   "source": [
    "# 네이버 메인 페이지에서 > 키워드 검색 > 뉴스 검색 > 뉴스 제목 수집"
   ]
  },
  {
   "cell_type": "code",
   "execution_count": 1,
   "id": "799df9fd",
   "metadata": {},
   "outputs": [
    {
     "ename": "InvalidArgumentException",
     "evalue": "Message: invalid argument: invalid locator\n  (Session info: chrome=121.0.6167.185)\nStacktrace:\n\tGetHandleVerifier [0x00007FF675D27012+3522402]\n\t(No symbol) [0x00007FF675948352]\n\t(No symbol) [0x00007FF6757F5ABB]\n\t(No symbol) [0x00007FF67583BDDC]\n\t(No symbol) [0x00007FF67583C08C]\n\t(No symbol) [0x00007FF67587E467]\n\t(No symbol) [0x00007FF67585F09F]\n\t(No symbol) [0x00007FF67587BDA3]\n\t(No symbol) [0x00007FF67585EE03]\n\t(No symbol) [0x00007FF67582F4D4]\n\t(No symbol) [0x00007FF6758305F1]\n\tGetHandleVerifier [0x00007FF675D59B9D+3730157]\n\tGetHandleVerifier [0x00007FF675DAF02D+4079485]\n\tGetHandleVerifier [0x00007FF675DA75D3+4048163]\n\tGetHandleVerifier [0x00007FF675A7A649+718233]\n\t(No symbol) [0x00007FF675954A3F]\n\t(No symbol) [0x00007FF67594FA94]\n\t(No symbol) [0x00007FF67594FBC2]\n\t(No symbol) [0x00007FF67593F2E4]\n\tBaseThreadInitThunk [0x00007FFDEB1D7344+20]\n\tRtlUserThreadStart [0x00007FFDEBD626B1+33]\n",
     "output_type": "error",
     "traceback": [
      "\u001b[1;31m---------------------------------------------------------------------------\u001b[0m",
      "\u001b[1;31mInvalidArgumentException\u001b[0m                  Traceback (most recent call last)",
      "Cell \u001b[1;32mIn[1], line 14\u001b[0m\n\u001b[0;32m     11\u001b[0m search\u001b[38;5;241m.\u001b[39msend_keys(\u001b[38;5;124m'\u001b[39m\u001b[38;5;124m푸바오\u001b[39m\u001b[38;5;124m'\u001b[39m)\n\u001b[0;32m     12\u001b[0m search\u001b[38;5;241m.\u001b[39msend_keys(Keys\u001b[38;5;241m.\u001b[39mENTER)\n\u001b[1;32m---> 14\u001b[0m driver\u001b[38;5;241m.\u001b[39mfind_elements(\u001b[38;5;124m'\u001b[39m\u001b[38;5;124mdicapi_flicking_wrap._conveyer_root\u001b[39m\u001b[38;5;124m'\u001b[39m)\n",
      "File \u001b[1;32m~\\anaconda3\\Lib\\site-packages\\selenium\\webdriver\\remote\\webdriver.py:771\u001b[0m, in \u001b[0;36mWebDriver.find_elements\u001b[1;34m(self, by, value)\u001b[0m\n\u001b[0;32m    767\u001b[0m     value \u001b[38;5;241m=\u001b[39m \u001b[38;5;124mf\u001b[39m\u001b[38;5;124m'\u001b[39m\u001b[38;5;124m[name=\u001b[39m\u001b[38;5;124m\"\u001b[39m\u001b[38;5;132;01m{\u001b[39;00mvalue\u001b[38;5;132;01m}\u001b[39;00m\u001b[38;5;124m\"\u001b[39m\u001b[38;5;124m]\u001b[39m\u001b[38;5;124m'\u001b[39m\n\u001b[0;32m    769\u001b[0m \u001b[38;5;66;03m# Return empty list if driver returns null\u001b[39;00m\n\u001b[0;32m    770\u001b[0m \u001b[38;5;66;03m# See https://github.com/SeleniumHQ/selenium/issues/4555\u001b[39;00m\n\u001b[1;32m--> 771\u001b[0m \u001b[38;5;28;01mreturn\u001b[39;00m \u001b[38;5;28mself\u001b[39m\u001b[38;5;241m.\u001b[39mexecute(Command\u001b[38;5;241m.\u001b[39mFIND_ELEMENTS, {\u001b[38;5;124m\"\u001b[39m\u001b[38;5;124musing\u001b[39m\u001b[38;5;124m\"\u001b[39m: by, \u001b[38;5;124m\"\u001b[39m\u001b[38;5;124mvalue\u001b[39m\u001b[38;5;124m\"\u001b[39m: value})[\u001b[38;5;124m\"\u001b[39m\u001b[38;5;124mvalue\u001b[39m\u001b[38;5;124m\"\u001b[39m] \u001b[38;5;129;01mor\u001b[39;00m []\n",
      "File \u001b[1;32m~\\anaconda3\\Lib\\site-packages\\selenium\\webdriver\\remote\\webdriver.py:347\u001b[0m, in \u001b[0;36mWebDriver.execute\u001b[1;34m(self, driver_command, params)\u001b[0m\n\u001b[0;32m    345\u001b[0m response \u001b[38;5;241m=\u001b[39m \u001b[38;5;28mself\u001b[39m\u001b[38;5;241m.\u001b[39mcommand_executor\u001b[38;5;241m.\u001b[39mexecute(driver_command, params)\n\u001b[0;32m    346\u001b[0m \u001b[38;5;28;01mif\u001b[39;00m response:\n\u001b[1;32m--> 347\u001b[0m     \u001b[38;5;28mself\u001b[39m\u001b[38;5;241m.\u001b[39merror_handler\u001b[38;5;241m.\u001b[39mcheck_response(response)\n\u001b[0;32m    348\u001b[0m     response[\u001b[38;5;124m\"\u001b[39m\u001b[38;5;124mvalue\u001b[39m\u001b[38;5;124m\"\u001b[39m] \u001b[38;5;241m=\u001b[39m \u001b[38;5;28mself\u001b[39m\u001b[38;5;241m.\u001b[39m_unwrap_value(response\u001b[38;5;241m.\u001b[39mget(\u001b[38;5;124m\"\u001b[39m\u001b[38;5;124mvalue\u001b[39m\u001b[38;5;124m\"\u001b[39m, \u001b[38;5;28;01mNone\u001b[39;00m))\n\u001b[0;32m    349\u001b[0m     \u001b[38;5;28;01mreturn\u001b[39;00m response\n",
      "File \u001b[1;32m~\\anaconda3\\Lib\\site-packages\\selenium\\webdriver\\remote\\errorhandler.py:229\u001b[0m, in \u001b[0;36mErrorHandler.check_response\u001b[1;34m(self, response)\u001b[0m\n\u001b[0;32m    227\u001b[0m         alert_text \u001b[38;5;241m=\u001b[39m value[\u001b[38;5;124m\"\u001b[39m\u001b[38;5;124malert\u001b[39m\u001b[38;5;124m\"\u001b[39m]\u001b[38;5;241m.\u001b[39mget(\u001b[38;5;124m\"\u001b[39m\u001b[38;5;124mtext\u001b[39m\u001b[38;5;124m\"\u001b[39m)\n\u001b[0;32m    228\u001b[0m     \u001b[38;5;28;01mraise\u001b[39;00m exception_class(message, screen, stacktrace, alert_text)  \u001b[38;5;66;03m# type: ignore[call-arg]  # mypy is not smart enough here\u001b[39;00m\n\u001b[1;32m--> 229\u001b[0m \u001b[38;5;28;01mraise\u001b[39;00m exception_class(message, screen, stacktrace)\n",
      "\u001b[1;31mInvalidArgumentException\u001b[0m: Message: invalid argument: invalid locator\n  (Session info: chrome=121.0.6167.185)\nStacktrace:\n\tGetHandleVerifier [0x00007FF675D27012+3522402]\n\t(No symbol) [0x00007FF675948352]\n\t(No symbol) [0x00007FF6757F5ABB]\n\t(No symbol) [0x00007FF67583BDDC]\n\t(No symbol) [0x00007FF67583C08C]\n\t(No symbol) [0x00007FF67587E467]\n\t(No symbol) [0x00007FF67585F09F]\n\t(No symbol) [0x00007FF67587BDA3]\n\t(No symbol) [0x00007FF67585EE03]\n\t(No symbol) [0x00007FF67582F4D4]\n\t(No symbol) [0x00007FF6758305F1]\n\tGetHandleVerifier [0x00007FF675D59B9D+3730157]\n\tGetHandleVerifier [0x00007FF675DAF02D+4079485]\n\tGetHandleVerifier [0x00007FF675DA75D3+4048163]\n\tGetHandleVerifier [0x00007FF675A7A649+718233]\n\t(No symbol) [0x00007FF675954A3F]\n\t(No symbol) [0x00007FF67594FA94]\n\t(No symbol) [0x00007FF67594FBC2]\n\t(No symbol) [0x00007FF67593F2E4]\n\tBaseThreadInitThunk [0x00007FFDEB1D7344+20]\n\tRtlUserThreadStart [0x00007FFDEBD626B1+33]\n"
     ]
    }
   ],
   "source": [
    "from selenium import webdriver as wb\n",
    "from selenium.webdriver.common.keys import Keys\n",
    "from selenium.webdriver.common.by import By\n",
    "\n",
    "driver = wb.Chrome()\n",
    "#네이버 접속\n",
    "driver.get('https://www.naver.com/')\n",
    "\n",
    "#검색어 임력\n",
    "search = driver.find_element(By.ID,'query')\n",
    "search.send_keys('푸바오')\n",
    "search.send_keys(Keys.ENTER)\n",
    "\n",
    "driver.find_elements('dicapi_flicking_wrap._conveyer_root')"
   ]
  },
  {
   "cell_type": "code",
   "execution_count": null,
   "id": "06766f5b",
   "metadata": {},
   "outputs": [],
   "source": []
  }
 ],
 "metadata": {
  "kernelspec": {
   "display_name": "Python 3 (ipykernel)",
   "language": "python",
   "name": "python3"
  },
  "language_info": {
   "codemirror_mode": {
    "name": "ipython",
    "version": 3
   },
   "file_extension": ".py",
   "mimetype": "text/x-python",
   "name": "python",
   "nbconvert_exporter": "python",
   "pygments_lexer": "ipython3",
   "version": "3.11.5"
  }
 },
 "nbformat": 4,
 "nbformat_minor": 5
}
