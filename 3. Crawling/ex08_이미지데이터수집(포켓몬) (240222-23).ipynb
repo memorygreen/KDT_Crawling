{
 "cells": [
  {
   "cell_type": "markdown",
   "id": "604f7201",
   "metadata": {},
   "source": [
    "### 이미지데이터 수집 후 저장\n",
    "- 이미지를 수집한 후 저장하는 실습\n",
    "- 폴더생성하는 작업 또한 자동화\n"
   ]
  },
  {
   "cell_type": "code",
   "execution_count": 20,
   "id": "833fc9ac",
   "metadata": {},
   "outputs": [],
   "source": [
    "# 라이브러리 불러오기\n",
    "from selenium import webdriver as wb #통제, 제어\n",
    "from selenium.webdriver.common.keys import Keys # 입력, 컴퓨터용 키보드\n",
    "from selenium.webdriver.common.by import By # 구분\n",
    "import pandas as pd\n",
    "import time # 쉬는시간\n",
    "from tqdm import tqdm # 반복상황 로딩바로 출력\n",
    "\n",
    "# 이미지 저장을 위한 라이브러리 \n",
    "# 수집 (src 정보를 수집 > 컴퓨터에 이미지로 저장해주는 라이브러리)\n",
    "from urllib.request import urlretrieve\n",
    "\n",
    "# 파일이나 폴더를 생성해주는 라이브러리 (파일시스템 라이브러리)\n",
    "import os \n",
    "# Operating System\n"
   ]
  },
  {
   "cell_type": "markdown",
   "id": "2e3c0ead",
   "metadata": {},
   "source": [
    "- 폴더 생성하기(자동화)"
   ]
  },
  {
   "cell_type": "code",
   "execution_count": 3,
   "id": "55ea4cf3",
   "metadata": {
    "scrolled": true
   },
   "outputs": [
    {
     "ename": "FileExistsError",
     "evalue": "[WinError 183] 파일이 이미 있으므로 만들 수 없습니다: 'C:\\\\Users\\\\smhrd\\\\Desktop\\\\포켓몬도감'",
     "output_type": "error",
     "traceback": [
      "\u001b[1;31m---------------------------------------------------------------------------\u001b[0m",
      "\u001b[1;31mFileExistsError\u001b[0m                           Traceback (most recent call last)",
      "Cell \u001b[1;32mIn[3], line 3\u001b[0m\n\u001b[0;32m      1\u001b[0m \u001b[38;5;66;03m# 폴더 생성하기 \u001b[39;00m\n\u001b[0;32m      2\u001b[0m \u001b[38;5;66;03m# os.mkdir(\"경로/폴더이름\")\u001b[39;00m\n\u001b[1;32m----> 3\u001b[0m os\u001b[38;5;241m.\u001b[39mmkdir(\u001b[38;5;124m\"\u001b[39m\u001b[38;5;124mC:\u001b[39m\u001b[38;5;130;01m\\\\\u001b[39;00m\u001b[38;5;124mUsers\u001b[39m\u001b[38;5;130;01m\\\\\u001b[39;00m\u001b[38;5;124msmhrd\u001b[39m\u001b[38;5;130;01m\\\\\u001b[39;00m\u001b[38;5;124mDesktop\u001b[39m\u001b[38;5;130;01m\\\\\u001b[39;00m\u001b[38;5;124m포켓몬도감\u001b[39m\u001b[38;5;124m\"\u001b[39m)\n",
      "\u001b[1;31mFileExistsError\u001b[0m: [WinError 183] 파일이 이미 있으므로 만들 수 없습니다: 'C:\\\\Users\\\\smhrd\\\\Desktop\\\\포켓몬도감'"
     ]
    }
   ],
   "source": [
    "# 폴더 생성하기 \n",
    "# os.mkdir(\"경로/폴더이름\")\n",
    "os.mkdir(\"C:\\\\Users\\\\smhrd\\\\Desktop\\\\포켓몬도감\") # 자: \\\\ 쓰는 이유? \\가 이스케이프 코드가 아님을 나타내기 위해!\n",
    "\n",
    "# 이미 존재하는 폴더이름일 경우에는 오류가 발생\n",
    "# 조건을 주어 오류를 발생하지 않도록 실행"
   ]
  },
  {
   "cell_type": "code",
   "execution_count": 4,
   "id": "e7705403",
   "metadata": {},
   "outputs": [
    {
     "name": "stdout",
     "output_type": "stream",
     "text": [
      "이미 존재하는 폴더입니다~\n"
     ]
    }
   ],
   "source": [
    "# 만약에 폴더명이 없다면 생성해주고\n",
    "\n",
    "if not os.path.isdir(\"C:\\\\Users\\\\smhrd\\\\Desktop\\\\포켓몬도감\"): #자:os의 현 위치에 폴더가 존재하니?\n",
    "    print(\"폴더생성\")\n",
    "    # 폴더를 생성하는 코드를 작성\n",
    "    os.mkdir(\"C:\\\\Users\\\\smhrd\\\\Desktop\\\\포켓몬도감\") \n",
    "# 그렇지 않으면(폴더명이 있음) 이미 존재하는 폴더입니다 라고 출력    \n",
    "else:\n",
    "    print(\"이미 존재하는 폴더입니다~\")\n"
   ]
  },
  {
   "cell_type": "code",
   "execution_count": 5,
   "id": "03aa2a95",
   "metadata": {},
   "outputs": [],
   "source": [
    "# 포켓몬 페이지 불러오기\n",
    "driver = wb.Chrome()\n",
    "driver.get('https://www.pokemonkorea.co.kr/pokedex#pokedex_1')"
   ]
  },
  {
   "cell_type": "code",
   "execution_count": 6,
   "id": "6772bd5b",
   "metadata": {},
   "outputs": [
    {
     "data": {
      "text/plain": [
       "<selenium.webdriver.remote.webelement.WebElement (session=\"e6b4fffe7c011ec550fb39a7e55ec854\", element=\"F47EA0A35694F44C1241D989F8675A94_element_10\")>"
      ]
     },
     "execution_count": 6,
     "metadata": {},
     "output_type": "execute_result"
    }
   ],
   "source": [
    "## 자영 풀이\n",
    "\n",
    "# 스스로\n",
    "# 이미지데이터 수집\n",
    "# 모든 이미지데이터 수집 img 변수에 담기\n",
    "\n",
    "# driver.find_elements(By., 'img-fluid')[0]\n",
    "driver.find_elements(By.CLASS_NAME, 'img-fluid')[0]"
   ]
  },
  {
   "cell_type": "markdown",
   "id": "b49c06e6",
   "metadata": {},
   "source": [
    "- 240223(금)"
   ]
  },
  {
   "cell_type": "code",
   "execution_count": 42,
   "id": "3f4e57e0",
   "metadata": {},
   "outputs": [
    {
     "data": {
      "text/plain": [
       "[<selenium.webdriver.remote.webelement.WebElement (session=\"e6b4fffe7c011ec550fb39a7e55ec854\", element=\"F47EA0A35694F44C1241D989F8675A94_element_10\")>,\n",
       " <selenium.webdriver.remote.webelement.WebElement (session=\"e6b4fffe7c011ec550fb39a7e55ec854\", element=\"F47EA0A35694F44C1241D989F8675A94_element_11\")>,\n",
       " <selenium.webdriver.remote.webelement.WebElement (session=\"e6b4fffe7c011ec550fb39a7e55ec854\", element=\"F47EA0A35694F44C1241D989F8675A94_element_606\")>,\n",
       " <selenium.webdriver.remote.webelement.WebElement (session=\"e6b4fffe7c011ec550fb39a7e55ec854\", element=\"F47EA0A35694F44C1241D989F8675A94_element_607\")>,\n",
       " <selenium.webdriver.remote.webelement.WebElement (session=\"e6b4fffe7c011ec550fb39a7e55ec854\", element=\"F47EA0A35694F44C1241D989F8675A94_element_652\")>,\n",
       " <selenium.webdriver.remote.webelement.WebElement (session=\"e6b4fffe7c011ec550fb39a7e55ec854\", element=\"F47EA0A35694F44C1241D989F8675A94_element_653\")>,\n",
       " <selenium.webdriver.remote.webelement.WebElement (session=\"e6b4fffe7c011ec550fb39a7e55ec854\", element=\"F47EA0A35694F44C1241D989F8675A94_element_654\")>,\n",
       " <selenium.webdriver.remote.webelement.WebElement (session=\"e6b4fffe7c011ec550fb39a7e55ec854\", element=\"F47EA0A35694F44C1241D989F8675A94_element_655\")>,\n",
       " <selenium.webdriver.remote.webelement.WebElement (session=\"e6b4fffe7c011ec550fb39a7e55ec854\", element=\"F47EA0A35694F44C1241D989F8675A94_element_656\")>,\n",
       " <selenium.webdriver.remote.webelement.WebElement (session=\"e6b4fffe7c011ec550fb39a7e55ec854\", element=\"F47EA0A35694F44C1241D989F8675A94_element_657\")>,\n",
       " <selenium.webdriver.remote.webelement.WebElement (session=\"e6b4fffe7c011ec550fb39a7e55ec854\", element=\"F47EA0A35694F44C1241D989F8675A94_element_658\")>,\n",
       " <selenium.webdriver.remote.webelement.WebElement (session=\"e6b4fffe7c011ec550fb39a7e55ec854\", element=\"F47EA0A35694F44C1241D989F8675A94_element_659\")>,\n",
       " <selenium.webdriver.remote.webelement.WebElement (session=\"e6b4fffe7c011ec550fb39a7e55ec854\", element=\"F47EA0A35694F44C1241D989F8675A94_element_660\")>,\n",
       " <selenium.webdriver.remote.webelement.WebElement (session=\"e6b4fffe7c011ec550fb39a7e55ec854\", element=\"F47EA0A35694F44C1241D989F8675A94_element_661\")>,\n",
       " <selenium.webdriver.remote.webelement.WebElement (session=\"e6b4fffe7c011ec550fb39a7e55ec854\", element=\"F47EA0A35694F44C1241D989F8675A94_element_662\")>,\n",
       " <selenium.webdriver.remote.webelement.WebElement (session=\"e6b4fffe7c011ec550fb39a7e55ec854\", element=\"F47EA0A35694F44C1241D989F8675A94_element_663\")>,\n",
       " <selenium.webdriver.remote.webelement.WebElement (session=\"e6b4fffe7c011ec550fb39a7e55ec854\", element=\"F47EA0A35694F44C1241D989F8675A94_element_664\")>,\n",
       " <selenium.webdriver.remote.webelement.WebElement (session=\"e6b4fffe7c011ec550fb39a7e55ec854\", element=\"F47EA0A35694F44C1241D989F8675A94_element_665\")>,\n",
       " <selenium.webdriver.remote.webelement.WebElement (session=\"e6b4fffe7c011ec550fb39a7e55ec854\", element=\"F47EA0A35694F44C1241D989F8675A94_element_2082\")>,\n",
       " <selenium.webdriver.remote.webelement.WebElement (session=\"e6b4fffe7c011ec550fb39a7e55ec854\", element=\"F47EA0A35694F44C1241D989F8675A94_element_2093\")>,\n",
       " <selenium.webdriver.remote.webelement.WebElement (session=\"e6b4fffe7c011ec550fb39a7e55ec854\", element=\"F47EA0A35694F44C1241D989F8675A94_element_2104\")>,\n",
       " <selenium.webdriver.remote.webelement.WebElement (session=\"e6b4fffe7c011ec550fb39a7e55ec854\", element=\"F47EA0A35694F44C1241D989F8675A94_element_2115\")>,\n",
       " <selenium.webdriver.remote.webelement.WebElement (session=\"e6b4fffe7c011ec550fb39a7e55ec854\", element=\"F47EA0A35694F44C1241D989F8675A94_element_2126\")>,\n",
       " <selenium.webdriver.remote.webelement.WebElement (session=\"e6b4fffe7c011ec550fb39a7e55ec854\", element=\"F47EA0A35694F44C1241D989F8675A94_element_2137\")>,\n",
       " <selenium.webdriver.remote.webelement.WebElement (session=\"e6b4fffe7c011ec550fb39a7e55ec854\", element=\"F47EA0A35694F44C1241D989F8675A94_element_2148\")>,\n",
       " <selenium.webdriver.remote.webelement.WebElement (session=\"e6b4fffe7c011ec550fb39a7e55ec854\", element=\"F47EA0A35694F44C1241D989F8675A94_element_2159\")>,\n",
       " <selenium.webdriver.remote.webelement.WebElement (session=\"e6b4fffe7c011ec550fb39a7e55ec854\", element=\"F47EA0A35694F44C1241D989F8675A94_element_2170\")>,\n",
       " <selenium.webdriver.remote.webelement.WebElement (session=\"e6b4fffe7c011ec550fb39a7e55ec854\", element=\"F47EA0A35694F44C1241D989F8675A94_element_2181\")>,\n",
       " <selenium.webdriver.remote.webelement.WebElement (session=\"e6b4fffe7c011ec550fb39a7e55ec854\", element=\"F47EA0A35694F44C1241D989F8675A94_element_2192\")>,\n",
       " <selenium.webdriver.remote.webelement.WebElement (session=\"e6b4fffe7c011ec550fb39a7e55ec854\", element=\"F47EA0A35694F44C1241D989F8675A94_element_2202\")>,\n",
       " <selenium.webdriver.remote.webelement.WebElement (session=\"e6b4fffe7c011ec550fb39a7e55ec854\", element=\"F47EA0A35694F44C1241D989F8675A94_element_2213\")>,\n",
       " <selenium.webdriver.remote.webelement.WebElement (session=\"e6b4fffe7c011ec550fb39a7e55ec854\", element=\"F47EA0A35694F44C1241D989F8675A94_element_2223\")>,\n",
       " <selenium.webdriver.remote.webelement.WebElement (session=\"e6b4fffe7c011ec550fb39a7e55ec854\", element=\"F47EA0A35694F44C1241D989F8675A94_element_2234\")>,\n",
       " <selenium.webdriver.remote.webelement.WebElement (session=\"e6b4fffe7c011ec550fb39a7e55ec854\", element=\"F47EA0A35694F44C1241D989F8675A94_element_2245\")>,\n",
       " <selenium.webdriver.remote.webelement.WebElement (session=\"e6b4fffe7c011ec550fb39a7e55ec854\", element=\"F47EA0A35694F44C1241D989F8675A94_element_2256\")>,\n",
       " <selenium.webdriver.remote.webelement.WebElement (session=\"e6b4fffe7c011ec550fb39a7e55ec854\", element=\"F47EA0A35694F44C1241D989F8675A94_element_2266\")>,\n",
       " <selenium.webdriver.remote.webelement.WebElement (session=\"e6b4fffe7c011ec550fb39a7e55ec854\", element=\"F47EA0A35694F44C1241D989F8675A94_element_3176\")>,\n",
       " <selenium.webdriver.remote.webelement.WebElement (session=\"e6b4fffe7c011ec550fb39a7e55ec854\", element=\"F47EA0A35694F44C1241D989F8675A94_element_3186\")>,\n",
       " <selenium.webdriver.remote.webelement.WebElement (session=\"e6b4fffe7c011ec550fb39a7e55ec854\", element=\"F47EA0A35694F44C1241D989F8675A94_element_3196\")>,\n",
       " <selenium.webdriver.remote.webelement.WebElement (session=\"e6b4fffe7c011ec550fb39a7e55ec854\", element=\"F47EA0A35694F44C1241D989F8675A94_element_3206\")>,\n",
       " <selenium.webdriver.remote.webelement.WebElement (session=\"e6b4fffe7c011ec550fb39a7e55ec854\", element=\"F47EA0A35694F44C1241D989F8675A94_element_3217\")>,\n",
       " <selenium.webdriver.remote.webelement.WebElement (session=\"e6b4fffe7c011ec550fb39a7e55ec854\", element=\"F47EA0A35694F44C1241D989F8675A94_element_3227\")>,\n",
       " <selenium.webdriver.remote.webelement.WebElement (session=\"e6b4fffe7c011ec550fb39a7e55ec854\", element=\"F47EA0A35694F44C1241D989F8675A94_element_3238\")>,\n",
       " <selenium.webdriver.remote.webelement.WebElement (session=\"e6b4fffe7c011ec550fb39a7e55ec854\", element=\"F47EA0A35694F44C1241D989F8675A94_element_3248\")>,\n",
       " <selenium.webdriver.remote.webelement.WebElement (session=\"e6b4fffe7c011ec550fb39a7e55ec854\", element=\"F47EA0A35694F44C1241D989F8675A94_element_3259\")>,\n",
       " <selenium.webdriver.remote.webelement.WebElement (session=\"e6b4fffe7c011ec550fb39a7e55ec854\", element=\"F47EA0A35694F44C1241D989F8675A94_element_3269\")>,\n",
       " <selenium.webdriver.remote.webelement.WebElement (session=\"e6b4fffe7c011ec550fb39a7e55ec854\", element=\"F47EA0A35694F44C1241D989F8675A94_element_3279\")>,\n",
       " <selenium.webdriver.remote.webelement.WebElement (session=\"e6b4fffe7c011ec550fb39a7e55ec854\", element=\"F47EA0A35694F44C1241D989F8675A94_element_3290\")>,\n",
       " <selenium.webdriver.remote.webelement.WebElement (session=\"e6b4fffe7c011ec550fb39a7e55ec854\", element=\"F47EA0A35694F44C1241D989F8675A94_element_3300\")>,\n",
       " <selenium.webdriver.remote.webelement.WebElement (session=\"e6b4fffe7c011ec550fb39a7e55ec854\", element=\"F47EA0A35694F44C1241D989F8675A94_element_3310\")>,\n",
       " <selenium.webdriver.remote.webelement.WebElement (session=\"e6b4fffe7c011ec550fb39a7e55ec854\", element=\"F47EA0A35694F44C1241D989F8675A94_element_3321\")>,\n",
       " <selenium.webdriver.remote.webelement.WebElement (session=\"e6b4fffe7c011ec550fb39a7e55ec854\", element=\"F47EA0A35694F44C1241D989F8675A94_element_3331\")>,\n",
       " <selenium.webdriver.remote.webelement.WebElement (session=\"e6b4fffe7c011ec550fb39a7e55ec854\", element=\"F47EA0A35694F44C1241D989F8675A94_element_3341\")>,\n",
       " <selenium.webdriver.remote.webelement.WebElement (session=\"e6b4fffe7c011ec550fb39a7e55ec854\", element=\"F47EA0A35694F44C1241D989F8675A94_element_3351\")>,\n",
       " <selenium.webdriver.remote.webelement.WebElement (session=\"e6b4fffe7c011ec550fb39a7e55ec854\", element=\"F47EA0A35694F44C1241D989F8675A94_element_4060\")>,\n",
       " <selenium.webdriver.remote.webelement.WebElement (session=\"e6b4fffe7c011ec550fb39a7e55ec854\", element=\"F47EA0A35694F44C1241D989F8675A94_element_4070\")>,\n",
       " <selenium.webdriver.remote.webelement.WebElement (session=\"e6b4fffe7c011ec550fb39a7e55ec854\", element=\"F47EA0A35694F44C1241D989F8675A94_element_4081\")>,\n",
       " <selenium.webdriver.remote.webelement.WebElement (session=\"e6b4fffe7c011ec550fb39a7e55ec854\", element=\"F47EA0A35694F44C1241D989F8675A94_element_4092\")>,\n",
       " <selenium.webdriver.remote.webelement.WebElement (session=\"e6b4fffe7c011ec550fb39a7e55ec854\", element=\"F47EA0A35694F44C1241D989F8675A94_element_4103\")>,\n",
       " <selenium.webdriver.remote.webelement.WebElement (session=\"e6b4fffe7c011ec550fb39a7e55ec854\", element=\"F47EA0A35694F44C1241D989F8675A94_element_4114\")>,\n",
       " <selenium.webdriver.remote.webelement.WebElement (session=\"e6b4fffe7c011ec550fb39a7e55ec854\", element=\"F47EA0A35694F44C1241D989F8675A94_element_4125\")>,\n",
       " <selenium.webdriver.remote.webelement.WebElement (session=\"e6b4fffe7c011ec550fb39a7e55ec854\", element=\"F47EA0A35694F44C1241D989F8675A94_element_4136\")>,\n",
       " <selenium.webdriver.remote.webelement.WebElement (session=\"e6b4fffe7c011ec550fb39a7e55ec854\", element=\"F47EA0A35694F44C1241D989F8675A94_element_4147\")>,\n",
       " <selenium.webdriver.remote.webelement.WebElement (session=\"e6b4fffe7c011ec550fb39a7e55ec854\", element=\"F47EA0A35694F44C1241D989F8675A94_element_4158\")>,\n",
       " <selenium.webdriver.remote.webelement.WebElement (session=\"e6b4fffe7c011ec550fb39a7e55ec854\", element=\"F47EA0A35694F44C1241D989F8675A94_element_4169\")>,\n",
       " <selenium.webdriver.remote.webelement.WebElement (session=\"e6b4fffe7c011ec550fb39a7e55ec854\", element=\"F47EA0A35694F44C1241D989F8675A94_element_4180\")>,\n",
       " <selenium.webdriver.remote.webelement.WebElement (session=\"e6b4fffe7c011ec550fb39a7e55ec854\", element=\"F47EA0A35694F44C1241D989F8675A94_element_4191\")>,\n",
       " <selenium.webdriver.remote.webelement.WebElement (session=\"e6b4fffe7c011ec550fb39a7e55ec854\", element=\"F47EA0A35694F44C1241D989F8675A94_element_4202\")>,\n",
       " <selenium.webdriver.remote.webelement.WebElement (session=\"e6b4fffe7c011ec550fb39a7e55ec854\", element=\"F47EA0A35694F44C1241D989F8675A94_element_4212\")>,\n",
       " <selenium.webdriver.remote.webelement.WebElement (session=\"e6b4fffe7c011ec550fb39a7e55ec854\", element=\"F47EA0A35694F44C1241D989F8675A94_element_4223\")>,\n",
       " <selenium.webdriver.remote.webelement.WebElement (session=\"e6b4fffe7c011ec550fb39a7e55ec854\", element=\"F47EA0A35694F44C1241D989F8675A94_element_4233\")>,\n",
       " <selenium.webdriver.remote.webelement.WebElement (session=\"e6b4fffe7c011ec550fb39a7e55ec854\", element=\"F47EA0A35694F44C1241D989F8675A94_element_4244\")>,\n",
       " <selenium.webdriver.remote.webelement.WebElement (session=\"e6b4fffe7c011ec550fb39a7e55ec854\", element=\"F47EA0A35694F44C1241D989F8675A94_element_4612\")>,\n",
       " <selenium.webdriver.remote.webelement.WebElement (session=\"e6b4fffe7c011ec550fb39a7e55ec854\", element=\"F47EA0A35694F44C1241D989F8675A94_element_4622\")>,\n",
       " <selenium.webdriver.remote.webelement.WebElement (session=\"e6b4fffe7c011ec550fb39a7e55ec854\", element=\"F47EA0A35694F44C1241D989F8675A94_element_4632\")>,\n",
       " <selenium.webdriver.remote.webelement.WebElement (session=\"e6b4fffe7c011ec550fb39a7e55ec854\", element=\"F47EA0A35694F44C1241D989F8675A94_element_4642\")>,\n",
       " <selenium.webdriver.remote.webelement.WebElement (session=\"e6b4fffe7c011ec550fb39a7e55ec854\", element=\"F47EA0A35694F44C1241D989F8675A94_element_4652\")>,\n",
       " <selenium.webdriver.remote.webelement.WebElement (session=\"e6b4fffe7c011ec550fb39a7e55ec854\", element=\"F47EA0A35694F44C1241D989F8675A94_element_4662\")>,\n",
       " <selenium.webdriver.remote.webelement.WebElement (session=\"e6b4fffe7c011ec550fb39a7e55ec854\", element=\"F47EA0A35694F44C1241D989F8675A94_element_4672\")>,\n",
       " <selenium.webdriver.remote.webelement.WebElement (session=\"e6b4fffe7c011ec550fb39a7e55ec854\", element=\"F47EA0A35694F44C1241D989F8675A94_element_4682\")>,\n",
       " <selenium.webdriver.remote.webelement.WebElement (session=\"e6b4fffe7c011ec550fb39a7e55ec854\", element=\"F47EA0A35694F44C1241D989F8675A94_element_4692\")>,\n",
       " <selenium.webdriver.remote.webelement.WebElement (session=\"e6b4fffe7c011ec550fb39a7e55ec854\", element=\"F47EA0A35694F44C1241D989F8675A94_element_4702\")>,\n",
       " <selenium.webdriver.remote.webelement.WebElement (session=\"e6b4fffe7c011ec550fb39a7e55ec854\", element=\"F47EA0A35694F44C1241D989F8675A94_element_4712\")>,\n",
       " <selenium.webdriver.remote.webelement.WebElement (session=\"e6b4fffe7c011ec550fb39a7e55ec854\", element=\"F47EA0A35694F44C1241D989F8675A94_element_4723\")>,\n",
       " <selenium.webdriver.remote.webelement.WebElement (session=\"e6b4fffe7c011ec550fb39a7e55ec854\", element=\"F47EA0A35694F44C1241D989F8675A94_element_4733\")>,\n",
       " <selenium.webdriver.remote.webelement.WebElement (session=\"e6b4fffe7c011ec550fb39a7e55ec854\", element=\"F47EA0A35694F44C1241D989F8675A94_element_4744\")>,\n",
       " <selenium.webdriver.remote.webelement.WebElement (session=\"e6b4fffe7c011ec550fb39a7e55ec854\", element=\"F47EA0A35694F44C1241D989F8675A94_element_4754\")>,\n",
       " <selenium.webdriver.remote.webelement.WebElement (session=\"e6b4fffe7c011ec550fb39a7e55ec854\", element=\"F47EA0A35694F44C1241D989F8675A94_element_4764\")>,\n",
       " <selenium.webdriver.remote.webelement.WebElement (session=\"e6b4fffe7c011ec550fb39a7e55ec854\", element=\"F47EA0A35694F44C1241D989F8675A94_element_4775\")>,\n",
       " <selenium.webdriver.remote.webelement.WebElement (session=\"e6b4fffe7c011ec550fb39a7e55ec854\", element=\"F47EA0A35694F44C1241D989F8675A94_element_4785\")>,\n",
       " <selenium.webdriver.remote.webelement.WebElement (session=\"e6b4fffe7c011ec550fb39a7e55ec854\", element=\"F47EA0A35694F44C1241D989F8675A94_element_5139\")>,\n",
       " <selenium.webdriver.remote.webelement.WebElement (session=\"e6b4fffe7c011ec550fb39a7e55ec854\", element=\"F47EA0A35694F44C1241D989F8675A94_element_5149\")>,\n",
       " <selenium.webdriver.remote.webelement.WebElement (session=\"e6b4fffe7c011ec550fb39a7e55ec854\", element=\"F47EA0A35694F44C1241D989F8675A94_element_5159\")>,\n",
       " <selenium.webdriver.remote.webelement.WebElement (session=\"e6b4fffe7c011ec550fb39a7e55ec854\", element=\"F47EA0A35694F44C1241D989F8675A94_element_5169\")>,\n",
       " <selenium.webdriver.remote.webelement.WebElement (session=\"e6b4fffe7c011ec550fb39a7e55ec854\", element=\"F47EA0A35694F44C1241D989F8675A94_element_5179\")>,\n",
       " <selenium.webdriver.remote.webelement.WebElement (session=\"e6b4fffe7c011ec550fb39a7e55ec854\", element=\"F47EA0A35694F44C1241D989F8675A94_element_5189\")>,\n",
       " <selenium.webdriver.remote.webelement.WebElement (session=\"e6b4fffe7c011ec550fb39a7e55ec854\", element=\"F47EA0A35694F44C1241D989F8675A94_element_5199\")>,\n",
       " <selenium.webdriver.remote.webelement.WebElement (session=\"e6b4fffe7c011ec550fb39a7e55ec854\", element=\"F47EA0A35694F44C1241D989F8675A94_element_5210\")>,\n",
       " <selenium.webdriver.remote.webelement.WebElement (session=\"e6b4fffe7c011ec550fb39a7e55ec854\", element=\"F47EA0A35694F44C1241D989F8675A94_element_5221\")>,\n",
       " <selenium.webdriver.remote.webelement.WebElement (session=\"e6b4fffe7c011ec550fb39a7e55ec854\", element=\"F47EA0A35694F44C1241D989F8675A94_element_5232\")>,\n",
       " <selenium.webdriver.remote.webelement.WebElement (session=\"e6b4fffe7c011ec550fb39a7e55ec854\", element=\"F47EA0A35694F44C1241D989F8675A94_element_5243\")>,\n",
       " <selenium.webdriver.remote.webelement.WebElement (session=\"e6b4fffe7c011ec550fb39a7e55ec854\", element=\"F47EA0A35694F44C1241D989F8675A94_element_5254\")>,\n",
       " <selenium.webdriver.remote.webelement.WebElement (session=\"e6b4fffe7c011ec550fb39a7e55ec854\", element=\"F47EA0A35694F44C1241D989F8675A94_element_5265\")>,\n",
       " <selenium.webdriver.remote.webelement.WebElement (session=\"e6b4fffe7c011ec550fb39a7e55ec854\", element=\"F47EA0A35694F44C1241D989F8675A94_element_5276\")>,\n",
       " <selenium.webdriver.remote.webelement.WebElement (session=\"e6b4fffe7c011ec550fb39a7e55ec854\", element=\"F47EA0A35694F44C1241D989F8675A94_element_5287\")>,\n",
       " <selenium.webdriver.remote.webelement.WebElement (session=\"e6b4fffe7c011ec550fb39a7e55ec854\", element=\"F47EA0A35694F44C1241D989F8675A94_element_5298\")>,\n",
       " <selenium.webdriver.remote.webelement.WebElement (session=\"e6b4fffe7c011ec550fb39a7e55ec854\", element=\"F47EA0A35694F44C1241D989F8675A94_element_5309\")>,\n",
       " <selenium.webdriver.remote.webelement.WebElement (session=\"e6b4fffe7c011ec550fb39a7e55ec854\", element=\"F47EA0A35694F44C1241D989F8675A94_element_5320\")>,\n",
       " <selenium.webdriver.remote.webelement.WebElement (session=\"e6b4fffe7c011ec550fb39a7e55ec854\", element=\"F47EA0A35694F44C1241D989F8675A94_element_5717\")>,\n",
       " <selenium.webdriver.remote.webelement.WebElement (session=\"e6b4fffe7c011ec550fb39a7e55ec854\", element=\"F47EA0A35694F44C1241D989F8675A94_element_5727\")>,\n",
       " <selenium.webdriver.remote.webelement.WebElement (session=\"e6b4fffe7c011ec550fb39a7e55ec854\", element=\"F47EA0A35694F44C1241D989F8675A94_element_5737\")>,\n",
       " <selenium.webdriver.remote.webelement.WebElement (session=\"e6b4fffe7c011ec550fb39a7e55ec854\", element=\"F47EA0A35694F44C1241D989F8675A94_element_5748\")>,\n",
       " <selenium.webdriver.remote.webelement.WebElement (session=\"e6b4fffe7c011ec550fb39a7e55ec854\", element=\"F47EA0A35694F44C1241D989F8675A94_element_5759\")>,\n",
       " <selenium.webdriver.remote.webelement.WebElement (session=\"e6b4fffe7c011ec550fb39a7e55ec854\", element=\"F47EA0A35694F44C1241D989F8675A94_element_5769\")>,\n",
       " <selenium.webdriver.remote.webelement.WebElement (session=\"e6b4fffe7c011ec550fb39a7e55ec854\", element=\"F47EA0A35694F44C1241D989F8675A94_element_5780\")>,\n",
       " <selenium.webdriver.remote.webelement.WebElement (session=\"e6b4fffe7c011ec550fb39a7e55ec854\", element=\"F47EA0A35694F44C1241D989F8675A94_element_5791\")>,\n",
       " <selenium.webdriver.remote.webelement.WebElement (session=\"e6b4fffe7c011ec550fb39a7e55ec854\", element=\"F47EA0A35694F44C1241D989F8675A94_element_5802\")>,\n",
       " <selenium.webdriver.remote.webelement.WebElement (session=\"e6b4fffe7c011ec550fb39a7e55ec854\", element=\"F47EA0A35694F44C1241D989F8675A94_element_5813\")>,\n",
       " <selenium.webdriver.remote.webelement.WebElement (session=\"e6b4fffe7c011ec550fb39a7e55ec854\", element=\"F47EA0A35694F44C1241D989F8675A94_element_5824\")>,\n",
       " <selenium.webdriver.remote.webelement.WebElement (session=\"e6b4fffe7c011ec550fb39a7e55ec854\", element=\"F47EA0A35694F44C1241D989F8675A94_element_5835\")>,\n",
       " <selenium.webdriver.remote.webelement.WebElement (session=\"e6b4fffe7c011ec550fb39a7e55ec854\", element=\"F47EA0A35694F44C1241D989F8675A94_element_5845\")>,\n",
       " <selenium.webdriver.remote.webelement.WebElement (session=\"e6b4fffe7c011ec550fb39a7e55ec854\", element=\"F47EA0A35694F44C1241D989F8675A94_element_5856\")>,\n",
       " <selenium.webdriver.remote.webelement.WebElement (session=\"e6b4fffe7c011ec550fb39a7e55ec854\", element=\"F47EA0A35694F44C1241D989F8675A94_element_5867\")>,\n",
       " <selenium.webdriver.remote.webelement.WebElement (session=\"e6b4fffe7c011ec550fb39a7e55ec854\", element=\"F47EA0A35694F44C1241D989F8675A94_element_5877\")>,\n",
       " <selenium.webdriver.remote.webelement.WebElement (session=\"e6b4fffe7c011ec550fb39a7e55ec854\", element=\"F47EA0A35694F44C1241D989F8675A94_element_5888\")>,\n",
       " <selenium.webdriver.remote.webelement.WebElement (session=\"e6b4fffe7c011ec550fb39a7e55ec854\", element=\"F47EA0A35694F44C1241D989F8675A94_element_5898\")>,\n",
       " <selenium.webdriver.remote.webelement.WebElement (session=\"e6b4fffe7c011ec550fb39a7e55ec854\", element=\"F47EA0A35694F44C1241D989F8675A94_element_6311\")>,\n",
       " <selenium.webdriver.remote.webelement.WebElement (session=\"e6b4fffe7c011ec550fb39a7e55ec854\", element=\"F47EA0A35694F44C1241D989F8675A94_element_6321\")>,\n",
       " <selenium.webdriver.remote.webelement.WebElement (session=\"e6b4fffe7c011ec550fb39a7e55ec854\", element=\"F47EA0A35694F44C1241D989F8675A94_element_6332\")>,\n",
       " <selenium.webdriver.remote.webelement.WebElement (session=\"e6b4fffe7c011ec550fb39a7e55ec854\", element=\"F47EA0A35694F44C1241D989F8675A94_element_6342\")>,\n",
       " <selenium.webdriver.remote.webelement.WebElement (session=\"e6b4fffe7c011ec550fb39a7e55ec854\", element=\"F47EA0A35694F44C1241D989F8675A94_element_6353\")>,\n",
       " <selenium.webdriver.remote.webelement.WebElement (session=\"e6b4fffe7c011ec550fb39a7e55ec854\", element=\"F47EA0A35694F44C1241D989F8675A94_element_6364\")>,\n",
       " <selenium.webdriver.remote.webelement.WebElement (session=\"e6b4fffe7c011ec550fb39a7e55ec854\", element=\"F47EA0A35694F44C1241D989F8675A94_element_6375\")>,\n",
       " <selenium.webdriver.remote.webelement.WebElement (session=\"e6b4fffe7c011ec550fb39a7e55ec854\", element=\"F47EA0A35694F44C1241D989F8675A94_element_6386\")>,\n",
       " <selenium.webdriver.remote.webelement.WebElement (session=\"e6b4fffe7c011ec550fb39a7e55ec854\", element=\"F47EA0A35694F44C1241D989F8675A94_element_6397\")>,\n",
       " <selenium.webdriver.remote.webelement.WebElement (session=\"e6b4fffe7c011ec550fb39a7e55ec854\", element=\"F47EA0A35694F44C1241D989F8675A94_element_6408\")>,\n",
       " <selenium.webdriver.remote.webelement.WebElement (session=\"e6b4fffe7c011ec550fb39a7e55ec854\", element=\"F47EA0A35694F44C1241D989F8675A94_element_6419\")>,\n",
       " <selenium.webdriver.remote.webelement.WebElement (session=\"e6b4fffe7c011ec550fb39a7e55ec854\", element=\"F47EA0A35694F44C1241D989F8675A94_element_6429\")>,\n",
       " <selenium.webdriver.remote.webelement.WebElement (session=\"e6b4fffe7c011ec550fb39a7e55ec854\", element=\"F47EA0A35694F44C1241D989F8675A94_element_6439\")>,\n",
       " <selenium.webdriver.remote.webelement.WebElement (session=\"e6b4fffe7c011ec550fb39a7e55ec854\", element=\"F47EA0A35694F44C1241D989F8675A94_element_6449\")>,\n",
       " <selenium.webdriver.remote.webelement.WebElement (session=\"e6b4fffe7c011ec550fb39a7e55ec854\", element=\"F47EA0A35694F44C1241D989F8675A94_element_6459\")>,\n",
       " <selenium.webdriver.remote.webelement.WebElement (session=\"e6b4fffe7c011ec550fb39a7e55ec854\", element=\"F47EA0A35694F44C1241D989F8675A94_element_6469\")>,\n",
       " <selenium.webdriver.remote.webelement.WebElement (session=\"e6b4fffe7c011ec550fb39a7e55ec854\", element=\"F47EA0A35694F44C1241D989F8675A94_element_6479\")>,\n",
       " <selenium.webdriver.remote.webelement.WebElement (session=\"e6b4fffe7c011ec550fb39a7e55ec854\", element=\"F47EA0A35694F44C1241D989F8675A94_element_6490\")>,\n",
       " <selenium.webdriver.remote.webelement.WebElement (session=\"e6b4fffe7c011ec550fb39a7e55ec854\", element=\"F47EA0A35694F44C1241D989F8675A94_element_6937\")>,\n",
       " <selenium.webdriver.remote.webelement.WebElement (session=\"e6b4fffe7c011ec550fb39a7e55ec854\", element=\"F47EA0A35694F44C1241D989F8675A94_element_6948\")>,\n",
       " <selenium.webdriver.remote.webelement.WebElement (session=\"e6b4fffe7c011ec550fb39a7e55ec854\", element=\"F47EA0A35694F44C1241D989F8675A94_element_6959\")>,\n",
       " <selenium.webdriver.remote.webelement.WebElement (session=\"e6b4fffe7c011ec550fb39a7e55ec854\", element=\"F47EA0A35694F44C1241D989F8675A94_element_6970\")>,\n",
       " <selenium.webdriver.remote.webelement.WebElement (session=\"e6b4fffe7c011ec550fb39a7e55ec854\", element=\"F47EA0A35694F44C1241D989F8675A94_element_6981\")>,\n",
       " <selenium.webdriver.remote.webelement.WebElement (session=\"e6b4fffe7c011ec550fb39a7e55ec854\", element=\"F47EA0A35694F44C1241D989F8675A94_element_6991\")>,\n",
       " <selenium.webdriver.remote.webelement.WebElement (session=\"e6b4fffe7c011ec550fb39a7e55ec854\", element=\"F47EA0A35694F44C1241D989F8675A94_element_7001\")>,\n",
       " <selenium.webdriver.remote.webelement.WebElement (session=\"e6b4fffe7c011ec550fb39a7e55ec854\", element=\"F47EA0A35694F44C1241D989F8675A94_element_7012\")>,\n",
       " <selenium.webdriver.remote.webelement.WebElement (session=\"e6b4fffe7c011ec550fb39a7e55ec854\", element=\"F47EA0A35694F44C1241D989F8675A94_element_7022\")>,\n",
       " <selenium.webdriver.remote.webelement.WebElement (session=\"e6b4fffe7c011ec550fb39a7e55ec854\", element=\"F47EA0A35694F44C1241D989F8675A94_element_7032\")>,\n",
       " <selenium.webdriver.remote.webelement.WebElement (session=\"e6b4fffe7c011ec550fb39a7e55ec854\", element=\"F47EA0A35694F44C1241D989F8675A94_element_7042\")>,\n",
       " <selenium.webdriver.remote.webelement.WebElement (session=\"e6b4fffe7c011ec550fb39a7e55ec854\", element=\"F47EA0A35694F44C1241D989F8675A94_element_7052\")>,\n",
       " <selenium.webdriver.remote.webelement.WebElement (session=\"e6b4fffe7c011ec550fb39a7e55ec854\", element=\"F47EA0A35694F44C1241D989F8675A94_element_7062\")>,\n",
       " <selenium.webdriver.remote.webelement.WebElement (session=\"e6b4fffe7c011ec550fb39a7e55ec854\", element=\"F47EA0A35694F44C1241D989F8675A94_element_7073\")>,\n",
       " <selenium.webdriver.remote.webelement.WebElement (session=\"e6b4fffe7c011ec550fb39a7e55ec854\", element=\"F47EA0A35694F44C1241D989F8675A94_element_7084\")>,\n",
       " <selenium.webdriver.remote.webelement.WebElement (session=\"e6b4fffe7c011ec550fb39a7e55ec854\", element=\"F47EA0A35694F44C1241D989F8675A94_element_7095\")>,\n",
       " <selenium.webdriver.remote.webelement.WebElement (session=\"e6b4fffe7c011ec550fb39a7e55ec854\", element=\"F47EA0A35694F44C1241D989F8675A94_element_7105\")>,\n",
       " <selenium.webdriver.remote.webelement.WebElement (session=\"e6b4fffe7c011ec550fb39a7e55ec854\", element=\"F47EA0A35694F44C1241D989F8675A94_element_7115\")>,\n",
       " <selenium.webdriver.remote.webelement.WebElement (session=\"e6b4fffe7c011ec550fb39a7e55ec854\", element=\"F47EA0A35694F44C1241D989F8675A94_element_7502\")>,\n",
       " <selenium.webdriver.remote.webelement.WebElement (session=\"e6b4fffe7c011ec550fb39a7e55ec854\", element=\"F47EA0A35694F44C1241D989F8675A94_element_7512\")>,\n",
       " <selenium.webdriver.remote.webelement.WebElement (session=\"e6b4fffe7c011ec550fb39a7e55ec854\", element=\"F47EA0A35694F44C1241D989F8675A94_element_7522\")>,\n",
       " <selenium.webdriver.remote.webelement.WebElement (session=\"e6b4fffe7c011ec550fb39a7e55ec854\", element=\"F47EA0A35694F44C1241D989F8675A94_element_7532\")>,\n",
       " <selenium.webdriver.remote.webelement.WebElement (session=\"e6b4fffe7c011ec550fb39a7e55ec854\", element=\"F47EA0A35694F44C1241D989F8675A94_element_7542\")>,\n",
       " <selenium.webdriver.remote.webelement.WebElement (session=\"e6b4fffe7c011ec550fb39a7e55ec854\", element=\"F47EA0A35694F44C1241D989F8675A94_element_7552\")>,\n",
       " <selenium.webdriver.remote.webelement.WebElement (session=\"e6b4fffe7c011ec550fb39a7e55ec854\", element=\"F47EA0A35694F44C1241D989F8675A94_element_7562\")>,\n",
       " <selenium.webdriver.remote.webelement.WebElement (session=\"e6b4fffe7c011ec550fb39a7e55ec854\", element=\"F47EA0A35694F44C1241D989F8675A94_element_7573\")>,\n",
       " <selenium.webdriver.remote.webelement.WebElement (session=\"e6b4fffe7c011ec550fb39a7e55ec854\", element=\"F47EA0A35694F44C1241D989F8675A94_element_7584\")>,\n",
       " <selenium.webdriver.remote.webelement.WebElement (session=\"e6b4fffe7c011ec550fb39a7e55ec854\", element=\"F47EA0A35694F44C1241D989F8675A94_element_7595\")>,\n",
       " <selenium.webdriver.remote.webelement.WebElement (session=\"e6b4fffe7c011ec550fb39a7e55ec854\", element=\"F47EA0A35694F44C1241D989F8675A94_element_7606\")>,\n",
       " <selenium.webdriver.remote.webelement.WebElement (session=\"e6b4fffe7c011ec550fb39a7e55ec854\", element=\"F47EA0A35694F44C1241D989F8675A94_element_7617\")>,\n",
       " <selenium.webdriver.remote.webelement.WebElement (session=\"e6b4fffe7c011ec550fb39a7e55ec854\", element=\"F47EA0A35694F44C1241D989F8675A94_element_7627\")>,\n",
       " <selenium.webdriver.remote.webelement.WebElement (session=\"e6b4fffe7c011ec550fb39a7e55ec854\", element=\"F47EA0A35694F44C1241D989F8675A94_element_7637\")>,\n",
       " <selenium.webdriver.remote.webelement.WebElement (session=\"e6b4fffe7c011ec550fb39a7e55ec854\", element=\"F47EA0A35694F44C1241D989F8675A94_element_7647\")>,\n",
       " <selenium.webdriver.remote.webelement.WebElement (session=\"e6b4fffe7c011ec550fb39a7e55ec854\", element=\"F47EA0A35694F44C1241D989F8675A94_element_7658\")>,\n",
       " <selenium.webdriver.remote.webelement.WebElement (session=\"e6b4fffe7c011ec550fb39a7e55ec854\", element=\"F47EA0A35694F44C1241D989F8675A94_element_7668\")>,\n",
       " <selenium.webdriver.remote.webelement.WebElement (session=\"e6b4fffe7c011ec550fb39a7e55ec854\", element=\"F47EA0A35694F44C1241D989F8675A94_element_7678\")>]"
      ]
     },
     "execution_count": 42,
     "metadata": {},
     "output_type": "execute_result"
    }
   ],
   "source": [
    "# 쌤풀이\n",
    "# 스스로\n",
    "# 이미지데이터 수집\n",
    "# 모든 이미지데이터 수집 img 변수에 담기\n",
    "img = driver.find_elements(By.CLASS_NAME, 'img-fluid')\n",
    "img"
   ]
  },
  {
   "cell_type": "code",
   "execution_count": null,
   "id": "8b813763",
   "metadata": {},
   "outputs": [],
   "source": [
    "img[0].text\n",
    "# img 태그는 홀태그\n",
    "# .text 속성은 여는 태그와 닫느 태그 사이에 있는 콘텐츠 추출\n"
   ]
  },
  {
   "cell_type": "code",
   "execution_count": 17,
   "id": "f83f645c",
   "metadata": {},
   "outputs": [
    {
     "data": {
      "text/plain": [
       "'https://data1.pokemonkorea.co.kr/newdata/pokedex/mid/000101.png'"
      ]
     },
     "execution_count": 17,
     "metadata": {},
     "output_type": "execute_result"
    }
   ],
   "source": [
    "# 우리의 img 태그에서 콘텐츠가 아닌 속성(src)을 추출하는 방법!\n",
    "# 요소.get_attribute('속성명')\n",
    "img[0].get_attribute('src')\n",
    "#출력:\n",
    "#'https://data1.pokemonkorea.co.kr/newdata/pokedex/mid/000101.png'\n",
    "\n",
    "# 출력된 정보 : 이미지의 주소(경로)"
   ]
  },
  {
   "cell_type": "code",
   "execution_count": 30,
   "id": "5c172d0b",
   "metadata": {},
   "outputs": [
    {
     "data": {
      "text/plain": [
       "('C:\\\\Users\\\\smhrd\\\\Desktop\\\\포켓몬도감\\\\포켓몬.jpg',\n",
       " <http.client.HTTPMessage at 0x2a431333490>)"
      ]
     },
     "execution_count": 30,
     "metadata": {},
     "output_type": "execute_result"
    }
   ],
   "source": [
    "# 이미지 파일의 경로(src)를 활용하여 이미지 파일로 저장\n",
    "# urlretrieve(이미지의 경로, '저장할 위치\\\\파일명.확장자')\n",
    "urlretrieve(img[0].get_attribute('src'), 'C:\\\\Users\\\\smhrd\\\\Desktop\\\\포켓몬도감\\\\포켓몬.jpg' )"
   ]
  },
  {
   "cell_type": "code",
   "execution_count": 43,
   "id": "d4e7594d",
   "metadata": {},
   "outputs": [],
   "source": [
    "# 반복문을 사용해서 여러 마리의 포켓몬 저장\n",
    "for i in range(len(img)):\n",
    "    urlretrieve(img[i].get_attribute('src'), 'C:\\\\Users\\\\smhrd\\\\Desktop\\\\포켓몬도감\\\\포켓몬.jpg' )\n",
    "# 파일명이 같으면 덮어쓰기가 된다!"
   ]
  },
  {
   "cell_type": "code",
   "execution_count": 45,
   "id": "564237b4",
   "metadata": {},
   "outputs": [],
   "source": [
    "for i in range(len(img)):\n",
    "    urlretrieve(img[i].get_attribute('src'), \n",
    "                f'C:\\\\Users\\\\smhrd\\\\Desktop\\\\포켓몬도감\\\\포켓몬{i+1}.jpg' )\n"
   ]
  },
  {
   "cell_type": "code",
   "execution_count": 37,
   "id": "483cc207",
   "metadata": {},
   "outputs": [
    {
     "name": "stdout",
     "output_type": "stream",
     "text": [
      "이미 존재하는 파일명입니다. 파일을 덮어쓸까요? \n",
      "파일덮어쓰기>> 1, 취소 >>22\n",
      "이미 존재하는 파일명입니다. 파일을 덮어쓸까요? \n"
     ]
    },
    {
     "ename": "KeyboardInterrupt",
     "evalue": "Interrupted by user",
     "output_type": "error",
     "traceback": [
      "\u001b[1;31m---------------------------------------------------------------------------\u001b[0m",
      "\u001b[1;31mKeyboardInterrupt\u001b[0m                         Traceback (most recent call last)",
      "Cell \u001b[1;32mIn[37], line 8\u001b[0m\n\u001b[0;32m      6\u001b[0m \u001b[38;5;28;01melse\u001b[39;00m :\n\u001b[0;32m      7\u001b[0m     \u001b[38;5;28mprint\u001b[39m(\u001b[38;5;124m\"\u001b[39m\u001b[38;5;124m이미 존재하는 파일명입니다. 파일을 덮어쓸까요? \u001b[39m\u001b[38;5;124m\"\u001b[39m)\n\u001b[1;32m----> 8\u001b[0m     choice \u001b[38;5;241m=\u001b[39m \u001b[38;5;28minput\u001b[39m(\u001b[38;5;124m\"\u001b[39m\u001b[38;5;124m파일덮어쓰기>> 1, 취소 >>2\u001b[39m\u001b[38;5;124m\"\u001b[39m)\n\u001b[0;32m      9\u001b[0m     \u001b[38;5;28;01mif\u001b[39;00m choice \u001b[38;5;241m==\u001b[39m \u001b[38;5;241m1\u001b[39m :\n\u001b[0;32m     10\u001b[0m         urlretrieve(img[i]\u001b[38;5;241m.\u001b[39mget_attribute(\u001b[38;5;124m'\u001b[39m\u001b[38;5;124msrc\u001b[39m\u001b[38;5;124m'\u001b[39m), \u001b[38;5;124mf\u001b[39m\u001b[38;5;124m'\u001b[39m\u001b[38;5;124mC:\u001b[39m\u001b[38;5;130;01m\\\\\u001b[39;00m\u001b[38;5;124mUsers\u001b[39m\u001b[38;5;130;01m\\\\\u001b[39;00m\u001b[38;5;124msmhrd\u001b[39m\u001b[38;5;130;01m\\\\\u001b[39;00m\u001b[38;5;124mDesktop\u001b[39m\u001b[38;5;130;01m\\\\\u001b[39;00m\u001b[38;5;124m포켓몬도감\u001b[39m\u001b[38;5;130;01m\\\\\u001b[39;00m\u001b[38;5;124m포켓몬\u001b[39m\u001b[38;5;132;01m{\u001b[39;00mi\u001b[38;5;241m+\u001b[39m\u001b[38;5;241m1\u001b[39m\u001b[38;5;132;01m}\u001b[39;00m\u001b[38;5;124m.jpg\u001b[39m\u001b[38;5;124m'\u001b[39m )\n",
      "File \u001b[1;32m~\\anaconda3\\Lib\\site-packages\\ipykernel\\kernelbase.py:1202\u001b[0m, in \u001b[0;36mKernel.raw_input\u001b[1;34m(self, prompt)\u001b[0m\n\u001b[0;32m   1200\u001b[0m     msg \u001b[38;5;241m=\u001b[39m \u001b[38;5;124m\"\u001b[39m\u001b[38;5;124mraw_input was called, but this frontend does not support input requests.\u001b[39m\u001b[38;5;124m\"\u001b[39m\n\u001b[0;32m   1201\u001b[0m     \u001b[38;5;28;01mraise\u001b[39;00m StdinNotImplementedError(msg)\n\u001b[1;32m-> 1202\u001b[0m \u001b[38;5;28;01mreturn\u001b[39;00m \u001b[38;5;28mself\u001b[39m\u001b[38;5;241m.\u001b[39m_input_request(\n\u001b[0;32m   1203\u001b[0m     \u001b[38;5;28mstr\u001b[39m(prompt),\n\u001b[0;32m   1204\u001b[0m     \u001b[38;5;28mself\u001b[39m\u001b[38;5;241m.\u001b[39m_parent_ident[\u001b[38;5;124m\"\u001b[39m\u001b[38;5;124mshell\u001b[39m\u001b[38;5;124m\"\u001b[39m],\n\u001b[0;32m   1205\u001b[0m     \u001b[38;5;28mself\u001b[39m\u001b[38;5;241m.\u001b[39mget_parent(\u001b[38;5;124m\"\u001b[39m\u001b[38;5;124mshell\u001b[39m\u001b[38;5;124m\"\u001b[39m),\n\u001b[0;32m   1206\u001b[0m     password\u001b[38;5;241m=\u001b[39m\u001b[38;5;28;01mFalse\u001b[39;00m,\n\u001b[0;32m   1207\u001b[0m )\n",
      "File \u001b[1;32m~\\anaconda3\\Lib\\site-packages\\ipykernel\\kernelbase.py:1245\u001b[0m, in \u001b[0;36mKernel._input_request\u001b[1;34m(self, prompt, ident, parent, password)\u001b[0m\n\u001b[0;32m   1242\u001b[0m \u001b[38;5;28;01mexcept\u001b[39;00m \u001b[38;5;167;01mKeyboardInterrupt\u001b[39;00m:\n\u001b[0;32m   1243\u001b[0m     \u001b[38;5;66;03m# re-raise KeyboardInterrupt, to truncate traceback\u001b[39;00m\n\u001b[0;32m   1244\u001b[0m     msg \u001b[38;5;241m=\u001b[39m \u001b[38;5;124m\"\u001b[39m\u001b[38;5;124mInterrupted by user\u001b[39m\u001b[38;5;124m\"\u001b[39m\n\u001b[1;32m-> 1245\u001b[0m     \u001b[38;5;28;01mraise\u001b[39;00m \u001b[38;5;167;01mKeyboardInterrupt\u001b[39;00m(msg) \u001b[38;5;28;01mfrom\u001b[39;00m \u001b[38;5;28;01mNone\u001b[39;00m\n\u001b[0;32m   1246\u001b[0m \u001b[38;5;28;01mexcept\u001b[39;00m \u001b[38;5;167;01mException\u001b[39;00m:\n\u001b[0;32m   1247\u001b[0m     \u001b[38;5;28mself\u001b[39m\u001b[38;5;241m.\u001b[39mlog\u001b[38;5;241m.\u001b[39mwarning(\u001b[38;5;124m\"\u001b[39m\u001b[38;5;124mInvalid Message:\u001b[39m\u001b[38;5;124m\"\u001b[39m, exc_info\u001b[38;5;241m=\u001b[39m\u001b[38;5;28;01mTrue\u001b[39;00m)\n",
      "\u001b[1;31mKeyboardInterrupt\u001b[0m: Interrupted by user"
     ]
    }
   ],
   "source": [
    "# 자영 혼자 만들기\n",
    "\n",
    "for i in range(len(img)):\n",
    "    if not os.path.isfile(f'C:\\\\Users\\\\smhrd\\\\Desktop\\\\포켓몬도감\\\\포켓몬{i+1}.jpg'):\n",
    "        urlretrieve(img[i].get_attribute('src'), f'C:\\\\Users\\\\smhrd\\\\Desktop\\\\포켓몬도감\\\\포켓몬{i+1}.jpg' )\n",
    "    else :\n",
    "        print(\"이미 존재하는 파일명입니다. 파일을 덮어쓸까요? \")\n",
    "        choice = input(\"파일덮어쓰기>> 1, 취소 >>2\")\n",
    "        if choice == 1 :\n",
    "            urlretrieve(img[i].get_attribute('src'), f'C:\\\\Users\\\\smhrd\\\\Desktop\\\\포켓몬도감\\\\포켓몬{i+1}.jpg' )\n",
    "        elif choice ==2 :\n",
    "            urlretrieve(img[i].get_attribute('src'), f'C:\\\\Users\\\\smhrd\\\\Desktop\\\\포켓몬도감\\\\포켓몬{i+1}(1).jpg' )\n"
   ]
  },
  {
   "cell_type": "code",
   "execution_count": 46,
   "id": "88b40acd",
   "metadata": {},
   "outputs": [
    {
     "data": {
      "text/plain": [
       "180"
      ]
     },
     "execution_count": 46,
     "metadata": {},
     "output_type": "execute_result"
    }
   ],
   "source": [
    "len(img)"
   ]
  },
  {
   "cell_type": "markdown",
   "id": "84f2bad6",
   "metadata": {},
   "source": [
    "### 화면 스크롤을 통해 더 많은 포켓몬 이미지 수집"
   ]
  },
  {
   "cell_type": "code",
   "execution_count": null,
   "id": "add91fd6",
   "metadata": {},
   "outputs": [],
   "source": [
    "# 화면 스크롤 하는 방법!! \n",
    "# 페이지 전체를 담당하는 body 태그에게 END 키 보내주기!\n",
    "for i in range(20):\n",
    "    body = driver.find_element(By.CSS_SELECTOR, 'body')\n",
    "    body.send_keys(Keys.END)\n",
    "    time.sleep(1) #자: 사람답게 ! 쉬는시간!"
   ]
  },
  {
   "cell_type": "markdown",
   "id": "91ff80e5",
   "metadata": {},
   "source": [
    "### 코드 합치기"
   ]
  },
  {
   "cell_type": "code",
   "execution_count": 5,
   "id": "231e14ea",
   "metadata": {},
   "outputs": [
    {
     "name": "stdout",
     "output_type": "stream",
     "text": [
      "이미 존재하는 폴더입니다~\n"
     ]
    },
    {
     "ename": "KeyboardInterrupt",
     "evalue": "",
     "output_type": "error",
     "traceback": [
      "\u001b[1;31m---------------------------------------------------------------------------\u001b[0m",
      "\u001b[1;31mKeyboardInterrupt\u001b[0m                         Traceback (most recent call last)",
      "Cell \u001b[1;32mIn[5], line 39\u001b[0m\n\u001b[0;32m     35\u001b[0m img \u001b[38;5;241m=\u001b[39m driver\u001b[38;5;241m.\u001b[39mfind_elements(By\u001b[38;5;241m.\u001b[39mCLASS_NAME, \u001b[38;5;124m'\u001b[39m\u001b[38;5;124mimg-fluid\u001b[39m\u001b[38;5;124m'\u001b[39m)\n\u001b[0;32m     38\u001b[0m \u001b[38;5;28;01mfor\u001b[39;00m i \u001b[38;5;129;01min\u001b[39;00m \u001b[38;5;28mrange\u001b[39m(\u001b[38;5;28mlen\u001b[39m(img)):\n\u001b[1;32m---> 39\u001b[0m     urlretrieve(img[i]\u001b[38;5;241m.\u001b[39mget_attribute(\u001b[38;5;124m'\u001b[39m\u001b[38;5;124msrc\u001b[39m\u001b[38;5;124m'\u001b[39m), \n\u001b[0;32m     40\u001b[0m                 \u001b[38;5;124mf\u001b[39m\u001b[38;5;124m'\u001b[39m\u001b[38;5;124mC:\u001b[39m\u001b[38;5;130;01m\\\\\u001b[39;00m\u001b[38;5;124mUsers\u001b[39m\u001b[38;5;130;01m\\\\\u001b[39;00m\u001b[38;5;124msmhrd\u001b[39m\u001b[38;5;130;01m\\\\\u001b[39;00m\u001b[38;5;124mDesktop\u001b[39m\u001b[38;5;130;01m\\\\\u001b[39;00m\u001b[38;5;124m포켓몬도감\u001b[39m\u001b[38;5;130;01m\\\\\u001b[39;00m\u001b[38;5;124m포켓몬\u001b[39m\u001b[38;5;132;01m{\u001b[39;00mi\u001b[38;5;241m+\u001b[39m\u001b[38;5;241m1\u001b[39m\u001b[38;5;132;01m}\u001b[39;00m\u001b[38;5;124m.jpg\u001b[39m\u001b[38;5;124m'\u001b[39m )\n",
      "File \u001b[1;32m~\\anaconda3\\Lib\\urllib\\request.py:270\u001b[0m, in \u001b[0;36murlretrieve\u001b[1;34m(url, filename, reporthook, data)\u001b[0m\n\u001b[0;32m    267\u001b[0m     reporthook(blocknum, bs, size)\n\u001b[0;32m    269\u001b[0m \u001b[38;5;28;01mwhile\u001b[39;00m \u001b[38;5;28;01mTrue\u001b[39;00m:\n\u001b[1;32m--> 270\u001b[0m     block \u001b[38;5;241m=\u001b[39m fp\u001b[38;5;241m.\u001b[39mread(bs)\n\u001b[0;32m    271\u001b[0m     \u001b[38;5;28;01mif\u001b[39;00m \u001b[38;5;129;01mnot\u001b[39;00m block:\n\u001b[0;32m    272\u001b[0m         \u001b[38;5;28;01mbreak\u001b[39;00m\n",
      "File \u001b[1;32m~\\anaconda3\\Lib\\http\\client.py:466\u001b[0m, in \u001b[0;36mHTTPResponse.read\u001b[1;34m(self, amt)\u001b[0m\n\u001b[0;32m    463\u001b[0m \u001b[38;5;28;01mif\u001b[39;00m \u001b[38;5;28mself\u001b[39m\u001b[38;5;241m.\u001b[39mlength \u001b[38;5;129;01mis\u001b[39;00m \u001b[38;5;129;01mnot\u001b[39;00m \u001b[38;5;28;01mNone\u001b[39;00m \u001b[38;5;129;01mand\u001b[39;00m amt \u001b[38;5;241m>\u001b[39m \u001b[38;5;28mself\u001b[39m\u001b[38;5;241m.\u001b[39mlength:\n\u001b[0;32m    464\u001b[0m     \u001b[38;5;66;03m# clip the read to the \"end of response\"\u001b[39;00m\n\u001b[0;32m    465\u001b[0m     amt \u001b[38;5;241m=\u001b[39m \u001b[38;5;28mself\u001b[39m\u001b[38;5;241m.\u001b[39mlength\n\u001b[1;32m--> 466\u001b[0m s \u001b[38;5;241m=\u001b[39m \u001b[38;5;28mself\u001b[39m\u001b[38;5;241m.\u001b[39mfp\u001b[38;5;241m.\u001b[39mread(amt)\n\u001b[0;32m    467\u001b[0m \u001b[38;5;28;01mif\u001b[39;00m \u001b[38;5;129;01mnot\u001b[39;00m s \u001b[38;5;129;01mand\u001b[39;00m amt:\n\u001b[0;32m    468\u001b[0m     \u001b[38;5;66;03m# Ideally, we would raise IncompleteRead if the content-length\u001b[39;00m\n\u001b[0;32m    469\u001b[0m     \u001b[38;5;66;03m# wasn't satisfied, but it might break compatibility.\u001b[39;00m\n\u001b[0;32m    470\u001b[0m     \u001b[38;5;28mself\u001b[39m\u001b[38;5;241m.\u001b[39m_close_conn()\n",
      "File \u001b[1;32m~\\anaconda3\\Lib\\socket.py:706\u001b[0m, in \u001b[0;36mSocketIO.readinto\u001b[1;34m(self, b)\u001b[0m\n\u001b[0;32m    704\u001b[0m \u001b[38;5;28;01mwhile\u001b[39;00m \u001b[38;5;28;01mTrue\u001b[39;00m:\n\u001b[0;32m    705\u001b[0m     \u001b[38;5;28;01mtry\u001b[39;00m:\n\u001b[1;32m--> 706\u001b[0m         \u001b[38;5;28;01mreturn\u001b[39;00m \u001b[38;5;28mself\u001b[39m\u001b[38;5;241m.\u001b[39m_sock\u001b[38;5;241m.\u001b[39mrecv_into(b)\n\u001b[0;32m    707\u001b[0m     \u001b[38;5;28;01mexcept\u001b[39;00m timeout:\n\u001b[0;32m    708\u001b[0m         \u001b[38;5;28mself\u001b[39m\u001b[38;5;241m.\u001b[39m_timeout_occurred \u001b[38;5;241m=\u001b[39m \u001b[38;5;28;01mTrue\u001b[39;00m\n",
      "File \u001b[1;32m~\\anaconda3\\Lib\\ssl.py:1311\u001b[0m, in \u001b[0;36mSSLSocket.recv_into\u001b[1;34m(self, buffer, nbytes, flags)\u001b[0m\n\u001b[0;32m   1307\u001b[0m     \u001b[38;5;28;01mif\u001b[39;00m flags \u001b[38;5;241m!=\u001b[39m \u001b[38;5;241m0\u001b[39m:\n\u001b[0;32m   1308\u001b[0m         \u001b[38;5;28;01mraise\u001b[39;00m \u001b[38;5;167;01mValueError\u001b[39;00m(\n\u001b[0;32m   1309\u001b[0m           \u001b[38;5;124m\"\u001b[39m\u001b[38;5;124mnon-zero flags not allowed in calls to recv_into() on \u001b[39m\u001b[38;5;132;01m%s\u001b[39;00m\u001b[38;5;124m\"\u001b[39m \u001b[38;5;241m%\u001b[39m\n\u001b[0;32m   1310\u001b[0m           \u001b[38;5;28mself\u001b[39m\u001b[38;5;241m.\u001b[39m\u001b[38;5;18m__class__\u001b[39m)\n\u001b[1;32m-> 1311\u001b[0m     \u001b[38;5;28;01mreturn\u001b[39;00m \u001b[38;5;28mself\u001b[39m\u001b[38;5;241m.\u001b[39mread(nbytes, buffer)\n\u001b[0;32m   1312\u001b[0m \u001b[38;5;28;01melse\u001b[39;00m:\n\u001b[0;32m   1313\u001b[0m     \u001b[38;5;28;01mreturn\u001b[39;00m \u001b[38;5;28msuper\u001b[39m()\u001b[38;5;241m.\u001b[39mrecv_into(buffer, nbytes, flags)\n",
      "File \u001b[1;32m~\\anaconda3\\Lib\\ssl.py:1167\u001b[0m, in \u001b[0;36mSSLSocket.read\u001b[1;34m(self, len, buffer)\u001b[0m\n\u001b[0;32m   1165\u001b[0m \u001b[38;5;28;01mtry\u001b[39;00m:\n\u001b[0;32m   1166\u001b[0m     \u001b[38;5;28;01mif\u001b[39;00m buffer \u001b[38;5;129;01mis\u001b[39;00m \u001b[38;5;129;01mnot\u001b[39;00m \u001b[38;5;28;01mNone\u001b[39;00m:\n\u001b[1;32m-> 1167\u001b[0m         \u001b[38;5;28;01mreturn\u001b[39;00m \u001b[38;5;28mself\u001b[39m\u001b[38;5;241m.\u001b[39m_sslobj\u001b[38;5;241m.\u001b[39mread(\u001b[38;5;28mlen\u001b[39m, buffer)\n\u001b[0;32m   1168\u001b[0m     \u001b[38;5;28;01melse\u001b[39;00m:\n\u001b[0;32m   1169\u001b[0m         \u001b[38;5;28;01mreturn\u001b[39;00m \u001b[38;5;28mself\u001b[39m\u001b[38;5;241m.\u001b[39m_sslobj\u001b[38;5;241m.\u001b[39mread(\u001b[38;5;28mlen\u001b[39m)\n",
      "\u001b[1;31mKeyboardInterrupt\u001b[0m: "
     ]
    }
   ],
   "source": [
    "# 라이브러리 불러오기\n",
    "from selenium import webdriver as wb #통제, 제어\n",
    "from selenium.webdriver.common.keys import Keys # 입력, 컴퓨터용 키보드\n",
    "from selenium.webdriver.common.by import By # 구분\n",
    "import pandas as pd\n",
    "import time # 쉬는시간\n",
    "from tqdm import tqdm # 반복상황 로딩바로 출력\n",
    "\n",
    "from urllib.request import urlretrieve # 이미지 저장을 위한 라이브러리  # 수집 (src 정보를 수집 > 컴퓨터에 이미지로 저장해주는 라이브러리)\n",
    "\n",
    "import os # 파일이나 폴더를 생성해주는 라이브러리 (파일시스템 라이브러리) # Operating System\n",
    "\n",
    "# 만약에 폴더명이 없다면 생성해주고\n",
    "if not os.path.isdir(\"C:\\\\Users\\\\smhrd\\\\Desktop\\\\포켓몬도감\"): #자:os의 현 위치에 폴더가 존재하니?\n",
    "    print(\"폴더생성\")\n",
    "    # 폴더를 생성하는 코드를 작성\n",
    "    os.mkdir(\"C:\\\\Users\\\\smhrd\\\\Desktop\\\\포켓몬도감\") \n",
    "# 그렇지 않으면 (폴더명이 있음)  \"이미 존재하는 폴더입니다~\" 라고 출력\n",
    "else:\n",
    "    print(\"이미 존재하는 폴더입니다~\")\n",
    "    \n",
    "# 포켓몬 페이지 불러오기\n",
    "driver = wb.Chrome()\n",
    "driver.get('https://www.pokemonkorea.co.kr/pokedex#pokedex_1')\n",
    "\n",
    "# 화면 스크롤 하는 방법!! \n",
    "# 페이지 전체를 담당하는 body 태그에게 END 키 보내주기!\n",
    "for i in range(20):\n",
    "    body = driver.find_element(By.CSS_SELECTOR, 'body')\n",
    "    body.send_keys(Keys.END)\n",
    "    time.sleep(1) #자: 사람답게 ! 쉬는시간!\n",
    "    \n",
    "# 이미지데이터 수집\n",
    "# 모든 이미지데이터 수집 img 변수에 담기\n",
    "img = driver.find_elements(By.CLASS_NAME, 'img-fluid')\n",
    "\n",
    "\n",
    "for i in range(len(img)):\n",
    "    urlretrieve(img[i].get_attribute('src'), \n",
    "                f'C:\\\\Users\\\\smhrd\\\\Desktop\\\\포켓몬도감\\\\포켓몬{i+1}.jpg' )\n"
   ]
  },
  {
   "cell_type": "code",
   "execution_count": 6,
   "id": "263bcc7f",
   "metadata": {},
   "outputs": [],
   "source": [
    "# 스크롤 높이 가져옴\n",
    "last_height = driver.execute_script(\"return document.body.scrollHeight\")\n",
    "sleep_time = 1\n",
    "while True:\n",
    "    # 끝까지 스크롤 내리기\n",
    "    driver.execute_script(\"window.scrollTo(0, document.body.scrollHeight);\")\n",
    "\n",
    "    # 대기\n",
    "    time.sleep(sleep_time)\n",
    "\n",
    "    # 스크롤 내린 후 스크롤 높이 다시 가져옴\n",
    "    new_height = driver.execute_script(\"return document.body.scrollHeight\")\n",
    "    if new_height == last_height:\n",
    "        break\n",
    "    last_height = new_height"
   ]
  },
  {
   "cell_type": "code",
   "execution_count": null,
   "id": "859d7869",
   "metadata": {},
   "outputs": [],
   "source": []
  }
 ],
 "metadata": {
  "kernelspec": {
   "display_name": "Python 3 (ipykernel)",
   "language": "python",
   "name": "python3"
  },
  "language_info": {
   "codemirror_mode": {
    "name": "ipython",
    "version": 3
   },
   "file_extension": ".py",
   "mimetype": "text/x-python",
   "name": "python",
   "nbconvert_exporter": "python",
   "pygments_lexer": "ipython3",
   "version": "3.11.5"
  }
 },
 "nbformat": 4,
 "nbformat_minor": 5
}
