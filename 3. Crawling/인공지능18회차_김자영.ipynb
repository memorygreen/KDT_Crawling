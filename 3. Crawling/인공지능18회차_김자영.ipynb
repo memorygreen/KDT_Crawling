{
 "cells": [
  {
   "cell_type": "markdown",
   "id": "9823105b",
   "metadata": {},
   "source": [
    "## Crawling 시험 답안지(Crawling submission)\n",
    "- 파일명에 본인 성명 기입하시오(Enter your name in the file name.)\n",
    "- 수업 중 배웠던 내용을 상기하여 최선을 다해 문제 풀어주세요.(Recall what you learned in class and do your best to solve the problem.)"
   ]
  },
  {
   "cell_type": "markdown",
   "id": "40fa0a4c",
   "metadata": {},
   "source": [
    "Question 1. 다음 아래의 문제를 읽고 답을 서술하시오. \n",
    " - 문제1) 다음은 빅데이터 수집방식에 대한 설명이다. 빈 칸에 알맞은 방식을 고르시오."
   ]
  },
  {
   "cell_type": "code",
   "execution_count": null,
   "id": "875cd64a",
   "metadata": {},
   "outputs": [],
   "source": [
    "#  ➀ - a.로그수집\n",
    "#  ➁ - f.크롤링\n",
    "#  ➂ - c. 오픈API\n",
    "#  ④ - h. 센서수집"
   ]
  },
  {
   "cell_type": "markdown",
   "id": "07b13c7c",
   "metadata": {},
   "source": [
    " - 문제2) 크롤링의 개념과 필요성에 대해 서술하시오."
   ]
  },
  {
   "cell_type": "code",
   "execution_count": null,
   "id": "c57d6f51",
   "metadata": {},
   "outputs": [],
   "source": [
    "# 데이터 수집의 일종으로, 이지의 정보를 요청한 후 응답받아 필요한 데이터를 수집하는 행위이다."
   ]
  },
  {
   "cell_type": "markdown",
   "id": "b97dfaf9",
   "metadata": {},
   "source": [
    " - 문제3)  BeautifulSoup모듈에 대해 서술하시오."
   ]
  },
  {
   "cell_type": "code",
   "execution_count": null,
   "id": "54ea5d0d",
   "metadata": {},
   "outputs": [],
   "source": [
    "# 텍스트 형태의 데이터에서 원하는 html태그를 추출하여 컴퓨터가 이해할 수 있는 언어로 파싱(parsing)해주는 라이브러리이다."
   ]
  },
  {
   "cell_type": "markdown",
   "id": "d871b112",
   "metadata": {},
   "source": [
    " - 문제4) 다음 두 보기의 차이를 설명하시오."
   ]
  },
  {
   "cell_type": "code",
   "execution_count": null,
   "id": "4eaae89d",
   "metadata": {},
   "outputs": [],
   "source": [
    "#  ➀ find_element(By.CSS_SELECTOR) : 해당되는 모든 요소를 추출하여 리스트 형태로 출력한다.\n",
    "\n",
    "#   ➁ find_elements(By.CSS_SELECTOR) : 해당되는 요소 중 가장 상단에 있는 요소 한 개만 추출한다."
   ]
  },
  {
   "attachments": {
    "image-2.png": {
     "image/png": "[encoded data removed]"
    }
   },
   "cell_type": "markdown",
   "id": "1ab149c5",
   "metadata": {},
   "source": [
    " - 문제5) 다음은 HTML코드로 이루어진 웹 페이지이다. 밑줄 그어진 부분을 BeautifulSoup모듈의 함수를 이용하여 텍스트만 수집할 수 있는 코드를 빈칸에 작성하시오.\n",
    " ![image-2.png](attachment:image-2.png)"
   ]
  },
  {
   "cell_type": "code",
   "execution_count": null,
   "id": "726da4bb",
   "metadata": {},
   "outputs": [],
   "source": [
    "#  ➀ 'span#this_span'\n",
    "#  ➁ text"
   ]
  },
  {
   "cell_type": "markdown",
   "id": "109c9bd1",
   "metadata": {},
   "source": [
    "----"
   ]
  },
  {
   "cell_type": "markdown",
   "id": "359d50c3",
   "metadata": {},
   "source": [
    "Question 2. 다음 문제를 읽고 알맞은 코드를 작성하시오.\n",
    " - 문제2)  자동제어를 통해 네이버 홈페이지에 접속하고 ‘크롤링’를 입력하여 검색하는 수집시스템을 구축하시오.  \n",
    "        * 페이지주소: https://www.naver.com/ \n",
    "        * 현재 주소에 띄워진 데이터를 수집하세요 (아래 이미지와 다를수있습니다)"
   ]
  },
  {
   "cell_type": "code",
   "execution_count": 2,
   "id": "be30fa6f",
   "metadata": {},
   "outputs": [],
   "source": [
    "from selenium import webdriver as wb\n",
    "from selenium.webdriver.common.keys import Keys\n",
    "from selenium.webdriver.common.by import By\n",
    "import pandas as pd"
   ]
  },
  {
   "cell_type": "code",
   "execution_count": 77,
   "id": "5dd80797",
   "metadata": {},
   "outputs": [
    {
     "name": "stdout",
     "output_type": "stream",
     "text": [
      "비즈니스 데이터 플랫폼 쿠콘\n",
      "국내 최대 API스토어\n",
      "고전력전용 코로케이션\n",
      "원하는전력제공\n",
      "다대역IP무상제공\n",
      "API 플랫폼 데이터허브\n",
      "비즈니스 데이터 전문 플랫폼\n",
      "스크래핑 전문기업은?\n",
      "인포텍코퍼레이션(주)\n",
      "IT 프로젝트는 위시켓에서\n",
      "국내1위 IT아웃소싱 플랫폼\n",
      "외주개발 고민해결\n",
      "가치를 확신으로 바꾸세요!\n",
      "개인프로그램 개발의뢰 밝은터\n",
      "크롤링\n",
      "크롤링\n"
     ]
    }
   ],
   "source": [
    "driver = wb.Chrome()\n",
    "url = 'https://www.naver.com/'\n",
    "driver.get(url)\n",
    "\n",
    "search = driver.find_element(By.CLASS_NAME,'search_input')\n",
    "search.send_keys('크롤링')\n",
    "search.send_keys(Keys.ENTER)\n",
    "\n",
    "title = driver.find_elements(By.CLASS_NAME,'lnk_tit')\n",
    "\n",
    "\n",
    "for i in range(len(title)):\n",
    "    print(title[i].text)"
   ]
  },
  {
   "cell_type": "code",
   "execution_count": null,
   "id": "0f2e2d35",
   "metadata": {},
   "outputs": [],
   "source": []
  },
  {
   "cell_type": "code",
   "execution_count": null,
   "id": "443d56e9",
   "metadata": {},
   "outputs": [],
   "source": []
  },
  {
   "cell_type": "code",
   "execution_count": null,
   "id": "9c87e2d7",
   "metadata": {},
   "outputs": [],
   "source": []
  },
  {
   "cell_type": "markdown",
   "id": "33f7e3f7",
   "metadata": {},
   "source": [
    "----"
   ]
  },
  {
   "cell_type": "markdown",
   "id": "ca399c92",
   "metadata": {},
   "source": [
    "Question 3. 다음 문제를 읽고 알맞은 코드를 작성하시오.\n",
    " - 문제3) 자동제어를 통해 G마켓 홈페이지에 접속하고, 조건에 맞는 수집프로그램을 만드시오.\n",
    "        * 페이지주소: http://corners.gmarket.co.kr/Bestsellers \n",
    "        * 현재 주소에 띄워진 데이터를 수집하세요 (아래 이미지와 다를 수 있습니다)"
   ]
  },
  {
   "cell_type": "code",
   "execution_count": 16,
   "id": "810b3717",
   "metadata": {},
   "outputs": [],
   "source": [
    "# 1. G마켓 Best 1~20위까지 제목과 가격을 수집하는 프로그램을 만드시오.\n",
    "from selenium import webdriver as wb\n",
    "from selenium.webdriver.common.keys import Keys\n",
    "from selenium.webdriver.common.by import By\n",
    "import pandas as pd\n",
    "\n",
    "#  크롬 브라우저 제어\n",
    "driver = wb.Chrome()\n",
    "\n",
    "# url 가져오기\n",
    "url = 'http://corners.gmarket.co.kr/Bestsellers'\n",
    "driver.get(url)\n",
    "\n",
    "# 제품 제목 추출\n",
    "item_title = driver.find_elements(By.CLASS_NAME,'itemname')\n",
    "\n",
    "# 제품 가격 추출\n",
    "item_price = driver.find_elements(By.CSS_SELECTOR,'div.s-price>strong')\n",
    "\n",
    "\n",
    "# 빈 리스트 생성\n",
    "item_title_list = []\n",
    "item_price_list = []\n",
    "index = []\n",
    "\n",
    "# 각 리스트에 값 추가\n",
    "for i in range(20):\n",
    "    item_title_list.append(item_title[i].text)\n",
    "    item_price_list.append(item_price[i].text)\n",
    "    index.append(i+1)\n"
   ]
  },
  {
   "cell_type": "code",
   "execution_count": 78,
   "id": "5db42b15",
   "metadata": {},
   "outputs": [
    {
     "data": {
      "text/html": [
       "<div>\n",
       "<style scoped>\n",
       "    .dataframe tbody tr th:only-of-type {\n",
       "        vertical-align: middle;\n",
       "    }\n",
       "\n",
       "    .dataframe tbody tr th {\n",
       "        vertical-align: top;\n",
       "    }\n",
       "\n",
       "    .dataframe thead th {\n",
       "        text-align: right;\n",
       "    }\n",
       "</style>\n",
       "<table border=\"1\" class=\"dataframe\">\n",
       "  <thead>\n",
       "    <tr style=\"text-align: right;\">\n",
       "      <th></th>\n",
       "      <th>제목</th>\n",
       "      <th>가격</th>\n",
       "    </tr>\n",
       "  </thead>\n",
       "  <tbody>\n",
       "    <tr>\n",
       "      <th>0</th>\n",
       "      <td>슈퍼파워 터보 팬 다용도 에어건 크로스건 13만RPM 자동차 눈털기 먼지털기 캠핑 ...</td>\n",
       "      <td>38,500원</td>\n",
       "    </tr>\n",
       "    <tr>\n",
       "      <th>1</th>\n",
       "      <td>수퍼맘스토리카페/총 120종의 대작/보카사이언스/Visual Literacy/Tal...</td>\n",
       "      <td>178,800원</td>\n",
       "    </tr>\n",
       "    <tr>\n",
       "      <th>2</th>\n",
       "      <td>(최종2.3만)차이슨 헤어 드라이어 드라이기+노즐5개</td>\n",
       "      <td>31,850원</td>\n",
       "    </tr>\n",
       "    <tr>\n",
       "      <th>3</th>\n",
       "      <td>(선)브래비 유니 TRAINING SET F-ZIP N231UFT010</td>\n",
       "      <td>79,470원</td>\n",
       "    </tr>\n",
       "    <tr>\n",
       "      <th>4</th>\n",
       "      <td>(15%+5%쿠폰) 브이빈 겨울마감+봄맞이 BEST신상 데일리룩/가디건/니트/자켓/...</td>\n",
       "      <td>10,000원</td>\n",
       "    </tr>\n",
       "    <tr>\n",
       "      <th>5</th>\n",
       "      <td>[메가박스](유니버스클럽 전용 쿠폰적용가 5천원) 메가박스 일반예매권 2D-주중/주말</td>\n",
       "      <td>15,000원</td>\n",
       "    </tr>\n",
       "    <tr>\n",
       "      <th>6</th>\n",
       "      <td>BSP D9 휴대용 모바일 게이밍 컨트롤러 안드로이드 아이폰 태블릿 스위치 PC 윈...</td>\n",
       "      <td>43,600원</td>\n",
       "    </tr>\n",
       "    <tr>\n",
       "      <th>7</th>\n",
       "      <td>[마켓오네이처]오리온 마켓오 치즈톡 달콤치즈맛 80g x12개 (1박스)</td>\n",
       "      <td>17,600원</td>\n",
       "    </tr>\n",
       "    <tr>\n",
       "      <th>8</th>\n",
       "      <td>[버블트리]15%+10% 버블트리 봄신상 스쿨룩 베이비페어 특가전</td>\n",
       "      <td>15,000원</td>\n",
       "    </tr>\n",
       "    <tr>\n",
       "      <th>9</th>\n",
       "      <td>[서울우유]멸균우유 200ml 24입+24입 (2박스)</td>\n",
       "      <td>26,970원</td>\n",
       "    </tr>\n",
       "    <tr>\n",
       "      <th>10</th>\n",
       "      <td>[푸마](신세계하남점)PUMA 단독 할인 푸마 남여공용 편안한 운동화 ST Runn...</td>\n",
       "      <td>42,660원</td>\n",
       "    </tr>\n",
       "    <tr>\n",
       "      <th>11</th>\n",
       "      <td>슈퍼파워 터보 팬 다용도 에어건 크로스건 블랙 무료배송</td>\n",
       "      <td>38,900원</td>\n",
       "    </tr>\n",
       "    <tr>\n",
       "      <th>12</th>\n",
       "      <td>[포스트]포스트 아몬드후레이크 620gx3 +밀폐용기2P(증정)</td>\n",
       "      <td>16,170원</td>\n",
       "    </tr>\n",
       "    <tr>\n",
       "      <th>13</th>\n",
       "      <td>여수사나이 국내산 돌산갓김치 1.5kg 남도김치 산지직송 당일생산</td>\n",
       "      <td>11,000원</td>\n",
       "    </tr>\n",
       "    <tr>\n",
       "      <th>14</th>\n",
       "      <td>못난이 한라봉 4.5kg 혼합과 벌크포장</td>\n",
       "      <td>19,010원</td>\n",
       "    </tr>\n",
       "    <tr>\n",
       "      <th>15</th>\n",
       "      <td>[한성기업]한성기업 크래미 몬스터크랩 72g X 15개</td>\n",
       "      <td>17,900원</td>\n",
       "    </tr>\n",
       "    <tr>\n",
       "      <th>16</th>\n",
       "      <td>[로코엘라](15%+5%쿠폰+무료반품) 홈쇼핑 1+1.SET 니트/팬츠/패딩 외 그...</td>\n",
       "      <td>11,580원</td>\n",
       "    </tr>\n",
       "    <tr>\n",
       "      <th>17</th>\n",
       "      <td>[에잇세컨즈]무료반품+18%쿠폰 에잇세컨즈 설레는 봄맞이 특가 입고 셔츠/바지/니트外</td>\n",
       "      <td>14,900원</td>\n",
       "    </tr>\n",
       "    <tr>\n",
       "      <th>18</th>\n",
       "      <td>[제주삼다수]제주삼다수 무라벨 2L 24병 /생수전문배송</td>\n",
       "      <td>22,800원</td>\n",
       "    </tr>\n",
       "    <tr>\n",
       "      <th>19</th>\n",
       "      <td>(봄이아트북스) 공룡대발이 유치원 동화 20권 세트 (세이펜호환)</td>\n",
       "      <td>59,000원</td>\n",
       "    </tr>\n",
       "  </tbody>\n",
       "</table>\n",
       "</div>"
      ],
      "text/plain": [
       "                                                   제목        가격\n",
       "0   슈퍼파워 터보 팬 다용도 에어건 크로스건 13만RPM 자동차 눈털기 먼지털기 캠핑 ...   38,500원\n",
       "1   수퍼맘스토리카페/총 120종의 대작/보카사이언스/Visual Literacy/Tal...  178,800원\n",
       "2                       (최종2.3만)차이슨 헤어 드라이어 드라이기+노즐5개   31,850원\n",
       "3             (선)브래비 유니 TRAINING SET F-ZIP N231UFT010   79,470원\n",
       "4   (15%+5%쿠폰) 브이빈 겨울마감+봄맞이 BEST신상 데일리룩/가디건/니트/자켓/...   10,000원\n",
       "5     [메가박스](유니버스클럽 전용 쿠폰적용가 5천원) 메가박스 일반예매권 2D-주중/주말   15,000원\n",
       "6   BSP D9 휴대용 모바일 게이밍 컨트롤러 안드로이드 아이폰 태블릿 스위치 PC 윈...   43,600원\n",
       "7            [마켓오네이처]오리온 마켓오 치즈톡 달콤치즈맛 80g x12개 (1박스)   17,600원\n",
       "8                [버블트리]15%+10% 버블트리 봄신상 스쿨룩 베이비페어 특가전   15,000원\n",
       "9                      [서울우유]멸균우유 200ml 24입+24입 (2박스)   26,970원\n",
       "10  [푸마](신세계하남점)PUMA 단독 할인 푸마 남여공용 편안한 운동화 ST Runn...   42,660원\n",
       "11                     슈퍼파워 터보 팬 다용도 에어건 크로스건 블랙 무료배송   38,900원\n",
       "12                [포스트]포스트 아몬드후레이크 620gx3 +밀폐용기2P(증정)   16,170원\n",
       "13               여수사나이 국내산 돌산갓김치 1.5kg 남도김치 산지직송 당일생산   11,000원\n",
       "14                             못난이 한라봉 4.5kg 혼합과 벌크포장   19,010원\n",
       "15                     [한성기업]한성기업 크래미 몬스터크랩 72g X 15개   17,900원\n",
       "16  [로코엘라](15%+5%쿠폰+무료반품) 홈쇼핑 1+1.SET 니트/팬츠/패딩 외 그...   11,580원\n",
       "17    [에잇세컨즈]무료반품+18%쿠폰 에잇세컨즈 설레는 봄맞이 특가 입고 셔츠/바지/니트外   14,900원\n",
       "18                    [제주삼다수]제주삼다수 무라벨 2L 24병 /생수전문배송   22,800원\n",
       "19               (봄이아트북스) 공룡대발이 유치원 동화 20권 세트 (세이펜호환)   59,000원"
      ]
     },
     "execution_count": 78,
     "metadata": {},
     "output_type": "execute_result"
    }
   ],
   "source": [
    "# 2. 수집한 데이터를 DataFrame으로 만드시오.\n",
    "dic = {'제목':item_title_list, '가격':item_price_list}\n",
    "# dic = {'제목':item_title_list, '가격':item_price_list, '순위':index}\n",
    "\n",
    "df_gmarket = pd.DataFrame(dic)\n",
    "# df.set_index('순위', inplace=True)\n",
    "df_gmarket"
   ]
  },
  {
   "cell_type": "code",
   "execution_count": null,
   "id": "84c3b26c",
   "metadata": {},
   "outputs": [],
   "source": []
  },
  {
   "cell_type": "code",
   "execution_count": null,
   "id": "c932df6d",
   "metadata": {},
   "outputs": [],
   "source": []
  },
  {
   "cell_type": "code",
   "execution_count": null,
   "id": "aeac7516",
   "metadata": {},
   "outputs": [],
   "source": []
  },
  {
   "cell_type": "markdown",
   "id": "4633d098",
   "metadata": {},
   "source": [
    "----"
   ]
  },
  {
   "cell_type": "markdown",
   "id": "c069f9d8",
   "metadata": {},
   "source": [
    "Question 4. 다음 문제를 읽고 알맞은 코드를 작성하시오.\n",
    " - 문제4) 멜론차트에서 1~100위까지 정보를 수집하는 프로그램을 작성하시오.\n",
    "        * 페이지주소: https://www.melon.com/chart/ \n",
    "        * 현재 주소에 띄워진 데이터를 수집하세요 (아래 이미지와 다를수있습니다)\n",
    "        \n",
    "    <조건>\n",
    "     1. 수집할 정보는 곡정보에 있는 곡명과 가수명 이다.\n",
    "     2. pandas의 DataFrame형태로 ‘순위’를 기준으로 결과를 출력하여야 한다.\n",
    "     3. csv파일로 한글이 깨지지 않게 저장할 수 있는 코드를 작성하여야 한다.  \n",
    "       ※ 순위는 생성해야 한다.  \n",
    "       ※ csv파일은 제출할 필요가 없다(코드만 작성)"
   ]
  },
  {
   "cell_type": "code",
   "execution_count": 82,
   "id": "b74d3a23",
   "metadata": {},
   "outputs": [],
   "source": [
    "from selenium import webdriver as wb\n",
    "from selenium.webdriver.common.keys import Keys\n",
    "from selenium.webdriver.common.by import By\n",
    "import pandas as pd\n",
    "\n",
    "#  크롬 브라우저 제어\n",
    "driver = wb.Chrome()\n",
    "\n",
    "# url 가져오기\n",
    "driver.get('https://www.melon.com/chart/')\n",
    "\n",
    "title_list = []\n",
    "singer_list = []\n",
    "rank_list = []\n",
    "\n",
    "\n",
    "#곡명 가져오기\n",
    "title = driver.find_elements(By.CLASS_NAME,'ellipsis.rank01')\n",
    "\n",
    "# len(title) #100개\n",
    "# for i in range(len(title)):\n",
    "#     print(title[i].text)\n",
    "\n",
    "#가수명 가져오기\n",
    "singer = driver.find_elements(By.CLASS_NAME,'ellipsis.rank02')\n",
    "# print(len(title))#100개\n",
    "# for i in range(len(singer)):\n",
    "#     print(singer[i].text)\n",
    "\n",
    "    \n",
    "# 리스트에 추가\n",
    "for i in range(len(title)):\n",
    "    title_list.append(title[i].text)\n",
    "    singer_list.append(singer[i].text)\n",
    "    rank_list.append(i+1)\n",
    "    \n",
    "# DataFrame 만들기\n",
    "dic = {'곡명': title_list, '가수명' : singer_list, '순위' : rank_list}\n",
    "df_melon = pd.DataFrame(dic)\n",
    "df_melon.set_index('순위', inplace=True)\n",
    "df_melon\n",
    "\n",
    "# csv 파일 저장\n",
    "df_melon.to_csv(\"melon_Top100.csv\", encoding=\"euc-kr\")"
   ]
  },
  {
   "cell_type": "code",
   "execution_count": null,
   "id": "3865307d",
   "metadata": {},
   "outputs": [],
   "source": []
  },
  {
   "cell_type": "code",
   "execution_count": null,
   "id": "ed55d9fb",
   "metadata": {},
   "outputs": [],
   "source": []
  },
  {
   "cell_type": "code",
   "execution_count": null,
   "id": "ea01fed7",
   "metadata": {},
   "outputs": [],
   "source": []
  },
  {
   "cell_type": "code",
   "execution_count": null,
   "id": "19cd8db3",
   "metadata": {},
   "outputs": [],
   "source": []
  },
  {
   "cell_type": "markdown",
   "id": "65e1aa83",
   "metadata": {},
   "source": [
    "----"
   ]
  },
  {
   "cell_type": "markdown",
   "id": "dda26ae4",
   "metadata": {},
   "source": [
    "Question 5. 다음 문제를 읽고 알맞은 코드를 작성하시오.\n",
    " - 문제5) 자동제어를 통해 한솥 페이지에 접속하고 전체 메뉴의 메뉴명 가격정보를 수집할 수 있는 프로그램을 작성하세요 \n",
    "    * 페이지주소: https://www.hsd.co.kr/menu/menu_list\n",
    "    * 현재 주소에 띄워진 데이터를 수집하세요 (아래 이미지와 다를 수 있습니다)\n",
    "        \n",
    "    <조건>\n",
    "       1. 수집할 정보는 전체 메뉴의 메뉴명, 가격정보 이다.\n",
    "       2. pandas의 DataFrame형태로 결과를 출력하여야 한다.\n",
    "       3. csv파일로 한글이 깨지지 않게 저장할 수 있는 코드를 작성하여야 한다.\n",
    "        ※ 코드를 실행했을 때 더보기 버튼을 끝까지 누른 후 정보를 수집해야 한다.\n",
    "        ※ csv파일은 제출할 필요가 없다(코드만 작성)."
   ]
  },
  {
   "cell_type": "code",
   "execution_count": 62,
   "id": "5ec86967",
   "metadata": {},
   "outputs": [
    {
     "name": "stdout",
     "output_type": "stream",
     "text": [
      "더보기를 전부 클릭했습니다.\n"
     ]
    }
   ],
   "source": [
    "# 라이브러리\n",
    "from selenium import webdriver as wb\n",
    "from selenium.webdriver.common.keys import Keys\n",
    "from selenium.webdriver.common.by import By\n",
    "import pandas as pd\n",
    "import time\n",
    "\n",
    "#  크롬 브라우저 제어\n",
    "driver = wb.Chrome()\n",
    "\n",
    "# url 가져오기\n",
    "driver.get('https://www.hsd.co.kr/menu/menu_list')\n",
    "\n",
    "# 더보기 클릭하기 (더이상 없을 시 예외처리)\n",
    "try:\n",
    "    for i in range(20):\n",
    "        driver.find_element(By.CLASS_NAME, 'c_05').click()\n",
    "        time.sleep(1)\n",
    "except:\n",
    "    print(\"더보기를 전부 클릭했습니다.\")\n",
    "\n",
    "# 빈 리스트 생성\n",
    "menu_list = []\n",
    "price_list = []\n",
    "\n",
    "#전체 메뉴의 메뉴명 가져오기\n",
    "menu = driver.find_elements(By.CLASS_NAME,'h.fz_03')\n",
    "# print(len(menu))\n",
    "\n",
    "\n",
    "#전체 메뉴의 가격정보 가져오기\n",
    "price = driver.find_elements(By.CLASS_NAME,'item-price')\n",
    "# print(len(price))\n",
    "\n",
    "# 각 리스트에 값 추가\n",
    "for i in range(len(menu)):\n",
    "    menu_list.append(menu[i].text)\n",
    "    price_list.append(price[i].text)\n",
    "#     print(menu[i].text)\n",
    "#     print(price[i].text) \n",
    "\n"
   ]
  },
  {
   "cell_type": "code",
   "execution_count": 67,
   "id": "89978f0e",
   "metadata": {},
   "outputs": [],
   "source": [
    "dic = {'메뉴명':menu_list, '가격정보' : price_list}\n",
    "df_menu = pd.DataFrame(dic)\n",
    "df_menu\n",
    "\n",
    "df_menu.to_csv('HanSot_Menu.csv', encoding= 'euc-kr')"
   ]
  },
  {
   "cell_type": "code",
   "execution_count": null,
   "id": "9aac5b9f",
   "metadata": {},
   "outputs": [],
   "source": []
  },
  {
   "cell_type": "code",
   "execution_count": null,
   "id": "bd018e04",
   "metadata": {},
   "outputs": [],
   "source": []
  },
  {
   "cell_type": "code",
   "execution_count": null,
   "id": "6b74457f",
   "metadata": {},
   "outputs": [],
   "source": []
  }
 ],
 "metadata": {
  "kernelspec": {
   "display_name": "Python 3 (ipykernel)",
   "language": "python",
   "name": "python3"
  },
  "language_info": {
   "codemirror_mode": {
    "name": "ipython",
    "version": 3
   },
   "file_extension": ".py",
   "mimetype": "text/x-python",
   "name": "python",
   "nbconvert_exporter": "python",
   "pygments_lexer": "ipython3",
   "version": "3.11.5"
  },
  "toc": {
   "base_numbering": 1,
   "nav_menu": {},
   "number_sections": true,
   "sideBar": true,
   "skip_h1_title": false,
   "title_cell": "Table of Contents",
   "title_sidebar": "Contents",
   "toc_cell": false,
   "toc_position": {},
   "toc_section_display": true,
   "toc_window_display": false
  },
  "varInspector": {
   "cols": {
    "lenName": 16,
    "lenType": 16,
    "lenVar": 40
   },
   "kernels_config": {
    "python": {
     "delete_cmd_postfix": "",
     "delete_cmd_prefix": "del ",
     "library": "var_list.py",
     "varRefreshCmd": "print(var_dic_list())"
    },
    "r": {
     "delete_cmd_postfix": ") ",
     "delete_cmd_prefix": "rm(",
     "library": "var_list.r",
     "varRefreshCmd": "cat(var_dic_list()) "
    }
   },
   "types_to_exclude": [
    "module",
    "function",
    "builtin_function_or_method",
    "instance",
    "_Feature"
   ],
   "window_display": false
  }
 },
 "nbformat": 4,
 "nbformat_minor": 5
}
