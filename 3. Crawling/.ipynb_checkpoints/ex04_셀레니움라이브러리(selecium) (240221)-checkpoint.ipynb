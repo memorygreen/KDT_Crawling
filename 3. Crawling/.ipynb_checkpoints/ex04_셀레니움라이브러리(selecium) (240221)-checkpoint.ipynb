{
 "cells": [
  {
   "cell_type": "markdown",
   "id": "8ad28669",
   "metadata": {},
   "source": [
    "### 셀레니움 라이브러리 \n",
    "- 웹페이지를 통제하기 위한 라이브러리\n",
    "- 브라우저 동작을 자동화하여 코드로 제어할 수 있도록 도와주는 라이브러리"
   ]
  },
  {
   "cell_type": "code",
   "execution_count": 2,
   "id": "ef994b9e",
   "metadata": {},
   "outputs": [
    {
     "name": "stdout",
     "output_type": "stream",
     "text": [
      "Requirement already satisfied: selenium in c:\\users\\smhrd\\anaconda3\\lib\\site-packages (4.18.1)\n",
      "Requirement already satisfied: urllib3[socks]<3,>=1.26 in c:\\users\\smhrd\\anaconda3\\lib\\site-packages (from selenium) (1.26.16)\n",
      "Requirement already satisfied: trio~=0.17 in c:\\users\\smhrd\\anaconda3\\lib\\site-packages (from selenium) (0.24.0)\n",
      "Requirement already satisfied: trio-websocket~=0.9 in c:\\users\\smhrd\\anaconda3\\lib\\site-packages (from selenium) (0.11.1)\n",
      "Requirement already satisfied: certifi>=2021.10.8 in c:\\users\\smhrd\\anaconda3\\lib\\site-packages (from selenium) (2023.7.22)\n",
      "Requirement already satisfied: typing_extensions>=4.9.0 in c:\\users\\smhrd\\anaconda3\\lib\\site-packages (from selenium) (4.9.0)\n",
      "Requirement already satisfied: attrs>=20.1.0 in c:\\users\\smhrd\\anaconda3\\lib\\site-packages (from trio~=0.17->selenium) (22.1.0)\n",
      "Requirement already satisfied: sortedcontainers in c:\\users\\smhrd\\anaconda3\\lib\\site-packages (from trio~=0.17->selenium) (2.4.0)\n",
      "Requirement already satisfied: idna in c:\\users\\smhrd\\anaconda3\\lib\\site-packages (from trio~=0.17->selenium) (3.4)\n",
      "Requirement already satisfied: outcome in c:\\users\\smhrd\\anaconda3\\lib\\site-packages (from trio~=0.17->selenium) (1.3.0.post0)\n",
      "Requirement already satisfied: sniffio>=1.3.0 in c:\\users\\smhrd\\anaconda3\\lib\\site-packages (from trio~=0.17->selenium) (1.3.0)\n",
      "Requirement already satisfied: cffi>=1.14 in c:\\users\\smhrd\\anaconda3\\lib\\site-packages (from trio~=0.17->selenium) (1.15.1)\n",
      "Requirement already satisfied: wsproto>=0.14 in c:\\users\\smhrd\\anaconda3\\lib\\site-packages (from trio-websocket~=0.9->selenium) (1.2.0)\n",
      "Requirement already satisfied: PySocks!=1.5.7,<2.0,>=1.5.6 in c:\\users\\smhrd\\anaconda3\\lib\\site-packages (from urllib3[socks]<3,>=1.26->selenium) (1.7.1)\n",
      "Requirement already satisfied: pycparser in c:\\users\\smhrd\\anaconda3\\lib\\site-packages (from cffi>=1.14->trio~=0.17->selenium) (2.21)\n",
      "Requirement already satisfied: h11<1,>=0.9.0 in c:\\users\\smhrd\\anaconda3\\lib\\site-packages (from wsproto>=0.14->trio-websocket~=0.9->selenium) (0.14.0)\n"
     ]
    }
   ],
   "source": [
    "# 기본으로 내장된 라이브러리가 아닌 경우 라이브러리를 설치!\n",
    "!pip install selenium"
   ]
  },
  {
   "cell_type": "code",
   "execution_count": 5,
   "id": "fb33b171",
   "metadata": {},
   "outputs": [],
   "source": [
    "# 라이브러리 불러오기\n",
    "# ebdriver : 웹브라우저를 '통제'하기 위한 라이브러리\n",
    "from selenium import webdriver as wb\n",
    "\n",
    "# keys : 웹을 통해 값을 \"입력\"하기 위한 라이브러리 >> 컴퓨터용 키보드\n",
    "from selenium.webdriver.common.keys import Keys #대소문자 확인 (자:from 뒤는 소문자 , import뒤는 대문자)\n",
    "\n",
    "# by : 선택자의 구분자 역할을 해주는 라이브러리\n",
    "from selenium.webdriver.common.by import By # 대소문자 확인\n",
    "\n",
    "# 기본 라이브러리\n",
    "import pandas as pd\n"
   ]
  },
  {
   "cell_type": "code",
   "execution_count": 42,
   "id": "2265d328",
   "metadata": {},
   "outputs": [],
   "source": [
    "# webdriver 브라우저 제어\n",
    "# 1. 브라우저 시작 (Chrome)\n",
    "driver = wb.Chrome()\n",
    "# 자동화 제어된 트롬창을 driver 라고 불러주겠다\n",
    "\n",
    "# url 정보를 주지 않으면 비어있는 창이 뜬다"
   ]
  },
  {
   "cell_type": "code",
   "execution_count": 43,
   "id": "4e348e53",
   "metadata": {
    "scrolled": true
   },
   "outputs": [],
   "source": [
    "#2. driver야! 네이버 페이지 열어줘(페이지 정보를 받아와!)\n",
    "# driver 에게 명령\n",
    "driver.get('https://www.naver.com/')"
   ]
  },
  {
   "cell_type": "code",
   "execution_count": 44,
   "id": "0e61ee17",
   "metadata": {},
   "outputs": [],
   "source": [
    "# 3. 검색창의 위치를 찾아오기! (태그 선택)\n",
    "search = driver.find_element(By.ID,'query')"
   ]
  },
  {
   "cell_type": "code",
   "execution_count": 45,
   "id": "4561ea03",
   "metadata": {},
   "outputs": [],
   "source": [
    "# 4. 검색창에 키워드 입력 \"푸바오\"\n",
    "search.send_keys('푸바오')"
   ]
  },
  {
   "cell_type": "code",
   "execution_count": 46,
   "id": "8f066f4d",
   "metadata": {},
   "outputs": [],
   "source": [
    "#5. 검색창에 엔터키 전송\n",
    "search.send_keys(Keys.ENTER)"
   ]
  },
  {
   "cell_type": "code",
   "execution_count": 47,
   "id": "0f930910",
   "metadata": {},
   "outputs": [],
   "source": [
    "#뒤로가기 > 브라우저 창의 기능 > driver\n",
    "driver.back()"
   ]
  },
  {
   "cell_type": "code",
   "execution_count": 48,
   "id": "16adea69",
   "metadata": {},
   "outputs": [],
   "source": [
    "# 페이지 정보가 변경되면 데이터가 초기화\n",
    "# 다시 한 번 검색창의 위치를 알려줘야 한다!\n",
    "search = driver.find_element(By.ID,'query')"
   ]
  },
  {
   "cell_type": "code",
   "execution_count": 50,
   "id": "374e69b4",
   "metadata": {},
   "outputs": [],
   "source": [
    "search.send_keys('루이바오')"
   ]
  },
  {
   "cell_type": "code",
   "execution_count": 55,
   "id": "b72ffd36",
   "metadata": {},
   "outputs": [],
   "source": [
    "# 검색버튼(돋보기버튼) 클릭을 통한 검색\n",
    "# 검색버튼의 위치를 찾아오기\n",
    "btn = driver.find_element(By.ID,'search-btn')"
   ]
  },
  {
   "cell_type": "code",
   "execution_count": 57,
   "id": "a30780fb",
   "metadata": {},
   "outputs": [],
   "source": [
    "# 창닫기\n",
    "driver.quit()"
   ]
  },
  {
   "cell_type": "markdown",
   "id": "69d91ef9",
   "metadata": {},
   "source": []
  },
  {
   "cell_type": "code",
   "execution_count": null,
   "id": "07c29d25",
   "metadata": {},
   "outputs": [],
   "source": []
  }
 ],
 "metadata": {
  "kernelspec": {
   "display_name": "Python 3 (ipykernel)",
   "language": "python",
   "name": "python3"
  },
  "language_info": {
   "codemirror_mode": {
    "name": "ipython",
    "version": 3
   },
   "file_extension": ".py",
   "mimetype": "text/x-python",
   "name": "python",
   "nbconvert_exporter": "python",
   "pygments_lexer": "ipython3",
   "version": "3.11.5"
  }
 },
 "nbformat": 4,
 "nbformat_minor": 5
}
