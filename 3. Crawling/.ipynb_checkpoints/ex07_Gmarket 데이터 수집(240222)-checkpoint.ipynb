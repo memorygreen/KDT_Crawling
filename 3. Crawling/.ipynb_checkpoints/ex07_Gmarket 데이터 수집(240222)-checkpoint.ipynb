{
 "cells": [
  {
   "cell_type": "markdown",
   "id": "57c6104f",
   "metadata": {},
   "source": [
    "### 학습목표\n",
    "- Gmarket 페이지에서 상품명, 가격, 카테고리 수집"
   ]
  },
  {
   "cell_type": "code",
   "execution_count": 7,
   "id": "56c9d7ca",
   "metadata": {},
   "outputs": [],
   "source": [
    "# 라이브러리 불러오기\n",
    "from selenium import webdriver as wb\n",
    "from selenium.webdriver.common.keys import Keys\n",
    "from selenium.webdriver.common.by import By\n",
    "import pandas as pd"
   ]
  },
  {
   "cell_type": "code",
   "execution_count": 42,
   "id": "43e48611",
   "metadata": {},
   "outputs": [],
   "source": [
    "# 자영 실습\n",
    "# gmarket 페이지 열기\n",
    "driver = wb.Chrome()\n",
    "driver.get('http://corners.gmarket.co.kr/Bestsellers')"
   ]
  },
  {
   "cell_type": "code",
   "execution_count": null,
   "id": "c7c5a429",
   "metadata": {},
   "outputs": [],
   "source": [
    "# 1위 상품 클릭하여 페이지 이동\n",
    "# 이미지 클릭\n",
    "item = driver.find_element(By.CLASS_NAME,'image__lazy.image__load')\n",
    "item.click()"
   ]
  },
  {
   "cell_type": "code",
   "execution_count": 23,
   "id": "cebf7e22",
   "metadata": {},
   "outputs": [
    {
     "data": {
      "text/plain": [
       "'(15%+5%쿠폰) 시크릿무드 역마진 단하루/ 겨울마감+봄맞이 BEST신상 데일리룩 가디건/니트/자켓/팬츠/스커트'"
      ]
     },
     "execution_count": 23,
     "metadata": {},
     "output_type": "execute_result"
    }
   ],
   "source": [
    "# 2. 상품명, 가격, 카테고리 데이터 수집\n",
    "# title, price, cate 변수에 담기\n",
    "title = driver.find_element(By.CLASS_NAME,'itemtit').text\n",
    "title\n",
    "#'(15%+5%쿠폰) 시크릿무드 역마진 단하루/ 겨울마감+봄맞이 BEST신상 데일리룩 가디건/니트/자켓/팬츠/스커트'"
   ]
  },
  {
   "cell_type": "code",
   "execution_count": 25,
   "id": "9872622c",
   "metadata": {},
   "outputs": [
    {
     "data": {
      "text/plain": [
       "'10,000원'"
      ]
     },
     "execution_count": 25,
     "metadata": {},
     "output_type": "execute_result"
    }
   ],
   "source": [
    "price = driver.find_element(By.CLASS_NAME,'price_real').text\n",
    "price #'10,000원'"
   ]
  },
  {
   "cell_type": "code",
   "execution_count": 37,
   "id": "b5e3c030",
   "metadata": {},
   "outputs": [
    {
     "data": {
      "text/plain": [
       "'라운드넥티셔츠'"
      ]
     },
     "execution_count": 37,
     "metadata": {},
     "output_type": "execute_result"
    }
   ],
   "source": [
    "cate = driver.find_element(By.CSS_SELECTOR,'li.on>a').text\n",
    "cate #'라운드넥티셔츠'"
   ]
  },
  {
   "cell_type": "code",
   "execution_count": null,
   "id": "52bebdd1",
   "metadata": {},
   "outputs": [],
   "source": [
    "#자영 테스트\n",
    "cate = driver.find_element(By.CSS_SELECTOR,'li.on>a').text"
   ]
  },
  {
   "cell_type": "code",
   "execution_count": 38,
   "id": "9065de04",
   "metadata": {},
   "outputs": [
    {
     "name": "stdout",
     "output_type": "stream",
     "text": [
      "(15%+5%쿠폰) 시크릿무드 역마진 단하루/ 겨울마감+봄맞이 BEST신상 데일리룩 가디건/니트/자켓/팬츠/스커트 10,000원 라운드넥티셔츠\n"
     ]
    }
   ],
   "source": [
    "print(title, price, cate)\n",
    "#(15%+5%쿠폰) 시크릿무드 역마진 단하루/ 겨울마감+봄맞이 BEST신상 데일리룩 가디건/니트/자켓/팬츠/스커트 10,000원 라운드넥티셔츠"
   ]
  },
  {
   "cell_type": "code",
   "execution_count": 61,
   "id": "18432db6",
   "metadata": {},
   "outputs": [],
   "source": [
    "#쌤풀이\n",
    "\n",
    "# 라이브러리 불러오기\n",
    "from selenium import webdriver as wb # 통제, 제어\n",
    "from selenium.webdriver.common.keys import Keys # \n",
    "from selenium.webdriver.common.by import By # 구분\n",
    "import pandas as pd"
   ]
  },
  {
   "cell_type": "code",
   "execution_count": 74,
   "id": "61569203",
   "metadata": {},
   "outputs": [],
   "source": [
    "# gmarket 페이지 열기\n",
    "driver = wb.Chrome()\n",
    "driver.get('http://corners.gmarket.co.kr/Bestsellers')"
   ]
  },
  {
   "cell_type": "code",
   "execution_count": 70,
   "id": "64f56a9e",
   "metadata": {},
   "outputs": [
    {
     "ename": "NoSuchElementException",
     "evalue": "Message: no such element: Unable to locate element: {\"method\":\"css selector\",\"selector\":\".image__lazy.image__load\"}\n  (Session info: chrome=121.0.6167.185); For documentation on this error, please visit: https://www.selenium.dev/documentation/webdriver/troubleshooting/errors#no-such-element-exception\nStacktrace:\n\tGetHandleVerifier [0x00007FF675D27012+3522402]\n\t(No symbol) [0x00007FF675948352]\n\t(No symbol) [0x00007FF6757F5ABB]\n\t(No symbol) [0x00007FF67583BF0E]\n\t(No symbol) [0x00007FF67583C08C]\n\t(No symbol) [0x00007FF67587E437]\n\t(No symbol) [0x00007FF67585F09F]\n\t(No symbol) [0x00007FF67587BDA3]\n\t(No symbol) [0x00007FF67585EE03]\n\t(No symbol) [0x00007FF67582F4D4]\n\t(No symbol) [0x00007FF6758305F1]\n\tGetHandleVerifier [0x00007FF675D59B9D+3730157]\n\tGetHandleVerifier [0x00007FF675DAF02D+4079485]\n\tGetHandleVerifier [0x00007FF675DA75D3+4048163]\n\tGetHandleVerifier [0x00007FF675A7A649+718233]\n\t(No symbol) [0x00007FF675954A3F]\n\t(No symbol) [0x00007FF67594FA94]\n\t(No symbol) [0x00007FF67594FBC2]\n\t(No symbol) [0x00007FF67593F2E4]\n\tBaseThreadInitThunk [0x00007FFDEB1D7344+20]\n\tRtlUserThreadStart [0x00007FFDEBD626B1+33]\n",
     "output_type": "error",
     "traceback": [
      "\u001b[1;31m---------------------------------------------------------------------------\u001b[0m",
      "\u001b[1;31mNoSuchElementException\u001b[0m                    Traceback (most recent call last)",
      "Cell \u001b[1;32mIn[70], line 3\u001b[0m\n\u001b[0;32m      1\u001b[0m \u001b[38;5;66;03m# 1위 상품 클릭하여 페이지 이동\u001b[39;00m\n\u001b[0;32m      2\u001b[0m \u001b[38;5;66;03m# 이미지 클릭\u001b[39;00m\n\u001b[1;32m----> 3\u001b[0m driver\u001b[38;5;241m.\u001b[39mfind_element(By\u001b[38;5;241m.\u001b[39mCLASS_NAME,\u001b[38;5;124m'\u001b[39m\u001b[38;5;124mimage__lazy.image__load\u001b[39m\u001b[38;5;124m'\u001b[39m)\u001b[38;5;241m.\u001b[39mclick()\n",
      "File \u001b[1;32m~\\anaconda3\\Lib\\site-packages\\selenium\\webdriver\\remote\\webdriver.py:741\u001b[0m, in \u001b[0;36mWebDriver.find_element\u001b[1;34m(self, by, value)\u001b[0m\n\u001b[0;32m    738\u001b[0m     by \u001b[38;5;241m=\u001b[39m By\u001b[38;5;241m.\u001b[39mCSS_SELECTOR\n\u001b[0;32m    739\u001b[0m     value \u001b[38;5;241m=\u001b[39m \u001b[38;5;124mf\u001b[39m\u001b[38;5;124m'\u001b[39m\u001b[38;5;124m[name=\u001b[39m\u001b[38;5;124m\"\u001b[39m\u001b[38;5;132;01m{\u001b[39;00mvalue\u001b[38;5;132;01m}\u001b[39;00m\u001b[38;5;124m\"\u001b[39m\u001b[38;5;124m]\u001b[39m\u001b[38;5;124m'\u001b[39m\n\u001b[1;32m--> 741\u001b[0m \u001b[38;5;28;01mreturn\u001b[39;00m \u001b[38;5;28mself\u001b[39m\u001b[38;5;241m.\u001b[39mexecute(Command\u001b[38;5;241m.\u001b[39mFIND_ELEMENT, {\u001b[38;5;124m\"\u001b[39m\u001b[38;5;124musing\u001b[39m\u001b[38;5;124m\"\u001b[39m: by, \u001b[38;5;124m\"\u001b[39m\u001b[38;5;124mvalue\u001b[39m\u001b[38;5;124m\"\u001b[39m: value})[\u001b[38;5;124m\"\u001b[39m\u001b[38;5;124mvalue\u001b[39m\u001b[38;5;124m\"\u001b[39m]\n",
      "File \u001b[1;32m~\\anaconda3\\Lib\\site-packages\\selenium\\webdriver\\remote\\webdriver.py:347\u001b[0m, in \u001b[0;36mWebDriver.execute\u001b[1;34m(self, driver_command, params)\u001b[0m\n\u001b[0;32m    345\u001b[0m response \u001b[38;5;241m=\u001b[39m \u001b[38;5;28mself\u001b[39m\u001b[38;5;241m.\u001b[39mcommand_executor\u001b[38;5;241m.\u001b[39mexecute(driver_command, params)\n\u001b[0;32m    346\u001b[0m \u001b[38;5;28;01mif\u001b[39;00m response:\n\u001b[1;32m--> 347\u001b[0m     \u001b[38;5;28mself\u001b[39m\u001b[38;5;241m.\u001b[39merror_handler\u001b[38;5;241m.\u001b[39mcheck_response(response)\n\u001b[0;32m    348\u001b[0m     response[\u001b[38;5;124m\"\u001b[39m\u001b[38;5;124mvalue\u001b[39m\u001b[38;5;124m\"\u001b[39m] \u001b[38;5;241m=\u001b[39m \u001b[38;5;28mself\u001b[39m\u001b[38;5;241m.\u001b[39m_unwrap_value(response\u001b[38;5;241m.\u001b[39mget(\u001b[38;5;124m\"\u001b[39m\u001b[38;5;124mvalue\u001b[39m\u001b[38;5;124m\"\u001b[39m, \u001b[38;5;28;01mNone\u001b[39;00m))\n\u001b[0;32m    349\u001b[0m     \u001b[38;5;28;01mreturn\u001b[39;00m response\n",
      "File \u001b[1;32m~\\anaconda3\\Lib\\site-packages\\selenium\\webdriver\\remote\\errorhandler.py:229\u001b[0m, in \u001b[0;36mErrorHandler.check_response\u001b[1;34m(self, response)\u001b[0m\n\u001b[0;32m    227\u001b[0m         alert_text \u001b[38;5;241m=\u001b[39m value[\u001b[38;5;124m\"\u001b[39m\u001b[38;5;124malert\u001b[39m\u001b[38;5;124m\"\u001b[39m]\u001b[38;5;241m.\u001b[39mget(\u001b[38;5;124m\"\u001b[39m\u001b[38;5;124mtext\u001b[39m\u001b[38;5;124m\"\u001b[39m)\n\u001b[0;32m    228\u001b[0m     \u001b[38;5;28;01mraise\u001b[39;00m exception_class(message, screen, stacktrace, alert_text)  \u001b[38;5;66;03m# type: ignore[call-arg]  # mypy is not smart enough here\u001b[39;00m\n\u001b[1;32m--> 229\u001b[0m \u001b[38;5;28;01mraise\u001b[39;00m exception_class(message, screen, stacktrace)\n",
      "\u001b[1;31mNoSuchElementException\u001b[0m: Message: no such element: Unable to locate element: {\"method\":\"css selector\",\"selector\":\".image__lazy.image__load\"}\n  (Session info: chrome=121.0.6167.185); For documentation on this error, please visit: https://www.selenium.dev/documentation/webdriver/troubleshooting/errors#no-such-element-exception\nStacktrace:\n\tGetHandleVerifier [0x00007FF675D27012+3522402]\n\t(No symbol) [0x00007FF675948352]\n\t(No symbol) [0x00007FF6757F5ABB]\n\t(No symbol) [0x00007FF67583BF0E]\n\t(No symbol) [0x00007FF67583C08C]\n\t(No symbol) [0x00007FF67587E437]\n\t(No symbol) [0x00007FF67585F09F]\n\t(No symbol) [0x00007FF67587BDA3]\n\t(No symbol) [0x00007FF67585EE03]\n\t(No symbol) [0x00007FF67582F4D4]\n\t(No symbol) [0x00007FF6758305F1]\n\tGetHandleVerifier [0x00007FF675D59B9D+3730157]\n\tGetHandleVerifier [0x00007FF675DAF02D+4079485]\n\tGetHandleVerifier [0x00007FF675DA75D3+4048163]\n\tGetHandleVerifier [0x00007FF675A7A649+718233]\n\t(No symbol) [0x00007FF675954A3F]\n\t(No symbol) [0x00007FF67594FA94]\n\t(No symbol) [0x00007FF67594FBC2]\n\t(No symbol) [0x00007FF67593F2E4]\n\tBaseThreadInitThunk [0x00007FFDEB1D7344+20]\n\tRtlUserThreadStart [0x00007FFDEBD626B1+33]\n"
     ]
    }
   ],
   "source": [
    "# 1위 상품 클릭하여 페이지 이동\n",
    "# 이미지 클릭\n",
    "driver.find_element(By.CLASS_NAME,'image__lazy.image__load').click()"
   ]
  },
  {
   "cell_type": "code",
   "execution_count": 56,
   "id": "5ca79ecd",
   "metadata": {},
   "outputs": [],
   "source": [
    "# 2. 상품명, 가격, 카테고리 데이터 수집\n",
    "# title, price, cate 변수에 담기\n",
    "title = driver.find_element(By.CLASS_NAME,'itemtit').text\n",
    "price = driver.find_element(By.CLASS_NAME,'price_real').text\n",
    "cate = driver.find_element(By.CSS_SELECTOR,'li.on>a').text"
   ]
  },
  {
   "cell_type": "code",
   "execution_count": 59,
   "id": "b7c87175",
   "metadata": {},
   "outputs": [
    {
     "name": "stdout",
     "output_type": "stream",
     "text": [
      "(15%+5%쿠폰) 시크릿무드 역마진 단하루/ 겨울마감+봄맞이 BEST신상 데일리룩 가디건/니트/자켓/팬츠/스커트\n",
      "10,000원\n",
      "라운드넥티셔츠\n"
     ]
    }
   ],
   "source": [
    "#출력\n",
    "print(title, price, cate, sep='\\n')"
   ]
  },
  {
   "cell_type": "code",
   "execution_count": 60,
   "id": "2986900e",
   "metadata": {},
   "outputs": [],
   "source": [
    "# 태그 선택하는 방법\n",
    "# 절대적인 위치를 가져올 수 있다!\n",
    "    #자: 그 페이지에서 1번만 사용할 수 있다! (한페이지에 한 번 만 가져올때!!!!) \n",
    "    # (element로만 가져오는 데이터 주로 가져옴)\n",
    "#원하는 태그 위에서 우클릭 > copy > copy selector > 클립보드에 복사됨 > 붙여넣기\n",
    "#itemcase_basic > div.box__item-title > h1    \n",
    "# By.CSS_SELECTOR 로 설정해야 한다!"
   ]
  },
  {
   "cell_type": "code",
   "execution_count": 71,
   "id": "a3252507",
   "metadata": {
    "scrolled": true
   },
   "outputs": [
    {
     "name": "stdout",
     "output_type": "stream",
     "text": [
      "(15%+5%쿠폰) 시크릿무드 역마진 단하루/ 겨울마감+봄맞이 BEST신상 데일리룩 가디건/니트/자켓/팬츠/스커트\n",
      "10,000원\n",
      "라운드넥티셔츠\n"
     ]
    }
   ],
   "source": [
    "\n",
    "#자영 실습\n",
    "# 상품명, 가격, 카테고리 정보를 절대적인 위치로 가져와보자!\n",
    "title = driver.find_element(By.CSS_SELECTOR,'#itemcase_basic > div.box__item-title > h1').text\n",
    "price = driver.find_element(By.CSS_SELECTOR,'#itemcase_basic > div.box__item-title > div.price > span:nth-child(2) > strong').text\n",
    "cate = driver.find_element(By.CSS_SELECTOR,'body > div.location-navi > ul > li.on > a').text\n",
    "print(title, price, cate, sep='\\n')"
   ]
  },
  {
   "cell_type": "code",
   "execution_count": 73,
   "id": "029465fc",
   "metadata": {},
   "outputs": [
    {
     "ename": "NoSuchWindowException",
     "evalue": "Message: no such window: target window already closed\nfrom unknown error: web view not found\n  (Session info: chrome=121.0.6167.185)\nStacktrace:\n\tGetHandleVerifier [0x00007FF675D27012+3522402]\n\t(No symbol) [0x00007FF675948352]\n\t(No symbol) [0x00007FF6757F5ABB]\n\t(No symbol) [0x00007FF6757D287C]\n\t(No symbol) [0x00007FF675865D97]\n\t(No symbol) [0x00007FF67587B3CF]\n\t(No symbol) [0x00007FF67585EE03]\n\t(No symbol) [0x00007FF67582F4D4]\n\t(No symbol) [0x00007FF6758305F1]\n\tGetHandleVerifier [0x00007FF675D59B9D+3730157]\n\tGetHandleVerifier [0x00007FF675DAF02D+4079485]\n\tGetHandleVerifier [0x00007FF675DA75D3+4048163]\n\tGetHandleVerifier [0x00007FF675A7A649+718233]\n\t(No symbol) [0x00007FF675954A3F]\n\t(No symbol) [0x00007FF67594FA94]\n\t(No symbol) [0x00007FF67594FBC2]\n\t(No symbol) [0x00007FF67593F2E4]\n\tBaseThreadInitThunk [0x00007FFDEB1D7344+20]\n\tRtlUserThreadStart [0x00007FFDEBD626B1+33]\n",
     "output_type": "error",
     "traceback": [
      "\u001b[1;31m---------------------------------------------------------------------------\u001b[0m",
      "\u001b[1;31mNoSuchWindowException\u001b[0m                     Traceback (most recent call last)",
      "Cell \u001b[1;32mIn[73], line 3\u001b[0m\n\u001b[0;32m      1\u001b[0m \u001b[38;5;66;03m#쌤풀이\u001b[39;00m\n\u001b[0;32m      2\u001b[0m \u001b[38;5;66;03m# 상품명, 가격, 카테고리 정보를 절대적인 위치로 가져와보자!\u001b[39;00m\n\u001b[1;32m----> 3\u001b[0m title \u001b[38;5;241m=\u001b[39m driver\u001b[38;5;241m.\u001b[39mfind_element(By\u001b[38;5;241m.\u001b[39mCSS_SELECTOR,\u001b[38;5;124m'\u001b[39m\u001b[38;5;124m#itemcase_basic > div.box__item-title > h1\u001b[39m\u001b[38;5;124m'\u001b[39m)\u001b[38;5;241m.\u001b[39mtext\n\u001b[0;32m      4\u001b[0m price \u001b[38;5;241m=\u001b[39m driver\u001b[38;5;241m.\u001b[39mfind_element(By\u001b[38;5;241m.\u001b[39mCSS_SELECTOR,\u001b[38;5;124m'\u001b[39m\u001b[38;5;124m#itemcase_basic > div.box__item-title > div.price > span:nth-child(2) > strong\u001b[39m\u001b[38;5;124m'\u001b[39m)\u001b[38;5;241m.\u001b[39mtext\n\u001b[0;32m      5\u001b[0m cate \u001b[38;5;241m=\u001b[39m driver\u001b[38;5;241m.\u001b[39mfind_element(By\u001b[38;5;241m.\u001b[39mCSS_SELECTOR,\u001b[38;5;124m'\u001b[39m\u001b[38;5;124mbody > div.location-navi > ul > li.on > a\u001b[39m\u001b[38;5;124m'\u001b[39m)\u001b[38;5;241m.\u001b[39mtext\n",
      "File \u001b[1;32m~\\anaconda3\\Lib\\site-packages\\selenium\\webdriver\\remote\\webdriver.py:741\u001b[0m, in \u001b[0;36mWebDriver.find_element\u001b[1;34m(self, by, value)\u001b[0m\n\u001b[0;32m    738\u001b[0m     by \u001b[38;5;241m=\u001b[39m By\u001b[38;5;241m.\u001b[39mCSS_SELECTOR\n\u001b[0;32m    739\u001b[0m     value \u001b[38;5;241m=\u001b[39m \u001b[38;5;124mf\u001b[39m\u001b[38;5;124m'\u001b[39m\u001b[38;5;124m[name=\u001b[39m\u001b[38;5;124m\"\u001b[39m\u001b[38;5;132;01m{\u001b[39;00mvalue\u001b[38;5;132;01m}\u001b[39;00m\u001b[38;5;124m\"\u001b[39m\u001b[38;5;124m]\u001b[39m\u001b[38;5;124m'\u001b[39m\n\u001b[1;32m--> 741\u001b[0m \u001b[38;5;28;01mreturn\u001b[39;00m \u001b[38;5;28mself\u001b[39m\u001b[38;5;241m.\u001b[39mexecute(Command\u001b[38;5;241m.\u001b[39mFIND_ELEMENT, {\u001b[38;5;124m\"\u001b[39m\u001b[38;5;124musing\u001b[39m\u001b[38;5;124m\"\u001b[39m: by, \u001b[38;5;124m\"\u001b[39m\u001b[38;5;124mvalue\u001b[39m\u001b[38;5;124m\"\u001b[39m: value})[\u001b[38;5;124m\"\u001b[39m\u001b[38;5;124mvalue\u001b[39m\u001b[38;5;124m\"\u001b[39m]\n",
      "File \u001b[1;32m~\\anaconda3\\Lib\\site-packages\\selenium\\webdriver\\remote\\webdriver.py:347\u001b[0m, in \u001b[0;36mWebDriver.execute\u001b[1;34m(self, driver_command, params)\u001b[0m\n\u001b[0;32m    345\u001b[0m response \u001b[38;5;241m=\u001b[39m \u001b[38;5;28mself\u001b[39m\u001b[38;5;241m.\u001b[39mcommand_executor\u001b[38;5;241m.\u001b[39mexecute(driver_command, params)\n\u001b[0;32m    346\u001b[0m \u001b[38;5;28;01mif\u001b[39;00m response:\n\u001b[1;32m--> 347\u001b[0m     \u001b[38;5;28mself\u001b[39m\u001b[38;5;241m.\u001b[39merror_handler\u001b[38;5;241m.\u001b[39mcheck_response(response)\n\u001b[0;32m    348\u001b[0m     response[\u001b[38;5;124m\"\u001b[39m\u001b[38;5;124mvalue\u001b[39m\u001b[38;5;124m\"\u001b[39m] \u001b[38;5;241m=\u001b[39m \u001b[38;5;28mself\u001b[39m\u001b[38;5;241m.\u001b[39m_unwrap_value(response\u001b[38;5;241m.\u001b[39mget(\u001b[38;5;124m\"\u001b[39m\u001b[38;5;124mvalue\u001b[39m\u001b[38;5;124m\"\u001b[39m, \u001b[38;5;28;01mNone\u001b[39;00m))\n\u001b[0;32m    349\u001b[0m     \u001b[38;5;28;01mreturn\u001b[39;00m response\n",
      "File \u001b[1;32m~\\anaconda3\\Lib\\site-packages\\selenium\\webdriver\\remote\\errorhandler.py:229\u001b[0m, in \u001b[0;36mErrorHandler.check_response\u001b[1;34m(self, response)\u001b[0m\n\u001b[0;32m    227\u001b[0m         alert_text \u001b[38;5;241m=\u001b[39m value[\u001b[38;5;124m\"\u001b[39m\u001b[38;5;124malert\u001b[39m\u001b[38;5;124m\"\u001b[39m]\u001b[38;5;241m.\u001b[39mget(\u001b[38;5;124m\"\u001b[39m\u001b[38;5;124mtext\u001b[39m\u001b[38;5;124m\"\u001b[39m)\n\u001b[0;32m    228\u001b[0m     \u001b[38;5;28;01mraise\u001b[39;00m exception_class(message, screen, stacktrace, alert_text)  \u001b[38;5;66;03m# type: ignore[call-arg]  # mypy is not smart enough here\u001b[39;00m\n\u001b[1;32m--> 229\u001b[0m \u001b[38;5;28;01mraise\u001b[39;00m exception_class(message, screen, stacktrace)\n",
      "\u001b[1;31mNoSuchWindowException\u001b[0m: Message: no such window: target window already closed\nfrom unknown error: web view not found\n  (Session info: chrome=121.0.6167.185)\nStacktrace:\n\tGetHandleVerifier [0x00007FF675D27012+3522402]\n\t(No symbol) [0x00007FF675948352]\n\t(No symbol) [0x00007FF6757F5ABB]\n\t(No symbol) [0x00007FF6757D287C]\n\t(No symbol) [0x00007FF675865D97]\n\t(No symbol) [0x00007FF67587B3CF]\n\t(No symbol) [0x00007FF67585EE03]\n\t(No symbol) [0x00007FF67582F4D4]\n\t(No symbol) [0x00007FF6758305F1]\n\tGetHandleVerifier [0x00007FF675D59B9D+3730157]\n\tGetHandleVerifier [0x00007FF675DAF02D+4079485]\n\tGetHandleVerifier [0x00007FF675DA75D3+4048163]\n\tGetHandleVerifier [0x00007FF675A7A649+718233]\n\t(No symbol) [0x00007FF675954A3F]\n\t(No symbol) [0x00007FF67594FA94]\n\t(No symbol) [0x00007FF67594FBC2]\n\t(No symbol) [0x00007FF67593F2E4]\n\tBaseThreadInitThunk [0x00007FFDEB1D7344+20]\n\tRtlUserThreadStart [0x00007FFDEBD626B1+33]\n"
     ]
    }
   ],
   "source": [
    "#쌤풀이\n",
    "# 상품명, 가격, 카테고리 정보를 절대적인 위치로 가져와보자!\n",
    "title = driver.find_element(By.CSS_SELECTOR,'#itemcase_basic > div.box__item-title > h1').text\n",
    "price = driver.find_element(By.CSS_SELECTOR,'#itemcase_basic > div.box__item-title > div.price > span:nth-child(2) > strong').text\n",
    "cate = driver.find_element(By.CSS_SELECTOR,'body > div.location-navi > ul > li.on > a').text\n",
    "print(title, price, cate, sep='\\n')"
   ]
  },
  {
   "cell_type": "code",
   "execution_count": 83,
   "id": "df5a9165",
   "metadata": {},
   "outputs": [
    {
     "ename": "NoSuchWindowException",
     "evalue": "Message: no such window: target window already closed\nfrom unknown error: web view not found\n  (Session info: chrome=121.0.6167.185)\nStacktrace:\n\tGetHandleVerifier [0x00007FF675D27012+3522402]\n\t(No symbol) [0x00007FF675948352]\n\t(No symbol) [0x00007FF6757F5ABB]\n\t(No symbol) [0x00007FF6757D287C]\n\t(No symbol) [0x00007FF675865D97]\n\t(No symbol) [0x00007FF67587B3CF]\n\t(No symbol) [0x00007FF67585EE03]\n\t(No symbol) [0x00007FF67582F4D4]\n\t(No symbol) [0x00007FF6758305F1]\n\tGetHandleVerifier [0x00007FF675D59B9D+3730157]\n\tGetHandleVerifier [0x00007FF675DAF02D+4079485]\n\tGetHandleVerifier [0x00007FF675DA75D3+4048163]\n\tGetHandleVerifier [0x00007FF675A7A649+718233]\n\t(No symbol) [0x00007FF675954A3F]\n\t(No symbol) [0x00007FF67594FA94]\n\t(No symbol) [0x00007FF67594FBC2]\n\t(No symbol) [0x00007FF67593F2E4]\n\tBaseThreadInitThunk [0x00007FFDEB1D7344+20]\n\tRtlUserThreadStart [0x00007FFDEBD626B1+33]\n",
     "output_type": "error",
     "traceback": [
      "\u001b[1;31m---------------------------------------------------------------------------\u001b[0m",
      "\u001b[1;31mNoSuchWindowException\u001b[0m                     Traceback (most recent call last)",
      "Cell \u001b[1;32mIn[83], line 3\u001b[0m\n\u001b[0;32m      1\u001b[0m \u001b[38;5;66;03m# 자영혼자\u001b[39;00m\n\u001b[0;32m      2\u001b[0m driver \u001b[38;5;241m=\u001b[39m wb\u001b[38;5;241m.\u001b[39mChrome()\n\u001b[1;32m----> 3\u001b[0m driver\u001b[38;5;241m.\u001b[39mget(\u001b[38;5;124m'\u001b[39m\u001b[38;5;124mhttp://corners.gmarket.co.kr/Bestsellers\u001b[39m\u001b[38;5;124m'\u001b[39m)\n\u001b[0;32m      4\u001b[0m driver\u001b[38;5;241m.\u001b[39mfind_element(By\u001b[38;5;241m.\u001b[39mCLASS_NAME,\u001b[38;5;124m'\u001b[39m\u001b[38;5;124mimage__lazy.image__load\u001b[39m\u001b[38;5;124m'\u001b[39m)\u001b[38;5;241m.\u001b[39mclick()\n\u001b[0;32m      5\u001b[0m title \u001b[38;5;241m=\u001b[39m driver\u001b[38;5;241m.\u001b[39mfind_element(By\u001b[38;5;241m.\u001b[39mCSS_SELECTOR,\u001b[38;5;124m'\u001b[39m\u001b[38;5;124m#itemcase_basic > div.box__item-title > h1\u001b[39m\u001b[38;5;124m'\u001b[39m)\u001b[38;5;241m.\u001b[39mtext\n",
      "File \u001b[1;32m~\\anaconda3\\Lib\\site-packages\\selenium\\webdriver\\remote\\webdriver.py:356\u001b[0m, in \u001b[0;36mWebDriver.get\u001b[1;34m(self, url)\u001b[0m\n\u001b[0;32m    354\u001b[0m \u001b[38;5;28;01mdef\u001b[39;00m \u001b[38;5;21mget\u001b[39m(\u001b[38;5;28mself\u001b[39m, url: \u001b[38;5;28mstr\u001b[39m) \u001b[38;5;241m-\u001b[39m\u001b[38;5;241m>\u001b[39m \u001b[38;5;28;01mNone\u001b[39;00m:\n\u001b[0;32m    355\u001b[0m \u001b[38;5;250m    \u001b[39m\u001b[38;5;124;03m\"\"\"Loads a web page in the current browser session.\"\"\"\u001b[39;00m\n\u001b[1;32m--> 356\u001b[0m     \u001b[38;5;28mself\u001b[39m\u001b[38;5;241m.\u001b[39mexecute(Command\u001b[38;5;241m.\u001b[39mGET, {\u001b[38;5;124m\"\u001b[39m\u001b[38;5;124murl\u001b[39m\u001b[38;5;124m\"\u001b[39m: url})\n",
      "File \u001b[1;32m~\\anaconda3\\Lib\\site-packages\\selenium\\webdriver\\remote\\webdriver.py:347\u001b[0m, in \u001b[0;36mWebDriver.execute\u001b[1;34m(self, driver_command, params)\u001b[0m\n\u001b[0;32m    345\u001b[0m response \u001b[38;5;241m=\u001b[39m \u001b[38;5;28mself\u001b[39m\u001b[38;5;241m.\u001b[39mcommand_executor\u001b[38;5;241m.\u001b[39mexecute(driver_command, params)\n\u001b[0;32m    346\u001b[0m \u001b[38;5;28;01mif\u001b[39;00m response:\n\u001b[1;32m--> 347\u001b[0m     \u001b[38;5;28mself\u001b[39m\u001b[38;5;241m.\u001b[39merror_handler\u001b[38;5;241m.\u001b[39mcheck_response(response)\n\u001b[0;32m    348\u001b[0m     response[\u001b[38;5;124m\"\u001b[39m\u001b[38;5;124mvalue\u001b[39m\u001b[38;5;124m\"\u001b[39m] \u001b[38;5;241m=\u001b[39m \u001b[38;5;28mself\u001b[39m\u001b[38;5;241m.\u001b[39m_unwrap_value(response\u001b[38;5;241m.\u001b[39mget(\u001b[38;5;124m\"\u001b[39m\u001b[38;5;124mvalue\u001b[39m\u001b[38;5;124m\"\u001b[39m, \u001b[38;5;28;01mNone\u001b[39;00m))\n\u001b[0;32m    349\u001b[0m     \u001b[38;5;28;01mreturn\u001b[39;00m response\n",
      "File \u001b[1;32m~\\anaconda3\\Lib\\site-packages\\selenium\\webdriver\\remote\\errorhandler.py:229\u001b[0m, in \u001b[0;36mErrorHandler.check_response\u001b[1;34m(self, response)\u001b[0m\n\u001b[0;32m    227\u001b[0m         alert_text \u001b[38;5;241m=\u001b[39m value[\u001b[38;5;124m\"\u001b[39m\u001b[38;5;124malert\u001b[39m\u001b[38;5;124m\"\u001b[39m]\u001b[38;5;241m.\u001b[39mget(\u001b[38;5;124m\"\u001b[39m\u001b[38;5;124mtext\u001b[39m\u001b[38;5;124m\"\u001b[39m)\n\u001b[0;32m    228\u001b[0m     \u001b[38;5;28;01mraise\u001b[39;00m exception_class(message, screen, stacktrace, alert_text)  \u001b[38;5;66;03m# type: ignore[call-arg]  # mypy is not smart enough here\u001b[39;00m\n\u001b[1;32m--> 229\u001b[0m \u001b[38;5;28;01mraise\u001b[39;00m exception_class(message, screen, stacktrace)\n",
      "\u001b[1;31mNoSuchWindowException\u001b[0m: Message: no such window: target window already closed\nfrom unknown error: web view not found\n  (Session info: chrome=121.0.6167.185)\nStacktrace:\n\tGetHandleVerifier [0x00007FF675D27012+3522402]\n\t(No symbol) [0x00007FF675948352]\n\t(No symbol) [0x00007FF6757F5ABB]\n\t(No symbol) [0x00007FF6757D287C]\n\t(No symbol) [0x00007FF675865D97]\n\t(No symbol) [0x00007FF67587B3CF]\n\t(No symbol) [0x00007FF67585EE03]\n\t(No symbol) [0x00007FF67582F4D4]\n\t(No symbol) [0x00007FF6758305F1]\n\tGetHandleVerifier [0x00007FF675D59B9D+3730157]\n\tGetHandleVerifier [0x00007FF675DAF02D+4079485]\n\tGetHandleVerifier [0x00007FF675DA75D3+4048163]\n\tGetHandleVerifier [0x00007FF675A7A649+718233]\n\t(No symbol) [0x00007FF675954A3F]\n\t(No symbol) [0x00007FF67594FA94]\n\t(No symbol) [0x00007FF67594FBC2]\n\t(No symbol) [0x00007FF67593F2E4]\n\tBaseThreadInitThunk [0x00007FFDEB1D7344+20]\n\tRtlUserThreadStart [0x00007FFDEBD626B1+33]\n"
     ]
    }
   ],
   "source": [
    "# 자영혼자\n",
    "driver = wb.Chrome()\n",
    "driver.get('http://corners.gmarket.co.kr/Bestsellers')\n",
    "driver.find_element(By.CLASS_NAME,'image__lazy.image__load').click()\n",
    "title = driver.find_element(By.CSS_SELECTOR,'#itemcase_basic > div.box__item-title > h1').text\n",
    "price = driver.find_element(By.CSS_SELECTOR,'#itemcase_basic > div.box__item-title > div.price > span:nth-child(2) > strong').text\n",
    "cate = driver.find_element(By.CSS_SELECTOR,'body > div.location-navi > ul > li.on > a').text\n",
    "print(title, price, cate, sep='\\n')\n",
    "\n",
    "driver.back()"
   ]
  },
  {
   "cell_type": "code",
   "execution_count": null,
   "id": "dd54c23b",
   "metadata": {},
   "outputs": [],
   "source": [
    "# 뒤로가기\n",
    "driver.back()"
   ]
  },
  {
   "cell_type": "code",
   "execution_count": null,
   "id": "bb567c8e",
   "metadata": {},
   "outputs": [],
   "source": [
    "# 자영혼자 뒤로가기 해보기\n",
    "driver.find_elements(By.CLASS_NAME,'image__lazy.image__load')[1].click()\n",
    "title = driver.find_element(By.CSS_SELECTOR,'#itemcase_basic > div.box__item-title > h1').text\n",
    "price = driver.find_element(By.CSS_SELECTOR,'#itemcase_basic > div.box__item-title > div.price > span:nth-child(2) > strong').text\n",
    "cate = driver.find_element(By.CSS_SELECTOR,'body > div.location-navi > ul > li.on > a').text"
   ]
  },
  {
   "cell_type": "markdown",
   "id": "fb271a99",
   "metadata": {},
   "source": [
    "### 상위 10"
   ]
  },
  {
   "cell_type": "code",
   "execution_count": 87,
   "id": "9bffc4ca",
   "metadata": {},
   "outputs": [
    {
     "name": "stdout",
     "output_type": "stream",
     "text": [
      "대한민국 대표 그림 동화 작가 - 백희나 그림책 - 골라담기 핫딜\n",
      "6,600원\n",
      "유아\n",
      "(15%+5%쿠폰) 시크릿무드 역마진 단하루/ 겨울마감+봄맞이 BEST신상 데일리룩 가디건/니트/자켓/팬츠/스커트\n",
      "10,000원\n",
      "라운드넥티셔츠\n",
      "LIVE체감가6만4천원 갤럭시 버즈2 무선 블루투스 이어폰 SM-R177 +신세계5천원+선물포장 증정 (G라이브)\n",
      "94,090원\n",
      "블루투스이어폰\n",
      "삼성전자 갤럭시 워치6 블루투스 40mm 최대혜택가 187000 신세계 상품권 2만+보호필름+선물포장+2종혜택\n",
      "287,880원\n",
      "스마트워치\n",
      "(신세계타임스퀘어점패션관)신상 최저가 순면 기본 무지 반팔 티셔츠 3+1PACK PHD5TR3900\n",
      "17,930원\n",
      "기본/라운드/브이넥\n",
      "(유니버스클럽 전용 쿠폰적용가 5천원) 메가박스 일반예매권 2D-주중/주말\n",
      "15,000원\n",
      "메가박스\n",
      "투게더 6종 3+2개 골라담기 +구매기프트 3개\n",
      "29,200원\n",
      "아이스크림\n",
      "캡슐당 419원)일리 네스프레소 호환 커피 캡슐 6종 100캡슐 맛선택가능\n",
      "55,900원\n",
      "캡슐커피\n",
      "닥터페퍼 제로 355ML 24입 1박스 탄산음료\n",
      "21,900원\n",
      "탄산/기능성음료\n",
      "(신세계본점)본점단독블루독베이비 경량패딩점퍼 60000원 (43A19-113-99)\n",
      "45,000원\n",
      "유아동점퍼\n"
     ]
    }
   ],
   "source": [
    "# 라이브러리 불러오기\n",
    "from selenium import webdriver as wb\n",
    "from selenium.webdriver.common.keys import Keys\n",
    "from selenium.webdriver.common.by import By\n",
    "import pandas as pd\n",
    "import time #쉬는시간\n",
    "\n",
    "# gmarket 페이지 열기\n",
    "driver = wb.Chrome()\n",
    "driver.get('http://corners.gmarket.co.kr/Bestsellers')\n",
    "time.sleep(1)\n",
    "    \n",
    "#반복문\n",
    "for i in range(10):\n",
    "    # 이미지 클릭\n",
    "    driver.find_elements(By.CLASS_NAME,'image__lazy.image__load')[i].click()\n",
    "    time.sleep(1)\n",
    "    \n",
    "    # 상품명, 가격, 카테고리 정보를 절대적인 위치로 가져와보자!\n",
    "    title = driver.find_element(By.CSS_SELECTOR,'#itemcase_basic > div.box__item-title > h1').text\n",
    "    price = driver.find_element(By.CSS_SELECTOR,'#itemcase_basic > div.box__item-title > div.price > span:nth-child(2) > strong').text\n",
    "    cate = driver.find_element(By.CSS_SELECTOR,'body > div.location-navi > ul > li.on > a').text\n",
    "    print(title, price, cate, sep='\\n')\n",
    "    # 뒤로가기\n",
    "    driver.back()\n",
    "    time.sleep(1)\n",
    "    "
   ]
  },
  {
   "cell_type": "code",
   "execution_count": 91,
   "id": "f5dfcfc9",
   "metadata": {
    "scrolled": true
   },
   "outputs": [
    {
     "name": "stderr",
     "output_type": "stream",
     "text": [
      "100%|██████████████████████████████████████████████████████████████████████████████████| 10/10 [00:53<00:00,  5.38s/it]\n"
     ]
    }
   ],
   "source": [
    "\n",
    "\n",
    "# 라이브러리 불러오기\n",
    "from selenium import webdriver as wb\n",
    "from selenium.webdriver.common.keys import Keys\n",
    "from selenium.webdriver.common.by import By\n",
    "import pandas as pd\n",
    "import time #쉬는시간\n",
    "\n",
    "# 반복 진행상황을 로딩바로 확인\n",
    "from tqdm import tqdm\n",
    "\n",
    "# gmarket 페이지 열기\n",
    "driver = wb.Chrome()\n",
    "driver.get('http://corners.gmarket.co.kr/Bestsellers')\n",
    "time.sleep(1)\n",
    "    \n",
    "#반복문\n",
    "for i in tqdm(range(10)):\n",
    "    # 이미지 클릭\n",
    "    driver.find_elements(By.CLASS_NAME,'image__lazy.image__load')[i].click()\n",
    "    time.sleep(1)\n",
    "    \n",
    "    # 상품명, 가격, 카테고리 정보를 절대적인 위치로 가져와보자!\n",
    "    title = driver.find_element(By.CSS_SELECTOR,'#itemcase_basic > div.box__item-title > h1').text\n",
    "    price = driver.find_element(By.CSS_SELECTOR,'#itemcase_basic > div.box__item-title > div.price > span:nth-child(2) > strong').text\n",
    "    cate = driver.find_element(By.CSS_SELECTOR,'body > div.location-navi > ul > li.on > a').text\n",
    "\n",
    "    # 뒤로가기\n",
    "    driver.back()\n",
    "    time.sleep(1)\n",
    "    "
   ]
  },
  {
   "cell_type": "code",
   "execution_count": 109,
   "id": "979cca6e",
   "metadata": {
    "scrolled": true
   },
   "outputs": [
    {
     "name": "stderr",
     "output_type": "stream",
     "text": [
      " 40%|█████████████████████████████████▏                                                 | 4/10 [00:21<00:32,  5.40s/it]\n"
     ]
    },
    {
     "ename": "NoSuchElementException",
     "evalue": "Message: no such element: Unable to locate element: {\"method\":\"css selector\",\"selector\":\"#gBestWrap > div.best-list > ul > li:nth-child(5) > div.thumb > a > img\"}\n  (Session info: chrome=121.0.6167.185); For documentation on this error, please visit: https://www.selenium.dev/documentation/webdriver/troubleshooting/errors#no-such-element-exception\nStacktrace:\n\tGetHandleVerifier [0x00007FF675D27012+3522402]\n\t(No symbol) [0x00007FF675948352]\n\t(No symbol) [0x00007FF6757F5ABB]\n\t(No symbol) [0x00007FF67583BF0E]\n\t(No symbol) [0x00007FF67583C08C]\n\t(No symbol) [0x00007FF67587E437]\n\t(No symbol) [0x00007FF67585F09F]\n\t(No symbol) [0x00007FF67587BDA3]\n\t(No symbol) [0x00007FF67585EE03]\n\t(No symbol) [0x00007FF67582F4D4]\n\t(No symbol) [0x00007FF6758305F1]\n\tGetHandleVerifier [0x00007FF675D59B9D+3730157]\n\tGetHandleVerifier [0x00007FF675DAF02D+4079485]\n\tGetHandleVerifier [0x00007FF675DA75D3+4048163]\n\tGetHandleVerifier [0x00007FF675A7A649+718233]\n\t(No symbol) [0x00007FF675954A3F]\n\t(No symbol) [0x00007FF67594FA94]\n\t(No symbol) [0x00007FF67594FBC2]\n\t(No symbol) [0x00007FF67593F2E4]\n\tBaseThreadInitThunk [0x00007FFDEB1D7344+20]\n\tRtlUserThreadStart [0x00007FFDEBD626B1+33]\n",
     "output_type": "error",
     "traceback": [
      "\u001b[1;31m---------------------------------------------------------------------------\u001b[0m",
      "\u001b[1;31mNoSuchElementException\u001b[0m                    Traceback (most recent call last)",
      "Cell \u001b[1;32mIn[109], line 32\u001b[0m\n\u001b[0;32m     29\u001b[0m \u001b[38;5;66;03m#반복문\u001b[39;00m\n\u001b[0;32m     30\u001b[0m \u001b[38;5;28;01mfor\u001b[39;00m i \u001b[38;5;129;01min\u001b[39;00m tqdm(\u001b[38;5;28mrange\u001b[39m(\u001b[38;5;241m10\u001b[39m)):\n\u001b[0;32m     31\u001b[0m     \u001b[38;5;66;03m# 이미지 클릭\u001b[39;00m\n\u001b[1;32m---> 32\u001b[0m     driver\u001b[38;5;241m.\u001b[39mfind_element(By\u001b[38;5;241m.\u001b[39mCSS_SELECTOR, \u001b[38;5;124mf\u001b[39m\u001b[38;5;124m'\u001b[39m\u001b[38;5;124m#gBestWrap > div.best-list > ul > li:nth-child(\u001b[39m\u001b[38;5;132;01m{\u001b[39;00mi\u001b[38;5;241m+\u001b[39m\u001b[38;5;241m1\u001b[39m\u001b[38;5;132;01m}\u001b[39;00m\u001b[38;5;124m) > div.thumb > a > img\u001b[39m\u001b[38;5;124m'\u001b[39m)\u001b[38;5;241m.\u001b[39mclick()\n\u001b[0;32m     33\u001b[0m     time\u001b[38;5;241m.\u001b[39msleep(\u001b[38;5;241m1\u001b[39m)\n\u001b[0;32m     35\u001b[0m     \u001b[38;5;66;03m# 상품명, 가격, 카테고리 정보를 절대적인 위치로 가져와보자!\u001b[39;00m\n",
      "File \u001b[1;32m~\\anaconda3\\Lib\\site-packages\\selenium\\webdriver\\remote\\webdriver.py:741\u001b[0m, in \u001b[0;36mWebDriver.find_element\u001b[1;34m(self, by, value)\u001b[0m\n\u001b[0;32m    738\u001b[0m     by \u001b[38;5;241m=\u001b[39m By\u001b[38;5;241m.\u001b[39mCSS_SELECTOR\n\u001b[0;32m    739\u001b[0m     value \u001b[38;5;241m=\u001b[39m \u001b[38;5;124mf\u001b[39m\u001b[38;5;124m'\u001b[39m\u001b[38;5;124m[name=\u001b[39m\u001b[38;5;124m\"\u001b[39m\u001b[38;5;132;01m{\u001b[39;00mvalue\u001b[38;5;132;01m}\u001b[39;00m\u001b[38;5;124m\"\u001b[39m\u001b[38;5;124m]\u001b[39m\u001b[38;5;124m'\u001b[39m\n\u001b[1;32m--> 741\u001b[0m \u001b[38;5;28;01mreturn\u001b[39;00m \u001b[38;5;28mself\u001b[39m\u001b[38;5;241m.\u001b[39mexecute(Command\u001b[38;5;241m.\u001b[39mFIND_ELEMENT, {\u001b[38;5;124m\"\u001b[39m\u001b[38;5;124musing\u001b[39m\u001b[38;5;124m\"\u001b[39m: by, \u001b[38;5;124m\"\u001b[39m\u001b[38;5;124mvalue\u001b[39m\u001b[38;5;124m\"\u001b[39m: value})[\u001b[38;5;124m\"\u001b[39m\u001b[38;5;124mvalue\u001b[39m\u001b[38;5;124m\"\u001b[39m]\n",
      "File \u001b[1;32m~\\anaconda3\\Lib\\site-packages\\selenium\\webdriver\\remote\\webdriver.py:347\u001b[0m, in \u001b[0;36mWebDriver.execute\u001b[1;34m(self, driver_command, params)\u001b[0m\n\u001b[0;32m    345\u001b[0m response \u001b[38;5;241m=\u001b[39m \u001b[38;5;28mself\u001b[39m\u001b[38;5;241m.\u001b[39mcommand_executor\u001b[38;5;241m.\u001b[39mexecute(driver_command, params)\n\u001b[0;32m    346\u001b[0m \u001b[38;5;28;01mif\u001b[39;00m response:\n\u001b[1;32m--> 347\u001b[0m     \u001b[38;5;28mself\u001b[39m\u001b[38;5;241m.\u001b[39merror_handler\u001b[38;5;241m.\u001b[39mcheck_response(response)\n\u001b[0;32m    348\u001b[0m     response[\u001b[38;5;124m\"\u001b[39m\u001b[38;5;124mvalue\u001b[39m\u001b[38;5;124m\"\u001b[39m] \u001b[38;5;241m=\u001b[39m \u001b[38;5;28mself\u001b[39m\u001b[38;5;241m.\u001b[39m_unwrap_value(response\u001b[38;5;241m.\u001b[39mget(\u001b[38;5;124m\"\u001b[39m\u001b[38;5;124mvalue\u001b[39m\u001b[38;5;124m\"\u001b[39m, \u001b[38;5;28;01mNone\u001b[39;00m))\n\u001b[0;32m    349\u001b[0m     \u001b[38;5;28;01mreturn\u001b[39;00m response\n",
      "File \u001b[1;32m~\\anaconda3\\Lib\\site-packages\\selenium\\webdriver\\remote\\errorhandler.py:229\u001b[0m, in \u001b[0;36mErrorHandler.check_response\u001b[1;34m(self, response)\u001b[0m\n\u001b[0;32m    227\u001b[0m         alert_text \u001b[38;5;241m=\u001b[39m value[\u001b[38;5;124m\"\u001b[39m\u001b[38;5;124malert\u001b[39m\u001b[38;5;124m\"\u001b[39m]\u001b[38;5;241m.\u001b[39mget(\u001b[38;5;124m\"\u001b[39m\u001b[38;5;124mtext\u001b[39m\u001b[38;5;124m\"\u001b[39m)\n\u001b[0;32m    228\u001b[0m     \u001b[38;5;28;01mraise\u001b[39;00m exception_class(message, screen, stacktrace, alert_text)  \u001b[38;5;66;03m# type: ignore[call-arg]  # mypy is not smart enough here\u001b[39;00m\n\u001b[1;32m--> 229\u001b[0m \u001b[38;5;28;01mraise\u001b[39;00m exception_class(message, screen, stacktrace)\n",
      "\u001b[1;31mNoSuchElementException\u001b[0m: Message: no such element: Unable to locate element: {\"method\":\"css selector\",\"selector\":\"#gBestWrap > div.best-list > ul > li:nth-child(5) > div.thumb > a > img\"}\n  (Session info: chrome=121.0.6167.185); For documentation on this error, please visit: https://www.selenium.dev/documentation/webdriver/troubleshooting/errors#no-such-element-exception\nStacktrace:\n\tGetHandleVerifier [0x00007FF675D27012+3522402]\n\t(No symbol) [0x00007FF675948352]\n\t(No symbol) [0x00007FF6757F5ABB]\n\t(No symbol) [0x00007FF67583BF0E]\n\t(No symbol) [0x00007FF67583C08C]\n\t(No symbol) [0x00007FF67587E437]\n\t(No symbol) [0x00007FF67585F09F]\n\t(No symbol) [0x00007FF67587BDA3]\n\t(No symbol) [0x00007FF67585EE03]\n\t(No symbol) [0x00007FF67582F4D4]\n\t(No symbol) [0x00007FF6758305F1]\n\tGetHandleVerifier [0x00007FF675D59B9D+3730157]\n\tGetHandleVerifier [0x00007FF675DAF02D+4079485]\n\tGetHandleVerifier [0x00007FF675DA75D3+4048163]\n\tGetHandleVerifier [0x00007FF675A7A649+718233]\n\t(No symbol) [0x00007FF675954A3F]\n\t(No symbol) [0x00007FF67594FA94]\n\t(No symbol) [0x00007FF67594FBC2]\n\t(No symbol) [0x00007FF67593F2E4]\n\tBaseThreadInitThunk [0x00007FFDEB1D7344+20]\n\tRtlUserThreadStart [0x00007FFDEBD626B1+33]\n"
     ]
    }
   ],
   "source": [
    "##자영풀이\n",
    "\n",
    "# copy selector 사용해서 10개 데이터 가져오기\n",
    "\n",
    "\n",
    "\n",
    "# 라이브러리 불러오기\n",
    "from selenium import webdriver as wb\n",
    "from selenium.webdriver.common.keys import Keys\n",
    "from selenium.webdriver.common.by import By\n",
    "import pandas as pd\n",
    "import time #쉬는시간\n",
    "\n",
    "# 반복 진행상황을 로딩바로 확인\n",
    "from tqdm import tqdm\n",
    "\n",
    "# gmarket 페이지 열기\n",
    "driver = wb.Chrome()\n",
    "driver.get('http://corners.gmarket.co.kr/Bestsellers')\n",
    "time.sleep(1)\n",
    "\n",
    "\n",
    "#리스트\n",
    "title_list = []\n",
    "price_list = []\n",
    "cate_list = []\n",
    "\n",
    "\n",
    "#반복문\n",
    "for i in tqdm(range(10)):\n",
    "    # 이미지 클릭\n",
    "    driver.find_element(By.CSS_SELECTOR, f'#gBestWrap > div.best-list > ul > li:nth-child({i+1}) > div.thumb > a > img').click()\n",
    "    time.sleep(1)\n",
    "    \n",
    "    # 상품명, 가격, 카테고리 정보를 절대적인 위치로 가져와보자!\n",
    "    title_list.append(driver.find_element(By.CSS_SELECTOR,'#itemcase_basic > div.box__item-title > h1').text)\n",
    "    price_list.append(driver.find_element(By.CSS_SELECTOR,'#itemcase_basic > div.box__item-title > div.price > span:nth-child(2) > strong').text)\n",
    "    cate_list.append(driver.find_element(By.CSS_SELECTOR,'body > div.location-navi > ul > li.on > a').text)\n",
    "    \n",
    "    # 뒤로가기\n",
    "    driver.back()\n",
    "    time.sleep(1)\n",
    "    "
   ]
  },
  {
   "cell_type": "code",
   "execution_count": null,
   "id": "b9aabbc5",
   "metadata": {},
   "outputs": [],
   "source": []
  },
  {
   "cell_type": "code",
   "execution_count": null,
   "id": "838ee072",
   "metadata": {},
   "outputs": [],
   "source": [
    "#gBestWrap > div.best-list > ul > li:nth-child(1) > div.thumb > a > img\n",
    "#gBestWrap > div.best-list > ul > li:nth-child(2) > div.thumb > a > img\n",
    "#gBestWrap > div.best-list > ul > li:nth-child(3) > div.thumb > a > img\n",
    "#gBestWrap > div.best-list > ul > li:nth-child(4) > div.thumb > a > img\n",
    "#gBestWrap > div.best-list > ul > li:nth-child(5) > div.thumb > a > img\n",
    "#gBestWrap > div.best-list > ul > li:nth-child(6) > div.thumb > a > img\n",
    "#gBestWrap > div.best-list > ul > li:nth-child(7) > div.thumb > a > img\n",
    "\n",
    "\n",
    "# 쌤풀이\n",
    "for i in range(10)\n",
    "    driver.find_element(By.CSS_SELECTOR, f'#gBestWrap > div.best-list > ul > li:nth-child({i+1}) > div.thumb > a > img').click()\n"
   ]
  },
  {
   "cell_type": "code",
   "execution_count": null,
   "id": "5006531a",
   "metadata": {},
   "outputs": [],
   "source": []
  }
 ],
 "metadata": {
  "kernelspec": {
   "display_name": "Python 3 (ipykernel)",
   "language": "python",
   "name": "python3"
  },
  "language_info": {
   "codemirror_mode": {
    "name": "ipython",
    "version": 3
   },
   "file_extension": ".py",
   "mimetype": "text/x-python",
   "name": "python",
   "nbconvert_exporter": "python",
   "pygments_lexer": "ipython3",
   "version": "3.11.5"
  }
 },
 "nbformat": 4,
 "nbformat_minor": 5
}
