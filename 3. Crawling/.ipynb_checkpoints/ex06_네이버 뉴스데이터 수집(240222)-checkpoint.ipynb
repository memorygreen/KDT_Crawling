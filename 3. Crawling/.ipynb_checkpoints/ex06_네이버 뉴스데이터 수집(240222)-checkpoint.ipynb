{
 "cells": [
  {
   "cell_type": "code",
   "execution_count": 4,
   "id": "db6edbb9",
   "metadata": {},
   "outputs": [],
   "source": [
    "# 라이브러리 불러오기\n",
    "from selenium  import webdriver as wb\n",
    "from selenium.webdriver.common.keys import Keys # 입력, 컴퓨터용 키보드\n",
    "from selenium.webdriver.common.by import By # 구분\n",
    "import pandas as pd"
   ]
  },
  {
   "cell_type": "code",
   "execution_count": 7,
   "id": "78342e29",
   "metadata": {},
   "outputs": [],
   "source": [
    "# 네이버메인 페이지에서 > 키워드 검색> 뉴스 탭 선택 > 뉴스 제목 수집"
   ]
  },
  {
   "cell_type": "code",
   "execution_count": 33,
   "id": "c997d1cc",
   "metadata": {},
   "outputs": [],
   "source": [
    "# 1. 네이버 메인페이지 열기\n",
    "driver = wb.Chrome()\n",
    "driver.get('https://www.naver.com/')"
   ]
  },
  {
   "cell_type": "code",
   "execution_count": 34,
   "id": "e3a8fe01",
   "metadata": {},
   "outputs": [
    {
     "name": "stdout",
     "output_type": "stream",
     "text": [
      "키워드를 입력하세요~스마트인재개발원\n"
     ]
    }
   ],
   "source": [
    "# 키워드 검색\n",
    "search = driver.find_element(By.ID,'query')\n",
    "keyword = input('키워드를 입력하세요~')\n",
    "search.send_keys(keyword)\n",
    "search.send_keys(Keys.ENTER)"
   ]
  },
  {
   "cell_type": "code",
   "execution_count": 29,
   "id": "9e9d5e82",
   "metadata": {},
   "outputs": [],
   "source": [
    "# 탭 상단의 '뉴스' 클릭\n",
    "# 여러 개의 이름이 같은 태그일 때 (형제가 많을 때 특정 순서의 데이터만 선택\n",
    "# 태그명:nth-child(순서)\n",
    "news = driver.find_element(By.CSS_SELECTOR,'div.api_flicking_wrap._conveyer_root>div:nth-child(1)')\n",
    "news.click()"
   ]
  },
  {
   "cell_type": "code",
   "execution_count": 36,
   "id": "4277baf0",
   "metadata": {},
   "outputs": [],
   "source": [
    "# 탭의 순서가 바뀌게 되었을 경우에는 다른 탭을 클릭하게 되버림!\n",
    "# 써져 있는 텍스트를 통해서 클릭\n",
    "driver.find_element(By.LINK_TEXT,'뉴스').click() #자: 'LINK_TEXT' =>연결돼있는 글씨로 가져와!"
   ]
  },
  {
   "cell_type": "code",
   "execution_count": 42,
   "id": "e1f09b6b",
   "metadata": {},
   "outputs": [
    {
     "data": {
      "text/plain": [
       "\"경북도인재개발원, 올해 '지방시대 주도 인재양성 교육' 스타트\""
      ]
     },
     "execution_count": 42,
     "metadata": {},
     "output_type": "execute_result"
    }
   ],
   "source": [
    "# 뉴스 타이틀 수집!\n",
    "news_tit = driver.find_elements(By.CLASS_NAME,'news_tit')\n",
    "news_tit[0].text\n"
   ]
  },
  {
   "cell_type": "code",
   "execution_count": 44,
   "id": "d45dfef9",
   "metadata": {},
   "outputs": [
    {
     "name": "stdout",
     "output_type": "stream",
     "text": [
      "경북도인재개발원, 올해 '지방시대 주도 인재양성 교육' 스타트\n",
      "\n",
      "경북도 인재개발원, ‘제21기 중견리더양성과정’ 입교식 개최\n",
      "\n",
      "스마트인재개발원, 27일 새로운 무료 공개 강의 'AI 원데이 클래스' 개최\n",
      "\n",
      "스마트인재개발원 2024 새로운'AI 원데이 클래스'개최\n",
      "\n",
      "스마트인재개발원, 취업전략서 무료 배포\n",
      "\n",
      "스마트인재개발원 대기업 합격비법이 담긴 취업전략서 선착순 배포\n",
      "\n",
      "충남도의회 기경위, 지역인재 양성 위한 도립대 환경·정책개선 주문\n",
      "\n",
      "스마트인재개발원 소식지 '세미콜론' 제11호 발간\n",
      "\n",
      "스마트인재개발원, ‘세미콜론’ 제11호 발간\n",
      "\n",
      "첨단, 스마트인재개발원과 첨단기술 인재 교육 위해 협력한다\n",
      "\n"
     ]
    }
   ],
   "source": [
    "## 쌤풀이\n",
    "# 반복문 활용하여 출력\n",
    "for i in news_tit:\n",
    "    print(i.text)\n",
    "    print()"
   ]
  },
  {
   "cell_type": "code",
   "execution_count": null,
   "id": "0c14e752",
   "metadata": {},
   "outputs": [],
   "source": [
    "## 자영풀이\n",
    "for i in range(len(news_tit)):\n",
    "    print(news_tit[i].text)"
   ]
  }
 ],
 "metadata": {
  "kernelspec": {
   "display_name": "Python 3 (ipykernel)",
   "language": "python",
   "name": "python3"
  },
  "language_info": {
   "codemirror_mode": {
    "name": "ipython",
    "version": 3
   },
   "file_extension": ".py",
   "mimetype": "text/x-python",
   "name": "python",
   "nbconvert_exporter": "python",
   "pygments_lexer": "ipython3",
   "version": "3.11.5"
  }
 },
 "nbformat": 4,
 "nbformat_minor": 5
}
