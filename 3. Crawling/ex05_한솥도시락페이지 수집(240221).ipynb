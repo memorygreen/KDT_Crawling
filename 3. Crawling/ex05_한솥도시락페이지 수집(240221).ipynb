{
 "cells": [
  {
   "cell_type": "code",
   "execution_count": 4,
   "id": "4cf4d5f5",
   "metadata": {
    "collapsed": true
   },
   "outputs": [
    {
     "name": "stdout",
     "output_type": "stream",
     "text": [
      "Requirement already satisfied: selenium in c:\\users\\smhrd\\anaconda3\\lib\\site-packages (4.18.1)\n",
      "Requirement already satisfied: urllib3[socks]<3,>=1.26 in c:\\users\\smhrd\\anaconda3\\lib\\site-packages (from selenium) (1.26.16)\n",
      "Requirement already satisfied: trio~=0.17 in c:\\users\\smhrd\\anaconda3\\lib\\site-packages (from selenium) (0.24.0)\n",
      "Requirement already satisfied: trio-websocket~=0.9 in c:\\users\\smhrd\\anaconda3\\lib\\site-packages (from selenium) (0.11.1)\n",
      "Requirement already satisfied: certifi>=2021.10.8 in c:\\users\\smhrd\\anaconda3\\lib\\site-packages (from selenium) (2023.7.22)\n",
      "Requirement already satisfied: typing_extensions>=4.9.0 in c:\\users\\smhrd\\anaconda3\\lib\\site-packages (from selenium) (4.9.0)\n",
      "Requirement already satisfied: attrs>=20.1.0 in c:\\users\\smhrd\\anaconda3\\lib\\site-packages (from trio~=0.17->selenium) (22.1.0)\n",
      "Requirement already satisfied: sortedcontainers in c:\\users\\smhrd\\anaconda3\\lib\\site-packages (from trio~=0.17->selenium) (2.4.0)\n",
      "Requirement already satisfied: idna in c:\\users\\smhrd\\anaconda3\\lib\\site-packages (from trio~=0.17->selenium) (3.4)\n",
      "Requirement already satisfied: outcome in c:\\users\\smhrd\\anaconda3\\lib\\site-packages (from trio~=0.17->selenium) (1.3.0.post0)\n",
      "Requirement already satisfied: sniffio>=1.3.0 in c:\\users\\smhrd\\anaconda3\\lib\\site-packages (from trio~=0.17->selenium) (1.3.0)\n",
      "Requirement already satisfied: cffi>=1.14 in c:\\users\\smhrd\\anaconda3\\lib\\site-packages (from trio~=0.17->selenium) (1.15.1)\n",
      "Requirement already satisfied: wsproto>=0.14 in c:\\users\\smhrd\\anaconda3\\lib\\site-packages (from trio-websocket~=0.9->selenium) (1.2.0)\n",
      "Requirement already satisfied: PySocks!=1.5.7,<2.0,>=1.5.6 in c:\\users\\smhrd\\anaconda3\\lib\\site-packages (from urllib3[socks]<3,>=1.26->selenium) (1.7.1)\n",
      "Requirement already satisfied: pycparser in c:\\users\\smhrd\\anaconda3\\lib\\site-packages (from cffi>=1.14->trio~=0.17->selenium) (2.21)\n",
      "Requirement already satisfied: h11<1,>=0.9.0 in c:\\users\\smhrd\\anaconda3\\lib\\site-packages (from wsproto>=0.14->trio-websocket~=0.9->selenium) (0.14.0)\n"
     ]
    }
   ],
   "source": [
    "# 라이브러리 불러오기\n",
    "!pip install selenium"
   ]
  },
  {
   "cell_type": "code",
   "execution_count": 10,
   "id": "d092986f",
   "metadata": {},
   "outputs": [],
   "source": [
    "from selenium import webdriver as wb\n",
    "\n",
    "from selenium.webdriver.common.keys import Keys\n",
    "\n",
    "from selenium.webdriver.common.by import By\n",
    "\n",
    "import pandas as pd"
   ]
  },
  {
   "cell_type": "code",
   "execution_count": 74,
   "id": "037d12da",
   "metadata": {},
   "outputs": [],
   "source": [
    "# 크롬 브라우저 실행\n",
    "driver = wb.Chrome()"
   ]
  },
  {
   "cell_type": "code",
   "execution_count": 75,
   "id": "bcba91e4",
   "metadata": {},
   "outputs": [],
   "source": [
    "# 페이지 이동(한솥도시락 페이지)\n",
    "driver.get('https://www.hsd.co.kr/menu/menu_list')"
   ]
  },
  {
   "cell_type": "code",
   "execution_count": 76,
   "id": "af10f0e8",
   "metadata": {},
   "outputs": [],
   "source": [
    "##쌤풀이\n",
    "# 라이브러리 불러오기\n",
    "from selenium import webdriver as wb #통제, 제어\n",
    "from selenium.webdriver.common.keys import Keys # 입력, 컴퓨터용 키보드\n",
    "from selenium.webdriver.common.by import By #구분\n",
    "import pandas as pd"
   ]
  },
  {
   "cell_type": "code",
   "execution_count": 77,
   "id": "2c50bd82",
   "metadata": {},
   "outputs": [],
   "source": [
    "#크롬브라우저 실행\n",
    "driver = wb.Chrome()"
   ]
  },
  {
   "cell_type": "code",
   "execution_count": 78,
   "id": "bc2e87cb",
   "metadata": {},
   "outputs": [],
   "source": [
    "# 페이지 이동(한솥도시락 페이지)\n",
    "driver.get('https://www.hsd.co.kr/menu/menu_list')"
   ]
  },
  {
   "cell_type": "code",
   "execution_count": 79,
   "id": "7588735a",
   "metadata": {},
   "outputs": [],
   "source": [
    "# 한솥도시락 페이지의 메뉴 수집하기\n",
    "menu = driver.find_elements(By.CLASS_NAME, 'h.fz_03')"
   ]
  },
  {
   "cell_type": "code",
   "execution_count": 80,
   "id": "2aef1e87",
   "metadata": {},
   "outputs": [
    {
     "data": {
      "text/plain": [
       "'사골 조랭이떡 만둣국'"
      ]
     },
     "execution_count": 80,
     "metadata": {},
     "output_type": "execute_result"
    }
   ],
   "source": [
    "# 첫번째 메뉴의 순수한 콘텐츠만 추출\n",
    "menu[0].text\n",
    "#출력:\n",
    "# '사골 조랭이떡 만둣국'"
   ]
  },
  {
   "cell_type": "code",
   "execution_count": 81,
   "id": "47b8bc08",
   "metadata": {},
   "outputs": [
    {
     "name": "stdout",
     "output_type": "stream",
     "text": [
      "사골 조랭이떡 만둣국\n",
      "한우 함박스테이크 & 반달 돈까스\n",
      "한우함박스테이크&토네이도소세지\n",
      "해바라기\n",
      "매화\n",
      "진달래\n",
      "개나리\n",
      "돈까스도련님 고기고기\n",
      "탕수육도련님 고기고기\n",
      "새치 고기고기\n",
      "돈치 고기고기\n",
      "카츠카츠\n",
      "숯불직화구이\n",
      "소불고기\n",
      "메가치킨제육\n",
      "칠리 찹쌀탕수육도련님\n",
      "동백\n",
      "치킨제육\n",
      "돈까스도련님\n",
      "제육볶음\n",
      "돈치스팸\n",
      "송정식 떡갈비\n",
      "제육 김치찌개 정식\n",
      "제육 김치 부대찌개 정식\n",
      "돈치스팸 김치 부대찌개 정식\n",
      "빅치킨마요 김치 부대찌개 정식\n",
      "치킨마요 김치 부대찌개 정식\n",
      "빅치킨마요 김치찌개 정식\n",
      "치킨마요 김치찌개 정식\n",
      "빅새치마요\n",
      "새치마요\n",
      "메가스팸마요\n",
      "스팸마요\n",
      "메가치킨마요\n",
      "왕치킨마요\n",
      "빅치킨마요\n",
      "치킨마요\n",
      "참치마요\n",
      "돈치마요\n",
      "돈까스 카레\n",
      "잡채볶음밥(중화풍 매운맛)\n",
      "잡채볶음밥(오리지널)\n",
      "스팸 김치볶음밥\n",
      "김치볶음밥\n",
      "스팸 철판볶음밥\n",
      "소불고기 철판볶음밥\n",
      "나시고랭\n",
      "묵은지 김치찌개\n",
      "김치 부대찌개\n",
      "핫 치즈 닭갈비덮밥\n",
      "오리지널 치즈 닭갈비덮밥\n",
      "숯불직화구이 덮밥\n",
      "마파두부 덮밥\n",
      "왕카레돈까스덮밥\n",
      "새우돈까스 덮밥\n",
      "돈까스 덮밥\n",
      "아보카도 소불고기 명란 비빔밥\n",
      "소불고기 감초고추장 비빔밥\n",
      "시골제육 두부강된장 비빔밥\n",
      "참치야채 감초고추장 비빔밥\n",
      "튼튼도시락\n"
     ]
    }
   ],
   "source": [
    "# 전체 메뉴명 확인\n",
    "for i in menu:\n",
    "    print(i.text)\n",
    "# 사골 조랭이떡 만둣국\n",
    "# 한우 함박스테이크 & 반달 돈까스\n",
    "# 한우함박스테이크&토네이도소세지"
   ]
  },
  {
   "cell_type": "code",
   "execution_count": 82,
   "id": "d6f89954",
   "metadata": {},
   "outputs": [],
   "source": [
    "##자영풀이\n",
    "#가격 데이터 수집\n",
    "# 순수한 콘테츠만 추출\n",
    "price = driver.find_elements(By.CLASS_NAME,'item-price')"
   ]
  },
  {
   "cell_type": "code",
   "execution_count": 83,
   "id": "8b8534f3",
   "metadata": {},
   "outputs": [
    {
     "data": {
      "text/plain": [
       "'5,900원'"
      ]
     },
     "execution_count": 83,
     "metadata": {},
     "output_type": "execute_result"
    }
   ],
   "source": [
    "price[0].text\n",
    "#출력:\n",
    "#'5,900원'"
   ]
  },
  {
   "cell_type": "code",
   "execution_count": 47,
   "id": "6131af65",
   "metadata": {
    "scrolled": true
   },
   "outputs": [
    {
     "name": "stdout",
     "output_type": "stream",
     "text": [
      "5,900원\n",
      "8,900원\n",
      "8,900원\n",
      "10,000원\n",
      "10,500원\n",
      "8,000원\n",
      "8,700원\n",
      "6,600원\n",
      "6,100원\n",
      "7,100원\n",
      "6,100원\n",
      "4,900원\n",
      "6,800원\n",
      "5,700원\n",
      "7,800원\n",
      "4,500원\n",
      "6,200원\n",
      "5,000원\n",
      "4,900원\n",
      "4,700원\n",
      "5,000원\n",
      "6,900원\n",
      "8,800원\n",
      "9,200원\n",
      "9,200원\n",
      "8,200원\n",
      "7,600원\n",
      "7,700원\n",
      "7,100원\n",
      "4,700원\n",
      "4,100원\n",
      "5,900원\n",
      "4,000원\n",
      "6,200원\n",
      "5,100원\n",
      "4,400원\n",
      "3,800원\n",
      "3,600원\n",
      "4,100원\n",
      "4,800원\n",
      "5,500원\n",
      "5,300원\n",
      "4,900원\n",
      "4,100원\n",
      "4,900원\n",
      "5,100원\n",
      "6,300원\n",
      "5,000원\n",
      "6,100원\n",
      "6,000원\n",
      "6,000원\n",
      "6,000원\n",
      "5,000원\n",
      "6,100원\n",
      "4,400원\n",
      "4,300원\n",
      "6,700원\n",
      "5,600원\n",
      "5,400원\n",
      "3,700원\n",
      "5,200원\n"
     ]
    }
   ],
   "source": [
    "for i in price:\n",
    "    print(i.text)"
   ]
  },
  {
   "cell_type": "code",
   "execution_count": 84,
   "id": "b384d69e",
   "metadata": {},
   "outputs": [
    {
     "data": {
      "text/plain": [
       "'5,900원'"
      ]
     },
     "execution_count": 84,
     "metadata": {},
     "output_type": "execute_result"
    }
   ],
   "source": [
    "##쌤풀이\n",
    "#가격 데이터 수집\n",
    "# 순수한 콘테츠만 추출\n",
    "price = driver.find_elements(By.CLASS_NAME,'item-price')\n",
    "price[0].text\n",
    "#출력:\n",
    "# '5,900원'"
   ]
  },
  {
   "cell_type": "code",
   "execution_count": 53,
   "id": "7815598d",
   "metadata": {},
   "outputs": [
    {
     "data": {
      "text/plain": [
       "3"
      ]
     },
     "execution_count": 53,
     "metadata": {},
     "output_type": "execute_result"
    }
   ],
   "source": [
    "len(menu)"
   ]
  },
  {
   "cell_type": "markdown",
   "id": "7bf0ca73",
   "metadata": {},
   "source": [
    "- 현재 브라우저를 실행했을 때 브라우저의 크기만큼, 현재 불러와져 있는 데이터들만 수집을 한다!\n",
    "- 전체 데이터를 수집하고 싶다면~? 전체 데이터를 로딩 후에 데이터 수집 (더보기 버튼 클릭)"
   ]
  },
  {
   "cell_type": "code",
   "execution_count": 69,
   "id": "2c06d21e",
   "metadata": {},
   "outputs": [],
   "source": [
    "# 더보기 버튼 클릭하기\n",
    "# 드라이버에게 더보기버튼의 위치를 알려줘야 한다!\n",
    "# 더보기버튼 위치 찾아오기~\n",
    "\n",
    "btn_more = driver.find_element(By.CLASS_NAME,'c_05')\n",
    "btn_more.click()"
   ]
  },
  {
   "cell_type": "code",
   "execution_count": 88,
   "id": "be798b80",
   "metadata": {},
   "outputs": [
    {
     "ename": "ElementNotInteractableException",
     "evalue": "Message: element not interactable\n  (Session info: chrome=121.0.6167.185)\nStacktrace:\n\tGetHandleVerifier [0x00007FF600F87012+3522402]\n\t(No symbol) [0x00007FF600BA8352]\n\t(No symbol) [0x00007FF600A5596D]\n\t(No symbol) [0x00007FF600A9D3C6]\n\t(No symbol) [0x00007FF600A91910]\n\t(No symbol) [0x00007FF600ABF05A]\n\t(No symbol) [0x00007FF600A9120A]\n\t(No symbol) [0x00007FF600ABF270]\n\t(No symbol) [0x00007FF600ADBDA3]\n\t(No symbol) [0x00007FF600ABEE03]\n\t(No symbol) [0x00007FF600A8F4D4]\n\t(No symbol) [0x00007FF600A905F1]\n\tGetHandleVerifier [0x00007FF600FB9B9D+3730157]\n\tGetHandleVerifier [0x00007FF60100F02D+4079485]\n\tGetHandleVerifier [0x00007FF6010075D3+4048163]\n\tGetHandleVerifier [0x00007FF600CDA649+718233]\n\t(No symbol) [0x00007FF600BB4A3F]\n\t(No symbol) [0x00007FF600BAFA94]\n\t(No symbol) [0x00007FF600BAFBC2]\n\t(No symbol) [0x00007FF600B9F2E4]\n\tBaseThreadInitThunk [0x00007FFDEB1D7344+20]\n\tRtlUserThreadStart [0x00007FFDEBD626B1+33]\n",
     "output_type": "error",
     "traceback": [
      "\u001b[1;31m---------------------------------------------------------------------------\u001b[0m",
      "\u001b[1;31mElementNotInteractableException\u001b[0m           Traceback (most recent call last)",
      "Cell \u001b[1;32mIn[88], line 4\u001b[0m\n\u001b[0;32m      2\u001b[0m \u001b[38;5;28;01mfor\u001b[39;00m i \u001b[38;5;129;01min\u001b[39;00m \u001b[38;5;28mrange\u001b[39m(\u001b[38;5;241m30\u001b[39m):\n\u001b[0;32m      3\u001b[0m     btn_more \u001b[38;5;241m=\u001b[39m driver\u001b[38;5;241m.\u001b[39mfind_element(By\u001b[38;5;241m.\u001b[39mCLASS_NAME,\u001b[38;5;124m'\u001b[39m\u001b[38;5;124mc_05\u001b[39m\u001b[38;5;124m'\u001b[39m)\n\u001b[1;32m----> 4\u001b[0m     btn_more\u001b[38;5;241m.\u001b[39mclick()\n",
      "File \u001b[1;32m~\\anaconda3\\Lib\\site-packages\\selenium\\webdriver\\remote\\webelement.py:94\u001b[0m, in \u001b[0;36mWebElement.click\u001b[1;34m(self)\u001b[0m\n\u001b[0;32m     92\u001b[0m \u001b[38;5;28;01mdef\u001b[39;00m \u001b[38;5;21mclick\u001b[39m(\u001b[38;5;28mself\u001b[39m) \u001b[38;5;241m-\u001b[39m\u001b[38;5;241m>\u001b[39m \u001b[38;5;28;01mNone\u001b[39;00m:\n\u001b[0;32m     93\u001b[0m \u001b[38;5;250m    \u001b[39m\u001b[38;5;124;03m\"\"\"Clicks the element.\"\"\"\u001b[39;00m\n\u001b[1;32m---> 94\u001b[0m     \u001b[38;5;28mself\u001b[39m\u001b[38;5;241m.\u001b[39m_execute(Command\u001b[38;5;241m.\u001b[39mCLICK_ELEMENT)\n",
      "File \u001b[1;32m~\\anaconda3\\Lib\\site-packages\\selenium\\webdriver\\remote\\webelement.py:395\u001b[0m, in \u001b[0;36mWebElement._execute\u001b[1;34m(self, command, params)\u001b[0m\n\u001b[0;32m    393\u001b[0m     params \u001b[38;5;241m=\u001b[39m {}\n\u001b[0;32m    394\u001b[0m params[\u001b[38;5;124m\"\u001b[39m\u001b[38;5;124mid\u001b[39m\u001b[38;5;124m\"\u001b[39m] \u001b[38;5;241m=\u001b[39m \u001b[38;5;28mself\u001b[39m\u001b[38;5;241m.\u001b[39m_id\n\u001b[1;32m--> 395\u001b[0m \u001b[38;5;28;01mreturn\u001b[39;00m \u001b[38;5;28mself\u001b[39m\u001b[38;5;241m.\u001b[39m_parent\u001b[38;5;241m.\u001b[39mexecute(command, params)\n",
      "File \u001b[1;32m~\\anaconda3\\Lib\\site-packages\\selenium\\webdriver\\remote\\webdriver.py:347\u001b[0m, in \u001b[0;36mWebDriver.execute\u001b[1;34m(self, driver_command, params)\u001b[0m\n\u001b[0;32m    345\u001b[0m response \u001b[38;5;241m=\u001b[39m \u001b[38;5;28mself\u001b[39m\u001b[38;5;241m.\u001b[39mcommand_executor\u001b[38;5;241m.\u001b[39mexecute(driver_command, params)\n\u001b[0;32m    346\u001b[0m \u001b[38;5;28;01mif\u001b[39;00m response:\n\u001b[1;32m--> 347\u001b[0m     \u001b[38;5;28mself\u001b[39m\u001b[38;5;241m.\u001b[39merror_handler\u001b[38;5;241m.\u001b[39mcheck_response(response)\n\u001b[0;32m    348\u001b[0m     response[\u001b[38;5;124m\"\u001b[39m\u001b[38;5;124mvalue\u001b[39m\u001b[38;5;124m\"\u001b[39m] \u001b[38;5;241m=\u001b[39m \u001b[38;5;28mself\u001b[39m\u001b[38;5;241m.\u001b[39m_unwrap_value(response\u001b[38;5;241m.\u001b[39mget(\u001b[38;5;124m\"\u001b[39m\u001b[38;5;124mvalue\u001b[39m\u001b[38;5;124m\"\u001b[39m, \u001b[38;5;28;01mNone\u001b[39;00m))\n\u001b[0;32m    349\u001b[0m     \u001b[38;5;28;01mreturn\u001b[39;00m response\n",
      "File \u001b[1;32m~\\anaconda3\\Lib\\site-packages\\selenium\\webdriver\\remote\\errorhandler.py:229\u001b[0m, in \u001b[0;36mErrorHandler.check_response\u001b[1;34m(self, response)\u001b[0m\n\u001b[0;32m    227\u001b[0m         alert_text \u001b[38;5;241m=\u001b[39m value[\u001b[38;5;124m\"\u001b[39m\u001b[38;5;124malert\u001b[39m\u001b[38;5;124m\"\u001b[39m]\u001b[38;5;241m.\u001b[39mget(\u001b[38;5;124m\"\u001b[39m\u001b[38;5;124mtext\u001b[39m\u001b[38;5;124m\"\u001b[39m)\n\u001b[0;32m    228\u001b[0m     \u001b[38;5;28;01mraise\u001b[39;00m exception_class(message, screen, stacktrace, alert_text)  \u001b[38;5;66;03m# type: ignore[call-arg]  # mypy is not smart enough here\u001b[39;00m\n\u001b[1;32m--> 229\u001b[0m \u001b[38;5;28;01mraise\u001b[39;00m exception_class(message, screen, stacktrace)\n",
      "\u001b[1;31mElementNotInteractableException\u001b[0m: Message: element not interactable\n  (Session info: chrome=121.0.6167.185)\nStacktrace:\n\tGetHandleVerifier [0x00007FF600F87012+3522402]\n\t(No symbol) [0x00007FF600BA8352]\n\t(No symbol) [0x00007FF600A5596D]\n\t(No symbol) [0x00007FF600A9D3C6]\n\t(No symbol) [0x00007FF600A91910]\n\t(No symbol) [0x00007FF600ABF05A]\n\t(No symbol) [0x00007FF600A9120A]\n\t(No symbol) [0x00007FF600ABF270]\n\t(No symbol) [0x00007FF600ADBDA3]\n\t(No symbol) [0x00007FF600ABEE03]\n\t(No symbol) [0x00007FF600A8F4D4]\n\t(No symbol) [0x00007FF600A905F1]\n\tGetHandleVerifier [0x00007FF600FB9B9D+3730157]\n\tGetHandleVerifier [0x00007FF60100F02D+4079485]\n\tGetHandleVerifier [0x00007FF6010075D3+4048163]\n\tGetHandleVerifier [0x00007FF600CDA649+718233]\n\t(No symbol) [0x00007FF600BB4A3F]\n\t(No symbol) [0x00007FF600BAFA94]\n\t(No symbol) [0x00007FF600BAFBC2]\n\t(No symbol) [0x00007FF600B9F2E4]\n\tBaseThreadInitThunk [0x00007FFDEB1D7344+20]\n\tRtlUserThreadStart [0x00007FFDEBD626B1+33]\n"
     ]
    }
   ],
   "source": [
    "# 반복문을 사용하여 여러 번 더보기 버튼 눌러주기~\n",
    "for i in range(30):\n",
    "    btn_more = driver.find_element(By.CLASS_NAME,'c_05')\n",
    "    btn_more.click()\n",
    "# 반복을 진행할 때 반드시 더보기 버튼의 위치...~"
   ]
  },
  {
   "cell_type": "markdown",
   "id": "aa860047",
   "metadata": {},
   "source": [
    "### 예외처리\n",
    "- try, except문\n",
    "- try\n",
    "    - 에러가 나기 전까지 실행할 부분을 try 문에 작성\n",
    "- except\n",
    "    - 에러가 났을 경우 실행할 문장을 except 문에 작성\n",
    "    "
   ]
  },
  {
   "cell_type": "code",
   "execution_count": 91,
   "id": "fdd39a09",
   "metadata": {},
   "outputs": [
    {
     "name": "stdout",
     "output_type": "stream",
     "text": [
      "클릭을 완료하였습니다!\n"
     ]
    }
   ],
   "source": [
    "# try, except 작성하는 이유\n",
    "# 코드 실행 시 에러가 나면 셀 전체가 실행되지 않은 상태가 됨\n",
    "# 에러가 나더라도 또 다른 실행을 해주고 계속해서 아래 코드를 실행(자:해주기 위해서)\n",
    "\n",
    "try:\n",
    "    for i in range(30):\n",
    "        btn_more = driver.find_element(By.CLASS_NAME,'c_05')\n",
    "        btn_more.click()\n",
    "except:\n",
    "    print('클릭을 완료하였습니다!')"
   ]
  },
  {
   "cell_type": "markdown",
   "id": "f175570e",
   "metadata": {},
   "source": [
    "### 코드 중간중간 쉬는 시간을 주는 라이브러리\n",
    "- time"
   ]
  },
  {
   "cell_type": "code",
   "execution_count": 93,
   "id": "ed9d93cc",
   "metadata": {},
   "outputs": [],
   "source": [
    "import time\n",
    "# 주로 페이지가 새로고침 된 다음에 사용한다\n",
    "# 페이지가 로딩되는 시간을 부여"
   ]
  },
  {
   "cell_type": "code",
   "execution_count": 94,
   "id": "40479abb",
   "metadata": {},
   "outputs": [
    {
     "name": "stdout",
     "output_type": "stream",
     "text": [
      "클릭을 완료하였습니다!\n"
     ]
    }
   ],
   "source": [
    "\n",
    "try:\n",
    "    for i in range(30):\n",
    "        btn_more = driver.find_element(By.CLASS_NAME,'c_05')\n",
    "        btn_more.click()\n",
    "        time.sleep(1) #1초\n",
    "except:\n",
    "    print('클릭을 완료하였습니다!')"
   ]
  },
  {
   "cell_type": "markdown",
   "id": "5f773921",
   "metadata": {},
   "source": [
    "### 코드 하나의 셀에 합쳐주기"
   ]
  },
  {
   "cell_type": "code",
   "execution_count": 97,
   "id": "aab5ef7c",
   "metadata": {},
   "outputs": [
    {
     "name": "stdout",
     "output_type": "stream",
     "text": [
      "클릭을 완료하였습니다!\n"
     ]
    }
   ],
   "source": [
    "# 라이브러리 불러오기\n",
    "from selenium import webdriver as wb #통제, 제어\n",
    "from selenium.webdriver.common.keys import Keys # 입력, 컴퓨터용 키보드\n",
    "from selenium.webdriver.common.by import By #구분\n",
    "import pandas as pd\n",
    "\n",
    "#크롬브라우저 실행\n",
    "driver = wb.Chrome()\n",
    "\n",
    "# 페이지 이동(한솥도시락 페이지)\n",
    "driver.get('https://www.hsd.co.kr/menu/menu_list')\n",
    "\n",
    "#더보기 버튼 누르기\n",
    "try:\n",
    "    for i in range(30):\n",
    "        btn_more = driver.find_element(By.CLASS_NAME,'c_05')\n",
    "        btn_more.click()\n",
    "        time.sleep(1) #1초\n",
    "except:\n",
    "    print('클릭을 완료하였습니다!')\n",
    "\n",
    "# 한솥도시락 페이지의 메뉴 수집하기\n",
    "menu = driver.find_elements(By.CLASS_NAME, 'h.fz_03')\n",
    "\n",
    "#가격 데이터 수집\n",
    "price = driver.find_elements(By.CLASS_NAME,'item-price')\n",
    "\n"
   ]
  },
  {
   "cell_type": "code",
   "execution_count": 112,
   "id": "715aafde",
   "metadata": {},
   "outputs": [],
   "source": [
    "# 자영 실습\n",
    "# 데이터 활용\n",
    "# 순수한 메뉴, 가격을 list에 담고 dictionay\n",
    "# DataFrame -> csv 파일로 내보내기 (인코딩)\n",
    "\n",
    "# 메뉴, 가격, 인덱스 담아줄 리스트 생성\n",
    "menu_list = []\n",
    "price_list = []\n",
    "index_list = []"
   ]
  },
  {
   "cell_type": "code",
   "execution_count": 113,
   "id": "9d30ded2",
   "metadata": {},
   "outputs": [
    {
     "data": {
      "text/plain": [
       "94"
      ]
     },
     "execution_count": 113,
     "metadata": {},
     "output_type": "execute_result"
    }
   ],
   "source": [
    "#데이터 개수 확인\n",
    "len(menu) #94\n",
    "len(price) #94"
   ]
  },
  {
   "cell_type": "code",
   "execution_count": 114,
   "id": "d1299a46",
   "metadata": {},
   "outputs": [
    {
     "name": "stdout",
     "output_type": "stream",
     "text": [
      "['사골 조랭이떡 만둣국', '한우 함박스테이크 & 반달 돈까스', '한우함박스테이크&토네이도소세지', '해바라기', '매화', '진달래', '개나리', '돈까스도련님 고기고기', '탕수육도련님 고기고기', '새치 고기고기', '돈치 고기고기', '카츠카츠', '숯불직화구이', '소불고기', '메가치킨제육', '칠리 찹쌀탕수육도련님', '동백', '치킨제육', '돈까스도련님', '제육볶음', '돈치스팸', '송정식 떡갈비', '제육 김치찌개 정식', '제육 김치 부대찌개 정식', '돈치스팸 김치 부대찌개 정식', '빅치킨마요 김치 부대찌개 정식', '치킨마요 김치 부대찌개 정식', '빅치킨마요 김치찌개 정식', '치킨마요 김치찌개 정식', '빅새치마요', '새치마요', '메가스팸마요', '스팸마요', '메가치킨마요', '왕치킨마요', '빅치킨마요', '치킨마요', '참치마요', '돈치마요', '돈까스 카레', '잡채볶음밥(중화풍 매운맛)', '잡채볶음밥(오리지널)', '스팸 김치볶음밥', '김치볶음밥', '스팸 철판볶음밥', '소불고기 철판볶음밥', '나시고랭', '묵은지 김치찌개', '김치 부대찌개', '핫 치즈 닭갈비덮밥', '오리지널 치즈 닭갈비덮밥', '숯불직화구이 덮밥', '마파두부 덮밥', '왕카레돈까스덮밥', '새우돈까스 덮밥', '돈까스 덮밥', '아보카도 소불고기 명란 비빔밥', '소불고기 감초고추장 비빔밥', '시골제육 두부강된장 비빔밥', '참치야채 감초고추장 비빔밥', '튼튼도시락', '반찬 묵은지김치찌개', '반찬 카레', '반찬 순살 고등어 간장구이', '반찬 김치 부대찌개', '반찬 치킨', '반찬 고기고기', '반찬 돈까스도련님', '반찬 제육볶음', '반찬 토네이도 소세지', '반찬 돈까스', '치즈버터 해시 포테이토 스틱', '허니버터 해시 포테이토 스틱', '해시 포테이토 스틱', '뉴 감자고로케', '미니 찹쌀핫도그', '미니 찹쌀탕수육', '케이준후라이', '통현미 닭강정(소)', '통현미 닭강정(중)', '후라이드 순살(중)', '후라이드 순살(소)_양념치킨소스', '후라이드 순살(소)_케이준소스', '3종 미니반찬B', '3종 미니반찬A', '오징어젓갈', '한솥 두부강된장소스', '한솥 감초볶음고추장소스', '볶음김치', '김치', '무말랭이 무침', '한솥밥', '현미밥', '리얼꿀 미니호떡']\n",
      "['5,900원', '8,900원', '8,900원', '10,000원', '10,500원', '8,000원', '8,700원', '6,600원', '6,100원', '7,100원', '6,100원', '4,900원', '6,800원', '5,700원', '7,800원', '4,500원', '6,200원', '5,000원', '4,900원', '4,700원', '5,000원', '6,900원', '8,800원', '9,200원', '9,200원', '8,200원', '7,600원', '7,700원', '7,100원', '4,700원', '4,100원', '5,900원', '4,000원', '6,200원', '5,100원', '4,400원', '3,800원', '3,600원', '4,100원', '4,800원', '5,500원', '5,300원', '4,900원', '4,100원', '4,900원', '5,100원', '6,300원', '5,000원', '6,100원', '6,000원', '6,000원', '6,000원', '5,000원', '6,100원', '4,400원', '4,300원', '6,700원', '5,600원', '5,400원', '3,700원', '5,200원', '4,400원', '2,900원', '3,900원', '4,900원', '3,800원', '3,600원', '4,100원', '3,500원', '3,200원', '2,900원', '2,200원', '2,200원', '2,000원', '2,700원', '2,800원', '2,300원', '1,900원', '3,500원', '8,500원', '7,500원', '4,000원', '4,000원', '1,300원', '1,300원', '600원', '1,800원', '500원', '500원', '400원', '500원', '1,000원', '1,700원', '2,200원']\n",
      "[1, 2, 3, 4, 5, 6, 7, 8, 9, 10, 11, 12, 13, 14, 15, 16, 17, 18, 19, 20, 21, 22, 23, 24, 25, 26, 27, 28, 29, 30, 31, 32, 33, 34, 35, 36, 37, 38, 39, 40, 41, 42, 43, 44, 45, 46, 47, 48, 49, 50, 51, 52, 53, 54, 55, 56, 57, 58, 59, 60, 61, 62, 63, 64, 65, 66, 67, 68, 69, 70, 71, 72, 73, 74, 75, 76, 77, 78, 79, 80, 81, 82, 83, 84, 85, 86, 87, 88, 89, 90, 91, 92, 93, 94]\n"
     ]
    }
   ],
   "source": [
    "# 반복문 통해 빈 리스트에 메뉴, 가격, 인덱스(순번 열) 각각 채워주기\n",
    "\n",
    "for i in range(len(menu)):\n",
    "    menu_list.append(menu[i].text)\n",
    "    price_list.append(price[i].text)\n",
    "    index_list.append(i+1)\n",
    "print(menu_list)\n",
    "print(price_list)\n",
    "print(index_list)"
   ]
  },
  {
   "cell_type": "code",
   "execution_count": 128,
   "id": "b1899b7e",
   "metadata": {},
   "outputs": [
    {
     "data": {
      "text/html": [
       "<div>\n",
       "<style scoped>\n",
       "    .dataframe tbody tr th:only-of-type {\n",
       "        vertical-align: middle;\n",
       "    }\n",
       "\n",
       "    .dataframe tbody tr th {\n",
       "        vertical-align: top;\n",
       "    }\n",
       "\n",
       "    .dataframe thead th {\n",
       "        text-align: right;\n",
       "    }\n",
       "</style>\n",
       "<table border=\"1\" class=\"dataframe\">\n",
       "  <thead>\n",
       "    <tr style=\"text-align: right;\">\n",
       "      <th></th>\n",
       "      <th>메뉴명</th>\n",
       "      <th>가격</th>\n",
       "    </tr>\n",
       "    <tr>\n",
       "      <th>순번</th>\n",
       "      <th></th>\n",
       "      <th></th>\n",
       "    </tr>\n",
       "  </thead>\n",
       "  <tbody>\n",
       "    <tr>\n",
       "      <th>1</th>\n",
       "      <td>사골 조랭이떡 만둣국</td>\n",
       "      <td>5,900원</td>\n",
       "    </tr>\n",
       "    <tr>\n",
       "      <th>2</th>\n",
       "      <td>한우 함박스테이크 &amp; 반달 돈까스</td>\n",
       "      <td>8,900원</td>\n",
       "    </tr>\n",
       "    <tr>\n",
       "      <th>3</th>\n",
       "      <td>한우함박스테이크&amp;토네이도소세지</td>\n",
       "      <td>8,900원</td>\n",
       "    </tr>\n",
       "    <tr>\n",
       "      <th>4</th>\n",
       "      <td>해바라기</td>\n",
       "      <td>10,000원</td>\n",
       "    </tr>\n",
       "    <tr>\n",
       "      <th>5</th>\n",
       "      <td>매화</td>\n",
       "      <td>10,500원</td>\n",
       "    </tr>\n",
       "    <tr>\n",
       "      <th>...</th>\n",
       "      <td>...</td>\n",
       "      <td>...</td>\n",
       "    </tr>\n",
       "    <tr>\n",
       "      <th>90</th>\n",
       "      <td>김치</td>\n",
       "      <td>400원</td>\n",
       "    </tr>\n",
       "    <tr>\n",
       "      <th>91</th>\n",
       "      <td>무말랭이 무침</td>\n",
       "      <td>500원</td>\n",
       "    </tr>\n",
       "    <tr>\n",
       "      <th>92</th>\n",
       "      <td>한솥밥</td>\n",
       "      <td>1,000원</td>\n",
       "    </tr>\n",
       "    <tr>\n",
       "      <th>93</th>\n",
       "      <td>현미밥</td>\n",
       "      <td>1,700원</td>\n",
       "    </tr>\n",
       "    <tr>\n",
       "      <th>94</th>\n",
       "      <td>리얼꿀 미니호떡</td>\n",
       "      <td>2,200원</td>\n",
       "    </tr>\n",
       "  </tbody>\n",
       "</table>\n",
       "<p>94 rows × 2 columns</p>\n",
       "</div>"
      ],
      "text/plain": [
       "                   메뉴명       가격\n",
       "순번                             \n",
       "1          사골 조랭이떡 만둣국   5,900원\n",
       "2   한우 함박스테이크 & 반달 돈까스   8,900원\n",
       "3     한우함박스테이크&토네이도소세지   8,900원\n",
       "4                 해바라기  10,000원\n",
       "5                   매화  10,500원\n",
       "..                 ...      ...\n",
       "90                  김치     400원\n",
       "91             무말랭이 무침     500원\n",
       "92                 한솥밥   1,000원\n",
       "93                 현미밥   1,700원\n",
       "94            리얼꿀 미니호떡   2,200원\n",
       "\n",
       "[94 rows x 2 columns]"
      ]
     },
     "execution_count": 128,
     "metadata": {},
     "output_type": "execute_result"
    }
   ],
   "source": [
    "# 메뉴명, 가격, 순번을 넣은 딕셔너리 타입 변수 dic 만들기\n",
    "# dic으로 DataFrame 타입'menu_df' 만들기\n",
    "\n",
    "dic = {'메뉴명' : menu_list, '가격': price_list, '순번' : index_list}\n",
    "menu_df = pd.DataFrame(dic)\n",
    "\n",
    "# '순번'열을 인덱스로 하고, 원본 데이터에 반영하기(inplace)\n",
    "menu_df.set_index('순번', inplace=True)\n",
    "menu_df"
   ]
  },
  {
   "cell_type": "code",
   "execution_count": 130,
   "id": "35ce5914",
   "metadata": {},
   "outputs": [],
   "source": [
    "# csv파일에 저장하기(인코딩)\n",
    "menu_df.to_csv(\"한솥메뉴판.csv\", encoding = 'euc-kr')"
   ]
  },
  {
   "cell_type": "code",
   "execution_count": 134,
   "id": "ee743f7c",
   "metadata": {
    "scrolled": true
   },
   "outputs": [
    {
     "name": "stdout",
     "output_type": "stream",
     "text": [
      "클릭을 완료하였습니다!\n"
     ]
    },
    {
     "ename": "NoSuchWindowException",
     "evalue": "Message: no such window: target window already closed\nfrom unknown error: web view not found\n  (Session info: chrome=121.0.6167.185)\nStacktrace:\n\tGetHandleVerifier [0x00007FF600F87012+3522402]\n\t(No symbol) [0x00007FF600BA8352]\n\t(No symbol) [0x00007FF600A55ABB]\n\t(No symbol) [0x00007FF600A3287C]\n\t(No symbol) [0x00007FF600AC5D97]\n\t(No symbol) [0x00007FF600ADB3CF]\n\t(No symbol) [0x00007FF600ABEE03]\n\t(No symbol) [0x00007FF600A8F4D4]\n\t(No symbol) [0x00007FF600A905F1]\n\tGetHandleVerifier [0x00007FF600FB9B9D+3730157]\n\tGetHandleVerifier [0x00007FF60100F02D+4079485]\n\tGetHandleVerifier [0x00007FF6010075D3+4048163]\n\tGetHandleVerifier [0x00007FF600CDA649+718233]\n\t(No symbol) [0x00007FF600BB4A3F]\n\t(No symbol) [0x00007FF600BAFA94]\n\t(No symbol) [0x00007FF600BAFBC2]\n\t(No symbol) [0x00007FF600B9F2E4]\n\tBaseThreadInitThunk [0x00007FFDEB1D7344+20]\n\tRtlUserThreadStart [0x00007FFDEBD626B1+33]\n",
     "output_type": "error",
     "traceback": [
      "\u001b[1;31m---------------------------------------------------------------------------\u001b[0m",
      "\u001b[1;31mNoSuchWindowException\u001b[0m                     Traceback (most recent call last)",
      "Cell \u001b[1;32mIn[134], line 24\u001b[0m\n\u001b[0;32m     21\u001b[0m     \u001b[38;5;28mprint\u001b[39m(\u001b[38;5;124m'\u001b[39m\u001b[38;5;124m클릭을 완료하였습니다!\u001b[39m\u001b[38;5;124m'\u001b[39m)\n\u001b[0;32m     23\u001b[0m \u001b[38;5;66;03m# 한솥도시락 페이지의 메뉴 수집하기\u001b[39;00m\n\u001b[1;32m---> 24\u001b[0m menu \u001b[38;5;241m=\u001b[39m driver\u001b[38;5;241m.\u001b[39mfind_elements(By\u001b[38;5;241m.\u001b[39mCLASS_NAME, \u001b[38;5;124m'\u001b[39m\u001b[38;5;124mh.fz_03\u001b[39m\u001b[38;5;124m'\u001b[39m)\n\u001b[0;32m     26\u001b[0m \u001b[38;5;66;03m#가격 데이터 수집\u001b[39;00m\n\u001b[0;32m     27\u001b[0m price \u001b[38;5;241m=\u001b[39m driver\u001b[38;5;241m.\u001b[39mfind_elements(By\u001b[38;5;241m.\u001b[39mCLASS_NAME,\u001b[38;5;124m'\u001b[39m\u001b[38;5;124mitem-price\u001b[39m\u001b[38;5;124m'\u001b[39m)\n",
      "File \u001b[1;32m~\\anaconda3\\Lib\\site-packages\\selenium\\webdriver\\remote\\webdriver.py:771\u001b[0m, in \u001b[0;36mWebDriver.find_elements\u001b[1;34m(self, by, value)\u001b[0m\n\u001b[0;32m    767\u001b[0m     value \u001b[38;5;241m=\u001b[39m \u001b[38;5;124mf\u001b[39m\u001b[38;5;124m'\u001b[39m\u001b[38;5;124m[name=\u001b[39m\u001b[38;5;124m\"\u001b[39m\u001b[38;5;132;01m{\u001b[39;00mvalue\u001b[38;5;132;01m}\u001b[39;00m\u001b[38;5;124m\"\u001b[39m\u001b[38;5;124m]\u001b[39m\u001b[38;5;124m'\u001b[39m\n\u001b[0;32m    769\u001b[0m \u001b[38;5;66;03m# Return empty list if driver returns null\u001b[39;00m\n\u001b[0;32m    770\u001b[0m \u001b[38;5;66;03m# See https://github.com/SeleniumHQ/selenium/issues/4555\u001b[39;00m\n\u001b[1;32m--> 771\u001b[0m \u001b[38;5;28;01mreturn\u001b[39;00m \u001b[38;5;28mself\u001b[39m\u001b[38;5;241m.\u001b[39mexecute(Command\u001b[38;5;241m.\u001b[39mFIND_ELEMENTS, {\u001b[38;5;124m\"\u001b[39m\u001b[38;5;124musing\u001b[39m\u001b[38;5;124m\"\u001b[39m: by, \u001b[38;5;124m\"\u001b[39m\u001b[38;5;124mvalue\u001b[39m\u001b[38;5;124m\"\u001b[39m: value})[\u001b[38;5;124m\"\u001b[39m\u001b[38;5;124mvalue\u001b[39m\u001b[38;5;124m\"\u001b[39m] \u001b[38;5;129;01mor\u001b[39;00m []\n",
      "File \u001b[1;32m~\\anaconda3\\Lib\\site-packages\\selenium\\webdriver\\remote\\webdriver.py:347\u001b[0m, in \u001b[0;36mWebDriver.execute\u001b[1;34m(self, driver_command, params)\u001b[0m\n\u001b[0;32m    345\u001b[0m response \u001b[38;5;241m=\u001b[39m \u001b[38;5;28mself\u001b[39m\u001b[38;5;241m.\u001b[39mcommand_executor\u001b[38;5;241m.\u001b[39mexecute(driver_command, params)\n\u001b[0;32m    346\u001b[0m \u001b[38;5;28;01mif\u001b[39;00m response:\n\u001b[1;32m--> 347\u001b[0m     \u001b[38;5;28mself\u001b[39m\u001b[38;5;241m.\u001b[39merror_handler\u001b[38;5;241m.\u001b[39mcheck_response(response)\n\u001b[0;32m    348\u001b[0m     response[\u001b[38;5;124m\"\u001b[39m\u001b[38;5;124mvalue\u001b[39m\u001b[38;5;124m\"\u001b[39m] \u001b[38;5;241m=\u001b[39m \u001b[38;5;28mself\u001b[39m\u001b[38;5;241m.\u001b[39m_unwrap_value(response\u001b[38;5;241m.\u001b[39mget(\u001b[38;5;124m\"\u001b[39m\u001b[38;5;124mvalue\u001b[39m\u001b[38;5;124m\"\u001b[39m, \u001b[38;5;28;01mNone\u001b[39;00m))\n\u001b[0;32m    349\u001b[0m     \u001b[38;5;28;01mreturn\u001b[39;00m response\n",
      "File \u001b[1;32m~\\anaconda3\\Lib\\site-packages\\selenium\\webdriver\\remote\\errorhandler.py:229\u001b[0m, in \u001b[0;36mErrorHandler.check_response\u001b[1;34m(self, response)\u001b[0m\n\u001b[0;32m    227\u001b[0m         alert_text \u001b[38;5;241m=\u001b[39m value[\u001b[38;5;124m\"\u001b[39m\u001b[38;5;124malert\u001b[39m\u001b[38;5;124m\"\u001b[39m]\u001b[38;5;241m.\u001b[39mget(\u001b[38;5;124m\"\u001b[39m\u001b[38;5;124mtext\u001b[39m\u001b[38;5;124m\"\u001b[39m)\n\u001b[0;32m    228\u001b[0m     \u001b[38;5;28;01mraise\u001b[39;00m exception_class(message, screen, stacktrace, alert_text)  \u001b[38;5;66;03m# type: ignore[call-arg]  # mypy is not smart enough here\u001b[39;00m\n\u001b[1;32m--> 229\u001b[0m \u001b[38;5;28;01mraise\u001b[39;00m exception_class(message, screen, stacktrace)\n",
      "\u001b[1;31mNoSuchWindowException\u001b[0m: Message: no such window: target window already closed\nfrom unknown error: web view not found\n  (Session info: chrome=121.0.6167.185)\nStacktrace:\n\tGetHandleVerifier [0x00007FF600F87012+3522402]\n\t(No symbol) [0x00007FF600BA8352]\n\t(No symbol) [0x00007FF600A55ABB]\n\t(No symbol) [0x00007FF600A3287C]\n\t(No symbol) [0x00007FF600AC5D97]\n\t(No symbol) [0x00007FF600ADB3CF]\n\t(No symbol) [0x00007FF600ABEE03]\n\t(No symbol) [0x00007FF600A8F4D4]\n\t(No symbol) [0x00007FF600A905F1]\n\tGetHandleVerifier [0x00007FF600FB9B9D+3730157]\n\tGetHandleVerifier [0x00007FF60100F02D+4079485]\n\tGetHandleVerifier [0x00007FF6010075D3+4048163]\n\tGetHandleVerifier [0x00007FF600CDA649+718233]\n\t(No symbol) [0x00007FF600BB4A3F]\n\t(No symbol) [0x00007FF600BAFA94]\n\t(No symbol) [0x00007FF600BAFBC2]\n\t(No symbol) [0x00007FF600B9F2E4]\n\tBaseThreadInitThunk [0x00007FFDEB1D7344+20]\n\tRtlUserThreadStart [0x00007FFDEBD626B1+33]\n"
     ]
    }
   ],
   "source": [
    "###쌤풀이#########\n",
    "# 라이브러리 불러오기\n",
    "from selenium import webdriver as wb #통제, 제어\n",
    "from selenium.webdriver.common.keys import Keys # 입력, 컴퓨터용 키보드\n",
    "from selenium.webdriver.common.by import By #구분\n",
    "import pandas as pd\n",
    "\n",
    "#크롬브라우저 실행\n",
    "driver = wb.Chrome()\n",
    "\n",
    "# 페이지 이동(한솥도시락 페이지)\n",
    "driver.get('https://www.hsd.co.kr/menu/menu_list')\n",
    "\n",
    "#더보기 버튼 누르기\n",
    "try:\n",
    "    for i in range(30):\n",
    "        btn_more = driver.find_element(By.CLASS_NAME,'c_05')\n",
    "        btn_more.click()\n",
    "        time.sleep(1) #1초\n",
    "except:\n",
    "    print('클릭을 완료하였습니다!')\n",
    "\n",
    "# 한솥도시락 페이지의 메뉴 수집하기\n",
    "menu = driver.find_elements(By.CLASS_NAME, 'h.fz_03')\n",
    "\n",
    "#가격 데이터 수집\n",
    "price = driver.find_elements(By.CLASS_NAME,'item-price')\n",
    "\n",
    "# 데이터 활용\n",
    "# 순수한 메뉴, 가격을 list에 담고 dictionay\n",
    "# DataFrame -> csv 파일로 내보내기 (인코딩)\n",
    "menu_list = []\n",
    "price_list = []\n",
    "\n",
    "for i in range(len(menu)):\n",
    "    menu_list.append(menu[i].text)\n",
    "    price_list.append(price[i].text)\n",
    "    \n",
    "dic = {'메뉴':menu_list, '가격':price_list}\n",
    "hansot = pd.DataFrame(dic)\n",
    "hansot.to_csv('한솥도시락 메뉴.csv', encoding='euc-kr')"
   ]
  },
  {
   "cell_type": "markdown",
   "id": "f7f9621a",
   "metadata": {},
   "source": [
    "#### 네이버 뉴스 제목 수집 실습"
   ]
  },
  {
   "cell_type": "code",
   "execution_count": 167,
   "id": "75a51743",
   "metadata": {},
   "outputs": [
    {
     "name": "stdout",
     "output_type": "stream",
     "text": [
      "1번째 기사 제목 : 푸바오 교통카드 인기...“편의점 돌아 겨우 구했어요”\n",
      "2번째 기사 제목 : '푸바오를 간직해요'\n",
      "3번째 기사 제목 : 푸바오 잘 가···마지막 작별 날짜 나왔다\n",
      "4번째 기사 제목 : 푸바오 마지막으로 볼 날은 '3월 3일'…이후 검역 위해 비공개\n",
      "5번째 기사 제목 : 유튜브 조회수 5억회 돌파... 작별 앞둔 '푸바오 효과'는? [앵커리포트]\n",
      "6번째 기사 제목 : “中 송환 앞둔 푸바오… 내달 3일까지만 공개”\n",
      "7번째 기사 제목 : 교통카드로 만나는 '푸바오'\n",
      "8번째 기사 제목 : 푸바오만 나오면 급증·매진 행렬… 놀라운 ‘판다 경제학’\n",
      "9번째 기사 제목 : \"푸바오보다 관심 못 받아\"…어느 흉부외과 의사의 토로\n",
      "10번째 기사 제목 : 푸바오, 4월 3일에 중국행 비행기 탄다… 마지막 인사는 3월 3일\n"
     ]
    }
   ],
   "source": [
    "##자영 실습\n",
    "\n",
    "# 네이버 메인 페이지에서 > 키워드 검색 > 뉴스 검색 > 뉴스 제목 수집\n",
    "\n",
    "from selenium import webdriver as wb\n",
    "from selenium.webdriver.common.keys import Keys\n",
    "from selenium.webdriver.common.by import By\n",
    "\n",
    "driver = wb.Chrome()\n",
    "#네이버 접속\n",
    "driver.get('https://www.naver.com/')\n",
    "\n",
    "#검색어 임력\n",
    "select = driver.find_element(By.ID,'query')\n",
    "select.send_keys('푸바오')#자영 틀림 send_keys\n",
    "\n",
    "#검색 클릭\n",
    "driver.find_element(By.ID,'search-btn').click()\n",
    "\n",
    "#뉴스 탭 클릭\n",
    "driver.find_element(By.CLASS_NAME,'spnew2.ico_nav_news').click() ##240222 발견 : 자영 잘못찾음!! 뉴스 안 담겨있음!!!!\n",
    "\n",
    "# 뉴스데이터 담을 리스트 생성\n",
    "news_list = []\n",
    "\n",
    "# 뉴스데이터 수집 (첫번째 제목 추출)\n",
    "driver.find_elements(By.CLASS_NAME, 'news_tit')[0].text\n",
    "title = driver.find_elements(By.CLASS_NAME, 'news_tit')\n",
    "# 첫번째 페이지의 모든 제목 추출\n",
    "for i in range(len(title)):\n",
    "    print(f'{i+1}번째 기사 제목 : {title[i].text}')\n"
   ]
  }
 ],
 "metadata": {
  "kernelspec": {
   "display_name": "Python 3 (ipykernel)",
   "language": "python",
   "name": "python3"
  },
  "language_info": {
   "codemirror_mode": {
    "name": "ipython",
    "version": 3
   },
   "file_extension": ".py",
   "mimetype": "text/x-python",
   "name": "python",
   "nbconvert_exporter": "python",
   "pygments_lexer": "ipython3",
   "version": "3.11.5"
  }
 },
 "nbformat": 4,
 "nbformat_minor": 5
}
