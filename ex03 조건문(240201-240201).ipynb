{
 "cells": [
  {
   "cell_type": "markdown",
   "id": "d2b7d5dd",
   "metadata": {},
   "source": [
    "###### (이어서) 2024.02.01.(목)"
   ]
  },
  {
   "cell_type": "markdown",
   "id": "6e3021b1",
   "metadata": {},
   "source": [
    "### 조건문\n",
    "- 상황에 따라 실행 흐름을 다르게 하는 문법\n",
    "- 키워드 : if, elif, else\n",
    "```python\n",
    "\n",
    "# 콜론\":\" 과 들여쓰기\"Tab, space bar * 4\"가 매우 중요\n",
    "if 조건식 : \n",
    "    코드블록\n",
    "    코드블록\n",
    "elif 조건식 :\n",
    "    코드블록\n",
    "    코드블록\n",
    "else : \n",
    "    코드블록\n",
    "    코드블록\n",
    "```"
   ]
  },
  {
   "cell_type": "code",
   "execution_count": 12,
   "id": "833ed89f",
   "metadata": {
    "scrolled": true
   },
   "outputs": [
    {
     "ename": "KeyboardInterrupt",
     "evalue": "Interrupted by user",
     "output_type": "error",
     "traceback": [
      "\u001b[1;31m-----------------------\u001b[0m",
      "\u001b[1;31mKeyboardInterrupt\u001b[0mTraceback (most recent call last)",
      "Cell \u001b[1;32mIn[12], line 4\u001b[0m\n\u001b[0;32m      1\u001b[0m \u001b[38;5;66;03m# 갖고 잇는 돈을 검사해서, \u001b[39;00m\n\u001b[0;32m      2\u001b[0m \u001b[38;5;66;03m# 10000원 이상인 경우 택시를 타고, 그렇지 않을 경우 걸어간다!\u001b[39;00m\n\u001b[0;32m      3\u001b[0m \u001b[38;5;66;03m# 10000원 미만인데, 5000원 이상인 경우 버스를 타고 간다!\u001b[39;00m\n\u001b[1;32m----> 4\u001b[0m money \u001b[38;5;241m=\u001b[39m \u001b[38;5;28mint\u001b[39m(\u001b[38;5;28minput\u001b[39m(\u001b[38;5;124m\"\u001b[39m\u001b[38;5;124m갖고 있는 돈을 입력하세요>>\u001b[39m\u001b[38;5;124m\"\u001b[39m))\n\u001b[0;32m      6\u001b[0m \u001b[38;5;28;01mif\u001b[39;00m money \u001b[38;5;241m>\u001b[39m\u001b[38;5;241m=\u001b[39m \u001b[38;5;241m10000\u001b[39m:\n\u001b[0;32m      7\u001b[0m     \u001b[38;5;28mprint\u001b[39m(\u001b[38;5;124m\"\u001b[39m\u001b[38;5;124m택시를 탄다!\u001b[39m\u001b[38;5;124m\"\u001b[39m)\n",
      "File \u001b[1;32m~\\anaconda3\\Lib\\site-packages\\ipykernel\\kernelbase.py:1202\u001b[0m, in \u001b[0;36mKernel.raw_input\u001b[1;34m(self, prompt)\u001b[0m\n\u001b[0;32m   1200\u001b[0m     msg \u001b[38;5;241m=\u001b[39m \u001b[38;5;124m\"\u001b[39m\u001b[38;5;124mraw_input was called, but this frontend does not support input requests.\u001b[39m\u001b[38;5;124m\"\u001b[39m\n\u001b[0;32m   1201\u001b[0m     \u001b[38;5;28;01mraise\u001b[39;00m StdinNotImplementedError(msg)\n\u001b[1;32m-> 1202\u001b[0m \u001b[38;5;28;01mreturn\u001b[39;00m \u001b[38;5;28mself\u001b[39m\u001b[38;5;241m.\u001b[39m_input_request(\n\u001b[0;32m   1203\u001b[0m     \u001b[38;5;28mstr\u001b[39m(prompt),\n\u001b[0;32m   1204\u001b[0m     \u001b[38;5;28mself\u001b[39m\u001b[38;5;241m.\u001b[39m_parent_ident[\u001b[38;5;124m\"\u001b[39m\u001b[38;5;124mshell\u001b[39m\u001b[38;5;124m\"\u001b[39m],\n\u001b[0;32m   1205\u001b[0m     \u001b[38;5;28mself\u001b[39m\u001b[38;5;241m.\u001b[39mget_parent(\u001b[38;5;124m\"\u001b[39m\u001b[38;5;124mshell\u001b[39m\u001b[38;5;124m\"\u001b[39m),\n\u001b[0;32m   1206\u001b[0m     password\u001b[38;5;241m=\u001b[39m\u001b[38;5;28;01mFalse\u001b[39;00m,\n\u001b[0;32m   1207\u001b[0m )\n",
      "File \u001b[1;32m~\\anaconda3\\Lib\\site-packages\\ipykernel\\kernelbase.py:1245\u001b[0m, in \u001b[0;36mKernel._input_request\u001b[1;34m(self, prompt, ident, parent, password)\u001b[0m\n\u001b[0;32m   1242\u001b[0m \u001b[38;5;28;01mexcept\u001b[39;00m \u001b[38;5;167;01mKeyboardInterrupt\u001b[39;00m:\n\u001b[0;32m   1243\u001b[0m     \u001b[38;5;66;03m# re-raise KeyboardInterrupt, to truncate traceback\u001b[39;00m\n\u001b[0;32m   1244\u001b[0m     msg \u001b[38;5;241m=\u001b[39m \u001b[38;5;124m\"\u001b[39m\u001b[38;5;124mInterrupted by user\u001b[39m\u001b[38;5;124m\"\u001b[39m\n\u001b[1;32m-> 1245\u001b[0m     \u001b[38;5;28;01mraise\u001b[39;00m \u001b[38;5;167;01mKeyboardInterrupt\u001b[39;00m(msg) \u001b[38;5;28;01mfrom\u001b[39;00m \u001b[38;5;28;01mNone\u001b[39;00m\n\u001b[0;32m   1246\u001b[0m \u001b[38;5;28;01mexcept\u001b[39;00m \u001b[38;5;167;01mException\u001b[39;00m:\n\u001b[0;32m   1247\u001b[0m     \u001b[38;5;28mself\u001b[39m\u001b[38;5;241m.\u001b[39mlog\u001b[38;5;241m.\u001b[39mwarning(\u001b[38;5;124m\"\u001b[39m\u001b[38;5;124mInvalid Message:\u001b[39m\u001b[38;5;124m\"\u001b[39m, exc_info\u001b[38;5;241m=\u001b[39m\u001b[38;5;28;01mTrue\u001b[39;00m)\n",
      "\u001b[1;31mKeyboardInterrupt\u001b[0m: Interrupted by user"
     ]
    }
   ],
   "source": [
    "# 갖고 잇는 돈을 검사해서, \n",
    "# 10000원 이상인 경우 택시를 타고, 그렇지 않을 경우 걸어간다!\n",
    "# 10000원 미만인데, 5000원 이상인 경우 버스를 타고 간다!\n",
    "money = int(input(\"갖고 있는 돈을 입력하세요>>\"))\n",
    "\n",
    "if money >= 10000:\n",
    "    print(\"택시를 탄다!\")\n",
    "elif money >= 5000:\n",
    "    print(\"버스를 탄다!\")\n",
    "else : \n",
    "    print(\"걸어간다!\")"
   ]
  },
  {
   "cell_type": "markdown",
   "id": "15563f1f",
   "metadata": {},
   "source": [
    "### elif 실습문제 2문제\n",
    "![Untitled](https://prod-files-secure.s3.us-west-2.amazonaws.com/5d534831-d716-4c73-afbc-1d6338a1dcd5/1cbd74a2-e0ea-459e-bc33-f3c7706316ab/Untitled.png)"
   ]
  },
  {
   "cell_type": "code",
   "execution_count": 20,
   "id": "257d7a9c",
   "metadata": {},
   "outputs": [
    {
     "name": "stdout",
     "output_type": "stream",
     "text": [
      "첫 번째 정수 입력 >> 80\n",
      "첫 번째 정수 입력 >> 10\n",
      "첫 번째 정수가 더 큽니다.\n"
     ]
    }
   ],
   "source": [
    "# 실습1\n",
    "num1 = int(input(\"첫 번째 정수 입력 >> \"))\n",
    "num2 =  int(input(\"첫 번째 정수 입력 >> \"))\n",
    "\n",
    "if num1 > num2:\n",
    "    print(\"첫 번째 정수가 더 큽니다.\")\n",
    "elif num1 < num2 :\n",
    "    print(\"두 번째 정수가 더 큽니다.\")\n",
    "else :\n",
    "    print(\"두 수가 똑같습니다.\")"
   ]
  },
  {
   "cell_type": "code",
   "execution_count": null,
   "id": "2a496fdb",
   "metadata": {},
   "outputs": [],
   "source": [
    "#실습2\n",
    "score = int(input(\"점수 입력 >> \"))\n",
    "if score >= 90:\n",
    "    print(f\"{score}점은 A학점 입니다.\")\n",
    "elif score >= 80:\n",
    "    print(f\"{score}점은 B학점 입니다.\")\n",
    "elif score >= 70:\n",
    "    print(f\"{score}점은 C학점 입니다.\")\n",
    "elif score >= 60:\n",
    "    print(f\"{score}점은 D학점 입니다.\")    \n",
    "else :\n",
    "    print(f\"{score}점은 F학점 입니다.\")    "
   ]
  },
  {
   "cell_type": "markdown",
   "id": "ec72cc2a",
   "metadata": {},
   "source": [
    "20240202(금)"
   ]
  },
  {
   "cell_type": "code",
   "execution_count": 15,
   "id": "5777305d",
   "metadata": {},
   "outputs": [
    {
     "name": "stdout",
     "output_type": "stream",
     "text": [
      "첫 번째 정수입력>>10\n",
      "두 번째 정수입력>>10\n",
      "두 수가 똑같습니다\n"
     ]
    }
   ],
   "source": [
    "# 쌤풀이(실습1)\n",
    "# 문제 : 변수 num1 과 num2 에 숫자를 입력 받아 크기를 비교하시오.\n",
    "num1 = int(input(\"첫 번째 정수입력>>\"))\n",
    "num2 = int(input(\"두 번째 정수입력>>\"))\n",
    "num1, num2\n",
    "\n",
    "if num1 > num2:\n",
    "    print(\"첫번째 정수가 더 큽니다\")\n",
    "elif num2 > num1:\n",
    "    print(\"두번째 정수가 더 큽니다\")\n",
    "else:\n",
    "    print(\"두 수가 똑같습니다\")"
   ]
  },
  {
   "cell_type": "code",
   "execution_count": 20,
   "id": "354eb93a",
   "metadata": {},
   "outputs": [
    {
     "name": "stdout",
     "output_type": "stream",
     "text": [
      "점수를 입력해주세요>>65465465\n",
      "잘못입력하셨습니다\n"
     ]
    }
   ],
   "source": [
    "# 쌤풀이\n",
    "# 문제2\n",
    "score = int(input(\"점수를 입력해주세요>>\"))\n",
    "\n",
    "\n",
    "if score >=0 and score <=100: # 자:사용자가 0~100 입력시에만 검증!\n",
    "    \n",
    "    if score >= 90:\n",
    "        grade = \"A\"\n",
    "    elif score >= 80:\n",
    "        grade = \"B\"\n",
    "    elif score >= 70:\n",
    "        grade = \"C\"\n",
    "    elif score >= 60:\n",
    "        grade = \"D\"\n",
    "    else:\n",
    "        grade = \"F\"\n",
    "        \n",
    "    print(f\"{score}점은 {grade}학점 입니다.\")\n",
    "\n",
    "else:\n",
    "    print(\"잘 못 입력하셨습니다\")\n",
    "\n"
   ]
  }
 ],
 "metadata": {
  "kernelspec": {
   "display_name": "Python 3 (ipykernel)",
   "language": "python",
   "name": "python3"
  },
  "language_info": {
   "codemirror_mode": {
    "name": "ipython",
    "version": 3
   },
   "file_extension": ".py",
   "mimetype": "text/x-python",
   "name": "python",
   "nbconvert_exporter": "python",
   "pygments_lexer": "ipython3",
   "version": "3.11.5"
  }
 },
 "nbformat": 4,
 "nbformat_minor": 5
}
