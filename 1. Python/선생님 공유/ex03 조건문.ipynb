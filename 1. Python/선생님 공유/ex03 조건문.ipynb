{
 "cells": [
  {
   "cell_type": "markdown",
   "id": "fe4433dd",
   "metadata": {},
   "source": [
    "### 조건문\n",
    "- 상황에 따라 실행 흐름을 다르게 하는 문법\n",
    "- 키워드 : if, elif, else\n",
    "```python\n",
    "# 콜론\":\"과 들여쓰기\"Tab, spaca bar*4\"가 매우 중요!\n",
    "if 조건식 :\n",
    "    코드블록\n",
    "    코드블록\n",
    "elif 조건식 : \n",
    "    코드블록\n",
    "    코드블록\n",
    "else : \n",
    "    코드블록\n",
    "    코드블록\n",
    "```"
   ]
  },
  {
   "cell_type": "code",
   "execution_count": 6,
   "id": "e87bd5c4",
   "metadata": {},
   "outputs": [
    {
     "name": "stdout",
     "output_type": "stream",
     "text": [
      "갖고 있는 돈을 입력하세요 >> 6000\n",
      "버스를 타고 간다!\n"
     ]
    }
   ],
   "source": [
    "# 갖고 있는 돈을 검사해서\n",
    "# 10000원 이상인 경우 택시를 타고, 그렇지 않은 경우 걸어간다!!\n",
    "# 10000원 미만인데, 5000원 이상인 경우 버스를 타고 간다!!\n",
    "\n",
    "money = int(input(\"갖고 있는 돈을 입력하세요 >> \"))\n",
    "\n",
    "if money >= 10000 :\n",
    "    print(\"택시를 탄다!\")\n",
    "elif money >= 5000 :\n",
    "    print(\"버스를 타고 간다!\")\n",
    "else : \n",
    "    print(\"걸어간다!\")"
   ]
  },
  {
   "cell_type": "code",
   "execution_count": 4,
   "id": "164fbe2f",
   "metadata": {},
   "outputs": [
    {
     "name": "stdout",
     "output_type": "stream",
     "text": [
      "첫 번째 정수입력 >> 5\n",
      "두 번째 정수입력 >> 10\n",
      "두 번째 정수가 더 큽니다.\n"
     ]
    }
   ],
   "source": [
    "# 변수 num1과 num2에 숫자를 입력 받아 크기를 비교하라!!\n",
    "num1 = int(input(\"첫 번째 정수입력 >> \"))\n",
    "num2 = int(input(\"두 번째 정수입력 >> \"))\n",
    "\n",
    "if num1 > num2 :\n",
    "    print(\"첫 번째 정수가 더 큽니다.\")\n",
    "elif num2 > num1 :\n",
    "    print(\"두 번째 정수가 더 큽니다.\")\n",
    "else : \n",
    "    print(\"두 수가 똑같습니다.\")"
   ]
  },
  {
   "cell_type": "code",
   "execution_count": 11,
   "id": "835466b8",
   "metadata": {},
   "outputs": [
    {
     "name": "stdout",
     "output_type": "stream",
     "text": [
      "점수 입력 >> 98\n",
      "98점은 A학점 입니다.\n"
     ]
    }
   ],
   "source": [
    "# 변수 score에 점수를 입력받아서 다음과 같이 학점을 부여하라!!\n",
    "score = int(input(\"점수 입력 >> \"))\n",
    "\n",
    "if score >= 0 and score <= 100:\n",
    "    if score >= 90 :\n",
    "        grade = \"A\"\n",
    "    elif score >= 80 :\n",
    "        grade = \"B\"\n",
    "    elif score >= 70 :\n",
    "        grade = \"C\"\n",
    "    elif score >= 60 :\n",
    "        grade = \"D\"\n",
    "    else :\n",
    "        grade = \"F\"\n",
    "    \n",
    "    print(f\"{score}점은 {grade}학점 입니다.\")\n",
    "else : \n",
    "    print(\"잘 못 입력하였습니다.\")\n"
   ]
  }
 ],
 "metadata": {
  "kernelspec": {
   "display_name": "Python 3 (ipykernel)",
   "language": "python",
   "name": "python3"
  },
  "language_info": {
   "codemirror_mode": {
    "name": "ipython",
    "version": 3
   },
   "file_extension": ".py",
   "mimetype": "text/x-python",
   "name": "python",
   "nbconvert_exporter": "python",
   "pygments_lexer": "ipython3",
   "version": "3.11.5"
  }
 },
 "nbformat": 4,
 "nbformat_minor": 5
}
