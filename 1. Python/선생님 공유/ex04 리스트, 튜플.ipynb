{
 "cells": [
  {
   "cell_type": "markdown",
   "id": "bf3e846d",
   "metadata": {},
   "source": [
    "### 1. 리스트(list)\n",
    "- 파이썬의 자료형 중 하나\n",
    "- 순서가 있는(인덱스가 존재) <b>수정 가능</b>한 객체의 집합\n",
    "- <b>대괄호 \"[ ]\"</b>로 작성되어지며, 리스트의 내부의 요소들은 콤마 \",\"로 구분"
   ]
  },
  {
   "cell_type": "code",
   "execution_count": 1,
   "id": "94d65fd8",
   "metadata": {},
   "outputs": [
    {
     "data": {
      "text/plain": [
       "[2, 5, 7, 9, 10]"
      ]
     },
     "execution_count": 1,
     "metadata": {},
     "output_type": "execute_result"
    }
   ],
   "source": [
    "# 리스트 생성\n",
    "\n",
    "list1 = [2, 5, 7, 9, 10]\n",
    "list1"
   ]
  },
  {
   "cell_type": "code",
   "execution_count": 2,
   "id": "f155e9bc",
   "metadata": {},
   "outputs": [],
   "source": [
    "a = []\n",
    "b = [\"My\", \"name\", \"is\", \"BG\"]\n",
    "c = [1, 2, \"My\", \"is\"]\n",
    "d = [1, 2, [\"My\", \"is\"]]"
   ]
  },
  {
   "cell_type": "markdown",
   "id": "0f7bd1bf",
   "metadata": {},
   "source": [
    "#### 1-1 리스트 인덱싱, 슬라이싱\n",
    "- 인덱싱(indexing) : 무엇(요소 하나)인가를 가리키다\n",
    "- 슬라이싱(slicing) : 무엇(요소들)인가를 잘라낸다"
   ]
  },
  {
   "cell_type": "code",
   "execution_count": 3,
   "id": "d5c13ad7",
   "metadata": {},
   "outputs": [
    {
     "data": {
      "text/plain": [
       "9"
      ]
     },
     "execution_count": 3,
     "metadata": {},
     "output_type": "execute_result"
    }
   ],
   "source": [
    "# 인덱싱!\n",
    "list1[3]"
   ]
  },
  {
   "cell_type": "code",
   "execution_count": 4,
   "id": "f129e670",
   "metadata": {},
   "outputs": [
    {
     "data": {
      "text/plain": [
       "[1, 2, 3, ['a', 'b', ' c']]"
      ]
     },
     "execution_count": 4,
     "metadata": {},
     "output_type": "execute_result"
    }
   ],
   "source": [
    "list2 = [1, 2, 3, ['a', 'b',' c']]\n",
    "list2"
   ]
  },
  {
   "cell_type": "code",
   "execution_count": 8,
   "id": "c266080e",
   "metadata": {},
   "outputs": [
    {
     "name": "stdout",
     "output_type": "stream",
     "text": [
      "['a', 'b', ' c']\n"
     ]
    },
    {
     "data": {
      "text/plain": [
       "'b'"
      ]
     },
     "execution_count": 8,
     "metadata": {},
     "output_type": "execute_result"
    }
   ],
   "source": [
    "temp = list2[3]\n",
    "print(temp)\n",
    "temp[1]"
   ]
  },
  {
   "cell_type": "code",
   "execution_count": 6,
   "id": "1ddcec85",
   "metadata": {},
   "outputs": [
    {
     "data": {
      "text/plain": [
       "'b'"
      ]
     },
     "execution_count": 6,
     "metadata": {},
     "output_type": "execute_result"
    }
   ],
   "source": [
    "list2[3][1]"
   ]
  },
  {
   "cell_type": "code",
   "execution_count": 9,
   "id": "458baca6",
   "metadata": {},
   "outputs": [
    {
     "data": {
      "text/plain": [
       "[0, 1, 2, 3, 4]"
      ]
     },
     "execution_count": 9,
     "metadata": {},
     "output_type": "execute_result"
    }
   ],
   "source": [
    "# 슬라이싱\n",
    "list3 = [0, 1, 2, 3, 4]\n",
    "list3"
   ]
  },
  {
   "cell_type": "code",
   "execution_count": 10,
   "id": "4220024e",
   "metadata": {},
   "outputs": [
    {
     "data": {
      "text/plain": [
       "[1, 2]"
      ]
     },
     "execution_count": 10,
     "metadata": {},
     "output_type": "execute_result"
    }
   ],
   "source": [
    "list3[1:3]"
   ]
  },
  {
   "cell_type": "code",
   "execution_count": 11,
   "id": "7fa81cad",
   "metadata": {},
   "outputs": [
    {
     "data": {
      "text/plain": [
       "[1, 2, 3, 4, 5, 6]"
      ]
     },
     "execution_count": 11,
     "metadata": {},
     "output_type": "execute_result"
    }
   ],
   "source": [
    "# 리스트 연산!\n",
    "# 이어붙여진다!!\n",
    "list4 = [1, 2, 3]\n",
    "list5 = [4, 5, 6]\n",
    "\n",
    "list4 + list5"
   ]
  },
  {
   "cell_type": "code",
   "execution_count": 12,
   "id": "8700b397",
   "metadata": {},
   "outputs": [
    {
     "data": {
      "text/plain": [
       "[1, 2, 3, 1, 2, 3, 1, 2, 3, 1, 2, 3, 1, 2, 3]"
      ]
     },
     "execution_count": 12,
     "metadata": {},
     "output_type": "execute_result"
    }
   ],
   "source": [
    "list4 * 5"
   ]
  },
  {
   "cell_type": "markdown",
   "id": "d1958874",
   "metadata": {},
   "source": [
    "#### 리스트 요소 추가\n",
    "- append(값) : 맨 뒤에 요소 추가(가장 많이 사용하게 될 추가 기능)\n",
    "- insert(인덱스, 값) : 원하는 인덱스에 요소 추가"
   ]
  },
  {
   "cell_type": "code",
   "execution_count": 13,
   "id": "31370940",
   "metadata": {},
   "outputs": [
    {
     "data": {
      "text/plain": [
       "[0, 1, 2, 3, 4, 5]"
      ]
     },
     "execution_count": 13,
     "metadata": {},
     "output_type": "execute_result"
    }
   ],
   "source": [
    "list6 = [0, 1, 2, 3, 4, 5]\n",
    "list6"
   ]
  },
  {
   "cell_type": "code",
   "execution_count": 14,
   "id": "4a933211",
   "metadata": {},
   "outputs": [],
   "source": [
    "list6.append(6)"
   ]
  },
  {
   "cell_type": "code",
   "execution_count": 15,
   "id": "c72540b7",
   "metadata": {},
   "outputs": [
    {
     "data": {
      "text/plain": [
       "[0, 1, 2, 3, 4, 5, 6]"
      ]
     },
     "execution_count": 15,
     "metadata": {},
     "output_type": "execute_result"
    }
   ],
   "source": [
    "list6"
   ]
  },
  {
   "cell_type": "code",
   "execution_count": 16,
   "id": "2c32c3a1",
   "metadata": {},
   "outputs": [],
   "source": [
    "list6.insert(3, 10)"
   ]
  },
  {
   "cell_type": "code",
   "execution_count": 17,
   "id": "fb8e2050",
   "metadata": {},
   "outputs": [
    {
     "data": {
      "text/plain": [
       "[0, 1, 2, 10, 3, 4, 5, 6]"
      ]
     },
     "execution_count": 17,
     "metadata": {},
     "output_type": "execute_result"
    }
   ],
   "source": [
    "list6"
   ]
  },
  {
   "cell_type": "markdown",
   "id": "148bd15d",
   "metadata": {},
   "source": [
    "#### 리스트 요소 수정\n",
    "- 지정(인덱싱, 슬라이싱)하고 대입!"
   ]
  },
  {
   "cell_type": "code",
   "execution_count": 19,
   "id": "9ce6bd76",
   "metadata": {},
   "outputs": [],
   "source": [
    "list6[3] = 3"
   ]
  },
  {
   "cell_type": "code",
   "execution_count": 20,
   "id": "949d8d88",
   "metadata": {},
   "outputs": [
    {
     "data": {
      "text/plain": [
       "[0, 1, 2, 3, 3, 4, 5, 6]"
      ]
     },
     "execution_count": 20,
     "metadata": {},
     "output_type": "execute_result"
    }
   ],
   "source": [
    "list6"
   ]
  },
  {
   "cell_type": "markdown",
   "id": "3ea78b90",
   "metadata": {},
   "source": [
    "#### 리스트 요소 삭제\n",
    "- del 지정 : 해당 요소 삭제\n",
    "    - del 객체 : 내부 요소를 삭제할 때 사용하는 객체\n",
    "- remove(값) : 인덱스 순서대로 가장 첫번째 값을 가진 요소 삭제"
   ]
  },
  {
   "cell_type": "code",
   "execution_count": 21,
   "id": "3cc79fb8",
   "metadata": {},
   "outputs": [],
   "source": [
    "list6.remove(3)"
   ]
  },
  {
   "cell_type": "code",
   "execution_count": 22,
   "id": "4ea17e2e",
   "metadata": {},
   "outputs": [
    {
     "data": {
      "text/plain": [
       "[0, 1, 2, 3, 4, 5, 6]"
      ]
     },
     "execution_count": 22,
     "metadata": {},
     "output_type": "execute_result"
    }
   ],
   "source": [
    "list6"
   ]
  },
  {
   "cell_type": "code",
   "execution_count": 23,
   "id": "fab5cfca",
   "metadata": {},
   "outputs": [],
   "source": [
    "del list6[5]"
   ]
  },
  {
   "cell_type": "code",
   "execution_count": 24,
   "id": "c8961f68",
   "metadata": {},
   "outputs": [
    {
     "data": {
      "text/plain": [
       "[0, 1, 2, 3, 4, 6]"
      ]
     },
     "execution_count": 24,
     "metadata": {},
     "output_type": "execute_result"
    }
   ],
   "source": [
    "list6"
   ]
  },
  {
   "cell_type": "code",
   "execution_count": 25,
   "id": "f46dc046",
   "metadata": {},
   "outputs": [],
   "source": [
    "del list6[4:]"
   ]
  },
  {
   "cell_type": "code",
   "execution_count": 26,
   "id": "5770aff8",
   "metadata": {},
   "outputs": [
    {
     "data": {
      "text/plain": [
       "[0, 1, 2, 3]"
      ]
     },
     "execution_count": 26,
     "metadata": {},
     "output_type": "execute_result"
    }
   ],
   "source": [
    "list6"
   ]
  },
  {
   "cell_type": "markdown",
   "id": "08908060",
   "metadata": {},
   "source": [
    "#### 리스트 정렬 및 길이확인\n",
    "- sort() : 오름차순 정렬\n",
    "- len() : 길이 확인"
   ]
  },
  {
   "cell_type": "code",
   "execution_count": 27,
   "id": "ce590322",
   "metadata": {},
   "outputs": [
    {
     "data": {
      "text/plain": [
       "[9, 77, 13, 51, 100, 3]"
      ]
     },
     "execution_count": 27,
     "metadata": {},
     "output_type": "execute_result"
    }
   ],
   "source": [
    "list7 = [9, 77, 13, 51, 100, 3]\n",
    "list7"
   ]
  },
  {
   "cell_type": "code",
   "execution_count": 30,
   "id": "e90a233e",
   "metadata": {},
   "outputs": [],
   "source": [
    "# reverse = False : 기본값으로 False, 오름차순 정렬\n",
    "# reverse = True : 내림차순으로 정렬\n",
    "list7.sort(reverse=True)"
   ]
  },
  {
   "cell_type": "code",
   "execution_count": 31,
   "id": "97f20889",
   "metadata": {},
   "outputs": [
    {
     "data": {
      "text/plain": [
       "[100, 77, 51, 13, 9, 3]"
      ]
     },
     "execution_count": 31,
     "metadata": {},
     "output_type": "execute_result"
    }
   ],
   "source": [
    "list7"
   ]
  },
  {
   "cell_type": "code",
   "execution_count": 34,
   "id": "01006573",
   "metadata": {},
   "outputs": [
    {
     "name": "stdout",
     "output_type": "stream",
     "text": [
      "가나다 라마바\n"
     ]
    }
   ],
   "source": [
    "print(\"가나다\", end=\" \")\n",
    "print(\"라마바\")"
   ]
  },
  {
   "cell_type": "code",
   "execution_count": 35,
   "id": "08859321",
   "metadata": {
    "scrolled": true
   },
   "outputs": [
    {
     "data": {
      "text/plain": [
       "6"
      ]
     },
     "execution_count": 35,
     "metadata": {},
     "output_type": "execute_result"
    }
   ],
   "source": [
    "len(list7)"
   ]
  },
  {
   "cell_type": "markdown",
   "id": "96d4caea",
   "metadata": {},
   "source": [
    "### 2. 튜플(tuple)\n",
    "- 파이썬의 자료형 중 하나\n",
    "- 순서가 있는(인덱스가 존재) <b>수정 불가능</b>한 객체의 집합\n",
    "- <b>소괄호 \"( )\"</b>로 작성되어지며, 튜플의 내부의 요소들은 콤마 \",\"로 구분"
   ]
  },
  {
   "cell_type": "code",
   "execution_count": 37,
   "id": "1b500206",
   "metadata": {},
   "outputs": [],
   "source": [
    "# 튜플 생성\n",
    "\n",
    "a = ()\n",
    "b = (1, 2, 3)\n",
    "c = (\"My\", \"name\", \"is\", \"BG\")\n",
    "d = (1, 2, \"My\", \"name\")\n",
    "e = (1, 3, (\"is\", \"BG\"))\n",
    "f = (1, 2, 3, [\"a\", \"b\", \"c\"])"
   ]
  },
  {
   "cell_type": "code",
   "execution_count": 39,
   "id": "4dcfc458",
   "metadata": {},
   "outputs": [
    {
     "data": {
      "text/plain": [
       "'b'"
      ]
     },
     "execution_count": 39,
     "metadata": {},
     "output_type": "execute_result"
    }
   ],
   "source": [
    "# 튜플 인덱싱\n",
    "f[3][1]"
   ]
  },
  {
   "cell_type": "code",
   "execution_count": 40,
   "id": "fdc2c02e",
   "metadata": {},
   "outputs": [
    {
     "data": {
      "text/plain": [
       "4"
      ]
     },
     "execution_count": 40,
     "metadata": {},
     "output_type": "execute_result"
    }
   ],
   "source": [
    "# 튜플 길이보기\n",
    "len(f)"
   ]
  },
  {
   "cell_type": "code",
   "execution_count": 42,
   "id": "8949912a",
   "metadata": {},
   "outputs": [
    {
     "data": {
      "text/plain": [
       "'is'"
      ]
     },
     "execution_count": 42,
     "metadata": {},
     "output_type": "execute_result"
    }
   ],
   "source": [
    "e[2][0]"
   ]
  },
  {
   "cell_type": "code",
   "execution_count": 44,
   "id": "e931a1df",
   "metadata": {
    "collapsed": true
   },
   "outputs": [
    {
     "ename": "TypeError",
     "evalue": "'tuple' object does not support item assignment",
     "output_type": "error",
     "traceback": [
      "\u001b[1;31m---------------------------------------------------------------------------\u001b[0m",
      "\u001b[1;31mTypeError\u001b[0m                                 Traceback (most recent call last)",
      "Cell \u001b[1;32mIn[44], line 2\u001b[0m\n\u001b[0;32m      1\u001b[0m \u001b[38;5;66;03m# 튜플 추가, 수정, 삭제 불가능\u001b[39;00m\n\u001b[1;32m----> 2\u001b[0m b[\u001b[38;5;241m1\u001b[39m] \u001b[38;5;241m=\u001b[39m \u001b[38;5;241m3\u001b[39m\n",
      "\u001b[1;31mTypeError\u001b[0m: 'tuple' object does not support item assignment"
     ]
    }
   ],
   "source": [
    "# 튜플 추가, 수정, 삭제 불가능\n",
    "b[1] = 3"
   ]
  },
  {
   "cell_type": "code",
   "execution_count": 48,
   "id": "1b369d88",
   "metadata": {},
   "outputs": [],
   "source": [
    "# 튜플 안에 리스트는 수정 됨?\n",
    "# f[3] -> 리스트 요소를 지정\n",
    "# → 리스트는 수정 가능하기 때문에 튜플 안에 리스트 수정 가능!!\n",
    "f[3][1] = \"g\""
   ]
  },
  {
   "cell_type": "code",
   "execution_count": 49,
   "id": "e9340225",
   "metadata": {
    "scrolled": true
   },
   "outputs": [
    {
     "data": {
      "text/plain": [
       "(1, 2, 3, ['a', 'g', 'c'])"
      ]
     },
     "execution_count": 49,
     "metadata": {},
     "output_type": "execute_result"
    }
   ],
   "source": [
    "f"
   ]
  },
  {
   "cell_type": "code",
   "execution_count": 50,
   "id": "f3c69c7d",
   "metadata": {},
   "outputs": [
    {
     "data": {
      "text/plain": [
       "(2, 1)"
      ]
     },
     "execution_count": 50,
     "metadata": {},
     "output_type": "execute_result"
    }
   ],
   "source": [
    "# 치환\n",
    "A = 1\n",
    "B = 2\n",
    "\n",
    "temp = A\n",
    "A = B\n",
    "B = temp\n",
    "\n",
    "A, B"
   ]
  },
  {
   "cell_type": "code",
   "execution_count": 51,
   "id": "b02a8037",
   "metadata": {},
   "outputs": [
    {
     "data": {
      "text/plain": [
       "(2, 1)"
      ]
     },
     "execution_count": 51,
     "metadata": {},
     "output_type": "execute_result"
    }
   ],
   "source": [
    "# pytnon에서의 치환\n",
    "A = 1\n",
    "B = 2\n",
    "\n",
    "A, B = B, A\n",
    "\n",
    "A, B"
   ]
  },
  {
   "cell_type": "code",
   "execution_count": null,
   "id": "dd7651f2",
   "metadata": {},
   "outputs": [],
   "source": []
  },
  {
   "cell_type": "code",
   "execution_count": null,
   "id": "47ae885a",
   "metadata": {},
   "outputs": [],
   "source": []
  },
  {
   "cell_type": "code",
   "execution_count": null,
   "id": "a35554fd",
   "metadata": {},
   "outputs": [],
   "source": []
  },
  {
   "cell_type": "code",
   "execution_count": null,
   "id": "49b370b6",
   "metadata": {},
   "outputs": [],
   "source": []
  },
  {
   "cell_type": "code",
   "execution_count": null,
   "id": "b3d6728f",
   "metadata": {},
   "outputs": [],
   "source": []
  }
 ],
 "metadata": {
  "kernelspec": {
   "display_name": "Python 3 (ipykernel)",
   "language": "python",
   "name": "python3"
  },
  "language_info": {
   "codemirror_mode": {
    "name": "ipython",
    "version": 3
   },
   "file_extension": ".py",
   "mimetype": "text/x-python",
   "name": "python",
   "nbconvert_exporter": "python",
   "pygments_lexer": "ipython3",
   "version": "3.11.5"
  }
 },
 "nbformat": 4,
 "nbformat_minor": 5
}
