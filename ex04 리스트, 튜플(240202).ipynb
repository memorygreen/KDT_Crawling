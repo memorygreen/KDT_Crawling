{
 "cells": [
  {
   "cell_type": "markdown",
   "id": "096bd696",
   "metadata": {},
   "source": [
    "### 1. 리스트(list)\n",
    "- 파이썬의 자료형 중 하나 \n",
    "- 순서가 있는(인덱스가 존재)<b>수정 가능</b>한 객체의 집합\n",
    "(자:인덱싱, 슬라이싱 가능)\n",
    "- <b>대괄호 \"[ ]\"</b>로 작성되어지며, 리스트 내부의 요소들은 <b>콤마 \",\"</b>로 구분"
   ]
  },
  {
   "cell_type": "code",
   "execution_count": 4,
   "id": "0ae6f4ec",
   "metadata": {},
   "outputs": [
    {
     "data": {
      "text/plain": [
       "[2, 5, 7, 9, 10]"
      ]
     },
     "execution_count": 4,
     "metadata": {},
     "output_type": "execute_result"
    }
   ],
   "source": [
    "# 리스트 생성\n",
    "list1 = [2, 5, 7, 9, 10] #출력 : [2, 5, 7, 9, 10]\n",
    "list1"
   ]
  },
  {
   "cell_type": "code",
   "execution_count": 8,
   "id": "96ea2419",
   "metadata": {},
   "outputs": [],
   "source": [
    "a = []\n",
    "b = [\"My\", \"name\", \"is\", \"BG\"]\n",
    "c = [1, 2, \"My\", \"is\"]\n",
    "d = [1 ,2, [\"My\", \"is\"]]"
   ]
  },
  {
   "cell_type": "markdown",
   "id": "f86f90e6",
   "metadata": {},
   "source": [
    "#### 1-1 리스트 인덱싱, 슬라이싱\n",
    "- 인덱싱(indexing) : 무엇(요소 하나)인가를 가리키다 \n",
    "- 슬라이싱(slicing) : 무엇(요소들)인가를 잘라낸다\n"
   ]
  },
  {
   "cell_type": "code",
   "execution_count": 13,
   "id": "cab7744a",
   "metadata": {},
   "outputs": [
    {
     "data": {
      "text/plain": [
       "9"
      ]
     },
     "execution_count": 13,
     "metadata": {},
     "output_type": "execute_result"
    }
   ],
   "source": [
    "#인덱싱!\n",
    "list1 = [2, 5, 7, 9, 10] \n",
    "list1[3] #9"
   ]
  },
  {
   "cell_type": "code",
   "execution_count": 15,
   "id": "f3040a65",
   "metadata": {},
   "outputs": [
    {
     "data": {
      "text/plain": [
       "[1, 2, 3, ['a', 'b', 'c']]"
      ]
     },
     "execution_count": 15,
     "metadata": {},
     "output_type": "execute_result"
    }
   ],
   "source": [
    "list2 = [1, 2, 3, ['a', 'b', 'c']]\n",
    "list2"
   ]
  },
  {
   "cell_type": "code",
   "execution_count": 18,
   "id": "b0b726d0",
   "metadata": {},
   "outputs": [
    {
     "data": {
      "text/plain": [
       "['a', 'b', 'c']"
      ]
     },
     "execution_count": 18,
     "metadata": {},
     "output_type": "execute_result"
    }
   ],
   "source": [
    "list2[3] #['a', 'b', 'c']"
   ]
  },
  {
   "cell_type": "code",
   "execution_count": 19,
   "id": "05ce2362",
   "metadata": {},
   "outputs": [
    {
     "data": {
      "text/plain": [
       "'b'"
      ]
     },
     "execution_count": 19,
     "metadata": {},
     "output_type": "execute_result"
    }
   ],
   "source": [
    "list2[3][1] #'b'"
   ]
  },
  {
   "cell_type": "code",
   "execution_count": 23,
   "id": "bcaf096c",
   "metadata": {},
   "outputs": [
    {
     "name": "stdout",
     "output_type": "stream",
     "text": [
      "['a', 'b', 'c']\n"
     ]
    },
    {
     "data": {
      "text/plain": [
       "'b'"
      ]
     },
     "execution_count": 23,
     "metadata": {},
     "output_type": "execute_result"
    }
   ],
   "source": [
    "temp = list2[3]\n",
    "print(temp)#출력:['a', 'b', 'c']\n",
    "temp[1] #출력:'b'"
   ]
  },
  {
   "cell_type": "code",
   "execution_count": 24,
   "id": "0fe32aad",
   "metadata": {},
   "outputs": [],
   "source": [
    "# 슬라이싱\n",
    "list3 = [0, 1, 2, 3, 4]\n",
    "\n"
   ]
  },
  {
   "cell_type": "code",
   "execution_count": 25,
   "id": "648610e2",
   "metadata": {},
   "outputs": [
    {
     "data": {
      "text/plain": [
       "[1, 2]"
      ]
     },
     "execution_count": 25,
     "metadata": {},
     "output_type": "execute_result"
    }
   ],
   "source": [
    "#1,2\n",
    "list3[1:3]#출력 :[1, 2]"
   ]
  },
  {
   "cell_type": "code",
   "execution_count": 28,
   "id": "f6688568",
   "metadata": {},
   "outputs": [
    {
     "data": {
      "text/plain": [
       "[1, 2, 3, 4, 5, 6]"
      ]
     },
     "execution_count": 28,
     "metadata": {},
     "output_type": "execute_result"
    }
   ],
   "source": [
    "# 리스트 연산!\n",
    "# 이어붙임\n",
    "list4 = [1, 2, 3]\n",
    "list5 = [4, 5, 6]\n",
    "\n",
    "list4+list5 #출력 : [1, 2, 3, 4, 5, 6]"
   ]
  },
  {
   "cell_type": "code",
   "execution_count": 30,
   "id": "a7296c37",
   "metadata": {},
   "outputs": [
    {
     "data": {
      "text/plain": [
       "[1, 2, 3, 1, 2, 3, 1, 2, 3, 1, 2, 3, 1, 2, 3]"
      ]
     },
     "execution_count": 30,
     "metadata": {},
     "output_type": "execute_result"
    }
   ],
   "source": [
    "list4 * 5 #출력:[1, 2, 3, 1, 2, 3, 1, 2, 3, 1, 2, 3, 1, 2, 3]"
   ]
  },
  {
   "cell_type": "markdown",
   "id": "38459d1e",
   "metadata": {},
   "source": [
    "#### 리스트 요소 추가\n",
    "- append(값) : 맨 뒤에 요소 추가 (가장 많이 사용하게 될 기능)\n",
    "- insert(인덱스, 값) : 원하는 인덱스에 요소 추가\n"
   ]
  },
  {
   "cell_type": "code",
   "execution_count": 34,
   "id": "732d5705",
   "metadata": {},
   "outputs": [
    {
     "data": {
      "text/plain": [
       "[0, 1, 2, 3, 4, 5]"
      ]
     },
     "execution_count": 34,
     "metadata": {},
     "output_type": "execute_result"
    }
   ],
   "source": [
    "list6 = [0, 1, 2, 3, 4, 5]\n",
    "list6 #출력 : 0, 1, 2, 3, 4, 5]"
   ]
  },
  {
   "cell_type": "code",
   "execution_count": 37,
   "id": "7fba151a",
   "metadata": {},
   "outputs": [],
   "source": [
    "list6.append(6)"
   ]
  },
  {
   "cell_type": "code",
   "execution_count": 39,
   "id": "ae10ccfa",
   "metadata": {},
   "outputs": [
    {
     "data": {
      "text/plain": [
       "[0, 1, 2, 3, 4, 5, 6, 6]"
      ]
     },
     "execution_count": 39,
     "metadata": {},
     "output_type": "execute_result"
    }
   ],
   "source": [
    "list6 #출력 : [0, 1, 2, 3, 4, 5, 6, 6]"
   ]
  },
  {
   "cell_type": "code",
   "execution_count": 56,
   "id": "d4fdf38c",
   "metadata": {},
   "outputs": [],
   "source": [
    "list6.insert(3, 10) #3번인덱스에 10 추가(오른쪽으로 1칸씩 밀려남)"
   ]
  },
  {
   "cell_type": "code",
   "execution_count": 57,
   "id": "ff1a3248",
   "metadata": {},
   "outputs": [
    {
     "data": {
      "text/plain": [
       "[0, 1, 2, 10, 10, 4, 6]"
      ]
     },
     "execution_count": 57,
     "metadata": {},
     "output_type": "execute_result"
    }
   ],
   "source": [
    "list6 #출력 : [0, 1, 2, 10, 10, 3, 4, 5, 6, 6]\n"
   ]
  },
  {
   "cell_type": "markdown",
   "id": "74d4fca7",
   "metadata": {},
   "source": [
    "#### 리스트 수정\n",
    "- 지정(인덱싱, 슬라이싱)하고 대입!"
   ]
  },
  {
   "cell_type": "code",
   "execution_count": 47,
   "id": "8dadc688",
   "metadata": {},
   "outputs": [],
   "source": [
    "# 3번 인덱스의 10을 다시 3으로 바꿔보자\n",
    "list6[3]=3"
   ]
  },
  {
   "cell_type": "code",
   "execution_count": 48,
   "id": "2f6e5842",
   "metadata": {},
   "outputs": [
    {
     "data": {
      "text/plain": [
       "[0, 1, 2, 3, 10, 3, 4, 5, 6, 6]"
      ]
     },
     "execution_count": 48,
     "metadata": {},
     "output_type": "execute_result"
    }
   ],
   "source": [
    "list6"
   ]
  },
  {
   "cell_type": "markdown",
   "id": "a325d6fc",
   "metadata": {},
   "source": [
    "#### 리스트 요소 삭제\n",
    "- del 지정\n",
    "    - del 객체 : 내부 요소를 삭제할 때 사용하는 객체\n",
    "- remove(값) : 인덱스 순서대로 가장 첫번째 값을 가진 요소 삭제\n"
   ]
  },
  {
   "cell_type": "code",
   "execution_count": 50,
   "id": "f87b8c4a",
   "metadata": {},
   "outputs": [],
   "source": [
    "list6.remove(3)"
   ]
  },
  {
   "cell_type": "code",
   "execution_count": 52,
   "id": "651c0fcf",
   "metadata": {},
   "outputs": [
    {
     "data": {
      "text/plain": [
       "[0, 1, 2, 10, 4, 5, 6, 6]"
      ]
     },
     "execution_count": 52,
     "metadata": {},
     "output_type": "execute_result"
    }
   ],
   "source": [
    "list6 #출력 : [0, 1, 2, 3, 4, 5, 6]"
   ]
  },
  {
   "cell_type": "code",
   "execution_count": 54,
   "id": "ad52d055",
   "metadata": {},
   "outputs": [],
   "source": [
    "del list6[5] "
   ]
  },
  {
   "cell_type": "code",
   "execution_count": 58,
   "id": "306ec081",
   "metadata": {},
   "outputs": [
    {
     "data": {
      "text/plain": [
       "[0, 1, 2, 10, 10, 4, 6]"
      ]
     },
     "execution_count": 58,
     "metadata": {},
     "output_type": "execute_result"
    }
   ],
   "source": [
    "list6#출력 : [0, 1, 2, 3, 4,  6]"
   ]
  },
  {
   "cell_type": "code",
   "execution_count": 61,
   "id": "185153ac",
   "metadata": {},
   "outputs": [],
   "source": [
    "del list6[4:]"
   ]
  },
  {
   "cell_type": "code",
   "execution_count": 63,
   "id": "7556796a",
   "metadata": {},
   "outputs": [
    {
     "data": {
      "text/plain": [
       "[0, 1, 2, 10]"
      ]
     },
     "execution_count": 63,
     "metadata": {},
     "output_type": "execute_result"
    }
   ],
   "source": [
    "list6 #출력 : [0, 1, 2, 10]"
   ]
  },
  {
   "cell_type": "markdown",
   "id": "79986ba9",
   "metadata": {},
   "source": [
    "#### 리스트 정렬 및 길이 확인\n",
    "- sort() : 오름차순 정렬\n",
    "- len()  : 길이확인"
   ]
  },
  {
   "cell_type": "code",
   "execution_count": 67,
   "id": "a2811b80",
   "metadata": {},
   "outputs": [
    {
     "data": {
      "text/plain": [
       "[9, 77, 13, 51, 100, 3]"
      ]
     },
     "execution_count": 67,
     "metadata": {},
     "output_type": "execute_result"
    }
   ],
   "source": [
    "list7 = [9, 77, 13, 51, 100, 3]\n",
    "list7 #출력:[9, 77, 13, 51, 100, 3]"
   ]
  },
  {
   "cell_type": "code",
   "execution_count": 69,
   "id": "021bd1a1",
   "metadata": {},
   "outputs": [],
   "source": [
    "list7.sort()"
   ]
  },
  {
   "cell_type": "code",
   "execution_count": 71,
   "id": "3610965f",
   "metadata": {},
   "outputs": [
    {
     "data": {
      "text/plain": [
       "[3, 9, 13, 51, 77, 100]"
      ]
     },
     "execution_count": 71,
     "metadata": {},
     "output_type": "execute_result"
    }
   ],
   "source": [
    "list7 #출력:[3, 9, 13, 51, 77, 100]"
   ]
  },
  {
   "cell_type": "code",
   "execution_count": 73,
   "id": "b73507ef",
   "metadata": {},
   "outputs": [
    {
     "data": {
      "text/plain": [
       "[100, 77, 51, 13, 9, 3]"
      ]
     },
     "execution_count": 73,
     "metadata": {},
     "output_type": "execute_result"
    }
   ],
   "source": [
    "# reverse = False : 기본값으로 False, 오름차순 정렬\n",
    "# reverse = True : 내림차순으로 정렬\n",
    "list7.sort(reverse=True)\n",
    "list7 #출력 : [100, 77, 51, 13, 9, 3]"
   ]
  },
  {
   "cell_type": "code",
   "execution_count": 77,
   "id": "1b4545de",
   "metadata": {},
   "outputs": [
    {
     "name": "stdout",
     "output_type": "stream",
     "text": [
      "가나다 라마바\n"
     ]
    }
   ],
   "source": [
    "print(\"가나다\", end = \" \") #가나다\n",
    "print(\"라마바\") #라마바"
   ]
  },
  {
   "cell_type": "code",
   "execution_count": 79,
   "id": "f4380392",
   "metadata": {},
   "outputs": [
    {
     "data": {
      "text/plain": [
       "6"
      ]
     },
     "execution_count": 79,
     "metadata": {},
     "output_type": "execute_result"
    }
   ],
   "source": [
    "# 길이확인\n",
    "list7 = [9, 77, 13, 51, 100, 3]\n",
    "len(list7) #출력 : 6"
   ]
  },
  {
   "cell_type": "markdown",
   "id": "5211ceb7",
   "metadata": {},
   "source": [
    "### 2. 튜플(tuple)\n",
    "- 파이썬의 자료형 중 하나 \n",
    "- 순서가 있는(인덱스가 존재)<b>수정 불가능</b>한 객체의 집합\n",
    "(자:인덱싱, 슬라이싱 가능)\n",
    "- <b>소괄호 \"( )\"</b>로 작성되어지며, 튜플 내부의 요소들은 <b>콤마 \",\"</b>로 구분"
   ]
  },
  {
   "cell_type": "code",
   "execution_count": 84,
   "id": "e2410811",
   "metadata": {},
   "outputs": [],
   "source": [
    "# 튜플 생성\n",
    "\n",
    "a = ()\n",
    "b = (1,2,3)\n",
    "c = (\"My\", \"name\", \"is\", \"BG\")\n",
    "d = (1, 2, \"My\", \"name\")\n",
    "e = (1, 3, (\"is\", \"BG\"))\n",
    "f = (1, 2, 3, [\"a\",\"b\",\"c\"]) #자:튜플 안에 리스트, 리스트안에 튜플도 가능"
   ]
  },
  {
   "cell_type": "code",
   "execution_count": 89,
   "id": "3ae12b0e",
   "metadata": {},
   "outputs": [
    {
     "data": {
      "text/plain": [
       "'b'"
      ]
     },
     "execution_count": 89,
     "metadata": {},
     "output_type": "execute_result"
    }
   ],
   "source": [
    "# 튜플 인덱싱 \n",
    "f[3][1] #출력:'b'"
   ]
  },
  {
   "cell_type": "code",
   "execution_count": 92,
   "id": "55508bd6",
   "metadata": {},
   "outputs": [
    {
     "data": {
      "text/plain": [
       "'is'"
      ]
     },
     "execution_count": 92,
     "metadata": {},
     "output_type": "execute_result"
    }
   ],
   "source": [
    "# 튜플 인덱싱 \n",
    "e[2][0] #출력:'is'"
   ]
  },
  {
   "cell_type": "code",
   "execution_count": 93,
   "id": "268b0adf",
   "metadata": {},
   "outputs": [
    {
     "data": {
      "text/plain": [
       "4"
      ]
     },
     "execution_count": 93,
     "metadata": {},
     "output_type": "execute_result"
    }
   ],
   "source": [
    "# 튜플 길이보기\n",
    "f = (1, 2, 3, [\"a\",\"b\",\"c\"])\n",
    "len(f)#출력 : 4"
   ]
  },
  {
   "cell_type": "code",
   "execution_count": 100,
   "id": "fcd50f30",
   "metadata": {},
   "outputs": [
    {
     "ename": "TypeError",
     "evalue": "'tuple' object does not support item assignment",
     "output_type": "error",
     "traceback": [
      "\u001b[1;31m---------------------------\u001b[0m",
      "\u001b[1;31mTypeError\u001b[0mTraceback (most recent call last)",
      "Cell \u001b[1;32mIn[100], line 3\u001b[0m\n\u001b[0;32m      1\u001b[0m \u001b[38;5;66;03m# 튜플 추가, 수정, 삭제 불가능\u001b[39;00m\n\u001b[0;32m      2\u001b[0m b\u001b[38;5;66;03m#출력:(1, 2, 3)\u001b[39;00m\n\u001b[1;32m----> 3\u001b[0m b[\u001b[38;5;241m1\u001b[39m]\u001b[38;5;241m=\u001b[39m\u001b[38;5;241m3\u001b[39m\n",
      "\u001b[1;31mTypeError\u001b[0m: 'tuple' object does not support item assignment"
     ]
    }
   ],
   "source": [
    "# 튜플 추가, 수정, 삭제 불가능\n",
    "b#출력:(1, 2, 3)\n",
    "b[1]=3\n"
   ]
  },
  {
   "cell_type": "code",
   "execution_count": 105,
   "id": "326e78c5",
   "metadata": {},
   "outputs": [
    {
     "data": {
      "text/plain": [
       "(1, 2, 3, ['a', 'g', 'c'])"
      ]
     },
     "execution_count": 105,
     "metadata": {},
     "output_type": "execute_result"
    }
   ],
   "source": [
    "#튜플 안에 리스트는 수정 됨?\n",
    "f #출력:(1, 2, 3, ['a', 'b', 'c'])\n",
    "#f[3] #['a', 'b', 'c'] ->리스트 요소를 지정! ->리스트는 수정 가능하기 때문에 튜플 안에 리스트 수정 가능!\n",
    "f[3][1] = 'g'\n",
    "f #자:수정가능"
   ]
  },
  {
   "cell_type": "code",
   "execution_count": 107,
   "id": "b8968af8",
   "metadata": {},
   "outputs": [
    {
     "data": {
      "text/plain": [
       "(2, 1)"
      ]
     },
     "execution_count": 107,
     "metadata": {},
     "output_type": "execute_result"
    }
   ],
   "source": [
    "# 치환\n",
    "A = 1\n",
    "B = 2\n",
    "\n",
    "temp = A\n",
    "A = B\n",
    "B = temp\n",
    "\n",
    "A,B #출력 : (2, 1)"
   ]
  },
  {
   "cell_type": "code",
   "execution_count": 109,
   "id": "aab29c4b",
   "metadata": {},
   "outputs": [
    {
     "data": {
      "text/plain": [
       "(2, 1)"
      ]
     },
     "execution_count": 109,
     "metadata": {},
     "output_type": "execute_result"
    }
   ],
   "source": [
    "# python 에서의 치환\n",
    "A = 1\n",
    "B = 2\n",
    "\n",
    "A, B = B, A\n",
    "\n",
    "A, B #출력 : (2, 1)"
   ]
  }
 ],
 "metadata": {
  "kernelspec": {
   "display_name": "Python 3 (ipykernel)",
   "language": "python",
   "name": "python3"
  },
  "language_info": {
   "codemirror_mode": {
    "name": "ipython",
    "version": 3
   },
   "file_extension": ".py",
   "mimetype": "text/x-python",
   "name": "python",
   "nbconvert_exporter": "python",
   "pygments_lexer": "ipython3",
   "version": "3.11.5"
  }
 },
 "nbformat": 4,
 "nbformat_minor": 5
}
